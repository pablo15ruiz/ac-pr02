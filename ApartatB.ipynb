{
 "cells": [
  {
   "cell_type": "markdown",
   "id": "b39f2214",
   "metadata": {},
   "source": [
    "### Apartat B"
   ]
  },
  {
   "cell_type": "code",
   "execution_count": 1,
   "id": "d9e0071a",
   "metadata": {},
   "outputs": [],
   "source": [
    "import pandas as pd\n",
    "import numpy as np\n",
    "\n",
    "from sklearn import linear_model, svm, datasets\n",
    "from sklearn.model_selection import train_test_split\n",
    "from sklearn.linear_model import LogisticRegression\n",
    "from sklearn.linear_model import LinearRegression\n",
    "from sklearn import neighbors, tree, naive_bayes\n",
    "from sklearn.metrics import f1_score\n",
    "\n",
    "import matplotlib.pyplot as plt\n",
    "\n",
    "import seaborn as sns"
   ]
  },
  {
   "cell_type": "code",
   "execution_count": 2,
   "id": "5c56e5ef",
   "metadata": {},
   "outputs": [
    {
     "name": "stdout",
     "output_type": "stream",
     "text": [
      "LogisticRegression: 0.9736842105263158\n",
      "SVC: 1.0\n",
      "LinearSVC: 0.8947368421052632\n",
      "SVC: 0.9736842105263158\n",
      "SVC: 1.0\n",
      "SGDClassifier: 0.9736842105263158\n",
      "KNeighborsClassifier: 0.9736842105263158\n",
      "DecisionTreeClassifier: 0.9736842105263158\n",
      "GaussianNB: 0.9736842105263158\n"
     ]
    }
   ],
   "source": [
    "np.random.seed(1)\n",
    "\n",
    "iris = datasets.load_iris()\n",
    "X, y = iris.data, iris.target\n",
    "\n",
    "X_train, X_test, y_train, y_test = train_test_split(X, y)\n",
    "\n",
    "classifiers = [\n",
    "    LogisticRegression(max_iter=10000),\n",
    "    svm.SVC(kernel='linear', C=1.0),\n",
    "    svm.LinearSVC(C=1.0, max_iter=1000000),\n",
    "    svm.SVC(kernel='rbf', gamma=0.7, C=1.0),\n",
    "    svm.SVC(kernel='poly', degree=3, gamma='auto', C=1.0),\n",
    "    linear_model.SGDClassifier(loss=\"modified_huber\", alpha=0.1),\n",
    "    neighbors.KNeighborsClassifier(n_neighbors=15),\n",
    "    tree.DecisionTreeClassifier(),\n",
    "    naive_bayes.GaussianNB()\n",
    "]\n",
    "\n",
    "scores = {}\n",
    "\n",
    "for classifier in classifiers:\n",
    "    classifier.fit(X_train, y_train)\n",
    "    y_pred = classifier.predict(X_test)\n",
    "    score = classifier.score(X_test, y_test)\n",
    "    print(f'{classifier.__class__.__name__}: {score}')\n",
    "    scores[classifier.__class__.__name__] = score\n",
    "\n",
    "# scores\n",
    "\n",
    "# plt.figure(figsize=(14, 3))\n",
    "# plt.bar(scores.keys(), scores.values())"
   ]
  },
  {
   "cell_type": "code",
   "execution_count": 3,
   "id": "13bcabe9",
   "metadata": {},
   "outputs": [
    {
     "name": "stderr",
     "output_type": "stream",
     "text": [
      "No handles with labels found to put in legend.\n"
     ]
    },
    {
     "data": {
      "text/plain": [
       "<matplotlib.legend.Legend at 0x236cd145cd0>"
      ]
     },
     "execution_count": 3,
     "metadata": {},
     "output_type": "execute_result"
    },
    {
     "data": {
      "text/plain": [
       "<Figure size 432x288 with 0 Axes>"
      ]
     },
     "metadata": {},
     "output_type": "display_data"
    },
    {
     "data": {
      "image/png": "[encoded data removed]",
      "text/plain": [
       "<Figure size 432x288 with 1 Axes>"
      ]
     },
     "metadata": {
      "needs_background": "light"
     },
     "output_type": "display_data"
    }
   ],
   "source": [
    "from sklearn.metrics import f1_score, precision_recall_curve, average_precision_score, roc_curve, auc\n",
    "\n",
    "n_classes = 0\n",
    "\n",
    "# Compute Precision-Recall and plot curve\n",
    "precision = {}\n",
    "recall = {}\n",
    "average_precision = {}\n",
    "plt.figure()\n",
    "for i in range(n_classes):\n",
    "    precision[i], recall[i], _ = precision_recall_curve(y_v == i, probs[:, i])\n",
    "    average_precision[i] = average_precision_score(y_v == i, probs[:, i])\n",
    "\n",
    "    plt.plot(recall[i], precision[i],\n",
    "    label='Precision-recall curve of class {0} (area = {1:0.2f})'\n",
    "                           ''.format(i, average_precision[i]))\n",
    "    plt.xlabel('Recall')\n",
    "    plt.ylabel('Precision')\n",
    "    plt.legend(loc=\"upper right\")\n",
    "\n",
    "    \n",
    "# Compute ROC curve and ROC area for each class\n",
    "fpr = {}\n",
    "tpr = {}\n",
    "roc_auc = {}\n",
    "for i in range(n_classes):\n",
    "    fpr[i], tpr[i], _ = roc_curve(y_v == i, probs[:, i])\n",
    "    roc_auc[i] = auc(fpr[i], tpr[i])\n",
    "\n",
    "# Compute micro-average ROC curve and ROC area\n",
    "# Plot ROC curve\n",
    "plt.figure()\n",
    "for i in range(n_classes):\n",
    "    plt.plot(fpr[i], tpr[i], label='ROC curve of class {0} (area = {1:0.2f})' ''.format(i, roc_auc[i]))\n",
    "plt.legend()"
   ]
  },
  {
   "cell_type": "code",
   "execution_count": null,
   "id": "be6184af",
   "metadata": {},
   "outputs": [],
   "source": []
  }
 ],
 "metadata": {
  "kernelspec": {
   "display_name": "Python 3 (ipykernel)",
   "language": "python",
   "name": "python3"
  },
  "language_info": {
   "codemirror_mode": {
    "name": "ipython",
    "version": 3
   },
   "file_extension": ".py",
   "mimetype": "text/x-python",
   "name": "python",
   "nbconvert_exporter": "python",
   "pygments_lexer": "ipython3",
   "version": "3.9.6"
  }
 },
 "nbformat": 4,
 "nbformat_minor": 5
}
