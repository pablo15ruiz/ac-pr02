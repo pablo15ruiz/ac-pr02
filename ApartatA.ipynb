{
 "cells": [
  {
   "cell_type": "markdown",
   "source": "# Apartat A",
   "metadata": {
    "tags": [],
    "cell_id": "00000-aa9010e7-30f5-44c8-9e76-a2e8a2b4cd3a",
    "deepnote_cell_type": "markdown"
   }
  },
  {
   "cell_type": "code",
   "metadata": {
    "tags": [],
    "cell_id": "00002-51e96638-1096-4142-93b4-158406d2b0b9",
    "deepnote_to_be_reexecuted": false,
    "source_hash": "3ee460b4",
    "execution_start": 1638263842924,
    "execution_millis": 1923,
    "deepnote_cell_type": "code"
   },
   "source": "import ast\n\nimport pandas as pd\nimport numpy as np\n\nfrom sklearn import linear_model, svm, datasets\nfrom sklearn.model_selection import train_test_split\nfrom sklearn.linear_model import LogisticRegression\nfrom sklearn.linear_model import LinearRegression\nfrom sklearn import neighbors, tree, naive_bayes\nfrom sklearn.metrics import f1_score\nfrom sklearn.preprocessing import MinMaxScaler\n\nimport scipy\n\nimport matplotlib.pyplot as plt\n\nimport seaborn as sns",
   "execution_count": 1,
   "outputs": []
  },
  {
   "cell_type": "markdown",
   "source": "### APARTAT A",
   "metadata": {
    "tags": [],
    "is_collapsed": false,
    "cell_id": "00011-4b6f1399-160f-44d5-b132-c580133c8828",
    "deepnote_cell_type": "text-cell-h3"
   }
  },
  {
   "cell_type": "code",
   "metadata": {
    "tags": [],
    "cell_id": "00008-b0476294-8fe7-4c7d-9e8e-bf15a5533452",
    "deepnote_to_be_reexecuted": false,
    "source_hash": "513ae3af",
    "execution_start": 1638263844869,
    "execution_millis": 4,
    "deepnote_cell_type": "code"
   },
   "source": "# EDA\n#41 Atributs\n#tipus definits a baix\n#El target és un tipus int (0,1) depenen de si és llegendari o no (dos classes)\n#taula de correlacions amb els valors de baix\n#histogrames a baix, majoria balancejades pero l'atribut objectiu hi ha pocs de classe 1 (llegendaris)\n\n#muy pocos legendarios, estudiamos datasets con igual numero de pokemons legendarios y no legendarios o todos juntos? pq tambien es importante que existen pocos legendarios\n",
   "execution_count": 2,
   "outputs": []
  },
  {
   "cell_type": "markdown",
   "source": "**name**: The English name of the Pokemon\\\n**japanese_name**: The Original Japanese name of the Pokemon\\\n**pokedex_number**: The entry number of the Pokemon in the National Pokedex\\\n**percentage_male**: The percentage of the species that are male. Blank if the Pokemon is genderless.\\\n**type1**: The Primary Type of the Pokemon\\\n**type2**: The Secondary Type of the Pokemon\\\n**classification**: The Classification of the Pokemon as described by the Sun and Moon Pokedex\\\n**height_m**: Height of the Pokemon in metres\\\n**weight_kg**: The Weight of the Pokemon in kilograms\\\n**capture_rate**: Capture Rate of the Pokemon\\\n**baseeggsteps**: The number of steps required to hatch an egg of the Pokemon\\\n**abilities**: A stringified list of abilities that the Pokemon is capable of having\\\n**experience_growth**: The Experience Growth of the Pokemon\\\n**base_happiness**: Base Happiness of the Pokemon\\\n**against_?**: Eighteen features that denote the amount of damage taken against an attack of a particular type\\\n**hp**: The Base HP of the Pokemon\\\n**attack**: The Base Attack of the Pokemon\\\n**defense**: The Base Defense of the Pokemon\\\n**sp_attack**: The Base Special Attack of the Pokemon\\\n**sp_defense**: The Base Special Defense of the Pokemon\\\n**speed**: The Base Speed of the Pokemon\\\n**generation**: The numbered generation which the Pokemon was first introduced\\\n**is_legendary**: Denotes if the Pokemon is legendary.",
   "metadata": {
    "tags": [],
    "cell_id": "00002-5716dc13-7d15-4c57-9721-4d6f925e0882",
    "deepnote_cell_type": "markdown"
   }
  },
  {
   "cell_type": "code",
   "metadata": {
    "tags": [],
    "cell_id": "00003-296dea32-d900-40a9-a51e-145a096545fb",
    "deepnote_to_be_reexecuted": false,
    "source_hash": "fab7edfe",
    "execution_start": 1638263844915,
    "execution_millis": 10,
    "deepnote_cell_type": "code"
   },
   "source": "df = pd.read_csv('pokemon.csv')",
   "execution_count": 4,
   "outputs": []
  },
  {
   "cell_type": "code",
   "metadata": {
    "tags": [],
    "cell_id": "00010-da824209-a54a-454a-a227-ee9e19dcebb7",
    "deepnote_to_be_reexecuted": false,
    "source_hash": "2b6a02b8",
    "execution_start": 1638264321657,
    "execution_millis": 0,
    "deepnote_output_heights": [
     232.328125
    ],
    "deepnote_cell_type": "code"
   },
   "source": "OBJECTIVE = 'is_legendary'\nFILTER_RATE = 0.1\nNORMAL_LIMIT = 1e-3\nNAMES = df['name']",
   "execution_count": 39,
   "outputs": []
  },
  {
   "cell_type": "code",
   "metadata": {
    "tags": [],
    "cell_id": "00012-d8702565-cecd-4464-999a-03c3767e3efe",
    "deepnote_to_be_reexecuted": false,
    "source_hash": "2ed2139e",
    "execution_start": 1638263844938,
    "execution_millis": 68,
    "deepnote_output_heights": [
     610.984375
    ],
    "deepnote_cell_type": "code"
   },
   "source": "pd.concat(\n    [df.dtypes, df.corr()[OBJECTIVE], df.isnull().sum()],\n    axis=1,\n    keys=['dtypes', 'corr', 'null']\n)",
   "execution_count": 5,
   "outputs": [
    {
     "output_type": "execute_result",
     "execution_count": 5,
     "data": {
      "application/vnd.deepnote.dataframe.v2+json": {
       "row_count": 41,
       "column_count": 3,
       "columns": [
        {
         "name": "dtypes",
         "dtype": "object",
         "stats": {
          "unique_count": 3,
          "nan_count": 0,
          "categories": [
           {
            "name": "float64",
            "count": 21
           },
           {
            "name": "int64",
            "count": 13
           },
           {
            "name": "object",
            "count": 7
           }
          ]
         }
        },
        {
         "name": "corr",
         "dtype": "float64",
         "stats": {
          "unique_count": 34,
          "nan_count": 7,
          "min": "-0.413107763749429",
          "max": "1.0",
          "histogram": [
           {
            "bin_start": -0.413107763749429,
            "bin_end": -0.2717969873744861,
            "count": 1
           },
           {
            "bin_start": -0.2717969873744861,
            "bin_end": -0.13048621099954322,
            "count": 0
           },
           {
            "bin_start": -0.13048621099954322,
            "bin_end": 0.010824565375399664,
            "count": 12
           },
           {
            "bin_start": 0.010824565375399664,
            "bin_end": 0.15213534175034255,
            "count": 7
           },
           {
            "bin_start": 0.15213534175034255,
            "bin_end": 0.29344611812528537,
            "count": 3
           },
           {
            "bin_start": 0.29344611812528537,
            "bin_end": 0.4347568945002283,
            "count": 8
           },
           {
            "bin_start": 0.4347568945002283,
            "bin_end": 0.5760676708751713,
            "count": 1
           },
           {
            "bin_start": 0.5760676708751713,
            "bin_end": 0.7173784472501141,
            "count": 0
           },
           {
            "bin_start": 0.7173784472501141,
            "bin_end": 0.858689223625057,
            "count": 0
           },
           {
            "bin_start": 0.858689223625057,
            "bin_end": 1,
            "count": 2
           }
          ]
         }
        },
        {
         "name": "null",
         "dtype": "int64",
         "stats": {
          "unique_count": 4,
          "nan_count": 0,
          "min": "0",
          "max": "384",
          "histogram": [
           {
            "bin_start": 0,
            "bin_end": 38.4,
            "count": 39
           },
           {
            "bin_start": 38.4,
            "bin_end": 76.8,
            "count": 0
           },
           {
            "bin_start": 76.8,
            "bin_end": 115.19999999999999,
            "count": 1
           },
           {
            "bin_start": 115.19999999999999,
            "bin_end": 153.6,
            "count": 0
           },
           {
            "bin_start": 153.6,
            "bin_end": 192,
            "count": 0
           },
           {
            "bin_start": 192,
            "bin_end": 230.39999999999998,
            "count": 0
           },
           {
            "bin_start": 230.39999999999998,
            "bin_end": 268.8,
            "count": 0
           },
           {
            "bin_start": 268.8,
            "bin_end": 307.2,
            "count": 0
           },
           {
            "bin_start": 307.2,
            "bin_end": 345.59999999999997,
            "count": 0
           },
           {
            "bin_start": 345.59999999999997,
            "bin_end": 384,
            "count": 1
           }
          ]
         }
        },
        {
         "name": "_deepnote_index_column",
         "dtype": "object"
        }
       ],
       "rows_top": [
        {
         "dtypes": "object",
         "corr": "nan",
         "null": 0,
         "_deepnote_index_column": "abilities"
        },
        {
         "dtypes": "float64",
         "corr": 0.02786427944023967,
         "null": 0,
         "_deepnote_index_column": "against_bug"
        },
        {
         "dtypes": "float64",
         "corr": 0.13631482476387397,
         "null": 0,
         "_deepnote_index_column": "against_dark"
        },
        {
         "dtypes": "float64",
         "corr": 0.01484402609241376,
         "null": 0,
         "_deepnote_index_column": "against_dragon"
        },
        {
         "dtypes": "float64",
         "corr": -0.023151342661683484,
         "null": 0,
         "_deepnote_index_column": "against_electric"
        },
        {
         "dtypes": "float64",
         "corr": 0.05016464845790988,
         "null": 0,
         "_deepnote_index_column": "against_fairy"
        },
        {
         "dtypes": "float64",
         "corr": -0.05913181476569912,
         "null": 0,
         "_deepnote_index_column": "against_fight"
        },
        {
         "dtypes": "float64",
         "corr": -0.011073175214409729,
         "null": 0,
         "_deepnote_index_column": "against_fire"
        },
        {
         "dtypes": "float64",
         "corr": -0.06221435221239515,
         "null": 0,
         "_deepnote_index_column": "against_flying"
        },
        {
         "dtypes": "float64",
         "corr": 0.17074604417726724,
         "null": 0,
         "_deepnote_index_column": "against_ghost"
        },
        {
         "dtypes": "float64",
         "corr": -0.07082641467201804,
         "null": 0,
         "_deepnote_index_column": "against_grass"
        },
        {
         "dtypes": "float64",
         "corr": 0.012811627505193632,
         "null": 0,
         "_deepnote_index_column": "against_ground"
        },
        {
         "dtypes": "float64",
         "corr": 0.005579844836986058,
         "null": 0,
         "_deepnote_index_column": "against_ice"
        },
        {
         "dtypes": "float64",
         "corr": -0.03476089960549853,
         "null": 0,
         "_deepnote_index_column": "against_normal"
        },
        {
         "dtypes": "float64",
         "corr": -0.02434898801982335,
         "null": 0,
         "_deepnote_index_column": "against_poison"
        },
        {
         "dtypes": "float64",
         "corr": -0.10604743653227608,
         "null": 0,
         "_deepnote_index_column": "against_psychic"
        },
        {
         "dtypes": "float64",
         "corr": -0.017587651296233534,
         "null": 0,
         "_deepnote_index_column": "against_rock"
        },
        {
         "dtypes": "float64",
         "corr": 0.001396851578671305,
         "null": 0,
         "_deepnote_index_column": "against_steel"
        },
        {
         "dtypes": "float64",
         "corr": -0.02067858363923538,
         "null": 0,
         "_deepnote_index_column": "against_water"
        },
        {
         "dtypes": "int64",
         "corr": 0.30329459092249633,
         "null": 0,
         "_deepnote_index_column": "attack"
        },
        {
         "dtypes": "int64",
         "corr": 0.8734883403994574,
         "null": 0,
         "_deepnote_index_column": "base_egg_steps"
        },
        {
         "dtypes": "int64",
         "corr": -0.413107763749429,
         "null": 0,
         "_deepnote_index_column": "base_happiness"
        },
        {
         "dtypes": "int64",
         "corr": 0.4854398227998631,
         "null": 0,
         "_deepnote_index_column": "base_total"
        },
        {
         "dtypes": "object",
         "corr": "nan",
         "null": 0,
         "_deepnote_index_column": "capture_rate"
        },
        {
         "dtypes": "object",
         "corr": "nan",
         "null": 0,
         "_deepnote_index_column": "classfication"
        },
        {
         "dtypes": "int64",
         "corr": 0.2655865663065888,
         "null": 0,
         "_deepnote_index_column": "defense"
        },
        {
         "dtypes": "int64",
         "corr": 0.36103808795276743,
         "null": 0,
         "_deepnote_index_column": "experience_growth"
        },
        {
         "dtypes": "float64",
         "corr": 0.3221549380726307,
         "null": 20,
         "_deepnote_index_column": "height_m"
        },
        {
         "dtypes": "int64",
         "corr": 0.3084053543107977,
         "null": 0,
         "_deepnote_index_column": "hp"
        },
        {
         "dtypes": "object",
         "corr": "nan",
         "null": 0,
         "_deepnote_index_column": "japanese_name"
        },
        {
         "dtypes": "object",
         "corr": "nan",
         "null": 0,
         "_deepnote_index_column": "name"
        },
        {
         "dtypes": "float64",
         "corr": 0.04522179922603002,
         "null": 98,
         "_deepnote_index_column": "percentage_male"
        },
        {
         "dtypes": "int64",
         "corr": 0.1967853255879007,
         "null": 0,
         "_deepnote_index_column": "pokedex_number"
        },
        {
         "dtypes": "int64",
         "corr": 0.40628116273875475,
         "null": 0,
         "_deepnote_index_column": "sp_attack"
        },
        {
         "dtypes": "int64",
         "corr": 0.3432405311610392,
         "null": 0,
         "_deepnote_index_column": "sp_defense"
        },
        {
         "dtypes": "int64",
         "corr": 0.311639077359042,
         "null": 0,
         "_deepnote_index_column": "speed"
        },
        {
         "dtypes": "object",
         "corr": "nan",
         "null": 0,
         "_deepnote_index_column": "type1"
        },
        {
         "dtypes": "object",
         "corr": "nan",
         "null": 384,
         "_deepnote_index_column": "type2"
        },
        {
         "dtypes": "float64",
         "corr": 0.3930229936196924,
         "null": 20,
         "_deepnote_index_column": "weight_kg"
        },
        {
         "dtypes": "int64",
         "corr": 0.13902939929195227,
         "null": 0,
         "_deepnote_index_column": "generation"
        },
        {
         "dtypes": "int64",
         "corr": 1,
         "null": 0,
         "_deepnote_index_column": "is_legendary"
        }
       ],
       "rows_bottom": null
      },
      "text/plain": "                    dtypes      corr  null\nabilities           object       NaN     0\nagainst_bug        float64  0.027864     0\nagainst_dark       float64  0.136315     0\nagainst_dragon     float64  0.014844     0\nagainst_electric   float64 -0.023151     0\nagainst_fairy      float64  0.050165     0\nagainst_fight      float64 -0.059132     0\nagainst_fire       float64 -0.011073     0\nagainst_flying     float64 -0.062214     0\nagainst_ghost      float64  0.170746     0\nagainst_grass      float64 -0.070826     0\nagainst_ground     float64  0.012812     0\nagainst_ice        float64  0.005580     0\nagainst_normal     float64 -0.034761     0\nagainst_poison     float64 -0.024349     0\nagainst_psychic    float64 -0.106047     0\nagainst_rock       float64 -0.017588     0\nagainst_steel      float64  0.001397     0\nagainst_water      float64 -0.020679     0\nattack               int64  0.303295     0\nbase_egg_steps       int64  0.873488     0\nbase_happiness       int64 -0.413108     0\nbase_total           int64  0.485440     0\ncapture_rate        object       NaN     0\nclassfication       object       NaN     0\ndefense              int64  0.265587     0\nexperience_growth    int64  0.361038     0\nheight_m           float64  0.322155    20\nhp                   int64  0.308405     0\njapanese_name       object       NaN     0\nname                object       NaN     0\npercentage_male    float64  0.045222    98\npokedex_number       int64  0.196785     0\nsp_attack            int64  0.406281     0\nsp_defense           int64  0.343241     0\nspeed                int64  0.311639     0\ntype1               object       NaN     0\ntype2               object       NaN   384\nweight_kg          float64  0.393023    20\ngeneration           int64  0.139029     0\nis_legendary         int64  1.000000     0",
      "text/html": "<div>\n<style scoped>\n    .dataframe tbody tr th:only-of-type {\n        vertical-align: middle;\n    }\n\n    .dataframe tbody tr th {\n        vertical-align: top;\n    }\n\n    .dataframe thead th {\n        text-align: right;\n    }\n</style>\n<table border=\"1\" class=\"dataframe\">\n  <thead>\n    <tr style=\"text-align: right;\">\n      <th></th>\n      <th>dtypes</th>\n      <th>corr</th>\n      <th>null</th>\n    </tr>\n  </thead>\n  <tbody>\n    <tr>\n      <th>abilities</th>\n      <td>object</td>\n      <td>NaN</td>\n      <td>0</td>\n    </tr>\n    <tr>\n      <th>against_bug</th>\n      <td>float64</td>\n      <td>0.027864</td>\n      <td>0</td>\n    </tr>\n    <tr>\n      <th>against_dark</th>\n      <td>float64</td>\n      <td>0.136315</td>\n      <td>0</td>\n    </tr>\n    <tr>\n      <th>against_dragon</th>\n      <td>float64</td>\n      <td>0.014844</td>\n      <td>0</td>\n    </tr>\n    <tr>\n      <th>against_electric</th>\n      <td>float64</td>\n      <td>-0.023151</td>\n      <td>0</td>\n    </tr>\n    <tr>\n      <th>against_fairy</th>\n      <td>float64</td>\n      <td>0.050165</td>\n      <td>0</td>\n    </tr>\n    <tr>\n      <th>against_fight</th>\n      <td>float64</td>\n      <td>-0.059132</td>\n      <td>0</td>\n    </tr>\n    <tr>\n      <th>against_fire</th>\n      <td>float64</td>\n      <td>-0.011073</td>\n      <td>0</td>\n    </tr>\n    <tr>\n      <th>against_flying</th>\n      <td>float64</td>\n      <td>-0.062214</td>\n      <td>0</td>\n    </tr>\n    <tr>\n      <th>against_ghost</th>\n      <td>float64</td>\n      <td>0.170746</td>\n      <td>0</td>\n    </tr>\n    <tr>\n      <th>against_grass</th>\n      <td>float64</td>\n      <td>-0.070826</td>\n      <td>0</td>\n    </tr>\n    <tr>\n      <th>against_ground</th>\n      <td>float64</td>\n      <td>0.012812</td>\n      <td>0</td>\n    </tr>\n    <tr>\n      <th>against_ice</th>\n      <td>float64</td>\n      <td>0.005580</td>\n      <td>0</td>\n    </tr>\n    <tr>\n      <th>against_normal</th>\n      <td>float64</td>\n      <td>-0.034761</td>\n      <td>0</td>\n    </tr>\n    <tr>\n      <th>against_poison</th>\n      <td>float64</td>\n      <td>-0.024349</td>\n      <td>0</td>\n    </tr>\n    <tr>\n      <th>against_psychic</th>\n      <td>float64</td>\n      <td>-0.106047</td>\n      <td>0</td>\n    </tr>\n    <tr>\n      <th>against_rock</th>\n      <td>float64</td>\n      <td>-0.017588</td>\n      <td>0</td>\n    </tr>\n    <tr>\n      <th>against_steel</th>\n      <td>float64</td>\n      <td>0.001397</td>\n      <td>0</td>\n    </tr>\n    <tr>\n      <th>against_water</th>\n      <td>float64</td>\n      <td>-0.020679</td>\n      <td>0</td>\n    </tr>\n    <tr>\n      <th>attack</th>\n      <td>int64</td>\n      <td>0.303295</td>\n      <td>0</td>\n    </tr>\n    <tr>\n      <th>base_egg_steps</th>\n      <td>int64</td>\n      <td>0.873488</td>\n      <td>0</td>\n    </tr>\n    <tr>\n      <th>base_happiness</th>\n      <td>int64</td>\n      <td>-0.413108</td>\n      <td>0</td>\n    </tr>\n    <tr>\n      <th>base_total</th>\n      <td>int64</td>\n      <td>0.485440</td>\n      <td>0</td>\n    </tr>\n    <tr>\n      <th>capture_rate</th>\n      <td>object</td>\n      <td>NaN</td>\n      <td>0</td>\n    </tr>\n    <tr>\n      <th>classfication</th>\n      <td>object</td>\n      <td>NaN</td>\n      <td>0</td>\n    </tr>\n    <tr>\n      <th>defense</th>\n      <td>int64</td>\n      <td>0.265587</td>\n      <td>0</td>\n    </tr>\n    <tr>\n      <th>experience_growth</th>\n      <td>int64</td>\n      <td>0.361038</td>\n      <td>0</td>\n    </tr>\n    <tr>\n      <th>height_m</th>\n      <td>float64</td>\n      <td>0.322155</td>\n      <td>20</td>\n    </tr>\n    <tr>\n      <th>hp</th>\n      <td>int64</td>\n      <td>0.308405</td>\n      <td>0</td>\n    </tr>\n    <tr>\n      <th>japanese_name</th>\n      <td>object</td>\n      <td>NaN</td>\n      <td>0</td>\n    </tr>\n    <tr>\n      <th>name</th>\n      <td>object</td>\n      <td>NaN</td>\n      <td>0</td>\n    </tr>\n    <tr>\n      <th>percentage_male</th>\n      <td>float64</td>\n      <td>0.045222</td>\n      <td>98</td>\n    </tr>\n    <tr>\n      <th>pokedex_number</th>\n      <td>int64</td>\n      <td>0.196785</td>\n      <td>0</td>\n    </tr>\n    <tr>\n      <th>sp_attack</th>\n      <td>int64</td>\n      <td>0.406281</td>\n      <td>0</td>\n    </tr>\n    <tr>\n      <th>sp_defense</th>\n      <td>int64</td>\n      <td>0.343241</td>\n      <td>0</td>\n    </tr>\n    <tr>\n      <th>speed</th>\n      <td>int64</td>\n      <td>0.311639</td>\n      <td>0</td>\n    </tr>\n    <tr>\n      <th>type1</th>\n      <td>object</td>\n      <td>NaN</td>\n      <td>0</td>\n    </tr>\n    <tr>\n      <th>type2</th>\n      <td>object</td>\n      <td>NaN</td>\n      <td>384</td>\n    </tr>\n    <tr>\n      <th>weight_kg</th>\n      <td>float64</td>\n      <td>0.393023</td>\n      <td>20</td>\n    </tr>\n    <tr>\n      <th>generation</th>\n      <td>int64</td>\n      <td>0.139029</td>\n      <td>0</td>\n    </tr>\n    <tr>\n      <th>is_legendary</th>\n      <td>int64</td>\n      <td>1.000000</td>\n      <td>0</td>\n    </tr>\n  </tbody>\n</table>\n</div>"
     },
     "metadata": {}
    }
   ]
  },
  {
   "cell_type": "code",
   "metadata": {
    "tags": [],
    "cell_id": "00014-9f08b52c-1469-4e88-ad9f-bfcf2156bdeb",
    "deepnote_to_be_reexecuted": false,
    "source_hash": "78daa2e2",
    "execution_start": 1638263845016,
    "execution_millis": 8,
    "deepnote_cell_type": "code"
   },
   "source": "# hist = df.hist(figsize=(16, 16))",
   "execution_count": 6,
   "outputs": []
  },
  {
   "cell_type": "code",
   "metadata": {
    "tags": [],
    "cell_id": "00019-0430ee38-cbdd-4d36-8bf5-d16679e96cbc",
    "deepnote_to_be_reexecuted": false,
    "source_hash": "c753e5a",
    "execution_start": 1638263845031,
    "execution_millis": 22,
    "deepnote_output_heights": [
     59.578125
    ],
    "deepnote_cell_type": "code"
   },
   "source": "df[OBJECTIVE].value_counts()",
   "execution_count": 7,
   "outputs": [
    {
     "output_type": "execute_result",
     "execution_count": 7,
     "data": {
      "text/plain": "0    731\n1     70\nName: is_legendary, dtype: int64"
     },
     "metadata": {}
    }
   ]
  },
  {
   "cell_type": "markdown",
   "source": "**Preprocessing**",
   "metadata": {
    "tags": [],
    "cell_id": "00011-87819ce3-56fc-472c-808c-bb3d283817e2",
    "deepnote_cell_type": "markdown"
   }
  },
  {
   "cell_type": "code",
   "metadata": {
    "tags": [],
    "cell_id": "00018-a0334903-ce71-4fbb-827e-3cca2bf4a228",
    "deepnote_to_be_reexecuted": false,
    "source_hash": "d0941da6",
    "execution_start": 1638263845060,
    "execution_millis": 12361,
    "deepnote_cell_type": "code"
   },
   "source": "# 2. Preprocessing\n#No estàn normalitzades, \n#No té sentit intentar normalitzar ja que la majoria de dades que tenim són binàries\n#No tenim gaires nan's excepte en el type2, no podem reomplir-les degut a que són strings\n# (faltar contestar mes coses aqui...) Canvis dataset: En la columna capture_rate hi ha un valor que és de tipus object que no té sentit, hem ficat el valor de 70 al buscar el capture rate del pokemon a internet\n# Tenim algunes variables categòriques com: classification, type1, type2, name i japanese_name, abilities (lista)\n#",
   "execution_count": 8,
   "outputs": []
  },
  {
   "cell_type": "code",
   "metadata": {
    "tags": [],
    "cell_id": "00018-8b722ac1-c640-42ae-95b7-256acf91c29d",
    "deepnote_to_be_reexecuted": false,
    "source_hash": "f8fd0b2b",
    "execution_start": 1638263845119,
    "execution_millis": 1,
    "deepnote_cell_type": "code"
   },
   "source": "df.at[df['name'] == 'Minior', 'capture_rate'] = 70  # Because '30 (Meteorite)255 (Core)'\ndf['capture_rate'] = df['capture_rate'].astype('int64')",
   "execution_count": 9,
   "outputs": []
  },
  {
   "cell_type": "code",
   "metadata": {
    "tags": [],
    "cell_id": "00011-2f5868ef-3349-4556-92f6-814d591d0de1",
    "deepnote_to_be_reexecuted": false,
    "source_hash": "9ce50d9d",
    "execution_start": 1638263845120,
    "execution_millis": 433,
    "deepnote_output_heights": [
     21.1875
    ],
    "deepnote_cell_type": "code"
   },
   "source": "df.describe().loc[['mean', '50%', 'std']]",
   "execution_count": 10,
   "outputs": [
    {
     "output_type": "execute_result",
     "execution_count": 10,
     "data": {
      "application/vnd.deepnote.dataframe.v2+json": {
       "row_count": 3,
       "column_count": 35,
       "columns": [
        {
         "name": "against_bug",
         "dtype": "float64",
         "stats": {
          "unique_count": 3,
          "nan_count": 0,
          "min": "0.5972476078279257",
          "max": "1.0",
          "histogram": [
           {
            "bin_start": 0.5972476078279257,
            "bin_end": 0.6375228470451332,
            "count": 1
           },
           {
            "bin_start": 0.6375228470451332,
            "bin_end": 0.6777980862623406,
            "count": 0
           },
           {
            "bin_start": 0.6777980862623406,
            "bin_end": 0.718073325479548,
            "count": 0
           },
           {
            "bin_start": 0.718073325479548,
            "bin_end": 0.7583485646967554,
            "count": 0
           },
           {
            "bin_start": 0.7583485646967554,
            "bin_end": 0.7986238039139628,
            "count": 0
           },
           {
            "bin_start": 0.7986238039139628,
            "bin_end": 0.8388990431311703,
            "count": 0
           },
           {
            "bin_start": 0.8388990431311703,
            "bin_end": 0.8791742823483777,
            "count": 0
           },
           {
            "bin_start": 0.8791742823483777,
            "bin_end": 0.9194495215655851,
            "count": 0
           },
           {
            "bin_start": 0.9194495215655851,
            "bin_end": 0.9597247607827926,
            "count": 0
           },
           {
            "bin_start": 0.9597247607827926,
            "bin_end": 1,
            "count": 2
           }
          ]
         }
        },
        {
         "name": "against_dark",
         "dtype": "float64",
         "stats": {
          "unique_count": 3,
          "nan_count": 0,
          "min": "0.43814158414011445",
          "max": "1.057116104868914",
          "histogram": [
           {
            "bin_start": 0.43814158414011445,
            "bin_end": 0.5000390362129944,
            "count": 1
           },
           {
            "bin_start": 0.5000390362129944,
            "bin_end": 0.5619364882858744,
            "count": 0
           },
           {
            "bin_start": 0.5619364882858744,
            "bin_end": 0.6238339403587543,
            "count": 0
           },
           {
            "bin_start": 0.6238339403587543,
            "bin_end": 0.6857313924316343,
            "count": 0
           },
           {
            "bin_start": 0.6857313924316343,
            "bin_end": 0.7476288445045143,
            "count": 0
           },
           {
            "bin_start": 0.7476288445045143,
            "bin_end": 0.8095262965773942,
            "count": 0
           },
           {
            "bin_start": 0.8095262965773942,
            "bin_end": 0.8714237486502742,
            "count": 0
           },
           {
            "bin_start": 0.8714237486502742,
            "bin_end": 0.9333212007231542,
            "count": 0
           },
           {
            "bin_start": 0.9333212007231542,
            "bin_end": 0.995218652796034,
            "count": 0
           },
           {
            "bin_start": 0.995218652796034,
            "bin_end": 1.057116104868914,
            "count": 2
           }
          ]
         }
        },
        {
         "name": "against_dragon",
         "dtype": "float64",
         "stats": {
          "unique_count": 3,
          "nan_count": 0,
          "min": "0.3530575826676876",
          "max": "1.0",
          "histogram": [
           {
            "bin_start": 0.3530575826676876,
            "bin_end": 0.41775182440091885,
            "count": 1
           },
           {
            "bin_start": 0.41775182440091885,
            "bin_end": 0.4824460661341501,
            "count": 0
           },
           {
            "bin_start": 0.4824460661341501,
            "bin_end": 0.5471403078673813,
            "count": 0
           },
           {
            "bin_start": 0.5471403078673813,
            "bin_end": 0.6118345496006126,
            "count": 0
           },
           {
            "bin_start": 0.6118345496006126,
            "bin_end": 0.6765287913338438,
            "count": 0
           },
           {
            "bin_start": 0.6765287913338438,
            "bin_end": 0.741223033067075,
            "count": 0
           },
           {
            "bin_start": 0.741223033067075,
            "bin_end": 0.8059172748003063,
            "count": 0
           },
           {
            "bin_start": 0.8059172748003063,
            "bin_end": 0.8706115165335375,
            "count": 0
           },
           {
            "bin_start": 0.8706115165335375,
            "bin_end": 0.9353057582667688,
            "count": 0
           },
           {
            "bin_start": 0.9353057582667688,
            "bin_end": 1,
            "count": 2
           }
          ]
         }
        },
        {
         "name": "against_electric",
         "dtype": "float64",
         "stats": {
          "unique_count": 3,
          "nan_count": 0,
          "min": "0.6549616165097948",
          "max": "1.0739700374531835",
          "histogram": [
           {
            "bin_start": 0.6549616165097948,
            "bin_end": 0.6968624586041336,
            "count": 1
           },
           {
            "bin_start": 0.6968624586041336,
            "bin_end": 0.7387633006984725,
            "count": 0
           },
           {
            "bin_start": 0.7387633006984725,
            "bin_end": 0.7806641427928114,
            "count": 0
           },
           {
            "bin_start": 0.7806641427928114,
            "bin_end": 0.8225649848871504,
            "count": 0
           },
           {
            "bin_start": 0.8225649848871504,
            "bin_end": 0.8644658269814891,
            "count": 0
           },
           {
            "bin_start": 0.8644658269814891,
            "bin_end": 0.9063666690758281,
            "count": 0
           },
           {
            "bin_start": 0.9063666690758281,
            "bin_end": 0.9482675111701669,
            "count": 0
           },
           {
            "bin_start": 0.9482675111701669,
            "bin_end": 0.9901683532645058,
            "count": 0
           },
           {
            "bin_start": 0.9901683532645058,
            "bin_end": 1.0320691953588446,
            "count": 1
           },
           {
            "bin_start": 1.0320691953588446,
            "bin_end": 1.0739700374531835,
            "count": 1
           }
          ]
         }
        },
        {
         "name": "against_fairy",
         "dtype": "float64",
         "stats": {
          "unique_count": 3,
          "nan_count": 0,
          "min": "0.522166832235294",
          "max": "1.068976279650437",
          "histogram": [
           {
            "bin_start": 0.522166832235294,
            "bin_end": 0.5768477769768083,
            "count": 1
           },
           {
            "bin_start": 0.5768477769768083,
            "bin_end": 0.6315287217183226,
            "count": 0
           },
           {
            "bin_start": 0.6315287217183226,
            "bin_end": 0.6862096664598369,
            "count": 0
           },
           {
            "bin_start": 0.6862096664598369,
            "bin_end": 0.7408906112013511,
            "count": 0
           },
           {
            "bin_start": 0.7408906112013511,
            "bin_end": 0.7955715559428655,
            "count": 0
           },
           {
            "bin_start": 0.7955715559428655,
            "bin_end": 0.8502525006843797,
            "count": 0
           },
           {
            "bin_start": 0.8502525006843797,
            "bin_end": 0.904933445425894,
            "count": 0
           },
           {
            "bin_start": 0.904933445425894,
            "bin_end": 0.9596143901674083,
            "count": 0
           },
           {
            "bin_start": 0.9596143901674083,
            "bin_end": 1.0142953349089225,
            "count": 1
           },
           {
            "bin_start": 1.0142953349089225,
            "bin_end": 1.068976279650437,
            "count": 1
           }
          ]
         }
        },
        {
         "name": "against_fight",
         "dtype": "float64",
         "stats": {
          "unique_count": 3,
          "nan_count": 0,
          "min": "0.7172508180232743",
          "max": "1.0655430711610487",
          "histogram": [
           {
            "bin_start": 0.7172508180232743,
            "bin_end": 0.7520800433370517,
            "count": 1
           },
           {
            "bin_start": 0.7520800433370517,
            "bin_end": 0.7869092686508292,
            "count": 0
           },
           {
            "bin_start": 0.7869092686508292,
            "bin_end": 0.8217384939646066,
            "count": 0
           },
           {
            "bin_start": 0.8217384939646066,
            "bin_end": 0.856567719278384,
            "count": 0
           },
           {
            "bin_start": 0.856567719278384,
            "bin_end": 0.8913969445921615,
            "count": 0
           },
           {
            "bin_start": 0.8913969445921615,
            "bin_end": 0.926226169905939,
            "count": 0
           },
           {
            "bin_start": 0.926226169905939,
            "bin_end": 0.9610553952197164,
            "count": 0
           },
           {
            "bin_start": 0.9610553952197164,
            "bin_end": 0.9958846205334939,
            "count": 0
           },
           {
            "bin_start": 0.9958846205334939,
            "bin_end": 1.0307138458472713,
            "count": 1
           },
           {
            "bin_start": 1.0307138458472713,
            "bin_end": 1.0655430711610487,
            "count": 1
           }
          ]
         }
        },
        {
         "name": "against_fire",
         "dtype": "float64",
         "stats": {
          "unique_count": 3,
          "nan_count": 0,
          "min": "0.6918526384612678",
          "max": "1.1354556803995006",
          "histogram": [
           {
            "bin_start": 0.6918526384612678,
            "bin_end": 0.7362129426550911,
            "count": 1
           },
           {
            "bin_start": 0.7362129426550911,
            "bin_end": 0.7805732468489144,
            "count": 0
           },
           {
            "bin_start": 0.7805732468489144,
            "bin_end": 0.8249335510427376,
            "count": 0
           },
           {
            "bin_start": 0.8249335510427376,
            "bin_end": 0.8692938552365609,
            "count": 0
           },
           {
            "bin_start": 0.8692938552365609,
            "bin_end": 0.9136541594303842,
            "count": 0
           },
           {
            "bin_start": 0.9136541594303842,
            "bin_end": 0.9580144636242075,
            "count": 0
           },
           {
            "bin_start": 0.9580144636242075,
            "bin_end": 1.0023747678180308,
            "count": 1
           },
           {
            "bin_start": 1.0023747678180308,
            "bin_end": 1.046735072011854,
            "count": 0
           },
           {
            "bin_start": 1.046735072011854,
            "bin_end": 1.0910953762056774,
            "count": 0
           },
           {
            "bin_start": 1.0910953762056774,
            "bin_end": 1.1354556803995006,
            "count": 1
           }
          ]
         }
        },
        {
         "name": "against_flying",
         "dtype": "float64",
         "stats": {
          "unique_count": 3,
          "nan_count": 0,
          "min": "0.6044878392100282",
          "max": "1.192883895131086",
          "histogram": [
           {
            "bin_start": 0.6044878392100282,
            "bin_end": 0.663327444802134,
            "count": 1
           },
           {
            "bin_start": 0.663327444802134,
            "bin_end": 0.7221670503942398,
            "count": 0
           },
           {
            "bin_start": 0.7221670503942398,
            "bin_end": 0.7810066559863456,
            "count": 0
           },
           {
            "bin_start": 0.7810066559863456,
            "bin_end": 0.8398462615784514,
            "count": 0
           },
           {
            "bin_start": 0.8398462615784514,
            "bin_end": 0.8986858671705571,
            "count": 0
           },
           {
            "bin_start": 0.8986858671705571,
            "bin_end": 0.957525472762663,
            "count": 0
           },
           {
            "bin_start": 0.957525472762663,
            "bin_end": 1.0163650783547689,
            "count": 1
           },
           {
            "bin_start": 1.0163650783547689,
            "bin_end": 1.0752046839468745,
            "count": 0
           },
           {
            "bin_start": 1.0752046839468745,
            "bin_end": 1.1340442895389802,
            "count": 0
           },
           {
            "bin_start": 1.1340442895389802,
            "bin_end": 1.192883895131086,
            "count": 1
           }
          ]
         }
        },
        {
         "name": "against_ghost",
         "dtype": "float64",
         "stats": {
          "unique_count": 3,
          "nan_count": 0,
          "min": "0.5582564651653185",
          "max": "1.0",
          "histogram": [
           {
            "bin_start": 0.5582564651653185,
            "bin_end": 0.6024308186487866,
            "count": 1
           },
           {
            "bin_start": 0.6024308186487866,
            "bin_end": 0.6466051721322548,
            "count": 0
           },
           {
            "bin_start": 0.6466051721322548,
            "bin_end": 0.690779525615723,
            "count": 0
           },
           {
            "bin_start": 0.690779525615723,
            "bin_end": 0.7349538790991911,
            "count": 0
           },
           {
            "bin_start": 0.7349538790991911,
            "bin_end": 0.7791282325826592,
            "count": 0
           },
           {
            "bin_start": 0.7791282325826592,
            "bin_end": 0.8233025860661274,
            "count": 0
           },
           {
            "bin_start": 0.8233025860661274,
            "bin_end": 0.8674769395495956,
            "count": 0
           },
           {
            "bin_start": 0.8674769395495956,
            "bin_end": 0.9116512930330637,
            "count": 0
           },
           {
            "bin_start": 0.9116512930330637,
            "bin_end": 0.9558256465165318,
            "count": 0
           },
           {
            "bin_start": 0.9558256465165318,
            "bin_end": 1,
            "count": 2
           }
          ]
         }
        },
        {
         "name": "against_grass",
         "dtype": "float64",
         "stats": {
          "unique_count": 3,
          "nan_count": 0,
          "min": "0.7888959497934436",
          "max": "1.034019975031211",
          "histogram": [
           {
            "bin_start": 0.7888959497934436,
            "bin_end": 0.8134083523172203,
            "count": 1
           },
           {
            "bin_start": 0.8134083523172203,
            "bin_end": 0.837920754840997,
            "count": 0
           },
           {
            "bin_start": 0.837920754840997,
            "bin_end": 0.8624331573647738,
            "count": 0
           },
           {
            "bin_start": 0.8624331573647738,
            "bin_end": 0.8869455598885505,
            "count": 0
           },
           {
            "bin_start": 0.8869455598885505,
            "bin_end": 0.9114579624123272,
            "count": 0
           },
           {
            "bin_start": 0.9114579624123272,
            "bin_end": 0.935970364936104,
            "count": 0
           },
           {
            "bin_start": 0.935970364936104,
            "bin_end": 0.9604827674598807,
            "count": 0
           },
           {
            "bin_start": 0.9604827674598807,
            "bin_end": 0.9849951699836574,
            "count": 0
           },
           {
            "bin_start": 0.9849951699836574,
            "bin_end": 1.009507572507434,
            "count": 1
           },
           {
            "bin_start": 1.009507572507434,
            "bin_end": 1.034019975031211,
            "count": 1
           }
          ]
         }
        },
        {
         "name": "against_ground",
         "dtype": "float64",
         "stats": {
          "unique_count": 3,
          "nan_count": 0,
          "min": "0.7388181474447942",
          "max": "1.0980024968789013",
          "histogram": [
           {
            "bin_start": 0.7388181474447942,
            "bin_end": 0.774736582388205,
            "count": 1
           },
           {
            "bin_start": 0.774736582388205,
            "bin_end": 0.8106550173316156,
            "count": 0
           },
           {
            "bin_start": 0.8106550173316156,
            "bin_end": 0.8465734522750263,
            "count": 0
           },
           {
            "bin_start": 0.8465734522750263,
            "bin_end": 0.8824918872184371,
            "count": 0
           },
           {
            "bin_start": 0.8824918872184371,
            "bin_end": 0.9184103221618478,
            "count": 0
           },
           {
            "bin_start": 0.9184103221618478,
            "bin_end": 0.9543287571052584,
            "count": 0
           },
           {
            "bin_start": 0.9543287571052584,
            "bin_end": 0.9902471920486692,
            "count": 0
           },
           {
            "bin_start": 0.9902471920486692,
            "bin_end": 1.0261656269920798,
            "count": 1
           },
           {
            "bin_start": 1.0261656269920798,
            "bin_end": 1.0620840619354905,
            "count": 0
           },
           {
            "bin_start": 1.0620840619354905,
            "bin_end": 1.0980024968789013,
            "count": 1
           }
          ]
         }
        },
        {
         "name": "against_ice",
         "dtype": "float64",
         "stats": {
          "unique_count": 3,
          "nan_count": 0,
          "min": "0.7353561542090226",
          "max": "1.2081772784019975",
          "histogram": [
           {
            "bin_start": 0.7353561542090226,
            "bin_end": 0.78263826662832,
            "count": 1
           },
           {
            "bin_start": 0.78263826662832,
            "bin_end": 0.8299203790476175,
            "count": 0
           },
           {
            "bin_start": 0.8299203790476175,
            "bin_end": 0.877202491466915,
            "count": 0
           },
           {
            "bin_start": 0.877202491466915,
            "bin_end": 0.9244846038862126,
            "count": 0
           },
           {
            "bin_start": 0.9244846038862126,
            "bin_end": 0.97176671630551,
            "count": 0
           },
           {
            "bin_start": 0.97176671630551,
            "bin_end": 1.0190488287248076,
            "count": 1
           },
           {
            "bin_start": 1.0190488287248076,
            "bin_end": 1.066330941144105,
            "count": 0
           },
           {
            "bin_start": 1.066330941144105,
            "bin_end": 1.1136130535634026,
            "count": 0
           },
           {
            "bin_start": 1.1136130535634026,
            "bin_end": 1.1608951659827,
            "count": 0
           },
           {
            "bin_start": 1.1608951659827,
            "bin_end": 1.2081772784019975,
            "count": 1
           }
          ]
         }
        },
        {
         "name": "against_normal",
         "dtype": "float64",
         "stats": {
          "unique_count": 3,
          "nan_count": 0,
          "min": "0.2661061085098709",
          "max": "1.0",
          "histogram": [
           {
            "bin_start": 0.2661061085098709,
            "bin_end": 0.33949549765888376,
            "count": 1
           },
           {
            "bin_start": 0.33949549765888376,
            "bin_end": 0.4128848868078967,
            "count": 0
           },
           {
            "bin_start": 0.4128848868078967,
            "bin_end": 0.48627427595690964,
            "count": 0
           },
           {
            "bin_start": 0.48627427595690964,
            "bin_end": 0.5596636651059226,
            "count": 0
           },
           {
            "bin_start": 0.5596636651059226,
            "bin_end": 0.6330530542549355,
            "count": 0
           },
           {
            "bin_start": 0.6330530542549355,
            "bin_end": 0.7064424434039484,
            "count": 0
           },
           {
            "bin_start": 0.7064424434039484,
            "bin_end": 0.7798318325529612,
            "count": 0
           },
           {
            "bin_start": 0.7798318325529612,
            "bin_end": 0.8532212217019741,
            "count": 0
           },
           {
            "bin_start": 0.8532212217019741,
            "bin_end": 0.9266106108509871,
            "count": 1
           },
           {
            "bin_start": 0.9266106108509871,
            "bin_end": 1,
            "count": 1
           }
          ]
         }
        },
        {
         "name": "against_poison",
         "dtype": "float64",
         "stats": {
          "unique_count": 3,
          "nan_count": 0,
          "min": "0.5493752481077557",
          "max": "1.0",
          "histogram": [
           {
            "bin_start": 0.5493752481077557,
            "bin_end": 0.5944377232969802,
            "count": 1
           },
           {
            "bin_start": 0.5944377232969802,
            "bin_end": 0.6395001984862045,
            "count": 0
           },
           {
            "bin_start": 0.6395001984862045,
            "bin_end": 0.684562673675429,
            "count": 0
           },
           {
            "bin_start": 0.684562673675429,
            "bin_end": 0.7296251488646535,
            "count": 0
           },
           {
            "bin_start": 0.7296251488646535,
            "bin_end": 0.7746876240538778,
            "count": 0
           },
           {
            "bin_start": 0.7746876240538778,
            "bin_end": 0.8197500992431023,
            "count": 0
           },
           {
            "bin_start": 0.8197500992431023,
            "bin_end": 0.8648125744323267,
            "count": 0
           },
           {
            "bin_start": 0.8648125744323267,
            "bin_end": 0.9098750496215511,
            "count": 0
           },
           {
            "bin_start": 0.9098750496215511,
            "bin_end": 0.9549375248107755,
            "count": 0
           },
           {
            "bin_start": 0.9549375248107755,
            "bin_end": 1,
            "count": 2
           }
          ]
         }
        },
        {
         "name": "against_psychic",
         "dtype": "float64",
         "stats": {
          "unique_count": 3,
          "nan_count": 0,
          "min": "0.49518298393424975",
          "max": "1.0053058676654183",
          "histogram": [
           {
            "bin_start": 0.49518298393424975,
            "bin_end": 0.5461952723073666,
            "count": 1
           },
           {
            "bin_start": 0.5461952723073666,
            "bin_end": 0.5972075606804834,
            "count": 0
           },
           {
            "bin_start": 0.5972075606804834,
            "bin_end": 0.6482198490536003,
            "count": 0
           },
           {
            "bin_start": 0.6482198490536003,
            "bin_end": 0.6992321374267172,
            "count": 0
           },
           {
            "bin_start": 0.6992321374267172,
            "bin_end": 0.750244425799834,
            "count": 0
           },
           {
            "bin_start": 0.750244425799834,
            "bin_end": 0.8012567141729509,
            "count": 0
           },
           {
            "bin_start": 0.8012567141729509,
            "bin_end": 0.8522690025460677,
            "count": 0
           },
           {
            "bin_start": 0.8522690025460677,
            "bin_end": 0.9032812909191845,
            "count": 0
           },
           {
            "bin_start": 0.9032812909191845,
            "bin_end": 0.9542935792923014,
            "count": 0
           },
           {
            "bin_start": 0.9542935792923014,
            "bin_end": 1.0053058676654183,
            "count": 2
           }
          ]
         }
        },
        {
         "name": "against_rock",
         "dtype": "float64",
         "stats": {
          "unique_count": 3,
          "nan_count": 0,
          "min": "0.6971481388239288",
          "max": "1.2503121098626717",
          "histogram": [
           {
            "bin_start": 0.6971481388239288,
            "bin_end": 0.752464535927803,
            "count": 1
           },
           {
            "bin_start": 0.752464535927803,
            "bin_end": 0.8077809330316774,
            "count": 0
           },
           {
            "bin_start": 0.8077809330316774,
            "bin_end": 0.8630973301355517,
            "count": 0
           },
           {
            "bin_start": 0.8630973301355517,
            "bin_end": 0.9184137272394259,
            "count": 0
           },
           {
            "bin_start": 0.9184137272394259,
            "bin_end": 0.9737301243433003,
            "count": 0
           },
           {
            "bin_start": 0.9737301243433003,
            "bin_end": 1.0290465214471745,
            "count": 1
           },
           {
            "bin_start": 1.0290465214471745,
            "bin_end": 1.0843629185510488,
            "count": 0
           },
           {
            "bin_start": 1.0843629185510488,
            "bin_end": 1.1396793156549232,
            "count": 0
           },
           {
            "bin_start": 1.1396793156549232,
            "bin_end": 1.1949957127587973,
            "count": 0
           },
           {
            "bin_start": 1.1949957127587973,
            "bin_end": 1.2503121098626717,
            "count": 1
           }
          ]
         }
        },
        {
         "name": "against_steel",
         "dtype": "float64",
         "stats": {
          "unique_count": 3,
          "nan_count": 0,
          "min": "0.5001166374568772",
          "max": "1.0",
          "histogram": [
           {
            "bin_start": 0.5001166374568772,
            "bin_end": 0.5501049737111895,
            "count": 1
           },
           {
            "bin_start": 0.5501049737111895,
            "bin_end": 0.6000933099655017,
            "count": 0
           },
           {
            "bin_start": 0.6000933099655017,
            "bin_end": 0.650081646219814,
            "count": 0
           },
           {
            "bin_start": 0.650081646219814,
            "bin_end": 0.7000699824741263,
            "count": 0
           },
           {
            "bin_start": 0.7000699824741263,
            "bin_end": 0.7500583187284386,
            "count": 0
           },
           {
            "bin_start": 0.7500583187284386,
            "bin_end": 0.8000466549827508,
            "count": 0
           },
           {
            "bin_start": 0.8000466549827508,
            "bin_end": 0.8500349912370632,
            "count": 0
           },
           {
            "bin_start": 0.8500349912370632,
            "bin_end": 0.9000233274913754,
            "count": 0
           },
           {
            "bin_start": 0.9000233274913754,
            "bin_end": 0.9500116637456877,
            "count": 0
           },
           {
            "bin_start": 0.9500116637456877,
            "bin_end": 1,
            "count": 2
           }
          ]
         }
        },
        {
         "name": "against_water",
         "dtype": "float64",
         "stats": {
          "unique_count": 3,
          "nan_count": 0,
          "min": "0.6065619893640908",
          "max": "1.0583645443196006",
          "histogram": [
           {
            "bin_start": 0.6065619893640908,
            "bin_end": 0.6517422448596417,
            "count": 1
           },
           {
            "bin_start": 0.6517422448596417,
            "bin_end": 0.6969225003551928,
            "count": 0
           },
           {
            "bin_start": 0.6969225003551928,
            "bin_end": 0.7421027558507437,
            "count": 0
           },
           {
            "bin_start": 0.7421027558507437,
            "bin_end": 0.7872830113462947,
            "count": 0
           },
           {
            "bin_start": 0.7872830113462947,
            "bin_end": 0.8324632668418457,
            "count": 0
           },
           {
            "bin_start": 0.8324632668418457,
            "bin_end": 0.8776435223373966,
            "count": 0
           },
           {
            "bin_start": 0.8776435223373966,
            "bin_end": 0.9228237778329476,
            "count": 0
           },
           {
            "bin_start": 0.9228237778329476,
            "bin_end": 0.9680040333284986,
            "count": 0
           },
           {
            "bin_start": 0.9680040333284986,
            "bin_end": 1.0131842888240497,
            "count": 1
           },
           {
            "bin_start": 1.0131842888240497,
            "bin_end": 1.0583645443196006,
            "count": 1
           }
          ]
         }
        },
        {
         "name": "attack",
         "dtype": "float64",
         "stats": {
          "unique_count": 3,
          "nan_count": 0,
          "min": "32.1588202380175",
          "max": "77.85767790262172",
          "histogram": [
           {
            "bin_start": 32.1588202380175,
            "bin_end": 36.72870600447792,
            "count": 1
           },
           {
            "bin_start": 36.72870600447792,
            "bin_end": 41.298591770938344,
            "count": 0
           },
           {
            "bin_start": 41.298591770938344,
            "bin_end": 45.86847753739876,
            "count": 0
           },
           {
            "bin_start": 45.86847753739876,
            "bin_end": 50.438363303859184,
            "count": 0
           },
           {
            "bin_start": 50.438363303859184,
            "bin_end": 55.00824907031961,
            "count": 0
           },
           {
            "bin_start": 55.00824907031961,
            "bin_end": 59.57813483678002,
            "count": 0
           },
           {
            "bin_start": 59.57813483678002,
            "bin_end": 64.14802060324044,
            "count": 0
           },
           {
            "bin_start": 64.14802060324044,
            "bin_end": 68.71790636970087,
            "count": 0
           },
           {
            "bin_start": 68.71790636970087,
            "bin_end": 73.2877921361613,
            "count": 0
           },
           {
            "bin_start": 73.2877921361613,
            "bin_end": 77.85767790262172,
            "count": 2
           }
          ]
         }
        },
        {
         "name": "base_egg_steps",
         "dtype": "float64",
         "stats": {
          "unique_count": 3,
          "nan_count": 0,
          "min": "5120.0",
          "max": "7191.011235955056",
          "histogram": [
           {
            "bin_start": 5120,
            "bin_end": 5327.101123595506,
            "count": 1
           },
           {
            "bin_start": 5327.101123595506,
            "bin_end": 5534.202247191011,
            "count": 0
           },
           {
            "bin_start": 5534.202247191011,
            "bin_end": 5741.303370786517,
            "count": 0
           },
           {
            "bin_start": 5741.303370786517,
            "bin_end": 5948.404494382023,
            "count": 0
           },
           {
            "bin_start": 5948.404494382023,
            "bin_end": 6155.505617977527,
            "count": 0
           },
           {
            "bin_start": 6155.505617977527,
            "bin_end": 6362.606741573034,
            "count": 0
           },
           {
            "bin_start": 6362.606741573034,
            "bin_end": 6569.707865168539,
            "count": 1
           },
           {
            "bin_start": 6569.707865168539,
            "bin_end": 6776.808988764044,
            "count": 0
           },
           {
            "bin_start": 6776.808988764044,
            "bin_end": 6983.91011235955,
            "count": 0
           },
           {
            "bin_start": 6983.91011235955,
            "bin_end": 7191.011235955056,
            "count": 1
           }
          ]
         }
        },
        {
         "name": "base_happiness",
         "dtype": "float64",
         "stats": {
          "unique_count": 3,
          "nan_count": 0,
          "min": "19.59894787489233",
          "max": "70.0",
          "histogram": [
           {
            "bin_start": 19.59894787489233,
            "bin_end": 24.639053087403095,
            "count": 1
           },
           {
            "bin_start": 24.639053087403095,
            "bin_end": 29.679158299913862,
            "count": 0
           },
           {
            "bin_start": 29.679158299913862,
            "bin_end": 34.71926351242463,
            "count": 0
           },
           {
            "bin_start": 34.71926351242463,
            "bin_end": 39.7593687249354,
            "count": 0
           },
           {
            "bin_start": 39.7593687249354,
            "bin_end": 44.799473937446166,
            "count": 0
           },
           {
            "bin_start": 44.799473937446166,
            "bin_end": 49.83957914995693,
            "count": 0
           },
           {
            "bin_start": 49.83957914995693,
            "bin_end": 54.8796843624677,
            "count": 0
           },
           {
            "bin_start": 54.8796843624677,
            "bin_end": 59.919789574978466,
            "count": 0
           },
           {
            "bin_start": 59.919789574978466,
            "bin_end": 64.95989478748923,
            "count": 0
           },
           {
            "bin_start": 64.95989478748923,
            "bin_end": 70,
            "count": 2
           }
          ]
         }
        },
        {
         "name": "base_total",
         "dtype": "float64",
         "stats": {
          "unique_count": 3,
          "nan_count": 0,
          "min": "119.20357658921323",
          "max": "435.0",
          "histogram": [
           {
            "bin_start": 119.20357658921323,
            "bin_end": 150.7832189302919,
            "count": 1
           },
           {
            "bin_start": 150.7832189302919,
            "bin_end": 182.36286127137058,
            "count": 0
           },
           {
            "bin_start": 182.36286127137058,
            "bin_end": 213.94250361244923,
            "count": 0
           },
           {
            "bin_start": 213.94250361244923,
            "bin_end": 245.5221459535279,
            "count": 0
           },
           {
            "bin_start": 245.5221459535279,
            "bin_end": 277.1017882946066,
            "count": 0
           },
           {
            "bin_start": 277.1017882946066,
            "bin_end": 308.6814306356853,
            "count": 0
           },
           {
            "bin_start": 308.6814306356853,
            "bin_end": 340.26107297676396,
            "count": 0
           },
           {
            "bin_start": 340.26107297676396,
            "bin_end": 371.84071531784264,
            "count": 0
           },
           {
            "bin_start": 371.84071531784264,
            "bin_end": 403.4203576589213,
            "count": 0
           },
           {
            "bin_start": 403.4203576589213,
            "bin_end": 435,
            "count": 2
           }
          ]
         }
        },
        {
         "name": "capture_rate",
         "dtype": "float64",
         "stats": {
          "unique_count": 3,
          "nan_count": 0,
          "min": "60.0",
          "max": "98.72534332084894",
          "histogram": [
           {
            "bin_start": 60,
            "bin_end": 63.872534332084896,
            "count": 1
           },
           {
            "bin_start": 63.872534332084896,
            "bin_end": 67.74506866416979,
            "count": 0
           },
           {
            "bin_start": 67.74506866416979,
            "bin_end": 71.61760299625467,
            "count": 0
           },
           {
            "bin_start": 71.61760299625467,
            "bin_end": 75.49013732833957,
            "count": 0
           },
           {
            "bin_start": 75.49013732833957,
            "bin_end": 79.36267166042447,
            "count": 1
           },
           {
            "bin_start": 79.36267166042447,
            "bin_end": 83.23520599250936,
            "count": 0
           },
           {
            "bin_start": 83.23520599250936,
            "bin_end": 87.10774032459426,
            "count": 0
           },
           {
            "bin_start": 87.10774032459426,
            "bin_end": 90.98027465667914,
            "count": 0
           },
           {
            "bin_start": 90.98027465667914,
            "bin_end": 94.85280898876405,
            "count": 0
           },
           {
            "bin_start": 94.85280898876405,
            "bin_end": 98.72534332084894,
            "count": 1
           }
          ]
         }
        },
        {
         "name": "defense",
         "dtype": "float64",
         "stats": {
          "unique_count": 3,
          "nan_count": 0,
          "min": "30.76915945444535",
          "max": "73.00873907615481",
          "histogram": [
           {
            "bin_start": 30.76915945444535,
            "bin_end": 34.9931174166163,
            "count": 1
           },
           {
            "bin_start": 34.9931174166163,
            "bin_end": 39.21707537878724,
            "count": 0
           },
           {
            "bin_start": 39.21707537878724,
            "bin_end": 43.441033340958185,
            "count": 0
           },
           {
            "bin_start": 43.441033340958185,
            "bin_end": 47.664991303129135,
            "count": 0
           },
           {
            "bin_start": 47.664991303129135,
            "bin_end": 51.888949265300084,
            "count": 0
           },
           {
            "bin_start": 51.888949265300084,
            "bin_end": 56.11290722747103,
            "count": 0
           },
           {
            "bin_start": 56.11290722747103,
            "bin_end": 60.33686518964197,
            "count": 0
           },
           {
            "bin_start": 60.33686518964197,
            "bin_end": 64.56082315181291,
            "count": 0
           },
           {
            "bin_start": 64.56082315181291,
            "bin_end": 68.78478111398385,
            "count": 0
           },
           {
            "bin_start": 68.78478111398385,
            "bin_end": 73.00873907615481,
            "count": 2
           }
          ]
         }
        },
        {
         "name": "experience_growth",
         "dtype": "float64",
         "stats": {
          "unique_count": 3,
          "nan_count": 0,
          "min": "160255.83509567127",
          "max": "1054995.9051186019",
          "histogram": [
           {
            "bin_start": 160255.83509567127,
            "bin_end": 249729.8420979643,
            "count": 1
           },
           {
            "bin_start": 249729.8420979643,
            "bin_end": 339203.8491002574,
            "count": 0
           },
           {
            "bin_start": 339203.8491002574,
            "bin_end": 428677.8561025504,
            "count": 0
           },
           {
            "bin_start": 428677.8561025504,
            "bin_end": 518151.86310484353,
            "count": 0
           },
           {
            "bin_start": 518151.86310484353,
            "bin_end": 607625.8701071366,
            "count": 0
           },
           {
            "bin_start": 607625.8701071366,
            "bin_end": 697099.8771094296,
            "count": 0
           },
           {
            "bin_start": 697099.8771094296,
            "bin_end": 786573.8841117227,
            "count": 0
           },
           {
            "bin_start": 786573.8841117227,
            "bin_end": 876047.8911140157,
            "count": 0
           },
           {
            "bin_start": 876047.8911140157,
            "bin_end": 965521.8981163087,
            "count": 0
           },
           {
            "bin_start": 965521.8981163087,
            "bin_end": 1054995.9051186019,
            "count": 2
           }
          ]
         }
        },
        {
         "name": "height_m",
         "dtype": "float64",
         "stats": {
          "unique_count": 3,
          "nan_count": 0,
          "min": "1.0",
          "max": "1.1638924455825865",
          "histogram": [
           {
            "bin_start": 1,
            "bin_end": 1.0163892445582587,
            "count": 1
           },
           {
            "bin_start": 1.0163892445582587,
            "bin_end": 1.0327784891165173,
            "count": 0
           },
           {
            "bin_start": 1.0327784891165173,
            "bin_end": 1.049167733674776,
            "count": 0
           },
           {
            "bin_start": 1.049167733674776,
            "bin_end": 1.0655569782330345,
            "count": 0
           },
           {
            "bin_start": 1.0655569782330345,
            "bin_end": 1.0819462227912933,
            "count": 1
           },
           {
            "bin_start": 1.0819462227912933,
            "bin_end": 1.098335467349552,
            "count": 0
           },
           {
            "bin_start": 1.098335467349552,
            "bin_end": 1.1147247119078105,
            "count": 0
           },
           {
            "bin_start": 1.1147247119078105,
            "bin_end": 1.1311139564660693,
            "count": 0
           },
           {
            "bin_start": 1.1311139564660693,
            "bin_end": 1.1475032010243278,
            "count": 0
           },
           {
            "bin_start": 1.1475032010243278,
            "bin_end": 1.1638924455825865,
            "count": 1
           }
          ]
         }
        },
        {
         "name": "hp",
         "dtype": "float64",
         "stats": {
          "unique_count": 3,
          "nan_count": 0,
          "min": "26.576014572576486",
          "max": "68.95880149812734",
          "histogram": [
           {
            "bin_start": 26.576014572576486,
            "bin_end": 30.814293265131575,
            "count": 1
           },
           {
            "bin_start": 30.814293265131575,
            "bin_end": 35.05257195768666,
            "count": 0
           },
           {
            "bin_start": 35.05257195768666,
            "bin_end": 39.290850650241744,
            "count": 0
           },
           {
            "bin_start": 39.290850650241744,
            "bin_end": 43.529129342796836,
            "count": 0
           },
           {
            "bin_start": 43.529129342796836,
            "bin_end": 47.76740803535192,
            "count": 0
           },
           {
            "bin_start": 47.76740803535192,
            "bin_end": 52.005686727907005,
            "count": 0
           },
           {
            "bin_start": 52.005686727907005,
            "bin_end": 56.24396542046209,
            "count": 0
           },
           {
            "bin_start": 56.24396542046209,
            "bin_end": 60.482244113017174,
            "count": 0
           },
           {
            "bin_start": 60.482244113017174,
            "bin_end": 64.72052280557226,
            "count": 0
           },
           {
            "bin_start": 64.72052280557226,
            "bin_end": 68.95880149812734,
            "count": 2
           }
          ]
         }
        },
        {
         "name": "percentage_male",
         "dtype": "float64",
         "stats": {
          "unique_count": 3,
          "nan_count": 0,
          "min": "20.26162267725512",
          "max": "55.15576102418208",
          "histogram": [
           {
            "bin_start": 20.26162267725512,
            "bin_end": 23.751036511947813,
            "count": 1
           },
           {
            "bin_start": 23.751036511947813,
            "bin_end": 27.24045034664051,
            "count": 0
           },
           {
            "bin_start": 27.24045034664051,
            "bin_end": 30.729864181333205,
            "count": 0
           },
           {
            "bin_start": 30.729864181333205,
            "bin_end": 34.2192780160259,
            "count": 0
           },
           {
            "bin_start": 34.2192780160259,
            "bin_end": 37.708691850718594,
            "count": 0
           },
           {
            "bin_start": 37.708691850718594,
            "bin_end": 41.19810568541129,
            "count": 0
           },
           {
            "bin_start": 41.19810568541129,
            "bin_end": 44.68751952010399,
            "count": 0
           },
           {
            "bin_start": 44.68751952010399,
            "bin_end": 48.17693335479669,
            "count": 0
           },
           {
            "bin_start": 48.17693335479669,
            "bin_end": 51.66634718948938,
            "count": 1
           },
           {
            "bin_start": 51.66634718948938,
            "bin_end": 55.15576102418208,
            "count": 1
           }
          ]
         }
        },
        {
         "name": "pokedex_number",
         "dtype": "float64",
         "stats": {
          "unique_count": 2,
          "nan_count": 0,
          "min": "231.3730753566629",
          "max": "401.0",
          "histogram": [
           {
            "bin_start": 231.3730753566629,
            "bin_end": 248.3357678209966,
            "count": 1
           },
           {
            "bin_start": 248.3357678209966,
            "bin_end": 265.2984602853303,
            "count": 0
           },
           {
            "bin_start": 265.2984602853303,
            "bin_end": 282.261152749664,
            "count": 0
           },
           {
            "bin_start": 282.261152749664,
            "bin_end": 299.2238452139977,
            "count": 0
           },
           {
            "bin_start": 299.2238452139977,
            "bin_end": 316.18653767833143,
            "count": 0
           },
           {
            "bin_start": 316.18653767833143,
            "bin_end": 333.14923014266515,
            "count": 0
           },
           {
            "bin_start": 333.14923014266515,
            "bin_end": 350.11192260699886,
            "count": 0
           },
           {
            "bin_start": 350.11192260699886,
            "bin_end": 367.0746150713326,
            "count": 0
           },
           {
            "bin_start": 367.0746150713326,
            "bin_end": 384.0373075356663,
            "count": 0
           },
           {
            "bin_start": 384.0373075356663,
            "bin_end": 401,
            "count": 2
           }
          ]
         }
        },
        {
         "name": "sp_attack",
         "dtype": "float64",
         "stats": {
          "unique_count": 3,
          "nan_count": 0,
          "min": "32.35382632746034",
          "max": "71.30586766541823",
          "histogram": [
           {
            "bin_start": 32.35382632746034,
            "bin_end": 36.249030461256126,
            "count": 1
           },
           {
            "bin_start": 36.249030461256126,
            "bin_end": 40.14423459505192,
            "count": 0
           },
           {
            "bin_start": 40.14423459505192,
            "bin_end": 44.039438728847706,
            "count": 0
           },
           {
            "bin_start": 44.039438728847706,
            "bin_end": 47.9346428626435,
            "count": 0
           },
           {
            "bin_start": 47.9346428626435,
            "bin_end": 51.82984699643929,
            "count": 0
           },
           {
            "bin_start": 51.82984699643929,
            "bin_end": 55.72505113023507,
            "count": 0
           },
           {
            "bin_start": 55.72505113023507,
            "bin_end": 59.62025526403086,
            "count": 0
           },
           {
            "bin_start": 59.62025526403086,
            "bin_end": 63.51545939782665,
            "count": 0
           },
           {
            "bin_start": 63.51545939782665,
            "bin_end": 67.41066353162245,
            "count": 1
           },
           {
            "bin_start": 67.41066353162245,
            "bin_end": 71.30586766541823,
            "count": 1
           }
          ]
         }
        },
        {
         "name": "sp_defense",
         "dtype": "float64",
         "stats": {
          "unique_count": 3,
          "nan_count": 0,
          "min": "27.942501378203627",
          "max": "70.91136079900124",
          "histogram": [
           {
            "bin_start": 27.942501378203627,
            "bin_end": 32.239387320283384,
            "count": 1
           },
           {
            "bin_start": 32.239387320283384,
            "bin_end": 36.53627326236315,
            "count": 0
           },
           {
            "bin_start": 36.53627326236315,
            "bin_end": 40.83315920444291,
            "count": 0
           },
           {
            "bin_start": 40.83315920444291,
            "bin_end": 45.130045146522676,
            "count": 0
           },
           {
            "bin_start": 45.130045146522676,
            "bin_end": 49.42693108860243,
            "count": 0
           },
           {
            "bin_start": 49.42693108860243,
            "bin_end": 53.7238170306822,
            "count": 0
           },
           {
            "bin_start": 53.7238170306822,
            "bin_end": 58.02070297276195,
            "count": 0
           },
           {
            "bin_start": 58.02070297276195,
            "bin_end": 62.31758891484172,
            "count": 0
           },
           {
            "bin_start": 62.31758891484172,
            "bin_end": 66.61447485692148,
            "count": 1
           },
           {
            "bin_start": 66.61447485692148,
            "bin_end": 70.91136079900124,
            "count": 1
           }
          ]
         }
        },
        {
         "name": "speed",
         "dtype": "float64",
         "stats": {
          "unique_count": 3,
          "nan_count": 0,
          "min": "28.907661875463354",
          "max": "66.33458177278402",
          "histogram": [
           {
            "bin_start": 28.907661875463354,
            "bin_end": 32.65035386519542,
            "count": 1
           },
           {
            "bin_start": 32.65035386519542,
            "bin_end": 36.393045854927486,
            "count": 0
           },
           {
            "bin_start": 36.393045854927486,
            "bin_end": 40.13573784465956,
            "count": 0
           },
           {
            "bin_start": 40.13573784465956,
            "bin_end": 43.878429834391625,
            "count": 0
           },
           {
            "bin_start": 43.878429834391625,
            "bin_end": 47.62112182412369,
            "count": 0
           },
           {
            "bin_start": 47.62112182412369,
            "bin_end": 51.36381381385576,
            "count": 0
           },
           {
            "bin_start": 51.36381381385576,
            "bin_end": 55.10650580358782,
            "count": 0
           },
           {
            "bin_start": 55.10650580358782,
            "bin_end": 58.84919779331989,
            "count": 0
           },
           {
            "bin_start": 58.84919779331989,
            "bin_end": 62.591889783051954,
            "count": 0
           },
           {
            "bin_start": 62.591889783051954,
            "bin_end": 66.33458177278402,
            "count": 2
           }
          ]
         }
        },
        {
         "name": "weight_kg",
         "dtype": "float64",
         "stats": {
          "unique_count": 3,
          "nan_count": 0,
          "min": "27.3",
          "max": "109.35476585346377",
          "histogram": [
           {
            "bin_start": 27.3,
            "bin_end": 35.50547658534638,
            "count": 1
           },
           {
            "bin_start": 35.50547658534638,
            "bin_end": 43.71095317069276,
            "count": 0
           },
           {
            "bin_start": 43.71095317069276,
            "bin_end": 51.916429756039136,
            "count": 0
           },
           {
            "bin_start": 51.916429756039136,
            "bin_end": 60.12190634138551,
            "count": 0
           },
           {
            "bin_start": 60.12190634138551,
            "bin_end": 68.32738292673189,
            "count": 1
           },
           {
            "bin_start": 68.32738292673189,
            "bin_end": 76.53285951207828,
            "count": 0
           },
           {
            "bin_start": 76.53285951207828,
            "bin_end": 84.73833609742465,
            "count": 0
           },
           {
            "bin_start": 84.73833609742465,
            "bin_end": 92.94381268277102,
            "count": 0
           },
           {
            "bin_start": 92.94381268277102,
            "bin_end": 101.1492892681174,
            "count": 0
           },
           {
            "bin_start": 101.1492892681174,
            "bin_end": 109.35476585346377,
            "count": 1
           }
          ]
         }
        },
        {
         "name": "generation",
         "dtype": "float64",
         "stats": {
          "unique_count": 3,
          "nan_count": 0,
          "min": "1.9304196370300453",
          "max": "4.0",
          "histogram": [
           {
            "bin_start": 1.9304196370300453,
            "bin_end": 2.1373776733270407,
            "count": 1
           },
           {
            "bin_start": 2.1373776733270407,
            "bin_end": 2.344335709624036,
            "count": 0
           },
           {
            "bin_start": 2.344335709624036,
            "bin_end": 2.551293745921032,
            "count": 0
           },
           {
            "bin_start": 2.551293745921032,
            "bin_end": 2.7582517822180272,
            "count": 0
           },
           {
            "bin_start": 2.7582517822180272,
            "bin_end": 2.9652098185150226,
            "count": 0
           },
           {
            "bin_start": 2.9652098185150226,
            "bin_end": 3.172167854812018,
            "count": 0
           },
           {
            "bin_start": 3.172167854812018,
            "bin_end": 3.3791258911090134,
            "count": 0
           },
           {
            "bin_start": 3.3791258911090134,
            "bin_end": 3.5860839274060092,
            "count": 0
           },
           {
            "bin_start": 3.5860839274060092,
            "bin_end": 3.793041963703004,
            "count": 1
           },
           {
            "bin_start": 3.793041963703004,
            "bin_end": 4,
            "count": 1
           }
          ]
         }
        },
        {
         "name": "is_legendary",
         "dtype": "float64",
         "stats": {
          "unique_count": 3,
          "nan_count": 0,
          "min": "0.0",
          "max": "0.28258327686638557",
          "histogram": [
           {
            "bin_start": 0,
            "bin_end": 0.028258327686638558,
            "count": 1
           },
           {
            "bin_start": 0.028258327686638558,
            "bin_end": 0.056516655373277117,
            "count": 0
           },
           {
            "bin_start": 0.056516655373277117,
            "bin_end": 0.08477498305991568,
            "count": 0
           },
           {
            "bin_start": 0.08477498305991568,
            "bin_end": 0.11303331074655423,
            "count": 1
           },
           {
            "bin_start": 0.11303331074655423,
            "bin_end": 0.14129163843319278,
            "count": 0
           },
           {
            "bin_start": 0.14129163843319278,
            "bin_end": 0.16954996611983136,
            "count": 0
           },
           {
            "bin_start": 0.16954996611983136,
            "bin_end": 0.19780829380646991,
            "count": 0
           },
           {
            "bin_start": 0.19780829380646991,
            "bin_end": 0.22606662149310847,
            "count": 0
           },
           {
            "bin_start": 0.22606662149310847,
            "bin_end": 0.254324949179747,
            "count": 0
           },
           {
            "bin_start": 0.254324949179747,
            "bin_end": 0.28258327686638557,
            "count": 1
           }
          ]
         }
        },
        {
         "name": "_deepnote_index_column",
         "dtype": "object"
        }
       ],
       "rows_top": [
        {
         "against_bug": 0.9962546816479401,
         "against_dark": 1.057116104868914,
         "against_dragon": 0.968789013732834,
         "against_electric": 1.0739700374531835,
         "against_fairy": 1.068976279650437,
         "against_fight": 1.0655430711610487,
         "against_fire": 1.1354556803995006,
         "against_flying": 1.192883895131086,
         "against_ghost": 0.9850187265917603,
         "against_grass": 1.034019975031211,
         "against_ground": 1.0980024968789013,
         "against_ice": 1.2081772784019975,
         "against_normal": 0.8870162297128589,
         "against_poison": 0.9753433208489388,
         "against_psychic": 1.0053058676654183,
         "against_rock": 1.2503121098626717,
         "against_steel": 0.983458177278402,
         "against_water": 1.0583645443196006,
         "attack": 77.85767790262172,
         "base_egg_steps": 7191.011235955056,
         "base_happiness": 65.36204744069913,
         "base_total": 428.3770287141074,
         "capture_rate": 98.72534332084894,
         "defense": 73.00873907615481,
         "experience_growth": 1054995.9051186019,
         "height_m": 1.1638924455825865,
         "hp": 68.95880149812734,
         "percentage_male": 55.15576102418208,
         "pokedex_number": 401,
         "sp_attack": 71.30586766541823,
         "sp_defense": 70.91136079900124,
         "speed": 66.33458177278402,
         "weight_kg": 61.378104993597944,
         "generation": 3.690387016229713,
         "is_legendary": 0.08739076154806492,
         "_deepnote_index_column": "mean"
        },
        {
         "against_bug": 1,
         "against_dark": 1,
         "against_dragon": 1,
         "against_electric": 1,
         "against_fairy": 1,
         "against_fight": 1,
         "against_fire": 1,
         "against_flying": 1,
         "against_ghost": 1,
         "against_grass": 1,
         "against_ground": 1,
         "against_ice": 1,
         "against_normal": 1,
         "against_poison": 1,
         "against_psychic": 1,
         "against_rock": 1,
         "against_steel": 1,
         "against_water": 1,
         "attack": 75,
         "base_egg_steps": 5120,
         "base_happiness": 70,
         "base_total": 435,
         "capture_rate": 60,
         "defense": 70,
         "experience_growth": 1000000,
         "height_m": 1,
         "hp": 65,
         "percentage_male": 50,
         "pokedex_number": 401,
         "sp_attack": 65,
         "sp_defense": 66,
         "speed": 65,
         "weight_kg": 27.3,
         "generation": 4,
         "is_legendary": 0,
         "_deepnote_index_column": "50%"
        },
        {
         "against_bug": 0.5972476078279257,
         "against_dark": 0.43814158414011445,
         "against_dragon": 0.3530575826676876,
         "against_electric": 0.6549616165097948,
         "against_fairy": 0.522166832235294,
         "against_fight": 0.7172508180232743,
         "against_fire": 0.6918526384612678,
         "against_flying": 0.6044878392100282,
         "against_ghost": 0.5582564651653185,
         "against_grass": 0.7888959497934436,
         "against_ground": 0.7388181474447942,
         "against_ice": 0.7353561542090226,
         "against_normal": 0.2661061085098709,
         "against_poison": 0.5493752481077557,
         "against_psychic": 0.49518298393424975,
         "against_rock": 0.6971481388239288,
         "against_steel": 0.5001166374568772,
         "against_water": 0.6065619893640908,
         "attack": 32.1588202380175,
         "base_egg_steps": 6558.220421815937,
         "base_happiness": 19.59894787489233,
         "base_total": 119.20357658921323,
         "capture_rate": 76.21692377296024,
         "defense": 30.76915945444535,
         "experience_growth": 160255.83509567127,
         "height_m": 1.080326260646689,
         "hp": 26.576014572576486,
         "percentage_male": 20.26162267725512,
         "pokedex_number": 231.3730753566629,
         "sp_attack": 32.35382632746034,
         "sp_defense": 27.942501378203627,
         "speed": 28.907661875463354,
         "weight_kg": 109.35476585346377,
         "generation": 1.9304196370300453,
         "is_legendary": 0.28258327686638557,
         "_deepnote_index_column": "std"
        }
       ],
       "rows_bottom": null
      },
      "text/plain": "      against_bug  against_dark  against_dragon  against_electric  \\\nmean     0.996255      1.057116        0.968789          1.073970   \n50%      1.000000      1.000000        1.000000          1.000000   \nstd      0.597248      0.438142        0.353058          0.654962   \n\n      against_fairy  against_fight  against_fire  against_flying  \\\nmean       1.068976       1.065543      1.135456        1.192884   \n50%        1.000000       1.000000      1.000000        1.000000   \nstd        0.522167       0.717251      0.691853        0.604488   \n\n      against_ghost  against_grass  ...  height_m         hp  percentage_male  \\\nmean       0.985019       1.034020  ...  1.163892  68.958801        55.155761   \n50%        1.000000       1.000000  ...  1.000000  65.000000        50.000000   \nstd        0.558256       0.788896  ...  1.080326  26.576015        20.261623   \n\n      pokedex_number  sp_attack  sp_defense      speed   weight_kg  \\\nmean      401.000000  71.305868   70.911361  66.334582   61.378105   \n50%       401.000000  65.000000   66.000000  65.000000   27.300000   \nstd       231.373075  32.353826   27.942501  28.907662  109.354766   \n\n      generation  is_legendary  \nmean    3.690387      0.087391  \n50%     4.000000      0.000000  \nstd     1.930420      0.282583  \n\n[3 rows x 35 columns]",
      "text/html": "<div>\n<style scoped>\n    .dataframe tbody tr th:only-of-type {\n        vertical-align: middle;\n    }\n\n    .dataframe tbody tr th {\n        vertical-align: top;\n    }\n\n    .dataframe thead th {\n        text-align: right;\n    }\n</style>\n<table border=\"1\" class=\"dataframe\">\n  <thead>\n    <tr style=\"text-align: right;\">\n      <th></th>\n      <th>against_bug</th>\n      <th>against_dark</th>\n      <th>against_dragon</th>\n      <th>against_electric</th>\n      <th>against_fairy</th>\n      <th>against_fight</th>\n      <th>against_fire</th>\n      <th>against_flying</th>\n      <th>against_ghost</th>\n      <th>against_grass</th>\n      <th>...</th>\n      <th>height_m</th>\n      <th>hp</th>\n      <th>percentage_male</th>\n      <th>pokedex_number</th>\n      <th>sp_attack</th>\n      <th>sp_defense</th>\n      <th>speed</th>\n      <th>weight_kg</th>\n      <th>generation</th>\n      <th>is_legendary</th>\n    </tr>\n  </thead>\n  <tbody>\n    <tr>\n      <th>mean</th>\n      <td>0.996255</td>\n      <td>1.057116</td>\n      <td>0.968789</td>\n      <td>1.073970</td>\n      <td>1.068976</td>\n      <td>1.065543</td>\n      <td>1.135456</td>\n      <td>1.192884</td>\n      <td>0.985019</td>\n      <td>1.034020</td>\n      <td>...</td>\n      <td>1.163892</td>\n      <td>68.958801</td>\n      <td>55.155761</td>\n      <td>401.000000</td>\n      <td>71.305868</td>\n      <td>70.911361</td>\n      <td>66.334582</td>\n      <td>61.378105</td>\n      <td>3.690387</td>\n      <td>0.087391</td>\n    </tr>\n    <tr>\n      <th>50%</th>\n      <td>1.000000</td>\n      <td>1.000000</td>\n      <td>1.000000</td>\n      <td>1.000000</td>\n      <td>1.000000</td>\n      <td>1.000000</td>\n      <td>1.000000</td>\n      <td>1.000000</td>\n      <td>1.000000</td>\n      <td>1.000000</td>\n      <td>...</td>\n      <td>1.000000</td>\n      <td>65.000000</td>\n      <td>50.000000</td>\n      <td>401.000000</td>\n      <td>65.000000</td>\n      <td>66.000000</td>\n      <td>65.000000</td>\n      <td>27.300000</td>\n      <td>4.000000</td>\n      <td>0.000000</td>\n    </tr>\n    <tr>\n      <th>std</th>\n      <td>0.597248</td>\n      <td>0.438142</td>\n      <td>0.353058</td>\n      <td>0.654962</td>\n      <td>0.522167</td>\n      <td>0.717251</td>\n      <td>0.691853</td>\n      <td>0.604488</td>\n      <td>0.558256</td>\n      <td>0.788896</td>\n      <td>...</td>\n      <td>1.080326</td>\n      <td>26.576015</td>\n      <td>20.261623</td>\n      <td>231.373075</td>\n      <td>32.353826</td>\n      <td>27.942501</td>\n      <td>28.907662</td>\n      <td>109.354766</td>\n      <td>1.930420</td>\n      <td>0.282583</td>\n    </tr>\n  </tbody>\n</table>\n<p>3 rows × 35 columns</p>\n</div>"
     },
     "metadata": {}
    }
   ]
  },
  {
   "cell_type": "code",
   "metadata": {
    "tags": [],
    "cell_id": "00021-91758fc3-ed9f-436a-af2c-852ed34de82e",
    "deepnote_to_be_reexecuted": false,
    "source_hash": "ff1543b5",
    "execution_start": 1638263845573,
    "execution_millis": 154,
    "deepnote_cell_type": "code"
   },
   "source": "# Gaussian if (mediana y media similar y desv.std entre el 20 y 30% de la media)\ndesc = df.describe().loc[['mean', '50%', 'std']]",
   "execution_count": 11,
   "outputs": []
  },
  {
   "cell_type": "code",
   "metadata": {
    "tags": [],
    "cell_id": "00013-8a1d6645-cfae-4e58-a1d8-65d39decc440",
    "deepnote_to_be_reexecuted": false,
    "source_hash": "5733b621",
    "execution_start": 1638263845810,
    "execution_millis": 45,
    "deepnote_output_heights": [
     21.1875
    ],
    "deepnote_cell_type": "code"
   },
   "source": "for col in df.select_dtypes(exclude='object'):\n    stat, pvalue = scipy.stats.normaltest(df[col])\n    if pvalue > NORMAL_LIMIT:\n        print(col)",
   "execution_count": 12,
   "outputs": []
  },
  {
   "cell_type": "code",
   "metadata": {
    "tags": [],
    "cell_id": "00015-2299bebf-2d68-4226-b1ad-2338bd9a8e8a",
    "deepnote_to_be_reexecuted": false,
    "source_hash": "646338ea",
    "execution_start": 1638263845856,
    "execution_millis": 46,
    "deepnote_cell_type": "code"
   },
   "source": "#atributs que no es poden normalitzar: generation, is_legendary, els que són objectes",
   "execution_count": 13,
   "outputs": []
  },
  {
   "cell_type": "code",
   "source": "df_2 = df.copy(deep=True)\ndf_2['abilities'] = df['abilities'].apply(ast.literal_eval)\nls = df_2['abilities'].explode()\ndf_2[ls.unique()] = 0\n\nfor idx, row in df_2.iterrows():\n    for cat in row['abilities']:\n        df_2.at[idx, cat] = 1\n    \n    # for cat in ls.unique():\n    #     if(cat in df['abilities'][idx] ):\n    #         df[cat][idx]=1\ndf_2.drop(columns='abilities', inplace=True)\ndf_2.shape",
   "metadata": {
    "tags": [],
    "cell_id": "00017-8492a968-15c7-4fec-8a5e-86c1e97bc2eb",
    "deepnote_to_be_reexecuted": false,
    "source_hash": "637329e0",
    "execution_start": 1638264005242,
    "execution_millis": 364,
    "deepnote_output_heights": [
     21.1875
    ],
    "deepnote_cell_type": "code"
   },
   "outputs": [
    {
     "output_type": "execute_result",
     "execution_count": 21,
     "data": {
      "text/plain": "(801, 267)"
     },
     "metadata": {}
    }
   ],
   "execution_count": 21
  },
  {
   "cell_type": "code",
   "source": "df_2 = df_2.select_dtypes(exclude='object')\n# df_2.drop(columns=['classfication', 'type1', 'type2', 'name', 'japanese_name'], inplace=True)\nfor col in ['classfication', 'type1', 'type2']:\n    df_2 = pd.concat([df_2, pd.get_dummies(df[col])], axis=1)",
   "metadata": {
    "tags": [],
    "cell_id": "00018-97d34722-687f-4876-977c-9d155c4021ee",
    "deepnote_to_be_reexecuted": false,
    "source_hash": "27a2f6e8",
    "execution_start": 1638264376175,
    "execution_millis": 17,
    "deepnote_output_heights": [
     78.765625
    ],
    "deepnote_cell_type": "code"
   },
   "outputs": [],
   "execution_count": 43
  },
  {
   "cell_type": "code",
   "source": "corr = df_2.corr().abs()['is_legendary'].sort_values(ascending=False)\ncorr[corr > FILTER_RATE]",
   "metadata": {
    "tags": [],
    "cell_id": "00020-5ea64d93-163b-4d20-9fd8-650b9d980165",
    "deepnote_to_be_reexecuted": false,
    "source_hash": "9053d355",
    "execution_start": 1638264128339,
    "execution_millis": 2142,
    "deepnote_output_heights": [
     232.328125
    ],
    "deepnote_cell_type": "code"
   },
   "outputs": [
    {
     "output_type": "execute_result",
     "execution_count": 30,
     "data": {
      "text/plain": "is_legendary       1.000000\nbase_egg_steps     0.873488\nbase_total         0.485440\nbase_happiness     0.413108\nsp_attack          0.406281\n                     ...   \nCavern Pokémon     0.114252\ndragon             0.113667\nagainst_psychic    0.106047\nsteel              0.101196\nClear Body         0.100196\nName: is_legendary, Length: 105, dtype: float64"
     },
     "metadata": {}
    }
   ],
   "execution_count": 30
  },
  {
   "cell_type": "code",
   "source": "df_2.dtypes",
   "metadata": {
    "tags": [],
    "cell_id": "00021-23713eb4-ba2a-4758-abdb-436103424a79",
    "deepnote_to_be_reexecuted": false,
    "source_hash": "4d9aa213",
    "execution_start": 1638264195456,
    "execution_millis": 9,
    "deepnote_output_heights": [
     232.328125
    ],
    "deepnote_cell_type": "code"
   },
   "outputs": [
    {
     "output_type": "execute_result",
     "execution_count": 33,
     "data": {
      "text/plain": "against_bug         float64\nagainst_dark        float64\nagainst_dragon      float64\nagainst_electric    float64\nagainst_fairy       float64\n                     ...   \npoison                uint8\npsychic               uint8\nrock                  uint8\nsteel                 uint8\nwater                 uint8\nLength: 891, dtype: object"
     },
     "metadata": {}
    }
   ],
   "execution_count": 33
  },
  {
   "cell_type": "code",
   "metadata": {
    "tags": [],
    "cell_id": "00024-a921504a-6747-4688-bfc4-5033b664992e",
    "deepnote_to_be_reexecuted": false,
    "source_hash": "f1b2f02a",
    "execution_start": 1638264385341,
    "execution_millis": 1435,
    "deepnote_cell_type": "code"
   },
   "source": "from sklearn.preprocessing import MinMaxScaler\ncols = df_2.columns\nscaler = MinMaxScaler()\ndf_3=scaler.fit_transform(df_2)\npd.DataFrame(df_3,\ncolumns=cols)",
   "execution_count": 44,
   "outputs": [
    {
     "output_type": "execute_result",
     "execution_count": 44,
     "data": {
      "application/vnd.deepnote.dataframe.v2+json": {
       "row_count": 801,
       "column_count": 2134,
       "columns": [
        {
         "name": "against_bug",
         "dtype": "float64",
         "stats": {
          "unique_count": 5,
          "nan_count": 0,
          "min": "0.0",
          "max": "1.0",
          "histogram": [
           {
            "bin_start": 0,
            "bin_end": 0.1,
            "count": 289
           },
           {
            "bin_start": 0.1,
            "bin_end": 0.2,
            "count": 0
           },
           {
            "bin_start": 0.2,
            "bin_end": 0.30000000000000004,
            "count": 376
           },
           {
            "bin_start": 0.30000000000000004,
            "bin_end": 0.4,
            "count": 0
           },
           {
            "bin_start": 0.4,
            "bin_end": 0.5,
            "count": 128
           },
           {
            "bin_start": 0.5,
            "bin_end": 0.6000000000000001,
            "count": 0
           },
           {
            "bin_start": 0.6000000000000001,
            "bin_end": 0.7000000000000001,
            "count": 0
           },
           {
            "bin_start": 0.7000000000000001,
            "bin_end": 0.8,
            "count": 0
           },
           {
            "bin_start": 0.8,
            "bin_end": 0.9,
            "count": 0
           },
           {
            "bin_start": 0.9,
            "bin_end": 1,
            "count": 8
           }
          ]
         }
        },
        {
         "name": "against_dark",
         "dtype": "float64",
         "stats": {
          "unique_count": 5,
          "nan_count": 0,
          "min": "0.0",
          "max": "1.0",
          "histogram": [
           {
            "bin_start": 0,
            "bin_end": 0.1,
            "count": 129
           },
           {
            "bin_start": 0.1,
            "bin_end": 0.2,
            "count": 0
           },
           {
            "bin_start": 0.2,
            "bin_end": 0.30000000000000004,
            "count": 565
           },
           {
            "bin_start": 0.30000000000000004,
            "bin_end": 0.4,
            "count": 0
           },
           {
            "bin_start": 0.4,
            "bin_end": 0.5,
            "count": 105
           },
           {
            "bin_start": 0.5,
            "bin_end": 0.6000000000000001,
            "count": 0
           },
           {
            "bin_start": 0.6000000000000001,
            "bin_end": 0.7000000000000001,
            "count": 0
           },
           {
            "bin_start": 0.7000000000000001,
            "bin_end": 0.8,
            "count": 0
           },
           {
            "bin_start": 0.8,
            "bin_end": 0.9,
            "count": 0
           },
           {
            "bin_start": 0.9,
            "bin_end": 1,
            "count": 2
           }
          ]
         }
        },
        {
         "name": "against_dragon",
         "dtype": "float64",
         "stats": {
          "unique_count": 4,
          "nan_count": 0,
          "min": "0.0",
          "max": "1.0",
          "histogram": [
           {
            "bin_start": 0,
            "bin_end": 0.1,
            "count": 47
           },
           {
            "bin_start": 0.1,
            "bin_end": 0.2,
            "count": 0
           },
           {
            "bin_start": 0.2,
            "bin_end": 0.30000000000000004,
            "count": 42
           },
           {
            "bin_start": 0.30000000000000004,
            "bin_end": 0.4,
            "count": 0
           },
           {
            "bin_start": 0.4,
            "bin_end": 0.5,
            "count": 0
           },
           {
            "bin_start": 0.5,
            "bin_end": 0.6000000000000001,
            "count": 669
           },
           {
            "bin_start": 0.6000000000000001,
            "bin_end": 0.7000000000000001,
            "count": 0
           },
           {
            "bin_start": 0.7000000000000001,
            "bin_end": 0.8,
            "count": 0
           },
           {
            "bin_start": 0.8,
            "bin_end": 0.9,
            "count": 0
           },
           {
            "bin_start": 0.9,
            "bin_end": 1,
            "count": 43
           }
          ]
         }
        },
        {
         "name": "against_electric",
         "dtype": "float64",
         "stats": {
          "unique_count": 6,
          "nan_count": 0,
          "min": "0.0",
          "max": "1.0",
          "histogram": [
           {
            "bin_start": 0,
            "bin_end": 0.1,
            "count": 65
           },
           {
            "bin_start": 0.1,
            "bin_end": 0.2,
            "count": 156
           },
           {
            "bin_start": 0.2,
            "bin_end": 0.30000000000000004,
            "count": 392
           },
           {
            "bin_start": 0.30000000000000004,
            "bin_end": 0.4,
            "count": 0
           },
           {
            "bin_start": 0.4,
            "bin_end": 0.5,
            "count": 0
           },
           {
            "bin_start": 0.5,
            "bin_end": 0.6000000000000001,
            "count": 181
           },
           {
            "bin_start": 0.6000000000000001,
            "bin_end": 0.7000000000000001,
            "count": 0
           },
           {
            "bin_start": 0.7000000000000001,
            "bin_end": 0.8,
            "count": 0
           },
           {
            "bin_start": 0.8,
            "bin_end": 0.9,
            "count": 0
           },
           {
            "bin_start": 0.9,
            "bin_end": 1,
            "count": 7
           }
          ]
         }
        },
        {
         "name": "against_fairy",
         "dtype": "float64",
         "stats": {
          "unique_count": 5,
          "nan_count": 0,
          "min": "0.0",
          "max": "1.0",
          "histogram": [
           {
            "bin_start": 0,
            "bin_end": 0.1,
            "count": 148
           },
           {
            "bin_start": 0.1,
            "bin_end": 0.2,
            "count": 0
           },
           {
            "bin_start": 0.2,
            "bin_end": 0.30000000000000004,
            "count": 541
           },
           {
            "bin_start": 0.30000000000000004,
            "bin_end": 0.4,
            "count": 0
           },
           {
            "bin_start": 0.4,
            "bin_end": 0.5,
            "count": 103
           },
           {
            "bin_start": 0.5,
            "bin_end": 0.6000000000000001,
            "count": 0
           },
           {
            "bin_start": 0.6000000000000001,
            "bin_end": 0.7000000000000001,
            "count": 0
           },
           {
            "bin_start": 0.7000000000000001,
            "bin_end": 0.8,
            "count": 0
           },
           {
            "bin_start": 0.8,
            "bin_end": 0.9,
            "count": 0
           },
           {
            "bin_start": 0.9,
            "bin_end": 1,
            "count": 9
           }
          ]
         }
        },
        {
         "name": "against_fight",
         "dtype": "float64",
         "stats": {
          "unique_count": 6,
          "nan_count": 0,
          "min": "0.0",
          "max": "1.0",
          "histogram": [
           {
            "bin_start": 0,
            "bin_end": 0.1,
            "count": 85
           },
           {
            "bin_start": 0.1,
            "bin_end": 0.2,
            "count": 193
           },
           {
            "bin_start": 0.2,
            "bin_end": 0.30000000000000004,
            "count": 326
           },
           {
            "bin_start": 0.30000000000000004,
            "bin_end": 0.4,
            "count": 0
           },
           {
            "bin_start": 0.4,
            "bin_end": 0.5,
            "count": 0
           },
           {
            "bin_start": 0.5,
            "bin_end": 0.6000000000000001,
            "count": 184
           },
           {
            "bin_start": 0.6000000000000001,
            "bin_end": 0.7000000000000001,
            "count": 0
           },
           {
            "bin_start": 0.7000000000000001,
            "bin_end": 0.8,
            "count": 0
           },
           {
            "bin_start": 0.8,
            "bin_end": 0.9,
            "count": 0
           },
           {
            "bin_start": 0.9,
            "bin_end": 1,
            "count": 13
           }
          ]
         }
        },
        {
         "name": "against_fire",
         "dtype": "float64",
         "stats": {
          "unique_count": 5,
          "nan_count": 0,
          "min": "0.0",
          "max": "1.0",
          "histogram": [
           {
            "bin_start": 0,
            "bin_end": 0.1,
            "count": 244
           },
           {
            "bin_start": 0.1,
            "bin_end": 0.2,
            "count": 0
           },
           {
            "bin_start": 0.2,
            "bin_end": 0.30000000000000004,
            "count": 354
           },
           {
            "bin_start": 0.30000000000000004,
            "bin_end": 0.4,
            "count": 0
           },
           {
            "bin_start": 0.4,
            "bin_end": 0.5,
            "count": 187
           },
           {
            "bin_start": 0.5,
            "bin_end": 0.6000000000000001,
            "count": 0
           },
           {
            "bin_start": 0.6000000000000001,
            "bin_end": 0.7000000000000001,
            "count": 0
           },
           {
            "bin_start": 0.7000000000000001,
            "bin_end": 0.8,
            "count": 0
           },
           {
            "bin_start": 0.8,
            "bin_end": 0.9,
            "count": 0
           },
           {
            "bin_start": 0.9,
            "bin_end": 1,
            "count": 16
           }
          ]
         }
        },
        {
         "name": "against_flying",
         "dtype": "float64",
         "stats": {
          "unique_count": 5,
          "nan_count": 0,
          "min": "0.0",
          "max": "1.0",
          "histogram": [
           {
            "bin_start": 0,
            "bin_end": 0.1,
            "count": 120
           },
           {
            "bin_start": 0.1,
            "bin_end": 0.2,
            "count": 0
           },
           {
            "bin_start": 0.2,
            "bin_end": 0.30000000000000004,
            "count": 488
           },
           {
            "bin_start": 0.30000000000000004,
            "bin_end": 0.4,
            "count": 0
           },
           {
            "bin_start": 0.4,
            "bin_end": 0.5,
            "count": 181
           },
           {
            "bin_start": 0.5,
            "bin_end": 0.6000000000000001,
            "count": 0
           },
           {
            "bin_start": 0.6000000000000001,
            "bin_end": 0.7000000000000001,
            "count": 0
           },
           {
            "bin_start": 0.7000000000000001,
            "bin_end": 0.8,
            "count": 0
           },
           {
            "bin_start": 0.8,
            "bin_end": 0.9,
            "count": 0
           },
           {
            "bin_start": 0.9,
            "bin_end": 1,
            "count": 12
           }
          ]
         }
        },
        {
         "name": "against_ghost",
         "dtype": "float64",
         "stats": {
          "unique_count": 5,
          "nan_count": 0,
          "min": "0.0",
          "max": "1.0",
          "histogram": [
           {
            "bin_start": 0,
            "bin_end": 0.1,
            "count": 109
           },
           {
            "bin_start": 0.1,
            "bin_end": 0.2,
            "count": 42
           },
           {
            "bin_start": 0.2,
            "bin_end": 0.30000000000000004,
            "count": 536
           },
           {
            "bin_start": 0.30000000000000004,
            "bin_end": 0.4,
            "count": 0
           },
           {
            "bin_start": 0.4,
            "bin_end": 0.5,
            "count": 0
           },
           {
            "bin_start": 0.5,
            "bin_end": 0.6000000000000001,
            "count": 112
           },
           {
            "bin_start": 0.6000000000000001,
            "bin_end": 0.7000000000000001,
            "count": 0
           },
           {
            "bin_start": 0.7000000000000001,
            "bin_end": 0.8,
            "count": 0
           },
           {
            "bin_start": 0.8,
            "bin_end": 0.9,
            "count": 0
           },
           {
            "bin_start": 0.9,
            "bin_end": 1,
            "count": 2
           }
          ]
         }
        },
        {
         "name": "against_grass",
         "dtype": "float64",
         "stats": {
          "unique_count": 5,
          "nan_count": 0,
          "min": "0.0",
          "max": "1.0",
          "histogram": [
           {
            "bin_start": 0,
            "bin_end": 0.1,
            "count": 341
           },
           {
            "bin_start": 0.1,
            "bin_end": 0.2,
            "count": 0
           },
           {
            "bin_start": 0.2,
            "bin_end": 0.30000000000000004,
            "count": 297
           },
           {
            "bin_start": 0.30000000000000004,
            "bin_end": 0.4,
            "count": 0
           },
           {
            "bin_start": 0.4,
            "bin_end": 0.5,
            "count": 135
           },
           {
            "bin_start": 0.5,
            "bin_end": 0.6000000000000001,
            "count": 0
           },
           {
            "bin_start": 0.6000000000000001,
            "bin_end": 0.7000000000000001,
            "count": 0
           },
           {
            "bin_start": 0.7000000000000001,
            "bin_end": 0.8,
            "count": 0
           },
           {
            "bin_start": 0.8,
            "bin_end": 0.9,
            "count": 0
           },
           {
            "bin_start": 0.9,
            "bin_end": 1,
            "count": 28
           }
          ]
         }
        },
        {
         "name": "against_ground",
         "dtype": "float64",
         "stats": {
          "unique_count": 6,
          "nan_count": 0,
          "min": "0.0",
          "max": "1.0",
          "histogram": [
           {
            "bin_start": 0,
            "bin_end": 0.1,
            "count": 104
           },
           {
            "bin_start": 0.1,
            "bin_end": 0.2,
            "count": 96
           },
           {
            "bin_start": 0.2,
            "bin_end": 0.30000000000000004,
            "count": 402
           },
           {
            "bin_start": 0.30000000000000004,
            "bin_end": 0.4,
            "count": 0
           },
           {
            "bin_start": 0.4,
            "bin_end": 0.5,
            "count": 0
           },
           {
            "bin_start": 0.5,
            "bin_end": 0.6000000000000001,
            "count": 184
           },
           {
            "bin_start": 0.6000000000000001,
            "bin_end": 0.7000000000000001,
            "count": 0
           },
           {
            "bin_start": 0.7000000000000001,
            "bin_end": 0.8,
            "count": 0
           },
           {
            "bin_start": 0.8,
            "bin_end": 0.9,
            "count": 0
           },
           {
            "bin_start": 0.9,
            "bin_end": 1,
            "count": 15
           }
          ]
         }
        },
        {
         "name": "against_ice",
         "dtype": "float64",
         "stats": {
          "unique_count": 5,
          "nan_count": 0,
          "min": "0.0",
          "max": "1.0",
          "histogram": [
           {
            "bin_start": 0,
            "bin_end": 0.1,
            "count": 218
           },
           {
            "bin_start": 0.1,
            "bin_end": 0.2,
            "count": 0
           },
           {
            "bin_start": 0.2,
            "bin_end": 0.30000000000000004,
            "count": 349
           },
           {
            "bin_start": 0.30000000000000004,
            "bin_end": 0.4,
            "count": 0
           },
           {
            "bin_start": 0.4,
            "bin_end": 0.5,
            "count": 212
           },
           {
            "bin_start": 0.5,
            "bin_end": 0.6000000000000001,
            "count": 0
           },
           {
            "bin_start": 0.6000000000000001,
            "bin_end": 0.7000000000000001,
            "count": 0
           },
           {
            "bin_start": 0.7000000000000001,
            "bin_end": 0.8,
            "count": 0
           },
           {
            "bin_start": 0.8,
            "bin_end": 0.9,
            "count": 0
           },
           {
            "bin_start": 0.9,
            "bin_end": 1,
            "count": 22
           }
          ]
         }
        },
        {
         "name": "against_normal",
         "dtype": "float64",
         "stats": {
          "unique_count": 4,
          "nan_count": 0,
          "min": "0.0",
          "max": "1.0",
          "histogram": [
           {
            "bin_start": 0,
            "bin_end": 0.1,
            "count": 41
           },
           {
            "bin_start": 0.1,
            "bin_end": 0.2,
            "count": 0
           },
           {
            "bin_start": 0.2,
            "bin_end": 0.30000000000000004,
            "count": 6
           },
           {
            "bin_start": 0.30000000000000004,
            "bin_end": 0.4,
            "count": 0
           },
           {
            "bin_start": 0.4,
            "bin_end": 0.5,
            "count": 0
           },
           {
            "bin_start": 0.5,
            "bin_end": 0.6000000000000001,
            "count": 90
           },
           {
            "bin_start": 0.6000000000000001,
            "bin_end": 0.7000000000000001,
            "count": 0
           },
           {
            "bin_start": 0.7000000000000001,
            "bin_end": 0.8,
            "count": 0
           },
           {
            "bin_start": 0.8,
            "bin_end": 0.9,
            "count": 0
           },
           {
            "bin_start": 0.9,
            "bin_end": 1,
            "count": 664
           }
          ]
         }
        },
        {
         "name": "against_poison",
         "dtype": "float64",
         "stats": {
          "unique_count": 6,
          "nan_count": 0,
          "min": "0.0",
          "max": "1.0",
          "histogram": [
           {
            "bin_start": 0,
            "bin_end": 0.1,
            "count": 65
           },
           {
            "bin_start": 0.1,
            "bin_end": 0.2,
            "count": 153
           },
           {
            "bin_start": 0.2,
            "bin_end": 0.30000000000000004,
            "count": 476
           },
           {
            "bin_start": 0.30000000000000004,
            "bin_end": 0.4,
            "count": 0
           },
           {
            "bin_start": 0.4,
            "bin_end": 0.5,
            "count": 0
           },
           {
            "bin_start": 0.5,
            "bin_end": 0.6000000000000001,
            "count": 102
           },
           {
            "bin_start": 0.6000000000000001,
            "bin_end": 0.7000000000000001,
            "count": 0
           },
           {
            "bin_start": 0.7000000000000001,
            "bin_end": 0.8,
            "count": 0
           },
           {
            "bin_start": 0.8,
            "bin_end": 0.9,
            "count": 0
           },
           {
            "bin_start": 0.9,
            "bin_end": 1,
            "count": 5
           }
          ]
         }
        },
        {
         "name": "against_psychic",
         "dtype": "float64",
         "stats": {
          "unique_count": 6,
          "nan_count": 0,
          "min": "0.0",
          "max": "1.0",
          "histogram": [
           {
            "bin_start": 0,
            "bin_end": 0.1,
            "count": 53
           },
           {
            "bin_start": 0.1,
            "bin_end": 0.2,
            "count": 105
           },
           {
            "bin_start": 0.2,
            "bin_end": 0.30000000000000004,
            "count": 539
           },
           {
            "bin_start": 0.30000000000000004,
            "bin_end": 0.4,
            "count": 0
           },
           {
            "bin_start": 0.4,
            "bin_end": 0.5,
            "count": 0
           },
           {
            "bin_start": 0.5,
            "bin_end": 0.6000000000000001,
            "count": 102
           },
           {
            "bin_start": 0.6000000000000001,
            "bin_end": 0.7000000000000001,
            "count": 0
           },
           {
            "bin_start": 0.7000000000000001,
            "bin_end": 0.8,
            "count": 0
           },
           {
            "bin_start": 0.8,
            "bin_end": 0.9,
            "count": 0
           },
           {
            "bin_start": 0.9,
            "bin_end": 1,
            "count": 2
           }
          ]
         }
        },
        {
         "name": "against_rock",
         "dtype": "float64",
         "stats": {
          "unique_count": 5,
          "nan_count": 0,
          "min": "0.0",
          "max": "1.0",
          "histogram": [
           {
            "bin_start": 0,
            "bin_end": 0.1,
            "count": 131
           },
           {
            "bin_start": 0.1,
            "bin_end": 0.2,
            "count": 0
           },
           {
            "bin_start": 0.2,
            "bin_end": 0.30000000000000004,
            "count": 449
           },
           {
            "bin_start": 0.30000000000000004,
            "bin_end": 0.4,
            "count": 0
           },
           {
            "bin_start": 0.4,
            "bin_end": 0.5,
            "count": 198
           },
           {
            "bin_start": 0.5,
            "bin_end": 0.6000000000000001,
            "count": 0
           },
           {
            "bin_start": 0.6000000000000001,
            "bin_end": 0.7000000000000001,
            "count": 0
           },
           {
            "bin_start": 0.7000000000000001,
            "bin_end": 0.8,
            "count": 0
           },
           {
            "bin_start": 0.8,
            "bin_end": 0.9,
            "count": 0
           },
           {
            "bin_start": 0.9,
            "bin_end": 1,
            "count": 23
           }
          ]
         }
        },
        {
         "name": "against_steel",
         "dtype": "float64",
         "stats": {
          "unique_count": 5,
          "nan_count": 0,
          "min": "0.0",
          "max": "1.0",
          "histogram": [
           {
            "bin_start": 0,
            "bin_end": 0.1,
            "count": 246
           },
           {
            "bin_start": 0.1,
            "bin_end": 0.2,
            "count": 0
           },
           {
            "bin_start": 0.2,
            "bin_end": 0.30000000000000004,
            "count": 451
           },
           {
            "bin_start": 0.30000000000000004,
            "bin_end": 0.4,
            "count": 0
           },
           {
            "bin_start": 0.4,
            "bin_end": 0.5,
            "count": 100
           },
           {
            "bin_start": 0.5,
            "bin_end": 0.6000000000000001,
            "count": 0
           },
           {
            "bin_start": 0.6000000000000001,
            "bin_end": 0.7000000000000001,
            "count": 0
           },
           {
            "bin_start": 0.7000000000000001,
            "bin_end": 0.8,
            "count": 0
           },
           {
            "bin_start": 0.8,
            "bin_end": 0.9,
            "count": 0
           },
           {
            "bin_start": 0.9,
            "bin_end": 1,
            "count": 4
           }
          ]
         }
        },
        {
         "name": "against_water",
         "dtype": "float64",
         "stats": {
          "unique_count": 5,
          "nan_count": 0,
          "min": "0.0",
          "max": "1.0",
          "histogram": [
           {
            "bin_start": 0,
            "bin_end": 0.1,
            "count": 234
           },
           {
            "bin_start": 0.1,
            "bin_end": 0.2,
            "count": 0
           },
           {
            "bin_start": 0.2,
            "bin_end": 0.30000000000000004,
            "count": 426
           },
           {
            "bin_start": 0.30000000000000004,
            "bin_end": 0.4,
            "count": 0
           },
           {
            "bin_start": 0.4,
            "bin_end": 0.5,
            "count": 129
           },
           {
            "bin_start": 0.5,
            "bin_end": 0.6000000000000001,
            "count": 0
           },
           {
            "bin_start": 0.6000000000000001,
            "bin_end": 0.7000000000000001,
            "count": 0
           },
           {
            "bin_start": 0.7000000000000001,
            "bin_end": 0.8,
            "count": 0
           },
           {
            "bin_start": 0.8,
            "bin_end": 0.9,
            "count": 0
           },
           {
            "bin_start": 0.9,
            "bin_end": 1,
            "count": 12
           }
          ]
         }
        },
        {
         "name": "attack",
         "dtype": "float64",
         "stats": {
          "unique_count": 114,
          "nan_count": 0,
          "min": "0.0",
          "max": "1.0000000000000002",
          "histogram": [
           {
            "bin_start": 0,
            "bin_end": 0.10000000000000002,
            "count": 15
           },
           {
            "bin_start": 0.10000000000000002,
            "bin_end": 0.20000000000000004,
            "count": 80
           },
           {
            "bin_start": 0.20000000000000004,
            "bin_end": 0.30000000000000004,
            "count": 145
           },
           {
            "bin_start": 0.30000000000000004,
            "bin_end": 0.4000000000000001,
            "count": 191
           },
           {
            "bin_start": 0.4000000000000001,
            "bin_end": 0.5000000000000001,
            "count": 158
           },
           {
            "bin_start": 0.5000000000000001,
            "bin_end": 0.6000000000000001,
            "count": 96
           },
           {
            "bin_start": 0.6000000000000001,
            "bin_end": 0.7000000000000002,
            "count": 69
           },
           {
            "bin_start": 0.7000000000000002,
            "bin_end": 0.8000000000000002,
            "count": 23
           },
           {
            "bin_start": 0.8000000000000002,
            "bin_end": 0.9000000000000001,
            "count": 19
           },
           {
            "bin_start": 0.9000000000000001,
            "bin_end": 1.0000000000000002,
            "count": 5
           }
          ]
         }
        },
        {
         "name": "base_egg_steps",
         "dtype": "float64",
         "stats": {
          "unique_count": 10,
          "nan_count": 0,
          "min": "0.0",
          "max": "1.0",
          "histogram": [
           {
            "bin_start": 0,
            "bin_end": 0.1,
            "count": 164
           },
           {
            "bin_start": 0.1,
            "bin_end": 0.2,
            "count": 491
           },
           {
            "bin_start": 0.2,
            "bin_end": 0.30000000000000004,
            "count": 39
           },
           {
            "bin_start": 0.30000000000000004,
            "bin_end": 0.4,
            "count": 42
           },
           {
            "bin_start": 0.4,
            "bin_end": 0.5,
            "count": 0
           },
           {
            "bin_start": 0.5,
            "bin_end": 0.6000000000000001,
            "count": 0
           },
           {
            "bin_start": 0.6000000000000001,
            "bin_end": 0.7000000000000001,
            "count": 16
           },
           {
            "bin_start": 0.7000000000000001,
            "bin_end": 0.8,
            "count": 0
           },
           {
            "bin_start": 0.8,
            "bin_end": 0.9,
            "count": 0
           },
           {
            "bin_start": 0.9,
            "bin_end": 1,
            "count": 49
           }
          ]
         }
        },
        {
         "name": "base_happiness",
         "dtype": "float64",
         "stats": {
          "unique_count": 6,
          "nan_count": 0,
          "min": "0.0",
          "max": "1.0",
          "histogram": [
           {
            "bin_start": 0,
            "bin_end": 0.1,
            "count": 36
           },
           {
            "bin_start": 0.1,
            "bin_end": 0.2,
            "count": 0
           },
           {
            "bin_start": 0.2,
            "bin_end": 0.30000000000000004,
            "count": 69
           },
           {
            "bin_start": 0.30000000000000004,
            "bin_end": 0.4,
            "count": 0
           },
           {
            "bin_start": 0.4,
            "bin_end": 0.5,
            "count": 0
           },
           {
            "bin_start": 0.5,
            "bin_end": 0.6000000000000001,
            "count": 667
           },
           {
            "bin_start": 0.6000000000000001,
            "bin_end": 0.7000000000000001,
            "count": 5
           },
           {
            "bin_start": 0.7000000000000001,
            "bin_end": 0.8,
            "count": 14
           },
           {
            "bin_start": 0.8,
            "bin_end": 0.9,
            "count": 0
           },
           {
            "bin_start": 0.9,
            "bin_end": 1,
            "count": 10
           }
          ]
         }
        },
        {
         "name": "base_total",
         "dtype": "float64",
         "stats": {
          "unique_count": 203,
          "nan_count": 0,
          "min": "0.0",
          "max": "1.0",
          "histogram": [
           {
            "bin_start": 0,
            "bin_end": 0.1,
            "count": 34
           },
           {
            "bin_start": 0.1,
            "bin_end": 0.2,
            "count": 99
           },
           {
            "bin_start": 0.2,
            "bin_end": 0.30000000000000004,
            "count": 141
           },
           {
            "bin_start": 0.30000000000000004,
            "bin_end": 0.4,
            "count": 94
           },
           {
            "bin_start": 0.4,
            "bin_end": 0.5,
            "count": 118
           },
           {
            "bin_start": 0.5,
            "bin_end": 0.6000000000000001,
            "count": 196
           },
           {
            "bin_start": 0.6000000000000001,
            "bin_end": 0.7000000000000001,
            "count": 75
           },
           {
            "bin_start": 0.7000000000000001,
            "bin_end": 0.8,
            "count": 16
           },
           {
            "bin_start": 0.8,
            "bin_end": 0.9,
            "count": 23
           },
           {
            "bin_start": 0.9,
            "bin_end": 1,
            "count": 5
           }
          ]
         }
        },
        {
         "name": "capture_rate",
         "dtype": "float64",
         "stats": {
          "unique_count": 33,
          "nan_count": 0,
          "min": "0.0",
          "max": "1.0",
          "histogram": [
           {
            "bin_start": 0,
            "bin_end": 0.1,
            "count": 73
           },
           {
            "bin_start": 0.1,
            "bin_end": 0.2,
            "count": 278
           },
           {
            "bin_start": 0.2,
            "bin_end": 0.30000000000000004,
            "count": 122
           },
           {
            "bin_start": 0.30000000000000004,
            "bin_end": 0.4,
            "count": 46
           },
           {
            "bin_start": 0.4,
            "bin_end": 0.5,
            "count": 63
           },
           {
            "bin_start": 0.5,
            "bin_end": 0.6000000000000001,
            "count": 16
           },
           {
            "bin_start": 0.6000000000000001,
            "bin_end": 0.7000000000000001,
            "count": 4
           },
           {
            "bin_start": 0.7000000000000001,
            "bin_end": 0.8,
            "count": 105
           },
           {
            "bin_start": 0.8,
            "bin_end": 0.9,
            "count": 18
           },
           {
            "bin_start": 0.9,
            "bin_end": 1,
            "count": 76
           }
          ]
         }
        },
        {
         "name": "defense",
         "dtype": "float64",
         "stats": {
          "unique_count": 109,
          "nan_count": 0,
          "min": "0.0",
          "max": "0.9999999999999999",
          "histogram": [
           {
            "bin_start": 0,
            "bin_end": 0.09999999999999999,
            "count": 12
           },
           {
            "bin_start": 0.09999999999999999,
            "bin_end": 0.19999999999999998,
            "count": 159
           },
           {
            "bin_start": 0.19999999999999998,
            "bin_end": 0.3,
            "count": 284
           },
           {
            "bin_start": 0.3,
            "bin_end": 0.39999999999999997,
            "count": 165
           },
           {
            "bin_start": 0.39999999999999997,
            "bin_end": 0.49999999999999994,
            "count": 109
           },
           {
            "bin_start": 0.49999999999999994,
            "bin_end": 0.6,
            "count": 48
           },
           {
            "bin_start": 0.6,
            "bin_end": 0.7,
            "count": 16
           },
           {
            "bin_start": 0.7,
            "bin_end": 0.7999999999999999,
            "count": 4
           },
           {
            "bin_start": 0.7999999999999999,
            "bin_end": 0.8999999999999999,
            "count": 1
           },
           {
            "bin_start": 0.8999999999999999,
            "bin_end": 0.9999999999999999,
            "count": 3
           }
          ]
         }
        },
        {
         "name": "experience_growth",
         "dtype": "float64",
         "stats": {
          "unique_count": 6,
          "nan_count": 0,
          "min": "0.0",
          "max": "1.0",
          "histogram": [
           {
            "bin_start": 0,
            "bin_end": 0.1,
            "count": 22
           },
           {
            "bin_start": 0.1,
            "bin_end": 0.2,
            "count": 56
           },
           {
            "bin_start": 0.2,
            "bin_end": 0.30000000000000004,
            "count": 0
           },
           {
            "bin_start": 0.30000000000000004,
            "bin_end": 0.4,
            "count": 335
           },
           {
            "bin_start": 0.4,
            "bin_end": 0.5,
            "count": 202
           },
           {
            "bin_start": 0.5,
            "bin_end": 0.6000000000000001,
            "count": 0
           },
           {
            "bin_start": 0.6000000000000001,
            "bin_end": 0.7000000000000001,
            "count": 172
           },
           {
            "bin_start": 0.7000000000000001,
            "bin_end": 0.8,
            "count": 0
           },
           {
            "bin_start": 0.8,
            "bin_end": 0.9,
            "count": 0
           },
           {
            "bin_start": 0.9,
            "bin_end": 1,
            "count": 14
           }
          ]
         }
        },
        {
         "name": "height_m",
         "dtype": "float64",
         "stats": {
          "unique_count": 51,
          "nan_count": 20,
          "min": "0.0",
          "max": "1.0",
          "histogram": [
           {
            "bin_start": 0,
            "bin_end": 0.1,
            "count": 618
           },
           {
            "bin_start": 0.1,
            "bin_end": 0.2,
            "count": 133
           },
           {
            "bin_start": 0.2,
            "bin_end": 0.30000000000000004,
            "count": 16
           },
           {
            "bin_start": 0.30000000000000004,
            "bin_end": 0.4,
            "count": 7
           },
           {
            "bin_start": 0.4,
            "bin_end": 0.5,
            "count": 3
           },
           {
            "bin_start": 0.5,
            "bin_end": 0.6000000000000001,
            "count": 0
           },
           {
            "bin_start": 0.6000000000000001,
            "bin_end": 0.7000000000000001,
            "count": 3
           },
           {
            "bin_start": 0.7000000000000001,
            "bin_end": 0.8,
            "count": 0
           },
           {
            "bin_start": 0.8,
            "bin_end": 0.9,
            "count": 0
           },
           {
            "bin_start": 0.9,
            "bin_end": 1,
            "count": 1
           }
          ]
         }
        },
        {
         "name": "hp",
         "dtype": "float64",
         "stats": {
          "unique_count": 99,
          "nan_count": 0,
          "min": "0.0",
          "max": "1.0",
          "histogram": [
           {
            "bin_start": 0,
            "bin_end": 0.1,
            "count": 11
           },
           {
            "bin_start": 0.1,
            "bin_end": 0.2,
            "count": 208
           },
           {
            "bin_start": 0.2,
            "bin_end": 0.30000000000000004,
            "count": 339
           },
           {
            "bin_start": 0.30000000000000004,
            "bin_end": 0.4,
            "count": 181
           },
           {
            "bin_start": 0.4,
            "bin_end": 0.5,
            "count": 43
           },
           {
            "bin_start": 0.5,
            "bin_end": 0.6000000000000001,
            "count": 11
           },
           {
            "bin_start": 0.6000000000000001,
            "bin_end": 0.7000000000000001,
            "count": 3
           },
           {
            "bin_start": 0.7000000000000001,
            "bin_end": 0.8,
            "count": 1
           },
           {
            "bin_start": 0.8,
            "bin_end": 0.9,
            "count": 2
           },
           {
            "bin_start": 0.9,
            "bin_end": 1,
            "count": 2
           }
          ]
         }
        },
        {
         "name": "percentage_male",
         "dtype": "float64",
         "stats": {
          "unique_count": 7,
          "nan_count": 98,
          "min": "0.0",
          "max": "1.0",
          "histogram": [
           {
            "bin_start": 0,
            "bin_end": 0.1,
            "count": 27
           },
           {
            "bin_start": 0.1,
            "bin_end": 0.2,
            "count": 2
           },
           {
            "bin_start": 0.2,
            "bin_end": 0.30000000000000004,
            "count": 24
           },
           {
            "bin_start": 0.30000000000000004,
            "bin_end": 0.4,
            "count": 0
           },
           {
            "bin_start": 0.4,
            "bin_end": 0.5,
            "count": 0
           },
           {
            "bin_start": 0.5,
            "bin_end": 0.6000000000000001,
            "count": 501
           },
           {
            "bin_start": 0.6000000000000001,
            "bin_end": 0.7000000000000001,
            "count": 0
           },
           {
            "bin_start": 0.7000000000000001,
            "bin_end": 0.8,
            "count": 19
           },
           {
            "bin_start": 0.8,
            "bin_end": 0.9,
            "count": 111
           },
           {
            "bin_start": 0.9,
            "bin_end": 1,
            "count": 19
           }
          ]
         }
        },
        {
         "name": "pokedex_number",
         "dtype": "float64",
         "stats": {
          "unique_count": 801,
          "nan_count": 0,
          "min": "0.0",
          "max": "1.0",
          "histogram": [
           {
            "bin_start": 0,
            "bin_end": 0.1,
            "count": 80
           },
           {
            "bin_start": 0.1,
            "bin_end": 0.2,
            "count": 80
           },
           {
            "bin_start": 0.2,
            "bin_end": 0.30000000000000004,
            "count": 80
           },
           {
            "bin_start": 0.30000000000000004,
            "bin_end": 0.4,
            "count": 80
           },
           {
            "bin_start": 0.4,
            "bin_end": 0.5,
            "count": 80
           },
           {
            "bin_start": 0.5,
            "bin_end": 0.6000000000000001,
            "count": 80
           },
           {
            "bin_start": 0.6000000000000001,
            "bin_end": 0.7000000000000001,
            "count": 80
           },
           {
            "bin_start": 0.7000000000000001,
            "bin_end": 0.8,
            "count": 80
           },
           {
            "bin_start": 0.8,
            "bin_end": 0.9,
            "count": 80
           },
           {
            "bin_start": 0.9,
            "bin_end": 1,
            "count": 81
           }
          ]
         }
        },
        {
         "name": "sp_attack",
         "dtype": "float64",
         "stats": {
          "unique_count": 111,
          "nan_count": 0,
          "min": "0.0",
          "max": "1.0",
          "histogram": [
           {
            "bin_start": 0,
            "bin_end": 0.1,
            "count": 33
           },
           {
            "bin_start": 0.1,
            "bin_end": 0.2,
            "count": 171
           },
           {
            "bin_start": 0.2,
            "bin_end": 0.30000000000000004,
            "count": 219
           },
           {
            "bin_start": 0.30000000000000004,
            "bin_end": 0.4,
            "count": 120
           },
           {
            "bin_start": 0.4,
            "bin_end": 0.5,
            "count": 131
           },
           {
            "bin_start": 0.5,
            "bin_end": 0.6000000000000001,
            "count": 61
           },
           {
            "bin_start": 0.6000000000000001,
            "bin_end": 0.7000000000000001,
            "count": 37
           },
           {
            "bin_start": 0.7000000000000001,
            "bin_end": 0.8,
            "count": 16
           },
           {
            "bin_start": 0.8,
            "bin_end": 0.9,
            "count": 10
           },
           {
            "bin_start": 0.9,
            "bin_end": 1,
            "count": 3
           }
          ]
         }
        },
        {
         "name": "sp_defense",
         "dtype": "float64",
         "stats": {
          "unique_count": 97,
          "nan_count": 0,
          "min": "0.0",
          "max": "1.0",
          "histogram": [
           {
            "bin_start": 0,
            "bin_end": 0.1,
            "count": 107
           },
           {
            "bin_start": 0.1,
            "bin_end": 0.2,
            "count": 238
           },
           {
            "bin_start": 0.2,
            "bin_end": 0.30000000000000004,
            "count": 212
           },
           {
            "bin_start": 0.30000000000000004,
            "bin_end": 0.4,
            "count": 143
           },
           {
            "bin_start": 0.4,
            "bin_end": 0.5,
            "count": 65
           },
           {
            "bin_start": 0.5,
            "bin_end": 0.6000000000000001,
            "count": 25
           },
           {
            "bin_start": 0.6000000000000001,
            "bin_end": 0.7000000000000001,
            "count": 9
           },
           {
            "bin_start": 0.7000000000000001,
            "bin_end": 0.8,
            "count": 0
           },
           {
            "bin_start": 0.8,
            "bin_end": 0.9,
            "count": 1
           },
           {
            "bin_start": 0.9,
            "bin_end": 1,
            "count": 1
           }
          ]
         }
        },
        {
         "name": "speed",
         "dtype": "float64",
         "stats": {
          "unique_count": 113,
          "nan_count": 0,
          "min": "0.0",
          "max": "0.9999999999999999",
          "histogram": [
           {
            "bin_start": 0,
            "bin_end": 0.09999999999999999,
            "count": 33
           },
           {
            "bin_start": 0.09999999999999999,
            "bin_end": 0.19999999999999998,
            "count": 106
           },
           {
            "bin_start": 0.19999999999999998,
            "bin_end": 0.3,
            "count": 190
           },
           {
            "bin_start": 0.3,
            "bin_end": 0.39999999999999997,
            "count": 174
           },
           {
            "bin_start": 0.39999999999999997,
            "bin_end": 0.49999999999999994,
            "count": 138
           },
           {
            "bin_start": 0.49999999999999994,
            "bin_end": 0.6,
            "count": 96
           },
           {
            "bin_start": 0.6,
            "bin_end": 0.7,
            "count": 46
           },
           {
            "bin_start": 0.7,
            "bin_end": 0.7999999999999999,
            "count": 9
           },
           {
            "bin_start": 0.7999999999999999,
            "bin_end": 0.8999999999999999,
            "count": 8
           },
           {
            "bin_start": 0.8999999999999999,
            "bin_end": 0.9999999999999999,
            "count": 1
           }
          ]
         }
        },
        {
         "name": "weight_kg",
         "dtype": "float64",
         "stats": {
          "unique_count": 421,
          "nan_count": 20,
          "min": "0.0",
          "max": "1.0",
          "histogram": [
           {
            "bin_start": 0,
            "bin_end": 0.1,
            "count": 662
           },
           {
            "bin_start": 0.1,
            "bin_end": 0.2,
            "count": 62
           },
           {
            "bin_start": 0.2,
            "bin_end": 0.30000000000000004,
            "count": 32
           },
           {
            "bin_start": 0.30000000000000004,
            "bin_end": 0.4,
            "count": 13
           },
           {
            "bin_start": 0.4,
            "bin_end": 0.5,
            "count": 3
           },
           {
            "bin_start": 0.5,
            "bin_end": 0.6000000000000001,
            "count": 2
           },
           {
            "bin_start": 0.6000000000000001,
            "bin_end": 0.7000000000000001,
            "count": 1
           },
           {
            "bin_start": 0.7000000000000001,
            "bin_end": 0.8,
            "count": 1
           },
           {
            "bin_start": 0.8,
            "bin_end": 0.9,
            "count": 1
           },
           {
            "bin_start": 0.9,
            "bin_end": 1,
            "count": 4
           }
          ]
         }
        },
        {
         "name": "generation",
         "dtype": "float64",
         "stats": {
          "unique_count": 7,
          "nan_count": 0,
          "min": "0.0",
          "max": "0.9999999999999999",
          "histogram": [
           {
            "bin_start": 0,
            "bin_end": 0.09999999999999999,
            "count": 151
           },
           {
            "bin_start": 0.09999999999999999,
            "bin_end": 0.19999999999999998,
            "count": 100
           },
           {
            "bin_start": 0.19999999999999998,
            "bin_end": 0.3,
            "count": 0
           },
           {
            "bin_start": 0.3,
            "bin_end": 0.39999999999999997,
            "count": 135
           },
           {
            "bin_start": 0.39999999999999997,
            "bin_end": 0.49999999999999994,
            "count": 0
           },
           {
            "bin_start": 0.49999999999999994,
            "bin_end": 0.6,
            "count": 107
           },
           {
            "bin_start": 0.6,
            "bin_end": 0.7,
            "count": 156
           },
           {
            "bin_start": 0.7,
            "bin_end": 0.7999999999999999,
            "count": 0
           },
           {
            "bin_start": 0.7999999999999999,
            "bin_end": 0.8999999999999999,
            "count": 72
           },
           {
            "bin_start": 0.8999999999999999,
            "bin_end": 0.9999999999999999,
            "count": 80
           }
          ]
         }
        },
        {
         "name": "is_legendary",
         "dtype": "float64",
         "stats": {
          "unique_count": 2,
          "nan_count": 0,
          "min": "0.0",
          "max": "1.0",
          "histogram": [
           {
            "bin_start": 0,
            "bin_end": 0.1,
            "count": 731
           },
           {
            "bin_start": 0.1,
            "bin_end": 0.2,
            "count": 0
           },
           {
            "bin_start": 0.2,
            "bin_end": 0.30000000000000004,
            "count": 0
           },
           {
            "bin_start": 0.30000000000000004,
            "bin_end": 0.4,
            "count": 0
           },
           {
            "bin_start": 0.4,
            "bin_end": 0.5,
            "count": 0
           },
           {
            "bin_start": 0.5,
            "bin_end": 0.6000000000000001,
            "count": 0
           },
           {
            "bin_start": 0.6000000000000001,
            "bin_end": 0.7000000000000001,
            "count": 0
           },
           {
            "bin_start": 0.7000000000000001,
            "bin_end": 0.8,
            "count": 0
           },
           {
            "bin_start": 0.8,
            "bin_end": 0.9,
            "count": 0
           },
           {
            "bin_start": 0.9,
            "bin_end": 1,
            "count": 70
           }
          ]
         }
        },
        {
         "name": "Overgrow",
         "dtype": "float64",
         "stats": {
          "unique_count": 2,
          "nan_count": 0,
          "min": "0.0",
          "max": "1.0",
          "histogram": [
           {
            "bin_start": 0,
            "bin_end": 0.1,
            "count": 778
           },
           {
            "bin_start": 0.1,
            "bin_end": 0.2,
            "count": 0
           },
           {
            "bin_start": 0.2,
            "bin_end": 0.30000000000000004,
            "count": 0
           },
           {
            "bin_start": 0.30000000000000004,
            "bin_end": 0.4,
            "count": 0
           },
           {
            "bin_start": 0.4,
            "bin_end": 0.5,
            "count": 0
           },
           {
            "bin_start": 0.5,
            "bin_end": 0.6000000000000001,
            "count": 0
           },
           {
            "bin_start": 0.6000000000000001,
            "bin_end": 0.7000000000000001,
            "count": 0
           },
           {
            "bin_start": 0.7000000000000001,
            "bin_end": 0.8,
            "count": 0
           },
           {
            "bin_start": 0.8,
            "bin_end": 0.9,
            "count": 0
           },
           {
            "bin_start": 0.9,
            "bin_end": 1,
            "count": 23
           }
          ]
         }
        },
        {
         "name": "Chlorophyll",
         "dtype": "float64",
         "stats": {
          "unique_count": 2,
          "nan_count": 0,
          "min": "0.0",
          "max": "1.0",
          "histogram": [
           {
            "bin_start": 0,
            "bin_end": 0.1,
            "count": 766
           },
           {
            "bin_start": 0.1,
            "bin_end": 0.2,
            "count": 0
           },
           {
            "bin_start": 0.2,
            "bin_end": 0.30000000000000004,
            "count": 0
           },
           {
            "bin_start": 0.30000000000000004,
            "bin_end": 0.4,
            "count": 0
           },
           {
            "bin_start": 0.4,
            "bin_end": 0.5,
            "count": 0
           },
           {
            "bin_start": 0.5,
            "bin_end": 0.6000000000000001,
            "count": 0
           },
           {
            "bin_start": 0.6000000000000001,
            "bin_end": 0.7000000000000001,
            "count": 0
           },
           {
            "bin_start": 0.7000000000000001,
            "bin_end": 0.8,
            "count": 0
           },
           {
            "bin_start": 0.8,
            "bin_end": 0.9,
            "count": 0
           },
           {
            "bin_start": 0.9,
            "bin_end": 1,
            "count": 35
           }
          ]
         }
        },
        {
         "name": "Blaze",
         "dtype": "float64",
         "stats": {
          "unique_count": 2,
          "nan_count": 0,
          "min": "0.0",
          "max": "1.0",
          "histogram": [
           {
            "bin_start": 0,
            "bin_end": 0.1,
            "count": 778
           },
           {
            "bin_start": 0.1,
            "bin_end": 0.2,
            "count": 0
           },
           {
            "bin_start": 0.2,
            "bin_end": 0.30000000000000004,
            "count": 0
           },
           {
            "bin_start": 0.30000000000000004,
            "bin_end": 0.4,
            "count": 0
           },
           {
            "bin_start": 0.4,
            "bin_end": 0.5,
            "count": 0
           },
           {
            "bin_start": 0.5,
            "bin_end": 0.6000000000000001,
            "count": 0
           },
           {
            "bin_start": 0.6000000000000001,
            "bin_end": 0.7000000000000001,
            "count": 0
           },
           {
            "bin_start": 0.7000000000000001,
            "bin_end": 0.8,
            "count": 0
           },
           {
            "bin_start": 0.8,
            "bin_end": 0.9,
            "count": 0
           },
           {
            "bin_start": 0.9,
            "bin_end": 1,
            "count": 23
           }
          ]
         }
        },
        {
         "name": "Solar Power",
         "dtype": "float64",
         "stats": {
          "unique_count": 2,
          "nan_count": 0,
          "min": "0.0",
          "max": "1.0",
          "histogram": [
           {
            "bin_start": 0,
            "bin_end": 0.1,
            "count": 793
           },
           {
            "bin_start": 0.1,
            "bin_end": 0.2,
            "count": 0
           },
           {
            "bin_start": 0.2,
            "bin_end": 0.30000000000000004,
            "count": 0
           },
           {
            "bin_start": 0.30000000000000004,
            "bin_end": 0.4,
            "count": 0
           },
           {
            "bin_start": 0.4,
            "bin_end": 0.5,
            "count": 0
           },
           {
            "bin_start": 0.5,
            "bin_end": 0.6000000000000001,
            "count": 0
           },
           {
            "bin_start": 0.6000000000000001,
            "bin_end": 0.7000000000000001,
            "count": 0
           },
           {
            "bin_start": 0.7000000000000001,
            "bin_end": 0.8,
            "count": 0
           },
           {
            "bin_start": 0.8,
            "bin_end": 0.9,
            "count": 0
           },
           {
            "bin_start": 0.9,
            "bin_end": 1,
            "count": 8
           }
          ]
         }
        },
        {
         "name": "Torrent",
         "dtype": "float64",
         "stats": {
          "unique_count": 2,
          "nan_count": 0,
          "min": "0.0",
          "max": "1.0",
          "histogram": [
           {
            "bin_start": 0,
            "bin_end": 0.1,
            "count": 778
           },
           {
            "bin_start": 0.1,
            "bin_end": 0.2,
            "count": 0
           },
           {
            "bin_start": 0.2,
            "bin_end": 0.30000000000000004,
            "count": 0
           },
           {
            "bin_start": 0.30000000000000004,
            "bin_end": 0.4,
            "count": 0
           },
           {
            "bin_start": 0.4,
            "bin_end": 0.5,
            "count": 0
           },
           {
            "bin_start": 0.5,
            "bin_end": 0.6000000000000001,
            "count": 0
           },
           {
            "bin_start": 0.6000000000000001,
            "bin_end": 0.7000000000000001,
            "count": 0
           },
           {
            "bin_start": 0.7000000000000001,
            "bin_end": 0.8,
            "count": 0
           },
           {
            "bin_start": 0.8,
            "bin_end": 0.9,
            "count": 0
           },
           {
            "bin_start": 0.9,
            "bin_end": 1,
            "count": 23
           }
          ]
         }
        },
        {
         "name": "Rain Dish",
         "dtype": "float64",
         "stats": {
          "unique_count": 2,
          "nan_count": 0,
          "min": "0.0",
          "max": "1.0",
          "histogram": [
           {
            "bin_start": 0,
            "bin_end": 0.1,
            "count": 788
           },
           {
            "bin_start": 0.1,
            "bin_end": 0.2,
            "count": 0
           },
           {
            "bin_start": 0.2,
            "bin_end": 0.30000000000000004,
            "count": 0
           },
           {
            "bin_start": 0.30000000000000004,
            "bin_end": 0.4,
            "count": 0
           },
           {
            "bin_start": 0.4,
            "bin_end": 0.5,
            "count": 0
           },
           {
            "bin_start": 0.5,
            "bin_end": 0.6000000000000001,
            "count": 0
           },
           {
            "bin_start": 0.6000000000000001,
            "bin_end": 0.7000000000000001,
            "count": 0
           },
           {
            "bin_start": 0.7000000000000001,
            "bin_end": 0.8,
            "count": 0
           },
           {
            "bin_start": 0.8,
            "bin_end": 0.9,
            "count": 0
           },
           {
            "bin_start": 0.9,
            "bin_end": 1,
            "count": 13
           }
          ]
         }
        },
        {
         "name": "Shield Dust",
         "dtype": "float64",
         "stats": {
          "unique_count": 2,
          "nan_count": 0,
          "min": "0.0",
          "max": "1.0",
          "histogram": [
           {
            "bin_start": 0,
            "bin_end": 0.1,
            "count": 792
           },
           {
            "bin_start": 0.1,
            "bin_end": 0.2,
            "count": 0
           },
           {
            "bin_start": 0.2,
            "bin_end": 0.30000000000000004,
            "count": 0
           },
           {
            "bin_start": 0.30000000000000004,
            "bin_end": 0.4,
            "count": 0
           },
           {
            "bin_start": 0.4,
            "bin_end": 0.5,
            "count": 0
           },
           {
            "bin_start": 0.5,
            "bin_end": 0.6000000000000001,
            "count": 0
           },
           {
            "bin_start": 0.6000000000000001,
            "bin_end": 0.7000000000000001,
            "count": 0
           },
           {
            "bin_start": 0.7000000000000001,
            "bin_end": 0.8,
            "count": 0
           },
           {
            "bin_start": 0.8,
            "bin_end": 0.9,
            "count": 0
           },
           {
            "bin_start": 0.9,
            "bin_end": 1,
            "count": 9
           }
          ]
         }
        },
        {
         "name": "Run Away",
         "dtype": "float64",
         "stats": {
          "unique_count": 2,
          "nan_count": 0,
          "min": "0.0",
          "max": "1.0",
          "histogram": [
           {
            "bin_start": 0,
            "bin_end": 0.1,
            "count": 777
           },
           {
            "bin_start": 0.1,
            "bin_end": 0.2,
            "count": 0
           },
           {
            "bin_start": 0.2,
            "bin_end": 0.30000000000000004,
            "count": 0
           },
           {
            "bin_start": 0.30000000000000004,
            "bin_end": 0.4,
            "count": 0
           },
           {
            "bin_start": 0.4,
            "bin_end": 0.5,
            "count": 0
           },
           {
            "bin_start": 0.5,
            "bin_end": 0.6000000000000001,
            "count": 0
           },
           {
            "bin_start": 0.6000000000000001,
            "bin_end": 0.7000000000000001,
            "count": 0
           },
           {
            "bin_start": 0.7000000000000001,
            "bin_end": 0.8,
            "count": 0
           },
           {
            "bin_start": 0.8,
            "bin_end": 0.9,
            "count": 0
           },
           {
            "bin_start": 0.9,
            "bin_end": 1,
            "count": 24
           }
          ]
         }
        },
        {
         "name": "Shed Skin",
         "dtype": "float64",
         "stats": {
          "unique_count": 2,
          "nan_count": 0,
          "min": "0.0",
          "max": "1.0",
          "histogram": [
           {
            "bin_start": 0,
            "bin_end": 0.1,
            "count": 785
           },
           {
            "bin_start": 0.1,
            "bin_end": 0.2,
            "count": 0
           },
           {
            "bin_start": 0.2,
            "bin_end": 0.30000000000000004,
            "count": 0
           },
           {
            "bin_start": 0.30000000000000004,
            "bin_end": 0.4,
            "count": 0
           },
           {
            "bin_start": 0.4,
            "bin_end": 0.5,
            "count": 0
           },
           {
            "bin_start": 0.5,
            "bin_end": 0.6000000000000001,
            "count": 0
           },
           {
            "bin_start": 0.6000000000000001,
            "bin_end": 0.7000000000000001,
            "count": 0
           },
           {
            "bin_start": 0.7000000000000001,
            "bin_end": 0.8,
            "count": 0
           },
           {
            "bin_start": 0.8,
            "bin_end": 0.9,
            "count": 0
           },
           {
            "bin_start": 0.9,
            "bin_end": 1,
            "count": 16
           }
          ]
         }
        },
        {
         "name": "Compoundeyes",
         "dtype": "float64",
         "stats": {
          "unique_count": 2,
          "nan_count": 0,
          "min": "0.0",
          "max": "1.0",
          "histogram": [
           {
            "bin_start": 0,
            "bin_end": 0.1,
            "count": 792
           },
           {
            "bin_start": 0.1,
            "bin_end": 0.2,
            "count": 0
           },
           {
            "bin_start": 0.2,
            "bin_end": 0.30000000000000004,
            "count": 0
           },
           {
            "bin_start": 0.30000000000000004,
            "bin_end": 0.4,
            "count": 0
           },
           {
            "bin_start": 0.4,
            "bin_end": 0.5,
            "count": 0
           },
           {
            "bin_start": 0.5,
            "bin_end": 0.6000000000000001,
            "count": 0
           },
           {
            "bin_start": 0.6000000000000001,
            "bin_end": 0.7000000000000001,
            "count": 0
           },
           {
            "bin_start": 0.7000000000000001,
            "bin_end": 0.8,
            "count": 0
           },
           {
            "bin_start": 0.8,
            "bin_end": 0.9,
            "count": 0
           },
           {
            "bin_start": 0.9,
            "bin_end": 1,
            "count": 9
           }
          ]
         }
        },
        {
         "name": "Tinted Lens",
         "dtype": "float64",
         "stats": {
          "unique_count": 2,
          "nan_count": 0,
          "min": "0.0",
          "max": "1.0",
          "histogram": [
           {
            "bin_start": 0,
            "bin_end": 0.1,
            "count": 792
           },
           {
            "bin_start": 0.1,
            "bin_end": 0.2,
            "count": 0
           },
           {
            "bin_start": 0.2,
            "bin_end": 0.30000000000000004,
            "count": 0
           },
           {
            "bin_start": 0.30000000000000004,
            "bin_end": 0.4,
            "count": 0
           },
           {
            "bin_start": 0.4,
            "bin_end": 0.5,
            "count": 0
           },
           {
            "bin_start": 0.5,
            "bin_end": 0.6000000000000001,
            "count": 0
           },
           {
            "bin_start": 0.6000000000000001,
            "bin_end": 0.7000000000000001,
            "count": 0
           },
           {
            "bin_start": 0.7000000000000001,
            "bin_end": 0.8,
            "count": 0
           },
           {
            "bin_start": 0.8,
            "bin_end": 0.9,
            "count": 0
           },
           {
            "bin_start": 0.9,
            "bin_end": 1,
            "count": 9
           }
          ]
         }
        },
        {
         "name": "Swarm",
         "dtype": "float64",
         "stats": {
          "unique_count": 2,
          "nan_count": 0,
          "min": "0.0",
          "max": "1.0",
          "histogram": [
           {
            "bin_start": 0,
            "bin_end": 0.1,
            "count": 776
           },
           {
            "bin_start": 0.1,
            "bin_end": 0.2,
            "count": 0
           },
           {
            "bin_start": 0.2,
            "bin_end": 0.30000000000000004,
            "count": 0
           },
           {
            "bin_start": 0.30000000000000004,
            "bin_end": 0.4,
            "count": 0
           },
           {
            "bin_start": 0.4,
            "bin_end": 0.5,
            "count": 0
           },
           {
            "bin_start": 0.5,
            "bin_end": 0.6000000000000001,
            "count": 0
           },
           {
            "bin_start": 0.6000000000000001,
            "bin_end": 0.7000000000000001,
            "count": 0
           },
           {
            "bin_start": 0.7000000000000001,
            "bin_end": 0.8,
            "count": 0
           },
           {
            "bin_start": 0.8,
            "bin_end": 0.9,
            "count": 0
           },
           {
            "bin_start": 0.9,
            "bin_end": 1,
            "count": 25
           }
          ]
         }
        },
        {
         "name": "Sniper",
         "dtype": "float64",
         "stats": {
          "unique_count": 2,
          "nan_count": 0,
          "min": "0.0",
          "max": "1.0",
          "histogram": [
           {
            "bin_start": 0,
            "bin_end": 0.1,
            "count": 787
           },
           {
            "bin_start": 0.1,
            "bin_end": 0.2,
            "count": 0
           },
           {
            "bin_start": 0.2,
            "bin_end": 0.30000000000000004,
            "count": 0
           },
           {
            "bin_start": 0.30000000000000004,
            "bin_end": 0.4,
            "count": 0
           },
           {
            "bin_start": 0.4,
            "bin_end": 0.5,
            "count": 0
           },
           {
            "bin_start": 0.5,
            "bin_end": 0.6000000000000001,
            "count": 0
           },
           {
            "bin_start": 0.6000000000000001,
            "bin_end": 0.7000000000000001,
            "count": 0
           },
           {
            "bin_start": 0.7000000000000001,
            "bin_end": 0.8,
            "count": 0
           },
           {
            "bin_start": 0.8,
            "bin_end": 0.9,
            "count": 0
           },
           {
            "bin_start": 0.9,
            "bin_end": 1,
            "count": 14
           }
          ]
         }
        },
        {
         "name": "Keen Eye",
         "dtype": "float64",
         "stats": {
          "unique_count": 2,
          "nan_count": 0,
          "min": "0.0",
          "max": "1.0",
          "histogram": [
           {
            "bin_start": 0,
            "bin_end": 0.1,
            "count": 765
           },
           {
            "bin_start": 0.1,
            "bin_end": 0.2,
            "count": 0
           },
           {
            "bin_start": 0.2,
            "bin_end": 0.30000000000000004,
            "count": 0
           },
           {
            "bin_start": 0.30000000000000004,
            "bin_end": 0.4,
            "count": 0
           },
           {
            "bin_start": 0.4,
            "bin_end": 0.5,
            "count": 0
           },
           {
            "bin_start": 0.5,
            "bin_end": 0.6000000000000001,
            "count": 0
           },
           {
            "bin_start": 0.6000000000000001,
            "bin_end": 0.7000000000000001,
            "count": 0
           },
           {
            "bin_start": 0.7000000000000001,
            "bin_end": 0.8,
            "count": 0
           },
           {
            "bin_start": 0.8,
            "bin_end": 0.9,
            "count": 0
           },
           {
            "bin_start": 0.9,
            "bin_end": 1,
            "count": 36
           }
          ]
         }
        },
        {
         "name": "Tangled Feet",
         "dtype": "float64",
         "stats": {
          "unique_count": 2,
          "nan_count": 0,
          "min": "0.0",
          "max": "1.0",
          "histogram": [
           {
            "bin_start": 0,
            "bin_end": 0.1,
            "count": 794
           },
           {
            "bin_start": 0.1,
            "bin_end": 0.2,
            "count": 0
           },
           {
            "bin_start": 0.2,
            "bin_end": 0.30000000000000004,
            "count": 0
           },
           {
            "bin_start": 0.30000000000000004,
            "bin_end": 0.4,
            "count": 0
           },
           {
            "bin_start": 0.4,
            "bin_end": 0.5,
            "count": 0
           },
           {
            "bin_start": 0.5,
            "bin_end": 0.6000000000000001,
            "count": 0
           },
           {
            "bin_start": 0.6000000000000001,
            "bin_end": 0.7000000000000001,
            "count": 0
           },
           {
            "bin_start": 0.7000000000000001,
            "bin_end": 0.8,
            "count": 0
           },
           {
            "bin_start": 0.8,
            "bin_end": 0.9,
            "count": 0
           },
           {
            "bin_start": 0.9,
            "bin_end": 1,
            "count": 7
           }
          ]
         }
        },
        {
         "name": "Big Pecks",
         "dtype": "float64",
         "stats": {
          "unique_count": 2,
          "nan_count": 0,
          "min": "0.0",
          "max": "1.0",
          "histogram": [
           {
            "bin_start": 0,
            "bin_end": 0.1,
            "count": 789
           },
           {
            "bin_start": 0.1,
            "bin_end": 0.2,
            "count": 0
           },
           {
            "bin_start": 0.2,
            "bin_end": 0.30000000000000004,
            "count": 0
           },
           {
            "bin_start": 0.30000000000000004,
            "bin_end": 0.4,
            "count": 0
           },
           {
            "bin_start": 0.4,
            "bin_end": 0.5,
            "count": 0
           },
           {
            "bin_start": 0.5,
            "bin_end": 0.6000000000000001,
            "count": 0
           },
           {
            "bin_start": 0.6000000000000001,
            "bin_end": 0.7000000000000001,
            "count": 0
           },
           {
            "bin_start": 0.7000000000000001,
            "bin_end": 0.8,
            "count": 0
           },
           {
            "bin_start": 0.8,
            "bin_end": 0.9,
            "count": 0
           },
           {
            "bin_start": 0.9,
            "bin_end": 1,
            "count": 12
           }
          ]
         }
        },
        {
         "name": "Guts",
         "dtype": "float64",
         "stats": {
          "unique_count": 2,
          "nan_count": 0,
          "min": "0.0",
          "max": "1.0",
          "histogram": [
           {
            "bin_start": 0,
            "bin_end": 0.1,
            "count": 780
           },
           {
            "bin_start": 0.1,
            "bin_end": 0.2,
            "count": 0
           },
           {
            "bin_start": 0.2,
            "bin_end": 0.30000000000000004,
            "count": 0
           },
           {
            "bin_start": 0.30000000000000004,
            "bin_end": 0.4,
            "count": 0
           },
           {
            "bin_start": 0.4,
            "bin_end": 0.5,
            "count": 0
           },
           {
            "bin_start": 0.5,
            "bin_end": 0.6000000000000001,
            "count": 0
           },
           {
            "bin_start": 0.6000000000000001,
            "bin_end": 0.7000000000000001,
            "count": 0
           },
           {
            "bin_start": 0.7000000000000001,
            "bin_end": 0.8,
            "count": 0
           },
           {
            "bin_start": 0.8,
            "bin_end": 0.9,
            "count": 0
           },
           {
            "bin_start": 0.9,
            "bin_end": 1,
            "count": 21
           }
          ]
         }
        },
        {
         "name": "Hustle",
         "dtype": "float64",
         "stats": {
          "unique_count": 2,
          "nan_count": 0,
          "min": "0.0",
          "max": "1.0",
          "histogram": [
           {
            "bin_start": 0,
            "bin_end": 0.1,
            "count": 783
           },
           {
            "bin_start": 0.1,
            "bin_end": 0.2,
            "count": 0
           },
           {
            "bin_start": 0.2,
            "bin_end": 0.30000000000000004,
            "count": 0
           },
           {
            "bin_start": 0.30000000000000004,
            "bin_end": 0.4,
            "count": 0
           },
           {
            "bin_start": 0.4,
            "bin_end": 0.5,
            "count": 0
           },
           {
            "bin_start": 0.5,
            "bin_end": 0.6000000000000001,
            "count": 0
           },
           {
            "bin_start": 0.6000000000000001,
            "bin_end": 0.7000000000000001,
            "count": 0
           },
           {
            "bin_start": 0.7000000000000001,
            "bin_end": 0.8,
            "count": 0
           },
           {
            "bin_start": 0.8,
            "bin_end": 0.9,
            "count": 0
           },
           {
            "bin_start": 0.9,
            "bin_end": 1,
            "count": 18
           }
          ]
         }
        },
        {
         "name": "Gluttony",
         "dtype": "float64",
         "stats": {
          "unique_count": 2,
          "nan_count": 0,
          "min": "0.0",
          "max": "1.0",
          "histogram": [
           {
            "bin_start": 0,
            "bin_end": 0.1,
            "count": 778
           },
           {
            "bin_start": 0.1,
            "bin_end": 0.2,
            "count": 0
           },
           {
            "bin_start": 0.2,
            "bin_end": 0.30000000000000004,
            "count": 0
           },
           {
            "bin_start": 0.30000000000000004,
            "bin_end": 0.4,
            "count": 0
           },
           {
            "bin_start": 0.4,
            "bin_end": 0.5,
            "count": 0
           },
           {
            "bin_start": 0.5,
            "bin_end": 0.6000000000000001,
            "count": 0
           },
           {
            "bin_start": 0.6000000000000001,
            "bin_end": 0.7000000000000001,
            "count": 0
           },
           {
            "bin_start": 0.7000000000000001,
            "bin_end": 0.8,
            "count": 0
           },
           {
            "bin_start": 0.8,
            "bin_end": 0.9,
            "count": 0
           },
           {
            "bin_start": 0.9,
            "bin_end": 1,
            "count": 23
           }
          ]
         }
        },
        {
         "name": "Thick Fat",
         "dtype": "float64",
         "stats": {
          "unique_count": 2,
          "nan_count": 0,
          "min": "0.0",
          "max": "1.0",
          "histogram": [
           {
            "bin_start": 0,
            "bin_end": 0.1,
            "count": 778
           },
           {
            "bin_start": 0.1,
            "bin_end": 0.2,
            "count": 0
           },
           {
            "bin_start": 0.2,
            "bin_end": 0.30000000000000004,
            "count": 0
           },
           {
            "bin_start": 0.30000000000000004,
            "bin_end": 0.4,
            "count": 0
           },
           {
            "bin_start": 0.4,
            "bin_end": 0.5,
            "count": 0
           },
           {
            "bin_start": 0.5,
            "bin_end": 0.6000000000000001,
            "count": 0
           },
           {
            "bin_start": 0.6000000000000001,
            "bin_end": 0.7000000000000001,
            "count": 0
           },
           {
            "bin_start": 0.7000000000000001,
            "bin_end": 0.8,
            "count": 0
           },
           {
            "bin_start": 0.8,
            "bin_end": 0.9,
            "count": 0
           },
           {
            "bin_start": 0.9,
            "bin_end": 1,
            "count": 23
           }
          ]
         }
        },
        {
         "name": "Intimidate",
         "dtype": "float64",
         "stats": {
          "unique_count": 2,
          "nan_count": 0,
          "min": "0.0",
          "max": "1.0",
          "histogram": [
           {
            "bin_start": 0,
            "bin_end": 0.1,
            "count": 770
           },
           {
            "bin_start": 0.1,
            "bin_end": 0.2,
            "count": 0
           },
           {
            "bin_start": 0.2,
            "bin_end": 0.30000000000000004,
            "count": 0
           },
           {
            "bin_start": 0.30000000000000004,
            "bin_end": 0.4,
            "count": 0
           },
           {
            "bin_start": 0.4,
            "bin_end": 0.5,
            "count": 0
           },
           {
            "bin_start": 0.5,
            "bin_end": 0.6000000000000001,
            "count": 0
           },
           {
            "bin_start": 0.6000000000000001,
            "bin_end": 0.7000000000000001,
            "count": 0
           },
           {
            "bin_start": 0.7000000000000001,
            "bin_end": 0.8,
            "count": 0
           },
           {
            "bin_start": 0.8,
            "bin_end": 0.9,
            "count": 0
           },
           {
            "bin_start": 0.9,
            "bin_end": 1,
            "count": 31
           }
          ]
         }
        },
        {
         "name": "Unnerve",
         "dtype": "float64",
         "stats": {
          "unique_count": 2,
          "nan_count": 0,
          "min": "0.0",
          "max": "1.0",
          "histogram": [
           {
            "bin_start": 0,
            "bin_end": 0.1,
            "count": 781
           },
           {
            "bin_start": 0.1,
            "bin_end": 0.2,
            "count": 0
           },
           {
            "bin_start": 0.2,
            "bin_end": 0.30000000000000004,
            "count": 0
           },
           {
            "bin_start": 0.30000000000000004,
            "bin_end": 0.4,
            "count": 0
           },
           {
            "bin_start": 0.4,
            "bin_end": 0.5,
            "count": 0
           },
           {
            "bin_start": 0.5,
            "bin_end": 0.6000000000000001,
            "count": 0
           },
           {
            "bin_start": 0.6000000000000001,
            "bin_end": 0.7000000000000001,
            "count": 0
           },
           {
            "bin_start": 0.7000000000000001,
            "bin_end": 0.8,
            "count": 0
           },
           {
            "bin_start": 0.8,
            "bin_end": 0.9,
            "count": 0
           },
           {
            "bin_start": 0.9,
            "bin_end": 1,
            "count": 20
           }
          ]
         }
        },
        {
         "name": "Static",
         "dtype": "float64",
         "stats": {
          "unique_count": 2,
          "nan_count": 0,
          "min": "0.0",
          "max": "1.0",
          "histogram": [
           {
            "bin_start": 0,
            "bin_end": 0.1,
            "count": 786
           },
           {
            "bin_start": 0.1,
            "bin_end": 0.2,
            "count": 0
           },
           {
            "bin_start": 0.2,
            "bin_end": 0.30000000000000004,
            "count": 0
           },
           {
            "bin_start": 0.30000000000000004,
            "bin_end": 0.4,
            "count": 0
           },
           {
            "bin_start": 0.4,
            "bin_end": 0.5,
            "count": 0
           },
           {
            "bin_start": 0.5,
            "bin_end": 0.6000000000000001,
            "count": 0
           },
           {
            "bin_start": 0.6000000000000001,
            "bin_end": 0.7000000000000001,
            "count": 0
           },
           {
            "bin_start": 0.7000000000000001,
            "bin_end": 0.8,
            "count": 0
           },
           {
            "bin_start": 0.8,
            "bin_end": 0.9,
            "count": 0
           },
           {
            "bin_start": 0.9,
            "bin_end": 1,
            "count": 15
           }
          ]
         }
        },
        {
         "name": "Lightningrod",
         "dtype": "float64",
         "stats": {
          "unique_count": 2,
          "nan_count": 0,
          "min": "0.0",
          "max": "1.0",
          "histogram": [
           {
            "bin_start": 0,
            "bin_end": 0.1,
            "count": 785
           },
           {
            "bin_start": 0.1,
            "bin_end": 0.2,
            "count": 0
           },
           {
            "bin_start": 0.2,
            "bin_end": 0.30000000000000004,
            "count": 0
           },
           {
            "bin_start": 0.30000000000000004,
            "bin_end": 0.4,
            "count": 0
           },
           {
            "bin_start": 0.4,
            "bin_end": 0.5,
            "count": 0
           },
           {
            "bin_start": 0.5,
            "bin_end": 0.6000000000000001,
            "count": 0
           },
           {
            "bin_start": 0.6000000000000001,
            "bin_end": 0.7000000000000001,
            "count": 0
           },
           {
            "bin_start": 0.7000000000000001,
            "bin_end": 0.8,
            "count": 0
           },
           {
            "bin_start": 0.8,
            "bin_end": 0.9,
            "count": 0
           },
           {
            "bin_start": 0.9,
            "bin_end": 1,
            "count": 16
           }
          ]
         }
        },
        {
         "name": "Surge Surfer",
         "dtype": "float64",
         "stats": {
          "unique_count": 2,
          "nan_count": 0,
          "min": "0.0",
          "max": "1.0",
          "histogram": [
           {
            "bin_start": 0,
            "bin_end": 0.1,
            "count": 800
           },
           {
            "bin_start": 0.1,
            "bin_end": 0.2,
            "count": 0
           },
           {
            "bin_start": 0.2,
            "bin_end": 0.30000000000000004,
            "count": 0
           },
           {
            "bin_start": 0.30000000000000004,
            "bin_end": 0.4,
            "count": 0
           },
           {
            "bin_start": 0.4,
            "bin_end": 0.5,
            "count": 0
           },
           {
            "bin_start": 0.5,
            "bin_end": 0.6000000000000001,
            "count": 0
           },
           {
            "bin_start": 0.6000000000000001,
            "bin_end": 0.7000000000000001,
            "count": 0
           },
           {
            "bin_start": 0.7000000000000001,
            "bin_end": 0.8,
            "count": 0
           },
           {
            "bin_start": 0.8,
            "bin_end": 0.9,
            "count": 0
           },
           {
            "bin_start": 0.9,
            "bin_end": 1,
            "count": 1
           }
          ]
         }
        },
        {
         "name": "Sand Veil",
         "dtype": "float64",
         "stats": {
          "unique_count": 2,
          "nan_count": 0,
          "min": "0.0",
          "max": "1.0",
          "histogram": [
           {
            "bin_start": 0,
            "bin_end": 0.1,
            "count": 779
           },
           {
            "bin_start": 0.1,
            "bin_end": 0.2,
            "count": 0
           },
           {
            "bin_start": 0.2,
            "bin_end": 0.30000000000000004,
            "count": 0
           },
           {
            "bin_start": 0.30000000000000004,
            "bin_end": 0.4,
            "count": 0
           },
           {
            "bin_start": 0.4,
            "bin_end": 0.5,
            "count": 0
           },
           {
            "bin_start": 0.5,
            "bin_end": 0.6000000000000001,
            "count": 0
           },
           {
            "bin_start": 0.6000000000000001,
            "bin_end": 0.7000000000000001,
            "count": 0
           },
           {
            "bin_start": 0.7000000000000001,
            "bin_end": 0.8,
            "count": 0
           },
           {
            "bin_start": 0.8,
            "bin_end": 0.9,
            "count": 0
           },
           {
            "bin_start": 0.9,
            "bin_end": 1,
            "count": 22
           }
          ]
         }
        },
        {
         "name": "Sand Rush",
         "dtype": "float64",
         "stats": {
          "unique_count": 2,
          "nan_count": 0,
          "min": "0.0",
          "max": "1.0",
          "histogram": [
           {
            "bin_start": 0,
            "bin_end": 0.1,
            "count": 794
           },
           {
            "bin_start": 0.1,
            "bin_end": 0.2,
            "count": 0
           },
           {
            "bin_start": 0.2,
            "bin_end": 0.30000000000000004,
            "count": 0
           },
           {
            "bin_start": 0.30000000000000004,
            "bin_end": 0.4,
            "count": 0
           },
           {
            "bin_start": 0.4,
            "bin_end": 0.5,
            "count": 0
           },
           {
            "bin_start": 0.5,
            "bin_end": 0.6000000000000001,
            "count": 0
           },
           {
            "bin_start": 0.6000000000000001,
            "bin_end": 0.7000000000000001,
            "count": 0
           },
           {
            "bin_start": 0.7000000000000001,
            "bin_end": 0.8,
            "count": 0
           },
           {
            "bin_start": 0.8,
            "bin_end": 0.9,
            "count": 0
           },
           {
            "bin_start": 0.9,
            "bin_end": 1,
            "count": 7
           }
          ]
         }
        },
        {
         "name": "Snow Cloak",
         "dtype": "float64",
         "stats": {
          "unique_count": 2,
          "nan_count": 0,
          "min": "0.0",
          "max": "1.0",
          "histogram": [
           {
            "bin_start": 0,
            "bin_end": 0.1,
            "count": 787
           },
           {
            "bin_start": 0.1,
            "bin_end": 0.2,
            "count": 0
           },
           {
            "bin_start": 0.2,
            "bin_end": 0.30000000000000004,
            "count": 0
           },
           {
            "bin_start": 0.30000000000000004,
            "bin_end": 0.4,
            "count": 0
           },
           {
            "bin_start": 0.4,
            "bin_end": 0.5,
            "count": 0
           },
           {
            "bin_start": 0.5,
            "bin_end": 0.6000000000000001,
            "count": 0
           },
           {
            "bin_start": 0.6000000000000001,
            "bin_end": 0.7000000000000001,
            "count": 0
           },
           {
            "bin_start": 0.7000000000000001,
            "bin_end": 0.8,
            "count": 0
           },
           {
            "bin_start": 0.8,
            "bin_end": 0.9,
            "count": 0
           },
           {
            "bin_start": 0.9,
            "bin_end": 1,
            "count": 14
           }
          ]
         }
        },
        {
         "name": "Slush Rush",
         "dtype": "float64",
         "stats": {
          "unique_count": 2,
          "nan_count": 0,
          "min": "0.0",
          "max": "1.0",
          "histogram": [
           {
            "bin_start": 0,
            "bin_end": 0.1,
            "count": 797
           },
           {
            "bin_start": 0.1,
            "bin_end": 0.2,
            "count": 0
           },
           {
            "bin_start": 0.2,
            "bin_end": 0.30000000000000004,
            "count": 0
           },
           {
            "bin_start": 0.30000000000000004,
            "bin_end": 0.4,
            "count": 0
           },
           {
            "bin_start": 0.4,
            "bin_end": 0.5,
            "count": 0
           },
           {
            "bin_start": 0.5,
            "bin_end": 0.6000000000000001,
            "count": 0
           },
           {
            "bin_start": 0.6000000000000001,
            "bin_end": 0.7000000000000001,
            "count": 0
           },
           {
            "bin_start": 0.7000000000000001,
            "bin_end": 0.8,
            "count": 0
           },
           {
            "bin_start": 0.8,
            "bin_end": 0.9,
            "count": 0
           },
           {
            "bin_start": 0.9,
            "bin_end": 1,
            "count": 4
           }
          ]
         }
        },
        {
         "name": "Poison Point",
         "dtype": "float64",
         "stats": {
          "unique_count": 2,
          "nan_count": 0,
          "min": "0.0",
          "max": "1.0",
          "histogram": [
           {
            "bin_start": 0,
            "bin_end": 0.1,
            "count": 785
           },
           {
            "bin_start": 0.1,
            "bin_end": 0.2,
            "count": 0
           },
           {
            "bin_start": 0.2,
            "bin_end": 0.30000000000000004,
            "count": 0
           },
           {
            "bin_start": 0.30000000000000004,
            "bin_end": 0.4,
            "count": 0
           },
           {
            "bin_start": 0.4,
            "bin_end": 0.5,
            "count": 0
           },
           {
            "bin_start": 0.5,
            "bin_end": 0.6000000000000001,
            "count": 0
           },
           {
            "bin_start": 0.6000000000000001,
            "bin_end": 0.7000000000000001,
            "count": 0
           },
           {
            "bin_start": 0.7000000000000001,
            "bin_end": 0.8,
            "count": 0
           },
           {
            "bin_start": 0.8,
            "bin_end": 0.9,
            "count": 0
           },
           {
            "bin_start": 0.9,
            "bin_end": 1,
            "count": 16
           }
          ]
         }
        },
        {
         "name": "Rivalry",
         "dtype": "float64",
         "stats": {
          "unique_count": 2,
          "nan_count": 0,
          "min": "0.0",
          "max": "1.0",
          "histogram": [
           {
            "bin_start": 0,
            "bin_end": 0.1,
            "count": 783
           },
           {
            "bin_start": 0.1,
            "bin_end": 0.2,
            "count": 0
           },
           {
            "bin_start": 0.2,
            "bin_end": 0.30000000000000004,
            "count": 0
           },
           {
            "bin_start": 0.30000000000000004,
            "bin_end": 0.4,
            "count": 0
           },
           {
            "bin_start": 0.4,
            "bin_end": 0.5,
            "count": 0
           },
           {
            "bin_start": 0.5,
            "bin_end": 0.6000000000000001,
            "count": 0
           },
           {
            "bin_start": 0.6000000000000001,
            "bin_end": 0.7000000000000001,
            "count": 0
           },
           {
            "bin_start": 0.7000000000000001,
            "bin_end": 0.8,
            "count": 0
           },
           {
            "bin_start": 0.8,
            "bin_end": 0.9,
            "count": 0
           },
           {
            "bin_start": 0.9,
            "bin_end": 1,
            "count": 18
           }
          ]
         }
        },
        {
         "name": "Sheer Force",
         "dtype": "float64",
         "stats": {
          "unique_count": 2,
          "nan_count": 0,
          "min": "0.0",
          "max": "1.0",
          "histogram": [
           {
            "bin_start": 0,
            "bin_end": 0.1,
            "count": 776
           },
           {
            "bin_start": 0.1,
            "bin_end": 0.2,
            "count": 0
           },
           {
            "bin_start": 0.2,
            "bin_end": 0.30000000000000004,
            "count": 0
           },
           {
            "bin_start": 0.30000000000000004,
            "bin_end": 0.4,
            "count": 0
           },
           {
            "bin_start": 0.4,
            "bin_end": 0.5,
            "count": 0
           },
           {
            "bin_start": 0.5,
            "bin_end": 0.6000000000000001,
            "count": 0
           },
           {
            "bin_start": 0.6000000000000001,
            "bin_end": 0.7000000000000001,
            "count": 0
           },
           {
            "bin_start": 0.7000000000000001,
            "bin_end": 0.8,
            "count": 0
           },
           {
            "bin_start": 0.8,
            "bin_end": 0.9,
            "count": 0
           },
           {
            "bin_start": 0.9,
            "bin_end": 1,
            "count": 25
           }
          ]
         }
        },
        {
         "name": "Cute Charm",
         "dtype": "float64",
         "stats": {
          "unique_count": 2,
          "nan_count": 0,
          "min": "0.0",
          "max": "1.0",
          "histogram": [
           {
            "bin_start": 0,
            "bin_end": 0.1,
            "count": 787
           },
           {
            "bin_start": 0.1,
            "bin_end": 0.2,
            "count": 0
           },
           {
            "bin_start": 0.2,
            "bin_end": 0.30000000000000004,
            "count": 0
           },
           {
            "bin_start": 0.30000000000000004,
            "bin_end": 0.4,
            "count": 0
           },
           {
            "bin_start": 0.4,
            "bin_end": 0.5,
            "count": 0
           },
           {
            "bin_start": 0.5,
            "bin_end": 0.6000000000000001,
            "count": 0
           },
           {
            "bin_start": 0.6000000000000001,
            "bin_end": 0.7000000000000001,
            "count": 0
           },
           {
            "bin_start": 0.7000000000000001,
            "bin_end": 0.8,
            "count": 0
           },
           {
            "bin_start": 0.8,
            "bin_end": 0.9,
            "count": 0
           },
           {
            "bin_start": 0.9,
            "bin_end": 1,
            "count": 14
           }
          ]
         }
        },
        {
         "name": "Magic Guard",
         "dtype": "float64",
         "stats": {
          "unique_count": 2,
          "nan_count": 0,
          "min": "0.0",
          "max": "1.0",
          "histogram": [
           {
            "bin_start": 0,
            "bin_end": 0.1,
            "count": 791
           },
           {
            "bin_start": 0.1,
            "bin_end": 0.2,
            "count": 0
           },
           {
            "bin_start": 0.2,
            "bin_end": 0.30000000000000004,
            "count": 0
           },
           {
            "bin_start": 0.30000000000000004,
            "bin_end": 0.4,
            "count": 0
           },
           {
            "bin_start": 0.4,
            "bin_end": 0.5,
            "count": 0
           },
           {
            "bin_start": 0.5,
            "bin_end": 0.6000000000000001,
            "count": 0
           },
           {
            "bin_start": 0.6000000000000001,
            "bin_end": 0.7000000000000001,
            "count": 0
           },
           {
            "bin_start": 0.7000000000000001,
            "bin_end": 0.8,
            "count": 0
           },
           {
            "bin_start": 0.8,
            "bin_end": 0.9,
            "count": 0
           },
           {
            "bin_start": 0.9,
            "bin_end": 1,
            "count": 10
           }
          ]
         }
        },
        {
         "name": "Friend Guard",
         "dtype": "float64",
         "stats": {
          "unique_count": 2,
          "nan_count": 0,
          "min": "0.0",
          "max": "1.0",
          "histogram": [
           {
            "bin_start": 0,
            "bin_end": 0.1,
            "count": 793
           },
           {
            "bin_start": 0.1,
            "bin_end": 0.2,
            "count": 0
           },
           {
            "bin_start": 0.2,
            "bin_end": 0.30000000000000004,
            "count": 0
           },
           {
            "bin_start": 0.30000000000000004,
            "bin_end": 0.4,
            "count": 0
           },
           {
            "bin_start": 0.4,
            "bin_end": 0.5,
            "count": 0
           },
           {
            "bin_start": 0.5,
            "bin_end": 0.6000000000000001,
            "count": 0
           },
           {
            "bin_start": 0.6000000000000001,
            "bin_end": 0.7000000000000001,
            "count": 0
           },
           {
            "bin_start": 0.7000000000000001,
            "bin_end": 0.8,
            "count": 0
           },
           {
            "bin_start": 0.8,
            "bin_end": 0.9,
            "count": 0
           },
           {
            "bin_start": 0.9,
            "bin_end": 1,
            "count": 8
           }
          ]
         }
        },
        {
         "name": "Unaware",
         "dtype": "float64",
         "stats": {
          "unique_count": 2,
          "nan_count": 0,
          "min": "0.0",
          "max": "1.0",
          "histogram": [
           {
            "bin_start": 0,
            "bin_end": 0.1,
            "count": 792
           },
           {
            "bin_start": 0.1,
            "bin_end": 0.2,
            "count": 0
           },
           {
            "bin_start": 0.2,
            "bin_end": 0.30000000000000004,
            "count": 0
           },
           {
            "bin_start": 0.30000000000000004,
            "bin_end": 0.4,
            "count": 0
           },
           {
            "bin_start": 0.4,
            "bin_end": 0.5,
            "count": 0
           },
           {
            "bin_start": 0.5,
            "bin_end": 0.6000000000000001,
            "count": 0
           },
           {
            "bin_start": 0.6000000000000001,
            "bin_end": 0.7000000000000001,
            "count": 0
           },
           {
            "bin_start": 0.7000000000000001,
            "bin_end": 0.8,
            "count": 0
           },
           {
            "bin_start": 0.8,
            "bin_end": 0.9,
            "count": 0
           },
           {
            "bin_start": 0.9,
            "bin_end": 1,
            "count": 9
           }
          ]
         }
        },
        {
         "name": "Flash Fire",
         "dtype": "float64",
         "stats": {
          "unique_count": 2,
          "nan_count": 0,
          "min": "0.0",
          "max": "1.0",
          "histogram": [
           {
            "bin_start": 0,
            "bin_end": 0.1,
            "count": 784
           },
           {
            "bin_start": 0.1,
            "bin_end": 0.2,
            "count": 0
           },
           {
            "bin_start": 0.2,
            "bin_end": 0.30000000000000004,
            "count": 0
           },
           {
            "bin_start": 0.30000000000000004,
            "bin_end": 0.4,
            "count": 0
           },
           {
            "bin_start": 0.4,
            "bin_end": 0.5,
            "count": 0
           },
           {
            "bin_start": 0.5,
            "bin_end": 0.6000000000000001,
            "count": 0
           },
           {
            "bin_start": 0.6000000000000001,
            "bin_end": 0.7000000000000001,
            "count": 0
           },
           {
            "bin_start": 0.7000000000000001,
            "bin_end": 0.8,
            "count": 0
           },
           {
            "bin_start": 0.8,
            "bin_end": 0.9,
            "count": 0
           },
           {
            "bin_start": 0.9,
            "bin_end": 1,
            "count": 17
           }
          ]
         }
        },
        {
         "name": "Drought",
         "dtype": "float64",
         "stats": {
          "unique_count": 2,
          "nan_count": 0,
          "min": "0.0",
          "max": "1.0",
          "histogram": [
           {
            "bin_start": 0,
            "bin_end": 0.1,
            "count": 797
           },
           {
            "bin_start": 0.1,
            "bin_end": 0.2,
            "count": 0
           },
           {
            "bin_start": 0.2,
            "bin_end": 0.30000000000000004,
            "count": 0
           },
           {
            "bin_start": 0.30000000000000004,
            "bin_end": 0.4,
            "count": 0
           },
           {
            "bin_start": 0.4,
            "bin_end": 0.5,
            "count": 0
           },
           {
            "bin_start": 0.5,
            "bin_end": 0.6000000000000001,
            "count": 0
           },
           {
            "bin_start": 0.6000000000000001,
            "bin_end": 0.7000000000000001,
            "count": 0
           },
           {
            "bin_start": 0.7000000000000001,
            "bin_end": 0.8,
            "count": 0
           },
           {
            "bin_start": 0.8,
            "bin_end": 0.9,
            "count": 0
           },
           {
            "bin_start": 0.9,
            "bin_end": 1,
            "count": 4
           }
          ]
         }
        },
        {
         "name": "Snow Warning",
         "dtype": "float64",
         "stats": {
          "unique_count": 2,
          "nan_count": 0,
          "min": "0.0",
          "max": "1.0",
          "histogram": [
           {
            "bin_start": 0,
            "bin_end": 0.1,
            "count": 794
           },
           {
            "bin_start": 0.1,
            "bin_end": 0.2,
            "count": 0
           },
           {
            "bin_start": 0.2,
            "bin_end": 0.30000000000000004,
            "count": 0
           },
           {
            "bin_start": 0.30000000000000004,
            "bin_end": 0.4,
            "count": 0
           },
           {
            "bin_start": 0.4,
            "bin_end": 0.5,
            "count": 0
           },
           {
            "bin_start": 0.5,
            "bin_end": 0.6000000000000001,
            "count": 0
           },
           {
            "bin_start": 0.6000000000000001,
            "bin_end": 0.7000000000000001,
            "count": 0
           },
           {
            "bin_start": 0.7000000000000001,
            "bin_end": 0.8,
            "count": 0
           },
           {
            "bin_start": 0.8,
            "bin_end": 0.9,
            "count": 0
           },
           {
            "bin_start": 0.9,
            "bin_end": 1,
            "count": 7
           }
          ]
         }
        },
        {
         "name": "Competitive",
         "dtype": "float64",
         "stats": {
          "unique_count": 2,
          "nan_count": 0,
          "min": "0.0",
          "max": "1.0",
          "histogram": [
           {
            "bin_start": 0,
            "bin_end": 0.1,
            "count": 793
           },
           {
            "bin_start": 0.1,
            "bin_end": 0.2,
            "count": 0
           },
           {
            "bin_start": 0.2,
            "bin_end": 0.30000000000000004,
            "count": 0
           },
           {
            "bin_start": 0.30000000000000004,
            "bin_end": 0.4,
            "count": 0
           },
           {
            "bin_start": 0.4,
            "bin_end": 0.5,
            "count": 0
           },
           {
            "bin_start": 0.5,
            "bin_end": 0.6000000000000001,
            "count": 0
           },
           {
            "bin_start": 0.6000000000000001,
            "bin_end": 0.7000000000000001,
            "count": 0
           },
           {
            "bin_start": 0.7000000000000001,
            "bin_end": 0.8,
            "count": 0
           },
           {
            "bin_start": 0.8,
            "bin_end": 0.9,
            "count": 0
           },
           {
            "bin_start": 0.9,
            "bin_end": 1,
            "count": 8
           }
          ]
         }
        },
        {
         "name": "Frisk",
         "dtype": "float64",
         "stats": {
          "unique_count": 2,
          "nan_count": 0,
          "min": "0.0",
          "max": "1.0",
          "histogram": [
           {
            "bin_start": 0,
            "bin_end": 0.1,
            "count": 780
           },
           {
            "bin_start": 0.1,
            "bin_end": 0.2,
            "count": 0
           },
           {
            "bin_start": 0.2,
            "bin_end": 0.30000000000000004,
            "count": 0
           },
           {
            "bin_start": 0.30000000000000004,
            "bin_end": 0.4,
            "count": 0
           },
           {
            "bin_start": 0.4,
            "bin_end": 0.5,
            "count": 0
           },
           {
            "bin_start": 0.5,
            "bin_end": 0.6000000000000001,
            "count": 0
           },
           {
            "bin_start": 0.6000000000000001,
            "bin_end": 0.7000000000000001,
            "count": 0
           },
           {
            "bin_start": 0.7000000000000001,
            "bin_end": 0.8,
            "count": 0
           },
           {
            "bin_start": 0.8,
            "bin_end": 0.9,
            "count": 0
           },
           {
            "bin_start": 0.9,
            "bin_end": 1,
            "count": 21
           }
          ]
         }
        },
        {
         "name": "Inner Focus",
         "dtype": "float64",
         "stats": {
          "unique_count": 2,
          "nan_count": 0,
          "min": "0.0",
          "max": "1.0",
          "histogram": [
           {
            "bin_start": 0,
            "bin_end": 0.1,
            "count": 769
           },
           {
            "bin_start": 0.1,
            "bin_end": 0.2,
            "count": 0
           },
           {
            "bin_start": 0.2,
            "bin_end": 0.30000000000000004,
            "count": 0
           },
           {
            "bin_start": 0.30000000000000004,
            "bin_end": 0.4,
            "count": 0
           },
           {
            "bin_start": 0.4,
            "bin_end": 0.5,
            "count": 0
           },
           {
            "bin_start": 0.5,
            "bin_end": 0.6000000000000001,
            "count": 0
           },
           {
            "bin_start": 0.6000000000000001,
            "bin_end": 0.7000000000000001,
            "count": 0
           },
           {
            "bin_start": 0.7000000000000001,
            "bin_end": 0.8,
            "count": 0
           },
           {
            "bin_start": 0.8,
            "bin_end": 0.9,
            "count": 0
           },
           {
            "bin_start": 0.9,
            "bin_end": 1,
            "count": 32
           }
          ]
         }
        },
        {
         "name": "Infiltrator",
         "dtype": "float64",
         "stats": {
          "unique_count": 2,
          "nan_count": 0,
          "min": "0.0",
          "max": "1.0",
          "histogram": [
           {
            "bin_start": 0,
            "bin_end": 0.1,
            "count": 781
           },
           {
            "bin_start": 0.1,
            "bin_end": 0.2,
            "count": 0
           },
           {
            "bin_start": 0.2,
            "bin_end": 0.30000000000000004,
            "count": 0
           },
           {
            "bin_start": 0.30000000000000004,
            "bin_end": 0.4,
            "count": 0
           },
           {
            "bin_start": 0.4,
            "bin_end": 0.5,
            "count": 0
           },
           {
            "bin_start": 0.5,
            "bin_end": 0.6000000000000001,
            "count": 0
           },
           {
            "bin_start": 0.6000000000000001,
            "bin_end": 0.7000000000000001,
            "count": 0
           },
           {
            "bin_start": 0.7000000000000001,
            "bin_end": 0.8,
            "count": 0
           },
           {
            "bin_start": 0.8,
            "bin_end": 0.9,
            "count": 0
           },
           {
            "bin_start": 0.9,
            "bin_end": 1,
            "count": 20
           }
          ]
         }
        },
        {
         "name": "Stench",
         "dtype": "float64",
         "stats": {
          "unique_count": 2,
          "nan_count": 0,
          "min": "0.0",
          "max": "1.0",
          "histogram": [
           {
            "bin_start": 0,
            "bin_end": 0.1,
            "count": 794
           },
           {
            "bin_start": 0.1,
            "bin_end": 0.2,
            "count": 0
           },
           {
            "bin_start": 0.2,
            "bin_end": 0.30000000000000004,
            "count": 0
           },
           {
            "bin_start": 0.30000000000000004,
            "bin_end": 0.4,
            "count": 0
           },
           {
            "bin_start": 0.4,
            "bin_end": 0.5,
            "count": 0
           },
           {
            "bin_start": 0.5,
            "bin_end": 0.6000000000000001,
            "count": 0
           },
           {
            "bin_start": 0.6000000000000001,
            "bin_end": 0.7000000000000001,
            "count": 0
           },
           {
            "bin_start": 0.7000000000000001,
            "bin_end": 0.8,
            "count": 0
           },
           {
            "bin_start": 0.8,
            "bin_end": 0.9,
            "count": 0
           },
           {
            "bin_start": 0.9,
            "bin_end": 1,
            "count": 7
           }
          ]
         }
        },
        {
         "name": "Effect Spore",
         "dtype": "float64",
         "stats": {
          "unique_count": 2,
          "nan_count": 0,
          "min": "0.0",
          "max": "1.0",
          "histogram": [
           {
            "bin_start": 0,
            "bin_end": 0.1,
            "count": 792
           },
           {
            "bin_start": 0.1,
            "bin_end": 0.2,
            "count": 0
           },
           {
            "bin_start": 0.2,
            "bin_end": 0.30000000000000004,
            "count": 0
           },
           {
            "bin_start": 0.30000000000000004,
            "bin_end": 0.4,
            "count": 0
           },
           {
            "bin_start": 0.4,
            "bin_end": 0.5,
            "count": 0
           },
           {
            "bin_start": 0.5,
            "bin_end": 0.6000000000000001,
            "count": 0
           },
           {
            "bin_start": 0.6000000000000001,
            "bin_end": 0.7000000000000001,
            "count": 0
           },
           {
            "bin_start": 0.7000000000000001,
            "bin_end": 0.8,
            "count": 0
           },
           {
            "bin_start": 0.8,
            "bin_end": 0.9,
            "count": 0
           },
           {
            "bin_start": 0.9,
            "bin_end": 1,
            "count": 9
           }
          ]
         }
        },
        {
         "name": "Dry Skin",
         "dtype": "float64",
         "stats": {
          "unique_count": 2,
          "nan_count": 0,
          "min": "0.0",
          "max": "1.0",
          "histogram": [
           {
            "bin_start": 0,
            "bin_end": 0.1,
            "count": 794
           },
           {
            "bin_start": 0.1,
            "bin_end": 0.2,
            "count": 0
           },
           {
            "bin_start": 0.2,
            "bin_end": 0.30000000000000004,
            "count": 0
           },
           {
            "bin_start": 0.30000000000000004,
            "bin_end": 0.4,
            "count": 0
           },
           {
            "bin_start": 0.4,
            "bin_end": 0.5,
            "count": 0
           },
           {
            "bin_start": 0.5,
            "bin_end": 0.6000000000000001,
            "count": 0
           },
           {
            "bin_start": 0.6000000000000001,
            "bin_end": 0.7000000000000001,
            "count": 0
           },
           {
            "bin_start": 0.7000000000000001,
            "bin_end": 0.8,
            "count": 0
           },
           {
            "bin_start": 0.8,
            "bin_end": 0.9,
            "count": 0
           },
           {
            "bin_start": 0.9,
            "bin_end": 1,
            "count": 7
           }
          ]
         }
        },
        {
         "name": "Damp",
         "dtype": "float64",
         "stats": {
          "unique_count": 2,
          "nan_count": 0,
          "min": "0.0",
          "max": "1.0",
          "histogram": [
           {
            "bin_start": 0,
            "bin_end": 0.1,
            "count": 783
           },
           {
            "bin_start": 0.1,
            "bin_end": 0.2,
            "count": 0
           },
           {
            "bin_start": 0.2,
            "bin_end": 0.30000000000000004,
            "count": 0
           },
           {
            "bin_start": 0.30000000000000004,
            "bin_end": 0.4,
            "count": 0
           },
           {
            "bin_start": 0.4,
            "bin_end": 0.5,
            "count": 0
           },
           {
            "bin_start": 0.5,
            "bin_end": 0.6000000000000001,
            "count": 0
           },
           {
            "bin_start": 0.6000000000000001,
            "bin_end": 0.7000000000000001,
            "count": 0
           },
           {
            "bin_start": 0.7000000000000001,
            "bin_end": 0.8,
            "count": 0
           },
           {
            "bin_start": 0.8,
            "bin_end": 0.9,
            "count": 0
           },
           {
            "bin_start": 0.9,
            "bin_end": 1,
            "count": 18
           }
          ]
         }
        },
        {
         "name": "Wonder Skin ",
         "dtype": "float64",
         "stats": {
          "unique_count": 2,
          "nan_count": 0,
          "min": "0.0",
          "max": "1.0",
          "histogram": [
           {
            "bin_start": 0,
            "bin_end": 0.1,
            "count": 796
           },
           {
            "bin_start": 0.1,
            "bin_end": 0.2,
            "count": 0
           },
           {
            "bin_start": 0.2,
            "bin_end": 0.30000000000000004,
            "count": 0
           },
           {
            "bin_start": 0.30000000000000004,
            "bin_end": 0.4,
            "count": 0
           },
           {
            "bin_start": 0.4,
            "bin_end": 0.5,
            "count": 0
           },
           {
            "bin_start": 0.5,
            "bin_end": 0.6000000000000001,
            "count": 0
           },
           {
            "bin_start": 0.6000000000000001,
            "bin_end": 0.7000000000000001,
            "count": 0
           },
           {
            "bin_start": 0.7000000000000001,
            "bin_end": 0.8,
            "count": 0
           },
           {
            "bin_start": 0.8,
            "bin_end": 0.9,
            "count": 0
           },
           {
            "bin_start": 0.9,
            "bin_end": 1,
            "count": 5
           }
          ]
         }
        },
        {
         "name": "Arena Trap",
         "dtype": "float64",
         "stats": {
          "unique_count": 2,
          "nan_count": 0,
          "min": "0.0",
          "max": "1.0",
          "histogram": [
           {
            "bin_start": 0,
            "bin_end": 0.1,
            "count": 798
           },
           {
            "bin_start": 0.1,
            "bin_end": 0.2,
            "count": 0
           },
           {
            "bin_start": 0.2,
            "bin_end": 0.30000000000000004,
            "count": 0
           },
           {
            "bin_start": 0.30000000000000004,
            "bin_end": 0.4,
            "count": 0
           },
           {
            "bin_start": 0.4,
            "bin_end": 0.5,
            "count": 0
           },
           {
            "bin_start": 0.5,
            "bin_end": 0.6000000000000001,
            "count": 0
           },
           {
            "bin_start": 0.6000000000000001,
            "bin_end": 0.7000000000000001,
            "count": 0
           },
           {
            "bin_start": 0.7000000000000001,
            "bin_end": 0.8,
            "count": 0
           },
           {
            "bin_start": 0.8,
            "bin_end": 0.9,
            "count": 0
           },
           {
            "bin_start": 0.9,
            "bin_end": 1,
            "count": 3
           }
          ]
         }
        },
        {
         "name": "Sand Force",
         "dtype": "float64",
         "stats": {
          "unique_count": 2,
          "nan_count": 0,
          "min": "0.0",
          "max": "1.0",
          "histogram": [
           {
            "bin_start": 0,
            "bin_end": 0.1,
            "count": 787
           },
           {
            "bin_start": 0.1,
            "bin_end": 0.2,
            "count": 0
           },
           {
            "bin_start": 0.2,
            "bin_end": 0.30000000000000004,
            "count": 0
           },
           {
            "bin_start": 0.30000000000000004,
            "bin_end": 0.4,
            "count": 0
           },
           {
            "bin_start": 0.4,
            "bin_end": 0.5,
            "count": 0
           },
           {
            "bin_start": 0.5,
            "bin_end": 0.6000000000000001,
            "count": 0
           },
           {
            "bin_start": 0.6000000000000001,
            "bin_end": 0.7000000000000001,
            "count": 0
           },
           {
            "bin_start": 0.7000000000000001,
            "bin_end": 0.8,
            "count": 0
           },
           {
            "bin_start": 0.8,
            "bin_end": 0.9,
            "count": 0
           },
           {
            "bin_start": 0.9,
            "bin_end": 1,
            "count": 14
           }
          ]
         }
        },
        {
         "name": "Tangling Hair",
         "dtype": "float64",
         "stats": {
          "unique_count": 2,
          "nan_count": 0,
          "min": "0.0",
          "max": "1.0",
          "histogram": [
           {
            "bin_start": 0,
            "bin_end": 0.1,
            "count": 799
           },
           {
            "bin_start": 0.1,
            "bin_end": 0.2,
            "count": 0
           },
           {
            "bin_start": 0.2,
            "bin_end": 0.30000000000000004,
            "count": 0
           },
           {
            "bin_start": 0.30000000000000004,
            "bin_end": 0.4,
            "count": 0
           },
           {
            "bin_start": 0.4,
            "bin_end": 0.5,
            "count": 0
           },
           {
            "bin_start": 0.5,
            "bin_end": 0.6000000000000001,
            "count": 0
           },
           {
            "bin_start": 0.6000000000000001,
            "bin_end": 0.7000000000000001,
            "count": 0
           },
           {
            "bin_start": 0.7000000000000001,
            "bin_end": 0.8,
            "count": 0
           },
           {
            "bin_start": 0.8,
            "bin_end": 0.9,
            "count": 0
           },
           {
            "bin_start": 0.9,
            "bin_end": 1,
            "count": 2
           }
          ]
         }
        },
        {
         "name": "Pickup",
         "dtype": "float64",
         "stats": {
          "unique_count": 2,
          "nan_count": 0,
          "min": "0.0",
          "max": "1.0",
          "histogram": [
           {
            "bin_start": 0,
            "bin_end": 0.1,
            "count": 784
           },
           {
            "bin_start": 0.1,
            "bin_end": 0.2,
            "count": 0
           },
           {
            "bin_start": 0.2,
            "bin_end": 0.30000000000000004,
            "count": 0
           },
           {
            "bin_start": 0.30000000000000004,
            "bin_end": 0.4,
            "count": 0
           },
           {
            "bin_start": 0.4,
            "bin_end": 0.5,
            "count": 0
           },
           {
            "bin_start": 0.5,
            "bin_end": 0.6000000000000001,
            "count": 0
           },
           {
            "bin_start": 0.6000000000000001,
            "bin_end": 0.7000000000000001,
            "count": 0
           },
           {
            "bin_start": 0.7000000000000001,
            "bin_end": 0.8,
            "count": 0
           },
           {
            "bin_start": 0.8,
            "bin_end": 0.9,
            "count": 0
           },
           {
            "bin_start": 0.9,
            "bin_end": 1,
            "count": 17
           }
          ]
         }
        },
        {
         "name": "Technician",
         "dtype": "float64",
         "stats": {
          "unique_count": 2,
          "nan_count": 0,
          "min": "0.0",
          "max": "1.0",
          "histogram": [
           {
            "bin_start": 0,
            "bin_end": 0.1,
            "count": 787
           },
           {
            "bin_start": 0.1,
            "bin_end": 0.2,
            "count": 0
           },
           {
            "bin_start": 0.2,
            "bin_end": 0.30000000000000004,
            "count": 0
           },
           {
            "bin_start": 0.30000000000000004,
            "bin_end": 0.4,
            "count": 0
           },
           {
            "bin_start": 0.4,
            "bin_end": 0.5,
            "count": 0
           },
           {
            "bin_start": 0.5,
            "bin_end": 0.6000000000000001,
            "count": 0
           },
           {
            "bin_start": 0.6000000000000001,
            "bin_end": 0.7000000000000001,
            "count": 0
           },
           {
            "bin_start": 0.7000000000000001,
            "bin_end": 0.8,
            "count": 0
           },
           {
            "bin_start": 0.8,
            "bin_end": 0.9,
            "count": 0
           },
           {
            "bin_start": 0.9,
            "bin_end": 1,
            "count": 14
           }
          ]
         }
        },
        {
         "name": "Rattled",
         "dtype": "float64",
         "stats": {
          "unique_count": 2,
          "nan_count": 0,
          "min": "0.0",
          "max": "1.0",
          "histogram": [
           {
            "bin_start": 0,
            "bin_end": 0.1,
            "count": 788
           },
           {
            "bin_start": 0.1,
            "bin_end": 0.2,
            "count": 0
           },
           {
            "bin_start": 0.2,
            "bin_end": 0.30000000000000004,
            "count": 0
           },
           {
            "bin_start": 0.30000000000000004,
            "bin_end": 0.4,
            "count": 0
           },
           {
            "bin_start": 0.4,
            "bin_end": 0.5,
            "count": 0
           },
           {
            "bin_start": 0.5,
            "bin_end": 0.6000000000000001,
            "count": 0
           },
           {
            "bin_start": 0.6000000000000001,
            "bin_end": 0.7000000000000001,
            "count": 0
           },
           {
            "bin_start": 0.7000000000000001,
            "bin_end": 0.8,
            "count": 0
           },
           {
            "bin_start": 0.8,
            "bin_end": 0.9,
            "count": 0
           },
           {
            "bin_start": 0.9,
            "bin_end": 1,
            "count": 13
           }
          ]
         }
        },
        {
         "name": "Limber",
         "dtype": "float64",
         "stats": {
          "unique_count": 2,
          "nan_count": 0,
          "min": "0.0",
          "max": "1.0",
          "histogram": [
           {
            "bin_start": 0,
            "bin_end": 0.1,
            "count": 789
           },
           {
            "bin_start": 0.1,
            "bin_end": 0.2,
            "count": 0
           },
           {
            "bin_start": 0.2,
            "bin_end": 0.30000000000000004,
            "count": 0
           },
           {
            "bin_start": 0.30000000000000004,
            "bin_end": 0.4,
            "count": 0
           },
           {
            "bin_start": 0.4,
            "bin_end": 0.5,
            "count": 0
           },
           {
            "bin_start": 0.5,
            "bin_end": 0.6000000000000001,
            "count": 0
           },
           {
            "bin_start": 0.6000000000000001,
            "bin_end": 0.7000000000000001,
            "count": 0
           },
           {
            "bin_start": 0.7000000000000001,
            "bin_end": 0.8,
            "count": 0
           },
           {
            "bin_start": 0.8,
            "bin_end": 0.9,
            "count": 0
           },
           {
            "bin_start": 0.9,
            "bin_end": 1,
            "count": 12
           }
          ]
         }
        },
        {
         "name": "Fur Coat",
         "dtype": "float64",
         "stats": {
          "unique_count": 2,
          "nan_count": 0,
          "min": "0.0",
          "max": "1.0",
          "histogram": [
           {
            "bin_start": 0,
            "bin_end": 0.1,
            "count": 799
           },
           {
            "bin_start": 0.1,
            "bin_end": 0.2,
            "count": 0
           },
           {
            "bin_start": 0.2,
            "bin_end": 0.30000000000000004,
            "count": 0
           },
           {
            "bin_start": 0.30000000000000004,
            "bin_end": 0.4,
            "count": 0
           },
           {
            "bin_start": 0.4,
            "bin_end": 0.5,
            "count": 0
           },
           {
            "bin_start": 0.5,
            "bin_end": 0.6000000000000001,
            "count": 0
           },
           {
            "bin_start": 0.6000000000000001,
            "bin_end": 0.7000000000000001,
            "count": 0
           },
           {
            "bin_start": 0.7000000000000001,
            "bin_end": 0.8,
            "count": 0
           },
           {
            "bin_start": 0.8,
            "bin_end": 0.9,
            "count": 0
           },
           {
            "bin_start": 0.9,
            "bin_end": 1,
            "count": 2
           }
          ]
         }
        },
        {
         "name": "Cloud Nine",
         "dtype": "float64",
         "stats": {
          "unique_count": 2,
          "nan_count": 0,
          "min": "0.0",
          "max": "1.0",
          "histogram": [
           {
            "bin_start": 0,
            "bin_end": 0.1,
            "count": 794
           },
           {
            "bin_start": 0.1,
            "bin_end": 0.2,
            "count": 0
           },
           {
            "bin_start": 0.2,
            "bin_end": 0.30000000000000004,
            "count": 0
           },
           {
            "bin_start": 0.30000000000000004,
            "bin_end": 0.4,
            "count": 0
           },
           {
            "bin_start": 0.4,
            "bin_end": 0.5,
            "count": 0
           },
           {
            "bin_start": 0.5,
            "bin_end": 0.6000000000000001,
            "count": 0
           },
           {
            "bin_start": 0.6000000000000001,
            "bin_end": 0.7000000000000001,
            "count": 0
           },
           {
            "bin_start": 0.7000000000000001,
            "bin_end": 0.8,
            "count": 0
           },
           {
            "bin_start": 0.8,
            "bin_end": 0.9,
            "count": 0
           },
           {
            "bin_start": 0.9,
            "bin_end": 1,
            "count": 7
           }
          ]
         }
        },
        {
         "name": "Swift Swim",
         "dtype": "float64",
         "stats": {
          "unique_count": 2,
          "nan_count": 0,
          "min": "0.0",
          "max": "1.0",
          "histogram": [
           {
            "bin_start": 0,
            "bin_end": 0.1,
            "count": 763
           },
           {
            "bin_start": 0.1,
            "bin_end": 0.2,
            "count": 0
           },
           {
            "bin_start": 0.2,
            "bin_end": 0.30000000000000004,
            "count": 0
           },
           {
            "bin_start": 0.30000000000000004,
            "bin_end": 0.4,
            "count": 0
           },
           {
            "bin_start": 0.4,
            "bin_end": 0.5,
            "count": 0
           },
           {
            "bin_start": 0.5,
            "bin_end": 0.6000000000000001,
            "count": 0
           },
           {
            "bin_start": 0.6000000000000001,
            "bin_end": 0.7000000000000001,
            "count": 0
           },
           {
            "bin_start": 0.7000000000000001,
            "bin_end": 0.8,
            "count": 0
           },
           {
            "bin_start": 0.8,
            "bin_end": 0.9,
            "count": 0
           },
           {
            "bin_start": 0.9,
            "bin_end": 1,
            "count": 38
           }
          ]
         }
        },
        {
         "name": "Vital Spirit",
         "dtype": "float64",
         "stats": {
          "unique_count": 2,
          "nan_count": 0,
          "min": "0.0",
          "max": "1.0",
          "histogram": [
           {
            "bin_start": 0,
            "bin_end": 0.1,
            "count": 787
           },
           {
            "bin_start": 0.1,
            "bin_end": 0.2,
            "count": 0
           },
           {
            "bin_start": 0.2,
            "bin_end": 0.30000000000000004,
            "count": 0
           },
           {
            "bin_start": 0.30000000000000004,
            "bin_end": 0.4,
            "count": 0
           },
           {
            "bin_start": 0.4,
            "bin_end": 0.5,
            "count": 0
           },
           {
            "bin_start": 0.5,
            "bin_end": 0.6000000000000001,
            "count": 0
           },
           {
            "bin_start": 0.6000000000000001,
            "bin_end": 0.7000000000000001,
            "count": 0
           },
           {
            "bin_start": 0.7000000000000001,
            "bin_end": 0.8,
            "count": 0
           },
           {
            "bin_start": 0.8,
            "bin_end": 0.9,
            "count": 0
           },
           {
            "bin_start": 0.9,
            "bin_end": 1,
            "count": 14
           }
          ]
         }
        },
        {
         "name": "Anger Point",
         "dtype": "float64",
         "stats": {
          "unique_count": 2,
          "nan_count": 0,
          "min": "0.0",
          "max": "1.0",
          "histogram": [
           {
            "bin_start": 0,
            "bin_end": 0.1,
            "count": 792
           },
           {
            "bin_start": 0.1,
            "bin_end": 0.2,
            "count": 0
           },
           {
            "bin_start": 0.2,
            "bin_end": 0.30000000000000004,
            "count": 0
           },
           {
            "bin_start": 0.30000000000000004,
            "bin_end": 0.4,
            "count": 0
           },
           {
            "bin_start": 0.4,
            "bin_end": 0.5,
            "count": 0
           },
           {
            "bin_start": 0.5,
            "bin_end": 0.6000000000000001,
            "count": 0
           },
           {
            "bin_start": 0.6000000000000001,
            "bin_end": 0.7000000000000001,
            "count": 0
           },
           {
            "bin_start": 0.7000000000000001,
            "bin_end": 0.8,
            "count": 0
           },
           {
            "bin_start": 0.8,
            "bin_end": 0.9,
            "count": 0
           },
           {
            "bin_start": 0.9,
            "bin_end": 1,
            "count": 9
           }
          ]
         }
        },
        {
         "name": "Defiant",
         "dtype": "float64",
         "stats": {
          "unique_count": 2,
          "nan_count": 0,
          "min": "0.0",
          "max": "1.0",
          "histogram": [
           {
            "bin_start": 0,
            "bin_end": 0.1,
            "count": 788
           },
           {
            "bin_start": 0.1,
            "bin_end": 0.2,
            "count": 0
           },
           {
            "bin_start": 0.2,
            "bin_end": 0.30000000000000004,
            "count": 0
           },
           {
            "bin_start": 0.30000000000000004,
            "bin_end": 0.4,
            "count": 0
           },
           {
            "bin_start": 0.4,
            "bin_end": 0.5,
            "count": 0
           },
           {
            "bin_start": 0.5,
            "bin_end": 0.6000000000000001,
            "count": 0
           },
           {
            "bin_start": 0.6000000000000001,
            "bin_end": 0.7000000000000001,
            "count": 0
           },
           {
            "bin_start": 0.7000000000000001,
            "bin_end": 0.8,
            "count": 0
           },
           {
            "bin_start": 0.8,
            "bin_end": 0.9,
            "count": 0
           },
           {
            "bin_start": 0.9,
            "bin_end": 1,
            "count": 13
           }
          ]
         }
        },
        {
         "name": "Justified",
         "dtype": "float64",
         "stats": {
          "unique_count": 2,
          "nan_count": 0,
          "min": "0.0",
          "max": "1.0",
          "histogram": [
           {
            "bin_start": 0,
            "bin_end": 0.1,
            "count": 792
           },
           {
            "bin_start": 0.1,
            "bin_end": 0.2,
            "count": 0
           },
           {
            "bin_start": 0.2,
            "bin_end": 0.30000000000000004,
            "count": 0
           },
           {
            "bin_start": 0.30000000000000004,
            "bin_end": 0.4,
            "count": 0
           },
           {
            "bin_start": 0.4,
            "bin_end": 0.5,
            "count": 0
           },
           {
            "bin_start": 0.5,
            "bin_end": 0.6000000000000001,
            "count": 0
           },
           {
            "bin_start": 0.6000000000000001,
            "bin_end": 0.7000000000000001,
            "count": 0
           },
           {
            "bin_start": 0.7000000000000001,
            "bin_end": 0.8,
            "count": 0
           },
           {
            "bin_start": 0.8,
            "bin_end": 0.9,
            "count": 0
           },
           {
            "bin_start": 0.9,
            "bin_end": 1,
            "count": 9
           }
          ]
         }
        },
        {
         "name": "Water Absorb",
         "dtype": "float64",
         "stats": {
          "unique_count": 2,
          "nan_count": 0,
          "min": "0.0",
          "max": "1.0",
          "histogram": [
           {
            "bin_start": 0,
            "bin_end": 0.1,
            "count": 778
           },
           {
            "bin_start": 0.1,
            "bin_end": 0.2,
            "count": 0
           },
           {
            "bin_start": 0.2,
            "bin_end": 0.30000000000000004,
            "count": 0
           },
           {
            "bin_start": 0.30000000000000004,
            "bin_end": 0.4,
            "count": 0
           },
           {
            "bin_start": 0.4,
            "bin_end": 0.5,
            "count": 0
           },
           {
            "bin_start": 0.5,
            "bin_end": 0.6000000000000001,
            "count": 0
           },
           {
            "bin_start": 0.6000000000000001,
            "bin_end": 0.7000000000000001,
            "count": 0
           },
           {
            "bin_start": 0.7000000000000001,
            "bin_end": 0.8,
            "count": 0
           },
           {
            "bin_start": 0.8,
            "bin_end": 0.9,
            "count": 0
           },
           {
            "bin_start": 0.9,
            "bin_end": 1,
            "count": 23
           }
          ]
         }
        },
        {
         "name": "Synchronize",
         "dtype": "float64",
         "stats": {
          "unique_count": 2,
          "nan_count": 0,
          "min": "0.0",
          "max": "1.0",
          "histogram": [
           {
            "bin_start": 0,
            "bin_end": 0.1,
            "count": 786
           },
           {
            "bin_start": 0.1,
            "bin_end": 0.2,
            "count": 0
           },
           {
            "bin_start": 0.2,
            "bin_end": 0.30000000000000004,
            "count": 0
           },
           {
            "bin_start": 0.30000000000000004,
            "bin_end": 0.4,
            "count": 0
           },
           {
            "bin_start": 0.4,
            "bin_end": 0.5,
            "count": 0
           },
           {
            "bin_start": 0.5,
            "bin_end": 0.6000000000000001,
            "count": 0
           },
           {
            "bin_start": 0.6000000000000001,
            "bin_end": 0.7000000000000001,
            "count": 0
           },
           {
            "bin_start": 0.7000000000000001,
            "bin_end": 0.8,
            "count": 0
           },
           {
            "bin_start": 0.8,
            "bin_end": 0.9,
            "count": 0
           },
           {
            "bin_start": 0.9,
            "bin_end": 1,
            "count": 15
           }
          ]
         }
        },
        {
         "name": "No Guard",
         "dtype": "float64",
         "stats": {
          "unique_count": 2,
          "nan_count": 0,
          "min": "0.0",
          "max": "1.0",
          "histogram": [
           {
            "bin_start": 0,
            "bin_end": 0.1,
            "count": 792
           },
           {
            "bin_start": 0.1,
            "bin_end": 0.2,
            "count": 0
           },
           {
            "bin_start": 0.2,
            "bin_end": 0.30000000000000004,
            "count": 0
           },
           {
            "bin_start": 0.30000000000000004,
            "bin_end": 0.4,
            "count": 0
           },
           {
            "bin_start": 0.4,
            "bin_end": 0.5,
            "count": 0
           },
           {
            "bin_start": 0.5,
            "bin_end": 0.6000000000000001,
            "count": 0
           },
           {
            "bin_start": 0.6000000000000001,
            "bin_end": 0.7000000000000001,
            "count": 0
           },
           {
            "bin_start": 0.7000000000000001,
            "bin_end": 0.8,
            "count": 0
           },
           {
            "bin_start": 0.8,
            "bin_end": 0.9,
            "count": 0
           },
           {
            "bin_start": 0.9,
            "bin_end": 1,
            "count": 9
           }
          ]
         }
        },
        {
         "name": "Steadfast",
         "dtype": "float64",
         "stats": {
          "unique_count": 2,
          "nan_count": 0,
          "min": "0.0",
          "max": "1.0",
          "histogram": [
           {
            "bin_start": 0,
            "bin_end": 0.1,
            "count": 790
           },
           {
            "bin_start": 0.1,
            "bin_end": 0.2,
            "count": 0
           },
           {
            "bin_start": 0.2,
            "bin_end": 0.30000000000000004,
            "count": 0
           },
           {
            "bin_start": 0.30000000000000004,
            "bin_end": 0.4,
            "count": 0
           },
           {
            "bin_start": 0.4,
            "bin_end": 0.5,
            "count": 0
           },
           {
            "bin_start": 0.5,
            "bin_end": 0.6000000000000001,
            "count": 0
           },
           {
            "bin_start": 0.6000000000000001,
            "bin_end": 0.7000000000000001,
            "count": 0
           },
           {
            "bin_start": 0.7000000000000001,
            "bin_end": 0.8,
            "count": 0
           },
           {
            "bin_start": 0.8,
            "bin_end": 0.9,
            "count": 0
           },
           {
            "bin_start": 0.9,
            "bin_end": 1,
            "count": 11
           }
          ]
         }
        },
        {
         "name": "Clear Body",
         "dtype": "float64",
         "stats": {
          "unique_count": 2,
          "nan_count": 0,
          "min": "0.0",
          "max": "1.0",
          "histogram": [
           {
            "bin_start": 0,
            "bin_end": 0.1,
            "count": 788
           },
           {
            "bin_start": 0.1,
            "bin_end": 0.2,
            "count": 0
           },
           {
            "bin_start": 0.2,
            "bin_end": 0.30000000000000004,
            "count": 0
           },
           {
            "bin_start": 0.30000000000000004,
            "bin_end": 0.4,
            "count": 0
           },
           {
            "bin_start": 0.4,
            "bin_end": 0.5,
            "count": 0
           },
           {
            "bin_start": 0.5,
            "bin_end": 0.6000000000000001,
            "count": 0
           },
           {
            "bin_start": 0.6000000000000001,
            "bin_end": 0.7000000000000001,
            "count": 0
           },
           {
            "bin_start": 0.7000000000000001,
            "bin_end": 0.8,
            "count": 0
           },
           {
            "bin_start": 0.8,
            "bin_end": 0.9,
            "count": 0
           },
           {
            "bin_start": 0.9,
            "bin_end": 1,
            "count": 13
           }
          ]
         }
        },
        {
         "name": "Liquid Ooze",
         "dtype": "float64",
         "stats": {
          "unique_count": 2,
          "nan_count": 0,
          "min": "0.0",
          "max": "1.0",
          "histogram": [
           {
            "bin_start": 0,
            "bin_end": 0.1,
            "count": 797
           },
           {
            "bin_start": 0.1,
            "bin_end": 0.2,
            "count": 0
           },
           {
            "bin_start": 0.2,
            "bin_end": 0.30000000000000004,
            "count": 0
           },
           {
            "bin_start": 0.30000000000000004,
            "bin_end": 0.4,
            "count": 0
           },
           {
            "bin_start": 0.4,
            "bin_end": 0.5,
            "count": 0
           },
           {
            "bin_start": 0.5,
            "bin_end": 0.6000000000000001,
            "count": 0
           },
           {
            "bin_start": 0.6000000000000001,
            "bin_end": 0.7000000000000001,
            "count": 0
           },
           {
            "bin_start": 0.7000000000000001,
            "bin_end": 0.8,
            "count": 0
           },
           {
            "bin_start": 0.8,
            "bin_end": 0.9,
            "count": 0
           },
           {
            "bin_start": 0.9,
            "bin_end": 1,
            "count": 4
           }
          ]
         }
        },
        {
         "name": "Rock Head",
         "dtype": "float64",
         "stats": {
          "unique_count": 2,
          "nan_count": 0,
          "min": "0.0",
          "max": "1.0",
          "histogram": [
           {
            "bin_start": 0,
            "bin_end": 0.1,
            "count": 781
           },
           {
            "bin_start": 0.1,
            "bin_end": 0.2,
            "count": 0
           },
           {
            "bin_start": 0.2,
            "bin_end": 0.30000000000000004,
            "count": 0
           },
           {
            "bin_start": 0.30000000000000004,
            "bin_end": 0.4,
            "count": 0
           },
           {
            "bin_start": 0.4,
            "bin_end": 0.5,
            "count": 0
           },
           {
            "bin_start": 0.5,
            "bin_end": 0.6000000000000001,
            "count": 0
           },
           {
            "bin_start": 0.6000000000000001,
            "bin_end": 0.7000000000000001,
            "count": 0
           },
           {
            "bin_start": 0.7000000000000001,
            "bin_end": 0.8,
            "count": 0
           },
           {
            "bin_start": 0.8,
            "bin_end": 0.9,
            "count": 0
           },
           {
            "bin_start": 0.9,
            "bin_end": 1,
            "count": 20
           }
          ]
         }
        },
        {
         "name": "Sturdy",
         "dtype": "float64",
         "stats": {
          "unique_count": 2,
          "nan_count": 0,
          "min": "0.0",
          "max": "1.0",
          "histogram": [
           {
            "bin_start": 0,
            "bin_end": 0.1,
            "count": 763
           },
           {
            "bin_start": 0.1,
            "bin_end": 0.2,
            "count": 0
           },
           {
            "bin_start": 0.2,
            "bin_end": 0.30000000000000004,
            "count": 0
           },
           {
            "bin_start": 0.30000000000000004,
            "bin_end": 0.4,
            "count": 0
           },
           {
            "bin_start": 0.4,
            "bin_end": 0.5,
            "count": 0
           },
           {
            "bin_start": 0.5,
            "bin_end": 0.6000000000000001,
            "count": 0
           },
           {
            "bin_start": 0.6000000000000001,
            "bin_end": 0.7000000000000001,
            "count": 0
           },
           {
            "bin_start": 0.7000000000000001,
            "bin_end": 0.8,
            "count": 0
           },
           {
            "bin_start": 0.8,
            "bin_end": 0.9,
            "count": 0
           },
           {
            "bin_start": 0.9,
            "bin_end": 1,
            "count": 38
           }
          ]
         }
        },
        {
         "name": "Magnet Pull",
         "dtype": "float64",
         "stats": {
          "unique_count": 2,
          "nan_count": 0,
          "min": "0.0",
          "max": "1.0",
          "histogram": [
           {
            "bin_start": 0,
            "bin_end": 0.1,
            "count": 793
           },
           {
            "bin_start": 0.1,
            "bin_end": 0.2,
            "count": 0
           },
           {
            "bin_start": 0.2,
            "bin_end": 0.30000000000000004,
            "count": 0
           },
           {
            "bin_start": 0.30000000000000004,
            "bin_end": 0.4,
            "count": 0
           },
           {
            "bin_start": 0.4,
            "bin_end": 0.5,
            "count": 0
           },
           {
            "bin_start": 0.5,
            "bin_end": 0.6000000000000001,
            "count": 0
           },
           {
            "bin_start": 0.6000000000000001,
            "bin_end": 0.7000000000000001,
            "count": 0
           },
           {
            "bin_start": 0.7000000000000001,
            "bin_end": 0.8,
            "count": 0
           },
           {
            "bin_start": 0.8,
            "bin_end": 0.9,
            "count": 0
           },
           {
            "bin_start": 0.9,
            "bin_end": 1,
            "count": 8
           }
          ]
         }
        },
        {
         "name": "Galvanize",
         "dtype": "float64",
         "stats": {
          "unique_count": 2,
          "nan_count": 0,
          "min": "0.0",
          "max": "1.0",
          "histogram": [
           {
            "bin_start": 0,
            "bin_end": 0.1,
            "count": 798
           },
           {
            "bin_start": 0.1,
            "bin_end": 0.2,
            "count": 0
           },
           {
            "bin_start": 0.2,
            "bin_end": 0.30000000000000004,
            "count": 0
           },
           {
            "bin_start": 0.30000000000000004,
            "bin_end": 0.4,
            "count": 0
           },
           {
            "bin_start": 0.4,
            "bin_end": 0.5,
            "count": 0
           },
           {
            "bin_start": 0.5,
            "bin_end": 0.6000000000000001,
            "count": 0
           },
           {
            "bin_start": 0.6000000000000001,
            "bin_end": 0.7000000000000001,
            "count": 0
           },
           {
            "bin_start": 0.7000000000000001,
            "bin_end": 0.8,
            "count": 0
           },
           {
            "bin_start": 0.8,
            "bin_end": 0.9,
            "count": 0
           },
           {
            "bin_start": 0.9,
            "bin_end": 1,
            "count": 3
           }
          ]
         }
        },
        {
         "name": "Flame Body",
         "dtype": "float64",
         "stats": {
          "unique_count": 2,
          "nan_count": 0,
          "min": "0.0",
          "max": "1.0",
          "histogram": [
           {
            "bin_start": 0,
            "bin_end": 0.1,
            "count": 785
           },
           {
            "bin_start": 0.1,
            "bin_end": 0.2,
            "count": 0
           },
           {
            "bin_start": 0.2,
            "bin_end": 0.30000000000000004,
            "count": 0
           },
           {
            "bin_start": 0.30000000000000004,
            "bin_end": 0.4,
            "count": 0
           },
           {
            "bin_start": 0.4,
            "bin_end": 0.5,
            "count": 0
           },
           {
            "bin_start": 0.5,
            "bin_end": 0.6000000000000001,
            "count": 0
           },
           {
            "bin_start": 0.6000000000000001,
            "bin_end": 0.7000000000000001,
            "count": 0
           },
           {
            "bin_start": 0.7000000000000001,
            "bin_end": 0.8,
            "count": 0
           },
           {
            "bin_start": 0.8,
            "bin_end": 0.9,
            "count": 0
           },
           {
            "bin_start": 0.9,
            "bin_end": 1,
            "count": 16
           }
          ]
         }
        },
        {
         "name": "Oblivious",
         "dtype": "float64",
         "stats": {
          "unique_count": 2,
          "nan_count": 0,
          "min": "0.0",
          "max": "1.0",
          "histogram": [
           {
            "bin_start": 0,
            "bin_end": 0.1,
            "count": 777
           },
           {
            "bin_start": 0.1,
            "bin_end": 0.2,
            "count": 0
           },
           {
            "bin_start": 0.2,
            "bin_end": 0.30000000000000004,
            "count": 0
           },
           {
            "bin_start": 0.30000000000000004,
            "bin_end": 0.4,
            "count": 0
           },
           {
            "bin_start": 0.4,
            "bin_end": 0.5,
            "count": 0
           },
           {
            "bin_start": 0.5,
            "bin_end": 0.6000000000000001,
            "count": 0
           },
           {
            "bin_start": 0.6000000000000001,
            "bin_end": 0.7000000000000001,
            "count": 0
           },
           {
            "bin_start": 0.7000000000000001,
            "bin_end": 0.8,
            "count": 0
           },
           {
            "bin_start": 0.8,
            "bin_end": 0.9,
            "count": 0
           },
           {
            "bin_start": 0.9,
            "bin_end": 1,
            "count": 24
           }
          ]
         }
        },
        {
         "name": "Own Tempo",
         "dtype": "float64",
         "stats": {
          "unique_count": 2,
          "nan_count": 0,
          "min": "0.0",
          "max": "1.0",
          "histogram": [
           {
            "bin_start": 0,
            "bin_end": 0.1,
            "count": 779
           },
           {
            "bin_start": 0.1,
            "bin_end": 0.2,
            "count": 0
           },
           {
            "bin_start": 0.2,
            "bin_end": 0.30000000000000004,
            "count": 0
           },
           {
            "bin_start": 0.30000000000000004,
            "bin_end": 0.4,
            "count": 0
           },
           {
            "bin_start": 0.4,
            "bin_end": 0.5,
            "count": 0
           },
           {
            "bin_start": 0.5,
            "bin_end": 0.6000000000000001,
            "count": 0
           },
           {
            "bin_start": 0.6000000000000001,
            "bin_end": 0.7000000000000001,
            "count": 0
           },
           {
            "bin_start": 0.7000000000000001,
            "bin_end": 0.8,
            "count": 0
           },
           {
            "bin_start": 0.8,
            "bin_end": 0.9,
            "count": 0
           },
           {
            "bin_start": 0.9,
            "bin_end": 1,
            "count": 22
           }
          ]
         }
        },
        {
         "name": "Regenerator",
         "dtype": "float64",
         "stats": {
          "unique_count": 2,
          "nan_count": 0,
          "min": "0.0",
          "max": "1.0",
          "histogram": [
           {
            "bin_start": 0,
            "bin_end": 0.1,
            "count": 782
           },
           {
            "bin_start": 0.1,
            "bin_end": 0.2,
            "count": 0
           },
           {
            "bin_start": 0.2,
            "bin_end": 0.30000000000000004,
            "count": 0
           },
           {
            "bin_start": 0.30000000000000004,
            "bin_end": 0.4,
            "count": 0
           },
           {
            "bin_start": 0.4,
            "bin_end": 0.5,
            "count": 0
           },
           {
            "bin_start": 0.5,
            "bin_end": 0.6000000000000001,
            "count": 0
           },
           {
            "bin_start": 0.6000000000000001,
            "bin_end": 0.7000000000000001,
            "count": 0
           },
           {
            "bin_start": 0.7000000000000001,
            "bin_end": 0.8,
            "count": 0
           },
           {
            "bin_start": 0.8,
            "bin_end": 0.9,
            "count": 0
           },
           {
            "bin_start": 0.9,
            "bin_end": 1,
            "count": 19
           }
          ]
         }
        },
        {
         "name": "Analytic",
         "dtype": "float64",
         "stats": {
          "unique_count": 2,
          "nan_count": 0,
          "min": "0.0",
          "max": "1.0",
          "histogram": [
           {
            "bin_start": 0,
            "bin_end": 0.1,
            "count": 789
           },
           {
            "bin_start": 0.1,
            "bin_end": 0.2,
            "count": 0
           },
           {
            "bin_start": 0.2,
            "bin_end": 0.30000000000000004,
            "count": 0
           },
           {
            "bin_start": 0.30000000000000004,
            "bin_end": 0.4,
            "count": 0
           },
           {
            "bin_start": 0.4,
            "bin_end": 0.5,
            "count": 0
           },
           {
            "bin_start": 0.5,
            "bin_end": 0.6000000000000001,
            "count": 0
           },
           {
            "bin_start": 0.6000000000000001,
            "bin_end": 0.7000000000000001,
            "count": 0
           },
           {
            "bin_start": 0.7000000000000001,
            "bin_end": 0.8,
            "count": 0
           },
           {
            "bin_start": 0.8,
            "bin_end": 0.9,
            "count": 0
           },
           {
            "bin_start": 0.9,
            "bin_end": 1,
            "count": 12
           }
          ]
         }
        },
        {
         "name": "Early Bird",
         "dtype": "float64",
         "stats": {
          "unique_count": 2,
          "nan_count": 0,
          "min": "0.0",
          "max": "1.0",
          "histogram": [
           {
            "bin_start": 0,
            "bin_end": 0.1,
            "count": 786
           },
           {
            "bin_start": 0.1,
            "bin_end": 0.2,
            "count": 0
           },
           {
            "bin_start": 0.2,
            "bin_end": 0.30000000000000004,
            "count": 0
           },
           {
            "bin_start": 0.30000000000000004,
            "bin_end": 0.4,
            "count": 0
           },
           {
            "bin_start": 0.4,
            "bin_end": 0.5,
            "count": 0
           },
           {
            "bin_start": 0.5,
            "bin_end": 0.6000000000000001,
            "count": 0
           },
           {
            "bin_start": 0.6000000000000001,
            "bin_end": 0.7000000000000001,
            "count": 0
           },
           {
            "bin_start": 0.7000000000000001,
            "bin_end": 0.8,
            "count": 0
           },
           {
            "bin_start": 0.8,
            "bin_end": 0.9,
            "count": 0
           },
           {
            "bin_start": 0.9,
            "bin_end": 1,
            "count": 15
           }
          ]
         }
        },
        {
         "name": "Hydration",
         "dtype": "float64",
         "stats": {
          "unique_count": 2,
          "nan_count": 0,
          "min": "0.0",
          "max": "1.0",
          "histogram": [
           {
            "bin_start": 0,
            "bin_end": 0.1,
            "count": 779
           },
           {
            "bin_start": 0.1,
            "bin_end": 0.2,
            "count": 0
           },
           {
            "bin_start": 0.2,
            "bin_end": 0.30000000000000004,
            "count": 0
           },
           {
            "bin_start": 0.30000000000000004,
            "bin_end": 0.4,
            "count": 0
           },
           {
            "bin_start": 0.4,
            "bin_end": 0.5,
            "count": 0
           },
           {
            "bin_start": 0.5,
            "bin_end": 0.6000000000000001,
            "count": 0
           },
           {
            "bin_start": 0.6000000000000001,
            "bin_end": 0.7000000000000001,
            "count": 0
           },
           {
            "bin_start": 0.7000000000000001,
            "bin_end": 0.8,
            "count": 0
           },
           {
            "bin_start": 0.8,
            "bin_end": 0.9,
            "count": 0
           },
           {
            "bin_start": 0.9,
            "bin_end": 1,
            "count": 22
           }
          ]
         }
        },
        {
         "name": "Ice Body",
         "dtype": "float64",
         "stats": {
          "unique_count": 2,
          "nan_count": 0,
          "min": "0.0",
          "max": "1.0",
          "histogram": [
           {
            "bin_start": 0,
            "bin_end": 0.1,
            "count": 787
           },
           {
            "bin_start": 0.1,
            "bin_end": 0.2,
            "count": 0
           },
           {
            "bin_start": 0.2,
            "bin_end": 0.30000000000000004,
            "count": 0
           },
           {
            "bin_start": 0.30000000000000004,
            "bin_end": 0.4,
            "count": 0
           },
           {
            "bin_start": 0.4,
            "bin_end": 0.5,
            "count": 0
           },
           {
            "bin_start": 0.5,
            "bin_end": 0.6000000000000001,
            "count": 0
           },
           {
            "bin_start": 0.6000000000000001,
            "bin_end": 0.7000000000000001,
            "count": 0
           },
           {
            "bin_start": 0.7000000000000001,
            "bin_end": 0.8,
            "count": 0
           },
           {
            "bin_start": 0.8,
            "bin_end": 0.9,
            "count": 0
           },
           {
            "bin_start": 0.9,
            "bin_end": 1,
            "count": 14
           }
          ]
         }
        },
        {
         "name": "Sticky Hold",
         "dtype": "float64",
         "stats": {
          "unique_count": 2,
          "nan_count": 0,
          "min": "0.0",
          "max": "1.0",
          "histogram": [
           {
            "bin_start": 0,
            "bin_end": 0.1,
            "count": 793
           },
           {
            "bin_start": 0.1,
            "bin_end": 0.2,
            "count": 0
           },
           {
            "bin_start": 0.2,
            "bin_end": 0.30000000000000004,
            "count": 0
           },
           {
            "bin_start": 0.30000000000000004,
            "bin_end": 0.4,
            "count": 0
           },
           {
            "bin_start": 0.4,
            "bin_end": 0.5,
            "count": 0
           },
           {
            "bin_start": 0.5,
            "bin_end": 0.6000000000000001,
            "count": 0
           },
           {
            "bin_start": 0.6000000000000001,
            "bin_end": 0.7000000000000001,
            "count": 0
           },
           {
            "bin_start": 0.7000000000000001,
            "bin_end": 0.8,
            "count": 0
           },
           {
            "bin_start": 0.8,
            "bin_end": 0.9,
            "count": 0
           },
           {
            "bin_start": 0.9,
            "bin_end": 1,
            "count": 8
           }
          ]
         }
        },
        {
         "name": "Poison Touch",
         "dtype": "float64",
         "stats": {
          "unique_count": 2,
          "nan_count": 0,
          "min": "0.0",
          "max": "1.0",
          "histogram": [
           {
            "bin_start": 0,
            "bin_end": 0.1,
            "count": 794
           },
           {
            "bin_start": 0.1,
            "bin_end": 0.2,
            "count": 0
           },
           {
            "bin_start": 0.2,
            "bin_end": 0.30000000000000004,
            "count": 0
           },
           {
            "bin_start": 0.30000000000000004,
            "bin_end": 0.4,
            "count": 0
           },
           {
            "bin_start": 0.4,
            "bin_end": 0.5,
            "count": 0
           },
           {
            "bin_start": 0.5,
            "bin_end": 0.6000000000000001,
            "count": 0
           },
           {
            "bin_start": 0.6000000000000001,
            "bin_end": 0.7000000000000001,
            "count": 0
           },
           {
            "bin_start": 0.7000000000000001,
            "bin_end": 0.8,
            "count": 0
           },
           {
            "bin_start": 0.8,
            "bin_end": 0.9,
            "count": 0
           },
           {
            "bin_start": 0.9,
            "bin_end": 1,
            "count": 7
           }
          ]
         }
        },
        {
         "name": "Power of Alchemy",
         "dtype": "float64",
         "stats": {
          "unique_count": 2,
          "nan_count": 0,
          "min": "0.0",
          "max": "1.0",
          "histogram": [
           {
            "bin_start": 0,
            "bin_end": 0.1,
            "count": 799
           },
           {
            "bin_start": 0.1,
            "bin_end": 0.2,
            "count": 0
           },
           {
            "bin_start": 0.2,
            "bin_end": 0.30000000000000004,
            "count": 0
           },
           {
            "bin_start": 0.30000000000000004,
            "bin_end": 0.4,
            "count": 0
           },
           {
            "bin_start": 0.4,
            "bin_end": 0.5,
            "count": 0
           },
           {
            "bin_start": 0.5,
            "bin_end": 0.6000000000000001,
            "count": 0
           },
           {
            "bin_start": 0.6000000000000001,
            "bin_end": 0.7000000000000001,
            "count": 0
           },
           {
            "bin_start": 0.7000000000000001,
            "bin_end": 0.8,
            "count": 0
           },
           {
            "bin_start": 0.8,
            "bin_end": 0.9,
            "count": 0
           },
           {
            "bin_start": 0.9,
            "bin_end": 1,
            "count": 2
           }
          ]
         }
        },
        {
         "name": "Shell Armor",
         "dtype": "float64",
         "stats": {
          "unique_count": 2,
          "nan_count": 0,
          "min": "0.0",
          "max": "1.0",
          "histogram": [
           {
            "bin_start": 0,
            "bin_end": 0.1,
            "count": 779
           },
           {
            "bin_start": 0.1,
            "bin_end": 0.2,
            "count": 0
           },
           {
            "bin_start": 0.2,
            "bin_end": 0.30000000000000004,
            "count": 0
           },
           {
            "bin_start": 0.30000000000000004,
            "bin_end": 0.4,
            "count": 0
           },
           {
            "bin_start": 0.4,
            "bin_end": 0.5,
            "count": 0
           },
           {
            "bin_start": 0.5,
            "bin_end": 0.6000000000000001,
            "count": 0
           },
           {
            "bin_start": 0.6000000000000001,
            "bin_end": 0.7000000000000001,
            "count": 0
           },
           {
            "bin_start": 0.7000000000000001,
            "bin_end": 0.8,
            "count": 0
           },
           {
            "bin_start": 0.8,
            "bin_end": 0.9,
            "count": 0
           },
           {
            "bin_start": 0.9,
            "bin_end": 1,
            "count": 22
           }
          ]
         }
        },
        {
         "name": "Skill Link",
         "dtype": "float64",
         "stats": {
          "unique_count": 2,
          "nan_count": 0,
          "min": "0.0",
          "max": "1.0",
          "histogram": [
           {
            "bin_start": 0,
            "bin_end": 0.1,
            "count": 792
           },
           {
            "bin_start": 0.1,
            "bin_end": 0.2,
            "count": 0
           },
           {
            "bin_start": 0.2,
            "bin_end": 0.30000000000000004,
            "count": 0
           },
           {
            "bin_start": 0.30000000000000004,
            "bin_end": 0.4,
            "count": 0
           },
           {
            "bin_start": 0.4,
            "bin_end": 0.5,
            "count": 0
           },
           {
            "bin_start": 0.5,
            "bin_end": 0.6000000000000001,
            "count": 0
           },
           {
            "bin_start": 0.6000000000000001,
            "bin_end": 0.7000000000000001,
            "count": 0
           },
           {
            "bin_start": 0.7000000000000001,
            "bin_end": 0.8,
            "count": 0
           },
           {
            "bin_start": 0.8,
            "bin_end": 0.9,
            "count": 0
           },
           {
            "bin_start": 0.9,
            "bin_end": 1,
            "count": 9
           }
          ]
         }
        },
        {
         "name": "Overcoat",
         "dtype": "float64",
         "stats": {
          "unique_count": 2,
          "nan_count": 0,
          "min": "0.0",
          "max": "1.0",
          "histogram": [
           {
            "bin_start": 0,
            "bin_end": 0.1,
            "count": 781
           },
           {
            "bin_start": 0.1,
            "bin_end": 0.2,
            "count": 0
           },
           {
            "bin_start": 0.2,
            "bin_end": 0.30000000000000004,
            "count": 0
           },
           {
            "bin_start": 0.30000000000000004,
            "bin_end": 0.4,
            "count": 0
           },
           {
            "bin_start": 0.4,
            "bin_end": 0.5,
            "count": 0
           },
           {
            "bin_start": 0.5,
            "bin_end": 0.6000000000000001,
            "count": 0
           },
           {
            "bin_start": 0.6000000000000001,
            "bin_end": 0.7000000000000001,
            "count": 0
           },
           {
            "bin_start": 0.7000000000000001,
            "bin_end": 0.8,
            "count": 0
           },
           {
            "bin_start": 0.8,
            "bin_end": 0.9,
            "count": 0
           },
           {
            "bin_start": 0.9,
            "bin_end": 1,
            "count": 20
           }
          ]
         }
        },
        {
         "name": "Levitate",
         "dtype": "float64",
         "stats": {
          "unique_count": 2,
          "nan_count": 0,
          "min": "0.0",
          "max": "1.0",
          "histogram": [
           {
            "bin_start": 0,
            "bin_end": 0.1,
            "count": 768
           },
           {
            "bin_start": 0.1,
            "bin_end": 0.2,
            "count": 0
           },
           {
            "bin_start": 0.2,
            "bin_end": 0.30000000000000004,
            "count": 0
           },
           {
            "bin_start": 0.30000000000000004,
            "bin_end": 0.4,
            "count": 0
           },
           {
            "bin_start": 0.4,
            "bin_end": 0.5,
            "count": 0
           },
           {
            "bin_start": 0.5,
            "bin_end": 0.6000000000000001,
            "count": 0
           },
           {
            "bin_start": 0.6000000000000001,
            "bin_end": 0.7000000000000001,
            "count": 0
           },
           {
            "bin_start": 0.7000000000000001,
            "bin_end": 0.8,
            "count": 0
           },
           {
            "bin_start": 0.8,
            "bin_end": 0.9,
            "count": 0
           },
           {
            "bin_start": 0.9,
            "bin_end": 1,
            "count": 33
           }
          ]
         }
        },
        {
         "name": "Cursed Body",
         "dtype": "float64",
         "stats": {
          "unique_count": 2,
          "nan_count": 0,
          "min": "0.0",
          "max": "1.0",
          "histogram": [
           {
            "bin_start": 0,
            "bin_end": 0.1,
            "count": 794
           },
           {
            "bin_start": 0.1,
            "bin_end": 0.2,
            "count": 0
           },
           {
            "bin_start": 0.2,
            "bin_end": 0.30000000000000004,
            "count": 0
           },
           {
            "bin_start": 0.30000000000000004,
            "bin_end": 0.4,
            "count": 0
           },
           {
            "bin_start": 0.4,
            "bin_end": 0.5,
            "count": 0
           },
           {
            "bin_start": 0.5,
            "bin_end": 0.6000000000000001,
            "count": 0
           },
           {
            "bin_start": 0.6000000000000001,
            "bin_end": 0.7000000000000001,
            "count": 0
           },
           {
            "bin_start": 0.7000000000000001,
            "bin_end": 0.8,
            "count": 0
           },
           {
            "bin_start": 0.8,
            "bin_end": 0.9,
            "count": 0
           },
           {
            "bin_start": 0.9,
            "bin_end": 1,
            "count": 7
           }
          ]
         }
        },
        {
         "name": "Weak Armor",
         "dtype": "float64",
         "stats": {
          "unique_count": 2,
          "nan_count": 0,
          "min": "0.0",
          "max": "1.0",
          "histogram": [
           {
            "bin_start": 0,
            "bin_end": 0.1,
            "count": 783
           },
           {
            "bin_start": 0.1,
            "bin_end": 0.2,
            "count": 0
           },
           {
            "bin_start": 0.2,
            "bin_end": 0.30000000000000004,
            "count": 0
           },
           {
            "bin_start": 0.30000000000000004,
            "bin_end": 0.4,
            "count": 0
           },
           {
            "bin_start": 0.4,
            "bin_end": 0.5,
            "count": 0
           },
           {
            "bin_start": 0.5,
            "bin_end": 0.6000000000000001,
            "count": 0
           },
           {
            "bin_start": 0.6000000000000001,
            "bin_end": 0.7000000000000001,
            "count": 0
           },
           {
            "bin_start": 0.7000000000000001,
            "bin_end": 0.8,
            "count": 0
           },
           {
            "bin_start": 0.8,
            "bin_end": 0.9,
            "count": 0
           },
           {
            "bin_start": 0.9,
            "bin_end": 1,
            "count": 18
           }
          ]
         }
        },
        {
         "name": "Insomnia",
         "dtype": "float64"
        },
        {
         "name": "Forewarn",
         "dtype": "float64"
        },
        {
         "name": "Hyper Cutter",
         "dtype": "float64"
        },
        {
         "name": "Soundproof",
         "dtype": "float64"
        },
        {
         "name": "Aftermath",
         "dtype": "float64"
        },
        {
         "name": "Harvest",
         "dtype": "float64"
        },
        {
         "name": "Battle Armor",
         "dtype": "float64"
        },
        {
         "name": "Reckless",
         "dtype": "float64"
        },
        {
         "name": "Unburden",
         "dtype": "float64"
        },
        {
         "name": "Iron Fist",
         "dtype": "float64"
        },
        {
         "name": "Natural Cure",
         "dtype": "float64"
        },
        {
         "name": "Serene Grace",
         "dtype": "float64"
        },
        {
         "name": "Healer",
         "dtype": "float64"
        },
        {
         "name": "Leaf Guard",
         "dtype": "float64"
        },
        {
         "name": "Scrappy",
         "dtype": "float64"
        },
        {
         "name": "Water Veil",
         "dtype": "float64"
        },
        {
         "name": "Illuminate",
         "dtype": "float64"
        },
        {
         "name": "Filter",
         "dtype": "float64"
        },
        {
         "name": "Mold Breaker",
         "dtype": "float64"
        },
        {
         "name": "Moxie",
         "dtype": "float64"
        },
        {
         "name": "Imposter",
         "dtype": "float64"
        },
        {
         "name": "Adaptability",
         "dtype": "float64"
        },
        {
         "name": "Anticipation",
         "dtype": "float64"
        },
        {
         "name": "Volt Absorb",
         "dtype": "float64"
        },
        {
         "name": "Quick Feet",
         "dtype": "float64"
        },
        {
         "name": "Trace",
         "dtype": "float64"
        },
        {
         "name": "Download",
         "dtype": "float64"
        },
        {
         "name": "Pressure",
         "dtype": "float64"
        },
        {
         "name": "Immunity",
         "dtype": "float64"
        },
        {
         "name": "Marvel Scale",
         "dtype": "float64"
        },
        {
         "name": "Multiscale",
         "dtype": "float64"
        },
        {
         "name": "Super Luck",
         "dtype": "float64"
        },
        {
         "name": "Magic Bounce",
         "dtype": "float64"
        },
        {
         "name": "Plus",
         "dtype": "float64"
        },
        {
         "name": "Huge Power",
         "dtype": "float64"
        },
        {
         "name": "Sap Sipper",
         "dtype": "float64"
        },
        {
         "name": "Drizzle",
         "dtype": "float64"
        },
        {
         "name": "Speed Boost",
         "dtype": "float64"
        },
        {
         "name": "Prankster",
         "dtype": "float64"
        },
        {
         "name": "Shadow Tag",
         "dtype": "float64"
        },
        {
         "name": "Telepathy",
         "dtype": "float64"
        },
        {
         "name": "Light Metal",
         "dtype": "float64"
        },
        {
         "name": "Contrary",
         "dtype": "float64"
        },
        {
         "name": "Pickpocket",
         "dtype": "float64"
        },
        {
         "name": "Honey Gather",
         "dtype": "float64"
        },
        {
         "name": "Magma Armor",
         "dtype": "float64"
        },
        {
         "name": "Moody",
         "dtype": "float64"
        },
        {
         "name": "Suction Cups",
         "dtype": "float64"
        },
        {
         "name": "Sand Stream",
         "dtype": "float64"
        },
        {
         "name": "Poison Heal",
         "dtype": "float64"
        },
        {
         "name": "Truant",
         "dtype": "float64"
        },
        {
         "name": "Wonder Guard",
         "dtype": "float64"
        },
        {
         "name": "Normalize",
         "dtype": "float64"
        },
        {
         "name": "Stall",
         "dtype": "float64"
        },
        {
         "name": "Heavy Metal",
         "dtype": "float64"
        },
        {
         "name": "Pure Power",
         "dtype": "float64"
        },
        {
         "name": "Minus",
         "dtype": "float64"
        },
        {
         "name": "Rough Skin",
         "dtype": "float64"
        },
        {
         "name": "Simple",
         "dtype": "float64"
        },
        {
         "name": "Solid Rock",
         "dtype": "float64"
        },
        {
         "name": "White Smoke",
         "dtype": "float64"
        },
        {
         "name": "Toxic Boost",
         "dtype": "float64"
        },
        {
         "name": "Storm Drain",
         "dtype": "float64"
        },
        {
         "name": "Forecast",
         "dtype": "float64"
        },
        {
         "name": "Color Change",
         "dtype": "float64"
        },
        {
         "name": "Protean",
         "dtype": "float64"
        },
        {
         "name": "Air Lock",
         "dtype": "float64"
        },
        {
         "name": "Flower Gift",
         "dtype": "float64"
        },
        {
         "name": "Flare Boost",
         "dtype": "float64"
        },
        {
         "name": "Klutz",
         "dtype": "float64"
        },
        {
         "name": "Heatproof",
         "dtype": "float64"
        },
        {
         "name": "Motor Drive",
         "dtype": "float64"
        },
        {
         "name": "Slow Start",
         "dtype": "float64"
        },
        {
         "name": "Bad Dreams",
         "dtype": "float64"
        },
        {
         "name": "Multitype",
         "dtype": "float64"
        },
        {
         "name": "Victory Star",
         "dtype": "float64"
        },
        {
         "name": "Zen Mode",
         "dtype": "float64"
        },
        {
         "name": "Mummy",
         "dtype": "float64"
        },
        {
         "name": "Defeatist",
         "dtype": "float64"
        },
        {
         "name": "Illusion",
         "dtype": "float64"
        },
        {
         "name": "Iron Barbs",
         "dtype": "float64"
        },
        {
         "name": "Turboblaze",
         "dtype": "float64"
        },
        {
         "name": "Teravolt",
         "dtype": "float64"
        },
        {
         "name": "Bulletproof",
         "dtype": "float64"
        },
        {
         "name": "Magician",
         "dtype": "float64"
        },
        {
         "name": "Battle Bond",
         "dtype": "float64"
        },
        {
         "name": "Cheek Pouch",
         "dtype": "float64"
        },
        {
         "name": "Gale Wings",
         "dtype": "float64"
        },
        {
         "name": "Flower Veil",
         "dtype": "float64"
        },
        {
         "name": "Symbiosis",
         "dtype": "float64"
        },
        {
         "name": "Grass Pelt",
         "dtype": "float64"
        },
        {
         "name": "Stance Change",
         "dtype": "float64"
        },
        {
         "name": "Aroma Veil",
         "dtype": "float64"
        },
        {
         "name": "Sweet Veil",
         "dtype": "float64"
        },
        {
         "name": "Tough Claws",
         "dtype": "float64"
        },
        {
         "name": "Mega Launcher",
         "dtype": "float64"
        },
        {
         "name": "Strong Jaw",
         "dtype": "float64"
        },
        {
         "name": "Refrigerate",
         "dtype": "float64"
        },
        {
         "name": "Pixilate",
         "dtype": "float64"
        },
        {
         "name": "Gooey",
         "dtype": "float64"
        },
        {
         "name": "Fairy Aura",
         "dtype": "float64"
        },
        {
         "name": "Dark Aura",
         "dtype": "float64"
        },
        {
         "name": "Aura Break",
         "dtype": "float64"
        },
        {
         "name": "Power Construct",
         "dtype": "float64"
        },
        {
         "name": "Long Reach",
         "dtype": "float64"
        },
        {
         "name": "Liquid Voice",
         "dtype": "float64"
        },
        {
         "name": "Stakeout",
         "dtype": "float64"
        },
        {
         "name": "Battery",
         "dtype": "float64"
        },
        {
         "name": "Dancer",
         "dtype": "float64"
        },
        {
         "name": "Schooling",
         "dtype": "float64"
        },
        {
         "name": "Merciless",
         "dtype": "float64"
        },
        {
         "name": "Stamina",
         "dtype": "float64"
        },
        {
         "name": "Water Bubble",
         "dtype": "float64"
        },
        {
         "name": "Corrosion",
         "dtype": "float64"
        },
        {
         "name": "Fluffy",
         "dtype": "float64"
        },
        {
         "name": "Queenly Majesty",
         "dtype": "float64"
        },
        {
         "name": "Triage",
         "dtype": "float64"
        },
        {
         "name": "Receiver",
         "dtype": "float64"
        },
        {
         "name": "Wimp Out",
         "dtype": "float64"
        },
        {
         "name": "Emergency Exit",
         "dtype": "float64"
        },
        {
         "name": "Water Compaction",
         "dtype": "float64"
        },
        {
         "name": "Innards Out",
         "dtype": "float64"
        },
        {
         "name": "RKS System",
         "dtype": "float64"
        },
        {
         "name": "Shields Down",
         "dtype": "float64"
        },
        {
         "name": "Comatose",
         "dtype": "float64"
        },
        {
         "name": "Disguise",
         "dtype": "float64"
        },
        {
         "name": "Dazzling",
         "dtype": "float64"
        },
        {
         "name": "Berserk",
         "dtype": "float64"
        },
        {
         "name": "Steelworker",
         "dtype": "float64"
        },
        {
         "name": "Electric Surge",
         "dtype": "float64"
        },
        {
         "name": "Psychic Surge",
         "dtype": "float64"
        },
        {
         "name": "Grassy Surge",
         "dtype": "float64"
        },
        {
         "name": "Misty Surge",
         "dtype": "float64"
        },
        {
         "name": "Full Metal Body",
         "dtype": "float64"
        },
        {
         "name": "Shadow Shield",
         "dtype": "float64"
        },
        {
         "name": "Beast Boost",
         "dtype": "float64"
        },
        {
         "name": "Prism Armor",
         "dtype": "float64"
        },
        {
         "name": "Soul-Heart",
         "dtype": "float64"
        },
        {
         "name": "Abundance Pokémon",
         "dtype": "float64"
        },
        {
         "name": "Acorn Pokémon",
         "dtype": "float64"
        },
        {
         "name": "Alpha Pokémon",
         "dtype": "float64"
        },
        {
         "name": "Angler Pokémon",
         "dtype": "float64"
        },
        {
         "name": "Ant Pit Pokémon",
         "dtype": "float64"
        },
        {
         "name": "Anteater Pokémon",
         "dtype": "float64"
        },
        {
         "name": "Antenna Pokémon",
         "dtype": "float64"
        },
        {
         "name": "Aquamouse Pokémon",
         "dtype": "float64"
        },
        {
         "name": "Aquarabbit Pokémon",
         "dtype": "float64"
        },
        {
         "name": "Arm Thrust Pokémon",
         "dtype": "float64"
        },
        {
         "name": "Armor Bird Pokémon",
         "dtype": "float64"
        },
        {
         "name": "Armor Pokémon",
         "dtype": "float64"
        },
        {
         "name": "Arrow Quill Pokémon",
         "dtype": "float64"
        },
        {
         "name": "Artificial Pokémon",
         "dtype": "float64"
        },
        {
         "name": "Astral Body Pokémon",
         "dtype": "float64"
        },
        {
         "name": "Atrocious Pokémon",
         "dtype": "float64"
        },
        {
         "name": "Attaching Pokémon",
         "dtype": "float64"
        },
        {
         "name": "Aura Pokémon",
         "dtype": "float64"
        },
        {
         "name": "Aurora Pokémon",
         "dtype": "float64"
        },
        {
         "name": "Automaton Pokémon",
         "dtype": "float64"
        },
        {
         "name": "Avianoid Pokémon",
         "dtype": "float64"
        },
        {
         "name": "Axe Jaw Pokémon",
         "dtype": "float64"
        },
        {
         "name": "Bagworm Pokémon",
         "dtype": "float64"
        },
        {
         "name": "Ball Pokémon",
         "dtype": "float64"
        },
        {
         "name": "Ball Roll Pokémon",
         "dtype": "float64"
        },
        {
         "name": "Ball Whale Pokémon",
         "dtype": "float64"
        },
        {
         "name": "Balloon Pokémon",
         "dtype": "float64"
        },
        {
         "name": "Barnacle Pokémon",
         "dtype": "float64"
        },
        {
         "name": "Barrier Pokémon",
         "dtype": "float64"
        },
        {
         "name": "Bash Buffalo Pokémon",
         "dtype": "float64"
        },
        {
         "name": "Bat Pokémon",
         "dtype": "float64"
        },
        {
         "name": "Battery Pokémon",
         "dtype": "float64"
        },
        {
         "name": "Beak Pokémon",
         "dtype": "float64"
        },
        {
         "name": "Beaver Pokémon",
         "dtype": "float64"
        },
        {
         "name": "Beckon Pokémon",
         "dtype": "float64"
        },
        {
         "name": "Bee Fly Pokémon",
         "dtype": "float64"
        },
        {
         "name": "Beehive Pokémon",
         "dtype": "float64"
        },
        {
         "name": "Bell Pokémon",
         "dtype": "float64"
        },
        {
         "name": "Big Boss Pokémon",
         "dtype": "float64"
        },
        {
         "name": "Big Eater Pokémon",
         "dtype": "float64"
        },
        {
         "name": "Big Horn Pokémon",
         "dtype": "float64"
        },
        {
         "name": "Big Jaw Pokémon",
         "dtype": "float64"
        },
        {
         "name": "Big Voice Pokémon",
         "dtype": "float64"
        },
        {
         "name": "Big-Hearted Pokémon",
         "dtype": "float64"
        },
        {
         "name": "Bird Pokémon",
         "dtype": "float64"
        },
        {
         "name": "Bite Pokémon",
         "dtype": "float64"
        },
        {
         "name": "Bivalve Pokémon",
         "dtype": "float64"
        },
        {
         "name": "Blade Pokémon",
         "dtype": "float64"
        },
        {
         "name": "Blade Quill Pokémon",
         "dtype": "float64"
        },
        {
         "name": "Blast Pokémon",
         "dtype": "float64"
        },
        {
         "name": "Blast Turtle Pokémon",
         "dtype": "float64"
        },
        {
         "name": "Blaze Pokémon",
         "dtype": "float64"
        },
        {
         "name": "Blazing Pokémon",
         "dtype": "float64"
        },
        {
         "name": "Blimp Pokémon",
         "dtype": "float64"
        },
        {
         "name": "Bloom Sickle Pokémon",
         "dtype": "float64"
        },
        {
         "name": "Blossom Pokémon",
         "dtype": "float64"
        },
        {
         "name": "Bolt Strike Pokémon",
         "dtype": "float64"
        },
        {
         "name": "Bone Keeper Pokémon",
         "dtype": "float64"
        },
        {
         "name": "Bone Vulture Pokémon",
         "dtype": "float64"
        },
        {
         "name": "Bonsai Pokémon",
         "dtype": "float64"
        },
        {
         "name": "Bounce Pokémon",
         "dtype": "float64"
        },
        {
         "name": "Boundary Pokémon",
         "dtype": "float64"
        },
        {
         "name": "Bouquet Pokémon",
         "dtype": "float64"
        },
        {
         "name": "Boxing Pokémon",
         "dtype": "float64"
        },
        {
         "name": "Bright Pokémon",
         "dtype": "float64"
        },
        {
         "name": "Bronze Bell Pokémon",
         "dtype": "float64"
        },
        {
         "name": "Bronze Pokémon",
         "dtype": "float64"
        },
        {
         "name": "Brutal Pokémon",
         "dtype": "float64"
        },
        {
         "name": "Brutal Star Pokémon",
         "dtype": "float64"
        },
        {
         "name": "Bubble Frog Pokémon",
         "dtype": "float64"
        },
        {
         "name": "Bubble Jet Pokémon",
         "dtype": "float64"
        },
        {
         "name": "Bud Pokémon",
         "dtype": "float64"
        },
        {
         "name": "Bug Catcher Pokémon",
         "dtype": "float64"
        },
        {
         "name": "Bugle Beak Pokémon",
         "dtype": "float64"
        },
        {
         "name": "Bulb Pokémon",
         "dtype": "float64"
        },
        {
         "name": "Butterfly Pokémon",
         "dtype": "float64"
        },
        {
         "name": "Cactus Pokémon",
         "dtype": "float64"
        },
        {
         "name": "Candle Pokémon",
         "dtype": "float64"
        },
        {
         "name": "Cannon Pokémon",
         "dtype": "float64"
        },
        {
         "name": "Carefree Pokémon",
         "dtype": "float64"
        },
        {
         "name": "Caring Pokémon",
         "dtype": "float64"
        },
        {
         "name": "Cat Ferret Pokémon",
         "dtype": "float64"
        },
        {
         "name": "Catty Pokémon",
         "dtype": "float64"
        },
        {
         "name": "Cavalry Pokémon",
         "dtype": "float64"
        },
        {
         "name": "Cave Pokémon",
         "dtype": "float64"
        },
        {
         "name": "Cavern Pokémon",
         "dtype": "float64"
        },
        {
         "name": "Cell Pokémon",
         "dtype": "float64"
        },
        {
         "name": "Centipede Pokémon",
         "dtype": "float64"
        },
        {
         "name": "Cerebral Pokémon",
         "dtype": "float64"
        },
        {
         "name": "Cheering Pokémon",
         "dtype": "float64"
        },
        {
         "name": "Cherry Pokémon",
         "dtype": "float64"
        },
        {
         "name": "Chick Pokémon",
         "dtype": "float64"
        },
        {
         "name": "Chill Pokémon",
         "dtype": "float64"
        },
        {
         "name": "Chimp Pokémon",
         "dtype": "float64"
        },
        {
         "name": "Chinchilla Pokémon",
         "dtype": "float64"
        },
        {
         "name": "Clamping Pokémon",
         "dtype": "float64"
        },
        {
         "name": "Clap Pokémon",
         "dtype": "float64"
        },
        {
         "name": "Classy Cat Pokémon",
         "dtype": "float64"
        },
        {
         "name": "Clay Doll Pokémon",
         "dtype": "float64"
        },
        {
         "name": "Clear Wing Pokémon",
         "dtype": "float64"
        },
        {
         "name": "Coal Pokémon",
         "dtype": "float64"
        },
        {
         "name": "Cobra Pokémon",
         "dtype": "float64"
        },
        {
         "name": "Coconut Pokémon",
         "dtype": "float64"
        },
        {
         "name": "Cocoon Pokémon",
         "dtype": "float64"
        },
        {
         "name": "Coffin Pokémon",
         "dtype": "float64"
        },
        {
         "name": "Collective Pokémon",
         "dtype": "float64"
        },
        {
         "name": "Color Swap Pokémon",
         "dtype": "float64"
        },
        {
         "name": "Colossal Pokémon",
         "dtype": "float64"
        },
        {
         "name": "Colt Pokémon",
         "dtype": "float64"
        },
        {
         "name": "Compass Pokémon",
         "dtype": "float64"
        },
        {
         "name": "Compressed Pokémon",
         "dtype": "float64"
        },
        {
         "name": "Constraint Pokémon",
         "dtype": "float64"
        },
        {
         "name": "Continent Pokémon",
         "dtype": "float64"
        },
        {
         "name": "Coral Pokémon",
         "dtype": "float64"
        },
        {
         "name": "Cotton Bird Pokémon",
         "dtype": "float64"
        },
        {
         "name": "Cotton Candy Pokémon",
         "dtype": "float64"
        },
        {
         "name": "Cotton Puff Pokémon",
         "dtype": "float64"
        },
        {
         "name": "Cottonweed Pokémon",
         "dtype": "float64"
        },
        {
         "name": "Courting Pokémon",
         "dtype": "float64"
        },
        {
         "name": "Cricket Pokémon",
         "dtype": "float64"
        },
        {
         "name": "Cruel Pokémon",
         "dtype": "float64"
        },
        {
         "name": "Crystallizing Pokémon",
         "dtype": "float64"
        },
        {
         "name": "Curlipede Pokémon",
         "dtype": "float64"
        },
        {
         "name": "Cyclone Pokémon",
         "dtype": "float64"
        },
        {
         "name": "DNA Pokémon",
         "dtype": "float64"
        },
        {
         "name": "Dancing Pokémon",
         "dtype": "float64"
        },
        {
         "name": "Dark Pokémon",
         "dtype": "float64"
        },
        {
         "name": "Darkness Pokémon",
         "dtype": "float64"
        },
        {
         "name": "Daunting Pokémon",
         "dtype": "float64"
        },
        {
         "name": "Deceiver Pokémon",
         "dtype": "float64"
        },
        {
         "name": "Deep Black Pokémon",
         "dtype": "float64"
        },
        {
         "name": "Deep Sea Pokémon",
         "dtype": "float64"
        },
        {
         "name": "Delivery Pokémon",
         "dtype": "float64"
        },
        {
         "name": "Desert Croc Pokémon",
         "dtype": "float64"
        },
        {
         "name": "Despot Pokémon",
         "dtype": "float64"
        },
        {
         "name": "Destruction Pokémon",
         "dtype": "float64"
        },
        {
         "name": "Devious Pokémon",
         "dtype": "float64"
        },
        {
         "name": "Diapered Pokémon",
         "dtype": "float64"
        },
        {
         "name": "Digging Pokémon",
         "dtype": "float64"
        },
        {
         "name": "Disaster Pokémon",
         "dtype": "float64"
        },
        {
         "name": "Discharge Pokémon",
         "dtype": "float64"
        },
        {
         "name": "Discipline Pokémon",
         "dtype": "float64"
        },
        {
         "name": "Disguise Pokémon",
         "dtype": "float64"
        },
        {
         "name": "Diving Pokémon",
         "dtype": "float64"
        },
        {
         "name": "Donkey Pokémon",
         "dtype": "float64"
        },
        {
         "name": "Dopey Pokémon",
         "dtype": "float64"
        },
        {
         "name": "Draft Horse Pokémon",
         "dtype": "float64"
        },
        {
         "name": "Dragon Pokémon",
         "dtype": "float64"
        },
        {
         "name": "Drawn Sword Pokémon",
         "dtype": "float64"
        },
        {
         "name": "Dream Eater Pokémon",
         "dtype": "float64"
        },
        {
         "name": "Drill Pokémon",
         "dtype": "float64"
        },
        {
         "name": "Drowsing Pokémon",
         "dtype": "float64"
        },
        {
         "name": "Duck Pokémon",
         "dtype": "float64"
        },
        {
         "name": "Eaglet Pokémon",
         "dtype": "float64"
        },
        {
         "name": "Egg Pokémon",
         "dtype": "float64"
        },
        {
         "name": "Elder Tree Pokémon",
         "dtype": "float64"
        },
        {
         "name": "EleFish Pokémon",
         "dtype": "float64"
        },
        {
         "name": "EleSpider Pokémon",
         "dtype": "float64"
        },
        {
         "name": "EleSquirrel Pokémon",
         "dtype": "float64"
        },
        {
         "name": "Electric Pokémon",
         "dtype": "float64"
        },
        {
         "name": "Electrified Pokémon",
         "dtype": "float64"
        },
        {
         "name": "Emanation Pokémon",
         "dtype": "float64"
        },
        {
         "name": "Ember Pokémon",
         "dtype": "float64"
        },
        {
         "name": "Embrace Pokémon",
         "dtype": "float64"
        },
        {
         "name": "Emotion Pokémon",
         "dtype": "float64"
        },
        {
         "name": "Emperor Pokémon",
         "dtype": "float64"
        },
        {
         "name": "Endurance Pokémon",
         "dtype": "float64"
        },
        {
         "name": "Eon Pokémon",
         "dtype": "float64"
        },
        {
         "name": "Eruption Pokémon",
         "dtype": "float64"
        },
        {
         "name": "Evolution Pokémon",
         "dtype": "float64"
        },
        {
         "name": "Eyeball Pokémon",
         "dtype": "float64"
        },
        {
         "name": "Face Pokémon",
         "dtype": "float64"
        },
        {
         "name": "Fairy Pokémon",
         "dtype": "float64"
        },
        {
         "name": "Fang Scorp Pokémon",
         "dtype": "float64"
        },
        {
         "name": "Fang Snake Pokémon",
         "dtype": "float64"
        },
        {
         "name": "Feeling Pokémon",
         "dtype": "float64"
        },
        {
         "name": "Fire Cat Pokémon",
         "dtype": "float64"
        },
        {
         "name": "Fire Horse Pokémon",
         "dtype": "float64"
        },
        {
         "name": "Fire Mouse Pokémon",
         "dtype": "float64"
        },
        {
         "name": "Fire Pig Pokémon",
         "dtype": "float64"
        },
        {
         "name": "Firefly Pokémon",
         "dtype": "float64"
        },
        {
         "name": "First Bird Pokémon",
         "dtype": "float64"
        },
        {
         "name": "Fish Pokémon",
         "dtype": "float64"
        },
        {
         "name": "Five Star Pokémon",
         "dtype": "float64"
        },
        {
         "name": "Fixation Pokémon",
         "dtype": "float64"
        },
        {
         "name": "Flailing Pokémon",
         "dtype": "float64"
        },
        {
         "name": "Flame Pokémon",
         "dtype": "float64"
        },
        {
         "name": "Flash Pokémon",
         "dtype": "float64"
        },
        {
         "name": "Float Whale Pokémon",
         "dtype": "float64"
        },
        {
         "name": "Floating Pokémon",
         "dtype": "float64"
        },
        {
         "name": "Flower Pokémon",
         "dtype": "float64"
        },
        {
         "name": "Flowering Pokémon",
         "dtype": "float64"
        },
        {
         "name": "Flycatcher Pokémon",
         "dtype": "float64"
        },
        {
         "name": "Flyscorpion Pokémon",
         "dtype": "float64"
        },
        {
         "name": "Forbidden Pokémon",
         "dtype": "float64"
        },
        {
         "name": "Forest Pokémon",
         "dtype": "float64"
        },
        {
         "name": "Formidable Pokémon",
         "dtype": "float64"
        },
        {
         "name": "Fossil Pokémon",
         "dtype": "float64"
        },
        {
         "name": "Fox Pokémon",
         "dtype": "float64"
        },
        {
         "name": "Fragrance Pokémon",
         "dtype": "float64"
        },
        {
         "name": "Freeze Pokémon",
         "dtype": "float64"
        },
        {
         "name": "Freezing Pokémon",
         "dtype": "float64"
        },
        {
         "name": "Fresh Snow Pokémon",
         "dtype": "float64"
        },
        {
         "name": "Frog Pokémon",
         "dtype": "float64"
        },
        {
         "name": "Frosted Tree Pokémon",
         "dtype": "float64"
        },
        {
         "name": "Fruit Pokémon",
         "dtype": "float64"
        },
        {
         "name": "Garden Pokémon",
         "dtype": "float64"
        },
        {
         "name": "Gas Pokémon",
         "dtype": "float64"
        },
        {
         "name": "Gear Pokémon",
         "dtype": "float64"
        },
        {
         "name": "Generator Pokémon",
         "dtype": "float64"
        },
        {
         "name": "Genetic Pokémon",
         "dtype": "float64"
        },
        {
         "name": "Geyser Pokémon",
         "dtype": "float64"
        },
        {
         "name": "Gleam Eyes Pokémon",
         "dtype": "float64"
        },
        {
         "name": "Glowing Pokémon",
         "dtype": "float64"
        },
        {
         "name": "Gnash Teeth Pokémon",
         "dtype": "float64"
        },
        {
         "name": "Goldfish Pokémon",
         "dtype": "float64"
        },
        {
         "name": "Grass Monkey Pokémon",
         "dtype": "float64"
        },
        {
         "name": "Grass Quill Pokémon",
         "dtype": "float64"
        },
        {
         "name": "Grass Snake Pokémon",
         "dtype": "float64"
        },
        {
         "name": "Grassland Pokémon",
         "dtype": "float64"
        },
        {
         "name": "Gratitude Pokémon",
         "dtype": "float64"
        },
        {
         "name": "Gripper Pokémon",
         "dtype": "float64"
        },
        {
         "name": "Grove Pokémon",
         "dtype": "float64"
        },
        {
         "name": "Guts Pokémon",
         "dtype": "float64"
        },
        {
         "name": "Hairy Pokémon",
         "dtype": "float64"
        },
        {
         "name": "Handstand Pokémon",
         "dtype": "float64"
        },
        {
         "name": "Happiness Pokémon",
         "dtype": "float64"
        },
        {
         "name": "Hard Scale Pokémon",
         "dtype": "float64"
        },
        {
         "name": "Hard Shell Pokémon",
         "dtype": "float64"
        },
        {
         "name": "Head Butt Pokémon",
         "dtype": "float64"
        },
        {
         "name": "Hearing Pokémon",
         "dtype": "float64"
        },
        {
         "name": "Heavyweight Pokémon",
         "dtype": "float64"
        },
        {
         "name": "Heel Pokémon",
         "dtype": "float64"
        },
        {
         "name": "Herb Pokémon",
         "dtype": "float64"
        },
        {
         "name": "Hermit Crab Pokémon",
         "dtype": "float64"
        },
        {
         "name": "Hibernator Pokémon",
         "dtype": "float64"
        },
        {
         "name": "High Temp Pokémon",
         "dtype": "float64"
        },
        {
         "name": "Hippo Pokémon",
         "dtype": "float64"
        },
        {
         "name": "_deepnote_index_column",
         "dtype": "int64"
        }
       ],
       "rows_top": [
        {
         "against_bug": 0.2,
         "against_dark": 0.2,
         "against_dragon": 0.5,
         "against_electric": 0.125,
         "against_fairy": 0.06666666666666667,
         "against_fight": 0.125,
         "against_fire": 0.4666666666666667,
         "against_flying": 0.4666666666666667,
         "against_ghost": 0.25,
         "against_grass": 0,
         "against_ground": 0.25,
         "against_ice": 0.4666666666666667,
         "against_normal": 1,
         "against_poison": 0.25,
         "against_psychic": 0.5,
         "against_rock": 0.2,
         "against_steel": 0.2,
         "against_water": 0.06666666666666667,
         "attack": 0.24444444444444446,
         "base_egg_steps": 0.13043478260869565,
         "base_happiness": 0.5,
         "base_total": 0.22999999999999998,
         "capture_rate": 0.16666666666666663,
         "defense": 0.19555555555555554,
         "experience_growth": 0.44217307692307695,
         "height_m": 0.041666666666666664,
         "hp": 0.1732283464566929,
         "percentage_male": 0.881,
         "pokedex_number": 0,
         "sp_attack": 0.29891304347826086,
         "sp_defense": 0.2142857142857143,
         "speed": 0.22857142857142854,
         "weight_kg": 0.006801360272054411,
         "generation": 0,
         "is_legendary": 0,
         "Overgrow": 1,
         "Chlorophyll": 1,
         "Blaze": 0,
         "Solar Power": 0,
         "Torrent": 0,
         "Rain Dish": 0,
         "Shield Dust": 0,
         "Run Away": 0,
         "Shed Skin": 0,
         "Compoundeyes": 0,
         "Tinted Lens": 0,
         "Swarm": 0,
         "Sniper": 0,
         "Keen Eye": 0,
         "Tangled Feet": 0,
         "Big Pecks": 0,
         "Guts": 0,
         "Hustle": 0,
         "Gluttony": 0,
         "Thick Fat": 0,
         "Intimidate": 0,
         "Unnerve": 0,
         "Static": 0,
         "Lightningrod": 0,
         "Surge Surfer": 0,
         "Sand Veil": 0,
         "Sand Rush": 0,
         "Snow Cloak": 0,
         "Slush Rush": 0,
         "Poison Point": 0,
         "Rivalry": 0,
         "Sheer Force": 0,
         "Cute Charm": 0,
         "Magic Guard": 0,
         "Friend Guard": 0,
         "Unaware": 0,
         "Flash Fire": 0,
         "Drought": 0,
         "Snow Warning": 0,
         "Competitive": 0,
         "Frisk": 0,
         "Inner Focus": 0,
         "Infiltrator": 0,
         "Stench": 0,
         "Effect Spore": 0,
         "Dry Skin": 0,
         "Damp": 0,
         "Wonder Skin ": 0,
         "Arena Trap": 0,
         "Sand Force": 0,
         "Tangling Hair": 0,
         "Pickup": 0,
         "Technician": 0,
         "Rattled": 0,
         "Limber": 0,
         "Fur Coat": 0,
         "Cloud Nine": 0,
         "Swift Swim": 0,
         "Vital Spirit": 0,
         "Anger Point": 0,
         "Defiant": 0,
         "Justified": 0,
         "Water Absorb": 0,
         "Synchronize": 0,
         "No Guard": 0,
         "Steadfast": 0,
         "Clear Body": 0,
         "Liquid Ooze": 0,
         "Rock Head": 0,
         "Sturdy": 0,
         "Magnet Pull": 0,
         "Galvanize": 0,
         "Flame Body": 0,
         "Oblivious": 0,
         "Own Tempo": 0,
         "Regenerator": 0,
         "Analytic": 0,
         "Early Bird": 0,
         "Hydration": 0,
         "Ice Body": 0,
         "Sticky Hold": 0,
         "Poison Touch": 0,
         "Power of Alchemy": 0,
         "Shell Armor": 0,
         "Skill Link": 0,
         "Overcoat": 0,
         "Levitate": 0,
         "Cursed Body": 0,
         "Weak Armor": 0,
         "Insomnia": 0,
         "Forewarn": 0,
         "Hyper Cutter": 0,
         "Soundproof": 0,
         "Aftermath": 0,
         "Harvest": 0,
         "Battle Armor": 0,
         "Reckless": 0,
         "Unburden": 0,
         "Iron Fist": 0,
         "Natural Cure": 0,
         "Serene Grace": 0,
         "Healer": 0,
         "Leaf Guard": 0,
         "Scrappy": 0,
         "Water Veil": 0,
         "Illuminate": 0,
         "Filter": 0,
         "Mold Breaker": 0,
         "Moxie": 0,
         "Imposter": 0,
         "Adaptability": 0,
         "Anticipation": 0,
         "Volt Absorb": 0,
         "Quick Feet": 0,
         "Trace": 0,
         "Download": 0,
         "Pressure": 0,
         "Immunity": 0,
         "Marvel Scale": 0,
         "Multiscale": 0,
         "Super Luck": 0,
         "Magic Bounce": 0,
         "Plus": 0,
         "Huge Power": 0,
         "Sap Sipper": 0,
         "Drizzle": 0,
         "Speed Boost": 0,
         "Prankster": 0,
         "Shadow Tag": 0,
         "Telepathy": 0,
         "Light Metal": 0,
         "Contrary": 0,
         "Pickpocket": 0,
         "Honey Gather": 0,
         "Magma Armor": 0,
         "Moody": 0,
         "Suction Cups": 0,
         "Sand Stream": 0,
         "Poison Heal": 0,
         "Truant": 0,
         "Wonder Guard": 0,
         "Normalize": 0,
         "Stall": 0,
         "Heavy Metal": 0,
         "Pure Power": 0,
         "Minus": 0,
         "Rough Skin": 0,
         "Simple": 0,
         "Solid Rock": 0,
         "White Smoke": 0,
         "Toxic Boost": 0,
         "Storm Drain": 0,
         "Forecast": 0,
         "Color Change": 0,
         "Protean": 0,
         "Air Lock": 0,
         "Flower Gift": 0,
         "Flare Boost": 0,
         "Klutz": 0,
         "Heatproof": 0,
         "Motor Drive": 0,
         "Slow Start": 0,
         "Bad Dreams": 0,
         "Multitype": 0,
         "Victory Star": 0,
         "Zen Mode": 0,
         "Mummy": 0,
         "Defeatist": 0,
         "Illusion": 0,
         "Iron Barbs": 0,
         "Turboblaze": 0,
         "Teravolt": 0,
         "Bulletproof": 0,
         "Magician": 0,
         "Battle Bond": 0,
         "Cheek Pouch": 0,
         "Gale Wings": 0,
         "Flower Veil": 0,
         "Symbiosis": 0,
         "Grass Pelt": 0,
         "Stance Change": 0,
         "Aroma Veil": 0,
         "Sweet Veil": 0,
         "Tough Claws": 0,
         "Mega Launcher": 0,
         "Strong Jaw": 0,
         "Refrigerate": 0,
         "Pixilate": 0,
         "Gooey": 0,
         "Fairy Aura": 0,
         "Dark Aura": 0,
         "Aura Break": 0,
         "Power Construct": 0,
         "Long Reach": 0,
         "Liquid Voice": 0,
         "Stakeout": 0,
         "Battery": 0,
         "Dancer": 0,
         "Schooling": 0,
         "Merciless": 0,
         "Stamina": 0,
         "Water Bubble": 0,
         "Corrosion": 0,
         "Fluffy": 0,
         "Queenly Majesty": 0,
         "Triage": 0,
         "Receiver": 0,
         "Wimp Out": 0,
         "Emergency Exit": 0,
         "Water Compaction": 0,
         "Innards Out": 0,
         "RKS System": 0,
         "Shields Down": 0,
         "Comatose": 0,
         "Disguise": 0,
         "Dazzling": 0,
         "Berserk": 0,
         "Steelworker": 0,
         "Electric Surge": 0,
         "Psychic Surge": 0,
         "Grassy Surge": 0,
         "Misty Surge": 0,
         "Full Metal Body": 0,
         "Shadow Shield": 0,
         "Beast Boost": 0,
         "Prism Armor": 0,
         "Soul-Heart": 0,
         "Abundance Pokémon": 0,
         "Acorn Pokémon": 0,
         "Alpha Pokémon": 0,
         "Angler Pokémon": 0,
         "Ant Pit Pokémon": 0,
         "Anteater Pokémon": 0,
         "Antenna Pokémon": 0,
         "Aquamouse Pokémon": 0,
         "Aquarabbit Pokémon": 0,
         "Arm Thrust Pokémon": 0,
         "Armor Bird Pokémon": 0,
         "Armor Pokémon": 0,
         "Arrow Quill Pokémon": 0,
         "Artificial Pokémon": 0,
         "Astral Body Pokémon": 0,
         "Atrocious Pokémon": 0,
         "Attaching Pokémon": 0,
         "Aura Pokémon": 0,
         "Aurora Pokémon": 0,
         "Automaton Pokémon": 0,
         "Avianoid Pokémon": 0,
         "Axe Jaw Pokémon": 0,
         "Bagworm Pokémon": 0,
         "Ball Pokémon": 0,
         "Ball Roll Pokémon": 0,
         "Ball Whale Pokémon": 0,
         "Balloon Pokémon": 0,
         "Barnacle Pokémon": 0,
         "Barrier Pokémon": 0,
         "Bash Buffalo Pokémon": 0,
         "Bat Pokémon": 0,
         "Battery Pokémon": 0,
         "Beak Pokémon": 0,
         "Beaver Pokémon": 0,
         "Beckon Pokémon": 0,
         "Bee Fly Pokémon": 0,
         "Beehive Pokémon": 0,
         "Bell Pokémon": 0,
         "Big Boss Pokémon": 0,
         "Big Eater Pokémon": 0,
         "Big Horn Pokémon": 0,
         "Big Jaw Pokémon": 0,
         "Big Voice Pokémon": 0,
         "Big-Hearted Pokémon": 0,
         "Bird Pokémon": 0,
         "Bite Pokémon": 0,
         "Bivalve Pokémon": 0,
         "Blade Pokémon": 0,
         "Blade Quill Pokémon": 0,
         "Blast Pokémon": 0,
         "Blast Turtle Pokémon": 0,
         "Blaze Pokémon": 0,
         "Blazing Pokémon": 0,
         "Blimp Pokémon": 0,
         "Bloom Sickle Pokémon": 0,
         "Blossom Pokémon": 0,
         "Bolt Strike Pokémon": 0,
         "Bone Keeper Pokémon": 0,
         "Bone Vulture Pokémon": 0,
         "Bonsai Pokémon": 0,
         "Bounce Pokémon": 0,
         "Boundary Pokémon": 0,
         "Bouquet Pokémon": 0,
         "Boxing Pokémon": 0,
         "Bright Pokémon": 0,
         "Bronze Bell Pokémon": 0,
         "Bronze Pokémon": 0,
         "Brutal Pokémon": 0,
         "Brutal Star Pokémon": 0,
         "Bubble Frog Pokémon": 0,
         "Bubble Jet Pokémon": 0,
         "Bud Pokémon": 0,
         "Bug Catcher Pokémon": 0,
         "Bugle Beak Pokémon": 0,
         "Bulb Pokémon": 0,
         "Butterfly Pokémon": 0,
         "Cactus Pokémon": 0,
         "Candle Pokémon": 0,
         "Cannon Pokémon": 0,
         "Carefree Pokémon": 0,
         "Caring Pokémon": 0,
         "Cat Ferret Pokémon": 0,
         "Catty Pokémon": 0,
         "Cavalry Pokémon": 0,
         "Cave Pokémon": 0,
         "Cavern Pokémon": 0,
         "Cell Pokémon": 0,
         "Centipede Pokémon": 0,
         "Cerebral Pokémon": 0,
         "Cheering Pokémon": 0,
         "Cherry Pokémon": 0,
         "Chick Pokémon": 0,
         "Chill Pokémon": 0,
         "Chimp Pokémon": 0,
         "Chinchilla Pokémon": 0,
         "Clamping Pokémon": 0,
         "Clap Pokémon": 0,
         "Classy Cat Pokémon": 0,
         "Clay Doll Pokémon": 0,
         "Clear Wing Pokémon": 0,
         "Coal Pokémon": 0,
         "Cobra Pokémon": 0,
         "Coconut Pokémon": 0,
         "Cocoon Pokémon": 0,
         "Coffin Pokémon": 0,
         "Collective Pokémon": 0,
         "Color Swap Pokémon": 0,
         "Colossal Pokémon": 0,
         "Colt Pokémon": 0,
         "Compass Pokémon": 0,
         "Compressed Pokémon": 0,
         "Constraint Pokémon": 0,
         "Continent Pokémon": 0,
         "Coral Pokémon": 0,
         "Cotton Bird Pokémon": 0,
         "Cotton Candy Pokémon": 0,
         "Cotton Puff Pokémon": 0,
         "Cottonweed Pokémon": 0,
         "Courting Pokémon": 0,
         "Cricket Pokémon": 0,
         "Cruel Pokémon": 0,
         "Crystallizing Pokémon": 0,
         "Curlipede Pokémon": 0,
         "Cyclone Pokémon": 0,
         "DNA Pokémon": 0,
         "Dancing Pokémon": 0,
         "Dark Pokémon": 0,
         "Darkness Pokémon": 0,
         "Daunting Pokémon": 0,
         "Deceiver Pokémon": 0,
         "Deep Black Pokémon": 0,
         "Deep Sea Pokémon": 0,
         "Delivery Pokémon": 0,
         "Desert Croc Pokémon": 0,
         "Despot Pokémon": 0,
         "Destruction Pokémon": 0,
         "Devious Pokémon": 0,
         "Diapered Pokémon": 0,
         "Digging Pokémon": 0,
         "Disaster Pokémon": 0,
         "Discharge Pokémon": 0,
         "Discipline Pokémon": 0,
         "Disguise Pokémon": 0,
         "Diving Pokémon": 0,
         "Donkey Pokémon": 0,
         "Dopey Pokémon": 0,
         "Draft Horse Pokémon": 0,
         "Dragon Pokémon": 0,
         "Drawn Sword Pokémon": 0,
         "Dream Eater Pokémon": 0,
         "Drill Pokémon": 0,
         "Drowsing Pokémon": 0,
         "Duck Pokémon": 0,
         "Eaglet Pokémon": 0,
         "Egg Pokémon": 0,
         "Elder Tree Pokémon": 0,
         "EleFish Pokémon": 0,
         "EleSpider Pokémon": 0,
         "EleSquirrel Pokémon": 0,
         "Electric Pokémon": 0,
         "Electrified Pokémon": 0,
         "Emanation Pokémon": 0,
         "Ember Pokémon": 0,
         "Embrace Pokémon": 0,
         "Emotion Pokémon": 0,
         "Emperor Pokémon": 0,
         "Endurance Pokémon": 0,
         "Eon Pokémon": 0,
         "Eruption Pokémon": 0,
         "Evolution Pokémon": 0,
         "Eyeball Pokémon": 0,
         "Face Pokémon": 0,
         "Fairy Pokémon": 0,
         "Fang Scorp Pokémon": 0,
         "Fang Snake Pokémon": 0,
         "Feeling Pokémon": 0,
         "Fire Cat Pokémon": 0,
         "Fire Horse Pokémon": 0,
         "Fire Mouse Pokémon": 0,
         "Fire Pig Pokémon": 0,
         "Firefly Pokémon": 0,
         "First Bird Pokémon": 0,
         "Fish Pokémon": 0,
         "Five Star Pokémon": 0,
         "Fixation Pokémon": 0,
         "Flailing Pokémon": 0,
         "Flame Pokémon": 0,
         "Flash Pokémon": 0,
         "Float Whale Pokémon": 0,
         "Floating Pokémon": 0,
         "Flower Pokémon": 0,
         "Flowering Pokémon": 0,
         "Flycatcher Pokémon": 0,
         "Flyscorpion Pokémon": 0,
         "Forbidden Pokémon": 0,
         "Forest Pokémon": 0,
         "Formidable Pokémon": 0,
         "Fossil Pokémon": 0,
         "Fox Pokémon": 0,
         "Fragrance Pokémon": 0,
         "Freeze Pokémon": 0,
         "Freezing Pokémon": 0,
         "Fresh Snow Pokémon": 0,
         "Frog Pokémon": 0,
         "Frosted Tree Pokémon": 0,
         "Fruit Pokémon": 0,
         "Garden Pokémon": 0,
         "Gas Pokémon": 0,
         "Gear Pokémon": 0,
         "Generator Pokémon": 0,
         "Genetic Pokémon": 0,
         "Geyser Pokémon": 0,
         "Gleam Eyes Pokémon": 0,
         "Glowing Pokémon": 0,
         "Gnash Teeth Pokémon": 0,
         "Goldfish Pokémon": 0,
         "Grass Monkey Pokémon": 0,
         "Grass Quill Pokémon": 0,
         "Grass Snake Pokémon": 0,
         "Grassland Pokémon": 0,
         "Gratitude Pokémon": 0,
         "Gripper Pokémon": 0,
         "Grove Pokémon": 0,
         "Guts Pokémon": 0,
         "Hairy Pokémon": 0,
         "Handstand Pokémon": 0,
         "Happiness Pokémon": 0,
         "Hard Scale Pokémon": 0,
         "Hard Shell Pokémon": 0,
         "Head Butt Pokémon": 0,
         "Hearing Pokémon": 0,
         "Heavyweight Pokémon": 0,
         "Heel Pokémon": 0,
         "Herb Pokémon": 0,
         "Hermit Crab Pokémon": 0,
         "Hibernator Pokémon": 0,
         "High Temp Pokémon": 0,
         "Hippo Pokémon": 0,
         "_deepnote_index_column": 0
        }
       ],
       "rows_bottom": [
        {
         "against_bug": 0,
         "against_dark": 0.06666666666666667,
         "against_dragon": 0,
         "against_electric": 0.25,
         "against_fairy": 0.06666666666666667,
         "against_fight": 0.25,
         "against_fire": 0.4666666666666667,
         "against_flying": 0.06666666666666667,
         "against_ghost": 0.25,
         "against_grass": 0.06666666666666667,
         "against_ground": 0.5,
         "against_ice": 0.06666666666666667,
         "against_normal": 0.5,
         "against_poison": 0,
         "against_psychic": 0.125,
         "against_rock": 0.06666666666666667,
         "against_steel": 0.2,
         "against_water": 0.2,
         "attack": 0.5,
         "base_egg_steps": 1,
         "base_happiness": 0,
         "base_total": 0.7,
         "capture_rate": 0,
         "defense": 0.4888888888888889,
         "experience_growth": 0.625,
         "height_m": 0.0625,
         "hp": 0.3110236220472441,
         "percentage_male": "nan",
         "pokedex_number": 1,
         "sp_attack": 0.6521739130434783,
         "sp_defense": 0.45238095238095244,
         "speed": 0.34285714285714286,
         "weight_kg": 0.08041608321664333,
         "generation": 0.9999999999999999,
         "is_legendary": 1,
         "Overgrow": 0,
         "Chlorophyll": 0,
         "Blaze": 0,
         "Solar Power": 0,
         "Torrent": 0,
         "Rain Dish": 0,
         "Shield Dust": 0,
         "Run Away": 0,
         "Shed Skin": 0,
         "Compoundeyes": 0,
         "Tinted Lens": 0,
         "Swarm": 0,
         "Sniper": 0,
         "Keen Eye": 0,
         "Tangled Feet": 0,
         "Big Pecks": 0,
         "Guts": 0,
         "Hustle": 0,
         "Gluttony": 0,
         "Thick Fat": 0,
         "Intimidate": 0,
         "Unnerve": 0,
         "Static": 0,
         "Lightningrod": 0,
         "Surge Surfer": 0,
         "Sand Veil": 0,
         "Sand Rush": 0,
         "Snow Cloak": 0,
         "Slush Rush": 0,
         "Poison Point": 0,
         "Rivalry": 0,
         "Sheer Force": 0,
         "Cute Charm": 0,
         "Magic Guard": 0,
         "Friend Guard": 0,
         "Unaware": 0,
         "Flash Fire": 0,
         "Drought": 0,
         "Snow Warning": 0,
         "Competitive": 0,
         "Frisk": 0,
         "Inner Focus": 0,
         "Infiltrator": 0,
         "Stench": 0,
         "Effect Spore": 0,
         "Dry Skin": 0,
         "Damp": 0,
         "Wonder Skin ": 0,
         "Arena Trap": 0,
         "Sand Force": 0,
         "Tangling Hair": 0,
         "Pickup": 0,
         "Technician": 0,
         "Rattled": 0,
         "Limber": 0,
         "Fur Coat": 0,
         "Cloud Nine": 0,
         "Swift Swim": 0,
         "Vital Spirit": 0,
         "Anger Point": 0,
         "Defiant": 0,
         "Justified": 0,
         "Water Absorb": 0,
         "Synchronize": 0,
         "No Guard": 0,
         "Steadfast": 0,
         "Clear Body": 0,
         "Liquid Ooze": 0,
         "Rock Head": 0,
         "Sturdy": 0,
         "Magnet Pull": 0,
         "Galvanize": 0,
         "Flame Body": 0,
         "Oblivious": 0,
         "Own Tempo": 0,
         "Regenerator": 0,
         "Analytic": 0,
         "Early Bird": 0,
         "Hydration": 0,
         "Ice Body": 0,
         "Sticky Hold": 0,
         "Poison Touch": 0,
         "Power of Alchemy": 0,
         "Shell Armor": 0,
         "Skill Link": 0,
         "Overcoat": 0,
         "Levitate": 0,
         "Cursed Body": 0,
         "Weak Armor": 0,
         "Insomnia": 0,
         "Forewarn": 0,
         "Hyper Cutter": 0,
         "Soundproof": 0,
         "Aftermath": 0,
         "Harvest": 0,
         "Battle Armor": 0,
         "Reckless": 0,
         "Unburden": 0,
         "Iron Fist": 0,
         "Natural Cure": 0,
         "Serene Grace": 0,
         "Healer": 0,
         "Leaf Guard": 0,
         "Scrappy": 0,
         "Water Veil": 0,
         "Illuminate": 0,
         "Filter": 0,
         "Mold Breaker": 0,
         "Moxie": 0,
         "Imposter": 0,
         "Adaptability": 0,
         "Anticipation": 0,
         "Volt Absorb": 0,
         "Quick Feet": 0,
         "Trace": 0,
         "Download": 0,
         "Pressure": 0,
         "Immunity": 0,
         "Marvel Scale": 0,
         "Multiscale": 0,
         "Super Luck": 0,
         "Magic Bounce": 0,
         "Plus": 0,
         "Huge Power": 0,
         "Sap Sipper": 0,
         "Drizzle": 0,
         "Speed Boost": 0,
         "Prankster": 0,
         "Shadow Tag": 0,
         "Telepathy": 0,
         "Light Metal": 0,
         "Contrary": 0,
         "Pickpocket": 0,
         "Honey Gather": 0,
         "Magma Armor": 0,
         "Moody": 0,
         "Suction Cups": 0,
         "Sand Stream": 0,
         "Poison Heal": 0,
         "Truant": 0,
         "Wonder Guard": 0,
         "Normalize": 0,
         "Stall": 0,
         "Heavy Metal": 0,
         "Pure Power": 0,
         "Minus": 0,
         "Rough Skin": 0,
         "Simple": 0,
         "Solid Rock": 0,
         "White Smoke": 0,
         "Toxic Boost": 0,
         "Storm Drain": 0,
         "Forecast": 0,
         "Color Change": 0,
         "Protean": 0,
         "Air Lock": 0,
         "Flower Gift": 0,
         "Flare Boost": 0,
         "Klutz": 0,
         "Heatproof": 0,
         "Motor Drive": 0,
         "Slow Start": 0,
         "Bad Dreams": 0,
         "Multitype": 0,
         "Victory Star": 0,
         "Zen Mode": 0,
         "Mummy": 0,
         "Defeatist": 0,
         "Illusion": 0,
         "Iron Barbs": 0,
         "Turboblaze": 0,
         "Teravolt": 0,
         "Bulletproof": 0,
         "Magician": 0,
         "Battle Bond": 0,
         "Cheek Pouch": 0,
         "Gale Wings": 0,
         "Flower Veil": 0,
         "Symbiosis": 0,
         "Grass Pelt": 0,
         "Stance Change": 0,
         "Aroma Veil": 0,
         "Sweet Veil": 0,
         "Tough Claws": 0,
         "Mega Launcher": 0,
         "Strong Jaw": 0,
         "Refrigerate": 0,
         "Pixilate": 0,
         "Gooey": 0,
         "Fairy Aura": 0,
         "Dark Aura": 0,
         "Aura Break": 0,
         "Power Construct": 0,
         "Long Reach": 0,
         "Liquid Voice": 0,
         "Stakeout": 0,
         "Battery": 0,
         "Dancer": 0,
         "Schooling": 0,
         "Merciless": 0,
         "Stamina": 0,
         "Water Bubble": 0,
         "Corrosion": 0,
         "Fluffy": 0,
         "Queenly Majesty": 0,
         "Triage": 0,
         "Receiver": 0,
         "Wimp Out": 0,
         "Emergency Exit": 0,
         "Water Compaction": 0,
         "Innards Out": 0,
         "RKS System": 0,
         "Shields Down": 0,
         "Comatose": 0,
         "Disguise": 0,
         "Dazzling": 0,
         "Berserk": 0,
         "Steelworker": 0,
         "Electric Surge": 0,
         "Psychic Surge": 0,
         "Grassy Surge": 0,
         "Misty Surge": 0,
         "Full Metal Body": 0,
         "Shadow Shield": 0,
         "Beast Boost": 0,
         "Prism Armor": 0,
         "Soul-Heart": 1,
         "Abundance Pokémon": 0,
         "Acorn Pokémon": 0,
         "Alpha Pokémon": 0,
         "Angler Pokémon": 0,
         "Ant Pit Pokémon": 0,
         "Anteater Pokémon": 0,
         "Antenna Pokémon": 0,
         "Aquamouse Pokémon": 0,
         "Aquarabbit Pokémon": 0,
         "Arm Thrust Pokémon": 0,
         "Armor Bird Pokémon": 0,
         "Armor Pokémon": 0,
         "Arrow Quill Pokémon": 0,
         "Artificial Pokémon": 1,
         "Astral Body Pokémon": 0,
         "Atrocious Pokémon": 0,
         "Attaching Pokémon": 0,
         "Aura Pokémon": 0,
         "Aurora Pokémon": 0,
         "Automaton Pokémon": 0,
         "Avianoid Pokémon": 0,
         "Axe Jaw Pokémon": 0,
         "Bagworm Pokémon": 0,
         "Ball Pokémon": 0,
         "Ball Roll Pokémon": 0,
         "Ball Whale Pokémon": 0,
         "Balloon Pokémon": 0,
         "Barnacle Pokémon": 0,
         "Barrier Pokémon": 0,
         "Bash Buffalo Pokémon": 0,
         "Bat Pokémon": 0,
         "Battery Pokémon": 0,
         "Beak Pokémon": 0,
         "Beaver Pokémon": 0,
         "Beckon Pokémon": 0,
         "Bee Fly Pokémon": 0,
         "Beehive Pokémon": 0,
         "Bell Pokémon": 0,
         "Big Boss Pokémon": 0,
         "Big Eater Pokémon": 0,
         "Big Horn Pokémon": 0,
         "Big Jaw Pokémon": 0,
         "Big Voice Pokémon": 0,
         "Big-Hearted Pokémon": 0,
         "Bird Pokémon": 0,
         "Bite Pokémon": 0,
         "Bivalve Pokémon": 0,
         "Blade Pokémon": 0,
         "Blade Quill Pokémon": 0,
         "Blast Pokémon": 0,
         "Blast Turtle Pokémon": 0,
         "Blaze Pokémon": 0,
         "Blazing Pokémon": 0,
         "Blimp Pokémon": 0,
         "Bloom Sickle Pokémon": 0,
         "Blossom Pokémon": 0,
         "Bolt Strike Pokémon": 0,
         "Bone Keeper Pokémon": 0,
         "Bone Vulture Pokémon": 0,
         "Bonsai Pokémon": 0,
         "Bounce Pokémon": 0,
         "Boundary Pokémon": 0,
         "Bouquet Pokémon": 0,
         "Boxing Pokémon": 0,
         "Bright Pokémon": 0,
         "Bronze Bell Pokémon": 0,
         "Bronze Pokémon": 0,
         "Brutal Pokémon": 0,
         "Brutal Star Pokémon": 0,
         "Bubble Frog Pokémon": 0,
         "Bubble Jet Pokémon": 0,
         "Bud Pokémon": 0,
         "Bug Catcher Pokémon": 0,
         "Bugle Beak Pokémon": 0,
         "Bulb Pokémon": 0,
         "Butterfly Pokémon": 0,
         "Cactus Pokémon": 0,
         "Candle Pokémon": 0,
         "Cannon Pokémon": 0,
         "Carefree Pokémon": 0,
         "Caring Pokémon": 0,
         "Cat Ferret Pokémon": 0,
         "Catty Pokémon": 0,
         "Cavalry Pokémon": 0,
         "Cave Pokémon": 0,
         "Cavern Pokémon": 0,
         "Cell Pokémon": 0,
         "Centipede Pokémon": 0,
         "Cerebral Pokémon": 0,
         "Cheering Pokémon": 0,
         "Cherry Pokémon": 0,
         "Chick Pokémon": 0,
         "Chill Pokémon": 0,
         "Chimp Pokémon": 0,
         "Chinchilla Pokémon": 0,
         "Clamping Pokémon": 0,
         "Clap Pokémon": 0,
         "Classy Cat Pokémon": 0,
         "Clay Doll Pokémon": 0,
         "Clear Wing Pokémon": 0,
         "Coal Pokémon": 0,
         "Cobra Pokémon": 0,
         "Coconut Pokémon": 0,
         "Cocoon Pokémon": 0,
         "Coffin Pokémon": 0,
         "Collective Pokémon": 0,
         "Color Swap Pokémon": 0,
         "Colossal Pokémon": 0,
         "Colt Pokémon": 0,
         "Compass Pokémon": 0,
         "Compressed Pokémon": 0,
         "Constraint Pokémon": 0,
         "Continent Pokémon": 0,
         "Coral Pokémon": 0,
         "Cotton Bird Pokémon": 0,
         "Cotton Candy Pokémon": 0,
         "Cotton Puff Pokémon": 0,
         "Cottonweed Pokémon": 0,
         "Courting Pokémon": 0,
         "Cricket Pokémon": 0,
         "Cruel Pokémon": 0,
         "Crystallizing Pokémon": 0,
         "Curlipede Pokémon": 0,
         "Cyclone Pokémon": 0,
         "DNA Pokémon": 0,
         "Dancing Pokémon": 0,
         "Dark Pokémon": 0,
         "Darkness Pokémon": 0,
         "Daunting Pokémon": 0,
         "Deceiver Pokémon": 0,
         "Deep Black Pokémon": 0,
         "Deep Sea Pokémon": 0,
         "Delivery Pokémon": 0,
         "Desert Croc Pokémon": 0,
         "Despot Pokémon": 0,
         "Destruction Pokémon": 0,
         "Devious Pokémon": 0,
         "Diapered Pokémon": 0,
         "Digging Pokémon": 0,
         "Disaster Pokémon": 0,
         "Discharge Pokémon": 0,
         "Discipline Pokémon": 0,
         "Disguise Pokémon": 0,
         "Diving Pokémon": 0,
         "Donkey Pokémon": 0,
         "Dopey Pokémon": 0,
         "Draft Horse Pokémon": 0,
         "Dragon Pokémon": 0,
         "Drawn Sword Pokémon": 0,
         "Dream Eater Pokémon": 0,
         "Drill Pokémon": 0,
         "Drowsing Pokémon": 0,
         "Duck Pokémon": 0,
         "Eaglet Pokémon": 0,
         "Egg Pokémon": 0,
         "Elder Tree Pokémon": 0,
         "EleFish Pokémon": 0,
         "EleSpider Pokémon": 0,
         "EleSquirrel Pokémon": 0,
         "Electric Pokémon": 0,
         "Electrified Pokémon": 0,
         "Emanation Pokémon": 0,
         "Ember Pokémon": 0,
         "Embrace Pokémon": 0,
         "Emotion Pokémon": 0,
         "Emperor Pokémon": 0,
         "Endurance Pokémon": 0,
         "Eon Pokémon": 0,
         "Eruption Pokémon": 0,
         "Evolution Pokémon": 0,
         "Eyeball Pokémon": 0,
         "Face Pokémon": 0,
         "Fairy Pokémon": 0,
         "Fang Scorp Pokémon": 0,
         "Fang Snake Pokémon": 0,
         "Feeling Pokémon": 0,
         "Fire Cat Pokémon": 0,
         "Fire Horse Pokémon": 0,
         "Fire Mouse Pokémon": 0,
         "Fire Pig Pokémon": 0,
         "Firefly Pokémon": 0,
         "First Bird Pokémon": 0,
         "Fish Pokémon": 0,
         "Five Star Pokémon": 0,
         "Fixation Pokémon": 0,
         "Flailing Pokémon": 0,
         "Flame Pokémon": 0,
         "Flash Pokémon": 0,
         "Float Whale Pokémon": 0,
         "Floating Pokémon": 0,
         "Flower Pokémon": 0,
         "Flowering Pokémon": 0,
         "Flycatcher Pokémon": 0,
         "Flyscorpion Pokémon": 0,
         "Forbidden Pokémon": 0,
         "Forest Pokémon": 0,
         "Formidable Pokémon": 0,
         "Fossil Pokémon": 0,
         "Fox Pokémon": 0,
         "Fragrance Pokémon": 0,
         "Freeze Pokémon": 0,
         "Freezing Pokémon": 0,
         "Fresh Snow Pokémon": 0,
         "Frog Pokémon": 0,
         "Frosted Tree Pokémon": 0,
         "Fruit Pokémon": 0,
         "Garden Pokémon": 0,
         "Gas Pokémon": 0,
         "Gear Pokémon": 0,
         "Generator Pokémon": 0,
         "Genetic Pokémon": 0,
         "Geyser Pokémon": 0,
         "Gleam Eyes Pokémon": 0,
         "Glowing Pokémon": 0,
         "Gnash Teeth Pokémon": 0,
         "Goldfish Pokémon": 0,
         "Grass Monkey Pokémon": 0,
         "Grass Quill Pokémon": 0,
         "Grass Snake Pokémon": 0,
         "Grassland Pokémon": 0,
         "Gratitude Pokémon": 0,
         "Gripper Pokémon": 0,
         "Grove Pokémon": 0,
         "Guts Pokémon": 0,
         "Hairy Pokémon": 0,
         "Handstand Pokémon": 0,
         "Happiness Pokémon": 0,
         "Hard Scale Pokémon": 0,
         "Hard Shell Pokémon": 0,
         "Head Butt Pokémon": 0,
         "Hearing Pokémon": 0,
         "Heavyweight Pokémon": 0,
         "Heel Pokémon": 0,
         "Herb Pokémon": 0,
         "Hermit Crab Pokémon": 0,
         "Hibernator Pokémon": 0,
         "High Temp Pokémon": 0,
         "Hippo Pokémon": 0,
         "_deepnote_index_column": 800
        }
       ]
      },
      "text/plain": "     against_bug  against_dark  against_dragon  against_electric  \\\n0       0.200000      0.200000            0.50             0.125   \n1       0.200000      0.200000            0.50             0.125   \n2       0.200000      0.200000            0.50             0.125   \n3       0.066667      0.200000            0.50             0.250   \n4       0.066667      0.200000            0.50             0.250   \n..           ...           ...             ...               ...   \n796     0.000000      0.200000            0.25             0.500   \n797     0.200000      0.200000            0.25             0.125   \n798     0.466667      0.066667            1.00             0.125   \n799     0.466667      0.466667            0.50             0.250   \n800     0.000000      0.066667            0.00             0.250   \n\n     against_fairy  against_fight  against_fire  against_flying  \\\n0         0.066667          0.125      0.466667        0.466667   \n1         0.066667          0.125      0.466667        0.466667   \n2         0.066667          0.125      0.466667        0.466667   \n3         0.066667          0.250      0.066667        0.200000   \n4         0.066667          0.250      0.066667        0.200000   \n..             ...            ...           ...             ...   \n796       0.066667          0.250      0.466667        0.066667   \n797       0.066667          0.500      1.000000        0.200000   \n798       1.000000          0.500      0.066667        0.200000   \n799       0.200000          0.125      0.200000        0.200000   \n800       0.066667          0.250      0.466667        0.066667   \n\n     against_ghost  against_grass  ...  ghost  grass  ground  ice  normal  \\\n0            0.250       0.000000  ...    0.0    0.0     0.0  0.0     0.0   \n1            0.250       0.000000  ...    0.0    0.0     0.0  0.0     0.0   \n2            0.250       0.000000  ...    0.0    0.0     0.0  0.0     0.0   \n3            0.250       0.066667  ...    0.0    0.0     0.0  0.0     0.0   \n4            0.250       0.066667  ...    0.0    0.0     0.0  0.0     0.0   \n..             ...            ...  ...    ...    ...     ...  ...     ...   \n796          0.250       0.000000  ...    0.0    0.0     0.0  0.0     0.0   \n797          0.250       0.000000  ...    0.0    0.0     0.0  0.0     0.0   \n798          0.125       0.066667  ...    0.0    0.0     0.0  0.0     0.0   \n799          0.500       0.200000  ...    0.0    0.0     0.0  0.0     0.0   \n800          0.250       0.066667  ...    0.0    0.0     0.0  0.0     0.0   \n\n     poison  psychic  rock  steel  water  \n0       1.0      0.0   0.0    0.0    0.0  \n1       1.0      0.0   0.0    0.0    0.0  \n2       1.0      0.0   0.0    0.0    0.0  \n3       0.0      0.0   0.0    0.0    0.0  \n4       0.0      0.0   0.0    0.0    0.0  \n..      ...      ...   ...    ...    ...  \n796     0.0      0.0   0.0    0.0    0.0  \n797     0.0      0.0   0.0    1.0    0.0  \n798     0.0      0.0   0.0    0.0    0.0  \n799     0.0      0.0   0.0    0.0    0.0  \n800     0.0      0.0   0.0    0.0    0.0  \n\n[801 rows x 2134 columns]",
      "text/html": "<div>\n<style scoped>\n    .dataframe tbody tr th:only-of-type {\n        vertical-align: middle;\n    }\n\n    .dataframe tbody tr th {\n        vertical-align: top;\n    }\n\n    .dataframe thead th {\n        text-align: right;\n    }\n</style>\n<table border=\"1\" class=\"dataframe\">\n  <thead>\n    <tr style=\"text-align: right;\">\n      <th></th>\n      <th>against_bug</th>\n      <th>against_dark</th>\n      <th>against_dragon</th>\n      <th>against_electric</th>\n      <th>against_fairy</th>\n      <th>against_fight</th>\n      <th>against_fire</th>\n      <th>against_flying</th>\n      <th>against_ghost</th>\n      <th>against_grass</th>\n      <th>...</th>\n      <th>ghost</th>\n      <th>grass</th>\n      <th>ground</th>\n      <th>ice</th>\n      <th>normal</th>\n      <th>poison</th>\n      <th>psychic</th>\n      <th>rock</th>\n      <th>steel</th>\n      <th>water</th>\n    </tr>\n  </thead>\n  <tbody>\n    <tr>\n      <th>0</th>\n      <td>0.200000</td>\n      <td>0.200000</td>\n      <td>0.50</td>\n      <td>0.125</td>\n      <td>0.066667</td>\n      <td>0.125</td>\n      <td>0.466667</td>\n      <td>0.466667</td>\n      <td>0.250</td>\n      <td>0.000000</td>\n      <td>...</td>\n      <td>0.0</td>\n      <td>0.0</td>\n      <td>0.0</td>\n      <td>0.0</td>\n      <td>0.0</td>\n      <td>1.0</td>\n      <td>0.0</td>\n      <td>0.0</td>\n      <td>0.0</td>\n      <td>0.0</td>\n    </tr>\n    <tr>\n      <th>1</th>\n      <td>0.200000</td>\n      <td>0.200000</td>\n      <td>0.50</td>\n      <td>0.125</td>\n      <td>0.066667</td>\n      <td>0.125</td>\n      <td>0.466667</td>\n      <td>0.466667</td>\n      <td>0.250</td>\n      <td>0.000000</td>\n      <td>...</td>\n      <td>0.0</td>\n      <td>0.0</td>\n      <td>0.0</td>\n      <td>0.0</td>\n      <td>0.0</td>\n      <td>1.0</td>\n      <td>0.0</td>\n      <td>0.0</td>\n      <td>0.0</td>\n      <td>0.0</td>\n    </tr>\n    <tr>\n      <th>2</th>\n      <td>0.200000</td>\n      <td>0.200000</td>\n      <td>0.50</td>\n      <td>0.125</td>\n      <td>0.066667</td>\n      <td>0.125</td>\n      <td>0.466667</td>\n      <td>0.466667</td>\n      <td>0.250</td>\n      <td>0.000000</td>\n      <td>...</td>\n      <td>0.0</td>\n      <td>0.0</td>\n      <td>0.0</td>\n      <td>0.0</td>\n      <td>0.0</td>\n      <td>1.0</td>\n      <td>0.0</td>\n      <td>0.0</td>\n      <td>0.0</td>\n      <td>0.0</td>\n    </tr>\n    <tr>\n      <th>3</th>\n      <td>0.066667</td>\n      <td>0.200000</td>\n      <td>0.50</td>\n      <td>0.250</td>\n      <td>0.066667</td>\n      <td>0.250</td>\n      <td>0.066667</td>\n      <td>0.200000</td>\n      <td>0.250</td>\n      <td>0.066667</td>\n      <td>...</td>\n      <td>0.0</td>\n      <td>0.0</td>\n      <td>0.0</td>\n      <td>0.0</td>\n      <td>0.0</td>\n      <td>0.0</td>\n      <td>0.0</td>\n      <td>0.0</td>\n      <td>0.0</td>\n      <td>0.0</td>\n    </tr>\n    <tr>\n      <th>4</th>\n      <td>0.066667</td>\n      <td>0.200000</td>\n      <td>0.50</td>\n      <td>0.250</td>\n      <td>0.066667</td>\n      <td>0.250</td>\n      <td>0.066667</td>\n      <td>0.200000</td>\n      <td>0.250</td>\n      <td>0.066667</td>\n      <td>...</td>\n      <td>0.0</td>\n      <td>0.0</td>\n      <td>0.0</td>\n      <td>0.0</td>\n      <td>0.0</td>\n      <td>0.0</td>\n      <td>0.0</td>\n      <td>0.0</td>\n      <td>0.0</td>\n      <td>0.0</td>\n    </tr>\n    <tr>\n      <th>...</th>\n      <td>...</td>\n      <td>...</td>\n      <td>...</td>\n      <td>...</td>\n      <td>...</td>\n      <td>...</td>\n      <td>...</td>\n      <td>...</td>\n      <td>...</td>\n      <td>...</td>\n      <td>...</td>\n      <td>...</td>\n      <td>...</td>\n      <td>...</td>\n      <td>...</td>\n      <td>...</td>\n      <td>...</td>\n      <td>...</td>\n      <td>...</td>\n      <td>...</td>\n      <td>...</td>\n    </tr>\n    <tr>\n      <th>796</th>\n      <td>0.000000</td>\n      <td>0.200000</td>\n      <td>0.25</td>\n      <td>0.500</td>\n      <td>0.066667</td>\n      <td>0.250</td>\n      <td>0.466667</td>\n      <td>0.066667</td>\n      <td>0.250</td>\n      <td>0.000000</td>\n      <td>...</td>\n      <td>0.0</td>\n      <td>0.0</td>\n      <td>0.0</td>\n      <td>0.0</td>\n      <td>0.0</td>\n      <td>0.0</td>\n      <td>0.0</td>\n      <td>0.0</td>\n      <td>0.0</td>\n      <td>0.0</td>\n    </tr>\n    <tr>\n      <th>797</th>\n      <td>0.200000</td>\n      <td>0.200000</td>\n      <td>0.25</td>\n      <td>0.125</td>\n      <td>0.066667</td>\n      <td>0.500</td>\n      <td>1.000000</td>\n      <td>0.200000</td>\n      <td>0.250</td>\n      <td>0.000000</td>\n      <td>...</td>\n      <td>0.0</td>\n      <td>0.0</td>\n      <td>0.0</td>\n      <td>0.0</td>\n      <td>0.0</td>\n      <td>0.0</td>\n      <td>0.0</td>\n      <td>0.0</td>\n      <td>1.0</td>\n      <td>0.0</td>\n    </tr>\n    <tr>\n      <th>798</th>\n      <td>0.466667</td>\n      <td>0.066667</td>\n      <td>1.00</td>\n      <td>0.125</td>\n      <td>1.000000</td>\n      <td>0.500</td>\n      <td>0.066667</td>\n      <td>0.200000</td>\n      <td>0.125</td>\n      <td>0.066667</td>\n      <td>...</td>\n      <td>0.0</td>\n      <td>0.0</td>\n      <td>0.0</td>\n      <td>0.0</td>\n      <td>0.0</td>\n      <td>0.0</td>\n      <td>0.0</td>\n      <td>0.0</td>\n      <td>0.0</td>\n      <td>0.0</td>\n    </tr>\n    <tr>\n      <th>799</th>\n      <td>0.466667</td>\n      <td>0.466667</td>\n      <td>0.50</td>\n      <td>0.250</td>\n      <td>0.200000</td>\n      <td>0.125</td>\n      <td>0.200000</td>\n      <td>0.200000</td>\n      <td>0.500</td>\n      <td>0.200000</td>\n      <td>...</td>\n      <td>0.0</td>\n      <td>0.0</td>\n      <td>0.0</td>\n      <td>0.0</td>\n      <td>0.0</td>\n      <td>0.0</td>\n      <td>0.0</td>\n      <td>0.0</td>\n      <td>0.0</td>\n      <td>0.0</td>\n    </tr>\n    <tr>\n      <th>800</th>\n      <td>0.000000</td>\n      <td>0.066667</td>\n      <td>0.00</td>\n      <td>0.250</td>\n      <td>0.066667</td>\n      <td>0.250</td>\n      <td>0.466667</td>\n      <td>0.066667</td>\n      <td>0.250</td>\n      <td>0.066667</td>\n      <td>...</td>\n      <td>0.0</td>\n      <td>0.0</td>\n      <td>0.0</td>\n      <td>0.0</td>\n      <td>0.0</td>\n      <td>0.0</td>\n      <td>0.0</td>\n      <td>0.0</td>\n      <td>0.0</td>\n      <td>0.0</td>\n    </tr>\n  </tbody>\n</table>\n<p>801 rows × 2134 columns</p>\n</div>"
     },
     "metadata": {}
    }
   ]
  },
  {
   "cell_type": "markdown",
   "source": "<a style='text-decoration:none;line-height:16px;display:flex;color:#5B5B62;padding:10px;justify-content:end;' href='https://deepnote.com?utm_source=created-in-deepnote-cell&projectId=c3c3f0e5-53b5-41aa-b55f-8ff8474beec2' target=\"_blank\">\n<img alt='Created in deepnote.com' style='display:inline;max-height:16px;margin:0px;margin-right:7.5px;' src='data:image/svg+xml;base64,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' > </img>\nCreated in <span style='font-weight:600;margin-left:4px;'>Deepnote</span></a>",
   "metadata": {
    "tags": [],
    "created_in_deepnote_cell": true,
    "deepnote_cell_type": "markdown"
   }
  }
 ],
 "nbformat": 4,
 "nbformat_minor": 2,
 "metadata": {
  "orig_nbformat": 2,
  "deepnote": {
   "is_reactive": false
  },
  "deepnote_notebook_id": "60c100c2-8d19-4971-a3d8-b17f10b53478",
  "deepnote_execution_queue": []
 }
}
