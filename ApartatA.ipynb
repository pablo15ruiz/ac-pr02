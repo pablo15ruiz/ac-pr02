{
 "cells": [
  {
   "cell_type": "markdown",
   "source": "# Apartat A",
   "metadata": {
    "tags": [],
    "cell_id": "00000-aa9010e7-30f5-44c8-9e76-a2e8a2b4cd3a",
    "deepnote_cell_type": "markdown"
   }
  },
  {
   "cell_type": "code",
   "metadata": {
    "tags": [],
    "cell_id": "00002-51e96638-1096-4142-93b4-158406d2b0b9",
    "deepnote_to_be_reexecuted": false,
    "source_hash": "3ee460b4",
    "execution_start": 1638638868879,
    "execution_millis": 1815,
    "deepnote_cell_type": "code"
   },
   "source": "import ast\n\nimport pandas as pd\nimport numpy as np\n\nfrom sklearn import linear_model, svm, datasets\nfrom sklearn.model_selection import train_test_split\nfrom sklearn.linear_model import LogisticRegression\nfrom sklearn.linear_model import LinearRegression\nfrom sklearn import neighbors, tree, naive_bayes\nfrom sklearn.metrics import f1_score\nfrom sklearn.preprocessing import MinMaxScaler\n\n\nimport scipy\n\nimport matplotlib.pyplot as plt\n\nimport seaborn as sns",
   "execution_count": 1,
   "outputs": []
  },
  {
   "cell_type": "code",
   "metadata": {
    "tags": [],
    "cell_id": "00008-b0476294-8fe7-4c7d-9e8e-bf15a5533452",
    "deepnote_to_be_reexecuted": false,
    "source_hash": "513ae3af",
    "execution_start": 1638638870699,
    "execution_millis": 9,
    "deepnote_cell_type": "code"
   },
   "source": "# EDA\n#41 Atributs\n#tipus definits a baix\n#El target és un tipus int (0,1) depenen de si és llegendari o no (dos classes)\n#taula de correlacions amb els valors de baix\n#histogrames a baix, majoria balancejades pero l'atribut objectiu hi ha pocs de classe 1 (llegendaris)\n\n#muy pocos legendarios, estudiamos datasets con igual numero de pokemons legendarios y no legendarios o todos juntos? pq tambien es importante que existen pocos legendarios\n",
   "execution_count": 2,
   "outputs": []
  },
  {
   "cell_type": "markdown",
   "source": "**name**: The English name of the Pokemon\\\n**japanese_name**: The Original Japanese name of the Pokemon\\\n**pokedex_number**: The entry number of the Pokemon in the National Pokedex\\\n**percentage_male**: The percentage of the species that are male. Blank if the Pokemon is genderless.\\\n**type1**: The Primary Type of the Pokemon\\\n**type2**: The Secondary Type of the Pokemon\\\n**classification**: The Classification of the Pokemon as described by the Sun and Moon Pokedex\\\n**height_m**: Height of the Pokemon in metres\\\n**weight_kg**: The Weight of the Pokemon in kilograms\\\n**capture_rate**: Capture Rate of the Pokemon\\\n**baseeggsteps**: The number of steps required to hatch an egg of the Pokemon\\\n**abilities**: A stringified list of abilities that the Pokemon is capable of having\\\n**experience_growth**: The Experience Growth of the Pokemon\\\n**base_happiness**: Base Happiness of the Pokemon\\\n**against_?**: Eighteen features that denote the amount of damage taken against an attack of a particular type\\\n**hp**: The Base HP of the Pokemon\\\n**attack**: The Base Attack of the Pokemon\\\n**defense**: The Base Defense of the Pokemon\\\n**sp_attack**: The Base Special Attack of the Pokemon\\\n**sp_defense**: The Base Special Defense of the Pokemon\\\n**speed**: The Base Speed of the Pokemon\\\n**generation**: The numbered generation which the Pokemon was first introduced\\\n**is_legendary**: Denotes if the Pokemon is legendary.",
   "metadata": {
    "tags": [],
    "cell_id": "00002-5716dc13-7d15-4c57-9721-4d6f925e0882",
    "deepnote_cell_type": "markdown"
   }
  },
  {
   "cell_type": "code",
   "metadata": {
    "tags": [],
    "cell_id": "00003-296dea32-d900-40a9-a51e-145a096545fb",
    "deepnote_to_be_reexecuted": false,
    "source_hash": "fab7edfe",
    "execution_start": 1638638870757,
    "execution_millis": 1,
    "deepnote_cell_type": "code"
   },
   "source": "df = pd.read_csv('pokemon.csv')",
   "execution_count": 3,
   "outputs": []
  },
  {
   "cell_type": "code",
   "metadata": {
    "tags": [],
    "cell_id": "00010-da824209-a54a-454a-a227-ee9e19dcebb7",
    "deepnote_to_be_reexecuted": false,
    "source_hash": "5763c62",
    "execution_start": 1638638870791,
    "execution_millis": 2535408,
    "deepnote_output_heights": [
     232.34375
    ],
    "deepnote_cell_type": "code"
   },
   "source": "TARGET = 'is_legendary'\nFILTER_RATE = 0.1\nNAMES = df['name']",
   "execution_count": 4,
   "outputs": []
  },
  {
   "cell_type": "markdown",
   "source": "### APARTAT A",
   "metadata": {
    "tags": [],
    "is_collapsed": false,
    "cell_id": "00011-4b6f1399-160f-44d5-b132-c580133c8828",
    "deepnote_cell_type": "text-cell-h3"
   }
  },
  {
   "cell_type": "markdown",
   "source": "**EXPLORATORY DATA ANALYSIS**",
   "metadata": {
    "tags": [],
    "cell_id": "00007-e4146b8d-57a9-4943-8abd-45f5eb073d31",
    "deepnote_cell_type": "markdown"
   },
   "outputs": [],
   "execution_count": null
  },
  {
   "cell_type": "markdown",
   "source": "**Quants atributs té la vostra base de dades?**\n\n41 atributs",
   "metadata": {
    "tags": [],
    "cell_id": "00007-c3ba4a90-5dda-4ce1-bf87-67e56cbf8b9e",
    "deepnote_cell_type": "markdown"
   }
  },
  {
   "cell_type": "code",
   "source": "len(df.columns)",
   "metadata": {
    "tags": [],
    "cell_id": "00008-71c685b4-aa1c-4840-8632-1326b87ad388",
    "deepnote_to_be_reexecuted": false,
    "source_hash": "9364121a",
    "execution_start": 1638638870792,
    "execution_millis": 2535441,
    "deepnote_output_heights": [
     21.1875
    ],
    "deepnote_cell_type": "code"
   },
   "outputs": [
    {
     "output_type": "execute_result",
     "execution_count": 5,
     "data": {
      "text/plain": "41"
     },
     "metadata": {}
    }
   ],
   "execution_count": 5
  },
  {
   "cell_type": "markdown",
   "source": "**Quins tipus d'atributs tens?**",
   "metadata": {
    "tags": [],
    "cell_id": "00009-e33332b8-da49-49e2-8532-1bf04a5b6da3",
    "deepnote_cell_type": "markdown"
   },
   "outputs": [],
   "execution_count": null
  },
  {
   "cell_type": "code",
   "source": "df.dtypes.unique()",
   "metadata": {
    "tags": [],
    "cell_id": "00010-fae11d68-b369-49d3-a9e1-c914972b7012",
    "deepnote_to_be_reexecuted": false,
    "source_hash": "3e27d26f",
    "execution_start": 1638638870793,
    "execution_millis": 3,
    "deepnote_output_heights": [
     21.1875
    ],
    "deepnote_cell_type": "code"
   },
   "outputs": [
    {
     "output_type": "execute_result",
     "execution_count": 6,
     "data": {
      "text/plain": "array([dtype('O'), dtype('float64'), dtype('int64')], dtype=object)"
     },
     "metadata": {}
    }
   ],
   "execution_count": 6
  },
  {
   "cell_type": "markdown",
   "source": "**Com és el *target*, quantes categories diferents existeixen?**",
   "metadata": {
    "tags": [],
    "cell_id": "00011-f33023dc-bf04-4885-9ea3-4e5bc0e57630",
    "deepnote_cell_type": "markdown"
   },
   "outputs": [],
   "execution_count": null
  },
  {
   "cell_type": "code",
   "source": "df[TARGET].unique()  # Atribut binari",
   "metadata": {
    "tags": [],
    "cell_id": "00012-7bf91f40-c92d-4996-a3f3-0c7892491f78",
    "deepnote_to_be_reexecuted": false,
    "source_hash": "4369b186",
    "execution_start": 1638638870795,
    "execution_millis": 1,
    "deepnote_output_heights": [
     21.1875
    ],
    "deepnote_cell_type": "code"
   },
   "outputs": [
    {
     "output_type": "execute_result",
     "execution_count": 7,
     "data": {
      "text/plain": "array([0, 1])"
     },
     "metadata": {}
    }
   ],
   "execution_count": 7
  },
  {
   "cell_type": "markdown",
   "source": "**Podeu veure alguna correlació entre X i y?**",
   "metadata": {
    "tags": [],
    "cell_id": "00011-1a5a155e-0240-4cd2-91e1-9bdbf5d4f5c0",
    "deepnote_cell_type": "markdown"
   },
   "outputs": [],
   "execution_count": null
  },
  {
   "cell_type": "code",
   "metadata": {
    "tags": [],
    "cell_id": "00012-d8702565-cecd-4464-999a-03c3767e3efe",
    "deepnote_to_be_reexecuted": false,
    "source_hash": "7b8fb3d7",
    "execution_start": 1638638870831,
    "execution_millis": 4,
    "deepnote_output_heights": [
     611
    ],
    "deepnote_cell_type": "code"
   },
   "source": "df.corr()[TARGET].abs().sort_values(ascending=False)",
   "execution_count": 8,
   "outputs": [
    {
     "output_type": "execute_result",
     "execution_count": 8,
     "data": {
      "text/plain": "is_legendary         1.000000\nbase_egg_steps       0.873488\nbase_total           0.485440\nbase_happiness       0.413108\nsp_attack            0.406281\nweight_kg            0.393023\nexperience_growth    0.361038\nsp_defense           0.343241\nheight_m             0.322155\nspeed                0.311639\nhp                   0.308405\nattack               0.303295\ndefense              0.265587\npokedex_number       0.196785\nagainst_ghost        0.170746\ngeneration           0.139029\nagainst_dark         0.136315\nagainst_psychic      0.106047\nagainst_grass        0.070826\nagainst_flying       0.062214\nagainst_fight        0.059132\nagainst_fairy        0.050165\npercentage_male      0.045222\nagainst_normal       0.034761\nagainst_bug          0.027864\nagainst_poison       0.024349\nagainst_electric     0.023151\nagainst_water        0.020679\nagainst_rock         0.017588\nagainst_dragon       0.014844\nagainst_ground       0.012812\nagainst_fire         0.011073\nagainst_ice          0.005580\nagainst_steel        0.001397\nName: is_legendary, dtype: float64"
     },
     "metadata": {}
    }
   ]
  },
  {
   "cell_type": "markdown",
   "source": "**Estan balancejades les etiquetes?**",
   "metadata": {
    "tags": [],
    "cell_id": "00015-e41c7c1c-e826-42ed-92c3-a880d31914cd",
    "deepnote_cell_type": "markdown"
   },
   "outputs": [],
   "execution_count": null
  },
  {
   "cell_type": "code",
   "metadata": {
    "tags": [],
    "cell_id": "00014-9f08b52c-1469-4e88-ad9f-bfcf2156bdeb",
    "deepnote_to_be_reexecuted": false,
    "source_hash": "78daa2e2",
    "execution_start": 1638638870832,
    "execution_millis": 3,
    "deepnote_cell_type": "code"
   },
   "source": "# hist = df.hist(figsize=(16, 16))",
   "execution_count": 9,
   "outputs": []
  },
  {
   "cell_type": "code",
   "metadata": {
    "tags": [],
    "cell_id": "00019-0430ee38-cbdd-4d36-8bf5-d16679e96cbc",
    "deepnote_to_be_reexecuted": false,
    "source_hash": "9af24454",
    "execution_start": 1638638870832,
    "execution_millis": 3,
    "deepnote_output_heights": [
     59.59375
    ],
    "deepnote_cell_type": "code"
   },
   "source": "df[TARGET].value_counts()",
   "execution_count": 10,
   "outputs": [
    {
     "output_type": "execute_result",
     "execution_count": 10,
     "data": {
      "text/plain": "0    731\n1     70\nName: is_legendary, dtype: int64"
     },
     "metadata": {}
    }
   ]
  },
  {
   "cell_type": "markdown",
   "source": "**PREPROCESSING**",
   "metadata": {
    "tags": [],
    "cell_id": "00011-87819ce3-56fc-472c-808c-bb3d283817e2",
    "deepnote_cell_type": "markdown"
   }
  },
  {
   "cell_type": "markdown",
   "source": "**Com controleu les dades sense informació (NaNs)?**",
   "metadata": {
    "tags": [],
    "cell_id": "00022-06b32bf7-b3d2-456f-bf2e-76d398d9ca45",
    "deepnote_cell_type": "markdown"
   },
   "outputs": [],
   "execution_count": null
  },
  {
   "cell_type": "code",
   "source": "df.isnull().sum()\n#df.shape",
   "metadata": {
    "tags": [],
    "cell_id": "00021-cbd386ec-de20-4f01-9e52-cb19604f49c9",
    "deepnote_to_be_reexecuted": false,
    "source_hash": "d02d89e4",
    "execution_start": 1638638870881,
    "execution_millis": 3,
    "deepnote_output_heights": [
     611
    ],
    "deepnote_cell_type": "code"
   },
   "outputs": [
    {
     "output_type": "execute_result",
     "execution_count": 11,
     "data": {
      "text/plain": "abilities              0\nagainst_bug            0\nagainst_dark           0\nagainst_dragon         0\nagainst_electric       0\nagainst_fairy          0\nagainst_fight          0\nagainst_fire           0\nagainst_flying         0\nagainst_ghost          0\nagainst_grass          0\nagainst_ground         0\nagainst_ice            0\nagainst_normal         0\nagainst_poison         0\nagainst_psychic        0\nagainst_rock           0\nagainst_steel          0\nagainst_water          0\nattack                 0\nbase_egg_steps         0\nbase_happiness         0\nbase_total             0\ncapture_rate           0\nclassfication          0\ndefense                0\nexperience_growth      0\nheight_m              20\nhp                     0\njapanese_name          0\nname                   0\npercentage_male       98\npokedex_number         0\nsp_attack              0\nsp_defense             0\nspeed                  0\ntype1                  0\ntype2                384\nweight_kg             20\ngeneration             0\nis_legendary           0\ndtype: int64"
     },
     "metadata": {}
    }
   ],
   "execution_count": 11
  },
  {
   "cell_type": "markdown",
   "source": "**Estan les dades normalitzades? Caldria fer-ho?**",
   "metadata": {
    "tags": [],
    "cell_id": "00020-76c1f1cb-f5c2-4c1c-8808-ccece1e3fb61",
    "deepnote_cell_type": "markdown"
   },
   "outputs": [],
   "execution_count": null
  },
  {
   "cell_type": "code",
   "metadata": {
    "tags": [],
    "cell_id": "00013-8a1d6645-cfae-4e58-a1d8-65d39decc440",
    "deepnote_to_be_reexecuted": false,
    "source_hash": "35db413c",
    "execution_start": 1638638870882,
    "execution_millis": 48,
    "deepnote_output_heights": [
     21.1875
    ],
    "deepnote_cell_type": "code"
   },
   "source": "for col in df.select_dtypes(exclude='object'):\n    stat, pvalue = scipy.stats.normaltest(df[col])\n    if pvalue > 1e-3:\n        print(col)",
   "execution_count": 12,
   "outputs": []
  },
  {
   "cell_type": "code",
   "metadata": {
    "tags": [],
    "cell_id": "00018-a0334903-ce71-4fbb-827e-3cca2bf4a228",
    "deepnote_to_be_reexecuted": false,
    "source_hash": "d0941da6",
    "execution_start": 1638638870930,
    "execution_millis": 0,
    "deepnote_cell_type": "code"
   },
   "source": "# 2. Preprocessing\n#No estàn normalitzades, \n#No té sentit intentar normalitzar ja que la majoria de dades que tenim són binàries\n#No tenim gaires nan's excepte en el type2, no podem reomplir-les degut a que són strings\n# (faltar contestar mes coses aqui...) Canvis dataset: En la columna capture_rate hi ha un valor que és de tipus object que no té sentit, hem ficat el valor de 70 al buscar el capture rate del pokemon a internet\n# Tenim algunes variables categòriques com: classification, type1, type2, name i japanese_name, abilities (lista)\n#",
   "execution_count": 13,
   "outputs": []
  },
  {
   "cell_type": "code",
   "metadata": {
    "tags": [],
    "cell_id": "00018-8b722ac1-c640-42ae-95b7-256acf91c29d",
    "deepnote_to_be_reexecuted": false,
    "source_hash": "f8fd0b2b",
    "execution_start": 1638638870931,
    "execution_millis": 44,
    "deepnote_cell_type": "code"
   },
   "source": "df.at[df['name'] == 'Minior', 'capture_rate'] = 70  # Because '30 (Meteorite)255 (Core)'\ndf['capture_rate'] = df['capture_rate'].astype('int64')",
   "execution_count": 14,
   "outputs": []
  },
  {
   "cell_type": "code",
   "metadata": {
    "tags": [],
    "cell_id": "00011-2f5868ef-3349-4556-92f6-814d591d0de1",
    "deepnote_to_be_reexecuted": false,
    "source_hash": "9ce50d9d",
    "execution_start": 1638638870975,
    "execution_millis": 290,
    "deepnote_output_heights": [
     21.1875
    ],
    "deepnote_cell_type": "code"
   },
   "source": "df.describe().loc[['mean', '50%', 'std']]",
   "execution_count": 15,
   "outputs": [
    {
     "output_type": "execute_result",
     "execution_count": 15,
     "data": {
      "application/vnd.deepnote.dataframe.v2+json": {
       "row_count": 3,
       "column_count": 35,
       "columns": [
        {
         "name": "against_bug",
         "dtype": "float64",
         "stats": {
          "unique_count": 3,
          "nan_count": 0,
          "min": "0.5972476078279257",
          "max": "1.0",
          "histogram": [
           {
            "bin_start": 0.5972476078279257,
            "bin_end": 0.6375228470451332,
            "count": 1
           },
           {
            "bin_start": 0.6375228470451332,
            "bin_end": 0.6777980862623406,
            "count": 0
           },
           {
            "bin_start": 0.6777980862623406,
            "bin_end": 0.718073325479548,
            "count": 0
           },
           {
            "bin_start": 0.718073325479548,
            "bin_end": 0.7583485646967554,
            "count": 0
           },
           {
            "bin_start": 0.7583485646967554,
            "bin_end": 0.7986238039139628,
            "count": 0
           },
           {
            "bin_start": 0.7986238039139628,
            "bin_end": 0.8388990431311703,
            "count": 0
           },
           {
            "bin_start": 0.8388990431311703,
            "bin_end": 0.8791742823483777,
            "count": 0
           },
           {
            "bin_start": 0.8791742823483777,
            "bin_end": 0.9194495215655851,
            "count": 0
           },
           {
            "bin_start": 0.9194495215655851,
            "bin_end": 0.9597247607827926,
            "count": 0
           },
           {
            "bin_start": 0.9597247607827926,
            "bin_end": 1,
            "count": 2
           }
          ]
         }
        },
        {
         "name": "against_dark",
         "dtype": "float64",
         "stats": {
          "unique_count": 3,
          "nan_count": 0,
          "min": "0.43814158414011445",
          "max": "1.057116104868914",
          "histogram": [
           {
            "bin_start": 0.43814158414011445,
            "bin_end": 0.5000390362129944,
            "count": 1
           },
           {
            "bin_start": 0.5000390362129944,
            "bin_end": 0.5619364882858744,
            "count": 0
           },
           {
            "bin_start": 0.5619364882858744,
            "bin_end": 0.6238339403587543,
            "count": 0
           },
           {
            "bin_start": 0.6238339403587543,
            "bin_end": 0.6857313924316343,
            "count": 0
           },
           {
            "bin_start": 0.6857313924316343,
            "bin_end": 0.7476288445045143,
            "count": 0
           },
           {
            "bin_start": 0.7476288445045143,
            "bin_end": 0.8095262965773942,
            "count": 0
           },
           {
            "bin_start": 0.8095262965773942,
            "bin_end": 0.8714237486502742,
            "count": 0
           },
           {
            "bin_start": 0.8714237486502742,
            "bin_end": 0.9333212007231542,
            "count": 0
           },
           {
            "bin_start": 0.9333212007231542,
            "bin_end": 0.995218652796034,
            "count": 0
           },
           {
            "bin_start": 0.995218652796034,
            "bin_end": 1.057116104868914,
            "count": 2
           }
          ]
         }
        },
        {
         "name": "against_dragon",
         "dtype": "float64",
         "stats": {
          "unique_count": 3,
          "nan_count": 0,
          "min": "0.3530575826676876",
          "max": "1.0",
          "histogram": [
           {
            "bin_start": 0.3530575826676876,
            "bin_end": 0.41775182440091885,
            "count": 1
           },
           {
            "bin_start": 0.41775182440091885,
            "bin_end": 0.4824460661341501,
            "count": 0
           },
           {
            "bin_start": 0.4824460661341501,
            "bin_end": 0.5471403078673813,
            "count": 0
           },
           {
            "bin_start": 0.5471403078673813,
            "bin_end": 0.6118345496006126,
            "count": 0
           },
           {
            "bin_start": 0.6118345496006126,
            "bin_end": 0.6765287913338438,
            "count": 0
           },
           {
            "bin_start": 0.6765287913338438,
            "bin_end": 0.741223033067075,
            "count": 0
           },
           {
            "bin_start": 0.741223033067075,
            "bin_end": 0.8059172748003063,
            "count": 0
           },
           {
            "bin_start": 0.8059172748003063,
            "bin_end": 0.8706115165335375,
            "count": 0
           },
           {
            "bin_start": 0.8706115165335375,
            "bin_end": 0.9353057582667688,
            "count": 0
           },
           {
            "bin_start": 0.9353057582667688,
            "bin_end": 1,
            "count": 2
           }
          ]
         }
        },
        {
         "name": "against_electric",
         "dtype": "float64",
         "stats": {
          "unique_count": 3,
          "nan_count": 0,
          "min": "0.6549616165097948",
          "max": "1.0739700374531835",
          "histogram": [
           {
            "bin_start": 0.6549616165097948,
            "bin_end": 0.6968624586041336,
            "count": 1
           },
           {
            "bin_start": 0.6968624586041336,
            "bin_end": 0.7387633006984725,
            "count": 0
           },
           {
            "bin_start": 0.7387633006984725,
            "bin_end": 0.7806641427928114,
            "count": 0
           },
           {
            "bin_start": 0.7806641427928114,
            "bin_end": 0.8225649848871504,
            "count": 0
           },
           {
            "bin_start": 0.8225649848871504,
            "bin_end": 0.8644658269814891,
            "count": 0
           },
           {
            "bin_start": 0.8644658269814891,
            "bin_end": 0.9063666690758281,
            "count": 0
           },
           {
            "bin_start": 0.9063666690758281,
            "bin_end": 0.9482675111701669,
            "count": 0
           },
           {
            "bin_start": 0.9482675111701669,
            "bin_end": 0.9901683532645058,
            "count": 0
           },
           {
            "bin_start": 0.9901683532645058,
            "bin_end": 1.0320691953588446,
            "count": 1
           },
           {
            "bin_start": 1.0320691953588446,
            "bin_end": 1.0739700374531835,
            "count": 1
           }
          ]
         }
        },
        {
         "name": "against_fairy",
         "dtype": "float64",
         "stats": {
          "unique_count": 3,
          "nan_count": 0,
          "min": "0.522166832235294",
          "max": "1.068976279650437",
          "histogram": [
           {
            "bin_start": 0.522166832235294,
            "bin_end": 0.5768477769768083,
            "count": 1
           },
           {
            "bin_start": 0.5768477769768083,
            "bin_end": 0.6315287217183226,
            "count": 0
           },
           {
            "bin_start": 0.6315287217183226,
            "bin_end": 0.6862096664598369,
            "count": 0
           },
           {
            "bin_start": 0.6862096664598369,
            "bin_end": 0.7408906112013511,
            "count": 0
           },
           {
            "bin_start": 0.7408906112013511,
            "bin_end": 0.7955715559428655,
            "count": 0
           },
           {
            "bin_start": 0.7955715559428655,
            "bin_end": 0.8502525006843797,
            "count": 0
           },
           {
            "bin_start": 0.8502525006843797,
            "bin_end": 0.904933445425894,
            "count": 0
           },
           {
            "bin_start": 0.904933445425894,
            "bin_end": 0.9596143901674083,
            "count": 0
           },
           {
            "bin_start": 0.9596143901674083,
            "bin_end": 1.0142953349089225,
            "count": 1
           },
           {
            "bin_start": 1.0142953349089225,
            "bin_end": 1.068976279650437,
            "count": 1
           }
          ]
         }
        },
        {
         "name": "against_fight",
         "dtype": "float64",
         "stats": {
          "unique_count": 3,
          "nan_count": 0,
          "min": "0.7172508180232743",
          "max": "1.0655430711610487",
          "histogram": [
           {
            "bin_start": 0.7172508180232743,
            "bin_end": 0.7520800433370517,
            "count": 1
           },
           {
            "bin_start": 0.7520800433370517,
            "bin_end": 0.7869092686508292,
            "count": 0
           },
           {
            "bin_start": 0.7869092686508292,
            "bin_end": 0.8217384939646066,
            "count": 0
           },
           {
            "bin_start": 0.8217384939646066,
            "bin_end": 0.856567719278384,
            "count": 0
           },
           {
            "bin_start": 0.856567719278384,
            "bin_end": 0.8913969445921615,
            "count": 0
           },
           {
            "bin_start": 0.8913969445921615,
            "bin_end": 0.926226169905939,
            "count": 0
           },
           {
            "bin_start": 0.926226169905939,
            "bin_end": 0.9610553952197164,
            "count": 0
           },
           {
            "bin_start": 0.9610553952197164,
            "bin_end": 0.9958846205334939,
            "count": 0
           },
           {
            "bin_start": 0.9958846205334939,
            "bin_end": 1.0307138458472713,
            "count": 1
           },
           {
            "bin_start": 1.0307138458472713,
            "bin_end": 1.0655430711610487,
            "count": 1
           }
          ]
         }
        },
        {
         "name": "against_fire",
         "dtype": "float64",
         "stats": {
          "unique_count": 3,
          "nan_count": 0,
          "min": "0.6918526384612678",
          "max": "1.1354556803995006",
          "histogram": [
           {
            "bin_start": 0.6918526384612678,
            "bin_end": 0.7362129426550911,
            "count": 1
           },
           {
            "bin_start": 0.7362129426550911,
            "bin_end": 0.7805732468489144,
            "count": 0
           },
           {
            "bin_start": 0.7805732468489144,
            "bin_end": 0.8249335510427376,
            "count": 0
           },
           {
            "bin_start": 0.8249335510427376,
            "bin_end": 0.8692938552365609,
            "count": 0
           },
           {
            "bin_start": 0.8692938552365609,
            "bin_end": 0.9136541594303842,
            "count": 0
           },
           {
            "bin_start": 0.9136541594303842,
            "bin_end": 0.9580144636242075,
            "count": 0
           },
           {
            "bin_start": 0.9580144636242075,
            "bin_end": 1.0023747678180308,
            "count": 1
           },
           {
            "bin_start": 1.0023747678180308,
            "bin_end": 1.046735072011854,
            "count": 0
           },
           {
            "bin_start": 1.046735072011854,
            "bin_end": 1.0910953762056774,
            "count": 0
           },
           {
            "bin_start": 1.0910953762056774,
            "bin_end": 1.1354556803995006,
            "count": 1
           }
          ]
         }
        },
        {
         "name": "against_flying",
         "dtype": "float64",
         "stats": {
          "unique_count": 3,
          "nan_count": 0,
          "min": "0.6044878392100282",
          "max": "1.192883895131086",
          "histogram": [
           {
            "bin_start": 0.6044878392100282,
            "bin_end": 0.663327444802134,
            "count": 1
           },
           {
            "bin_start": 0.663327444802134,
            "bin_end": 0.7221670503942398,
            "count": 0
           },
           {
            "bin_start": 0.7221670503942398,
            "bin_end": 0.7810066559863456,
            "count": 0
           },
           {
            "bin_start": 0.7810066559863456,
            "bin_end": 0.8398462615784514,
            "count": 0
           },
           {
            "bin_start": 0.8398462615784514,
            "bin_end": 0.8986858671705571,
            "count": 0
           },
           {
            "bin_start": 0.8986858671705571,
            "bin_end": 0.957525472762663,
            "count": 0
           },
           {
            "bin_start": 0.957525472762663,
            "bin_end": 1.0163650783547689,
            "count": 1
           },
           {
            "bin_start": 1.0163650783547689,
            "bin_end": 1.0752046839468745,
            "count": 0
           },
           {
            "bin_start": 1.0752046839468745,
            "bin_end": 1.1340442895389802,
            "count": 0
           },
           {
            "bin_start": 1.1340442895389802,
            "bin_end": 1.192883895131086,
            "count": 1
           }
          ]
         }
        },
        {
         "name": "against_ghost",
         "dtype": "float64",
         "stats": {
          "unique_count": 3,
          "nan_count": 0,
          "min": "0.5582564651653185",
          "max": "1.0",
          "histogram": [
           {
            "bin_start": 0.5582564651653185,
            "bin_end": 0.6024308186487866,
            "count": 1
           },
           {
            "bin_start": 0.6024308186487866,
            "bin_end": 0.6466051721322548,
            "count": 0
           },
           {
            "bin_start": 0.6466051721322548,
            "bin_end": 0.690779525615723,
            "count": 0
           },
           {
            "bin_start": 0.690779525615723,
            "bin_end": 0.7349538790991911,
            "count": 0
           },
           {
            "bin_start": 0.7349538790991911,
            "bin_end": 0.7791282325826592,
            "count": 0
           },
           {
            "bin_start": 0.7791282325826592,
            "bin_end": 0.8233025860661274,
            "count": 0
           },
           {
            "bin_start": 0.8233025860661274,
            "bin_end": 0.8674769395495956,
            "count": 0
           },
           {
            "bin_start": 0.8674769395495956,
            "bin_end": 0.9116512930330637,
            "count": 0
           },
           {
            "bin_start": 0.9116512930330637,
            "bin_end": 0.9558256465165318,
            "count": 0
           },
           {
            "bin_start": 0.9558256465165318,
            "bin_end": 1,
            "count": 2
           }
          ]
         }
        },
        {
         "name": "against_grass",
         "dtype": "float64",
         "stats": {
          "unique_count": 3,
          "nan_count": 0,
          "min": "0.7888959497934436",
          "max": "1.034019975031211",
          "histogram": [
           {
            "bin_start": 0.7888959497934436,
            "bin_end": 0.8134083523172203,
            "count": 1
           },
           {
            "bin_start": 0.8134083523172203,
            "bin_end": 0.837920754840997,
            "count": 0
           },
           {
            "bin_start": 0.837920754840997,
            "bin_end": 0.8624331573647738,
            "count": 0
           },
           {
            "bin_start": 0.8624331573647738,
            "bin_end": 0.8869455598885505,
            "count": 0
           },
           {
            "bin_start": 0.8869455598885505,
            "bin_end": 0.9114579624123272,
            "count": 0
           },
           {
            "bin_start": 0.9114579624123272,
            "bin_end": 0.935970364936104,
            "count": 0
           },
           {
            "bin_start": 0.935970364936104,
            "bin_end": 0.9604827674598807,
            "count": 0
           },
           {
            "bin_start": 0.9604827674598807,
            "bin_end": 0.9849951699836574,
            "count": 0
           },
           {
            "bin_start": 0.9849951699836574,
            "bin_end": 1.009507572507434,
            "count": 1
           },
           {
            "bin_start": 1.009507572507434,
            "bin_end": 1.034019975031211,
            "count": 1
           }
          ]
         }
        },
        {
         "name": "against_ground",
         "dtype": "float64",
         "stats": {
          "unique_count": 3,
          "nan_count": 0,
          "min": "0.7388181474447942",
          "max": "1.0980024968789013",
          "histogram": [
           {
            "bin_start": 0.7388181474447942,
            "bin_end": 0.774736582388205,
            "count": 1
           },
           {
            "bin_start": 0.774736582388205,
            "bin_end": 0.8106550173316156,
            "count": 0
           },
           {
            "bin_start": 0.8106550173316156,
            "bin_end": 0.8465734522750263,
            "count": 0
           },
           {
            "bin_start": 0.8465734522750263,
            "bin_end": 0.8824918872184371,
            "count": 0
           },
           {
            "bin_start": 0.8824918872184371,
            "bin_end": 0.9184103221618478,
            "count": 0
           },
           {
            "bin_start": 0.9184103221618478,
            "bin_end": 0.9543287571052584,
            "count": 0
           },
           {
            "bin_start": 0.9543287571052584,
            "bin_end": 0.9902471920486692,
            "count": 0
           },
           {
            "bin_start": 0.9902471920486692,
            "bin_end": 1.0261656269920798,
            "count": 1
           },
           {
            "bin_start": 1.0261656269920798,
            "bin_end": 1.0620840619354905,
            "count": 0
           },
           {
            "bin_start": 1.0620840619354905,
            "bin_end": 1.0980024968789013,
            "count": 1
           }
          ]
         }
        },
        {
         "name": "against_ice",
         "dtype": "float64",
         "stats": {
          "unique_count": 3,
          "nan_count": 0,
          "min": "0.7353561542090226",
          "max": "1.2081772784019975",
          "histogram": [
           {
            "bin_start": 0.7353561542090226,
            "bin_end": 0.78263826662832,
            "count": 1
           },
           {
            "bin_start": 0.78263826662832,
            "bin_end": 0.8299203790476175,
            "count": 0
           },
           {
            "bin_start": 0.8299203790476175,
            "bin_end": 0.877202491466915,
            "count": 0
           },
           {
            "bin_start": 0.877202491466915,
            "bin_end": 0.9244846038862126,
            "count": 0
           },
           {
            "bin_start": 0.9244846038862126,
            "bin_end": 0.97176671630551,
            "count": 0
           },
           {
            "bin_start": 0.97176671630551,
            "bin_end": 1.0190488287248076,
            "count": 1
           },
           {
            "bin_start": 1.0190488287248076,
            "bin_end": 1.066330941144105,
            "count": 0
           },
           {
            "bin_start": 1.066330941144105,
            "bin_end": 1.1136130535634026,
            "count": 0
           },
           {
            "bin_start": 1.1136130535634026,
            "bin_end": 1.1608951659827,
            "count": 0
           },
           {
            "bin_start": 1.1608951659827,
            "bin_end": 1.2081772784019975,
            "count": 1
           }
          ]
         }
        },
        {
         "name": "against_normal",
         "dtype": "float64",
         "stats": {
          "unique_count": 3,
          "nan_count": 0,
          "min": "0.2661061085098709",
          "max": "1.0",
          "histogram": [
           {
            "bin_start": 0.2661061085098709,
            "bin_end": 0.33949549765888376,
            "count": 1
           },
           {
            "bin_start": 0.33949549765888376,
            "bin_end": 0.4128848868078967,
            "count": 0
           },
           {
            "bin_start": 0.4128848868078967,
            "bin_end": 0.48627427595690964,
            "count": 0
           },
           {
            "bin_start": 0.48627427595690964,
            "bin_end": 0.5596636651059226,
            "count": 0
           },
           {
            "bin_start": 0.5596636651059226,
            "bin_end": 0.6330530542549355,
            "count": 0
           },
           {
            "bin_start": 0.6330530542549355,
            "bin_end": 0.7064424434039484,
            "count": 0
           },
           {
            "bin_start": 0.7064424434039484,
            "bin_end": 0.7798318325529612,
            "count": 0
           },
           {
            "bin_start": 0.7798318325529612,
            "bin_end": 0.8532212217019741,
            "count": 0
           },
           {
            "bin_start": 0.8532212217019741,
            "bin_end": 0.9266106108509871,
            "count": 1
           },
           {
            "bin_start": 0.9266106108509871,
            "bin_end": 1,
            "count": 1
           }
          ]
         }
        },
        {
         "name": "against_poison",
         "dtype": "float64",
         "stats": {
          "unique_count": 3,
          "nan_count": 0,
          "min": "0.5493752481077557",
          "max": "1.0",
          "histogram": [
           {
            "bin_start": 0.5493752481077557,
            "bin_end": 0.5944377232969802,
            "count": 1
           },
           {
            "bin_start": 0.5944377232969802,
            "bin_end": 0.6395001984862045,
            "count": 0
           },
           {
            "bin_start": 0.6395001984862045,
            "bin_end": 0.684562673675429,
            "count": 0
           },
           {
            "bin_start": 0.684562673675429,
            "bin_end": 0.7296251488646535,
            "count": 0
           },
           {
            "bin_start": 0.7296251488646535,
            "bin_end": 0.7746876240538778,
            "count": 0
           },
           {
            "bin_start": 0.7746876240538778,
            "bin_end": 0.8197500992431023,
            "count": 0
           },
           {
            "bin_start": 0.8197500992431023,
            "bin_end": 0.8648125744323267,
            "count": 0
           },
           {
            "bin_start": 0.8648125744323267,
            "bin_end": 0.9098750496215511,
            "count": 0
           },
           {
            "bin_start": 0.9098750496215511,
            "bin_end": 0.9549375248107755,
            "count": 0
           },
           {
            "bin_start": 0.9549375248107755,
            "bin_end": 1,
            "count": 2
           }
          ]
         }
        },
        {
         "name": "against_psychic",
         "dtype": "float64",
         "stats": {
          "unique_count": 3,
          "nan_count": 0,
          "min": "0.49518298393424975",
          "max": "1.0053058676654183",
          "histogram": [
           {
            "bin_start": 0.49518298393424975,
            "bin_end": 0.5461952723073666,
            "count": 1
           },
           {
            "bin_start": 0.5461952723073666,
            "bin_end": 0.5972075606804834,
            "count": 0
           },
           {
            "bin_start": 0.5972075606804834,
            "bin_end": 0.6482198490536003,
            "count": 0
           },
           {
            "bin_start": 0.6482198490536003,
            "bin_end": 0.6992321374267172,
            "count": 0
           },
           {
            "bin_start": 0.6992321374267172,
            "bin_end": 0.750244425799834,
            "count": 0
           },
           {
            "bin_start": 0.750244425799834,
            "bin_end": 0.8012567141729509,
            "count": 0
           },
           {
            "bin_start": 0.8012567141729509,
            "bin_end": 0.8522690025460677,
            "count": 0
           },
           {
            "bin_start": 0.8522690025460677,
            "bin_end": 0.9032812909191845,
            "count": 0
           },
           {
            "bin_start": 0.9032812909191845,
            "bin_end": 0.9542935792923014,
            "count": 0
           },
           {
            "bin_start": 0.9542935792923014,
            "bin_end": 1.0053058676654183,
            "count": 2
           }
          ]
         }
        },
        {
         "name": "against_rock",
         "dtype": "float64",
         "stats": {
          "unique_count": 3,
          "nan_count": 0,
          "min": "0.6971481388239288",
          "max": "1.2503121098626717",
          "histogram": [
           {
            "bin_start": 0.6971481388239288,
            "bin_end": 0.752464535927803,
            "count": 1
           },
           {
            "bin_start": 0.752464535927803,
            "bin_end": 0.8077809330316774,
            "count": 0
           },
           {
            "bin_start": 0.8077809330316774,
            "bin_end": 0.8630973301355517,
            "count": 0
           },
           {
            "bin_start": 0.8630973301355517,
            "bin_end": 0.9184137272394259,
            "count": 0
           },
           {
            "bin_start": 0.9184137272394259,
            "bin_end": 0.9737301243433003,
            "count": 0
           },
           {
            "bin_start": 0.9737301243433003,
            "bin_end": 1.0290465214471745,
            "count": 1
           },
           {
            "bin_start": 1.0290465214471745,
            "bin_end": 1.0843629185510488,
            "count": 0
           },
           {
            "bin_start": 1.0843629185510488,
            "bin_end": 1.1396793156549232,
            "count": 0
           },
           {
            "bin_start": 1.1396793156549232,
            "bin_end": 1.1949957127587973,
            "count": 0
           },
           {
            "bin_start": 1.1949957127587973,
            "bin_end": 1.2503121098626717,
            "count": 1
           }
          ]
         }
        },
        {
         "name": "against_steel",
         "dtype": "float64",
         "stats": {
          "unique_count": 3,
          "nan_count": 0,
          "min": "0.5001166374568772",
          "max": "1.0",
          "histogram": [
           {
            "bin_start": 0.5001166374568772,
            "bin_end": 0.5501049737111895,
            "count": 1
           },
           {
            "bin_start": 0.5501049737111895,
            "bin_end": 0.6000933099655017,
            "count": 0
           },
           {
            "bin_start": 0.6000933099655017,
            "bin_end": 0.650081646219814,
            "count": 0
           },
           {
            "bin_start": 0.650081646219814,
            "bin_end": 0.7000699824741263,
            "count": 0
           },
           {
            "bin_start": 0.7000699824741263,
            "bin_end": 0.7500583187284386,
            "count": 0
           },
           {
            "bin_start": 0.7500583187284386,
            "bin_end": 0.8000466549827508,
            "count": 0
           },
           {
            "bin_start": 0.8000466549827508,
            "bin_end": 0.8500349912370632,
            "count": 0
           },
           {
            "bin_start": 0.8500349912370632,
            "bin_end": 0.9000233274913754,
            "count": 0
           },
           {
            "bin_start": 0.9000233274913754,
            "bin_end": 0.9500116637456877,
            "count": 0
           },
           {
            "bin_start": 0.9500116637456877,
            "bin_end": 1,
            "count": 2
           }
          ]
         }
        },
        {
         "name": "against_water",
         "dtype": "float64",
         "stats": {
          "unique_count": 3,
          "nan_count": 0,
          "min": "0.6065619893640908",
          "max": "1.0583645443196006",
          "histogram": [
           {
            "bin_start": 0.6065619893640908,
            "bin_end": 0.6517422448596417,
            "count": 1
           },
           {
            "bin_start": 0.6517422448596417,
            "bin_end": 0.6969225003551928,
            "count": 0
           },
           {
            "bin_start": 0.6969225003551928,
            "bin_end": 0.7421027558507437,
            "count": 0
           },
           {
            "bin_start": 0.7421027558507437,
            "bin_end": 0.7872830113462947,
            "count": 0
           },
           {
            "bin_start": 0.7872830113462947,
            "bin_end": 0.8324632668418457,
            "count": 0
           },
           {
            "bin_start": 0.8324632668418457,
            "bin_end": 0.8776435223373966,
            "count": 0
           },
           {
            "bin_start": 0.8776435223373966,
            "bin_end": 0.9228237778329476,
            "count": 0
           },
           {
            "bin_start": 0.9228237778329476,
            "bin_end": 0.9680040333284986,
            "count": 0
           },
           {
            "bin_start": 0.9680040333284986,
            "bin_end": 1.0131842888240497,
            "count": 1
           },
           {
            "bin_start": 1.0131842888240497,
            "bin_end": 1.0583645443196006,
            "count": 1
           }
          ]
         }
        },
        {
         "name": "attack",
         "dtype": "float64",
         "stats": {
          "unique_count": 3,
          "nan_count": 0,
          "min": "32.1588202380175",
          "max": "77.85767790262172",
          "histogram": [
           {
            "bin_start": 32.1588202380175,
            "bin_end": 36.72870600447792,
            "count": 1
           },
           {
            "bin_start": 36.72870600447792,
            "bin_end": 41.298591770938344,
            "count": 0
           },
           {
            "bin_start": 41.298591770938344,
            "bin_end": 45.86847753739876,
            "count": 0
           },
           {
            "bin_start": 45.86847753739876,
            "bin_end": 50.438363303859184,
            "count": 0
           },
           {
            "bin_start": 50.438363303859184,
            "bin_end": 55.00824907031961,
            "count": 0
           },
           {
            "bin_start": 55.00824907031961,
            "bin_end": 59.57813483678002,
            "count": 0
           },
           {
            "bin_start": 59.57813483678002,
            "bin_end": 64.14802060324044,
            "count": 0
           },
           {
            "bin_start": 64.14802060324044,
            "bin_end": 68.71790636970087,
            "count": 0
           },
           {
            "bin_start": 68.71790636970087,
            "bin_end": 73.2877921361613,
            "count": 0
           },
           {
            "bin_start": 73.2877921361613,
            "bin_end": 77.85767790262172,
            "count": 2
           }
          ]
         }
        },
        {
         "name": "base_egg_steps",
         "dtype": "float64",
         "stats": {
          "unique_count": 3,
          "nan_count": 0,
          "min": "5120.0",
          "max": "7191.011235955056",
          "histogram": [
           {
            "bin_start": 5120,
            "bin_end": 5327.101123595506,
            "count": 1
           },
           {
            "bin_start": 5327.101123595506,
            "bin_end": 5534.202247191011,
            "count": 0
           },
           {
            "bin_start": 5534.202247191011,
            "bin_end": 5741.303370786517,
            "count": 0
           },
           {
            "bin_start": 5741.303370786517,
            "bin_end": 5948.404494382023,
            "count": 0
           },
           {
            "bin_start": 5948.404494382023,
            "bin_end": 6155.505617977527,
            "count": 0
           },
           {
            "bin_start": 6155.505617977527,
            "bin_end": 6362.606741573034,
            "count": 0
           },
           {
            "bin_start": 6362.606741573034,
            "bin_end": 6569.707865168539,
            "count": 1
           },
           {
            "bin_start": 6569.707865168539,
            "bin_end": 6776.808988764044,
            "count": 0
           },
           {
            "bin_start": 6776.808988764044,
            "bin_end": 6983.91011235955,
            "count": 0
           },
           {
            "bin_start": 6983.91011235955,
            "bin_end": 7191.011235955056,
            "count": 1
           }
          ]
         }
        },
        {
         "name": "base_happiness",
         "dtype": "float64",
         "stats": {
          "unique_count": 3,
          "nan_count": 0,
          "min": "19.59894787489233",
          "max": "70.0",
          "histogram": [
           {
            "bin_start": 19.59894787489233,
            "bin_end": 24.639053087403095,
            "count": 1
           },
           {
            "bin_start": 24.639053087403095,
            "bin_end": 29.679158299913862,
            "count": 0
           },
           {
            "bin_start": 29.679158299913862,
            "bin_end": 34.71926351242463,
            "count": 0
           },
           {
            "bin_start": 34.71926351242463,
            "bin_end": 39.7593687249354,
            "count": 0
           },
           {
            "bin_start": 39.7593687249354,
            "bin_end": 44.799473937446166,
            "count": 0
           },
           {
            "bin_start": 44.799473937446166,
            "bin_end": 49.83957914995693,
            "count": 0
           },
           {
            "bin_start": 49.83957914995693,
            "bin_end": 54.8796843624677,
            "count": 0
           },
           {
            "bin_start": 54.8796843624677,
            "bin_end": 59.919789574978466,
            "count": 0
           },
           {
            "bin_start": 59.919789574978466,
            "bin_end": 64.95989478748923,
            "count": 0
           },
           {
            "bin_start": 64.95989478748923,
            "bin_end": 70,
            "count": 2
           }
          ]
         }
        },
        {
         "name": "base_total",
         "dtype": "float64",
         "stats": {
          "unique_count": 3,
          "nan_count": 0,
          "min": "119.20357658921323",
          "max": "435.0",
          "histogram": [
           {
            "bin_start": 119.20357658921323,
            "bin_end": 150.7832189302919,
            "count": 1
           },
           {
            "bin_start": 150.7832189302919,
            "bin_end": 182.36286127137058,
            "count": 0
           },
           {
            "bin_start": 182.36286127137058,
            "bin_end": 213.94250361244923,
            "count": 0
           },
           {
            "bin_start": 213.94250361244923,
            "bin_end": 245.5221459535279,
            "count": 0
           },
           {
            "bin_start": 245.5221459535279,
            "bin_end": 277.1017882946066,
            "count": 0
           },
           {
            "bin_start": 277.1017882946066,
            "bin_end": 308.6814306356853,
            "count": 0
           },
           {
            "bin_start": 308.6814306356853,
            "bin_end": 340.26107297676396,
            "count": 0
           },
           {
            "bin_start": 340.26107297676396,
            "bin_end": 371.84071531784264,
            "count": 0
           },
           {
            "bin_start": 371.84071531784264,
            "bin_end": 403.4203576589213,
            "count": 0
           },
           {
            "bin_start": 403.4203576589213,
            "bin_end": 435,
            "count": 2
           }
          ]
         }
        },
        {
         "name": "capture_rate",
         "dtype": "float64",
         "stats": {
          "unique_count": 3,
          "nan_count": 0,
          "min": "60.0",
          "max": "98.72534332084894",
          "histogram": [
           {
            "bin_start": 60,
            "bin_end": 63.872534332084896,
            "count": 1
           },
           {
            "bin_start": 63.872534332084896,
            "bin_end": 67.74506866416979,
            "count": 0
           },
           {
            "bin_start": 67.74506866416979,
            "bin_end": 71.61760299625467,
            "count": 0
           },
           {
            "bin_start": 71.61760299625467,
            "bin_end": 75.49013732833957,
            "count": 0
           },
           {
            "bin_start": 75.49013732833957,
            "bin_end": 79.36267166042447,
            "count": 1
           },
           {
            "bin_start": 79.36267166042447,
            "bin_end": 83.23520599250936,
            "count": 0
           },
           {
            "bin_start": 83.23520599250936,
            "bin_end": 87.10774032459426,
            "count": 0
           },
           {
            "bin_start": 87.10774032459426,
            "bin_end": 90.98027465667914,
            "count": 0
           },
           {
            "bin_start": 90.98027465667914,
            "bin_end": 94.85280898876405,
            "count": 0
           },
           {
            "bin_start": 94.85280898876405,
            "bin_end": 98.72534332084894,
            "count": 1
           }
          ]
         }
        },
        {
         "name": "defense",
         "dtype": "float64",
         "stats": {
          "unique_count": 3,
          "nan_count": 0,
          "min": "30.76915945444535",
          "max": "73.00873907615481",
          "histogram": [
           {
            "bin_start": 30.76915945444535,
            "bin_end": 34.9931174166163,
            "count": 1
           },
           {
            "bin_start": 34.9931174166163,
            "bin_end": 39.21707537878724,
            "count": 0
           },
           {
            "bin_start": 39.21707537878724,
            "bin_end": 43.441033340958185,
            "count": 0
           },
           {
            "bin_start": 43.441033340958185,
            "bin_end": 47.664991303129135,
            "count": 0
           },
           {
            "bin_start": 47.664991303129135,
            "bin_end": 51.888949265300084,
            "count": 0
           },
           {
            "bin_start": 51.888949265300084,
            "bin_end": 56.11290722747103,
            "count": 0
           },
           {
            "bin_start": 56.11290722747103,
            "bin_end": 60.33686518964197,
            "count": 0
           },
           {
            "bin_start": 60.33686518964197,
            "bin_end": 64.56082315181291,
            "count": 0
           },
           {
            "bin_start": 64.56082315181291,
            "bin_end": 68.78478111398385,
            "count": 0
           },
           {
            "bin_start": 68.78478111398385,
            "bin_end": 73.00873907615481,
            "count": 2
           }
          ]
         }
        },
        {
         "name": "experience_growth",
         "dtype": "float64",
         "stats": {
          "unique_count": 3,
          "nan_count": 0,
          "min": "160255.83509567127",
          "max": "1054995.9051186019",
          "histogram": [
           {
            "bin_start": 160255.83509567127,
            "bin_end": 249729.8420979643,
            "count": 1
           },
           {
            "bin_start": 249729.8420979643,
            "bin_end": 339203.8491002574,
            "count": 0
           },
           {
            "bin_start": 339203.8491002574,
            "bin_end": 428677.8561025504,
            "count": 0
           },
           {
            "bin_start": 428677.8561025504,
            "bin_end": 518151.86310484353,
            "count": 0
           },
           {
            "bin_start": 518151.86310484353,
            "bin_end": 607625.8701071366,
            "count": 0
           },
           {
            "bin_start": 607625.8701071366,
            "bin_end": 697099.8771094296,
            "count": 0
           },
           {
            "bin_start": 697099.8771094296,
            "bin_end": 786573.8841117227,
            "count": 0
           },
           {
            "bin_start": 786573.8841117227,
            "bin_end": 876047.8911140157,
            "count": 0
           },
           {
            "bin_start": 876047.8911140157,
            "bin_end": 965521.8981163087,
            "count": 0
           },
           {
            "bin_start": 965521.8981163087,
            "bin_end": 1054995.9051186019,
            "count": 2
           }
          ]
         }
        },
        {
         "name": "height_m",
         "dtype": "float64",
         "stats": {
          "unique_count": 3,
          "nan_count": 0,
          "min": "1.0",
          "max": "1.1638924455825865",
          "histogram": [
           {
            "bin_start": 1,
            "bin_end": 1.0163892445582587,
            "count": 1
           },
           {
            "bin_start": 1.0163892445582587,
            "bin_end": 1.0327784891165173,
            "count": 0
           },
           {
            "bin_start": 1.0327784891165173,
            "bin_end": 1.049167733674776,
            "count": 0
           },
           {
            "bin_start": 1.049167733674776,
            "bin_end": 1.0655569782330345,
            "count": 0
           },
           {
            "bin_start": 1.0655569782330345,
            "bin_end": 1.0819462227912933,
            "count": 1
           },
           {
            "bin_start": 1.0819462227912933,
            "bin_end": 1.098335467349552,
            "count": 0
           },
           {
            "bin_start": 1.098335467349552,
            "bin_end": 1.1147247119078105,
            "count": 0
           },
           {
            "bin_start": 1.1147247119078105,
            "bin_end": 1.1311139564660693,
            "count": 0
           },
           {
            "bin_start": 1.1311139564660693,
            "bin_end": 1.1475032010243278,
            "count": 0
           },
           {
            "bin_start": 1.1475032010243278,
            "bin_end": 1.1638924455825865,
            "count": 1
           }
          ]
         }
        },
        {
         "name": "hp",
         "dtype": "float64",
         "stats": {
          "unique_count": 3,
          "nan_count": 0,
          "min": "26.576014572576486",
          "max": "68.95880149812734",
          "histogram": [
           {
            "bin_start": 26.576014572576486,
            "bin_end": 30.814293265131575,
            "count": 1
           },
           {
            "bin_start": 30.814293265131575,
            "bin_end": 35.05257195768666,
            "count": 0
           },
           {
            "bin_start": 35.05257195768666,
            "bin_end": 39.290850650241744,
            "count": 0
           },
           {
            "bin_start": 39.290850650241744,
            "bin_end": 43.529129342796836,
            "count": 0
           },
           {
            "bin_start": 43.529129342796836,
            "bin_end": 47.76740803535192,
            "count": 0
           },
           {
            "bin_start": 47.76740803535192,
            "bin_end": 52.005686727907005,
            "count": 0
           },
           {
            "bin_start": 52.005686727907005,
            "bin_end": 56.24396542046209,
            "count": 0
           },
           {
            "bin_start": 56.24396542046209,
            "bin_end": 60.482244113017174,
            "count": 0
           },
           {
            "bin_start": 60.482244113017174,
            "bin_end": 64.72052280557226,
            "count": 0
           },
           {
            "bin_start": 64.72052280557226,
            "bin_end": 68.95880149812734,
            "count": 2
           }
          ]
         }
        },
        {
         "name": "percentage_male",
         "dtype": "float64",
         "stats": {
          "unique_count": 3,
          "nan_count": 0,
          "min": "20.26162267725512",
          "max": "55.15576102418208",
          "histogram": [
           {
            "bin_start": 20.26162267725512,
            "bin_end": 23.751036511947813,
            "count": 1
           },
           {
            "bin_start": 23.751036511947813,
            "bin_end": 27.24045034664051,
            "count": 0
           },
           {
            "bin_start": 27.24045034664051,
            "bin_end": 30.729864181333205,
            "count": 0
           },
           {
            "bin_start": 30.729864181333205,
            "bin_end": 34.2192780160259,
            "count": 0
           },
           {
            "bin_start": 34.2192780160259,
            "bin_end": 37.708691850718594,
            "count": 0
           },
           {
            "bin_start": 37.708691850718594,
            "bin_end": 41.19810568541129,
            "count": 0
           },
           {
            "bin_start": 41.19810568541129,
            "bin_end": 44.68751952010399,
            "count": 0
           },
           {
            "bin_start": 44.68751952010399,
            "bin_end": 48.17693335479669,
            "count": 0
           },
           {
            "bin_start": 48.17693335479669,
            "bin_end": 51.66634718948938,
            "count": 1
           },
           {
            "bin_start": 51.66634718948938,
            "bin_end": 55.15576102418208,
            "count": 1
           }
          ]
         }
        },
        {
         "name": "pokedex_number",
         "dtype": "float64",
         "stats": {
          "unique_count": 2,
          "nan_count": 0,
          "min": "231.3730753566629",
          "max": "401.0",
          "histogram": [
           {
            "bin_start": 231.3730753566629,
            "bin_end": 248.3357678209966,
            "count": 1
           },
           {
            "bin_start": 248.3357678209966,
            "bin_end": 265.2984602853303,
            "count": 0
           },
           {
            "bin_start": 265.2984602853303,
            "bin_end": 282.261152749664,
            "count": 0
           },
           {
            "bin_start": 282.261152749664,
            "bin_end": 299.2238452139977,
            "count": 0
           },
           {
            "bin_start": 299.2238452139977,
            "bin_end": 316.18653767833143,
            "count": 0
           },
           {
            "bin_start": 316.18653767833143,
            "bin_end": 333.14923014266515,
            "count": 0
           },
           {
            "bin_start": 333.14923014266515,
            "bin_end": 350.11192260699886,
            "count": 0
           },
           {
            "bin_start": 350.11192260699886,
            "bin_end": 367.0746150713326,
            "count": 0
           },
           {
            "bin_start": 367.0746150713326,
            "bin_end": 384.0373075356663,
            "count": 0
           },
           {
            "bin_start": 384.0373075356663,
            "bin_end": 401,
            "count": 2
           }
          ]
         }
        },
        {
         "name": "sp_attack",
         "dtype": "float64",
         "stats": {
          "unique_count": 3,
          "nan_count": 0,
          "min": "32.35382632746034",
          "max": "71.30586766541823",
          "histogram": [
           {
            "bin_start": 32.35382632746034,
            "bin_end": 36.249030461256126,
            "count": 1
           },
           {
            "bin_start": 36.249030461256126,
            "bin_end": 40.14423459505192,
            "count": 0
           },
           {
            "bin_start": 40.14423459505192,
            "bin_end": 44.039438728847706,
            "count": 0
           },
           {
            "bin_start": 44.039438728847706,
            "bin_end": 47.9346428626435,
            "count": 0
           },
           {
            "bin_start": 47.9346428626435,
            "bin_end": 51.82984699643929,
            "count": 0
           },
           {
            "bin_start": 51.82984699643929,
            "bin_end": 55.72505113023507,
            "count": 0
           },
           {
            "bin_start": 55.72505113023507,
            "bin_end": 59.62025526403086,
            "count": 0
           },
           {
            "bin_start": 59.62025526403086,
            "bin_end": 63.51545939782665,
            "count": 0
           },
           {
            "bin_start": 63.51545939782665,
            "bin_end": 67.41066353162245,
            "count": 1
           },
           {
            "bin_start": 67.41066353162245,
            "bin_end": 71.30586766541823,
            "count": 1
           }
          ]
         }
        },
        {
         "name": "sp_defense",
         "dtype": "float64",
         "stats": {
          "unique_count": 3,
          "nan_count": 0,
          "min": "27.942501378203627",
          "max": "70.91136079900124",
          "histogram": [
           {
            "bin_start": 27.942501378203627,
            "bin_end": 32.239387320283384,
            "count": 1
           },
           {
            "bin_start": 32.239387320283384,
            "bin_end": 36.53627326236315,
            "count": 0
           },
           {
            "bin_start": 36.53627326236315,
            "bin_end": 40.83315920444291,
            "count": 0
           },
           {
            "bin_start": 40.83315920444291,
            "bin_end": 45.130045146522676,
            "count": 0
           },
           {
            "bin_start": 45.130045146522676,
            "bin_end": 49.42693108860243,
            "count": 0
           },
           {
            "bin_start": 49.42693108860243,
            "bin_end": 53.7238170306822,
            "count": 0
           },
           {
            "bin_start": 53.7238170306822,
            "bin_end": 58.02070297276195,
            "count": 0
           },
           {
            "bin_start": 58.02070297276195,
            "bin_end": 62.31758891484172,
            "count": 0
           },
           {
            "bin_start": 62.31758891484172,
            "bin_end": 66.61447485692148,
            "count": 1
           },
           {
            "bin_start": 66.61447485692148,
            "bin_end": 70.91136079900124,
            "count": 1
           }
          ]
         }
        },
        {
         "name": "speed",
         "dtype": "float64",
         "stats": {
          "unique_count": 3,
          "nan_count": 0,
          "min": "28.907661875463354",
          "max": "66.33458177278402",
          "histogram": [
           {
            "bin_start": 28.907661875463354,
            "bin_end": 32.65035386519542,
            "count": 1
           },
           {
            "bin_start": 32.65035386519542,
            "bin_end": 36.393045854927486,
            "count": 0
           },
           {
            "bin_start": 36.393045854927486,
            "bin_end": 40.13573784465956,
            "count": 0
           },
           {
            "bin_start": 40.13573784465956,
            "bin_end": 43.878429834391625,
            "count": 0
           },
           {
            "bin_start": 43.878429834391625,
            "bin_end": 47.62112182412369,
            "count": 0
           },
           {
            "bin_start": 47.62112182412369,
            "bin_end": 51.36381381385576,
            "count": 0
           },
           {
            "bin_start": 51.36381381385576,
            "bin_end": 55.10650580358782,
            "count": 0
           },
           {
            "bin_start": 55.10650580358782,
            "bin_end": 58.84919779331989,
            "count": 0
           },
           {
            "bin_start": 58.84919779331989,
            "bin_end": 62.591889783051954,
            "count": 0
           },
           {
            "bin_start": 62.591889783051954,
            "bin_end": 66.33458177278402,
            "count": 2
           }
          ]
         }
        },
        {
         "name": "weight_kg",
         "dtype": "float64",
         "stats": {
          "unique_count": 3,
          "nan_count": 0,
          "min": "27.3",
          "max": "109.35476585346377",
          "histogram": [
           {
            "bin_start": 27.3,
            "bin_end": 35.50547658534638,
            "count": 1
           },
           {
            "bin_start": 35.50547658534638,
            "bin_end": 43.71095317069276,
            "count": 0
           },
           {
            "bin_start": 43.71095317069276,
            "bin_end": 51.916429756039136,
            "count": 0
           },
           {
            "bin_start": 51.916429756039136,
            "bin_end": 60.12190634138551,
            "count": 0
           },
           {
            "bin_start": 60.12190634138551,
            "bin_end": 68.32738292673189,
            "count": 1
           },
           {
            "bin_start": 68.32738292673189,
            "bin_end": 76.53285951207828,
            "count": 0
           },
           {
            "bin_start": 76.53285951207828,
            "bin_end": 84.73833609742465,
            "count": 0
           },
           {
            "bin_start": 84.73833609742465,
            "bin_end": 92.94381268277102,
            "count": 0
           },
           {
            "bin_start": 92.94381268277102,
            "bin_end": 101.1492892681174,
            "count": 0
           },
           {
            "bin_start": 101.1492892681174,
            "bin_end": 109.35476585346377,
            "count": 1
           }
          ]
         }
        },
        {
         "name": "generation",
         "dtype": "float64",
         "stats": {
          "unique_count": 3,
          "nan_count": 0,
          "min": "1.9304196370300453",
          "max": "4.0",
          "histogram": [
           {
            "bin_start": 1.9304196370300453,
            "bin_end": 2.1373776733270407,
            "count": 1
           },
           {
            "bin_start": 2.1373776733270407,
            "bin_end": 2.344335709624036,
            "count": 0
           },
           {
            "bin_start": 2.344335709624036,
            "bin_end": 2.551293745921032,
            "count": 0
           },
           {
            "bin_start": 2.551293745921032,
            "bin_end": 2.7582517822180272,
            "count": 0
           },
           {
            "bin_start": 2.7582517822180272,
            "bin_end": 2.9652098185150226,
            "count": 0
           },
           {
            "bin_start": 2.9652098185150226,
            "bin_end": 3.172167854812018,
            "count": 0
           },
           {
            "bin_start": 3.172167854812018,
            "bin_end": 3.3791258911090134,
            "count": 0
           },
           {
            "bin_start": 3.3791258911090134,
            "bin_end": 3.5860839274060092,
            "count": 0
           },
           {
            "bin_start": 3.5860839274060092,
            "bin_end": 3.793041963703004,
            "count": 1
           },
           {
            "bin_start": 3.793041963703004,
            "bin_end": 4,
            "count": 1
           }
          ]
         }
        },
        {
         "name": "is_legendary",
         "dtype": "float64",
         "stats": {
          "unique_count": 3,
          "nan_count": 0,
          "min": "0.0",
          "max": "0.28258327686638557",
          "histogram": [
           {
            "bin_start": 0,
            "bin_end": 0.028258327686638558,
            "count": 1
           },
           {
            "bin_start": 0.028258327686638558,
            "bin_end": 0.056516655373277117,
            "count": 0
           },
           {
            "bin_start": 0.056516655373277117,
            "bin_end": 0.08477498305991568,
            "count": 0
           },
           {
            "bin_start": 0.08477498305991568,
            "bin_end": 0.11303331074655423,
            "count": 1
           },
           {
            "bin_start": 0.11303331074655423,
            "bin_end": 0.14129163843319278,
            "count": 0
           },
           {
            "bin_start": 0.14129163843319278,
            "bin_end": 0.16954996611983136,
            "count": 0
           },
           {
            "bin_start": 0.16954996611983136,
            "bin_end": 0.19780829380646991,
            "count": 0
           },
           {
            "bin_start": 0.19780829380646991,
            "bin_end": 0.22606662149310847,
            "count": 0
           },
           {
            "bin_start": 0.22606662149310847,
            "bin_end": 0.254324949179747,
            "count": 0
           },
           {
            "bin_start": 0.254324949179747,
            "bin_end": 0.28258327686638557,
            "count": 1
           }
          ]
         }
        },
        {
         "name": "_deepnote_index_column",
         "dtype": "object"
        }
       ],
       "rows_top": [
        {
         "against_bug": 0.9962546816479401,
         "against_dark": 1.057116104868914,
         "against_dragon": 0.968789013732834,
         "against_electric": 1.0739700374531835,
         "against_fairy": 1.068976279650437,
         "against_fight": 1.0655430711610487,
         "against_fire": 1.1354556803995006,
         "against_flying": 1.192883895131086,
         "against_ghost": 0.9850187265917603,
         "against_grass": 1.034019975031211,
         "against_ground": 1.0980024968789013,
         "against_ice": 1.2081772784019975,
         "against_normal": 0.8870162297128589,
         "against_poison": 0.9753433208489388,
         "against_psychic": 1.0053058676654183,
         "against_rock": 1.2503121098626717,
         "against_steel": 0.983458177278402,
         "against_water": 1.0583645443196006,
         "attack": 77.85767790262172,
         "base_egg_steps": 7191.011235955056,
         "base_happiness": 65.36204744069913,
         "base_total": 428.3770287141074,
         "capture_rate": 98.72534332084894,
         "defense": 73.00873907615481,
         "experience_growth": 1054995.9051186019,
         "height_m": 1.1638924455825865,
         "hp": 68.95880149812734,
         "percentage_male": 55.15576102418208,
         "pokedex_number": 401,
         "sp_attack": 71.30586766541823,
         "sp_defense": 70.91136079900124,
         "speed": 66.33458177278402,
         "weight_kg": 61.378104993597944,
         "generation": 3.690387016229713,
         "is_legendary": 0.08739076154806492,
         "_deepnote_index_column": "mean"
        },
        {
         "against_bug": 1,
         "against_dark": 1,
         "against_dragon": 1,
         "against_electric": 1,
         "against_fairy": 1,
         "against_fight": 1,
         "against_fire": 1,
         "against_flying": 1,
         "against_ghost": 1,
         "against_grass": 1,
         "against_ground": 1,
         "against_ice": 1,
         "against_normal": 1,
         "against_poison": 1,
         "against_psychic": 1,
         "against_rock": 1,
         "against_steel": 1,
         "against_water": 1,
         "attack": 75,
         "base_egg_steps": 5120,
         "base_happiness": 70,
         "base_total": 435,
         "capture_rate": 60,
         "defense": 70,
         "experience_growth": 1000000,
         "height_m": 1,
         "hp": 65,
         "percentage_male": 50,
         "pokedex_number": 401,
         "sp_attack": 65,
         "sp_defense": 66,
         "speed": 65,
         "weight_kg": 27.3,
         "generation": 4,
         "is_legendary": 0,
         "_deepnote_index_column": "50%"
        },
        {
         "against_bug": 0.5972476078279257,
         "against_dark": 0.43814158414011445,
         "against_dragon": 0.3530575826676876,
         "against_electric": 0.6549616165097948,
         "against_fairy": 0.522166832235294,
         "against_fight": 0.7172508180232743,
         "against_fire": 0.6918526384612678,
         "against_flying": 0.6044878392100282,
         "against_ghost": 0.5582564651653185,
         "against_grass": 0.7888959497934436,
         "against_ground": 0.7388181474447942,
         "against_ice": 0.7353561542090226,
         "against_normal": 0.2661061085098709,
         "against_poison": 0.5493752481077557,
         "against_psychic": 0.49518298393424975,
         "against_rock": 0.6971481388239288,
         "against_steel": 0.5001166374568772,
         "against_water": 0.6065619893640908,
         "attack": 32.1588202380175,
         "base_egg_steps": 6558.220421815937,
         "base_happiness": 19.59894787489233,
         "base_total": 119.20357658921323,
         "capture_rate": 76.21692377296024,
         "defense": 30.76915945444535,
         "experience_growth": 160255.83509567127,
         "height_m": 1.080326260646689,
         "hp": 26.576014572576486,
         "percentage_male": 20.26162267725512,
         "pokedex_number": 231.3730753566629,
         "sp_attack": 32.35382632746034,
         "sp_defense": 27.942501378203627,
         "speed": 28.907661875463354,
         "weight_kg": 109.35476585346377,
         "generation": 1.9304196370300453,
         "is_legendary": 0.28258327686638557,
         "_deepnote_index_column": "std"
        }
       ],
       "rows_bottom": null
      },
      "text/plain": "      against_bug  against_dark  against_dragon  against_electric  \\\nmean     0.996255      1.057116        0.968789          1.073970   \n50%      1.000000      1.000000        1.000000          1.000000   \nstd      0.597248      0.438142        0.353058          0.654962   \n\n      against_fairy  against_fight  against_fire  against_flying  \\\nmean       1.068976       1.065543      1.135456        1.192884   \n50%        1.000000       1.000000      1.000000        1.000000   \nstd        0.522167       0.717251      0.691853        0.604488   \n\n      against_ghost  against_grass  ...  height_m         hp  percentage_male  \\\nmean       0.985019       1.034020  ...  1.163892  68.958801        55.155761   \n50%        1.000000       1.000000  ...  1.000000  65.000000        50.000000   \nstd        0.558256       0.788896  ...  1.080326  26.576015        20.261623   \n\n      pokedex_number  sp_attack  sp_defense      speed   weight_kg  \\\nmean      401.000000  71.305868   70.911361  66.334582   61.378105   \n50%       401.000000  65.000000   66.000000  65.000000   27.300000   \nstd       231.373075  32.353826   27.942501  28.907662  109.354766   \n\n      generation  is_legendary  \nmean    3.690387      0.087391  \n50%     4.000000      0.000000  \nstd     1.930420      0.282583  \n\n[3 rows x 35 columns]",
      "text/html": "<div>\n<style scoped>\n    .dataframe tbody tr th:only-of-type {\n        vertical-align: middle;\n    }\n\n    .dataframe tbody tr th {\n        vertical-align: top;\n    }\n\n    .dataframe thead th {\n        text-align: right;\n    }\n</style>\n<table border=\"1\" class=\"dataframe\">\n  <thead>\n    <tr style=\"text-align: right;\">\n      <th></th>\n      <th>against_bug</th>\n      <th>against_dark</th>\n      <th>against_dragon</th>\n      <th>against_electric</th>\n      <th>against_fairy</th>\n      <th>against_fight</th>\n      <th>against_fire</th>\n      <th>against_flying</th>\n      <th>against_ghost</th>\n      <th>against_grass</th>\n      <th>...</th>\n      <th>height_m</th>\n      <th>hp</th>\n      <th>percentage_male</th>\n      <th>pokedex_number</th>\n      <th>sp_attack</th>\n      <th>sp_defense</th>\n      <th>speed</th>\n      <th>weight_kg</th>\n      <th>generation</th>\n      <th>is_legendary</th>\n    </tr>\n  </thead>\n  <tbody>\n    <tr>\n      <th>mean</th>\n      <td>0.996255</td>\n      <td>1.057116</td>\n      <td>0.968789</td>\n      <td>1.073970</td>\n      <td>1.068976</td>\n      <td>1.065543</td>\n      <td>1.135456</td>\n      <td>1.192884</td>\n      <td>0.985019</td>\n      <td>1.034020</td>\n      <td>...</td>\n      <td>1.163892</td>\n      <td>68.958801</td>\n      <td>55.155761</td>\n      <td>401.000000</td>\n      <td>71.305868</td>\n      <td>70.911361</td>\n      <td>66.334582</td>\n      <td>61.378105</td>\n      <td>3.690387</td>\n      <td>0.087391</td>\n    </tr>\n    <tr>\n      <th>50%</th>\n      <td>1.000000</td>\n      <td>1.000000</td>\n      <td>1.000000</td>\n      <td>1.000000</td>\n      <td>1.000000</td>\n      <td>1.000000</td>\n      <td>1.000000</td>\n      <td>1.000000</td>\n      <td>1.000000</td>\n      <td>1.000000</td>\n      <td>...</td>\n      <td>1.000000</td>\n      <td>65.000000</td>\n      <td>50.000000</td>\n      <td>401.000000</td>\n      <td>65.000000</td>\n      <td>66.000000</td>\n      <td>65.000000</td>\n      <td>27.300000</td>\n      <td>4.000000</td>\n      <td>0.000000</td>\n    </tr>\n    <tr>\n      <th>std</th>\n      <td>0.597248</td>\n      <td>0.438142</td>\n      <td>0.353058</td>\n      <td>0.654962</td>\n      <td>0.522167</td>\n      <td>0.717251</td>\n      <td>0.691853</td>\n      <td>0.604488</td>\n      <td>0.558256</td>\n      <td>0.788896</td>\n      <td>...</td>\n      <td>1.080326</td>\n      <td>26.576015</td>\n      <td>20.261623</td>\n      <td>231.373075</td>\n      <td>32.353826</td>\n      <td>27.942501</td>\n      <td>28.907662</td>\n      <td>109.354766</td>\n      <td>1.930420</td>\n      <td>0.282583</td>\n    </tr>\n  </tbody>\n</table>\n<p>3 rows × 35 columns</p>\n</div>"
     },
     "metadata": {}
    }
   ]
  },
  {
   "cell_type": "code",
   "metadata": {
    "tags": [],
    "cell_id": "00021-91758fc3-ed9f-436a-af2c-852ed34de82e",
    "deepnote_to_be_reexecuted": false,
    "source_hash": "ff1543b5",
    "execution_start": 1638638871277,
    "execution_millis": 85,
    "deepnote_cell_type": "code"
   },
   "source": "# Gaussian if (mediana y media similar y desv.std entre el 20 y 30% de la media)\ndesc = df.describe().loc[['mean', '50%', 'std']]",
   "execution_count": 16,
   "outputs": []
  },
  {
   "cell_type": "code",
   "metadata": {
    "tags": [],
    "cell_id": "00015-2299bebf-2d68-4226-b1ad-2338bd9a8e8a",
    "deepnote_to_be_reexecuted": false,
    "source_hash": "646338ea",
    "execution_start": 1638638871409,
    "execution_millis": 1,
    "deepnote_cell_type": "code"
   },
   "source": "#atributs que no es poden normalitzar: generation, is_legendary, els que són objectes",
   "execution_count": 17,
   "outputs": []
  },
  {
   "cell_type": "markdown",
   "source": "**Com codifiqueu les dades categòriques? (OrdinalEncoder, OneHotEncoder)**",
   "metadata": {
    "tags": [],
    "cell_id": "00023-bfe8ef59-4b22-400e-b02d-5241ba7ae987",
    "deepnote_cell_type": "markdown"
   },
   "outputs": [],
   "execution_count": null
  },
  {
   "cell_type": "code",
   "metadata": {
    "tags": [],
    "cell_id": "00017-8492a968-15c7-4fec-8a5e-86c1e97bc2eb",
    "deepnote_to_be_reexecuted": false,
    "source_hash": "132dc4c8",
    "execution_start": 1638638871410,
    "execution_millis": 246,
    "deepnote_output_heights": [
     21.1875
    ],
    "deepnote_cell_type": "code"
   },
   "source": "df_2 = df.copy(deep=True)\ndf_2['abilities'] = df['abilities'].apply(ast.literal_eval)\ndf_2[df_2['abilities'].explode().unique()] = 0\n\nfor idx, row in df_2.iterrows():\n    for cat in row['abilities']:\n        df_2.at[idx, cat] = 1\n\ndf_2.drop(columns='abilities', inplace=True)\ndf_2 = pd.get_dummies(df_2, columns=['classfication', 'type1', 'type2'], prefix=['', '1', '2'], prefix_sep='')\ndf_2.drop(columns=['name', 'japanese_name'], inplace=True)",
   "execution_count": 18,
   "outputs": []
  },
  {
   "cell_type": "markdown",
   "source": "**Quin tipus de normalització serà més adient per les vostres dades?**",
   "metadata": {
    "tags": [],
    "cell_id": "00021-a8c8467a-d926-40e0-85c7-0a0b89868511",
    "deepnote_cell_type": "markdown"
   },
   "outputs": [],
   "execution_count": null
  },
  {
   "cell_type": "code",
   "metadata": {
    "tags": [],
    "cell_id": "00024-a921504a-6747-4688-bfc4-5033b664992e",
    "deepnote_to_be_reexecuted": false,
    "source_hash": "f0eae761",
    "execution_start": 1638638871674,
    "execution_millis": 31,
    "deepnote_output_heights": [
     21.1875
    ],
    "deepnote_cell_type": "code"
   },
   "source": "cols = df_2.columns\nscaler = MinMaxScaler()\ndf_3=scaler.fit_transform(df_2) #dataset escalat\ndf_3 = pd.DataFrame(df_3,\ncolumns=cols)",
   "execution_count": 19,
   "outputs": []
  },
  {
   "cell_type": "code",
   "source": "corr = df_3.corr().abs()[TARGET].sort_values(ascending=False)\ncorr = corr[corr > FILTER_RATE]\n#corr\ndf_4=df_3[corr.index]\ndf_4 #dataset amb atributs filtrats per correlacio\n# corr.index\n# df_4.columns[df_4.columns.duplicated()]\n# corr.index.unique()\n",
   "metadata": {
    "tags": [],
    "cell_id": "00032-c2e248bc-f83c-4f96-888d-e7f754fe158d",
    "deepnote_to_be_reexecuted": false,
    "source_hash": "d97395a6",
    "execution_start": 1638639539499,
    "execution_millis": 2251,
    "deepnote_output_heights": [
     155.578125
    ],
    "deepnote_cell_type": "code"
   },
   "outputs": [
    {
     "output_type": "execute_result",
     "execution_count": 40,
     "data": {
      "application/vnd.deepnote.dataframe.v2+json": {
       "row_count": 801,
       "column_count": 105,
       "columns": [
        {
         "name": "is_legendary",
         "dtype": "float64",
         "stats": {
          "unique_count": 2,
          "nan_count": 0,
          "min": "0.0",
          "max": "1.0",
          "histogram": [
           {
            "bin_start": 0,
            "bin_end": 0.1,
            "count": 731
           },
           {
            "bin_start": 0.1,
            "bin_end": 0.2,
            "count": 0
           },
           {
            "bin_start": 0.2,
            "bin_end": 0.30000000000000004,
            "count": 0
           },
           {
            "bin_start": 0.30000000000000004,
            "bin_end": 0.4,
            "count": 0
           },
           {
            "bin_start": 0.4,
            "bin_end": 0.5,
            "count": 0
           },
           {
            "bin_start": 0.5,
            "bin_end": 0.6000000000000001,
            "count": 0
           },
           {
            "bin_start": 0.6000000000000001,
            "bin_end": 0.7000000000000001,
            "count": 0
           },
           {
            "bin_start": 0.7000000000000001,
            "bin_end": 0.8,
            "count": 0
           },
           {
            "bin_start": 0.8,
            "bin_end": 0.9,
            "count": 0
           },
           {
            "bin_start": 0.9,
            "bin_end": 1,
            "count": 70
           }
          ]
         }
        },
        {
         "name": "base_egg_steps",
         "dtype": "float64",
         "stats": {
          "unique_count": 10,
          "nan_count": 0,
          "min": "0.0",
          "max": "1.0",
          "histogram": [
           {
            "bin_start": 0,
            "bin_end": 0.1,
            "count": 164
           },
           {
            "bin_start": 0.1,
            "bin_end": 0.2,
            "count": 491
           },
           {
            "bin_start": 0.2,
            "bin_end": 0.30000000000000004,
            "count": 39
           },
           {
            "bin_start": 0.30000000000000004,
            "bin_end": 0.4,
            "count": 42
           },
           {
            "bin_start": 0.4,
            "bin_end": 0.5,
            "count": 0
           },
           {
            "bin_start": 0.5,
            "bin_end": 0.6000000000000001,
            "count": 0
           },
           {
            "bin_start": 0.6000000000000001,
            "bin_end": 0.7000000000000001,
            "count": 16
           },
           {
            "bin_start": 0.7000000000000001,
            "bin_end": 0.8,
            "count": 0
           },
           {
            "bin_start": 0.8,
            "bin_end": 0.9,
            "count": 0
           },
           {
            "bin_start": 0.9,
            "bin_end": 1,
            "count": 49
           }
          ]
         }
        },
        {
         "name": "base_total",
         "dtype": "float64",
         "stats": {
          "unique_count": 203,
          "nan_count": 0,
          "min": "0.0",
          "max": "1.0",
          "histogram": [
           {
            "bin_start": 0,
            "bin_end": 0.1,
            "count": 34
           },
           {
            "bin_start": 0.1,
            "bin_end": 0.2,
            "count": 99
           },
           {
            "bin_start": 0.2,
            "bin_end": 0.30000000000000004,
            "count": 141
           },
           {
            "bin_start": 0.30000000000000004,
            "bin_end": 0.4,
            "count": 94
           },
           {
            "bin_start": 0.4,
            "bin_end": 0.5,
            "count": 118
           },
           {
            "bin_start": 0.5,
            "bin_end": 0.6000000000000001,
            "count": 196
           },
           {
            "bin_start": 0.6000000000000001,
            "bin_end": 0.7000000000000001,
            "count": 75
           },
           {
            "bin_start": 0.7000000000000001,
            "bin_end": 0.8,
            "count": 16
           },
           {
            "bin_start": 0.8,
            "bin_end": 0.9,
            "count": 23
           },
           {
            "bin_start": 0.9,
            "bin_end": 1,
            "count": 5
           }
          ]
         }
        },
        {
         "name": "base_happiness",
         "dtype": "float64",
         "stats": {
          "unique_count": 6,
          "nan_count": 0,
          "min": "0.0",
          "max": "1.0",
          "histogram": [
           {
            "bin_start": 0,
            "bin_end": 0.1,
            "count": 36
           },
           {
            "bin_start": 0.1,
            "bin_end": 0.2,
            "count": 0
           },
           {
            "bin_start": 0.2,
            "bin_end": 0.30000000000000004,
            "count": 69
           },
           {
            "bin_start": 0.30000000000000004,
            "bin_end": 0.4,
            "count": 0
           },
           {
            "bin_start": 0.4,
            "bin_end": 0.5,
            "count": 0
           },
           {
            "bin_start": 0.5,
            "bin_end": 0.6000000000000001,
            "count": 667
           },
           {
            "bin_start": 0.6000000000000001,
            "bin_end": 0.7000000000000001,
            "count": 5
           },
           {
            "bin_start": 0.7000000000000001,
            "bin_end": 0.8,
            "count": 14
           },
           {
            "bin_start": 0.8,
            "bin_end": 0.9,
            "count": 0
           },
           {
            "bin_start": 0.9,
            "bin_end": 1,
            "count": 10
           }
          ]
         }
        },
        {
         "name": "sp_attack",
         "dtype": "float64",
         "stats": {
          "unique_count": 111,
          "nan_count": 0,
          "min": "0.0",
          "max": "1.0",
          "histogram": [
           {
            "bin_start": 0,
            "bin_end": 0.1,
            "count": 33
           },
           {
            "bin_start": 0.1,
            "bin_end": 0.2,
            "count": 171
           },
           {
            "bin_start": 0.2,
            "bin_end": 0.30000000000000004,
            "count": 219
           },
           {
            "bin_start": 0.30000000000000004,
            "bin_end": 0.4,
            "count": 120
           },
           {
            "bin_start": 0.4,
            "bin_end": 0.5,
            "count": 131
           },
           {
            "bin_start": 0.5,
            "bin_end": 0.6000000000000001,
            "count": 61
           },
           {
            "bin_start": 0.6000000000000001,
            "bin_end": 0.7000000000000001,
            "count": 37
           },
           {
            "bin_start": 0.7000000000000001,
            "bin_end": 0.8,
            "count": 16
           },
           {
            "bin_start": 0.8,
            "bin_end": 0.9,
            "count": 10
           },
           {
            "bin_start": 0.9,
            "bin_end": 1,
            "count": 3
           }
          ]
         }
        },
        {
         "name": "weight_kg",
         "dtype": "float64",
         "stats": {
          "unique_count": 421,
          "nan_count": 20,
          "min": "0.0",
          "max": "1.0",
          "histogram": [
           {
            "bin_start": 0,
            "bin_end": 0.1,
            "count": 662
           },
           {
            "bin_start": 0.1,
            "bin_end": 0.2,
            "count": 62
           },
           {
            "bin_start": 0.2,
            "bin_end": 0.30000000000000004,
            "count": 32
           },
           {
            "bin_start": 0.30000000000000004,
            "bin_end": 0.4,
            "count": 13
           },
           {
            "bin_start": 0.4,
            "bin_end": 0.5,
            "count": 3
           },
           {
            "bin_start": 0.5,
            "bin_end": 0.6000000000000001,
            "count": 2
           },
           {
            "bin_start": 0.6000000000000001,
            "bin_end": 0.7000000000000001,
            "count": 1
           },
           {
            "bin_start": 0.7000000000000001,
            "bin_end": 0.8,
            "count": 1
           },
           {
            "bin_start": 0.8,
            "bin_end": 0.9,
            "count": 1
           },
           {
            "bin_start": 0.9,
            "bin_end": 1,
            "count": 4
           }
          ]
         }
        },
        {
         "name": "experience_growth",
         "dtype": "float64",
         "stats": {
          "unique_count": 6,
          "nan_count": 0,
          "min": "0.0",
          "max": "1.0",
          "histogram": [
           {
            "bin_start": 0,
            "bin_end": 0.1,
            "count": 22
           },
           {
            "bin_start": 0.1,
            "bin_end": 0.2,
            "count": 56
           },
           {
            "bin_start": 0.2,
            "bin_end": 0.30000000000000004,
            "count": 0
           },
           {
            "bin_start": 0.30000000000000004,
            "bin_end": 0.4,
            "count": 335
           },
           {
            "bin_start": 0.4,
            "bin_end": 0.5,
            "count": 202
           },
           {
            "bin_start": 0.5,
            "bin_end": 0.6000000000000001,
            "count": 0
           },
           {
            "bin_start": 0.6000000000000001,
            "bin_end": 0.7000000000000001,
            "count": 172
           },
           {
            "bin_start": 0.7000000000000001,
            "bin_end": 0.8,
            "count": 0
           },
           {
            "bin_start": 0.8,
            "bin_end": 0.9,
            "count": 0
           },
           {
            "bin_start": 0.9,
            "bin_end": 1,
            "count": 14
           }
          ]
         }
        },
        {
         "name": "sp_defense",
         "dtype": "float64",
         "stats": {
          "unique_count": 97,
          "nan_count": 0,
          "min": "0.0",
          "max": "1.0",
          "histogram": [
           {
            "bin_start": 0,
            "bin_end": 0.1,
            "count": 107
           },
           {
            "bin_start": 0.1,
            "bin_end": 0.2,
            "count": 238
           },
           {
            "bin_start": 0.2,
            "bin_end": 0.30000000000000004,
            "count": 212
           },
           {
            "bin_start": 0.30000000000000004,
            "bin_end": 0.4,
            "count": 143
           },
           {
            "bin_start": 0.4,
            "bin_end": 0.5,
            "count": 65
           },
           {
            "bin_start": 0.5,
            "bin_end": 0.6000000000000001,
            "count": 25
           },
           {
            "bin_start": 0.6000000000000001,
            "bin_end": 0.7000000000000001,
            "count": 9
           },
           {
            "bin_start": 0.7000000000000001,
            "bin_end": 0.8,
            "count": 0
           },
           {
            "bin_start": 0.8,
            "bin_end": 0.9,
            "count": 1
           },
           {
            "bin_start": 0.9,
            "bin_end": 1,
            "count": 1
           }
          ]
         }
        },
        {
         "name": "capture_rate",
         "dtype": "float64",
         "stats": {
          "unique_count": 33,
          "nan_count": 0,
          "min": "0.0",
          "max": "1.0",
          "histogram": [
           {
            "bin_start": 0,
            "bin_end": 0.1,
            "count": 73
           },
           {
            "bin_start": 0.1,
            "bin_end": 0.2,
            "count": 278
           },
           {
            "bin_start": 0.2,
            "bin_end": 0.30000000000000004,
            "count": 122
           },
           {
            "bin_start": 0.30000000000000004,
            "bin_end": 0.4,
            "count": 46
           },
           {
            "bin_start": 0.4,
            "bin_end": 0.5,
            "count": 63
           },
           {
            "bin_start": 0.5,
            "bin_end": 0.6000000000000001,
            "count": 16
           },
           {
            "bin_start": 0.6000000000000001,
            "bin_end": 0.7000000000000001,
            "count": 4
           },
           {
            "bin_start": 0.7000000000000001,
            "bin_end": 0.8,
            "count": 105
           },
           {
            "bin_start": 0.8,
            "bin_end": 0.9,
            "count": 18
           },
           {
            "bin_start": 0.9,
            "bin_end": 1,
            "count": 76
           }
          ]
         }
        },
        {
         "name": "height_m",
         "dtype": "float64",
         "stats": {
          "unique_count": 51,
          "nan_count": 20,
          "min": "0.0",
          "max": "1.0",
          "histogram": [
           {
            "bin_start": 0,
            "bin_end": 0.1,
            "count": 618
           },
           {
            "bin_start": 0.1,
            "bin_end": 0.2,
            "count": 133
           },
           {
            "bin_start": 0.2,
            "bin_end": 0.30000000000000004,
            "count": 16
           },
           {
            "bin_start": 0.30000000000000004,
            "bin_end": 0.4,
            "count": 7
           },
           {
            "bin_start": 0.4,
            "bin_end": 0.5,
            "count": 3
           },
           {
            "bin_start": 0.5,
            "bin_end": 0.6000000000000001,
            "count": 0
           },
           {
            "bin_start": 0.6000000000000001,
            "bin_end": 0.7000000000000001,
            "count": 3
           },
           {
            "bin_start": 0.7000000000000001,
            "bin_end": 0.8,
            "count": 0
           },
           {
            "bin_start": 0.8,
            "bin_end": 0.9,
            "count": 0
           },
           {
            "bin_start": 0.9,
            "bin_end": 1,
            "count": 1
           }
          ]
         }
        },
        {
         "name": "speed",
         "dtype": "float64",
         "stats": {
          "unique_count": 113,
          "nan_count": 0,
          "min": "0.0",
          "max": "0.9999999999999999",
          "histogram": [
           {
            "bin_start": 0,
            "bin_end": 0.09999999999999999,
            "count": 33
           },
           {
            "bin_start": 0.09999999999999999,
            "bin_end": 0.19999999999999998,
            "count": 106
           },
           {
            "bin_start": 0.19999999999999998,
            "bin_end": 0.3,
            "count": 190
           },
           {
            "bin_start": 0.3,
            "bin_end": 0.39999999999999997,
            "count": 174
           },
           {
            "bin_start": 0.39999999999999997,
            "bin_end": 0.49999999999999994,
            "count": 138
           },
           {
            "bin_start": 0.49999999999999994,
            "bin_end": 0.6,
            "count": 96
           },
           {
            "bin_start": 0.6,
            "bin_end": 0.7,
            "count": 46
           },
           {
            "bin_start": 0.7,
            "bin_end": 0.7999999999999999,
            "count": 9
           },
           {
            "bin_start": 0.7999999999999999,
            "bin_end": 0.8999999999999999,
            "count": 8
           },
           {
            "bin_start": 0.8999999999999999,
            "bin_end": 0.9999999999999999,
            "count": 1
           }
          ]
         }
        },
        {
         "name": "hp",
         "dtype": "float64",
         "stats": {
          "unique_count": 99,
          "nan_count": 0,
          "min": "0.0",
          "max": "1.0",
          "histogram": [
           {
            "bin_start": 0,
            "bin_end": 0.1,
            "count": 11
           },
           {
            "bin_start": 0.1,
            "bin_end": 0.2,
            "count": 208
           },
           {
            "bin_start": 0.2,
            "bin_end": 0.30000000000000004,
            "count": 339
           },
           {
            "bin_start": 0.30000000000000004,
            "bin_end": 0.4,
            "count": 181
           },
           {
            "bin_start": 0.4,
            "bin_end": 0.5,
            "count": 43
           },
           {
            "bin_start": 0.5,
            "bin_end": 0.6000000000000001,
            "count": 11
           },
           {
            "bin_start": 0.6000000000000001,
            "bin_end": 0.7000000000000001,
            "count": 3
           },
           {
            "bin_start": 0.7000000000000001,
            "bin_end": 0.8,
            "count": 1
           },
           {
            "bin_start": 0.8,
            "bin_end": 0.9,
            "count": 2
           },
           {
            "bin_start": 0.9,
            "bin_end": 1,
            "count": 2
           }
          ]
         }
        },
        {
         "name": "Beast Boost",
         "dtype": "float64",
         "stats": {
          "unique_count": 2,
          "nan_count": 0,
          "min": "0.0",
          "max": "1.0",
          "histogram": [
           {
            "bin_start": 0,
            "bin_end": 0.1,
            "count": 794
           },
           {
            "bin_start": 0.1,
            "bin_end": 0.2,
            "count": 0
           },
           {
            "bin_start": 0.2,
            "bin_end": 0.30000000000000004,
            "count": 0
           },
           {
            "bin_start": 0.30000000000000004,
            "bin_end": 0.4,
            "count": 0
           },
           {
            "bin_start": 0.4,
            "bin_end": 0.5,
            "count": 0
           },
           {
            "bin_start": 0.5,
            "bin_end": 0.6000000000000001,
            "count": 0
           },
           {
            "bin_start": 0.6000000000000001,
            "bin_end": 0.7000000000000001,
            "count": 0
           },
           {
            "bin_start": 0.7000000000000001,
            "bin_end": 0.8,
            "count": 0
           },
           {
            "bin_start": 0.8,
            "bin_end": 0.9,
            "count": 0
           },
           {
            "bin_start": 0.9,
            "bin_end": 1,
            "count": 7
           }
          ]
         }
        },
        {
         "name": "attack",
         "dtype": "float64",
         "stats": {
          "unique_count": 114,
          "nan_count": 0,
          "min": "0.0",
          "max": "1.0000000000000002",
          "histogram": [
           {
            "bin_start": 0,
            "bin_end": 0.10000000000000002,
            "count": 15
           },
           {
            "bin_start": 0.10000000000000002,
            "bin_end": 0.20000000000000004,
            "count": 80
           },
           {
            "bin_start": 0.20000000000000004,
            "bin_end": 0.30000000000000004,
            "count": 145
           },
           {
            "bin_start": 0.30000000000000004,
            "bin_end": 0.4000000000000001,
            "count": 191
           },
           {
            "bin_start": 0.4000000000000001,
            "bin_end": 0.5000000000000001,
            "count": 158
           },
           {
            "bin_start": 0.5000000000000001,
            "bin_end": 0.6000000000000001,
            "count": 96
           },
           {
            "bin_start": 0.6000000000000001,
            "bin_end": 0.7000000000000002,
            "count": 69
           },
           {
            "bin_start": 0.7000000000000002,
            "bin_end": 0.8000000000000002,
            "count": 23
           },
           {
            "bin_start": 0.8000000000000002,
            "bin_end": 0.9000000000000001,
            "count": 19
           },
           {
            "bin_start": 0.9000000000000001,
            "bin_end": 1.0000000000000002,
            "count": 5
           }
          ]
         }
        },
        {
         "name": "Pressure",
         "dtype": "float64",
         "stats": {
          "unique_count": 2,
          "nan_count": 0,
          "min": "0.0",
          "max": "1.0",
          "histogram": [
           {
            "bin_start": 0,
            "bin_end": 0.1,
            "count": 776
           },
           {
            "bin_start": 0.1,
            "bin_end": 0.2,
            "count": 0
           },
           {
            "bin_start": 0.2,
            "bin_end": 0.30000000000000004,
            "count": 0
           },
           {
            "bin_start": 0.30000000000000004,
            "bin_end": 0.4,
            "count": 0
           },
           {
            "bin_start": 0.4,
            "bin_end": 0.5,
            "count": 0
           },
           {
            "bin_start": 0.5,
            "bin_end": 0.6000000000000001,
            "count": 0
           },
           {
            "bin_start": 0.6000000000000001,
            "bin_end": 0.7000000000000001,
            "count": 0
           },
           {
            "bin_start": 0.7000000000000001,
            "bin_end": 0.8,
            "count": 0
           },
           {
            "bin_start": 0.8,
            "bin_end": 0.9,
            "count": 0
           },
           {
            "bin_start": 0.9,
            "bin_end": 1,
            "count": 25
           }
          ]
         }
        },
        {
         "name": "defense",
         "dtype": "float64",
         "stats": {
          "unique_count": 109,
          "nan_count": 0,
          "min": "0.0",
          "max": "0.9999999999999999",
          "histogram": [
           {
            "bin_start": 0,
            "bin_end": 0.09999999999999999,
            "count": 12
           },
           {
            "bin_start": 0.09999999999999999,
            "bin_end": 0.19999999999999998,
            "count": 159
           },
           {
            "bin_start": 0.19999999999999998,
            "bin_end": 0.3,
            "count": 284
           },
           {
            "bin_start": 0.3,
            "bin_end": 0.39999999999999997,
            "count": 165
           },
           {
            "bin_start": 0.39999999999999997,
            "bin_end": 0.49999999999999994,
            "count": 109
           },
           {
            "bin_start": 0.49999999999999994,
            "bin_end": 0.6,
            "count": 48
           },
           {
            "bin_start": 0.6,
            "bin_end": 0.7,
            "count": 16
           },
           {
            "bin_start": 0.7,
            "bin_end": 0.7999999999999999,
            "count": 4
           },
           {
            "bin_start": 0.7999999999999999,
            "bin_end": 0.8999999999999999,
            "count": 1
           },
           {
            "bin_start": 0.8999999999999999,
            "bin_end": 0.9999999999999999,
            "count": 3
           }
          ]
         }
        },
        {
         "name": "Land Spirit Pokémon",
         "dtype": "float64",
         "stats": {
          "unique_count": 2,
          "nan_count": 0,
          "min": "0.0",
          "max": "1.0",
          "histogram": [
           {
            "bin_start": 0,
            "bin_end": 0.1,
            "count": 797
           },
           {
            "bin_start": 0.1,
            "bin_end": 0.2,
            "count": 0
           },
           {
            "bin_start": 0.2,
            "bin_end": 0.30000000000000004,
            "count": 0
           },
           {
            "bin_start": 0.30000000000000004,
            "bin_end": 0.4,
            "count": 0
           },
           {
            "bin_start": 0.4,
            "bin_end": 0.5,
            "count": 0
           },
           {
            "bin_start": 0.5,
            "bin_end": 0.6000000000000001,
            "count": 0
           },
           {
            "bin_start": 0.6000000000000001,
            "bin_end": 0.7000000000000001,
            "count": 0
           },
           {
            "bin_start": 0.7000000000000001,
            "bin_end": 0.8,
            "count": 0
           },
           {
            "bin_start": 0.8,
            "bin_end": 0.9,
            "count": 0
           },
           {
            "bin_start": 0.9,
            "bin_end": 1,
            "count": 4
           }
          ]
         }
        },
        {
         "name": "1psychic",
         "dtype": "float64",
         "stats": {
          "unique_count": 2,
          "nan_count": 0,
          "min": "0.0",
          "max": "1.0",
          "histogram": [
           {
            "bin_start": 0,
            "bin_end": 0.1,
            "count": 748
           },
           {
            "bin_start": 0.1,
            "bin_end": 0.2,
            "count": 0
           },
           {
            "bin_start": 0.2,
            "bin_end": 0.30000000000000004,
            "count": 0
           },
           {
            "bin_start": 0.30000000000000004,
            "bin_end": 0.4,
            "count": 0
           },
           {
            "bin_start": 0.4,
            "bin_end": 0.5,
            "count": 0
           },
           {
            "bin_start": 0.5,
            "bin_end": 0.6000000000000001,
            "count": 0
           },
           {
            "bin_start": 0.6000000000000001,
            "bin_end": 0.7000000000000001,
            "count": 0
           },
           {
            "bin_start": 0.7000000000000001,
            "bin_end": 0.8,
            "count": 0
           },
           {
            "bin_start": 0.8,
            "bin_end": 0.9,
            "count": 0
           },
           {
            "bin_start": 0.9,
            "bin_end": 1,
            "count": 53
           }
          ]
         }
        },
        {
         "name": "pokedex_number",
         "dtype": "float64",
         "stats": {
          "unique_count": 801,
          "nan_count": 0,
          "min": "0.0",
          "max": "1.0",
          "histogram": [
           {
            "bin_start": 0,
            "bin_end": 0.1,
            "count": 80
           },
           {
            "bin_start": 0.1,
            "bin_end": 0.2,
            "count": 80
           },
           {
            "bin_start": 0.2,
            "bin_end": 0.30000000000000004,
            "count": 80
           },
           {
            "bin_start": 0.30000000000000004,
            "bin_end": 0.4,
            "count": 80
           },
           {
            "bin_start": 0.4,
            "bin_end": 0.5,
            "count": 80
           },
           {
            "bin_start": 0.5,
            "bin_end": 0.6000000000000001,
            "count": 80
           },
           {
            "bin_start": 0.6000000000000001,
            "bin_end": 0.7000000000000001,
            "count": 80
           },
           {
            "bin_start": 0.7000000000000001,
            "bin_end": 0.8,
            "count": 80
           },
           {
            "bin_start": 0.8,
            "bin_end": 0.9,
            "count": 80
           },
           {
            "bin_start": 0.9,
            "bin_end": 1,
            "count": 81
           }
          ]
         }
        },
        {
         "name": "against_ghost",
         "dtype": "float64",
         "stats": {
          "unique_count": 5,
          "nan_count": 0,
          "min": "0.0",
          "max": "1.0",
          "histogram": [
           {
            "bin_start": 0,
            "bin_end": 0.1,
            "count": 109
           },
           {
            "bin_start": 0.1,
            "bin_end": 0.2,
            "count": 42
           },
           {
            "bin_start": 0.2,
            "bin_end": 0.30000000000000004,
            "count": 536
           },
           {
            "bin_start": 0.30000000000000004,
            "bin_end": 0.4,
            "count": 0
           },
           {
            "bin_start": 0.4,
            "bin_end": 0.5,
            "count": 0
           },
           {
            "bin_start": 0.5,
            "bin_end": 0.6000000000000001,
            "count": 112
           },
           {
            "bin_start": 0.6000000000000001,
            "bin_end": 0.7000000000000001,
            "count": 0
           },
           {
            "bin_start": 0.7000000000000001,
            "bin_end": 0.8,
            "count": 0
           },
           {
            "bin_start": 0.8,
            "bin_end": 0.9,
            "count": 0
           },
           {
            "bin_start": 0.9,
            "bin_end": 1,
            "count": 2
           }
          ]
         }
        },
        {
         "name": "Eon Pokémon",
         "dtype": "float64",
         "stats": {
          "unique_count": 2,
          "nan_count": 0,
          "min": "0.0",
          "max": "1.0",
          "histogram": [
           {
            "bin_start": 0,
            "bin_end": 0.1,
            "count": 799
           },
           {
            "bin_start": 0.1,
            "bin_end": 0.2,
            "count": 0
           },
           {
            "bin_start": 0.2,
            "bin_end": 0.30000000000000004,
            "count": 0
           },
           {
            "bin_start": 0.30000000000000004,
            "bin_end": 0.4,
            "count": 0
           },
           {
            "bin_start": 0.4,
            "bin_end": 0.5,
            "count": 0
           },
           {
            "bin_start": 0.5,
            "bin_end": 0.6000000000000001,
            "count": 0
           },
           {
            "bin_start": 0.6000000000000001,
            "bin_end": 0.7000000000000001,
            "count": 0
           },
           {
            "bin_start": 0.7000000000000001,
            "bin_end": 0.8,
            "count": 0
           },
           {
            "bin_start": 0.8,
            "bin_end": 0.9,
            "count": 0
           },
           {
            "bin_start": 0.9,
            "bin_end": 1,
            "count": 2
           }
          ]
         }
        },
        {
         "name": "Turboblaze",
         "dtype": "float64",
         "stats": {
          "unique_count": 2,
          "nan_count": 0,
          "min": "0.0",
          "max": "1.0",
          "histogram": [
           {
            "bin_start": 0,
            "bin_end": 0.1,
            "count": 799
           },
           {
            "bin_start": 0.1,
            "bin_end": 0.2,
            "count": 0
           },
           {
            "bin_start": 0.2,
            "bin_end": 0.30000000000000004,
            "count": 0
           },
           {
            "bin_start": 0.30000000000000004,
            "bin_end": 0.4,
            "count": 0
           },
           {
            "bin_start": 0.4,
            "bin_end": 0.5,
            "count": 0
           },
           {
            "bin_start": 0.5,
            "bin_end": 0.6000000000000001,
            "count": 0
           },
           {
            "bin_start": 0.6000000000000001,
            "bin_end": 0.7000000000000001,
            "count": 0
           },
           {
            "bin_start": 0.7000000000000001,
            "bin_end": 0.8,
            "count": 0
           },
           {
            "bin_start": 0.8,
            "bin_end": 0.9,
            "count": 0
           },
           {
            "bin_start": 0.9,
            "bin_end": 1,
            "count": 2
           }
          ]
         }
        },
        {
         "name": "Teravolt",
         "dtype": "float64",
         "stats": {
          "unique_count": 2,
          "nan_count": 0,
          "min": "0.0",
          "max": "1.0",
          "histogram": [
           {
            "bin_start": 0,
            "bin_end": 0.1,
            "count": 799
           },
           {
            "bin_start": 0.1,
            "bin_end": 0.2,
            "count": 0
           },
           {
            "bin_start": 0.2,
            "bin_end": 0.30000000000000004,
            "count": 0
           },
           {
            "bin_start": 0.30000000000000004,
            "bin_end": 0.4,
            "count": 0
           },
           {
            "bin_start": 0.4,
            "bin_end": 0.5,
            "count": 0
           },
           {
            "bin_start": 0.5,
            "bin_end": 0.6000000000000001,
            "count": 0
           },
           {
            "bin_start": 0.6000000000000001,
            "bin_end": 0.7000000000000001,
            "count": 0
           },
           {
            "bin_start": 0.7000000000000001,
            "bin_end": 0.8,
            "count": 0
           },
           {
            "bin_start": 0.8,
            "bin_end": 0.9,
            "count": 0
           },
           {
            "bin_start": 0.9,
            "bin_end": 1,
            "count": 2
           }
          ]
         }
        },
        {
         "name": "Telepathy",
         "dtype": "float64",
         "stats": {
          "unique_count": 2,
          "nan_count": 0,
          "min": "0.0",
          "max": "1.0",
          "histogram": [
           {
            "bin_start": 0,
            "bin_end": 0.1,
            "count": 780
           },
           {
            "bin_start": 0.1,
            "bin_end": 0.2,
            "count": 0
           },
           {
            "bin_start": 0.2,
            "bin_end": 0.30000000000000004,
            "count": 0
           },
           {
            "bin_start": 0.30000000000000004,
            "bin_end": 0.4,
            "count": 0
           },
           {
            "bin_start": 0.4,
            "bin_end": 0.5,
            "count": 0
           },
           {
            "bin_start": 0.5,
            "bin_end": 0.6000000000000001,
            "count": 0
           },
           {
            "bin_start": 0.6000000000000001,
            "bin_end": 0.7000000000000001,
            "count": 0
           },
           {
            "bin_start": 0.7000000000000001,
            "bin_end": 0.8,
            "count": 0
           },
           {
            "bin_start": 0.8,
            "bin_end": 0.9,
            "count": 0
           },
           {
            "bin_start": 0.9,
            "bin_end": 1,
            "count": 21
           }
          ]
         }
        },
        {
         "name": "generation",
         "dtype": "float64",
         "stats": {
          "unique_count": 7,
          "nan_count": 0,
          "min": "0.0",
          "max": "0.9999999999999999",
          "histogram": [
           {
            "bin_start": 0,
            "bin_end": 0.09999999999999999,
            "count": 151
           },
           {
            "bin_start": 0.09999999999999999,
            "bin_end": 0.19999999999999998,
            "count": 100
           },
           {
            "bin_start": 0.19999999999999998,
            "bin_end": 0.3,
            "count": 0
           },
           {
            "bin_start": 0.3,
            "bin_end": 0.39999999999999997,
            "count": 135
           },
           {
            "bin_start": 0.39999999999999997,
            "bin_end": 0.49999999999999994,
            "count": 0
           },
           {
            "bin_start": 0.49999999999999994,
            "bin_end": 0.6,
            "count": 107
           },
           {
            "bin_start": 0.6,
            "bin_end": 0.7,
            "count": 156
           },
           {
            "bin_start": 0.7,
            "bin_end": 0.7999999999999999,
            "count": 0
           },
           {
            "bin_start": 0.7999999999999999,
            "bin_end": 0.8999999999999999,
            "count": 72
           },
           {
            "bin_start": 0.8999999999999999,
            "bin_end": 0.9999999999999999,
            "count": 80
           }
          ]
         }
        },
        {
         "name": "against_dark",
         "dtype": "float64",
         "stats": {
          "unique_count": 5,
          "nan_count": 0,
          "min": "0.0",
          "max": "1.0",
          "histogram": [
           {
            "bin_start": 0,
            "bin_end": 0.1,
            "count": 129
           },
           {
            "bin_start": 0.1,
            "bin_end": 0.2,
            "count": 0
           },
           {
            "bin_start": 0.2,
            "bin_end": 0.30000000000000004,
            "count": 565
           },
           {
            "bin_start": 0.30000000000000004,
            "bin_end": 0.4,
            "count": 0
           },
           {
            "bin_start": 0.4,
            "bin_end": 0.5,
            "count": 105
           },
           {
            "bin_start": 0.5,
            "bin_end": 0.6000000000000001,
            "count": 0
           },
           {
            "bin_start": 0.6000000000000001,
            "bin_end": 0.7000000000000001,
            "count": 0
           },
           {
            "bin_start": 0.7000000000000001,
            "bin_end": 0.8,
            "count": 0
           },
           {
            "bin_start": 0.8,
            "bin_end": 0.9,
            "count": 0
           },
           {
            "bin_start": 0.9,
            "bin_end": 1,
            "count": 2
           }
          ]
         }
        },
        {
         "name": "Justified",
         "dtype": "float64",
         "stats": {
          "unique_count": 2,
          "nan_count": 0,
          "min": "0.0",
          "max": "1.0",
          "histogram": [
           {
            "bin_start": 0,
            "bin_end": 0.1,
            "count": 792
           },
           {
            "bin_start": 0.1,
            "bin_end": 0.2,
            "count": 0
           },
           {
            "bin_start": 0.2,
            "bin_end": 0.30000000000000004,
            "count": 0
           },
           {
            "bin_start": 0.30000000000000004,
            "bin_end": 0.4,
            "count": 0
           },
           {
            "bin_start": 0.4,
            "bin_end": 0.5,
            "count": 0
           },
           {
            "bin_start": 0.5,
            "bin_end": 0.6000000000000001,
            "count": 0
           },
           {
            "bin_start": 0.6000000000000001,
            "bin_end": 0.7000000000000001,
            "count": 0
           },
           {
            "bin_start": 0.7000000000000001,
            "bin_end": 0.8,
            "count": 0
           },
           {
            "bin_start": 0.8,
            "bin_end": 0.9,
            "count": 0
           },
           {
            "bin_start": 0.9,
            "bin_end": 1,
            "count": 9
           }
          ]
         }
        },
        {
         "name": "New Species Pokémon",
         "dtype": "float64",
         "stats": {
          "unique_count": 2,
          "nan_count": 0,
          "min": "0.0",
          "max": "1.0",
          "histogram": [
           {
            "bin_start": 0,
            "bin_end": 0.1,
            "count": 800
           },
           {
            "bin_start": 0.1,
            "bin_end": 0.2,
            "count": 0
           },
           {
            "bin_start": 0.2,
            "bin_end": 0.30000000000000004,
            "count": 0
           },
           {
            "bin_start": 0.30000000000000004,
            "bin_end": 0.4,
            "count": 0
           },
           {
            "bin_start": 0.4,
            "bin_end": 0.5,
            "count": 0
           },
           {
            "bin_start": 0.5,
            "bin_end": 0.6000000000000001,
            "count": 0
           },
           {
            "bin_start": 0.6000000000000001,
            "bin_end": 0.7000000000000001,
            "count": 0
           },
           {
            "bin_start": 0.7000000000000001,
            "bin_end": 0.8,
            "count": 0
           },
           {
            "bin_start": 0.8,
            "bin_end": 0.9,
            "count": 0
           },
           {
            "bin_start": 0.9,
            "bin_end": 1,
            "count": 1
           }
          ]
         }
        },
        {
         "name": "Sky High Pokémon",
         "dtype": "float64",
         "stats": {
          "unique_count": 2,
          "nan_count": 0,
          "min": "0.0",
          "max": "1.0",
          "histogram": [
           {
            "bin_start": 0,
            "bin_end": 0.1,
            "count": 800
           },
           {
            "bin_start": 0.1,
            "bin_end": 0.2,
            "count": 0
           },
           {
            "bin_start": 0.2,
            "bin_end": 0.30000000000000004,
            "count": 0
           },
           {
            "bin_start": 0.30000000000000004,
            "bin_end": 0.4,
            "count": 0
           },
           {
            "bin_start": 0.4,
            "bin_end": 0.5,
            "count": 0
           },
           {
            "bin_start": 0.5,
            "bin_end": 0.6000000000000001,
            "count": 0
           },
           {
            "bin_start": 0.6000000000000001,
            "bin_end": 0.7000000000000001,
            "count": 0
           },
           {
            "bin_start": 0.7000000000000001,
            "bin_end": 0.8,
            "count": 0
           },
           {
            "bin_start": 0.8,
            "bin_end": 0.9,
            "count": 0
           },
           {
            "bin_start": 0.9,
            "bin_end": 1,
            "count": 1
           }
          ]
         }
        },
        {
         "name": "Air Lock",
         "dtype": "float64",
         "stats": {
          "unique_count": 2,
          "nan_count": 0,
          "min": "0.0",
          "max": "1.0",
          "histogram": [
           {
            "bin_start": 0,
            "bin_end": 0.1,
            "count": 800
           },
           {
            "bin_start": 0.1,
            "bin_end": 0.2,
            "count": 0
           },
           {
            "bin_start": 0.2,
            "bin_end": 0.30000000000000004,
            "count": 0
           },
           {
            "bin_start": 0.30000000000000004,
            "bin_end": 0.4,
            "count": 0
           },
           {
            "bin_start": 0.4,
            "bin_end": 0.5,
            "count": 0
           },
           {
            "bin_start": 0.5,
            "bin_end": 0.6000000000000001,
            "count": 0
           },
           {
            "bin_start": 0.6000000000000001,
            "bin_end": 0.7000000000000001,
            "count": 0
           },
           {
            "bin_start": 0.7000000000000001,
            "bin_end": 0.8,
            "count": 0
           },
           {
            "bin_start": 0.8,
            "bin_end": 0.9,
            "count": 0
           },
           {
            "bin_start": 0.9,
            "bin_end": 1,
            "count": 1
           }
          ]
         }
        },
        {
         "name": "DNA Pokémon",
         "dtype": "float64",
         "stats": {
          "unique_count": 2,
          "nan_count": 0,
          "min": "0.0",
          "max": "1.0",
          "histogram": [
           {
            "bin_start": 0,
            "bin_end": 0.1,
            "count": 800
           },
           {
            "bin_start": 0.1,
            "bin_end": 0.2,
            "count": 0
           },
           {
            "bin_start": 0.2,
            "bin_end": 0.30000000000000004,
            "count": 0
           },
           {
            "bin_start": 0.30000000000000004,
            "bin_end": 0.4,
            "count": 0
           },
           {
            "bin_start": 0.4,
            "bin_end": 0.5,
            "count": 0
           },
           {
            "bin_start": 0.5,
            "bin_end": 0.6000000000000001,
            "count": 0
           },
           {
            "bin_start": 0.6000000000000001,
            "bin_end": 0.7000000000000001,
            "count": 0
           },
           {
            "bin_start": 0.7000000000000001,
            "bin_end": 0.8,
            "count": 0
           },
           {
            "bin_start": 0.8,
            "bin_end": 0.9,
            "count": 0
           },
           {
            "bin_start": 0.9,
            "bin_end": 1,
            "count": 1
           }
          ]
         }
        },
        {
         "name": "Sea Basin Pokémon",
         "dtype": "float64",
         "stats": {
          "unique_count": 2,
          "nan_count": 0,
          "min": "0.0",
          "max": "1.0",
          "histogram": [
           {
            "bin_start": 0,
            "bin_end": 0.1,
            "count": 800
           },
           {
            "bin_start": 0.1,
            "bin_end": 0.2,
            "count": 0
           },
           {
            "bin_start": 0.2,
            "bin_end": 0.30000000000000004,
            "count": 0
           },
           {
            "bin_start": 0.30000000000000004,
            "bin_end": 0.4,
            "count": 0
           },
           {
            "bin_start": 0.4,
            "bin_end": 0.5,
            "count": 0
           },
           {
            "bin_start": 0.5,
            "bin_end": 0.6000000000000001,
            "count": 0
           },
           {
            "bin_start": 0.6000000000000001,
            "bin_end": 0.7000000000000001,
            "count": 0
           },
           {
            "bin_start": 0.7000000000000001,
            "bin_end": 0.8,
            "count": 0
           },
           {
            "bin_start": 0.8,
            "bin_end": 0.9,
            "count": 0
           },
           {
            "bin_start": 0.9,
            "bin_end": 1,
            "count": 1
           }
          ]
         }
        },
        {
         "name": "Knowledge Pokémon",
         "dtype": "float64",
         "stats": {
          "unique_count": 2,
          "nan_count": 0,
          "min": "0.0",
          "max": "1.0",
          "histogram": [
           {
            "bin_start": 0,
            "bin_end": 0.1,
            "count": 800
           },
           {
            "bin_start": 0.1,
            "bin_end": 0.2,
            "count": 0
           },
           {
            "bin_start": 0.2,
            "bin_end": 0.30000000000000004,
            "count": 0
           },
           {
            "bin_start": 0.30000000000000004,
            "bin_end": 0.4,
            "count": 0
           },
           {
            "bin_start": 0.4,
            "bin_end": 0.5,
            "count": 0
           },
           {
            "bin_start": 0.5,
            "bin_end": 0.6000000000000001,
            "count": 0
           },
           {
            "bin_start": 0.6000000000000001,
            "bin_end": 0.7000000000000001,
            "count": 0
           },
           {
            "bin_start": 0.7000000000000001,
            "bin_end": 0.8,
            "count": 0
           },
           {
            "bin_start": 0.8,
            "bin_end": 0.9,
            "count": 0
           },
           {
            "bin_start": 0.9,
            "bin_end": 1,
            "count": 1
           }
          ]
         }
        },
        {
         "name": "Wish Pokémon",
         "dtype": "float64",
         "stats": {
          "unique_count": 2,
          "nan_count": 0,
          "min": "0.0",
          "max": "1.0",
          "histogram": [
           {
            "bin_start": 0,
            "bin_end": 0.1,
            "count": 800
           },
           {
            "bin_start": 0.1,
            "bin_end": 0.2,
            "count": 0
           },
           {
            "bin_start": 0.2,
            "bin_end": 0.30000000000000004,
            "count": 0
           },
           {
            "bin_start": 0.30000000000000004,
            "bin_end": 0.4,
            "count": 0
           },
           {
            "bin_start": 0.4,
            "bin_end": 0.5,
            "count": 0
           },
           {
            "bin_start": 0.5,
            "bin_end": 0.6000000000000001,
            "count": 0
           },
           {
            "bin_start": 0.6000000000000001,
            "bin_end": 0.7000000000000001,
            "count": 0
           },
           {
            "bin_start": 0.7000000000000001,
            "bin_end": 0.8,
            "count": 0
           },
           {
            "bin_start": 0.8,
            "bin_end": 0.9,
            "count": 0
           },
           {
            "bin_start": 0.9,
            "bin_end": 1,
            "count": 1
           }
          ]
         }
        },
        {
         "name": "Genetic Pokémon",
         "dtype": "float64",
         "stats": {
          "unique_count": 2,
          "nan_count": 0,
          "min": "0.0",
          "max": "1.0",
          "histogram": [
           {
            "bin_start": 0,
            "bin_end": 0.1,
            "count": 800
           },
           {
            "bin_start": 0.1,
            "bin_end": 0.2,
            "count": 0
           },
           {
            "bin_start": 0.2,
            "bin_end": 0.30000000000000004,
            "count": 0
           },
           {
            "bin_start": 0.30000000000000004,
            "bin_end": 0.4,
            "count": 0
           },
           {
            "bin_start": 0.4,
            "bin_end": 0.5,
            "count": 0
           },
           {
            "bin_start": 0.5,
            "bin_end": 0.6000000000000001,
            "count": 0
           },
           {
            "bin_start": 0.6000000000000001,
            "bin_end": 0.7000000000000001,
            "count": 0
           },
           {
            "bin_start": 0.7000000000000001,
            "bin_end": 0.8,
            "count": 0
           },
           {
            "bin_start": 0.8,
            "bin_end": 0.9,
            "count": 0
           },
           {
            "bin_start": 0.9,
            "bin_end": 1,
            "count": 1
           }
          ]
         }
        },
        {
         "name": "Rock Peak Pokémon",
         "dtype": "float64",
         "stats": {
          "unique_count": 2,
          "nan_count": 0,
          "min": "0.0",
          "max": "1.0",
          "histogram": [
           {
            "bin_start": 0,
            "bin_end": 0.1,
            "count": 800
           },
           {
            "bin_start": 0.1,
            "bin_end": 0.2,
            "count": 0
           },
           {
            "bin_start": 0.2,
            "bin_end": 0.30000000000000004,
            "count": 0
           },
           {
            "bin_start": 0.30000000000000004,
            "bin_end": 0.4,
            "count": 0
           },
           {
            "bin_start": 0.4,
            "bin_end": 0.5,
            "count": 0
           },
           {
            "bin_start": 0.5,
            "bin_end": 0.6000000000000001,
            "count": 0
           },
           {
            "bin_start": 0.6000000000000001,
            "bin_end": 0.7000000000000001,
            "count": 0
           },
           {
            "bin_start": 0.7000000000000001,
            "bin_end": 0.8,
            "count": 0
           },
           {
            "bin_start": 0.8,
            "bin_end": 0.9,
            "count": 0
           },
           {
            "bin_start": 0.9,
            "bin_end": 1,
            "count": 1
           }
          ]
         }
        },
        {
         "name": "Freeze Pokémon",
         "dtype": "float64",
         "stats": {
          "unique_count": 2,
          "nan_count": 0,
          "min": "0.0",
          "max": "1.0",
          "histogram": [
           {
            "bin_start": 0,
            "bin_end": 0.1,
            "count": 800
           },
           {
            "bin_start": 0.1,
            "bin_end": 0.2,
            "count": 0
           },
           {
            "bin_start": 0.2,
            "bin_end": 0.30000000000000004,
            "count": 0
           },
           {
            "bin_start": 0.30000000000000004,
            "bin_end": 0.4,
            "count": 0
           },
           {
            "bin_start": 0.4,
            "bin_end": 0.5,
            "count": 0
           },
           {
            "bin_start": 0.5,
            "bin_end": 0.6000000000000001,
            "count": 0
           },
           {
            "bin_start": 0.6000000000000001,
            "bin_end": 0.7000000000000001,
            "count": 0
           },
           {
            "bin_start": 0.7000000000000001,
            "bin_end": 0.8,
            "count": 0
           },
           {
            "bin_start": 0.8,
            "bin_end": 0.9,
            "count": 0
           },
           {
            "bin_start": 0.9,
            "bin_end": 1,
            "count": 1
           }
          ]
         }
        },
        {
         "name": "Iron Pokémon",
         "dtype": "float64",
         "stats": {
          "unique_count": 2,
          "nan_count": 0,
          "min": "0.0",
          "max": "1.0",
          "histogram": [
           {
            "bin_start": 0,
            "bin_end": 0.1,
            "count": 800
           },
           {
            "bin_start": 0.1,
            "bin_end": 0.2,
            "count": 0
           },
           {
            "bin_start": 0.2,
            "bin_end": 0.30000000000000004,
            "count": 0
           },
           {
            "bin_start": 0.30000000000000004,
            "bin_end": 0.4,
            "count": 0
           },
           {
            "bin_start": 0.4,
            "bin_end": 0.5,
            "count": 0
           },
           {
            "bin_start": 0.5,
            "bin_end": 0.6000000000000001,
            "count": 0
           },
           {
            "bin_start": 0.6000000000000001,
            "bin_end": 0.7000000000000001,
            "count": 0
           },
           {
            "bin_start": 0.7000000000000001,
            "bin_end": 0.8,
            "count": 0
           },
           {
            "bin_start": 0.8,
            "bin_end": 0.9,
            "count": 0
           },
           {
            "bin_start": 0.9,
            "bin_end": 1,
            "count": 1
           }
          ]
         }
        },
        {
         "name": "Bad Dreams",
         "dtype": "float64",
         "stats": {
          "unique_count": 2,
          "nan_count": 0,
          "min": "0.0",
          "max": "1.0",
          "histogram": [
           {
            "bin_start": 0,
            "bin_end": 0.1,
            "count": 800
           },
           {
            "bin_start": 0.1,
            "bin_end": 0.2,
            "count": 0
           },
           {
            "bin_start": 0.2,
            "bin_end": 0.30000000000000004,
            "count": 0
           },
           {
            "bin_start": 0.30000000000000004,
            "bin_end": 0.4,
            "count": 0
           },
           {
            "bin_start": 0.4,
            "bin_end": 0.5,
            "count": 0
           },
           {
            "bin_start": 0.5,
            "bin_end": 0.6000000000000001,
            "count": 0
           },
           {
            "bin_start": 0.6000000000000001,
            "bin_end": 0.7000000000000001,
            "count": 0
           },
           {
            "bin_start": 0.7000000000000001,
            "bin_end": 0.8,
            "count": 0
           },
           {
            "bin_start": 0.8,
            "bin_end": 0.9,
            "count": 0
           },
           {
            "bin_start": 0.9,
            "bin_end": 1,
            "count": 1
           }
          ]
         }
        },
        {
         "name": "Slow Start",
         "dtype": "float64",
         "stats": {
          "unique_count": 2,
          "nan_count": 0,
          "min": "0.0",
          "max": "1.0",
          "histogram": [
           {
            "bin_start": 0,
            "bin_end": 0.1,
            "count": 800
           },
           {
            "bin_start": 0.1,
            "bin_end": 0.2,
            "count": 0
           },
           {
            "bin_start": 0.2,
            "bin_end": 0.30000000000000004,
            "count": 0
           },
           {
            "bin_start": 0.30000000000000004,
            "bin_end": 0.4,
            "count": 0
           },
           {
            "bin_start": 0.4,
            "bin_end": 0.5,
            "count": 0
           },
           {
            "bin_start": 0.5,
            "bin_end": 0.6000000000000001,
            "count": 0
           },
           {
            "bin_start": 0.6000000000000001,
            "bin_end": 0.7000000000000001,
            "count": 0
           },
           {
            "bin_start": 0.7000000000000001,
            "bin_end": 0.8,
            "count": 0
           },
           {
            "bin_start": 0.8,
            "bin_end": 0.9,
            "count": 0
           },
           {
            "bin_start": 0.9,
            "bin_end": 1,
            "count": 1
           }
          ]
         }
        },
        {
         "name": "Victory Star",
         "dtype": "float64",
         "stats": {
          "unique_count": 2,
          "nan_count": 0,
          "min": "0.0",
          "max": "1.0",
          "histogram": [
           {
            "bin_start": 0,
            "bin_end": 0.1,
            "count": 800
           },
           {
            "bin_start": 0.1,
            "bin_end": 0.2,
            "count": 0
           },
           {
            "bin_start": 0.2,
            "bin_end": 0.30000000000000004,
            "count": 0
           },
           {
            "bin_start": 0.30000000000000004,
            "bin_end": 0.4,
            "count": 0
           },
           {
            "bin_start": 0.4,
            "bin_end": 0.5,
            "count": 0
           },
           {
            "bin_start": 0.5,
            "bin_end": 0.6000000000000001,
            "count": 0
           },
           {
            "bin_start": 0.6000000000000001,
            "bin_end": 0.7000000000000001,
            "count": 0
           },
           {
            "bin_start": 0.7000000000000001,
            "bin_end": 0.8,
            "count": 0
           },
           {
            "bin_start": 0.8,
            "bin_end": 0.9,
            "count": 0
           },
           {
            "bin_start": 0.9,
            "bin_end": 1,
            "count": 1
           }
          ]
         }
        },
        {
         "name": "Prism Armor",
         "dtype": "float64",
         "stats": {
          "unique_count": 2,
          "nan_count": 0,
          "min": "0.0",
          "max": "1.0",
          "histogram": [
           {
            "bin_start": 0,
            "bin_end": 0.1,
            "count": 800
           },
           {
            "bin_start": 0.1,
            "bin_end": 0.2,
            "count": 0
           },
           {
            "bin_start": 0.2,
            "bin_end": 0.30000000000000004,
            "count": 0
           },
           {
            "bin_start": 0.30000000000000004,
            "bin_end": 0.4,
            "count": 0
           },
           {
            "bin_start": 0.4,
            "bin_end": 0.5,
            "count": 0
           },
           {
            "bin_start": 0.5,
            "bin_end": 0.6000000000000001,
            "count": 0
           },
           {
            "bin_start": 0.6000000000000001,
            "bin_end": 0.7000000000000001,
            "count": 0
           },
           {
            "bin_start": 0.7000000000000001,
            "bin_end": 0.8,
            "count": 0
           },
           {
            "bin_start": 0.8,
            "bin_end": 0.9,
            "count": 0
           },
           {
            "bin_start": 0.9,
            "bin_end": 1,
            "count": 1
           }
          ]
         }
        },
        {
         "name": "Prism Pokémon",
         "dtype": "float64",
         "stats": {
          "unique_count": 2,
          "nan_count": 0,
          "min": "0.0",
          "max": "1.0",
          "histogram": [
           {
            "bin_start": 0,
            "bin_end": 0.1,
            "count": 800
           },
           {
            "bin_start": 0.1,
            "bin_end": 0.2,
            "count": 0
           },
           {
            "bin_start": 0.2,
            "bin_end": 0.30000000000000004,
            "count": 0
           },
           {
            "bin_start": 0.30000000000000004,
            "bin_end": 0.4,
            "count": 0
           },
           {
            "bin_start": 0.4,
            "bin_end": 0.5,
            "count": 0
           },
           {
            "bin_start": 0.5,
            "bin_end": 0.6000000000000001,
            "count": 0
           },
           {
            "bin_start": 0.6000000000000001,
            "bin_end": 0.7000000000000001,
            "count": 0
           },
           {
            "bin_start": 0.7000000000000001,
            "bin_end": 0.8,
            "count": 0
           },
           {
            "bin_start": 0.8,
            "bin_end": 0.9,
            "count": 0
           },
           {
            "bin_start": 0.9,
            "bin_end": 1,
            "count": 1
           }
          ]
         }
        },
        {
         "name": "Victory Pokémon",
         "dtype": "float64",
         "stats": {
          "unique_count": 2,
          "nan_count": 0,
          "min": "0.0",
          "max": "1.0",
          "histogram": [
           {
            "bin_start": 0,
            "bin_end": 0.1,
            "count": 800
           },
           {
            "bin_start": 0.1,
            "bin_end": 0.2,
            "count": 0
           },
           {
            "bin_start": 0.2,
            "bin_end": 0.30000000000000004,
            "count": 0
           },
           {
            "bin_start": 0.30000000000000004,
            "bin_end": 0.4,
            "count": 0
           },
           {
            "bin_start": 0.4,
            "bin_end": 0.5,
            "count": 0
           },
           {
            "bin_start": 0.5,
            "bin_end": 0.6000000000000001,
            "count": 0
           },
           {
            "bin_start": 0.6000000000000001,
            "bin_end": 0.7000000000000001,
            "count": 0
           },
           {
            "bin_start": 0.7000000000000001,
            "bin_end": 0.8,
            "count": 0
           },
           {
            "bin_start": 0.8,
            "bin_end": 0.9,
            "count": 0
           },
           {
            "bin_start": 0.9,
            "bin_end": 1,
            "count": 1
           }
          ]
         }
        },
        {
         "name": "Psychic Surge",
         "dtype": "float64",
         "stats": {
          "unique_count": 2,
          "nan_count": 0,
          "min": "0.0",
          "max": "1.0",
          "histogram": [
           {
            "bin_start": 0,
            "bin_end": 0.1,
            "count": 800
           },
           {
            "bin_start": 0.1,
            "bin_end": 0.2,
            "count": 0
           },
           {
            "bin_start": 0.2,
            "bin_end": 0.30000000000000004,
            "count": 0
           },
           {
            "bin_start": 0.30000000000000004,
            "bin_end": 0.4,
            "count": 0
           },
           {
            "bin_start": 0.4,
            "bin_end": 0.5,
            "count": 0
           },
           {
            "bin_start": 0.5,
            "bin_end": 0.6000000000000001,
            "count": 0
           },
           {
            "bin_start": 0.6000000000000001,
            "bin_end": 0.7000000000000001,
            "count": 0
           },
           {
            "bin_start": 0.7000000000000001,
            "bin_end": 0.8,
            "count": 0
           },
           {
            "bin_start": 0.8,
            "bin_end": 0.9,
            "count": 0
           },
           {
            "bin_start": 0.9,
            "bin_end": 1,
            "count": 1
           }
          ]
         }
        },
        {
         "name": "Pitch-Black Pokémon",
         "dtype": "float64",
         "stats": {
          "unique_count": 2,
          "nan_count": 0,
          "min": "0.0",
          "max": "1.0",
          "histogram": [
           {
            "bin_start": 0,
            "bin_end": 0.1,
            "count": 800
           },
           {
            "bin_start": 0.1,
            "bin_end": 0.2,
            "count": 0
           },
           {
            "bin_start": 0.2,
            "bin_end": 0.30000000000000004,
            "count": 0
           },
           {
            "bin_start": 0.30000000000000004,
            "bin_end": 0.4,
            "count": 0
           },
           {
            "bin_start": 0.4,
            "bin_end": 0.5,
            "count": 0
           },
           {
            "bin_start": 0.5,
            "bin_end": 0.6000000000000001,
            "count": 0
           },
           {
            "bin_start": 0.6000000000000001,
            "bin_end": 0.7000000000000001,
            "count": 0
           },
           {
            "bin_start": 0.7000000000000001,
            "bin_end": 0.8,
            "count": 0
           },
           {
            "bin_start": 0.8,
            "bin_end": 0.9,
            "count": 0
           },
           {
            "bin_start": 0.9,
            "bin_end": 1,
            "count": 1
           }
          ]
         }
        },
        {
         "name": "Willpower Pokémon",
         "dtype": "float64",
         "stats": {
          "unique_count": 2,
          "nan_count": 0,
          "min": "0.0",
          "max": "1.0",
          "histogram": [
           {
            "bin_start": 0,
            "bin_end": 0.1,
            "count": 800
           },
           {
            "bin_start": 0.1,
            "bin_end": 0.2,
            "count": 0
           },
           {
            "bin_start": 0.2,
            "bin_end": 0.30000000000000004,
            "count": 0
           },
           {
            "bin_start": 0.30000000000000004,
            "bin_end": 0.4,
            "count": 0
           },
           {
            "bin_start": 0.4,
            "bin_end": 0.5,
            "count": 0
           },
           {
            "bin_start": 0.5,
            "bin_end": 0.6000000000000001,
            "count": 0
           },
           {
            "bin_start": 0.6000000000000001,
            "bin_end": 0.7000000000000001,
            "count": 0
           },
           {
            "bin_start": 0.7000000000000001,
            "bin_end": 0.8,
            "count": 0
           },
           {
            "bin_start": 0.8,
            "bin_end": 0.9,
            "count": 0
           },
           {
            "bin_start": 0.9,
            "bin_end": 1,
            "count": 1
           }
          ]
         }
        },
        {
         "name": "Aura Break",
         "dtype": "float64",
         "stats": {
          "unique_count": 2,
          "nan_count": 0,
          "min": "0.0",
          "max": "1.0",
          "histogram": [
           {
            "bin_start": 0,
            "bin_end": 0.1,
            "count": 800
           },
           {
            "bin_start": 0.1,
            "bin_end": 0.2,
            "count": 0
           },
           {
            "bin_start": 0.2,
            "bin_end": 0.30000000000000004,
            "count": 0
           },
           {
            "bin_start": 0.30000000000000004,
            "bin_end": 0.4,
            "count": 0
           },
           {
            "bin_start": 0.4,
            "bin_end": 0.5,
            "count": 0
           },
           {
            "bin_start": 0.5,
            "bin_end": 0.6000000000000001,
            "count": 0
           },
           {
            "bin_start": 0.6000000000000001,
            "bin_end": 0.7000000000000001,
            "count": 0
           },
           {
            "bin_start": 0.7000000000000001,
            "bin_end": 0.8,
            "count": 0
           },
           {
            "bin_start": 0.8,
            "bin_end": 0.9,
            "count": 0
           },
           {
            "bin_start": 0.9,
            "bin_end": 1,
            "count": 1
           }
          ]
         }
        },
        {
         "name": "Power Construct",
         "dtype": "float64",
         "stats": {
          "unique_count": 2,
          "nan_count": 0,
          "min": "0.0",
          "max": "1.0",
          "histogram": [
           {
            "bin_start": 0,
            "bin_end": 0.1,
            "count": 800
           },
           {
            "bin_start": 0.1,
            "bin_end": 0.2,
            "count": 0
           },
           {
            "bin_start": 0.2,
            "bin_end": 0.30000000000000004,
            "count": 0
           },
           {
            "bin_start": 0.30000000000000004,
            "bin_end": 0.4,
            "count": 0
           },
           {
            "bin_start": 0.4,
            "bin_end": 0.5,
            "count": 0
           },
           {
            "bin_start": 0.5,
            "bin_end": 0.6000000000000001,
            "count": 0
           },
           {
            "bin_start": 0.6000000000000001,
            "bin_end": 0.7000000000000001,
            "count": 0
           },
           {
            "bin_start": 0.7000000000000001,
            "bin_end": 0.8,
            "count": 0
           },
           {
            "bin_start": 0.8,
            "bin_end": 0.9,
            "count": 0
           },
           {
            "bin_start": 0.9,
            "bin_end": 1,
            "count": 1
           }
          ]
         }
        },
        {
         "name": "Seafaring Pokémon",
         "dtype": "float64",
         "stats": {
          "unique_count": 2,
          "nan_count": 0,
          "min": "0.0",
          "max": "1.0",
          "histogram": [
           {
            "bin_start": 0,
            "bin_end": 0.1,
            "count": 800
           },
           {
            "bin_start": 0.1,
            "bin_end": 0.2,
            "count": 0
           },
           {
            "bin_start": 0.2,
            "bin_end": 0.30000000000000004,
            "count": 0
           },
           {
            "bin_start": 0.30000000000000004,
            "bin_end": 0.4,
            "count": 0
           },
           {
            "bin_start": 0.4,
            "bin_end": 0.5,
            "count": 0
           },
           {
            "bin_start": 0.5,
            "bin_end": 0.6000000000000001,
            "count": 0
           },
           {
            "bin_start": 0.6000000000000001,
            "bin_end": 0.7000000000000001,
            "count": 0
           },
           {
            "bin_start": 0.7000000000000001,
            "bin_end": 0.8,
            "count": 0
           },
           {
            "bin_start": 0.8,
            "bin_end": 0.9,
            "count": 0
           },
           {
            "bin_start": 0.9,
            "bin_end": 1,
            "count": 1
           }
          ]
         }
        },
        {
         "name": "Lava Dome Pokémon",
         "dtype": "float64",
         "stats": {
          "unique_count": 2,
          "nan_count": 0,
          "min": "0.0",
          "max": "1.0",
          "histogram": [
           {
            "bin_start": 0,
            "bin_end": 0.1,
            "count": 800
           },
           {
            "bin_start": 0.1,
            "bin_end": 0.2,
            "count": 0
           },
           {
            "bin_start": 0.2,
            "bin_end": 0.30000000000000004,
            "count": 0
           },
           {
            "bin_start": 0.30000000000000004,
            "bin_end": 0.4,
            "count": 0
           },
           {
            "bin_start": 0.4,
            "bin_end": 0.5,
            "count": 0
           },
           {
            "bin_start": 0.5,
            "bin_end": 0.6000000000000001,
            "count": 0
           },
           {
            "bin_start": 0.6000000000000001,
            "bin_end": 0.7000000000000001,
            "count": 0
           },
           {
            "bin_start": 0.7000000000000001,
            "bin_end": 0.8,
            "count": 0
           },
           {
            "bin_start": 0.8,
            "bin_end": 0.9,
            "count": 0
           },
           {
            "bin_start": 0.9,
            "bin_end": 1,
            "count": 1
           }
          ]
         }
        },
        {
         "name": "Colossal Pokémon",
         "dtype": "float64",
         "stats": {
          "unique_count": 2,
          "nan_count": 0,
          "min": "0.0",
          "max": "1.0",
          "histogram": [
           {
            "bin_start": 0,
            "bin_end": 0.1,
            "count": 800
           },
           {
            "bin_start": 0.1,
            "bin_end": 0.2,
            "count": 0
           },
           {
            "bin_start": 0.2,
            "bin_end": 0.30000000000000004,
            "count": 0
           },
           {
            "bin_start": 0.30000000000000004,
            "bin_end": 0.4,
            "count": 0
           },
           {
            "bin_start": 0.4,
            "bin_end": 0.5,
            "count": 0
           },
           {
            "bin_start": 0.5,
            "bin_end": 0.6000000000000001,
            "count": 0
           },
           {
            "bin_start": 0.6000000000000001,
            "bin_end": 0.7000000000000001,
            "count": 0
           },
           {
            "bin_start": 0.7000000000000001,
            "bin_end": 0.8,
            "count": 0
           },
           {
            "bin_start": 0.8,
            "bin_end": 0.9,
            "count": 0
           },
           {
            "bin_start": 0.9,
            "bin_end": 1,
            "count": 1
           }
          ]
         }
        },
        {
         "name": "Mischief Pokémon (Confined)Djinn Pokémonn (Unbound)",
         "dtype": "float64",
         "stats": {
          "unique_count": 2,
          "nan_count": 0,
          "min": "0.0",
          "max": "1.0",
          "histogram": [
           {
            "bin_start": 0,
            "bin_end": 0.1,
            "count": 800
           },
           {
            "bin_start": 0.1,
            "bin_end": 0.2,
            "count": 0
           },
           {
            "bin_start": 0.2,
            "bin_end": 0.30000000000000004,
            "count": 0
           },
           {
            "bin_start": 0.30000000000000004,
            "bin_end": 0.4,
            "count": 0
           },
           {
            "bin_start": 0.4,
            "bin_end": 0.5,
            "count": 0
           },
           {
            "bin_start": 0.5,
            "bin_end": 0.6000000000000001,
            "count": 0
           },
           {
            "bin_start": 0.6000000000000001,
            "bin_end": 0.7000000000000001,
            "count": 0
           },
           {
            "bin_start": 0.7000000000000001,
            "bin_end": 0.8,
            "count": 0
           },
           {
            "bin_start": 0.8,
            "bin_end": 0.9,
            "count": 0
           },
           {
            "bin_start": 0.9,
            "bin_end": 1,
            "count": 1
           }
          ]
         }
        },
        {
         "name": "Gratitude Pokémon",
         "dtype": "float64",
         "stats": {
          "unique_count": 2,
          "nan_count": 0,
          "min": "0.0",
          "max": "1.0",
          "histogram": [
           {
            "bin_start": 0,
            "bin_end": 0.1,
            "count": 800
           },
           {
            "bin_start": 0.1,
            "bin_end": 0.2,
            "count": 0
           },
           {
            "bin_start": 0.2,
            "bin_end": 0.30000000000000004,
            "count": 0
           },
           {
            "bin_start": 0.30000000000000004,
            "bin_end": 0.4,
            "count": 0
           },
           {
            "bin_start": 0.4,
            "bin_end": 0.5,
            "count": 0
           },
           {
            "bin_start": 0.5,
            "bin_end": 0.6000000000000001,
            "count": 0
           },
           {
            "bin_start": 0.6000000000000001,
            "bin_end": 0.7000000000000001,
            "count": 0
           },
           {
            "bin_start": 0.7000000000000001,
            "bin_end": 0.8,
            "count": 0
           },
           {
            "bin_start": 0.8,
            "bin_end": 0.9,
            "count": 0
           },
           {
            "bin_start": 0.9,
            "bin_end": 1,
            "count": 1
           }
          ]
         }
        },
        {
         "name": "Order Pokémon",
         "dtype": "float64",
         "stats": {
          "unique_count": 2,
          "nan_count": 0,
          "min": "0.0",
          "max": "1.0",
          "histogram": [
           {
            "bin_start": 0,
            "bin_end": 0.1,
            "count": 800
           },
           {
            "bin_start": 0.1,
            "bin_end": 0.2,
            "count": 0
           },
           {
            "bin_start": 0.2,
            "bin_end": 0.30000000000000004,
            "count": 0
           },
           {
            "bin_start": 0.30000000000000004,
            "bin_end": 0.4,
            "count": 0
           },
           {
            "bin_start": 0.4,
            "bin_end": 0.5,
            "count": 0
           },
           {
            "bin_start": 0.5,
            "bin_end": 0.6000000000000001,
            "count": 0
           },
           {
            "bin_start": 0.6000000000000001,
            "bin_end": 0.7000000000000001,
            "count": 0
           },
           {
            "bin_start": 0.7000000000000001,
            "bin_end": 0.8,
            "count": 0
           },
           {
            "bin_start": 0.8,
            "bin_end": 0.9,
            "count": 0
           },
           {
            "bin_start": 0.9,
            "bin_end": 1,
            "count": 1
           }
          ]
         }
        },
        {
         "name": "Steam Pokémon",
         "dtype": "float64",
         "stats": {
          "unique_count": 2,
          "nan_count": 0,
          "min": "0.0",
          "max": "1.0",
          "histogram": [
           {
            "bin_start": 0,
            "bin_end": 0.1,
            "count": 800
           },
           {
            "bin_start": 0.1,
            "bin_end": 0.2,
            "count": 0
           },
           {
            "bin_start": 0.2,
            "bin_end": 0.30000000000000004,
            "count": 0
           },
           {
            "bin_start": 0.30000000000000004,
            "bin_end": 0.4,
            "count": 0
           },
           {
            "bin_start": 0.4,
            "bin_end": 0.5,
            "count": 0
           },
           {
            "bin_start": 0.5,
            "bin_end": 0.6000000000000001,
            "count": 0
           },
           {
            "bin_start": 0.6000000000000001,
            "bin_end": 0.7000000000000001,
            "count": 0
           },
           {
            "bin_start": 0.7000000000000001,
            "bin_end": 0.8,
            "count": 0
           },
           {
            "bin_start": 0.8,
            "bin_end": 0.9,
            "count": 0
           },
           {
            "bin_start": 0.9,
            "bin_end": 1,
            "count": 1
           }
          ]
         }
        },
        {
         "name": "Spatial Pokémon",
         "dtype": "float64",
         "stats": {
          "unique_count": 2,
          "nan_count": 0,
          "min": "0.0",
          "max": "1.0",
          "histogram": [
           {
            "bin_start": 0,
            "bin_end": 0.1,
            "count": 800
           },
           {
            "bin_start": 0.1,
            "bin_end": 0.2,
            "count": 0
           },
           {
            "bin_start": 0.2,
            "bin_end": 0.30000000000000004,
            "count": 0
           },
           {
            "bin_start": 0.30000000000000004,
            "bin_end": 0.4,
            "count": 0
           },
           {
            "bin_start": 0.4,
            "bin_end": 0.5,
            "count": 0
           },
           {
            "bin_start": 0.5,
            "bin_end": 0.6000000000000001,
            "count": 0
           },
           {
            "bin_start": 0.6000000000000001,
            "bin_end": 0.7000000000000001,
            "count": 0
           },
           {
            "bin_start": 0.7000000000000001,
            "bin_end": 0.8,
            "count": 0
           },
           {
            "bin_start": 0.8,
            "bin_end": 0.9,
            "count": 0
           },
           {
            "bin_start": 0.9,
            "bin_end": 1,
            "count": 1
           }
          ]
         }
        },
        {
         "name": "Life Pokémon",
         "dtype": "float64",
         "stats": {
          "unique_count": 2,
          "nan_count": 0,
          "min": "0.0",
          "max": "1.0",
          "histogram": [
           {
            "bin_start": 0,
            "bin_end": 0.1,
            "count": 800
           },
           {
            "bin_start": 0.1,
            "bin_end": 0.2,
            "count": 0
           },
           {
            "bin_start": 0.2,
            "bin_end": 0.30000000000000004,
            "count": 0
           },
           {
            "bin_start": 0.30000000000000004,
            "bin_end": 0.4,
            "count": 0
           },
           {
            "bin_start": 0.4,
            "bin_end": 0.5,
            "count": 0
           },
           {
            "bin_start": 0.5,
            "bin_end": 0.6000000000000001,
            "count": 0
           },
           {
            "bin_start": 0.6000000000000001,
            "bin_end": 0.7000000000000001,
            "count": 0
           },
           {
            "bin_start": 0.7000000000000001,
            "bin_end": 0.8,
            "count": 0
           },
           {
            "bin_start": 0.8,
            "bin_end": 0.9,
            "count": 0
           },
           {
            "bin_start": 0.9,
            "bin_end": 1,
            "count": 1
           }
          ]
         }
        },
        {
         "name": "Junkivore Pokémon",
         "dtype": "float64",
         "stats": {
          "unique_count": 2,
          "nan_count": 0,
          "min": "0.0",
          "max": "1.0",
          "histogram": [
           {
            "bin_start": 0,
            "bin_end": 0.1,
            "count": 800
           },
           {
            "bin_start": 0.1,
            "bin_end": 0.2,
            "count": 0
           },
           {
            "bin_start": 0.2,
            "bin_end": 0.30000000000000004,
            "count": 0
           },
           {
            "bin_start": 0.30000000000000004,
            "bin_end": 0.4,
            "count": 0
           },
           {
            "bin_start": 0.4,
            "bin_end": 0.5,
            "count": 0
           },
           {
            "bin_start": 0.5,
            "bin_end": 0.6000000000000001,
            "count": 0
           },
           {
            "bin_start": 0.6000000000000001,
            "bin_end": 0.7000000000000001,
            "count": 0
           },
           {
            "bin_start": 0.7000000000000001,
            "bin_end": 0.8,
            "count": 0
           },
           {
            "bin_start": 0.8,
            "bin_end": 0.9,
            "count": 0
           },
           {
            "bin_start": 0.9,
            "bin_end": 1,
            "count": 1
           }
          ]
         }
        },
        {
         "name": "Lunar Pokémon",
         "dtype": "float64",
         "stats": {
          "unique_count": 2,
          "nan_count": 0,
          "min": "0.0",
          "max": "1.0",
          "histogram": [
           {
            "bin_start": 0,
            "bin_end": 0.1,
            "count": 800
           },
           {
            "bin_start": 0.1,
            "bin_end": 0.2,
            "count": 0
           },
           {
            "bin_start": 0.2,
            "bin_end": 0.30000000000000004,
            "count": 0
           },
           {
            "bin_start": 0.30000000000000004,
            "bin_end": 0.4,
            "count": 0
           },
           {
            "bin_start": 0.4,
            "bin_end": 0.5,
            "count": 0
           },
           {
            "bin_start": 0.5,
            "bin_end": 0.6000000000000001,
            "count": 0
           },
           {
            "bin_start": 0.6000000000000001,
            "bin_end": 0.7000000000000001,
            "count": 0
           },
           {
            "bin_start": 0.7000000000000001,
            "bin_end": 0.8,
            "count": 0
           },
           {
            "bin_start": 0.8,
            "bin_end": 0.9,
            "count": 0
           },
           {
            "bin_start": 0.9,
            "bin_end": 1,
            "count": 1
           }
          ]
         }
        },
        {
         "name": "Renegade Pokémon",
         "dtype": "float64",
         "stats": {
          "unique_count": 2,
          "nan_count": 0,
          "min": "0.0",
          "max": "1.0",
          "histogram": [
           {
            "bin_start": 0,
            "bin_end": 0.1,
            "count": 800
           },
           {
            "bin_start": 0.1,
            "bin_end": 0.2,
            "count": 0
           },
           {
            "bin_start": 0.2,
            "bin_end": 0.30000000000000004,
            "count": 0
           },
           {
            "bin_start": 0.30000000000000004,
            "bin_end": 0.4,
            "count": 0
           },
           {
            "bin_start": 0.4,
            "bin_end": 0.5,
            "count": 0
           },
           {
            "bin_start": 0.5,
            "bin_end": 0.6000000000000001,
            "count": 0
           },
           {
            "bin_start": 0.6000000000000001,
            "bin_end": 0.7000000000000001,
            "count": 0
           },
           {
            "bin_start": 0.7000000000000001,
            "bin_end": 0.8,
            "count": 0
           },
           {
            "bin_start": 0.8,
            "bin_end": 0.9,
            "count": 0
           },
           {
            "bin_start": 0.9,
            "bin_end": 1,
            "count": 1
           }
          ]
         }
        },
        {
         "name": "Launch Pokémon",
         "dtype": "float64",
         "stats": {
          "unique_count": 2,
          "nan_count": 0,
          "min": "0.0",
          "max": "1.0",
          "histogram": [
           {
            "bin_start": 0,
            "bin_end": 0.1,
            "count": 800
           },
           {
            "bin_start": 0.1,
            "bin_end": 0.2,
            "count": 0
           },
           {
            "bin_start": 0.2,
            "bin_end": 0.30000000000000004,
            "count": 0
           },
           {
            "bin_start": 0.30000000000000004,
            "bin_end": 0.4,
            "count": 0
           },
           {
            "bin_start": 0.4,
            "bin_end": 0.5,
            "count": 0
           },
           {
            "bin_start": 0.5,
            "bin_end": 0.6000000000000001,
            "count": 0
           },
           {
            "bin_start": 0.6000000000000001,
            "bin_end": 0.7000000000000001,
            "count": 0
           },
           {
            "bin_start": 0.7000000000000001,
            "bin_end": 0.8,
            "count": 0
           },
           {
            "bin_start": 0.8,
            "bin_end": 0.9,
            "count": 0
           },
           {
            "bin_start": 0.9,
            "bin_end": 1,
            "count": 1
           }
          ]
         }
        },
        {
         "name": "Rainbow Pokémon",
         "dtype": "float64",
         "stats": {
          "unique_count": 2,
          "nan_count": 0,
          "min": "0.0",
          "max": "1.0",
          "histogram": [
           {
            "bin_start": 0,
            "bin_end": 0.1,
            "count": 800
           },
           {
            "bin_start": 0.1,
            "bin_end": 0.2,
            "count": 0
           },
           {
            "bin_start": 0.2,
            "bin_end": 0.30000000000000004,
            "count": 0
           },
           {
            "bin_start": 0.30000000000000004,
            "bin_end": 0.4,
            "count": 0
           },
           {
            "bin_start": 0.4,
            "bin_end": 0.5,
            "count": 0
           },
           {
            "bin_start": 0.5,
            "bin_end": 0.6000000000000001,
            "count": 0
           },
           {
            "bin_start": 0.6000000000000001,
            "bin_end": 0.7000000000000001,
            "count": 0
           },
           {
            "bin_start": 0.7000000000000001,
            "bin_end": 0.8,
            "count": 0
           },
           {
            "bin_start": 0.8,
            "bin_end": 0.9,
            "count": 0
           },
           {
            "bin_start": 0.9,
            "bin_end": 1,
            "count": 1
           }
          ]
         }
        },
        {
         "name": "Multitype",
         "dtype": "float64",
         "stats": {
          "unique_count": 2,
          "nan_count": 0,
          "min": "0.0",
          "max": "1.0",
          "histogram": [
           {
            "bin_start": 0,
            "bin_end": 0.1,
            "count": 800
           },
           {
            "bin_start": 0.1,
            "bin_end": 0.2,
            "count": 0
           },
           {
            "bin_start": 0.2,
            "bin_end": 0.30000000000000004,
            "count": 0
           },
           {
            "bin_start": 0.30000000000000004,
            "bin_end": 0.4,
            "count": 0
           },
           {
            "bin_start": 0.4,
            "bin_end": 0.5,
            "count": 0
           },
           {
            "bin_start": 0.5,
            "bin_end": 0.6000000000000001,
            "count": 0
           },
           {
            "bin_start": 0.6000000000000001,
            "bin_end": 0.7000000000000001,
            "count": 0
           },
           {
            "bin_start": 0.7000000000000001,
            "bin_end": 0.8,
            "count": 0
           },
           {
            "bin_start": 0.8,
            "bin_end": 0.9,
            "count": 0
           },
           {
            "bin_start": 0.9,
            "bin_end": 1,
            "count": 1
           }
          ]
         }
        },
        {
         "name": "Artificial Pokémon",
         "dtype": "float64",
         "stats": {
          "unique_count": 2,
          "nan_count": 0,
          "min": "0.0",
          "max": "1.0",
          "histogram": [
           {
            "bin_start": 0,
            "bin_end": 0.1,
            "count": 800
           },
           {
            "bin_start": 0.1,
            "bin_end": 0.2,
            "count": 0
           },
           {
            "bin_start": 0.2,
            "bin_end": 0.30000000000000004,
            "count": 0
           },
           {
            "bin_start": 0.30000000000000004,
            "bin_end": 0.4,
            "count": 0
           },
           {
            "bin_start": 0.4,
            "bin_end": 0.5,
            "count": 0
           },
           {
            "bin_start": 0.5,
            "bin_end": 0.6000000000000001,
            "count": 0
           },
           {
            "bin_start": 0.6000000000000001,
            "bin_end": 0.7000000000000001,
            "count": 0
           },
           {
            "bin_start": 0.7000000000000001,
            "bin_end": 0.8,
            "count": 0
           },
           {
            "bin_start": 0.8,
            "bin_end": 0.9,
            "count": 0
           },
           {
            "bin_start": 0.9,
            "bin_end": 1,
            "count": 1
           }
          ]
         }
        },
        {
         "name": "Protostar Pokémon",
         "dtype": "float64",
         "stats": {
          "unique_count": 2,
          "nan_count": 0,
          "min": "0.0",
          "max": "1.0",
          "histogram": [
           {
            "bin_start": 0,
            "bin_end": 0.1,
            "count": 800
           },
           {
            "bin_start": 0.1,
            "bin_end": 0.2,
            "count": 0
           },
           {
            "bin_start": 0.2,
            "bin_end": 0.30000000000000004,
            "count": 0
           },
           {
            "bin_start": 0.30000000000000004,
            "bin_end": 0.4,
            "count": 0
           },
           {
            "bin_start": 0.4,
            "bin_end": 0.5,
            "count": 0
           },
           {
            "bin_start": 0.5,
            "bin_end": 0.6000000000000001,
            "count": 0
           },
           {
            "bin_start": 0.6000000000000001,
            "bin_end": 0.7000000000000001,
            "count": 0
           },
           {
            "bin_start": 0.7000000000000001,
            "bin_end": 0.8,
            "count": 0
           },
           {
            "bin_start": 0.8,
            "bin_end": 0.9,
            "count": 0
           },
           {
            "bin_start": 0.9,
            "bin_end": 1,
            "count": 1
           }
          ]
         }
        },
        {
         "name": "Glowing Pokémon",
         "dtype": "float64",
         "stats": {
          "unique_count": 2,
          "nan_count": 0,
          "min": "0.0",
          "max": "1.0",
          "histogram": [
           {
            "bin_start": 0,
            "bin_end": 0.1,
            "count": 800
           },
           {
            "bin_start": 0.1,
            "bin_end": 0.2,
            "count": 0
           },
           {
            "bin_start": 0.2,
            "bin_end": 0.30000000000000004,
            "count": 0
           },
           {
            "bin_start": 0.30000000000000004,
            "bin_end": 0.4,
            "count": 0
           },
           {
            "bin_start": 0.4,
            "bin_end": 0.5,
            "count": 0
           },
           {
            "bin_start": 0.5,
            "bin_end": 0.6000000000000001,
            "count": 0
           },
           {
            "bin_start": 0.6000000000000001,
            "bin_end": 0.7000000000000001,
            "count": 0
           },
           {
            "bin_start": 0.7000000000000001,
            "bin_end": 0.8,
            "count": 0
           },
           {
            "bin_start": 0.8,
            "bin_end": 0.9,
            "count": 0
           },
           {
            "bin_start": 0.9,
            "bin_end": 1,
            "count": 1
           }
          ]
         }
        },
        {
         "name": "Parasite Pokémon",
         "dtype": "float64",
         "stats": {
          "unique_count": 2,
          "nan_count": 0,
          "min": "0.0",
          "max": "1.0",
          "histogram": [
           {
            "bin_start": 0,
            "bin_end": 0.1,
            "count": 800
           },
           {
            "bin_start": 0.1,
            "bin_end": 0.2,
            "count": 0
           },
           {
            "bin_start": 0.2,
            "bin_end": 0.30000000000000004,
            "count": 0
           },
           {
            "bin_start": 0.30000000000000004,
            "bin_end": 0.4,
            "count": 0
           },
           {
            "bin_start": 0.4,
            "bin_end": 0.5,
            "count": 0
           },
           {
            "bin_start": 0.5,
            "bin_end": 0.6000000000000001,
            "count": 0
           },
           {
            "bin_start": 0.6000000000000001,
            "bin_end": 0.7000000000000001,
            "count": 0
           },
           {
            "bin_start": 0.7000000000000001,
            "bin_end": 0.8,
            "count": 0
           },
           {
            "bin_start": 0.8,
            "bin_end": 0.9,
            "count": 0
           },
           {
            "bin_start": 0.9,
            "bin_end": 1,
            "count": 1
           }
          ]
         }
        },
        {
         "name": "Temporal Pokémon",
         "dtype": "float64",
         "stats": {
          "unique_count": 2,
          "nan_count": 0,
          "min": "0.0",
          "max": "1.0",
          "histogram": [
           {
            "bin_start": 0,
            "bin_end": 0.1,
            "count": 800
           },
           {
            "bin_start": 0.1,
            "bin_end": 0.2,
            "count": 0
           },
           {
            "bin_start": 0.2,
            "bin_end": 0.30000000000000004,
            "count": 0
           },
           {
            "bin_start": 0.30000000000000004,
            "bin_end": 0.4,
            "count": 0
           },
           {
            "bin_start": 0.4,
            "bin_end": 0.5,
            "count": 0
           },
           {
            "bin_start": 0.5,
            "bin_end": 0.6000000000000001,
            "count": 0
           },
           {
            "bin_start": 0.6000000000000001,
            "bin_end": 0.7000000000000001,
            "count": 0
           },
           {
            "bin_start": 0.7000000000000001,
            "bin_end": 0.8,
            "count": 0
           },
           {
            "bin_start": 0.8,
            "bin_end": 0.9,
            "count": 0
           },
           {
            "bin_start": 0.9,
            "bin_end": 1,
            "count": 1
           }
          ]
         }
        },
        {
         "name": "Time Travel Pokémon",
         "dtype": "float64",
         "stats": {
          "unique_count": 2,
          "nan_count": 0,
          "min": "0.0",
          "max": "1.0",
          "histogram": [
           {
            "bin_start": 0,
            "bin_end": 0.1,
            "count": 800
           },
           {
            "bin_start": 0.1,
            "bin_end": 0.2,
            "count": 0
           },
           {
            "bin_start": 0.2,
            "bin_end": 0.30000000000000004,
            "count": 0
           },
           {
            "bin_start": 0.30000000000000004,
            "bin_end": 0.4,
            "count": 0
           },
           {
            "bin_start": 0.4,
            "bin_end": 0.5,
            "count": 0
           },
           {
            "bin_start": 0.5,
            "bin_end": 0.6000000000000001,
            "count": 0
           },
           {
            "bin_start": 0.6000000000000001,
            "bin_end": 0.7000000000000001,
            "count": 0
           },
           {
            "bin_start": 0.7000000000000001,
            "bin_end": 0.8,
            "count": 0
           },
           {
            "bin_start": 0.8,
            "bin_end": 0.9,
            "count": 0
           },
           {
            "bin_start": 0.9,
            "bin_end": 1,
            "count": 1
           }
          ]
         }
        },
        {
         "name": "Soul-Heart",
         "dtype": "float64",
         "stats": {
          "unique_count": 2,
          "nan_count": 0,
          "min": "0.0",
          "max": "1.0",
          "histogram": [
           {
            "bin_start": 0,
            "bin_end": 0.1,
            "count": 800
           },
           {
            "bin_start": 0.1,
            "bin_end": 0.2,
            "count": 0
           },
           {
            "bin_start": 0.2,
            "bin_end": 0.30000000000000004,
            "count": 0
           },
           {
            "bin_start": 0.30000000000000004,
            "bin_end": 0.4,
            "count": 0
           },
           {
            "bin_start": 0.4,
            "bin_end": 0.5,
            "count": 0
           },
           {
            "bin_start": 0.5,
            "bin_end": 0.6000000000000001,
            "count": 0
           },
           {
            "bin_start": 0.6000000000000001,
            "bin_end": 0.7000000000000001,
            "count": 0
           },
           {
            "bin_start": 0.7000000000000001,
            "bin_end": 0.8,
            "count": 0
           },
           {
            "bin_start": 0.8,
            "bin_end": 0.9,
            "count": 0
           },
           {
            "bin_start": 0.9,
            "bin_end": 1,
            "count": 1
           }
          ]
         }
        },
        {
         "name": "Drawn Sword Pokémon",
         "dtype": "float64",
         "stats": {
          "unique_count": 2,
          "nan_count": 0,
          "min": "0.0",
          "max": "1.0",
          "histogram": [
           {
            "bin_start": 0,
            "bin_end": 0.1,
            "count": 800
           },
           {
            "bin_start": 0.1,
            "bin_end": 0.2,
            "count": 0
           },
           {
            "bin_start": 0.2,
            "bin_end": 0.30000000000000004,
            "count": 0
           },
           {
            "bin_start": 0.30000000000000004,
            "bin_end": 0.4,
            "count": 0
           },
           {
            "bin_start": 0.4,
            "bin_end": 0.5,
            "count": 0
           },
           {
            "bin_start": 0.5,
            "bin_end": 0.6000000000000001,
            "count": 0
           },
           {
            "bin_start": 0.6000000000000001,
            "bin_end": 0.7000000000000001,
            "count": 0
           },
           {
            "bin_start": 0.7000000000000001,
            "bin_end": 0.8,
            "count": 0
           },
           {
            "bin_start": 0.8,
            "bin_end": 0.9,
            "count": 0
           },
           {
            "bin_start": 0.9,
            "bin_end": 1,
            "count": 1
           }
          ]
         }
        },
        {
         "name": "Alpha Pokémon",
         "dtype": "float64",
         "stats": {
          "unique_count": 2,
          "nan_count": 0,
          "min": "0.0",
          "max": "1.0",
          "histogram": [
           {
            "bin_start": 0,
            "bin_end": 0.1,
            "count": 800
           },
           {
            "bin_start": 0.1,
            "bin_end": 0.2,
            "count": 0
           },
           {
            "bin_start": 0.2,
            "bin_end": 0.30000000000000004,
            "count": 0
           },
           {
            "bin_start": 0.30000000000000004,
            "bin_end": 0.4,
            "count": 0
           },
           {
            "bin_start": 0.4,
            "bin_end": 0.5,
            "count": 0
           },
           {
            "bin_start": 0.5,
            "bin_end": 0.6000000000000001,
            "count": 0
           },
           {
            "bin_start": 0.6000000000000001,
            "bin_end": 0.7000000000000001,
            "count": 0
           },
           {
            "bin_start": 0.7000000000000001,
            "bin_end": 0.8,
            "count": 0
           },
           {
            "bin_start": 0.8,
            "bin_end": 0.9,
            "count": 0
           },
           {
            "bin_start": 0.9,
            "bin_end": 1,
            "count": 1
           }
          ]
         }
        },
        {
         "name": "Dark Aura",
         "dtype": "float64",
         "stats": {
          "unique_count": 2,
          "nan_count": 0,
          "min": "0.0",
          "max": "1.0",
          "histogram": [
           {
            "bin_start": 0,
            "bin_end": 0.1,
            "count": 800
           },
           {
            "bin_start": 0.1,
            "bin_end": 0.2,
            "count": 0
           },
           {
            "bin_start": 0.2,
            "bin_end": 0.30000000000000004,
            "count": 0
           },
           {
            "bin_start": 0.30000000000000004,
            "bin_end": 0.4,
            "count": 0
           },
           {
            "bin_start": 0.4,
            "bin_end": 0.5,
            "count": 0
           },
           {
            "bin_start": 0.5,
            "bin_end": 0.6000000000000001,
            "count": 0
           },
           {
            "bin_start": 0.6000000000000001,
            "bin_end": 0.7000000000000001,
            "count": 0
           },
           {
            "bin_start": 0.7000000000000001,
            "bin_end": 0.8,
            "count": 0
           },
           {
            "bin_start": 0.8,
            "bin_end": 0.9,
            "count": 0
           },
           {
            "bin_start": 0.9,
            "bin_end": 1,
            "count": 1
           }
          ]
         }
        },
        {
         "name": "Diving Pokémon",
         "dtype": "float64",
         "stats": {
          "unique_count": 2,
          "nan_count": 0,
          "min": "0.0",
          "max": "1.0",
          "histogram": [
           {
            "bin_start": 0,
            "bin_end": 0.1,
            "count": 800
           },
           {
            "bin_start": 0.1,
            "bin_end": 0.2,
            "count": 0
           },
           {
            "bin_start": 0.2,
            "bin_end": 0.30000000000000004,
            "count": 0
           },
           {
            "bin_start": 0.30000000000000004,
            "bin_end": 0.4,
            "count": 0
           },
           {
            "bin_start": 0.4,
            "bin_end": 0.5,
            "count": 0
           },
           {
            "bin_start": 0.5,
            "bin_end": 0.6000000000000001,
            "count": 0
           },
           {
            "bin_start": 0.6000000000000001,
            "bin_end": 0.7000000000000001,
            "count": 0
           },
           {
            "bin_start": 0.7000000000000001,
            "bin_end": 0.8,
            "count": 0
           },
           {
            "bin_start": 0.8,
            "bin_end": 0.9,
            "count": 0
           },
           {
            "bin_start": 0.9,
            "bin_end": 1,
            "count": 1
           }
          ]
         }
        },
        {
         "name": "Fairy Aura",
         "dtype": "float64",
         "stats": {
          "unique_count": 2,
          "nan_count": 0,
          "min": "0.0",
          "max": "1.0",
          "histogram": [
           {
            "bin_start": 0,
            "bin_end": 0.1,
            "count": 800
           },
           {
            "bin_start": 0.1,
            "bin_end": 0.2,
            "count": 0
           },
           {
            "bin_start": 0.2,
            "bin_end": 0.30000000000000004,
            "count": 0
           },
           {
            "bin_start": 0.30000000000000004,
            "bin_end": 0.4,
            "count": 0
           },
           {
            "bin_start": 0.4,
            "bin_end": 0.5,
            "count": 0
           },
           {
            "bin_start": 0.5,
            "bin_end": 0.6000000000000001,
            "count": 0
           },
           {
            "bin_start": 0.6000000000000001,
            "bin_end": 0.7000000000000001,
            "count": 0
           },
           {
            "bin_start": 0.7000000000000001,
            "bin_end": 0.8,
            "count": 0
           },
           {
            "bin_start": 0.8,
            "bin_end": 0.9,
            "count": 0
           },
           {
            "bin_start": 0.9,
            "bin_end": 1,
            "count": 1
           }
          ]
         }
        },
        {
         "name": "Electric Surge",
         "dtype": "float64",
         "stats": {
          "unique_count": 2,
          "nan_count": 0,
          "min": "0.0",
          "max": "1.0",
          "histogram": [
           {
            "bin_start": 0,
            "bin_end": 0.1,
            "count": 800
           },
           {
            "bin_start": 0.1,
            "bin_end": 0.2,
            "count": 0
           },
           {
            "bin_start": 0.2,
            "bin_end": 0.30000000000000004,
            "count": 0
           },
           {
            "bin_start": 0.30000000000000004,
            "bin_end": 0.4,
            "count": 0
           },
           {
            "bin_start": 0.4,
            "bin_end": 0.5,
            "count": 0
           },
           {
            "bin_start": 0.5,
            "bin_end": 0.6000000000000001,
            "count": 0
           },
           {
            "bin_start": 0.6000000000000001,
            "bin_end": 0.7000000000000001,
            "count": 0
           },
           {
            "bin_start": 0.7000000000000001,
            "bin_end": 0.8,
            "count": 0
           },
           {
            "bin_start": 0.8,
            "bin_end": 0.9,
            "count": 0
           },
           {
            "bin_start": 0.9,
            "bin_end": 1,
            "count": 1
           }
          ]
         }
        },
        {
         "name": "Destruction Pokémon",
         "dtype": "float64",
         "stats": {
          "unique_count": 2,
          "nan_count": 0,
          "min": "0.0",
          "max": "1.0",
          "histogram": [
           {
            "bin_start": 0,
            "bin_end": 0.1,
            "count": 800
           },
           {
            "bin_start": 0.1,
            "bin_end": 0.2,
            "count": 0
           },
           {
            "bin_start": 0.2,
            "bin_end": 0.30000000000000004,
            "count": 0
           },
           {
            "bin_start": 0.30000000000000004,
            "bin_end": 0.4,
            "count": 0
           },
           {
            "bin_start": 0.4,
            "bin_end": 0.5,
            "count": 0
           },
           {
            "bin_start": 0.5,
            "bin_end": 0.6000000000000001,
            "count": 0
           },
           {
            "bin_start": 0.6000000000000001,
            "bin_end": 0.7000000000000001,
            "count": 0
           },
           {
            "bin_start": 0.7000000000000001,
            "bin_end": 0.8,
            "count": 0
           },
           {
            "bin_start": 0.8,
            "bin_end": 0.9,
            "count": 0
           },
           {
            "bin_start": 0.9,
            "bin_end": 1,
            "count": 1
           }
          ]
         }
        },
        {
         "name": "Thunder Pokémon",
         "dtype": "float64",
         "stats": {
          "unique_count": 2,
          "nan_count": 0,
          "min": "0.0",
          "max": "1.0",
          "histogram": [
           {
            "bin_start": 0,
            "bin_end": 0.1,
            "count": 800
           },
           {
            "bin_start": 0.1,
            "bin_end": 0.2,
            "count": 0
           },
           {
            "bin_start": 0.2,
            "bin_end": 0.30000000000000004,
            "count": 0
           },
           {
            "bin_start": 0.30000000000000004,
            "bin_end": 0.4,
            "count": 0
           },
           {
            "bin_start": 0.4,
            "bin_end": 0.5,
            "count": 0
           },
           {
            "bin_start": 0.5,
            "bin_end": 0.6000000000000001,
            "count": 0
           },
           {
            "bin_start": 0.6000000000000001,
            "bin_end": 0.7000000000000001,
            "count": 0
           },
           {
            "bin_start": 0.7000000000000001,
            "bin_end": 0.8,
            "count": 0
           },
           {
            "bin_start": 0.8,
            "bin_end": 0.9,
            "count": 0
           },
           {
            "bin_start": 0.9,
            "bin_end": 1,
            "count": 1
           }
          ]
         }
        },
        {
         "name": "Grassy Surge",
         "dtype": "float64",
         "stats": {
          "unique_count": 2,
          "nan_count": 0,
          "min": "0.0",
          "max": "1.0",
          "histogram": [
           {
            "bin_start": 0,
            "bin_end": 0.1,
            "count": 800
           },
           {
            "bin_start": 0.1,
            "bin_end": 0.2,
            "count": 0
           },
           {
            "bin_start": 0.2,
            "bin_end": 0.30000000000000004,
            "count": 0
           },
           {
            "bin_start": 0.30000000000000004,
            "bin_end": 0.4,
            "count": 0
           },
           {
            "bin_start": 0.4,
            "bin_end": 0.5,
            "count": 0
           },
           {
            "bin_start": 0.5,
            "bin_end": 0.6000000000000001,
            "count": 0
           },
           {
            "bin_start": 0.6000000000000001,
            "bin_end": 0.7000000000000001,
            "count": 0
           },
           {
            "bin_start": 0.7000000000000001,
            "bin_end": 0.8,
            "count": 0
           },
           {
            "bin_start": 0.8,
            "bin_end": 0.9,
            "count": 0
           },
           {
            "bin_start": 0.9,
            "bin_end": 1,
            "count": 1
           }
          ]
         }
        },
        {
         "name": "Misty Surge",
         "dtype": "float64",
         "stats": {
          "unique_count": 2,
          "nan_count": 0,
          "min": "0.0",
          "max": "1.0",
          "histogram": [
           {
            "bin_start": 0,
            "bin_end": 0.1,
            "count": 800
           },
           {
            "bin_start": 0.1,
            "bin_end": 0.2,
            "count": 0
           },
           {
            "bin_start": 0.2,
            "bin_end": 0.30000000000000004,
            "count": 0
           },
           {
            "bin_start": 0.30000000000000004,
            "bin_end": 0.4,
            "count": 0
           },
           {
            "bin_start": 0.4,
            "bin_end": 0.5,
            "count": 0
           },
           {
            "bin_start": 0.5,
            "bin_end": 0.6000000000000001,
            "count": 0
           },
           {
            "bin_start": 0.6000000000000001,
            "bin_end": 0.7000000000000001,
            "count": 0
           },
           {
            "bin_start": 0.7000000000000001,
            "bin_end": 0.8,
            "count": 0
           },
           {
            "bin_start": 0.8,
            "bin_end": 0.9,
            "count": 0
           },
           {
            "bin_start": 0.9,
            "bin_end": 1,
            "count": 1
           }
          ]
         }
        },
        {
         "name": "Sunne Pokémon",
         "dtype": "float64",
         "stats": {
          "unique_count": 2,
          "nan_count": 0,
          "min": "0.0",
          "max": "1.0",
          "histogram": [
           {
            "bin_start": 0,
            "bin_end": 0.1,
            "count": 800
           },
           {
            "bin_start": 0.1,
            "bin_end": 0.2,
            "count": 0
           },
           {
            "bin_start": 0.2,
            "bin_end": 0.30000000000000004,
            "count": 0
           },
           {
            "bin_start": 0.30000000000000004,
            "bin_end": 0.4,
            "count": 0
           },
           {
            "bin_start": 0.4,
            "bin_end": 0.5,
            "count": 0
           },
           {
            "bin_start": 0.5,
            "bin_end": 0.6000000000000001,
            "count": 0
           },
           {
            "bin_start": 0.6000000000000001,
            "bin_end": 0.7000000000000001,
            "count": 0
           },
           {
            "bin_start": 0.7000000000000001,
            "bin_end": 0.8,
            "count": 0
           },
           {
            "bin_start": 0.8,
            "bin_end": 0.9,
            "count": 0
           },
           {
            "bin_start": 0.9,
            "bin_end": 1,
            "count": 1
           }
          ]
         }
        },
        {
         "name": "Nebula Pokémon",
         "dtype": "float64",
         "stats": {
          "unique_count": 2,
          "nan_count": 0,
          "min": "0.0",
          "max": "1.0",
          "histogram": [
           {
            "bin_start": 0,
            "bin_end": 0.1,
            "count": 800
           },
           {
            "bin_start": 0.1,
            "bin_end": 0.2,
            "count": 0
           },
           {
            "bin_start": 0.2,
            "bin_end": 0.30000000000000004,
            "count": 0
           },
           {
            "bin_start": 0.30000000000000004,
            "bin_end": 0.4,
            "count": 0
           },
           {
            "bin_start": 0.4,
            "bin_end": 0.5,
            "count": 0
           },
           {
            "bin_start": 0.5,
            "bin_end": 0.6000000000000001,
            "count": 0
           },
           {
            "bin_start": 0.6000000000000001,
            "bin_end": 0.7000000000000001,
            "count": 0
           },
           {
            "bin_start": 0.7000000000000001,
            "bin_end": 0.8,
            "count": 0
           },
           {
            "bin_start": 0.8,
            "bin_end": 0.9,
            "count": 0
           },
           {
            "bin_start": 0.9,
            "bin_end": 1,
            "count": 1
           }
          ]
         }
        },
        {
         "name": "Aurora Pokémon",
         "dtype": "float64",
         "stats": {
          "unique_count": 2,
          "nan_count": 0,
          "min": "0.0",
          "max": "1.0",
          "histogram": [
           {
            "bin_start": 0,
            "bin_end": 0.1,
            "count": 800
           },
           {
            "bin_start": 0.1,
            "bin_end": 0.2,
            "count": 0
           },
           {
            "bin_start": 0.2,
            "bin_end": 0.30000000000000004,
            "count": 0
           },
           {
            "bin_start": 0.30000000000000004,
            "bin_end": 0.4,
            "count": 0
           },
           {
            "bin_start": 0.4,
            "bin_end": 0.5,
            "count": 0
           },
           {
            "bin_start": 0.5,
            "bin_end": 0.6000000000000001,
            "count": 0
           },
           {
            "bin_start": 0.6000000000000001,
            "bin_end": 0.7000000000000001,
            "count": 0
           },
           {
            "bin_start": 0.7000000000000001,
            "bin_end": 0.8,
            "count": 0
           },
           {
            "bin_start": 0.8,
            "bin_end": 0.9,
            "count": 0
           },
           {
            "bin_start": 0.9,
            "bin_end": 1,
            "count": 1
           }
          ]
         }
        },
        {
         "name": "Moone Pokémon",
         "dtype": "float64",
         "stats": {
          "unique_count": 2,
          "nan_count": 0,
          "min": "0.0",
          "max": "1.0",
          "histogram": [
           {
            "bin_start": 0,
            "bin_end": 0.1,
            "count": 800
           },
           {
            "bin_start": 0.1,
            "bin_end": 0.2,
            "count": 0
           },
           {
            "bin_start": 0.2,
            "bin_end": 0.30000000000000004,
            "count": 0
           },
           {
            "bin_start": 0.30000000000000004,
            "bin_end": 0.4,
            "count": 0
           },
           {
            "bin_start": 0.4,
            "bin_end": 0.5,
            "count": 0
           },
           {
            "bin_start": 0.5,
            "bin_end": 0.6000000000000001,
            "count": 0
           },
           {
            "bin_start": 0.6000000000000001,
            "bin_end": 0.7000000000000001,
            "count": 0
           },
           {
            "bin_start": 0.7000000000000001,
            "bin_end": 0.8,
            "count": 0
           },
           {
            "bin_start": 0.8,
            "bin_end": 0.9,
            "count": 0
           },
           {
            "bin_start": 0.9,
            "bin_end": 1,
            "count": 1
           }
          ]
         }
        },
        {
         "name": "Full Metal Body",
         "dtype": "float64",
         "stats": {
          "unique_count": 2,
          "nan_count": 0,
          "min": "0.0",
          "max": "1.0",
          "histogram": [
           {
            "bin_start": 0,
            "bin_end": 0.1,
            "count": 800
           },
           {
            "bin_start": 0.1,
            "bin_end": 0.2,
            "count": 0
           },
           {
            "bin_start": 0.2,
            "bin_end": 0.30000000000000004,
            "count": 0
           },
           {
            "bin_start": 0.30000000000000004,
            "bin_end": 0.4,
            "count": 0
           },
           {
            "bin_start": 0.4,
            "bin_end": 0.5,
            "count": 0
           },
           {
            "bin_start": 0.5,
            "bin_end": 0.6000000000000001,
            "count": 0
           },
           {
            "bin_start": 0.6000000000000001,
            "bin_end": 0.7000000000000001,
            "count": 0
           },
           {
            "bin_start": 0.7000000000000001,
            "bin_end": 0.8,
            "count": 0
           },
           {
            "bin_start": 0.8,
            "bin_end": 0.9,
            "count": 0
           },
           {
            "bin_start": 0.9,
            "bin_end": 1,
            "count": 1
           }
          ]
         }
        },
        {
         "name": "Lissome Pokémon",
         "dtype": "float64",
         "stats": {
          "unique_count": 2,
          "nan_count": 0,
          "min": "0.0",
          "max": "1.0",
          "histogram": [
           {
            "bin_start": 0,
            "bin_end": 0.1,
            "count": 800
           },
           {
            "bin_start": 0.1,
            "bin_end": 0.2,
            "count": 0
           },
           {
            "bin_start": 0.2,
            "bin_end": 0.30000000000000004,
            "count": 0
           },
           {
            "bin_start": 0.30000000000000004,
            "bin_end": 0.4,
            "count": 0
           },
           {
            "bin_start": 0.4,
            "bin_end": 0.5,
            "count": 0
           },
           {
            "bin_start": 0.5,
            "bin_end": 0.6000000000000001,
            "count": 0
           },
           {
            "bin_start": 0.6000000000000001,
            "bin_end": 0.7000000000000001,
            "count": 0
           },
           {
            "bin_start": 0.7000000000000001,
            "bin_end": 0.8,
            "count": 0
           },
           {
            "bin_start": 0.8,
            "bin_end": 0.9,
            "count": 0
           },
           {
            "bin_start": 0.9,
            "bin_end": 1,
            "count": 1
           }
          ]
         }
        },
        {
         "name": "Swollen Pokémon",
         "dtype": "float64",
         "stats": {
          "unique_count": 2,
          "nan_count": 0,
          "min": "0.0",
          "max": "1.0",
          "histogram": [
           {
            "bin_start": 0,
            "bin_end": 0.1,
            "count": 800
           },
           {
            "bin_start": 0.1,
            "bin_end": 0.2,
            "count": 0
           },
           {
            "bin_start": 0.2,
            "bin_end": 0.30000000000000004,
            "count": 0
           },
           {
            "bin_start": 0.30000000000000004,
            "bin_end": 0.4,
            "count": 0
           },
           {
            "bin_start": 0.4,
            "bin_end": 0.5,
            "count": 0
           },
           {
            "bin_start": 0.5,
            "bin_end": 0.6000000000000001,
            "count": 0
           },
           {
            "bin_start": 0.6000000000000001,
            "bin_end": 0.7000000000000001,
            "count": 0
           },
           {
            "bin_start": 0.7000000000000001,
            "bin_end": 0.8,
            "count": 0
           },
           {
            "bin_start": 0.8,
            "bin_end": 0.9,
            "count": 0
           },
           {
            "bin_start": 0.9,
            "bin_end": 1,
            "count": 1
           }
          ]
         }
        },
        {
         "name": "Shadow Shield",
         "dtype": "float64",
         "stats": {
          "unique_count": 2,
          "nan_count": 0,
          "min": "0.0",
          "max": "1.0",
          "histogram": [
           {
            "bin_start": 0,
            "bin_end": 0.1,
            "count": 800
           },
           {
            "bin_start": 0.1,
            "bin_end": 0.2,
            "count": 0
           },
           {
            "bin_start": 0.2,
            "bin_end": 0.30000000000000004,
            "count": 0
           },
           {
            "bin_start": 0.30000000000000004,
            "bin_end": 0.4,
            "count": 0
           },
           {
            "bin_start": 0.4,
            "bin_end": 0.5,
            "count": 0
           },
           {
            "bin_start": 0.5,
            "bin_end": 0.6000000000000001,
            "count": 0
           },
           {
            "bin_start": 0.6000000000000001,
            "bin_end": 0.7000000000000001,
            "count": 0
           },
           {
            "bin_start": 0.7000000000000001,
            "bin_end": 0.8,
            "count": 0
           },
           {
            "bin_start": 0.8,
            "bin_end": 0.9,
            "count": 0
           },
           {
            "bin_start": 0.9,
            "bin_end": 1,
            "count": 1
           }
          ]
         }
        },
        {
         "name": "Melody Pokémon",
         "dtype": "float64",
         "stats": {
          "unique_count": 2,
          "nan_count": 0,
          "min": "0.0",
          "max": "1.0",
          "histogram": [
           {
            "bin_start": 0,
            "bin_end": 0.1,
            "count": 800
           },
           {
            "bin_start": 0.1,
            "bin_end": 0.2,
            "count": 0
           },
           {
            "bin_start": 0.2,
            "bin_end": 0.30000000000000004,
            "count": 0
           },
           {
            "bin_start": 0.30000000000000004,
            "bin_end": 0.4,
            "count": 0
           },
           {
            "bin_start": 0.4,
            "bin_end": 0.5,
            "count": 0
           },
           {
            "bin_start": 0.5,
            "bin_end": 0.6000000000000001,
            "count": 0
           },
           {
            "bin_start": 0.6000000000000001,
            "bin_end": 0.7000000000000001,
            "count": 0
           },
           {
            "bin_start": 0.7000000000000001,
            "bin_end": 0.8,
            "count": 0
           },
           {
            "bin_start": 0.8,
            "bin_end": 0.9,
            "count": 0
           },
           {
            "bin_start": 0.9,
            "bin_end": 1,
            "count": 1
           }
          ]
         }
        },
        {
         "name": "Abundance Pokémon",
         "dtype": "float64",
         "stats": {
          "unique_count": 2,
          "nan_count": 0,
          "min": "0.0",
          "max": "1.0",
          "histogram": [
           {
            "bin_start": 0,
            "bin_end": 0.1,
            "count": 800
           },
           {
            "bin_start": 0.1,
            "bin_end": 0.2,
            "count": 0
           },
           {
            "bin_start": 0.2,
            "bin_end": 0.30000000000000004,
            "count": 0
           },
           {
            "bin_start": 0.30000000000000004,
            "bin_end": 0.4,
            "count": 0
           },
           {
            "bin_start": 0.4,
            "bin_end": 0.5,
            "count": 0
           },
           {
            "bin_start": 0.5,
            "bin_end": 0.6000000000000001,
            "count": 0
           },
           {
            "bin_start": 0.6000000000000001,
            "bin_end": 0.7000000000000001,
            "count": 0
           },
           {
            "bin_start": 0.7000000000000001,
            "bin_end": 0.8,
            "count": 0
           },
           {
            "bin_start": 0.8,
            "bin_end": 0.9,
            "count": 0
           },
           {
            "bin_start": 0.9,
            "bin_end": 1,
            "count": 1
           }
          ]
         }
        },
        {
         "name": "Boundary Pokémon",
         "dtype": "float64",
         "stats": {
          "unique_count": 2,
          "nan_count": 0,
          "min": "0.0",
          "max": "1.0",
          "histogram": [
           {
            "bin_start": 0,
            "bin_end": 0.1,
            "count": 800
           },
           {
            "bin_start": 0.1,
            "bin_end": 0.2,
            "count": 0
           },
           {
            "bin_start": 0.2,
            "bin_end": 0.30000000000000004,
            "count": 0
           },
           {
            "bin_start": 0.30000000000000004,
            "bin_end": 0.4,
            "count": 0
           },
           {
            "bin_start": 0.4,
            "bin_end": 0.5,
            "count": 0
           },
           {
            "bin_start": 0.5,
            "bin_end": 0.6000000000000001,
            "count": 0
           },
           {
            "bin_start": 0.6000000000000001,
            "bin_end": 0.7000000000000001,
            "count": 0
           },
           {
            "bin_start": 0.7000000000000001,
            "bin_end": 0.8,
            "count": 0
           },
           {
            "bin_start": 0.8,
            "bin_end": 0.9,
            "count": 0
           },
           {
            "bin_start": 0.9,
            "bin_end": 1,
            "count": 1
           }
          ]
         }
        },
        {
         "name": "Bolt Strike Pokémon",
         "dtype": "float64",
         "stats": {
          "unique_count": 2,
          "nan_count": 0,
          "min": "0.0",
          "max": "1.0",
          "histogram": [
           {
            "bin_start": 0,
            "bin_end": 0.1,
            "count": 800
           },
           {
            "bin_start": 0.1,
            "bin_end": 0.2,
            "count": 0
           },
           {
            "bin_start": 0.2,
            "bin_end": 0.30000000000000004,
            "count": 0
           },
           {
            "bin_start": 0.30000000000000004,
            "bin_end": 0.4,
            "count": 0
           },
           {
            "bin_start": 0.4,
            "bin_end": 0.5,
            "count": 0
           },
           {
            "bin_start": 0.5,
            "bin_end": 0.6000000000000001,
            "count": 0
           },
           {
            "bin_start": 0.6000000000000001,
            "bin_end": 0.7000000000000001,
            "count": 0
           },
           {
            "bin_start": 0.7000000000000001,
            "bin_end": 0.8,
            "count": 0
           },
           {
            "bin_start": 0.8,
            "bin_end": 0.9,
            "count": 0
           },
           {
            "bin_start": 0.9,
            "bin_end": 1,
            "count": 1
           }
          ]
         }
        },
        {
         "name": "Colt Pokémon",
         "dtype": "float64",
         "stats": {
          "unique_count": 2,
          "nan_count": 0,
          "min": "0.0",
          "max": "1.0",
          "histogram": [
           {
            "bin_start": 0,
            "bin_end": 0.1,
            "count": 800
           },
           {
            "bin_start": 0.1,
            "bin_end": 0.2,
            "count": 0
           },
           {
            "bin_start": 0.2,
            "bin_end": 0.30000000000000004,
            "count": 0
           },
           {
            "bin_start": 0.30000000000000004,
            "bin_end": 0.4,
            "count": 0
           },
           {
            "bin_start": 0.4,
            "bin_end": 0.5,
            "count": 0
           },
           {
            "bin_start": 0.5,
            "bin_end": 0.6000000000000001,
            "count": 0
           },
           {
            "bin_start": 0.6000000000000001,
            "bin_end": 0.7000000000000001,
            "count": 0
           },
           {
            "bin_start": 0.7000000000000001,
            "bin_end": 0.8,
            "count": 0
           },
           {
            "bin_start": 0.8,
            "bin_end": 0.9,
            "count": 0
           },
           {
            "bin_start": 0.9,
            "bin_end": 1,
            "count": 1
           }
          ]
         }
        },
        {
         "name": "Vast White Pokémon",
         "dtype": "float64",
         "stats": {
          "unique_count": 2,
          "nan_count": 0,
          "min": "0.0",
          "max": "1.0",
          "histogram": [
           {
            "bin_start": 0,
            "bin_end": 0.1,
            "count": 800
           },
           {
            "bin_start": 0.1,
            "bin_end": 0.2,
            "count": 0
           },
           {
            "bin_start": 0.2,
            "bin_end": 0.30000000000000004,
            "count": 0
           },
           {
            "bin_start": 0.30000000000000004,
            "bin_end": 0.4,
            "count": 0
           },
           {
            "bin_start": 0.4,
            "bin_end": 0.5,
            "count": 0
           },
           {
            "bin_start": 0.5,
            "bin_end": 0.6000000000000001,
            "count": 0
           },
           {
            "bin_start": 0.6000000000000001,
            "bin_end": 0.7000000000000001,
            "count": 0
           },
           {
            "bin_start": 0.7000000000000001,
            "bin_end": 0.8,
            "count": 0
           },
           {
            "bin_start": 0.8,
            "bin_end": 0.9,
            "count": 0
           },
           {
            "bin_start": 0.9,
            "bin_end": 1,
            "count": 1
           }
          ]
         }
        },
        {
         "name": "Paleozoic Pokémon",
         "dtype": "float64",
         "stats": {
          "unique_count": 2,
          "nan_count": 0,
          "min": "0.0",
          "max": "1.0",
          "histogram": [
           {
            "bin_start": 0,
            "bin_end": 0.1,
            "count": 800
           },
           {
            "bin_start": 0.1,
            "bin_end": 0.2,
            "count": 0
           },
           {
            "bin_start": 0.2,
            "bin_end": 0.30000000000000004,
            "count": 0
           },
           {
            "bin_start": 0.30000000000000004,
            "bin_end": 0.4,
            "count": 0
           },
           {
            "bin_start": 0.4,
            "bin_end": 0.5,
            "count": 0
           },
           {
            "bin_start": 0.5,
            "bin_end": 0.6000000000000001,
            "count": 0
           },
           {
            "bin_start": 0.6000000000000001,
            "bin_end": 0.7000000000000001,
            "count": 0
           },
           {
            "bin_start": 0.7000000000000001,
            "bin_end": 0.8,
            "count": 0
           },
           {
            "bin_start": 0.8,
            "bin_end": 0.9,
            "count": 0
           },
           {
            "bin_start": 0.9,
            "bin_end": 1,
            "count": 1
           }
          ]
         }
        },
        {
         "name": "Iron Will Pokémon",
         "dtype": "float64",
         "stats": {
          "unique_count": 2,
          "nan_count": 0,
          "min": "0.0",
          "max": "1.0",
          "histogram": [
           {
            "bin_start": 0,
            "bin_end": 0.1,
            "count": 800
           },
           {
            "bin_start": 0.1,
            "bin_end": 0.2,
            "count": 0
           },
           {
            "bin_start": 0.2,
            "bin_end": 0.30000000000000004,
            "count": 0
           },
           {
            "bin_start": 0.30000000000000004,
            "bin_end": 0.4,
            "count": 0
           },
           {
            "bin_start": 0.4,
            "bin_end": 0.5,
            "count": 0
           },
           {
            "bin_start": 0.5,
            "bin_end": 0.6000000000000001,
            "count": 0
           },
           {
            "bin_start": 0.6000000000000001,
            "bin_end": 0.7000000000000001,
            "count": 0
           },
           {
            "bin_start": 0.7000000000000001,
            "bin_end": 0.8,
            "count": 0
           },
           {
            "bin_start": 0.8,
            "bin_end": 0.9,
            "count": 0
           },
           {
            "bin_start": 0.9,
            "bin_end": 1,
            "count": 1
           }
          ]
         }
        },
        {
         "name": "Deep Black Pokémon",
         "dtype": "float64",
         "stats": {
          "unique_count": 2,
          "nan_count": 0,
          "min": "0.0",
          "max": "1.0",
          "histogram": [
           {
            "bin_start": 0,
            "bin_end": 0.1,
            "count": 800
           },
           {
            "bin_start": 0.1,
            "bin_end": 0.2,
            "count": 0
           },
           {
            "bin_start": 0.2,
            "bin_end": 0.30000000000000004,
            "count": 0
           },
           {
            "bin_start": 0.30000000000000004,
            "bin_end": 0.4,
            "count": 0
           },
           {
            "bin_start": 0.4,
            "bin_end": 0.5,
            "count": 0
           },
           {
            "bin_start": 0.5,
            "bin_end": 0.6000000000000001,
            "count": 0
           },
           {
            "bin_start": 0.6000000000000001,
            "bin_end": 0.7000000000000001,
            "count": 0
           },
           {
            "bin_start": 0.7000000000000001,
            "bin_end": 0.8,
            "count": 0
           },
           {
            "bin_start": 0.8,
            "bin_end": 0.9,
            "count": 0
           },
           {
            "bin_start": 0.9,
            "bin_end": 1,
            "count": 1
           }
          ]
         }
        },
        {
         "name": "Cyclone Pokémon",
         "dtype": "float64",
         "stats": {
          "unique_count": 2,
          "nan_count": 0,
          "min": "0.0",
          "max": "1.0",
          "histogram": [
           {
            "bin_start": 0,
            "bin_end": 0.1,
            "count": 800
           },
           {
            "bin_start": 0.1,
            "bin_end": 0.2,
            "count": 0
           },
           {
            "bin_start": 0.2,
            "bin_end": 0.30000000000000004,
            "count": 0
           },
           {
            "bin_start": 0.30000000000000004,
            "bin_end": 0.4,
            "count": 0
           },
           {
            "bin_start": 0.4,
            "bin_end": 0.5,
            "count": 0
           },
           {
            "bin_start": 0.5,
            "bin_end": 0.6000000000000001,
            "count": 0
           },
           {
            "bin_start": 0.6000000000000001,
            "bin_end": 0.7000000000000001,
            "count": 0
           },
           {
            "bin_start": 0.7000000000000001,
            "bin_end": 0.8,
            "count": 0
           },
           {
            "bin_start": 0.8,
            "bin_end": 0.9,
            "count": 0
           },
           {
            "bin_start": 0.9,
            "bin_end": 1,
            "count": 1
           }
          ]
         }
        },
        {
         "name": "Grassland Pokémon",
         "dtype": "float64",
         "stats": {
          "unique_count": 2,
          "nan_count": 0,
          "min": "0.0",
          "max": "1.0",
          "histogram": [
           {
            "bin_start": 0,
            "bin_end": 0.1,
            "count": 800
           },
           {
            "bin_start": 0.1,
            "bin_end": 0.2,
            "count": 0
           },
           {
            "bin_start": 0.2,
            "bin_end": 0.30000000000000004,
            "count": 0
           },
           {
            "bin_start": 0.30000000000000004,
            "bin_end": 0.4,
            "count": 0
           },
           {
            "bin_start": 0.4,
            "bin_end": 0.5,
            "count": 0
           },
           {
            "bin_start": 0.5,
            "bin_end": 0.6000000000000001,
            "count": 0
           },
           {
            "bin_start": 0.6000000000000001,
            "bin_end": 0.7000000000000001,
            "count": 0
           },
           {
            "bin_start": 0.7000000000000001,
            "bin_end": 0.8,
            "count": 0
           },
           {
            "bin_start": 0.8,
            "bin_end": 0.9,
            "count": 0
           },
           {
            "bin_start": 0.9,
            "bin_end": 1,
            "count": 1
           }
          ]
         }
        },
        {
         "name": "Cavern Pokémon",
         "dtype": "float64",
         "stats": {
          "unique_count": 2,
          "nan_count": 0,
          "min": "0.0",
          "max": "1.0",
          "histogram": [
           {
            "bin_start": 0,
            "bin_end": 0.1,
            "count": 800
           },
           {
            "bin_start": 0.1,
            "bin_end": 0.2,
            "count": 0
           },
           {
            "bin_start": 0.2,
            "bin_end": 0.30000000000000004,
            "count": 0
           },
           {
            "bin_start": 0.30000000000000004,
            "bin_end": 0.4,
            "count": 0
           },
           {
            "bin_start": 0.4,
            "bin_end": 0.5,
            "count": 0
           },
           {
            "bin_start": 0.5,
            "bin_end": 0.6000000000000001,
            "count": 0
           },
           {
            "bin_start": 0.6000000000000001,
            "bin_end": 0.7000000000000001,
            "count": 0
           },
           {
            "bin_start": 0.7000000000000001,
            "bin_end": 0.8,
            "count": 0
           },
           {
            "bin_start": 0.8,
            "bin_end": 0.9,
            "count": 0
           },
           {
            "bin_start": 0.9,
            "bin_end": 1,
            "count": 1
           }
          ]
         }
        },
        {
         "name": "1dragon",
         "dtype": "float64",
         "stats": {
          "unique_count": 2,
          "nan_count": 0,
          "min": "0.0",
          "max": "1.0",
          "histogram": [
           {
            "bin_start": 0,
            "bin_end": 0.1,
            "count": 774
           },
           {
            "bin_start": 0.1,
            "bin_end": 0.2,
            "count": 0
           },
           {
            "bin_start": 0.2,
            "bin_end": 0.30000000000000004,
            "count": 0
           },
           {
            "bin_start": 0.30000000000000004,
            "bin_end": 0.4,
            "count": 0
           },
           {
            "bin_start": 0.4,
            "bin_end": 0.5,
            "count": 0
           },
           {
            "bin_start": 0.5,
            "bin_end": 0.6000000000000001,
            "count": 0
           },
           {
            "bin_start": 0.6000000000000001,
            "bin_end": 0.7000000000000001,
            "count": 0
           },
           {
            "bin_start": 0.7000000000000001,
            "bin_end": 0.8,
            "count": 0
           },
           {
            "bin_start": 0.8,
            "bin_end": 0.9,
            "count": 0
           },
           {
            "bin_start": 0.9,
            "bin_end": 1,
            "count": 27
           }
          ]
         }
        },
        {
         "name": "against_psychic",
         "dtype": "float64",
         "stats": {
          "unique_count": 6,
          "nan_count": 0,
          "min": "0.0",
          "max": "1.0",
          "histogram": [
           {
            "bin_start": 0,
            "bin_end": 0.1,
            "count": 53
           },
           {
            "bin_start": 0.1,
            "bin_end": 0.2,
            "count": 105
           },
           {
            "bin_start": 0.2,
            "bin_end": 0.30000000000000004,
            "count": 539
           },
           {
            "bin_start": 0.30000000000000004,
            "bin_end": 0.4,
            "count": 0
           },
           {
            "bin_start": 0.4,
            "bin_end": 0.5,
            "count": 0
           },
           {
            "bin_start": 0.5,
            "bin_end": 0.6000000000000001,
            "count": 102
           },
           {
            "bin_start": 0.6000000000000001,
            "bin_end": 0.7000000000000001,
            "count": 0
           },
           {
            "bin_start": 0.7000000000000001,
            "bin_end": 0.8,
            "count": 0
           },
           {
            "bin_start": 0.8,
            "bin_end": 0.9,
            "count": 0
           },
           {
            "bin_start": 0.9,
            "bin_end": 1,
            "count": 2
           }
          ]
         }
        },
        {
         "name": "1steel",
         "dtype": "float64",
         "stats": {
          "unique_count": 2,
          "nan_count": 0,
          "min": "0.0",
          "max": "1.0",
          "histogram": [
           {
            "bin_start": 0,
            "bin_end": 0.1,
            "count": 777
           },
           {
            "bin_start": 0.1,
            "bin_end": 0.2,
            "count": 0
           },
           {
            "bin_start": 0.2,
            "bin_end": 0.30000000000000004,
            "count": 0
           },
           {
            "bin_start": 0.30000000000000004,
            "bin_end": 0.4,
            "count": 0
           },
           {
            "bin_start": 0.4,
            "bin_end": 0.5,
            "count": 0
           },
           {
            "bin_start": 0.5,
            "bin_end": 0.6000000000000001,
            "count": 0
           },
           {
            "bin_start": 0.6000000000000001,
            "bin_end": 0.7000000000000001,
            "count": 0
           },
           {
            "bin_start": 0.7000000000000001,
            "bin_end": 0.8,
            "count": 0
           },
           {
            "bin_start": 0.8,
            "bin_end": 0.9,
            "count": 0
           },
           {
            "bin_start": 0.9,
            "bin_end": 1,
            "count": 24
           }
          ]
         }
        },
        {
         "name": "Clear Body",
         "dtype": "float64",
         "stats": {
          "unique_count": 2,
          "nan_count": 0,
          "min": "0.0",
          "max": "1.0",
          "histogram": [
           {
            "bin_start": 0,
            "bin_end": 0.1,
            "count": 788
           },
           {
            "bin_start": 0.1,
            "bin_end": 0.2,
            "count": 0
           },
           {
            "bin_start": 0.2,
            "bin_end": 0.30000000000000004,
            "count": 0
           },
           {
            "bin_start": 0.30000000000000004,
            "bin_end": 0.4,
            "count": 0
           },
           {
            "bin_start": 0.4,
            "bin_end": 0.5,
            "count": 0
           },
           {
            "bin_start": 0.5,
            "bin_end": 0.6000000000000001,
            "count": 0
           },
           {
            "bin_start": 0.6000000000000001,
            "bin_end": 0.7000000000000001,
            "count": 0
           },
           {
            "bin_start": 0.7000000000000001,
            "bin_end": 0.8,
            "count": 0
           },
           {
            "bin_start": 0.8,
            "bin_end": 0.9,
            "count": 0
           },
           {
            "bin_start": 0.9,
            "bin_end": 1,
            "count": 13
           }
          ]
         }
        },
        {
         "name": "_deepnote_index_column",
         "dtype": "int64"
        }
       ],
       "rows_top": [
        {
         "is_legendary": 0,
         "base_egg_steps": 0.13043478260869565,
         "base_total": 0.22999999999999998,
         "base_happiness": 0.5,
         "sp_attack": 0.29891304347826086,
         "weight_kg": 0.006801360272054411,
         "experience_growth": 0.44217307692307695,
         "sp_defense": 0.2142857142857143,
         "capture_rate": 0.16666666666666663,
         "height_m": 0.041666666666666664,
         "speed": 0.22857142857142854,
         "hp": 0.1732283464566929,
         "Beast Boost": 0,
         "attack": 0.24444444444444446,
         "Pressure": 0,
         "defense": 0.19555555555555554,
         "Land Spirit Pokémon": 0,
         "1psychic": 0,
         "pokedex_number": 0,
         "against_ghost": 0.25,
         "Eon Pokémon": 0,
         "Turboblaze": 0,
         "Teravolt": 0,
         "Telepathy": 0,
         "generation": 0,
         "against_dark": 0.2,
         "Justified": 0,
         "New Species Pokémon": 0,
         "Sky High Pokémon": 0,
         "Air Lock": 0,
         "DNA Pokémon": 0,
         "Sea Basin Pokémon": 0,
         "Knowledge Pokémon": 0,
         "Wish Pokémon": 0,
         "Genetic Pokémon": 0,
         "Rock Peak Pokémon": 0,
         "Freeze Pokémon": 0,
         "Iron Pokémon": 0,
         "Bad Dreams": 0,
         "Slow Start": 0,
         "Victory Star": 0,
         "Prism Armor": 0,
         "Prism Pokémon": 0,
         "Victory Pokémon": 0,
         "Psychic Surge": 0,
         "Pitch-Black Pokémon": 0,
         "Willpower Pokémon": 0,
         "Aura Break": 0,
         "Power Construct": 0,
         "Seafaring Pokémon": 0,
         "Lava Dome Pokémon": 0,
         "Colossal Pokémon": 0,
         "Mischief Pokémon (Confined)Djinn Pokémonn (Unbound)": 0,
         "Gratitude Pokémon": 0,
         "Order Pokémon": 0,
         "Steam Pokémon": 0,
         "Spatial Pokémon": 0,
         "Life Pokémon": 0,
         "Junkivore Pokémon": 0,
         "Lunar Pokémon": 0,
         "Renegade Pokémon": 0,
         "Launch Pokémon": 0,
         "Rainbow Pokémon": 0,
         "Multitype": 0,
         "Artificial Pokémon": 0,
         "Protostar Pokémon": 0,
         "Glowing Pokémon": 0,
         "Parasite Pokémon": 0,
         "Temporal Pokémon": 0,
         "Time Travel Pokémon": 0,
         "Soul-Heart": 0,
         "Drawn Sword Pokémon": 0,
         "Alpha Pokémon": 0,
         "Dark Aura": 0,
         "Diving Pokémon": 0,
         "Fairy Aura": 0,
         "Electric Surge": 0,
         "Destruction Pokémon": 0,
         "Thunder Pokémon": 0,
         "Grassy Surge": 0,
         "Misty Surge": 0,
         "Sunne Pokémon": 0,
         "Nebula Pokémon": 0,
         "Aurora Pokémon": 0,
         "Moone Pokémon": 0,
         "Full Metal Body": 0,
         "Lissome Pokémon": 0,
         "Swollen Pokémon": 0,
         "Shadow Shield": 0,
         "Melody Pokémon": 0,
         "Abundance Pokémon": 0,
         "Boundary Pokémon": 0,
         "Bolt Strike Pokémon": 0,
         "Colt Pokémon": 0,
         "Vast White Pokémon": 0,
         "Paleozoic Pokémon": 0,
         "Iron Will Pokémon": 0,
         "Deep Black Pokémon": 0,
         "Cyclone Pokémon": 0,
         "Grassland Pokémon": 0,
         "Cavern Pokémon": 0,
         "1dragon": 0,
         "against_psychic": 0.5,
         "1steel": 0,
         "Clear Body": 0,
         "_deepnote_index_column": 0
        },
        {
         "is_legendary": 0,
         "base_egg_steps": 0.13043478260869565,
         "base_total": 0.375,
         "base_happiness": 0.5,
         "sp_attack": 0.3804347826086956,
         "weight_kg": 0.01290258051610322,
         "experience_growth": 0.44217307692307695,
         "sp_defense": 0.28571428571428575,
         "capture_rate": 0.16666666666666663,
         "height_m": 0.0625,
         "speed": 0.3142857142857143,
         "hp": 0.23228346456692914,
         "Beast Boost": 0,
         "attack": 0.31666666666666665,
         "Pressure": 0,
         "defense": 0.25777777777777783,
         "Land Spirit Pokémon": 0,
         "1psychic": 0,
         "pokedex_number": 0.00125,
         "against_ghost": 0.25,
         "Eon Pokémon": 0,
         "Turboblaze": 0,
         "Teravolt": 0,
         "Telepathy": 0,
         "generation": 0,
         "against_dark": 0.2,
         "Justified": 0,
         "New Species Pokémon": 0,
         "Sky High Pokémon": 0,
         "Air Lock": 0,
         "DNA Pokémon": 0,
         "Sea Basin Pokémon": 0,
         "Knowledge Pokémon": 0,
         "Wish Pokémon": 0,
         "Genetic Pokémon": 0,
         "Rock Peak Pokémon": 0,
         "Freeze Pokémon": 0,
         "Iron Pokémon": 0,
         "Bad Dreams": 0,
         "Slow Start": 0,
         "Victory Star": 0,
         "Prism Armor": 0,
         "Prism Pokémon": 0,
         "Victory Pokémon": 0,
         "Psychic Surge": 0,
         "Pitch-Black Pokémon": 0,
         "Willpower Pokémon": 0,
         "Aura Break": 0,
         "Power Construct": 0,
         "Seafaring Pokémon": 0,
         "Lava Dome Pokémon": 0,
         "Colossal Pokémon": 0,
         "Mischief Pokémon (Confined)Djinn Pokémonn (Unbound)": 0,
         "Gratitude Pokémon": 0,
         "Order Pokémon": 0,
         "Steam Pokémon": 0,
         "Spatial Pokémon": 0,
         "Life Pokémon": 0,
         "Junkivore Pokémon": 0,
         "Lunar Pokémon": 0,
         "Renegade Pokémon": 0,
         "Launch Pokémon": 0,
         "Rainbow Pokémon": 0,
         "Multitype": 0,
         "Artificial Pokémon": 0,
         "Protostar Pokémon": 0,
         "Glowing Pokémon": 0,
         "Parasite Pokémon": 0,
         "Temporal Pokémon": 0,
         "Time Travel Pokémon": 0,
         "Soul-Heart": 0,
         "Drawn Sword Pokémon": 0,
         "Alpha Pokémon": 0,
         "Dark Aura": 0,
         "Diving Pokémon": 0,
         "Fairy Aura": 0,
         "Electric Surge": 0,
         "Destruction Pokémon": 0,
         "Thunder Pokémon": 0,
         "Grassy Surge": 0,
         "Misty Surge": 0,
         "Sunne Pokémon": 0,
         "Nebula Pokémon": 0,
         "Aurora Pokémon": 0,
         "Moone Pokémon": 0,
         "Full Metal Body": 0,
         "Lissome Pokémon": 0,
         "Swollen Pokémon": 0,
         "Shadow Shield": 0,
         "Melody Pokémon": 0,
         "Abundance Pokémon": 0,
         "Boundary Pokémon": 0,
         "Bolt Strike Pokémon": 0,
         "Colt Pokémon": 0,
         "Vast White Pokémon": 0,
         "Paleozoic Pokémon": 0,
         "Iron Will Pokémon": 0,
         "Deep Black Pokémon": 0,
         "Cyclone Pokémon": 0,
         "Grassland Pokémon": 0,
         "Cavern Pokémon": 0,
         "1dragon": 0,
         "against_psychic": 0.5,
         "1steel": 0,
         "Clear Body": 0,
         "_deepnote_index_column": 1
        },
        {
         "is_legendary": 0,
         "base_egg_steps": 0.13043478260869565,
         "base_total": 0.7416666666666667,
         "base_happiness": 0.5,
         "sp_attack": 0.608695652173913,
         "weight_kg": 0.09991998399679936,
         "experience_growth": 0.44217307692307695,
         "sp_defense": 0.4761904761904763,
         "capture_rate": 0.16666666666666663,
         "height_m": 0.13194444444444445,
         "speed": 0.42857142857142855,
         "hp": 0.3110236220472441,
         "Beast Boost": 0,
         "attack": 0.5277777777777778,
         "Pressure": 0,
         "defense": 0.5244444444444444,
         "Land Spirit Pokémon": 0,
         "1psychic": 0,
         "pokedex_number": 0.0024999999999999996,
         "against_ghost": 0.25,
         "Eon Pokémon": 0,
         "Turboblaze": 0,
         "Teravolt": 0,
         "Telepathy": 0,
         "generation": 0,
         "against_dark": 0.2,
         "Justified": 0,
         "New Species Pokémon": 0,
         "Sky High Pokémon": 0,
         "Air Lock": 0,
         "DNA Pokémon": 0,
         "Sea Basin Pokémon": 0,
         "Knowledge Pokémon": 0,
         "Wish Pokémon": 0,
         "Genetic Pokémon": 0,
         "Rock Peak Pokémon": 0,
         "Freeze Pokémon": 0,
         "Iron Pokémon": 0,
         "Bad Dreams": 0,
         "Slow Start": 0,
         "Victory Star": 0,
         "Prism Armor": 0,
         "Prism Pokémon": 0,
         "Victory Pokémon": 0,
         "Psychic Surge": 0,
         "Pitch-Black Pokémon": 0,
         "Willpower Pokémon": 0,
         "Aura Break": 0,
         "Power Construct": 0,
         "Seafaring Pokémon": 0,
         "Lava Dome Pokémon": 0,
         "Colossal Pokémon": 0,
         "Mischief Pokémon (Confined)Djinn Pokémonn (Unbound)": 0,
         "Gratitude Pokémon": 0,
         "Order Pokémon": 0,
         "Steam Pokémon": 0,
         "Spatial Pokémon": 0,
         "Life Pokémon": 0,
         "Junkivore Pokémon": 0,
         "Lunar Pokémon": 0,
         "Renegade Pokémon": 0,
         "Launch Pokémon": 0,
         "Rainbow Pokémon": 0,
         "Multitype": 0,
         "Artificial Pokémon": 0,
         "Protostar Pokémon": 0,
         "Glowing Pokémon": 0,
         "Parasite Pokémon": 0,
         "Temporal Pokémon": 0,
         "Time Travel Pokémon": 0,
         "Soul-Heart": 0,
         "Drawn Sword Pokémon": 0,
         "Alpha Pokémon": 0,
         "Dark Aura": 0,
         "Diving Pokémon": 0,
         "Fairy Aura": 0,
         "Electric Surge": 0,
         "Destruction Pokémon": 0,
         "Thunder Pokémon": 0,
         "Grassy Surge": 0,
         "Misty Surge": 0,
         "Sunne Pokémon": 0,
         "Nebula Pokémon": 0,
         "Aurora Pokémon": 0,
         "Moone Pokémon": 0,
         "Full Metal Body": 0,
         "Lissome Pokémon": 0,
         "Swollen Pokémon": 0,
         "Shadow Shield": 0,
         "Melody Pokémon": 0,
         "Abundance Pokémon": 0,
         "Boundary Pokémon": 0,
         "Bolt Strike Pokémon": 0,
         "Colt Pokémon": 0,
         "Vast White Pokémon": 0,
         "Paleozoic Pokémon": 0,
         "Iron Will Pokémon": 0,
         "Deep Black Pokémon": 0,
         "Cyclone Pokémon": 0,
         "Grassland Pokémon": 0,
         "Cavern Pokémon": 0,
         "1dragon": 0,
         "against_psychic": 0.5,
         "1steel": 0,
         "Clear Body": 0,
         "_deepnote_index_column": 2
        },
        {
         "is_legendary": 0,
         "base_egg_steps": 0.13043478260869565,
         "base_total": 0.21499999999999997,
         "base_happiness": 0.5,
         "sp_attack": 0.2717391304347826,
         "weight_kg": 0.008401680336067212,
         "experience_growth": 0.44217307692307695,
         "sp_defense": 0.14285714285714285,
         "capture_rate": 0.16666666666666663,
         "height_m": 0.03472222222222222,
         "speed": 0.34285714285714286,
         "hp": 0.14960629921259844,
         "Beast Boost": 0,
         "attack": 0.2611111111111111,
         "Pressure": 0,
         "defense": 0.1688888888888889,
         "Land Spirit Pokémon": 0,
         "1psychic": 0,
         "pokedex_number": 0.00375,
         "against_ghost": 0.25,
         "Eon Pokémon": 0,
         "Turboblaze": 0,
         "Teravolt": 0,
         "Telepathy": 0,
         "generation": 0,
         "against_dark": 0.2,
         "Justified": 0,
         "New Species Pokémon": 0,
         "Sky High Pokémon": 0,
         "Air Lock": 0,
         "DNA Pokémon": 0,
         "Sea Basin Pokémon": 0,
         "Knowledge Pokémon": 0,
         "Wish Pokémon": 0,
         "Genetic Pokémon": 0,
         "Rock Peak Pokémon": 0,
         "Freeze Pokémon": 0,
         "Iron Pokémon": 0,
         "Bad Dreams": 0,
         "Slow Start": 0,
         "Victory Star": 0,
         "Prism Armor": 0,
         "Prism Pokémon": 0,
         "Victory Pokémon": 0,
         "Psychic Surge": 0,
         "Pitch-Black Pokémon": 0,
         "Willpower Pokémon": 0,
         "Aura Break": 0,
         "Power Construct": 0,
         "Seafaring Pokémon": 0,
         "Lava Dome Pokémon": 0,
         "Colossal Pokémon": 0,
         "Mischief Pokémon (Confined)Djinn Pokémonn (Unbound)": 0,
         "Gratitude Pokémon": 0,
         "Order Pokémon": 0,
         "Steam Pokémon": 0,
         "Spatial Pokémon": 0,
         "Life Pokémon": 0,
         "Junkivore Pokémon": 0,
         "Lunar Pokémon": 0,
         "Renegade Pokémon": 0,
         "Launch Pokémon": 0,
         "Rainbow Pokémon": 0,
         "Multitype": 0,
         "Artificial Pokémon": 0,
         "Protostar Pokémon": 0,
         "Glowing Pokémon": 0,
         "Parasite Pokémon": 0,
         "Temporal Pokémon": 0,
         "Time Travel Pokémon": 0,
         "Soul-Heart": 0,
         "Drawn Sword Pokémon": 0,
         "Alpha Pokémon": 0,
         "Dark Aura": 0,
         "Diving Pokémon": 0,
         "Fairy Aura": 0,
         "Electric Surge": 0,
         "Destruction Pokémon": 0,
         "Thunder Pokémon": 0,
         "Grassy Surge": 0,
         "Misty Surge": 0,
         "Sunne Pokémon": 0,
         "Nebula Pokémon": 0,
         "Aurora Pokémon": 0,
         "Moone Pokémon": 0,
         "Full Metal Body": 0,
         "Lissome Pokémon": 0,
         "Swollen Pokémon": 0,
         "Shadow Shield": 0,
         "Melody Pokémon": 0,
         "Abundance Pokémon": 0,
         "Boundary Pokémon": 0,
         "Bolt Strike Pokémon": 0,
         "Colt Pokémon": 0,
         "Vast White Pokémon": 0,
         "Paleozoic Pokémon": 0,
         "Iron Will Pokémon": 0,
         "Deep Black Pokémon": 0,
         "Cyclone Pokémon": 0,
         "Grassland Pokémon": 0,
         "Cavern Pokémon": 0,
         "1dragon": 0,
         "against_psychic": 0.25,
         "1steel": 0,
         "Clear Body": 0,
         "_deepnote_index_column": 3
        }
       ],
       "rows_bottom": [
        {
         "is_legendary": 1,
         "base_egg_steps": 1,
         "base_total": 0.65,
         "base_happiness": 0,
         "sp_attack": 0.5271739130434783,
         "weight_kg": 1,
         "experience_growth": 0.625,
         "sp_defense": 0.3857142857142858,
         "capture_rate": 0.0873015873015873,
         "height_m": 0.6319444444444444,
         "speed": 0.32,
         "hp": 0.3779527559055118,
         "Beast Boost": 1,
         "attack": 0.5333333333333333,
         "Pressure": 0,
         "defense": 0.4355555555555556,
         "Land Spirit Pokémon": 0,
         "1psychic": 0,
         "pokedex_number": 0.995,
         "against_ghost": 0.25,
         "Eon Pokémon": 0,
         "Turboblaze": 0,
         "Teravolt": 0,
         "Telepathy": 0,
         "generation": 0.9999999999999999,
         "against_dark": 0.2,
         "Justified": 0,
         "New Species Pokémon": 0,
         "Sky High Pokémon": 0,
         "Air Lock": 0,
         "DNA Pokémon": 0,
         "Sea Basin Pokémon": 0,
         "Knowledge Pokémon": 0,
         "Wish Pokémon": 0,
         "Genetic Pokémon": 0,
         "Rock Peak Pokémon": 0,
         "Freeze Pokémon": 0,
         "Iron Pokémon": 0,
         "Bad Dreams": 0,
         "Slow Start": 0,
         "Victory Star": 0,
         "Prism Armor": 0,
         "Prism Pokémon": 0,
         "Victory Pokémon": 0,
         "Psychic Surge": 0,
         "Pitch-Black Pokémon": 0,
         "Willpower Pokémon": 0,
         "Aura Break": 0,
         "Power Construct": 0,
         "Seafaring Pokémon": 0,
         "Lava Dome Pokémon": 0,
         "Colossal Pokémon": 0,
         "Mischief Pokémon (Confined)Djinn Pokémonn (Unbound)": 0,
         "Gratitude Pokémon": 0,
         "Order Pokémon": 0,
         "Steam Pokémon": 0,
         "Spatial Pokémon": 0,
         "Life Pokémon": 0,
         "Junkivore Pokémon": 0,
         "Lunar Pokémon": 0,
         "Renegade Pokémon": 0,
         "Launch Pokémon": 1,
         "Rainbow Pokémon": 0,
         "Multitype": 0,
         "Artificial Pokémon": 0,
         "Protostar Pokémon": 0,
         "Glowing Pokémon": 0,
         "Parasite Pokémon": 0,
         "Temporal Pokémon": 0,
         "Time Travel Pokémon": 0,
         "Soul-Heart": 0,
         "Drawn Sword Pokémon": 0,
         "Alpha Pokémon": 0,
         "Dark Aura": 0,
         "Diving Pokémon": 0,
         "Fairy Aura": 0,
         "Electric Surge": 0,
         "Destruction Pokémon": 0,
         "Thunder Pokémon": 0,
         "Grassy Surge": 0,
         "Misty Surge": 0,
         "Sunne Pokémon": 0,
         "Nebula Pokémon": 0,
         "Aurora Pokémon": 0,
         "Moone Pokémon": 0,
         "Full Metal Body": 0,
         "Lissome Pokémon": 0,
         "Swollen Pokémon": 0,
         "Shadow Shield": 0,
         "Melody Pokémon": 0,
         "Abundance Pokémon": 0,
         "Boundary Pokémon": 0,
         "Bolt Strike Pokémon": 0,
         "Colt Pokémon": 0,
         "Vast White Pokémon": 0,
         "Paleozoic Pokémon": 0,
         "Iron Will Pokémon": 0,
         "Deep Black Pokémon": 0,
         "Cyclone Pokémon": 0,
         "Grassland Pokémon": 0,
         "Cavern Pokémon": 0,
         "1dragon": 0,
         "against_psychic": 0.125,
         "1steel": 1,
         "Clear Body": 0,
         "_deepnote_index_column": 796
        },
        {
         "is_legendary": 1,
         "base_egg_steps": 1,
         "base_total": 0.65,
         "base_happiness": 0,
         "sp_attack": 0.2663043478260869,
         "weight_kg": 0,
         "experience_growth": 0.625,
         "sp_defense": 0.052380952380952375,
         "capture_rate": 1,
         "height_m": 0.013888888888888888,
         "speed": 0.5942857142857143,
         "hp": 0.2283464566929134,
         "Beast Boost": 1,
         "attack": 0.9777777777777777,
         "Pressure": 0,
         "defense": 0.5599999999999999,
         "Land Spirit Pokémon": 0,
         "1psychic": 0,
         "pokedex_number": 0.9962500000000001,
         "against_ghost": 0.25,
         "Eon Pokémon": 0,
         "Turboblaze": 0,
         "Teravolt": 0,
         "Telepathy": 0,
         "generation": 0.9999999999999999,
         "against_dark": 0.2,
         "Justified": 0,
         "New Species Pokémon": 0,
         "Sky High Pokémon": 0,
         "Air Lock": 0,
         "DNA Pokémon": 0,
         "Sea Basin Pokémon": 0,
         "Knowledge Pokémon": 0,
         "Wish Pokémon": 0,
         "Genetic Pokémon": 0,
         "Rock Peak Pokémon": 0,
         "Freeze Pokémon": 0,
         "Iron Pokémon": 0,
         "Bad Dreams": 0,
         "Slow Start": 0,
         "Victory Star": 0,
         "Prism Armor": 0,
         "Prism Pokémon": 0,
         "Victory Pokémon": 0,
         "Psychic Surge": 0,
         "Pitch-Black Pokémon": 0,
         "Willpower Pokémon": 0,
         "Aura Break": 0,
         "Power Construct": 0,
         "Seafaring Pokémon": 0,
         "Lava Dome Pokémon": 0,
         "Colossal Pokémon": 0,
         "Mischief Pokémon (Confined)Djinn Pokémonn (Unbound)": 0,
         "Gratitude Pokémon": 0,
         "Order Pokémon": 0,
         "Steam Pokémon": 0,
         "Spatial Pokémon": 0,
         "Life Pokémon": 0,
         "Junkivore Pokémon": 0,
         "Lunar Pokémon": 0,
         "Renegade Pokémon": 0,
         "Launch Pokémon": 0,
         "Rainbow Pokémon": 0,
         "Multitype": 0,
         "Artificial Pokémon": 0,
         "Protostar Pokémon": 0,
         "Glowing Pokémon": 0,
         "Parasite Pokémon": 0,
         "Temporal Pokémon": 0,
         "Time Travel Pokémon": 0,
         "Soul-Heart": 0,
         "Drawn Sword Pokémon": 1,
         "Alpha Pokémon": 0,
         "Dark Aura": 0,
         "Diving Pokémon": 0,
         "Fairy Aura": 0,
         "Electric Surge": 0,
         "Destruction Pokémon": 0,
         "Thunder Pokémon": 0,
         "Grassy Surge": 0,
         "Misty Surge": 0,
         "Sunne Pokémon": 0,
         "Nebula Pokémon": 0,
         "Aurora Pokémon": 0,
         "Moone Pokémon": 0,
         "Full Metal Body": 0,
         "Lissome Pokémon": 0,
         "Swollen Pokémon": 0,
         "Shadow Shield": 0,
         "Melody Pokémon": 0,
         "Abundance Pokémon": 0,
         "Boundary Pokémon": 0,
         "Bolt Strike Pokémon": 0,
         "Colt Pokémon": 0,
         "Vast White Pokémon": 0,
         "Paleozoic Pokémon": 0,
         "Iron Will Pokémon": 0,
         "Deep Black Pokémon": 0,
         "Cyclone Pokémon": 0,
         "Grassland Pokémon": 0,
         "Cavern Pokémon": 0,
         "1dragon": 0,
         "against_psychic": 0.125,
         "1steel": 0,
         "Clear Body": 0,
         "_deepnote_index_column": 797
        },
        {
         "is_legendary": 1,
         "base_egg_steps": 1,
         "base_total": 0.65,
         "base_happiness": 0,
         "sp_attack": 0.47282608695652173,
         "weight_kg": 0.8880776155231046,
         "experience_growth": 0.625,
         "sp_defense": 0.1571428571428572,
         "capture_rate": 0.047619047619047616,
         "height_m": 0.37500000000000006,
         "speed": 0.21714285714285714,
         "hp": 0.8740157480314961,
         "Beast Boost": 1,
         "attack": 0.5333333333333333,
         "Pressure": 0,
         "defense": 0.21333333333333332,
         "Land Spirit Pokémon": 0,
         "1psychic": 0,
         "pokedex_number": 0.9975,
         "against_ghost": 0.125,
         "Eon Pokémon": 0,
         "Turboblaze": 0,
         "Teravolt": 0,
         "Telepathy": 0,
         "generation": 0.9999999999999999,
         "against_dark": 0.06666666666666667,
         "Justified": 0,
         "New Species Pokémon": 0,
         "Sky High Pokémon": 0,
         "Air Lock": 0,
         "DNA Pokémon": 0,
         "Sea Basin Pokémon": 0,
         "Knowledge Pokémon": 0,
         "Wish Pokémon": 0,
         "Genetic Pokémon": 0,
         "Rock Peak Pokémon": 0,
         "Freeze Pokémon": 0,
         "Iron Pokémon": 0,
         "Bad Dreams": 0,
         "Slow Start": 0,
         "Victory Star": 0,
         "Prism Armor": 0,
         "Prism Pokémon": 0,
         "Victory Pokémon": 0,
         "Psychic Surge": 0,
         "Pitch-Black Pokémon": 0,
         "Willpower Pokémon": 0,
         "Aura Break": 0,
         "Power Construct": 0,
         "Seafaring Pokémon": 0,
         "Lava Dome Pokémon": 0,
         "Colossal Pokémon": 0,
         "Mischief Pokémon (Confined)Djinn Pokémonn (Unbound)": 0,
         "Gratitude Pokémon": 0,
         "Order Pokémon": 0,
         "Steam Pokémon": 0,
         "Spatial Pokémon": 0,
         "Life Pokémon": 0,
         "Junkivore Pokémon": 1,
         "Lunar Pokémon": 0,
         "Renegade Pokémon": 0,
         "Launch Pokémon": 0,
         "Rainbow Pokémon": 0,
         "Multitype": 0,
         "Artificial Pokémon": 0,
         "Protostar Pokémon": 0,
         "Glowing Pokémon": 0,
         "Parasite Pokémon": 0,
         "Temporal Pokémon": 0,
         "Time Travel Pokémon": 0,
         "Soul-Heart": 0,
         "Drawn Sword Pokémon": 0,
         "Alpha Pokémon": 0,
         "Dark Aura": 0,
         "Diving Pokémon": 0,
         "Fairy Aura": 0,
         "Electric Surge": 0,
         "Destruction Pokémon": 0,
         "Thunder Pokémon": 0,
         "Grassy Surge": 0,
         "Misty Surge": 0,
         "Sunne Pokémon": 0,
         "Nebula Pokémon": 0,
         "Aurora Pokémon": 0,
         "Moone Pokémon": 0,
         "Full Metal Body": 0,
         "Lissome Pokémon": 0,
         "Swollen Pokémon": 0,
         "Shadow Shield": 0,
         "Melody Pokémon": 0,
         "Abundance Pokémon": 0,
         "Boundary Pokémon": 0,
         "Bolt Strike Pokémon": 0,
         "Colt Pokémon": 0,
         "Vast White Pokémon": 0,
         "Paleozoic Pokémon": 0,
         "Iron Will Pokémon": 0,
         "Deep Black Pokémon": 0,
         "Cyclone Pokémon": 0,
         "Grassland Pokémon": 0,
         "Cavern Pokémon": 0,
         "1dragon": 0,
         "against_psychic": 0,
         "1steel": 0,
         "Clear Body": 0,
         "_deepnote_index_column": 798
        },
        {
         "is_legendary": 1,
         "base_egg_steps": 1,
         "base_total": 0.7,
         "base_happiness": 0,
         "sp_attack": 0.6358695652173912,
         "weight_kg": 0.22994598919783957,
         "experience_growth": 0.625,
         "sp_defense": 0.3285714285714286,
         "capture_rate": 0,
         "height_m": 0.1597222222222222,
         "speed": 0.4228571428571428,
         "hp": 0.3779527559055118,
         "Beast Boost": 0,
         "attack": 0.5666666666666667,
         "Pressure": 0,
         "defense": 0.4266666666666667,
         "Land Spirit Pokémon": 0,
         "1psychic": 1,
         "pokedex_number": 0.99875,
         "against_ghost": 0.5,
         "Eon Pokémon": 0,
         "Turboblaze": 0,
         "Teravolt": 0,
         "Telepathy": 0,
         "generation": 0.9999999999999999,
         "against_dark": 0.4666666666666667,
         "Justified": 0,
         "New Species Pokémon": 0,
         "Sky High Pokémon": 0,
         "Air Lock": 0,
         "DNA Pokémon": 0,
         "Sea Basin Pokémon": 0,
         "Knowledge Pokémon": 0,
         "Wish Pokémon": 0,
         "Genetic Pokémon": 0,
         "Rock Peak Pokémon": 0,
         "Freeze Pokémon": 0,
         "Iron Pokémon": 0,
         "Bad Dreams": 0,
         "Slow Start": 0,
         "Victory Star": 0,
         "Prism Armor": 1,
         "Prism Pokémon": 1,
         "Victory Pokémon": 0,
         "Psychic Surge": 0,
         "Pitch-Black Pokémon": 0,
         "Willpower Pokémon": 0,
         "Aura Break": 0,
         "Power Construct": 0,
         "Seafaring Pokémon": 0,
         "Lava Dome Pokémon": 0,
         "Colossal Pokémon": 0,
         "Mischief Pokémon (Confined)Djinn Pokémonn (Unbound)": 0,
         "Gratitude Pokémon": 0,
         "Order Pokémon": 0,
         "Steam Pokémon": 0,
         "Spatial Pokémon": 0,
         "Life Pokémon": 0,
         "Junkivore Pokémon": 0,
         "Lunar Pokémon": 0,
         "Renegade Pokémon": 0,
         "Launch Pokémon": 0,
         "Rainbow Pokémon": 0,
         "Multitype": 0,
         "Artificial Pokémon": 0,
         "Protostar Pokémon": 0,
         "Glowing Pokémon": 0,
         "Parasite Pokémon": 0,
         "Temporal Pokémon": 0,
         "Time Travel Pokémon": 0,
         "Soul-Heart": 0,
         "Drawn Sword Pokémon": 0,
         "Alpha Pokémon": 0,
         "Dark Aura": 0,
         "Diving Pokémon": 0,
         "Fairy Aura": 0,
         "Electric Surge": 0,
         "Destruction Pokémon": 0,
         "Thunder Pokémon": 0,
         "Grassy Surge": 0,
         "Misty Surge": 0,
         "Sunne Pokémon": 0,
         "Nebula Pokémon": 0,
         "Aurora Pokémon": 0,
         "Moone Pokémon": 0,
         "Full Metal Body": 0,
         "Lissome Pokémon": 0,
         "Swollen Pokémon": 0,
         "Shadow Shield": 0,
         "Melody Pokémon": 0,
         "Abundance Pokémon": 0,
         "Boundary Pokémon": 0,
         "Bolt Strike Pokémon": 0,
         "Colt Pokémon": 0,
         "Vast White Pokémon": 0,
         "Paleozoic Pokémon": 0,
         "Iron Will Pokémon": 0,
         "Deep Black Pokémon": 0,
         "Cyclone Pokémon": 0,
         "Grassland Pokémon": 0,
         "Cavern Pokémon": 0,
         "1dragon": 0,
         "against_psychic": 0.125,
         "1steel": 0,
         "Clear Body": 0,
         "_deepnote_index_column": 799
        },
        {
         "is_legendary": 1,
         "base_egg_steps": 1,
         "base_total": 0.7,
         "base_happiness": 0,
         "sp_attack": 0.6521739130434783,
         "weight_kg": 0.08041608321664333,
         "experience_growth": 0.625,
         "sp_defense": 0.45238095238095244,
         "capture_rate": 0,
         "height_m": 0.0625,
         "speed": 0.34285714285714286,
         "hp": 0.3110236220472441,
         "Beast Boost": 0,
         "attack": 0.5,
         "Pressure": 0,
         "defense": 0.4888888888888889,
         "Land Spirit Pokémon": 0,
         "1psychic": 0,
         "pokedex_number": 1,
         "against_ghost": 0.25,
         "Eon Pokémon": 0,
         "Turboblaze": 0,
         "Teravolt": 0,
         "Telepathy": 0,
         "generation": 0.9999999999999999,
         "against_dark": 0.06666666666666667,
         "Justified": 0,
         "New Species Pokémon": 0,
         "Sky High Pokémon": 0,
         "Air Lock": 0,
         "DNA Pokémon": 0,
         "Sea Basin Pokémon": 0,
         "Knowledge Pokémon": 0,
         "Wish Pokémon": 0,
         "Genetic Pokémon": 0,
         "Rock Peak Pokémon": 0,
         "Freeze Pokémon": 0,
         "Iron Pokémon": 0,
         "Bad Dreams": 0,
         "Slow Start": 0,
         "Victory Star": 0,
         "Prism Armor": 0,
         "Prism Pokémon": 0,
         "Victory Pokémon": 0,
         "Psychic Surge": 0,
         "Pitch-Black Pokémon": 0,
         "Willpower Pokémon": 0,
         "Aura Break": 0,
         "Power Construct": 0,
         "Seafaring Pokémon": 0,
         "Lava Dome Pokémon": 0,
         "Colossal Pokémon": 0,
         "Mischief Pokémon (Confined)Djinn Pokémonn (Unbound)": 0,
         "Gratitude Pokémon": 0,
         "Order Pokémon": 0,
         "Steam Pokémon": 0,
         "Spatial Pokémon": 0,
         "Life Pokémon": 0,
         "Junkivore Pokémon": 0,
         "Lunar Pokémon": 0,
         "Renegade Pokémon": 0,
         "Launch Pokémon": 0,
         "Rainbow Pokémon": 0,
         "Multitype": 0,
         "Artificial Pokémon": 1,
         "Protostar Pokémon": 0,
         "Glowing Pokémon": 0,
         "Parasite Pokémon": 0,
         "Temporal Pokémon": 0,
         "Time Travel Pokémon": 0,
         "Soul-Heart": 1,
         "Drawn Sword Pokémon": 0,
         "Alpha Pokémon": 0,
         "Dark Aura": 0,
         "Diving Pokémon": 0,
         "Fairy Aura": 0,
         "Electric Surge": 0,
         "Destruction Pokémon": 0,
         "Thunder Pokémon": 0,
         "Grassy Surge": 0,
         "Misty Surge": 0,
         "Sunne Pokémon": 0,
         "Nebula Pokémon": 0,
         "Aurora Pokémon": 0,
         "Moone Pokémon": 0,
         "Full Metal Body": 0,
         "Lissome Pokémon": 0,
         "Swollen Pokémon": 0,
         "Shadow Shield": 0,
         "Melody Pokémon": 0,
         "Abundance Pokémon": 0,
         "Boundary Pokémon": 0,
         "Bolt Strike Pokémon": 0,
         "Colt Pokémon": 0,
         "Vast White Pokémon": 0,
         "Paleozoic Pokémon": 0,
         "Iron Will Pokémon": 0,
         "Deep Black Pokémon": 0,
         "Cyclone Pokémon": 0,
         "Grassland Pokémon": 0,
         "Cavern Pokémon": 0,
         "1dragon": 0,
         "against_psychic": 0.125,
         "1steel": 1,
         "Clear Body": 0,
         "_deepnote_index_column": 800
        }
       ]
      },
      "text/plain": "     is_legendary  base_egg_steps  base_total  base_happiness  sp_attack  \\\n0             0.0        0.130435    0.230000             0.5   0.298913   \n1             0.0        0.130435    0.375000             0.5   0.380435   \n2             0.0        0.130435    0.741667             0.5   0.608696   \n3             0.0        0.130435    0.215000             0.5   0.271739   \n4             0.0        0.130435    0.375000             0.5   0.380435   \n..            ...             ...         ...             ...        ...   \n796           1.0        1.000000    0.650000             0.0   0.527174   \n797           1.0        1.000000    0.650000             0.0   0.266304   \n798           1.0        1.000000    0.650000             0.0   0.472826   \n799           1.0        1.000000    0.700000             0.0   0.635870   \n800           1.0        1.000000    0.700000             0.0   0.652174   \n\n     weight_kg  experience_growth  sp_defense  capture_rate  height_m  ...  \\\n0     0.006801           0.442173    0.214286      0.166667  0.041667  ...   \n1     0.012903           0.442173    0.285714      0.166667  0.062500  ...   \n2     0.099920           0.442173    0.476190      0.166667  0.131944  ...   \n3     0.008402           0.442173    0.142857      0.166667  0.034722  ...   \n4     0.018904           0.442173    0.214286      0.166667  0.069444  ...   \n..         ...                ...         ...           ...       ...  ...   \n796   1.000000           0.625000    0.385714      0.087302  0.631944  ...   \n797   0.000000           0.625000    0.052381      1.000000  0.013889  ...   \n798   0.888078           0.625000    0.157143      0.047619  0.375000  ...   \n799   0.229946           0.625000    0.328571      0.000000  0.159722  ...   \n800   0.080416           0.625000    0.452381      0.000000  0.062500  ...   \n\n     Paleozoic Pokémon  Iron Will Pokémon  Deep Black Pokémon  \\\n0                  0.0                0.0                 0.0   \n1                  0.0                0.0                 0.0   \n2                  0.0                0.0                 0.0   \n3                  0.0                0.0                 0.0   \n4                  0.0                0.0                 0.0   \n..                 ...                ...                 ...   \n796                0.0                0.0                 0.0   \n797                0.0                0.0                 0.0   \n798                0.0                0.0                 0.0   \n799                0.0                0.0                 0.0   \n800                0.0                0.0                 0.0   \n\n     Cyclone Pokémon  Grassland Pokémon  Cavern Pokémon  1dragon  \\\n0                0.0                0.0             0.0      0.0   \n1                0.0                0.0             0.0      0.0   \n2                0.0                0.0             0.0      0.0   \n3                0.0                0.0             0.0      0.0   \n4                0.0                0.0             0.0      0.0   \n..               ...                ...             ...      ...   \n796              0.0                0.0             0.0      0.0   \n797              0.0                0.0             0.0      0.0   \n798              0.0                0.0             0.0      0.0   \n799              0.0                0.0             0.0      0.0   \n800              0.0                0.0             0.0      0.0   \n\n     against_psychic  1steel  Clear Body  \n0              0.500     0.0         0.0  \n1              0.500     0.0         0.0  \n2              0.500     0.0         0.0  \n3              0.250     0.0         0.0  \n4              0.250     0.0         0.0  \n..               ...     ...         ...  \n796            0.125     1.0         0.0  \n797            0.125     0.0         0.0  \n798            0.000     0.0         0.0  \n799            0.125     0.0         0.0  \n800            0.125     1.0         0.0  \n\n[801 rows x 105 columns]",
      "text/html": "<div>\n<style scoped>\n    .dataframe tbody tr th:only-of-type {\n        vertical-align: middle;\n    }\n\n    .dataframe tbody tr th {\n        vertical-align: top;\n    }\n\n    .dataframe thead th {\n        text-align: right;\n    }\n</style>\n<table border=\"1\" class=\"dataframe\">\n  <thead>\n    <tr style=\"text-align: right;\">\n      <th></th>\n      <th>is_legendary</th>\n      <th>base_egg_steps</th>\n      <th>base_total</th>\n      <th>base_happiness</th>\n      <th>sp_attack</th>\n      <th>weight_kg</th>\n      <th>experience_growth</th>\n      <th>sp_defense</th>\n      <th>capture_rate</th>\n      <th>height_m</th>\n      <th>...</th>\n      <th>Paleozoic Pokémon</th>\n      <th>Iron Will Pokémon</th>\n      <th>Deep Black Pokémon</th>\n      <th>Cyclone Pokémon</th>\n      <th>Grassland Pokémon</th>\n      <th>Cavern Pokémon</th>\n      <th>1dragon</th>\n      <th>against_psychic</th>\n      <th>1steel</th>\n      <th>Clear Body</th>\n    </tr>\n  </thead>\n  <tbody>\n    <tr>\n      <th>0</th>\n      <td>0.0</td>\n      <td>0.130435</td>\n      <td>0.230000</td>\n      <td>0.5</td>\n      <td>0.298913</td>\n      <td>0.006801</td>\n      <td>0.442173</td>\n      <td>0.214286</td>\n      <td>0.166667</td>\n      <td>0.041667</td>\n      <td>...</td>\n      <td>0.0</td>\n      <td>0.0</td>\n      <td>0.0</td>\n      <td>0.0</td>\n      <td>0.0</td>\n      <td>0.0</td>\n      <td>0.0</td>\n      <td>0.500</td>\n      <td>0.0</td>\n      <td>0.0</td>\n    </tr>\n    <tr>\n      <th>1</th>\n      <td>0.0</td>\n      <td>0.130435</td>\n      <td>0.375000</td>\n      <td>0.5</td>\n      <td>0.380435</td>\n      <td>0.012903</td>\n      <td>0.442173</td>\n      <td>0.285714</td>\n      <td>0.166667</td>\n      <td>0.062500</td>\n      <td>...</td>\n      <td>0.0</td>\n      <td>0.0</td>\n      <td>0.0</td>\n      <td>0.0</td>\n      <td>0.0</td>\n      <td>0.0</td>\n      <td>0.0</td>\n      <td>0.500</td>\n      <td>0.0</td>\n      <td>0.0</td>\n    </tr>\n    <tr>\n      <th>2</th>\n      <td>0.0</td>\n      <td>0.130435</td>\n      <td>0.741667</td>\n      <td>0.5</td>\n      <td>0.608696</td>\n      <td>0.099920</td>\n      <td>0.442173</td>\n      <td>0.476190</td>\n      <td>0.166667</td>\n      <td>0.131944</td>\n      <td>...</td>\n      <td>0.0</td>\n      <td>0.0</td>\n      <td>0.0</td>\n      <td>0.0</td>\n      <td>0.0</td>\n      <td>0.0</td>\n      <td>0.0</td>\n      <td>0.500</td>\n      <td>0.0</td>\n      <td>0.0</td>\n    </tr>\n    <tr>\n      <th>3</th>\n      <td>0.0</td>\n      <td>0.130435</td>\n      <td>0.215000</td>\n      <td>0.5</td>\n      <td>0.271739</td>\n      <td>0.008402</td>\n      <td>0.442173</td>\n      <td>0.142857</td>\n      <td>0.166667</td>\n      <td>0.034722</td>\n      <td>...</td>\n      <td>0.0</td>\n      <td>0.0</td>\n      <td>0.0</td>\n      <td>0.0</td>\n      <td>0.0</td>\n      <td>0.0</td>\n      <td>0.0</td>\n      <td>0.250</td>\n      <td>0.0</td>\n      <td>0.0</td>\n    </tr>\n    <tr>\n      <th>4</th>\n      <td>0.0</td>\n      <td>0.130435</td>\n      <td>0.375000</td>\n      <td>0.5</td>\n      <td>0.380435</td>\n      <td>0.018904</td>\n      <td>0.442173</td>\n      <td>0.214286</td>\n      <td>0.166667</td>\n      <td>0.069444</td>\n      <td>...</td>\n      <td>0.0</td>\n      <td>0.0</td>\n      <td>0.0</td>\n      <td>0.0</td>\n      <td>0.0</td>\n      <td>0.0</td>\n      <td>0.0</td>\n      <td>0.250</td>\n      <td>0.0</td>\n      <td>0.0</td>\n    </tr>\n    <tr>\n      <th>...</th>\n      <td>...</td>\n      <td>...</td>\n      <td>...</td>\n      <td>...</td>\n      <td>...</td>\n      <td>...</td>\n      <td>...</td>\n      <td>...</td>\n      <td>...</td>\n      <td>...</td>\n      <td>...</td>\n      <td>...</td>\n      <td>...</td>\n      <td>...</td>\n      <td>...</td>\n      <td>...</td>\n      <td>...</td>\n      <td>...</td>\n      <td>...</td>\n      <td>...</td>\n      <td>...</td>\n    </tr>\n    <tr>\n      <th>796</th>\n      <td>1.0</td>\n      <td>1.000000</td>\n      <td>0.650000</td>\n      <td>0.0</td>\n      <td>0.527174</td>\n      <td>1.000000</td>\n      <td>0.625000</td>\n      <td>0.385714</td>\n      <td>0.087302</td>\n      <td>0.631944</td>\n      <td>...</td>\n      <td>0.0</td>\n      <td>0.0</td>\n      <td>0.0</td>\n      <td>0.0</td>\n      <td>0.0</td>\n      <td>0.0</td>\n      <td>0.0</td>\n      <td>0.125</td>\n      <td>1.0</td>\n      <td>0.0</td>\n    </tr>\n    <tr>\n      <th>797</th>\n      <td>1.0</td>\n      <td>1.000000</td>\n      <td>0.650000</td>\n      <td>0.0</td>\n      <td>0.266304</td>\n      <td>0.000000</td>\n      <td>0.625000</td>\n      <td>0.052381</td>\n      <td>1.000000</td>\n      <td>0.013889</td>\n      <td>...</td>\n      <td>0.0</td>\n      <td>0.0</td>\n      <td>0.0</td>\n      <td>0.0</td>\n      <td>0.0</td>\n      <td>0.0</td>\n      <td>0.0</td>\n      <td>0.125</td>\n      <td>0.0</td>\n      <td>0.0</td>\n    </tr>\n    <tr>\n      <th>798</th>\n      <td>1.0</td>\n      <td>1.000000</td>\n      <td>0.650000</td>\n      <td>0.0</td>\n      <td>0.472826</td>\n      <td>0.888078</td>\n      <td>0.625000</td>\n      <td>0.157143</td>\n      <td>0.047619</td>\n      <td>0.375000</td>\n      <td>...</td>\n      <td>0.0</td>\n      <td>0.0</td>\n      <td>0.0</td>\n      <td>0.0</td>\n      <td>0.0</td>\n      <td>0.0</td>\n      <td>0.0</td>\n      <td>0.000</td>\n      <td>0.0</td>\n      <td>0.0</td>\n    </tr>\n    <tr>\n      <th>799</th>\n      <td>1.0</td>\n      <td>1.000000</td>\n      <td>0.700000</td>\n      <td>0.0</td>\n      <td>0.635870</td>\n      <td>0.229946</td>\n      <td>0.625000</td>\n      <td>0.328571</td>\n      <td>0.000000</td>\n      <td>0.159722</td>\n      <td>...</td>\n      <td>0.0</td>\n      <td>0.0</td>\n      <td>0.0</td>\n      <td>0.0</td>\n      <td>0.0</td>\n      <td>0.0</td>\n      <td>0.0</td>\n      <td>0.125</td>\n      <td>0.0</td>\n      <td>0.0</td>\n    </tr>\n    <tr>\n      <th>800</th>\n      <td>1.0</td>\n      <td>1.000000</td>\n      <td>0.700000</td>\n      <td>0.0</td>\n      <td>0.652174</td>\n      <td>0.080416</td>\n      <td>0.625000</td>\n      <td>0.452381</td>\n      <td>0.000000</td>\n      <td>0.062500</td>\n      <td>...</td>\n      <td>0.0</td>\n      <td>0.0</td>\n      <td>0.0</td>\n      <td>0.0</td>\n      <td>0.0</td>\n      <td>0.0</td>\n      <td>0.0</td>\n      <td>0.125</td>\n      <td>1.0</td>\n      <td>0.0</td>\n    </tr>\n  </tbody>\n</table>\n<p>801 rows × 105 columns</p>\n</div>"
     },
     "metadata": {}
    }
   ],
   "execution_count": 40
  },
  {
   "cell_type": "code",
   "source": "",
   "metadata": {
    "tags": [],
    "cell_id": "00037-520ec117-d26d-4a59-83de-0357f83393b4",
    "deepnote_to_be_reexecuted": false,
    "source_hash": "b623e53d",
    "execution_start": 1638638873950,
    "deepnote_cell_type": "code"
   },
   "outputs": [],
   "execution_count": 20
  },
  {
   "cell_type": "markdown",
   "source": "**Caldra aplicar un PCA?**",
   "metadata": {
    "tags": [],
    "cell_id": "00024-7eaeb7a4-191f-4092-ac01-cbd2a8555109",
    "deepnote_cell_type": "markdown"
   },
   "outputs": [],
   "execution_count": null
  },
  {
   "cell_type": "markdown",
   "source": "**Es poden aplicar `PolynomialFeatures` per millorar la classificació?**\n\nNo perquè hi ha massa atributs. Els `PolynomialFeatures` aumenten exponencial.",
   "metadata": {
    "tags": [],
    "cell_id": "00025-cafbc697-6f5c-4639-b9e1-77d8789310ca",
    "deepnote_cell_type": "markdown"
   },
   "outputs": [],
   "execution_count": null
  },
  {
   "cell_type": "markdown",
   "source": "**MODEL SELECTION**",
   "metadata": {
    "tags": [],
    "cell_id": "00037-0bf1cea6-4010-45b1-8f17-4d894bfcf4aa",
    "deepnote_cell_type": "markdown"
   }
  },
  {
   "cell_type": "markdown",
   "source": "**Quins models heu considerat?**",
   "metadata": {
    "tags": [],
    "cell_id": "00038-3758844d-3aea-4d04-ac81-ba315e063a1f",
    "deepnote_cell_type": "markdown"
   }
  },
  {
   "cell_type": "code",
   "source": "# df_4.isnull().sum()[df_4.isnull().sum() > 0]\n#valor=mean(df_4['weight_kg'])\n# df_4[np.isnull(df_4)] = df_4.mean()\n#df_4.describe().loc[['mean', '50%', 'std']]\ndf_4 = df_4.fillna(df_4.mean())",
   "metadata": {
    "tags": [],
    "cell_id": "00039-241b0e2f-397d-4746-b582-286f741c14bc",
    "deepnote_to_be_reexecuted": false,
    "source_hash": "b939f41e",
    "execution_start": 1638639844204,
    "execution_millis": 40,
    "deepnote_output_heights": [
     59.59375
    ],
    "deepnote_cell_type": "code"
   },
   "outputs": [],
   "execution_count": 46
  },
  {
   "cell_type": "code",
   "source": "df_4.isnull().sum()[df_4.isnull().sum() > 0]",
   "metadata": {
    "tags": [],
    "cell_id": "00040-680747c4-20c2-44e7-abf9-a0f859e63096",
    "deepnote_to_be_reexecuted": false,
    "source_hash": "86bf4a2b",
    "execution_start": 1638639846107,
    "execution_millis": 12,
    "deepnote_output_heights": [
     21.1875
    ],
    "deepnote_cell_type": "code"
   },
   "outputs": [
    {
     "output_type": "execute_result",
     "execution_count": 47,
     "data": {
      "text/plain": "Series([], dtype: int64)"
     },
     "metadata": {}
    }
   ],
   "execution_count": 47
  },
  {
   "cell_type": "code",
   "source": "X=df_4.copy(deep=True)\nX.drop(columns=TARGET, inplace=True)\ny=df_4[TARGET]\n\nX_train, X_test, y_train, y_test = train_test_split(X, y, test_size=0.2)\n\nclassifiers = [\n    LogisticRegression(max_iter=10000),\n    svm.SVC(kernel='linear', C=1.0),\n    svm.LinearSVC(C=1.0, max_iter=1000000),\n    svm.SVC(kernel='rbf', gamma=0.7, C=1.0),\n    svm.SVC(kernel='poly', degree=3, gamma='auto', C=1.0),\n    linear_model.SGDClassifier(loss=\"modified_huber\", alpha=0.1),\n    neighbors.KNeighborsClassifier(n_neighbors=15),\n    tree.DecisionTreeClassifier(),\n    naive_bayes.GaussianNB()\n]\n\nscores = {}\n\nfor classifier in classifiers:\n    classifier.fit(X_train, y_train)\n    y_pred = classifier.predict(X_test)\n    score = classifier.score(X_test, y_test)\n    print(f'{classifier.__class__.__name__}: {score}')\n    scores[classifier.__class__.__name__] = score\n\n# scores",
   "metadata": {
    "tags": [],
    "cell_id": "00039-144e4cff-62be-4f23-9738-74dcd6aaa877",
    "deepnote_to_be_reexecuted": false,
    "source_hash": "ccba3dee",
    "execution_start": 1638641725193,
    "execution_millis": 488,
    "deepnote_output_heights": [
     136.375
    ],
    "deepnote_cell_type": "code"
   },
   "outputs": [
    {
     "name": "stdout",
     "text": "LogisticRegression: 0.9751552795031055\nSVC: 0.9875776397515528\nLinearSVC: 0.9875776397515528\nSVC: 0.9875776397515528\nSVC: 0.906832298136646\nSGDClassifier: 0.9440993788819876\nKNeighborsClassifier: 0.906832298136646\nDecisionTreeClassifier: 1.0\nGaussianNB: 0.9254658385093167\n",
     "output_type": "stream"
    }
   ],
   "execution_count": 135
  },
  {
   "cell_type": "code",
   "source": "len(classifiers[0].coef_[0])",
   "metadata": {
    "tags": [],
    "cell_id": "00042-2c0d55eb-fe92-437a-82c9-583d64509bc8",
    "deepnote_to_be_reexecuted": false,
    "source_hash": "45a2513a",
    "execution_start": 1638640278690,
    "execution_millis": 6,
    "deepnote_output_heights": [
     21.1875
    ],
    "deepnote_cell_type": "code"
   },
   "outputs": [
    {
     "output_type": "execute_result",
     "execution_count": 64,
     "data": {
      "text/plain": "104"
     },
     "metadata": {}
    }
   ],
   "execution_count": 64
  },
  {
   "cell_type": "code",
   "source": "\nresults=[]\nfor classifier in classifiers:\n    # print(classifier.__class__.__name__)\n    try:\n        results.append(dict(zip(X.columns, classifier.coef_[0])))\n    except:\n        pass\nlen(results)",
   "metadata": {
    "tags": [],
    "cell_id": "00043-c02f97cb-a9ba-4848-b0c8-a3fb9660e45d",
    "deepnote_to_be_reexecuted": false,
    "source_hash": "f80a5446",
    "execution_start": 1638641486122,
    "execution_millis": 6,
    "deepnote_output_heights": [
     21.1875,
     611
    ],
    "deepnote_cell_type": "code"
   },
   "outputs": [
    {
     "output_type": "execute_result",
     "execution_count": 126,
     "data": {
      "text/plain": "4"
     },
     "metadata": {}
    }
   ],
   "execution_count": 126
  },
  {
   "cell_type": "code",
   "source": "# coeficients = dict.fromkeys(X.columns, [])\n\ncoeficients = {col: [] for col in X.columns}\n\nfor classifier in classifiers:\n    try:\n        for col, coef in zip(coeficients, classifier.coef_[0]):\n            coeficients[col].append(coef)\n    except:\n        pass\n\ncoeficients\n\n# len(classifiers)",
   "metadata": {
    "tags": [],
    "cell_id": "00044-c33de047-0739-4aa7-9b75-0876848d9c74",
    "deepnote_to_be_reexecuted": false,
    "source_hash": "3b0049e0",
    "execution_start": 1638641635050,
    "execution_millis": 19,
    "deepnote_output_heights": [
     611,
     611
    ],
    "deepnote_cell_type": "code"
   },
   "outputs": [
    {
     "output_type": "execute_result",
     "execution_count": 134,
     "data": {
      "text/plain": "{'base_egg_steps': [2.343095622221887,\n  1.6995309569257309,\n  1.2332753709251518,\n  0.7335458618878962],\n 'base_total': [0.7843445762563632,\n  0.24454695845394103,\n  0.07657111535222398,\n  0.2976867251606458],\n 'base_happiness': [-0.2488785894958053,\n  0.3124622150763978,\n  0.11459199026172012,\n  0.034580574909545386],\n 'sp_attack': [0.41865923039071284,\n  0.2666218147193178,\n  0.05289569905355108,\n  0.1848701610452881],\n 'weight_kg': [0.5646203736563619,\n  0.252022797785952,\n  0.35808009516907935,\n  0.17612004963894756],\n 'experience_growth': [0.7991315870447183,\n  0.37425559025794386,\n  -0.018305397396404185,\n  0.3117146063809838],\n 'sp_defense': [0.37487461162292507,\n  0.17169343184636032,\n  -0.008100851161285741,\n  0.16685727520783203],\n 'capture_rate': [-1.084219554233543,\n  -0.6245006900103648,\n  -0.6742374027868133,\n  -0.18172015976442668],\n 'height_m': [0.12845814077610523,\n  -0.04394515380809216,\n  -0.04770372312426204,\n  0.05750045072776399],\n 'speed': [0.5951997426276332,\n  0.2186918385913199,\n  -0.013956331822067248,\n  0.2564229479875457],\n 'hp': [0.24446277083364984,\n  0.0646336964912475,\n  -0.2633289393815513,\n  0.1413275272329643],\n 'Beast Boost': [0.3071767320979574,\n  0.1815806991745129,\n  0.31161107590398923,\n  0.09166626802385297],\n 'attack': [0.32857199155218664,\n  -0.08539805006893797,\n  -0.1392251265403747,\n  0.1661070642893368],\n 'Pressure': [0.7703573748352802,\n  0.35498654040735045,\n  0.3832660110833291,\n  0.23211893652025314],\n 'defense': [0.3975726126985447,\n  0.09910115033966849,\n  -0.046582567542254184,\n  0.16816730360263926],\n 'Land Spirit Pokémon': [0.641613129091576,\n  0.7039304209177846,\n  0.7186625259990268,\n  0.16768586676000263],\n '1psychic': [0.8315354178391895,\n  0.15815881674395732,\n  0.1872651979595053,\n  0.26472150350675105],\n 'pokedex_number': [0.5327893739595241,\n  0.3831218919789885,\n  0.04938988536134094,\n  0.23593589097814818],\n 'against_ghost': [0.2881666299506296,\n  0.26094133253839347,\n  0.267671771787802,\n  0.139143785591167],\n 'Eon Pokémon': [0.0, 0.0, 0.0, 0.0],\n 'Turboblaze': [0.0, 0.0, 0.0, 0.0],\n 'Teravolt': [0.0, 0.0, 0.0, 0.0],\n 'Telepathy': [0.5324657288554588,\n  0.48954546506651864,\n  0.24578432019067648,\n  0.1377061789922677],\n 'generation': [0.36275076027094333,\n  0.2324982918046994,\n  -0.022363252827420785,\n  0.16168659964808538],\n 'against_dark': [-0.005026522838642147,\n  -0.1449484333500955,\n  -0.29760101798430827,\n  0.05284403773298862],\n 'Justified': [0.4311435794757851,\n  0.4707134895150811,\n  0.47295760061581427,\n  0.1322629846548155],\n 'New Species Pokémon': [0.0, 0.0, 0.0, 0.0],\n 'Sky High Pokémon': [0.0, 0.0, 0.0, 0.0],\n 'Air Lock': [0.0, 0.0, 0.0, 0.0],\n 'DNA Pokémon': [0.1773878956397886,\n  0.15699931708565715,\n  0.24319769022245832,\n  0.06744187349781847],\n 'Sea Basin Pokémon': [0.0, 0.0, 0.0, 0.0],\n 'Knowledge Pokémon': [0.526414627898581,\n  0.7948058512645555,\n  0.7327909280090529,\n  0.12689640153292164],\n 'Wish Pokémon': [0.4316980030231732,\n  0.41492505837531085,\n  0.5238111110522538,\n  0.10949012718292837],\n 'Genetic Pokémon': [0.0, 0.0, 0.0, 0.0],\n 'Rock Peak Pokémon': [0.0, 0.0, 0.0, 0.0],\n 'Freeze Pokémon': [0.0, 0.0, 0.0, 0.0],\n 'Iron Pokémon': [0.0, 0.0, 0.0, 0.0],\n 'Bad Dreams': [0.38085788786446395,\n  0.3068574791218811,\n  0.3500807371914748,\n  0.1094364498996806],\n 'Slow Start': [0.0, 0.0, 0.0, 0.0],\n 'Victory Star': [0.0, 0.0, 0.0, 0.0],\n 'Prism Armor': [0.1959332048833954,\n  0.09407846440723805,\n  0.28884907394242715,\n  0.07440560047279347],\n 'Prism Pokémon': [0.1959332048833954,\n  0.09407846440723805,\n  0.28884907394242715,\n  0.07440560047279347],\n 'Victory Pokémon': [0.0, 0.0, 0.0, 0.0],\n 'Psychic Surge': [0.0, 0.0, 0.0, 0.0],\n 'Pitch-Black Pokémon': [0.38085788786446395,\n  0.3068574791218811,\n  0.3500807371914748,\n  0.1094364498996806],\n 'Willpower Pokémon': [0.0, 0.0, 0.0, 0.0],\n 'Aura Break': [0.0, 0.0, 0.0, 0.0],\n 'Power Construct': [0.0, 0.0, 0.0, 0.0],\n 'Seafaring Pokémon': [0.0, 0.0, 0.0, 0.0],\n 'Lava Dome Pokémon': [0.0, 0.0, 0.0, 0.0],\n 'Colossal Pokémon': [0.0, 0.0, 0.0, 0.0],\n 'Mischief Pokémon (Confined)Djinn Pokémonn (Unbound)': [0.0, 0.0, 0.0, 0.0],\n 'Gratitude Pokémon': [0.0, 0.0, 0.0, 0.0],\n 'Order Pokémon': [0.0, 0.0, 0.0, 0.0],\n 'Steam Pokémon': [0.0, 0.0, 0.0, 0.0],\n 'Spatial Pokémon': [0.0, 0.0, 0.0, 0.0],\n 'Life Pokémon': [0.0, 0.0, 0.0, 0.0],\n 'Junkivore Pokémon': [0.3071767320979574,\n  0.1815806991745129,\n  0.31161107590398923,\n  0.09166626802385297],\n 'Lunar Pokémon': [0.0, 0.0, 0.0, 0.0],\n 'Renegade Pokémon': [0.0, 0.0, 0.0, 0.0],\n 'Launch Pokémon': [0.0, 0.0, 0.0, 0.0],\n 'Rainbow Pokémon': [0.0, 0.0, 0.0, 0.0],\n 'Multitype': [0.0, 0.0, 0.0, 0.0],\n 'Artificial Pokémon': [0.0, 0.0, 0.0, 0.0],\n 'Protostar Pokémon': [0.2989747472611138,\n  0.3009749537909539,\n  0.3290812080084352,\n  0.09763049785655514],\n 'Glowing Pokémon': [0.0, 0.0, 0.0, 0.0],\n 'Parasite Pokémon': [0.0, 0.0, 0.0, 0.0],\n 'Temporal Pokémon': [0.0, 0.0, 0.0, 0.0],\n 'Time Travel Pokémon': [0.0, 0.0, 0.0, 0.0],\n 'Soul-Heart': [0.0, 0.0, 0.0, 0.0],\n 'Drawn Sword Pokémon': [0.0, 0.0, 0.0, 0.0],\n 'Alpha Pokémon': [0.0, 0.0, 0.0, 0.0],\n 'Dark Aura': [0.0, 0.0, 0.0, 0.0],\n 'Diving Pokémon': [0.1708420846037778,\n  0.20830222513272484,\n  0.25075253607289666,\n  0.06938854315782288],\n 'Fairy Aura': [0.0, 0.0, 0.0, 0.0],\n 'Electric Surge': [0.0, 0.0, 0.0, 0.0],\n 'Destruction Pokémon': [0.0, 0.0, 0.0, 0.0],\n 'Thunder Pokémon': [0.5476436922397167,\n  0.9896849981889685,\n  0.6460464016317211,\n  0.1430160668298304],\n 'Grassy Surge': [0.641613129091576,\n  0.7039304209177846,\n  0.7186625259990268,\n  0.16768586676000263],\n 'Misty Surge': [0.0, 0.0, 0.0, 0.0],\n 'Sunne Pokémon': [0.0, 0.0, 0.0, 0.0],\n 'Nebula Pokémon': [0.0, 0.0, 0.0, 0.0],\n 'Aurora Pokémon': [0.0, 0.0, 0.0, 0.0],\n 'Moone Pokémon': [0.0, 0.0, 0.0, 0.0],\n 'Full Metal Body': [0.0, 0.0, 0.0, 0.0],\n 'Lissome Pokémon': [0.0, 0.0, 0.0, 0.0],\n 'Swollen Pokémon': [0.0, 0.0, 0.0, 0.0],\n 'Shadow Shield': [0.0, 0.0, 0.0, 0.0],\n 'Melody Pokémon': [0.0, 0.0, 0.0, 0.0],\n 'Abundance Pokémon': [0.4774988677101208,\n  0.42330989073078096,\n  0.6325959635787876,\n  0.13475710828707477],\n 'Boundary Pokémon': [0.0, 0.0, 0.0, 0.0],\n 'Bolt Strike Pokémon': [0.0, 0.0, 0.0, 0.0],\n 'Colt Pokémon': [0.0, 0.0, 0.0, 0.0],\n 'Vast White Pokémon': [0.0, 0.0, 0.0, 0.0],\n 'Paleozoic Pokémon': [0.0, 0.0, 0.0, 0.0],\n 'Iron Will Pokémon': [0.4311435794757851,\n  0.4707134895150811,\n  0.47295760061581427,\n  0.1322629846548155],\n 'Deep Black Pokémon': [0.0, 0.0, 0.0, 0.0],\n 'Cyclone Pokémon': [0.0, 0.0, 0.0, 0.0],\n 'Grassland Pokémon': [0.0, 0.0, 0.0, 0.0],\n 'Cavern Pokémon': [0.0, 0.0, 0.0, 0.0],\n '1dragon': [-0.13691679936296666,\n  -0.3181578732436134,\n  -0.076126808232093,\n  -0.04847209019712979],\n 'against_psychic': [-0.3068106429357311,\n  -0.10155082042003688,\n  -0.3416950382245817,\n  -0.013503858924454567],\n '1steel': [0.4616704966040646,\n  0.10683131708223875,\n  0.11356803620897413,\n  0.10731135069527925],\n 'Clear Body': [-0.11508269672680807,\n  -0.08521178354615111,\n  -0.26757267157658204,\n  -0.023204816225355057]}"
     },
     "metadata": {}
    }
   ],
   "execution_count": 134
  },
  {
   "cell_type": "markdown",
   "source": "**Considereu les SVM amb els diferents *kernels* implementats.**",
   "metadata": {
    "tags": [],
    "cell_id": "00039-442a0f57-0907-4762-8bc9-1a21c7c87080",
    "deepnote_cell_type": "markdown"
   }
  },
  {
   "cell_type": "code",
   "source": "",
   "metadata": {
    "tags": [],
    "cell_id": "00041-d6ce9968-8be9-43bf-981f-186e702b73a1",
    "deepnote_cell_type": "code"
   },
   "outputs": [],
   "execution_count": null
  },
  {
   "cell_type": "markdown",
   "source": "**Quin creieu que serà el més precís?**",
   "metadata": {
    "tags": [],
    "cell_id": "00041-02553564-aec5-4323-99d1-309e0429d118",
    "deepnote_cell_type": "markdown"
   },
   "outputs": [],
   "execution_count": null
  },
  {
   "cell_type": "code",
   "source": "",
   "metadata": {
    "tags": [],
    "cell_id": "00043-e064bd7a-d4df-4c71-980f-f2d26922a309",
    "deepnote_cell_type": "code"
   },
   "outputs": [],
   "execution_count": null
  },
  {
   "cell_type": "markdown",
   "source": "**Quin serà el més ràpid?**",
   "metadata": {
    "tags": [],
    "cell_id": "00042-81d88cda-17d1-4868-8544-bf3c0b2e89ae",
    "deepnote_cell_type": "markdown"
   },
   "outputs": [],
   "execution_count": null
  },
  {
   "cell_type": "markdown",
   "source": "**Seria una bona idea fer un `ensemble`? Quins inconvenients creieu que pot haver-hi?**",
   "metadata": {
    "tags": [],
    "cell_id": "00045-a7acd607-8a91-4dd5-a509-ac8a769993ce",
    "deepnote_cell_type": "markdown"
   }
  },
  {
   "cell_type": "markdown",
   "source": "",
   "metadata": {
    "tags": [],
    "cell_id": "00046-f1073c9a-e976-44d7-86cb-aa5dd9a02c59",
    "deepnote_cell_type": "markdown"
   }
  },
  {
   "cell_type": "markdown",
   "source": "La tasca d'aquesta pràctica s'enmarca dins l'aprenentatge computacional supervisat. A sklearn, disposem de varies tècniques (veure documentació). A les classes de teoria, hem vist varies tècniques, com ara logistic regression, SVM amb diferents kernels, Nearest Neighbour, i el perceptró... En aquesta secció heu de valorar quina o quines tècniques voleu fer servir, aixi com també explicar el per què les heu seleccionat. Recomanem, que per entendre millor la teoria, s'ha de provar com a mínim un model de SVM.",
   "metadata": {
    "tags": [],
    "cell_id": "00050-755906cd-d3db-4f40-87a0-30c30f742902",
    "deepnote_cell_type": "markdown"
   }
  },
  {
   "cell_type": "markdown",
   "source": "",
   "metadata": {
    "tags": [],
    "cell_id": "00051-0e7589fa-e776-4bd8-8bd5-5c394a124b4d",
    "deepnote_cell_type": "markdown"
   }
  },
  {
   "cell_type": "markdown",
   "source": "<a style='text-decoration:none;line-height:16px;display:flex;color:#5B5B62;padding:10px;justify-content:end;' href='https://deepnote.com?utm_source=created-in-deepnote-cell&projectId=c3c3f0e5-53b5-41aa-b55f-8ff8474beec2' target=\"_blank\">\n<img alt='Created in deepnote.com' style='display:inline;max-height:16px;margin:0px;margin-right:7.5px;' src='data:image/svg+xml;base64,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' > </img>\nCreated in <span style='font-weight:600;margin-left:4px;'>Deepnote</span></a>",
   "metadata": {
    "tags": [],
    "created_in_deepnote_cell": true,
    "deepnote_cell_type": "markdown"
   }
  }
 ],
 "nbformat": 4,
 "nbformat_minor": 2,
 "metadata": {
  "orig_nbformat": 2,
  "deepnote": {
   "is_reactive": false
  },
  "deepnote_notebook_id": "60c100c2-8d19-4971-a3d8-b17f10b53478",
  "deepnote_execution_queue": []
 }
}
