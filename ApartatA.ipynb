{
 "cells": [
  {
   "cell_type": "markdown",
   "source": "# Apartat A",
   "metadata": {
    "tags": [],
    "cell_id": "00000-aa9010e7-30f5-44c8-9e76-a2e8a2b4cd3a",
    "deepnote_cell_type": "markdown"
   }
  },
  {
   "cell_type": "code",
   "metadata": {
    "tags": [],
    "cell_id": "00002-51e96638-1096-4142-93b4-158406d2b0b9",
    "deepnote_to_be_reexecuted": false,
    "source_hash": "98666cb6",
    "execution_start": 1638724482403,
    "execution_millis": 7,
    "deepnote_cell_type": "code"
   },
   "source": "import ast\n\nimport pandas as pd\nimport numpy as np\n\nfrom sklearn import linear_model, svm, datasets, neighbors, tree, naive_bayes\nfrom sklearn.model_selection import train_test_split, cross_validate\nfrom sklearn.linear_model import LinearRegression, LogisticRegression\nfrom sklearn.metrics import f1_score, recall_score, classification_report\nfrom sklearn.preprocessing import MinMaxScaler\nfrom sklearn.ensemble import RandomForestClassifier, BaggingClassifier\nfrom sklearn.neighbors import KNeighborsClassifier\n\nimport scipy\n\nimport matplotlib.pyplot as plt\n\nimport seaborn as sns",
   "outputs": [],
   "execution_count": null
  },
  {
   "cell_type": "markdown",
   "source": "**name**: The English name of the Pokemon\\\n**japanese_name**: The Original Japanese name of the Pokemon\\\n**pokedex_number**: The entry number of the Pokemon in the National Pokedex\\\n**percentage_male**: The percentage of the species that are male. Blank if the Pokemon is genderless.\\\n**type1**: The Primary Type of the Pokemon\\\n**type2**: The Secondary Type of the Pokemon\\\n**classification**: The Classification of the Pokemon as described by the Sun and Moon Pokedex\\\n**height_m**: Height of the Pokemon in metres\\\n**weight_kg**: The Weight of the Pokemon in kilograms\\\n**capture_rate**: Capture Rate of the Pokemon\\\n**baseeggsteps**: The number of steps required to hatch an egg of the Pokemon\\\n**abilities**: A stringified list of abilities that the Pokemon is capable of having\\\n**experience_growth**: The Experience Growth of the Pokemon\\\n**base_happiness**: Base Happiness of the Pokemon\\\n**against_?**: Eighteen features that denote the amount of damage taken against an attack of a particular type\\\n**hp**: The Base HP of the Pokemon\\\n**attack**: The Base Attack of the Pokemon\\\n**defense**: The Base Defense of the Pokemon\\\n**sp_attack**: The Base Special Attack of the Pokemon\\\n**sp_defense**: The Base Special Defense of the Pokemon\\\n**speed**: The Base Speed of the Pokemon\\\n**generation**: The numbered generation which the Pokemon was first introduced\\\n**is_legendary**: Denotes if the Pokemon is legendary.",
   "metadata": {
    "tags": [],
    "cell_id": "00002-5716dc13-7d15-4c57-9721-4d6f925e0882",
    "deepnote_cell_type": "markdown"
   }
  },
  {
   "cell_type": "code",
   "metadata": {
    "tags": [],
    "cell_id": "00003-296dea32-d900-40a9-a51e-145a096545fb",
    "deepnote_to_be_reexecuted": false,
    "source_hash": "fab7edfe",
    "execution_start": 1638725146057,
    "execution_millis": 738,
    "deepnote_cell_type": "code"
   },
   "source": "df = pd.read_csv('pokemon.csv')",
   "outputs": [],
   "execution_count": null
  },
  {
   "cell_type": "code",
   "metadata": {
    "tags": [],
    "cell_id": "00010-da824209-a54a-454a-a227-ee9e19dcebb7",
    "deepnote_to_be_reexecuted": false,
    "source_hash": "5763c62",
    "execution_start": 1638725150810,
    "execution_millis": 66211,
    "deepnote_output_heights": [
     232.34375
    ],
    "deepnote_cell_type": "code"
   },
   "source": "TARGET = 'is_legendary'\nFILTER_RATE = 0.1\nNAMES = df['name']",
   "outputs": [],
   "execution_count": null
  },
  {
   "cell_type": "markdown",
   "source": "### APARTAT A",
   "metadata": {
    "tags": [],
    "is_collapsed": false,
    "cell_id": "00011-4b6f1399-160f-44d5-b132-c580133c8828",
    "deepnote_cell_type": "text-cell-h3"
   }
  },
  {
   "cell_type": "markdown",
   "source": "**EXPLORATORY DATA ANALYSIS**",
   "metadata": {
    "tags": [],
    "cell_id": "00007-e4146b8d-57a9-4943-8abd-45f5eb073d31",
    "deepnote_cell_type": "markdown"
   }
  },
  {
   "cell_type": "markdown",
   "source": "**Quants atributs té la vostra base de dades?**",
   "metadata": {
    "tags": [],
    "cell_id": "00007-c3ba4a90-5dda-4ce1-bf87-67e56cbf8b9e",
    "deepnote_cell_type": "markdown"
   }
  },
  {
   "cell_type": "code",
   "metadata": {
    "tags": [],
    "cell_id": "00008-71c685b4-aa1c-4840-8632-1326b87ad388",
    "deepnote_to_be_reexecuted": false,
    "source_hash": "9364121a",
    "execution_start": 1638725129453,
    "execution_millis": 9,
    "deepnote_output_heights": [
     21
    ],
    "deepnote_cell_type": "code"
   },
   "source": "len(df.columns)",
   "outputs": [
    {
     "output_type": "execute_result",
     "execution_count": 205,
     "data": {
      "text/plain": "41"
     },
     "metadata": {}
    }
   ],
   "execution_count": null
  },
  {
   "cell_type": "markdown",
   "source": "**Quins tipus d'atributs tens?**\n\nCategòrics, decimals i enters.",
   "metadata": {
    "tags": [],
    "cell_id": "00009-e33332b8-da49-49e2-8532-1bf04a5b6da3",
    "deepnote_cell_type": "markdown"
   }
  },
  {
   "cell_type": "code",
   "metadata": {
    "tags": [],
    "cell_id": "00010-fae11d68-b369-49d3-a9e1-c914972b7012",
    "deepnote_to_be_reexecuted": false,
    "source_hash": "3e27d26f",
    "execution_start": 1638719081560,
    "execution_millis": 37,
    "deepnote_output_heights": [
     21
    ],
    "deepnote_cell_type": "code"
   },
   "source": "df.dtypes.unique()",
   "outputs": [
    {
     "output_type": "execute_result",
     "execution_count": 6,
     "data": {
      "text/plain": "array([dtype('O'), dtype('float64'), dtype('int64')], dtype=object)"
     },
     "metadata": {}
    }
   ],
   "execution_count": null
  },
  {
   "cell_type": "markdown",
   "source": "**Com és el *target*, quantes categories diferents existeixen?**\n\nEl *target* és un atribut binari.",
   "metadata": {
    "tags": [],
    "cell_id": "00011-f33023dc-bf04-4885-9ea3-4e5bc0e57630",
    "deepnote_cell_type": "markdown"
   }
  },
  {
   "cell_type": "code",
   "metadata": {
    "tags": [],
    "cell_id": "00012-7bf91f40-c92d-4996-a3f3-0c7892491f78",
    "deepnote_to_be_reexecuted": false,
    "source_hash": "4369b186",
    "execution_start": 1638719081588,
    "execution_millis": 12,
    "deepnote_output_heights": [
     21.1875
    ],
    "deepnote_cell_type": "code"
   },
   "source": "df[TARGET].unique()",
   "outputs": [
    {
     "output_type": "execute_result",
     "execution_count": 7,
     "data": {
      "text/plain": "array([0, 1])"
     },
     "metadata": {}
    }
   ],
   "execution_count": null
  },
  {
   "cell_type": "markdown",
   "source": "**Podeu veure alguna correlació entre X i y?**\n\nHi ha atributs amb molta correlació amb el *target* i d'altres que no gaire.",
   "metadata": {
    "tags": [],
    "cell_id": "00011-1a5a155e-0240-4cd2-91e1-9bdbf5d4f5c0",
    "deepnote_cell_type": "markdown"
   }
  },
  {
   "cell_type": "code",
   "metadata": {
    "tags": [],
    "cell_id": "00012-d8702565-cecd-4464-999a-03c3767e3efe",
    "deepnote_to_be_reexecuted": false,
    "source_hash": "7b8fb3d7",
    "execution_start": 1638719081589,
    "execution_millis": 11,
    "deepnote_output_heights": [
     611
    ],
    "deepnote_cell_type": "code"
   },
   "source": "df.corr()[TARGET].abs().sort_values(ascending=False)",
   "outputs": [
    {
     "output_type": "execute_result",
     "execution_count": 8,
     "data": {
      "text/plain": "is_legendary         1.000000\nbase_egg_steps       0.873488\nbase_total           0.485440\nbase_happiness       0.413108\nsp_attack            0.406281\nweight_kg            0.393023\nexperience_growth    0.361038\nsp_defense           0.343241\nheight_m             0.322155\nspeed                0.311639\nhp                   0.308405\nattack               0.303295\ndefense              0.265587\npokedex_number       0.196785\nagainst_ghost        0.170746\ngeneration           0.139029\nagainst_dark         0.136315\nagainst_psychic      0.106047\nagainst_grass        0.070826\nagainst_flying       0.062214\nagainst_fight        0.059132\nagainst_fairy        0.050165\npercentage_male      0.045222\nagainst_normal       0.034761\nagainst_bug          0.027864\nagainst_poison       0.024349\nagainst_electric     0.023151\nagainst_water        0.020679\nagainst_rock         0.017588\nagainst_dragon       0.014844\nagainst_ground       0.012812\nagainst_fire         0.011073\nagainst_ice          0.005580\nagainst_steel        0.001397\nName: is_legendary, dtype: float64"
     },
     "metadata": {}
    }
   ],
   "execution_count": null
  },
  {
   "cell_type": "markdown",
   "source": "**Estan balancejades les etiquetes?**\n\nHi ha molts més *samples* de Pokemon comuns que de legendaris.",
   "metadata": {
    "tags": [],
    "cell_id": "00015-e41c7c1c-e826-42ed-92c3-a880d31914cd",
    "deepnote_cell_type": "markdown"
   }
  },
  {
   "cell_type": "code",
   "metadata": {
    "tags": [],
    "cell_id": "00019-0430ee38-cbdd-4d36-8bf5-d16679e96cbc",
    "deepnote_to_be_reexecuted": false,
    "source_hash": "9af24454",
    "execution_start": 1638719081604,
    "execution_millis": 2,
    "deepnote_output_heights": [
     59
    ],
    "deepnote_cell_type": "code"
   },
   "source": "df[TARGET].value_counts()",
   "outputs": [
    {
     "output_type": "execute_result",
     "execution_count": 10,
     "data": {
      "text/plain": "0    731\n1     70\nName: is_legendary, dtype: int64"
     },
     "metadata": {}
    }
   ],
   "execution_count": null
  },
  {
   "cell_type": "markdown",
   "source": "**PREPROCESSING**",
   "metadata": {
    "tags": [],
    "cell_id": "00011-87819ce3-56fc-472c-808c-bb3d283817e2",
    "deepnote_cell_type": "markdown"
   }
  },
  {
   "cell_type": "markdown",
   "source": "**Estan les dades normalitzades? Caldria fer-ho?**\n\nLes dades no estan normalitzades. Caldria escalarles ja que els atributs numèrics tenen escales molt variades.",
   "metadata": {
    "tags": [],
    "cell_id": "00020-76c1f1cb-f5c2-4c1c-8808-ccece1e3fb61",
    "deepnote_cell_type": "markdown"
   }
  },
  {
   "cell_type": "code",
   "metadata": {
    "tags": [],
    "cell_id": "00013-8a1d6645-cfae-4e58-a1d8-65d39decc440",
    "deepnote_to_be_reexecuted": false,
    "source_hash": "35db413c",
    "execution_start": 1638719081673,
    "execution_millis": 52,
    "deepnote_output_heights": [
     21.1875
    ],
    "deepnote_cell_type": "code"
   },
   "source": "for col in df.select_dtypes(exclude='object'):\n    stat, pvalue = scipy.stats.normaltest(df[col])\n    if pvalue > 1e-3:\n        print(col)",
   "outputs": [],
   "execution_count": null
  },
  {
   "cell_type": "markdown",
   "source": "**Com controleu les dades sense informació (NaNs)?**\n\nAls atributs de tipus numèric, substituirem els valors NaN per la mitja de l'atribut. Els valors NaN dels atributs categòrics desapareixeran quan fem el `OneHotEncoding`.",
   "metadata": {
    "tags": [],
    "cell_id": "00022-06b32bf7-b3d2-456f-bf2e-76d398d9ca45",
    "deepnote_cell_type": "markdown"
   }
  },
  {
   "cell_type": "code",
   "metadata": {
    "tags": [],
    "cell_id": "00021-cbd386ec-de20-4f01-9e52-cb19604f49c9",
    "deepnote_to_be_reexecuted": false,
    "source_hash": "2a95f57c",
    "execution_start": 1638725902536,
    "execution_millis": 23,
    "deepnote_output_heights": [
     97
    ],
    "deepnote_cell_type": "code"
   },
   "source": "df.isnull().sum()[df.isnull().sum() > 0]",
   "outputs": [
    {
     "output_type": "execute_result",
     "execution_count": 233,
     "data": {
      "text/plain": "height_m            20\npercentage_male     98\ntype2              384\nweight_kg           20\ndtype: int64"
     },
     "metadata": {}
    }
   ],
   "execution_count": null
  },
  {
   "cell_type": "code",
   "source": "df_raw = df.copy(deep=True)\ndf = df.fillna(df.mean())",
   "metadata": {
    "tags": [],
    "cell_id": "00022-7c3e873f-0db0-46db-9c19-841e49854bb3",
    "deepnote_to_be_reexecuted": false,
    "source_hash": "1598eaa9",
    "execution_start": 1638719081632,
    "execution_millis": 28,
    "deepnote_output_heights": [
     40.390625
    ],
    "deepnote_cell_type": "code"
   },
   "outputs": [],
   "execution_count": null
  },
  {
   "cell_type": "code",
   "metadata": {
    "tags": [],
    "cell_id": "00018-a0334903-ce71-4fbb-827e-3cca2bf4a228",
    "deepnote_to_be_reexecuted": false,
    "source_hash": "d0941da6",
    "execution_start": 1638719081735,
    "execution_millis": 3,
    "deepnote_cell_type": "code"
   },
   "source": "# 2. Preprocessing\n#No estàn normalitzades, \n#No té sentit intentar normalitzar ja que la majoria de dades que tenim són binàries\n#No tenim gaires nan's excepte en el type2, no podem reomplir-les degut a que són strings\n# (faltar contestar mes coses aqui...) Canvis dataset: En la columna capture_rate hi ha un valor que és de tipus object que no té sentit, hem ficat el valor de 70 al buscar el capture rate del pokemon a internet\n# Tenim algunes variables categòriques com: classification, type1, type2, name i japanese_name, abilities (lista)\n#",
   "outputs": [],
   "execution_count": null
  },
  {
   "cell_type": "code",
   "metadata": {
    "tags": [],
    "cell_id": "00018-8b722ac1-c640-42ae-95b7-256acf91c29d",
    "deepnote_to_be_reexecuted": false,
    "source_hash": "f8fd0b2b",
    "execution_start": 1638719081740,
    "execution_millis": 13,
    "deepnote_cell_type": "code"
   },
   "source": "df.at[df['name'] == 'Minior', 'capture_rate'] = 70  # Because '30 (Meteorite)255 (Core)'\ndf['capture_rate'] = df['capture_rate'].astype('int64')",
   "outputs": [],
   "execution_count": null
  },
  {
   "cell_type": "code",
   "metadata": {
    "tags": [],
    "cell_id": "00011-2f5868ef-3349-4556-92f6-814d591d0de1",
    "deepnote_to_be_reexecuted": false,
    "source_hash": "9ce50d9d",
    "execution_start": 1638719081792,
    "execution_millis": 214,
    "deepnote_output_heights": [
     21.1875
    ],
    "deepnote_cell_type": "code"
   },
   "source": "df.describe().loc[['mean', '50%', 'std']]",
   "outputs": [
    {
     "output_type": "execute_result",
     "execution_count": 16,
     "data": {
      "application/vnd.deepnote.dataframe.v2+json": {
       "row_count": 3,
       "column_count": 35,
       "columns": [
        {
         "name": "against_bug",
         "dtype": "float64",
         "stats": {
          "unique_count": 3,
          "nan_count": 0,
          "min": "0.5972476078279257",
          "max": "1.0",
          "histogram": [
           {
            "bin_start": 0.5972476078279257,
            "bin_end": 0.6375228470451332,
            "count": 1
           },
           {
            "bin_start": 0.6375228470451332,
            "bin_end": 0.6777980862623406,
            "count": 0
           },
           {
            "bin_start": 0.6777980862623406,
            "bin_end": 0.718073325479548,
            "count": 0
           },
           {
            "bin_start": 0.718073325479548,
            "bin_end": 0.7583485646967554,
            "count": 0
           },
           {
            "bin_start": 0.7583485646967554,
            "bin_end": 0.7986238039139628,
            "count": 0
           },
           {
            "bin_start": 0.7986238039139628,
            "bin_end": 0.8388990431311703,
            "count": 0
           },
           {
            "bin_start": 0.8388990431311703,
            "bin_end": 0.8791742823483777,
            "count": 0
           },
           {
            "bin_start": 0.8791742823483777,
            "bin_end": 0.9194495215655851,
            "count": 0
           },
           {
            "bin_start": 0.9194495215655851,
            "bin_end": 0.9597247607827926,
            "count": 0
           },
           {
            "bin_start": 0.9597247607827926,
            "bin_end": 1,
            "count": 2
           }
          ]
         }
        },
        {
         "name": "against_dark",
         "dtype": "float64",
         "stats": {
          "unique_count": 3,
          "nan_count": 0,
          "min": "0.43814158414011445",
          "max": "1.057116104868914",
          "histogram": [
           {
            "bin_start": 0.43814158414011445,
            "bin_end": 0.5000390362129944,
            "count": 1
           },
           {
            "bin_start": 0.5000390362129944,
            "bin_end": 0.5619364882858744,
            "count": 0
           },
           {
            "bin_start": 0.5619364882858744,
            "bin_end": 0.6238339403587543,
            "count": 0
           },
           {
            "bin_start": 0.6238339403587543,
            "bin_end": 0.6857313924316343,
            "count": 0
           },
           {
            "bin_start": 0.6857313924316343,
            "bin_end": 0.7476288445045143,
            "count": 0
           },
           {
            "bin_start": 0.7476288445045143,
            "bin_end": 0.8095262965773942,
            "count": 0
           },
           {
            "bin_start": 0.8095262965773942,
            "bin_end": 0.8714237486502742,
            "count": 0
           },
           {
            "bin_start": 0.8714237486502742,
            "bin_end": 0.9333212007231542,
            "count": 0
           },
           {
            "bin_start": 0.9333212007231542,
            "bin_end": 0.995218652796034,
            "count": 0
           },
           {
            "bin_start": 0.995218652796034,
            "bin_end": 1.057116104868914,
            "count": 2
           }
          ]
         }
        },
        {
         "name": "against_dragon",
         "dtype": "float64",
         "stats": {
          "unique_count": 3,
          "nan_count": 0,
          "min": "0.3530575826676876",
          "max": "1.0",
          "histogram": [
           {
            "bin_start": 0.3530575826676876,
            "bin_end": 0.41775182440091885,
            "count": 1
           },
           {
            "bin_start": 0.41775182440091885,
            "bin_end": 0.4824460661341501,
            "count": 0
           },
           {
            "bin_start": 0.4824460661341501,
            "bin_end": 0.5471403078673813,
            "count": 0
           },
           {
            "bin_start": 0.5471403078673813,
            "bin_end": 0.6118345496006126,
            "count": 0
           },
           {
            "bin_start": 0.6118345496006126,
            "bin_end": 0.6765287913338438,
            "count": 0
           },
           {
            "bin_start": 0.6765287913338438,
            "bin_end": 0.741223033067075,
            "count": 0
           },
           {
            "bin_start": 0.741223033067075,
            "bin_end": 0.8059172748003063,
            "count": 0
           },
           {
            "bin_start": 0.8059172748003063,
            "bin_end": 0.8706115165335375,
            "count": 0
           },
           {
            "bin_start": 0.8706115165335375,
            "bin_end": 0.9353057582667688,
            "count": 0
           },
           {
            "bin_start": 0.9353057582667688,
            "bin_end": 1,
            "count": 2
           }
          ]
         }
        },
        {
         "name": "against_electric",
         "dtype": "float64",
         "stats": {
          "unique_count": 3,
          "nan_count": 0,
          "min": "0.6549616165097948",
          "max": "1.0739700374531835",
          "histogram": [
           {
            "bin_start": 0.6549616165097948,
            "bin_end": 0.6968624586041336,
            "count": 1
           },
           {
            "bin_start": 0.6968624586041336,
            "bin_end": 0.7387633006984725,
            "count": 0
           },
           {
            "bin_start": 0.7387633006984725,
            "bin_end": 0.7806641427928114,
            "count": 0
           },
           {
            "bin_start": 0.7806641427928114,
            "bin_end": 0.8225649848871504,
            "count": 0
           },
           {
            "bin_start": 0.8225649848871504,
            "bin_end": 0.8644658269814891,
            "count": 0
           },
           {
            "bin_start": 0.8644658269814891,
            "bin_end": 0.9063666690758281,
            "count": 0
           },
           {
            "bin_start": 0.9063666690758281,
            "bin_end": 0.9482675111701669,
            "count": 0
           },
           {
            "bin_start": 0.9482675111701669,
            "bin_end": 0.9901683532645058,
            "count": 0
           },
           {
            "bin_start": 0.9901683532645058,
            "bin_end": 1.0320691953588446,
            "count": 1
           },
           {
            "bin_start": 1.0320691953588446,
            "bin_end": 1.0739700374531835,
            "count": 1
           }
          ]
         }
        },
        {
         "name": "against_fairy",
         "dtype": "float64",
         "stats": {
          "unique_count": 3,
          "nan_count": 0,
          "min": "0.522166832235294",
          "max": "1.068976279650437",
          "histogram": [
           {
            "bin_start": 0.522166832235294,
            "bin_end": 0.5768477769768083,
            "count": 1
           },
           {
            "bin_start": 0.5768477769768083,
            "bin_end": 0.6315287217183226,
            "count": 0
           },
           {
            "bin_start": 0.6315287217183226,
            "bin_end": 0.6862096664598369,
            "count": 0
           },
           {
            "bin_start": 0.6862096664598369,
            "bin_end": 0.7408906112013511,
            "count": 0
           },
           {
            "bin_start": 0.7408906112013511,
            "bin_end": 0.7955715559428655,
            "count": 0
           },
           {
            "bin_start": 0.7955715559428655,
            "bin_end": 0.8502525006843797,
            "count": 0
           },
           {
            "bin_start": 0.8502525006843797,
            "bin_end": 0.904933445425894,
            "count": 0
           },
           {
            "bin_start": 0.904933445425894,
            "bin_end": 0.9596143901674083,
            "count": 0
           },
           {
            "bin_start": 0.9596143901674083,
            "bin_end": 1.0142953349089225,
            "count": 1
           },
           {
            "bin_start": 1.0142953349089225,
            "bin_end": 1.068976279650437,
            "count": 1
           }
          ]
         }
        },
        {
         "name": "against_fight",
         "dtype": "float64",
         "stats": {
          "unique_count": 3,
          "nan_count": 0,
          "min": "0.7172508180232743",
          "max": "1.0655430711610487",
          "histogram": [
           {
            "bin_start": 0.7172508180232743,
            "bin_end": 0.7520800433370517,
            "count": 1
           },
           {
            "bin_start": 0.7520800433370517,
            "bin_end": 0.7869092686508292,
            "count": 0
           },
           {
            "bin_start": 0.7869092686508292,
            "bin_end": 0.8217384939646066,
            "count": 0
           },
           {
            "bin_start": 0.8217384939646066,
            "bin_end": 0.856567719278384,
            "count": 0
           },
           {
            "bin_start": 0.856567719278384,
            "bin_end": 0.8913969445921615,
            "count": 0
           },
           {
            "bin_start": 0.8913969445921615,
            "bin_end": 0.926226169905939,
            "count": 0
           },
           {
            "bin_start": 0.926226169905939,
            "bin_end": 0.9610553952197164,
            "count": 0
           },
           {
            "bin_start": 0.9610553952197164,
            "bin_end": 0.9958846205334939,
            "count": 0
           },
           {
            "bin_start": 0.9958846205334939,
            "bin_end": 1.0307138458472713,
            "count": 1
           },
           {
            "bin_start": 1.0307138458472713,
            "bin_end": 1.0655430711610487,
            "count": 1
           }
          ]
         }
        },
        {
         "name": "against_fire",
         "dtype": "float64",
         "stats": {
          "unique_count": 3,
          "nan_count": 0,
          "min": "0.6918526384612678",
          "max": "1.1354556803995006",
          "histogram": [
           {
            "bin_start": 0.6918526384612678,
            "bin_end": 0.7362129426550911,
            "count": 1
           },
           {
            "bin_start": 0.7362129426550911,
            "bin_end": 0.7805732468489144,
            "count": 0
           },
           {
            "bin_start": 0.7805732468489144,
            "bin_end": 0.8249335510427376,
            "count": 0
           },
           {
            "bin_start": 0.8249335510427376,
            "bin_end": 0.8692938552365609,
            "count": 0
           },
           {
            "bin_start": 0.8692938552365609,
            "bin_end": 0.9136541594303842,
            "count": 0
           },
           {
            "bin_start": 0.9136541594303842,
            "bin_end": 0.9580144636242075,
            "count": 0
           },
           {
            "bin_start": 0.9580144636242075,
            "bin_end": 1.0023747678180308,
            "count": 1
           },
           {
            "bin_start": 1.0023747678180308,
            "bin_end": 1.046735072011854,
            "count": 0
           },
           {
            "bin_start": 1.046735072011854,
            "bin_end": 1.0910953762056774,
            "count": 0
           },
           {
            "bin_start": 1.0910953762056774,
            "bin_end": 1.1354556803995006,
            "count": 1
           }
          ]
         }
        },
        {
         "name": "against_flying",
         "dtype": "float64",
         "stats": {
          "unique_count": 3,
          "nan_count": 0,
          "min": "0.6044878392100282",
          "max": "1.192883895131086",
          "histogram": [
           {
            "bin_start": 0.6044878392100282,
            "bin_end": 0.663327444802134,
            "count": 1
           },
           {
            "bin_start": 0.663327444802134,
            "bin_end": 0.7221670503942398,
            "count": 0
           },
           {
            "bin_start": 0.7221670503942398,
            "bin_end": 0.7810066559863456,
            "count": 0
           },
           {
            "bin_start": 0.7810066559863456,
            "bin_end": 0.8398462615784514,
            "count": 0
           },
           {
            "bin_start": 0.8398462615784514,
            "bin_end": 0.8986858671705571,
            "count": 0
           },
           {
            "bin_start": 0.8986858671705571,
            "bin_end": 0.957525472762663,
            "count": 0
           },
           {
            "bin_start": 0.957525472762663,
            "bin_end": 1.0163650783547689,
            "count": 1
           },
           {
            "bin_start": 1.0163650783547689,
            "bin_end": 1.0752046839468745,
            "count": 0
           },
           {
            "bin_start": 1.0752046839468745,
            "bin_end": 1.1340442895389802,
            "count": 0
           },
           {
            "bin_start": 1.1340442895389802,
            "bin_end": 1.192883895131086,
            "count": 1
           }
          ]
         }
        },
        {
         "name": "against_ghost",
         "dtype": "float64",
         "stats": {
          "unique_count": 3,
          "nan_count": 0,
          "min": "0.5582564651653185",
          "max": "1.0",
          "histogram": [
           {
            "bin_start": 0.5582564651653185,
            "bin_end": 0.6024308186487866,
            "count": 1
           },
           {
            "bin_start": 0.6024308186487866,
            "bin_end": 0.6466051721322548,
            "count": 0
           },
           {
            "bin_start": 0.6466051721322548,
            "bin_end": 0.690779525615723,
            "count": 0
           },
           {
            "bin_start": 0.690779525615723,
            "bin_end": 0.7349538790991911,
            "count": 0
           },
           {
            "bin_start": 0.7349538790991911,
            "bin_end": 0.7791282325826592,
            "count": 0
           },
           {
            "bin_start": 0.7791282325826592,
            "bin_end": 0.8233025860661274,
            "count": 0
           },
           {
            "bin_start": 0.8233025860661274,
            "bin_end": 0.8674769395495956,
            "count": 0
           },
           {
            "bin_start": 0.8674769395495956,
            "bin_end": 0.9116512930330637,
            "count": 0
           },
           {
            "bin_start": 0.9116512930330637,
            "bin_end": 0.9558256465165318,
            "count": 0
           },
           {
            "bin_start": 0.9558256465165318,
            "bin_end": 1,
            "count": 2
           }
          ]
         }
        },
        {
         "name": "against_grass",
         "dtype": "float64",
         "stats": {
          "unique_count": 3,
          "nan_count": 0,
          "min": "0.7888959497934436",
          "max": "1.034019975031211",
          "histogram": [
           {
            "bin_start": 0.7888959497934436,
            "bin_end": 0.8134083523172203,
            "count": 1
           },
           {
            "bin_start": 0.8134083523172203,
            "bin_end": 0.837920754840997,
            "count": 0
           },
           {
            "bin_start": 0.837920754840997,
            "bin_end": 0.8624331573647738,
            "count": 0
           },
           {
            "bin_start": 0.8624331573647738,
            "bin_end": 0.8869455598885505,
            "count": 0
           },
           {
            "bin_start": 0.8869455598885505,
            "bin_end": 0.9114579624123272,
            "count": 0
           },
           {
            "bin_start": 0.9114579624123272,
            "bin_end": 0.935970364936104,
            "count": 0
           },
           {
            "bin_start": 0.935970364936104,
            "bin_end": 0.9604827674598807,
            "count": 0
           },
           {
            "bin_start": 0.9604827674598807,
            "bin_end": 0.9849951699836574,
            "count": 0
           },
           {
            "bin_start": 0.9849951699836574,
            "bin_end": 1.009507572507434,
            "count": 1
           },
           {
            "bin_start": 1.009507572507434,
            "bin_end": 1.034019975031211,
            "count": 1
           }
          ]
         }
        },
        {
         "name": "against_ground",
         "dtype": "float64",
         "stats": {
          "unique_count": 3,
          "nan_count": 0,
          "min": "0.7388181474447942",
          "max": "1.0980024968789013",
          "histogram": [
           {
            "bin_start": 0.7388181474447942,
            "bin_end": 0.774736582388205,
            "count": 1
           },
           {
            "bin_start": 0.774736582388205,
            "bin_end": 0.8106550173316156,
            "count": 0
           },
           {
            "bin_start": 0.8106550173316156,
            "bin_end": 0.8465734522750263,
            "count": 0
           },
           {
            "bin_start": 0.8465734522750263,
            "bin_end": 0.8824918872184371,
            "count": 0
           },
           {
            "bin_start": 0.8824918872184371,
            "bin_end": 0.9184103221618478,
            "count": 0
           },
           {
            "bin_start": 0.9184103221618478,
            "bin_end": 0.9543287571052584,
            "count": 0
           },
           {
            "bin_start": 0.9543287571052584,
            "bin_end": 0.9902471920486692,
            "count": 0
           },
           {
            "bin_start": 0.9902471920486692,
            "bin_end": 1.0261656269920798,
            "count": 1
           },
           {
            "bin_start": 1.0261656269920798,
            "bin_end": 1.0620840619354905,
            "count": 0
           },
           {
            "bin_start": 1.0620840619354905,
            "bin_end": 1.0980024968789013,
            "count": 1
           }
          ]
         }
        },
        {
         "name": "against_ice",
         "dtype": "float64",
         "stats": {
          "unique_count": 3,
          "nan_count": 0,
          "min": "0.7353561542090226",
          "max": "1.2081772784019975",
          "histogram": [
           {
            "bin_start": 0.7353561542090226,
            "bin_end": 0.78263826662832,
            "count": 1
           },
           {
            "bin_start": 0.78263826662832,
            "bin_end": 0.8299203790476175,
            "count": 0
           },
           {
            "bin_start": 0.8299203790476175,
            "bin_end": 0.877202491466915,
            "count": 0
           },
           {
            "bin_start": 0.877202491466915,
            "bin_end": 0.9244846038862126,
            "count": 0
           },
           {
            "bin_start": 0.9244846038862126,
            "bin_end": 0.97176671630551,
            "count": 0
           },
           {
            "bin_start": 0.97176671630551,
            "bin_end": 1.0190488287248076,
            "count": 1
           },
           {
            "bin_start": 1.0190488287248076,
            "bin_end": 1.066330941144105,
            "count": 0
           },
           {
            "bin_start": 1.066330941144105,
            "bin_end": 1.1136130535634026,
            "count": 0
           },
           {
            "bin_start": 1.1136130535634026,
            "bin_end": 1.1608951659827,
            "count": 0
           },
           {
            "bin_start": 1.1608951659827,
            "bin_end": 1.2081772784019975,
            "count": 1
           }
          ]
         }
        },
        {
         "name": "against_normal",
         "dtype": "float64",
         "stats": {
          "unique_count": 3,
          "nan_count": 0,
          "min": "0.2661061085098709",
          "max": "1.0",
          "histogram": [
           {
            "bin_start": 0.2661061085098709,
            "bin_end": 0.33949549765888376,
            "count": 1
           },
           {
            "bin_start": 0.33949549765888376,
            "bin_end": 0.4128848868078967,
            "count": 0
           },
           {
            "bin_start": 0.4128848868078967,
            "bin_end": 0.48627427595690964,
            "count": 0
           },
           {
            "bin_start": 0.48627427595690964,
            "bin_end": 0.5596636651059226,
            "count": 0
           },
           {
            "bin_start": 0.5596636651059226,
            "bin_end": 0.6330530542549355,
            "count": 0
           },
           {
            "bin_start": 0.6330530542549355,
            "bin_end": 0.7064424434039484,
            "count": 0
           },
           {
            "bin_start": 0.7064424434039484,
            "bin_end": 0.7798318325529612,
            "count": 0
           },
           {
            "bin_start": 0.7798318325529612,
            "bin_end": 0.8532212217019741,
            "count": 0
           },
           {
            "bin_start": 0.8532212217019741,
            "bin_end": 0.9266106108509871,
            "count": 1
           },
           {
            "bin_start": 0.9266106108509871,
            "bin_end": 1,
            "count": 1
           }
          ]
         }
        },
        {
         "name": "against_poison",
         "dtype": "float64",
         "stats": {
          "unique_count": 3,
          "nan_count": 0,
          "min": "0.5493752481077557",
          "max": "1.0",
          "histogram": [
           {
            "bin_start": 0.5493752481077557,
            "bin_end": 0.5944377232969802,
            "count": 1
           },
           {
            "bin_start": 0.5944377232969802,
            "bin_end": 0.6395001984862045,
            "count": 0
           },
           {
            "bin_start": 0.6395001984862045,
            "bin_end": 0.684562673675429,
            "count": 0
           },
           {
            "bin_start": 0.684562673675429,
            "bin_end": 0.7296251488646535,
            "count": 0
           },
           {
            "bin_start": 0.7296251488646535,
            "bin_end": 0.7746876240538778,
            "count": 0
           },
           {
            "bin_start": 0.7746876240538778,
            "bin_end": 0.8197500992431023,
            "count": 0
           },
           {
            "bin_start": 0.8197500992431023,
            "bin_end": 0.8648125744323267,
            "count": 0
           },
           {
            "bin_start": 0.8648125744323267,
            "bin_end": 0.9098750496215511,
            "count": 0
           },
           {
            "bin_start": 0.9098750496215511,
            "bin_end": 0.9549375248107755,
            "count": 0
           },
           {
            "bin_start": 0.9549375248107755,
            "bin_end": 1,
            "count": 2
           }
          ]
         }
        },
        {
         "name": "against_psychic",
         "dtype": "float64",
         "stats": {
          "unique_count": 3,
          "nan_count": 0,
          "min": "0.49518298393424975",
          "max": "1.0053058676654183",
          "histogram": [
           {
            "bin_start": 0.49518298393424975,
            "bin_end": 0.5461952723073666,
            "count": 1
           },
           {
            "bin_start": 0.5461952723073666,
            "bin_end": 0.5972075606804834,
            "count": 0
           },
           {
            "bin_start": 0.5972075606804834,
            "bin_end": 0.6482198490536003,
            "count": 0
           },
           {
            "bin_start": 0.6482198490536003,
            "bin_end": 0.6992321374267172,
            "count": 0
           },
           {
            "bin_start": 0.6992321374267172,
            "bin_end": 0.750244425799834,
            "count": 0
           },
           {
            "bin_start": 0.750244425799834,
            "bin_end": 0.8012567141729509,
            "count": 0
           },
           {
            "bin_start": 0.8012567141729509,
            "bin_end": 0.8522690025460677,
            "count": 0
           },
           {
            "bin_start": 0.8522690025460677,
            "bin_end": 0.9032812909191845,
            "count": 0
           },
           {
            "bin_start": 0.9032812909191845,
            "bin_end": 0.9542935792923014,
            "count": 0
           },
           {
            "bin_start": 0.9542935792923014,
            "bin_end": 1.0053058676654183,
            "count": 2
           }
          ]
         }
        },
        {
         "name": "against_rock",
         "dtype": "float64",
         "stats": {
          "unique_count": 3,
          "nan_count": 0,
          "min": "0.6971481388239288",
          "max": "1.2503121098626717",
          "histogram": [
           {
            "bin_start": 0.6971481388239288,
            "bin_end": 0.752464535927803,
            "count": 1
           },
           {
            "bin_start": 0.752464535927803,
            "bin_end": 0.8077809330316774,
            "count": 0
           },
           {
            "bin_start": 0.8077809330316774,
            "bin_end": 0.8630973301355517,
            "count": 0
           },
           {
            "bin_start": 0.8630973301355517,
            "bin_end": 0.9184137272394259,
            "count": 0
           },
           {
            "bin_start": 0.9184137272394259,
            "bin_end": 0.9737301243433003,
            "count": 0
           },
           {
            "bin_start": 0.9737301243433003,
            "bin_end": 1.0290465214471745,
            "count": 1
           },
           {
            "bin_start": 1.0290465214471745,
            "bin_end": 1.0843629185510488,
            "count": 0
           },
           {
            "bin_start": 1.0843629185510488,
            "bin_end": 1.1396793156549232,
            "count": 0
           },
           {
            "bin_start": 1.1396793156549232,
            "bin_end": 1.1949957127587973,
            "count": 0
           },
           {
            "bin_start": 1.1949957127587973,
            "bin_end": 1.2503121098626717,
            "count": 1
           }
          ]
         }
        },
        {
         "name": "against_steel",
         "dtype": "float64",
         "stats": {
          "unique_count": 3,
          "nan_count": 0,
          "min": "0.5001166374568772",
          "max": "1.0",
          "histogram": [
           {
            "bin_start": 0.5001166374568772,
            "bin_end": 0.5501049737111895,
            "count": 1
           },
           {
            "bin_start": 0.5501049737111895,
            "bin_end": 0.6000933099655017,
            "count": 0
           },
           {
            "bin_start": 0.6000933099655017,
            "bin_end": 0.650081646219814,
            "count": 0
           },
           {
            "bin_start": 0.650081646219814,
            "bin_end": 0.7000699824741263,
            "count": 0
           },
           {
            "bin_start": 0.7000699824741263,
            "bin_end": 0.7500583187284386,
            "count": 0
           },
           {
            "bin_start": 0.7500583187284386,
            "bin_end": 0.8000466549827508,
            "count": 0
           },
           {
            "bin_start": 0.8000466549827508,
            "bin_end": 0.8500349912370632,
            "count": 0
           },
           {
            "bin_start": 0.8500349912370632,
            "bin_end": 0.9000233274913754,
            "count": 0
           },
           {
            "bin_start": 0.9000233274913754,
            "bin_end": 0.9500116637456877,
            "count": 0
           },
           {
            "bin_start": 0.9500116637456877,
            "bin_end": 1,
            "count": 2
           }
          ]
         }
        },
        {
         "name": "against_water",
         "dtype": "float64",
         "stats": {
          "unique_count": 3,
          "nan_count": 0,
          "min": "0.6065619893640908",
          "max": "1.0583645443196006",
          "histogram": [
           {
            "bin_start": 0.6065619893640908,
            "bin_end": 0.6517422448596417,
            "count": 1
           },
           {
            "bin_start": 0.6517422448596417,
            "bin_end": 0.6969225003551928,
            "count": 0
           },
           {
            "bin_start": 0.6969225003551928,
            "bin_end": 0.7421027558507437,
            "count": 0
           },
           {
            "bin_start": 0.7421027558507437,
            "bin_end": 0.7872830113462947,
            "count": 0
           },
           {
            "bin_start": 0.7872830113462947,
            "bin_end": 0.8324632668418457,
            "count": 0
           },
           {
            "bin_start": 0.8324632668418457,
            "bin_end": 0.8776435223373966,
            "count": 0
           },
           {
            "bin_start": 0.8776435223373966,
            "bin_end": 0.9228237778329476,
            "count": 0
           },
           {
            "bin_start": 0.9228237778329476,
            "bin_end": 0.9680040333284986,
            "count": 0
           },
           {
            "bin_start": 0.9680040333284986,
            "bin_end": 1.0131842888240497,
            "count": 1
           },
           {
            "bin_start": 1.0131842888240497,
            "bin_end": 1.0583645443196006,
            "count": 1
           }
          ]
         }
        },
        {
         "name": "attack",
         "dtype": "float64",
         "stats": {
          "unique_count": 3,
          "nan_count": 0,
          "min": "32.1588202380175",
          "max": "77.85767790262172",
          "histogram": [
           {
            "bin_start": 32.1588202380175,
            "bin_end": 36.72870600447792,
            "count": 1
           },
           {
            "bin_start": 36.72870600447792,
            "bin_end": 41.298591770938344,
            "count": 0
           },
           {
            "bin_start": 41.298591770938344,
            "bin_end": 45.86847753739876,
            "count": 0
           },
           {
            "bin_start": 45.86847753739876,
            "bin_end": 50.438363303859184,
            "count": 0
           },
           {
            "bin_start": 50.438363303859184,
            "bin_end": 55.00824907031961,
            "count": 0
           },
           {
            "bin_start": 55.00824907031961,
            "bin_end": 59.57813483678002,
            "count": 0
           },
           {
            "bin_start": 59.57813483678002,
            "bin_end": 64.14802060324044,
            "count": 0
           },
           {
            "bin_start": 64.14802060324044,
            "bin_end": 68.71790636970087,
            "count": 0
           },
           {
            "bin_start": 68.71790636970087,
            "bin_end": 73.2877921361613,
            "count": 0
           },
           {
            "bin_start": 73.2877921361613,
            "bin_end": 77.85767790262172,
            "count": 2
           }
          ]
         }
        },
        {
         "name": "base_egg_steps",
         "dtype": "float64",
         "stats": {
          "unique_count": 3,
          "nan_count": 0,
          "min": "5120.0",
          "max": "7191.011235955056",
          "histogram": [
           {
            "bin_start": 5120,
            "bin_end": 5327.101123595506,
            "count": 1
           },
           {
            "bin_start": 5327.101123595506,
            "bin_end": 5534.202247191011,
            "count": 0
           },
           {
            "bin_start": 5534.202247191011,
            "bin_end": 5741.303370786517,
            "count": 0
           },
           {
            "bin_start": 5741.303370786517,
            "bin_end": 5948.404494382023,
            "count": 0
           },
           {
            "bin_start": 5948.404494382023,
            "bin_end": 6155.505617977527,
            "count": 0
           },
           {
            "bin_start": 6155.505617977527,
            "bin_end": 6362.606741573034,
            "count": 0
           },
           {
            "bin_start": 6362.606741573034,
            "bin_end": 6569.707865168539,
            "count": 1
           },
           {
            "bin_start": 6569.707865168539,
            "bin_end": 6776.808988764044,
            "count": 0
           },
           {
            "bin_start": 6776.808988764044,
            "bin_end": 6983.91011235955,
            "count": 0
           },
           {
            "bin_start": 6983.91011235955,
            "bin_end": 7191.011235955056,
            "count": 1
           }
          ]
         }
        },
        {
         "name": "base_happiness",
         "dtype": "float64",
         "stats": {
          "unique_count": 3,
          "nan_count": 0,
          "min": "19.59894787489233",
          "max": "70.0",
          "histogram": [
           {
            "bin_start": 19.59894787489233,
            "bin_end": 24.639053087403095,
            "count": 1
           },
           {
            "bin_start": 24.639053087403095,
            "bin_end": 29.679158299913862,
            "count": 0
           },
           {
            "bin_start": 29.679158299913862,
            "bin_end": 34.71926351242463,
            "count": 0
           },
           {
            "bin_start": 34.71926351242463,
            "bin_end": 39.7593687249354,
            "count": 0
           },
           {
            "bin_start": 39.7593687249354,
            "bin_end": 44.799473937446166,
            "count": 0
           },
           {
            "bin_start": 44.799473937446166,
            "bin_end": 49.83957914995693,
            "count": 0
           },
           {
            "bin_start": 49.83957914995693,
            "bin_end": 54.8796843624677,
            "count": 0
           },
           {
            "bin_start": 54.8796843624677,
            "bin_end": 59.919789574978466,
            "count": 0
           },
           {
            "bin_start": 59.919789574978466,
            "bin_end": 64.95989478748923,
            "count": 0
           },
           {
            "bin_start": 64.95989478748923,
            "bin_end": 70,
            "count": 2
           }
          ]
         }
        },
        {
         "name": "base_total",
         "dtype": "float64",
         "stats": {
          "unique_count": 3,
          "nan_count": 0,
          "min": "119.20357658921323",
          "max": "435.0",
          "histogram": [
           {
            "bin_start": 119.20357658921323,
            "bin_end": 150.7832189302919,
            "count": 1
           },
           {
            "bin_start": 150.7832189302919,
            "bin_end": 182.36286127137058,
            "count": 0
           },
           {
            "bin_start": 182.36286127137058,
            "bin_end": 213.94250361244923,
            "count": 0
           },
           {
            "bin_start": 213.94250361244923,
            "bin_end": 245.5221459535279,
            "count": 0
           },
           {
            "bin_start": 245.5221459535279,
            "bin_end": 277.1017882946066,
            "count": 0
           },
           {
            "bin_start": 277.1017882946066,
            "bin_end": 308.6814306356853,
            "count": 0
           },
           {
            "bin_start": 308.6814306356853,
            "bin_end": 340.26107297676396,
            "count": 0
           },
           {
            "bin_start": 340.26107297676396,
            "bin_end": 371.84071531784264,
            "count": 0
           },
           {
            "bin_start": 371.84071531784264,
            "bin_end": 403.4203576589213,
            "count": 0
           },
           {
            "bin_start": 403.4203576589213,
            "bin_end": 435,
            "count": 2
           }
          ]
         }
        },
        {
         "name": "capture_rate",
         "dtype": "float64",
         "stats": {
          "unique_count": 3,
          "nan_count": 0,
          "min": "60.0",
          "max": "98.72534332084894",
          "histogram": [
           {
            "bin_start": 60,
            "bin_end": 63.872534332084896,
            "count": 1
           },
           {
            "bin_start": 63.872534332084896,
            "bin_end": 67.74506866416979,
            "count": 0
           },
           {
            "bin_start": 67.74506866416979,
            "bin_end": 71.61760299625467,
            "count": 0
           },
           {
            "bin_start": 71.61760299625467,
            "bin_end": 75.49013732833957,
            "count": 0
           },
           {
            "bin_start": 75.49013732833957,
            "bin_end": 79.36267166042447,
            "count": 1
           },
           {
            "bin_start": 79.36267166042447,
            "bin_end": 83.23520599250936,
            "count": 0
           },
           {
            "bin_start": 83.23520599250936,
            "bin_end": 87.10774032459426,
            "count": 0
           },
           {
            "bin_start": 87.10774032459426,
            "bin_end": 90.98027465667914,
            "count": 0
           },
           {
            "bin_start": 90.98027465667914,
            "bin_end": 94.85280898876405,
            "count": 0
           },
           {
            "bin_start": 94.85280898876405,
            "bin_end": 98.72534332084894,
            "count": 1
           }
          ]
         }
        },
        {
         "name": "defense",
         "dtype": "float64",
         "stats": {
          "unique_count": 3,
          "nan_count": 0,
          "min": "30.76915945444535",
          "max": "73.00873907615481",
          "histogram": [
           {
            "bin_start": 30.76915945444535,
            "bin_end": 34.9931174166163,
            "count": 1
           },
           {
            "bin_start": 34.9931174166163,
            "bin_end": 39.21707537878724,
            "count": 0
           },
           {
            "bin_start": 39.21707537878724,
            "bin_end": 43.441033340958185,
            "count": 0
           },
           {
            "bin_start": 43.441033340958185,
            "bin_end": 47.664991303129135,
            "count": 0
           },
           {
            "bin_start": 47.664991303129135,
            "bin_end": 51.888949265300084,
            "count": 0
           },
           {
            "bin_start": 51.888949265300084,
            "bin_end": 56.11290722747103,
            "count": 0
           },
           {
            "bin_start": 56.11290722747103,
            "bin_end": 60.33686518964197,
            "count": 0
           },
           {
            "bin_start": 60.33686518964197,
            "bin_end": 64.56082315181291,
            "count": 0
           },
           {
            "bin_start": 64.56082315181291,
            "bin_end": 68.78478111398385,
            "count": 0
           },
           {
            "bin_start": 68.78478111398385,
            "bin_end": 73.00873907615481,
            "count": 2
           }
          ]
         }
        },
        {
         "name": "experience_growth",
         "dtype": "float64",
         "stats": {
          "unique_count": 3,
          "nan_count": 0,
          "min": "160255.83509567127",
          "max": "1054995.9051186019",
          "histogram": [
           {
            "bin_start": 160255.83509567127,
            "bin_end": 249729.8420979643,
            "count": 1
           },
           {
            "bin_start": 249729.8420979643,
            "bin_end": 339203.8491002574,
            "count": 0
           },
           {
            "bin_start": 339203.8491002574,
            "bin_end": 428677.8561025504,
            "count": 0
           },
           {
            "bin_start": 428677.8561025504,
            "bin_end": 518151.86310484353,
            "count": 0
           },
           {
            "bin_start": 518151.86310484353,
            "bin_end": 607625.8701071366,
            "count": 0
           },
           {
            "bin_start": 607625.8701071366,
            "bin_end": 697099.8771094296,
            "count": 0
           },
           {
            "bin_start": 697099.8771094296,
            "bin_end": 786573.8841117227,
            "count": 0
           },
           {
            "bin_start": 786573.8841117227,
            "bin_end": 876047.8911140157,
            "count": 0
           },
           {
            "bin_start": 876047.8911140157,
            "bin_end": 965521.8981163087,
            "count": 0
           },
           {
            "bin_start": 965521.8981163087,
            "bin_end": 1054995.9051186019,
            "count": 2
           }
          ]
         }
        },
        {
         "name": "height_m",
         "dtype": "float64",
         "stats": {
          "unique_count": 3,
          "nan_count": 0,
          "min": "1.0",
          "max": "1.1638924455825865",
          "histogram": [
           {
            "bin_start": 1,
            "bin_end": 1.0163892445582587,
            "count": 1
           },
           {
            "bin_start": 1.0163892445582587,
            "bin_end": 1.0327784891165173,
            "count": 0
           },
           {
            "bin_start": 1.0327784891165173,
            "bin_end": 1.049167733674776,
            "count": 0
           },
           {
            "bin_start": 1.049167733674776,
            "bin_end": 1.0655569782330345,
            "count": 0
           },
           {
            "bin_start": 1.0655569782330345,
            "bin_end": 1.0819462227912933,
            "count": 1
           },
           {
            "bin_start": 1.0819462227912933,
            "bin_end": 1.098335467349552,
            "count": 0
           },
           {
            "bin_start": 1.098335467349552,
            "bin_end": 1.1147247119078105,
            "count": 0
           },
           {
            "bin_start": 1.1147247119078105,
            "bin_end": 1.1311139564660693,
            "count": 0
           },
           {
            "bin_start": 1.1311139564660693,
            "bin_end": 1.1475032010243278,
            "count": 0
           },
           {
            "bin_start": 1.1475032010243278,
            "bin_end": 1.1638924455825865,
            "count": 1
           }
          ]
         }
        },
        {
         "name": "hp",
         "dtype": "float64",
         "stats": {
          "unique_count": 3,
          "nan_count": 0,
          "min": "26.576014572576486",
          "max": "68.95880149812734",
          "histogram": [
           {
            "bin_start": 26.576014572576486,
            "bin_end": 30.814293265131575,
            "count": 1
           },
           {
            "bin_start": 30.814293265131575,
            "bin_end": 35.05257195768666,
            "count": 0
           },
           {
            "bin_start": 35.05257195768666,
            "bin_end": 39.290850650241744,
            "count": 0
           },
           {
            "bin_start": 39.290850650241744,
            "bin_end": 43.529129342796836,
            "count": 0
           },
           {
            "bin_start": 43.529129342796836,
            "bin_end": 47.76740803535192,
            "count": 0
           },
           {
            "bin_start": 47.76740803535192,
            "bin_end": 52.005686727907005,
            "count": 0
           },
           {
            "bin_start": 52.005686727907005,
            "bin_end": 56.24396542046209,
            "count": 0
           },
           {
            "bin_start": 56.24396542046209,
            "bin_end": 60.482244113017174,
            "count": 0
           },
           {
            "bin_start": 60.482244113017174,
            "bin_end": 64.72052280557226,
            "count": 0
           },
           {
            "bin_start": 64.72052280557226,
            "bin_end": 68.95880149812734,
            "count": 2
           }
          ]
         }
        },
        {
         "name": "percentage_male",
         "dtype": "float64",
         "stats": {
          "unique_count": 3,
          "nan_count": 0,
          "min": "18.980068959564267",
          "max": "55.155761024182084",
          "histogram": [
           {
            "bin_start": 18.980068959564267,
            "bin_end": 22.597638166026048,
            "count": 1
           },
           {
            "bin_start": 22.597638166026048,
            "bin_end": 26.215207372487832,
            "count": 0
           },
           {
            "bin_start": 26.215207372487832,
            "bin_end": 29.832776578949613,
            "count": 0
           },
           {
            "bin_start": 29.832776578949613,
            "bin_end": 33.45034578541139,
            "count": 0
           },
           {
            "bin_start": 33.45034578541139,
            "bin_end": 37.06791499187318,
            "count": 0
           },
           {
            "bin_start": 37.06791499187318,
            "bin_end": 40.68548419833496,
            "count": 0
           },
           {
            "bin_start": 40.68548419833496,
            "bin_end": 44.30305340479674,
            "count": 0
           },
           {
            "bin_start": 44.30305340479674,
            "bin_end": 47.92062261125852,
            "count": 0
           },
           {
            "bin_start": 47.92062261125852,
            "bin_end": 51.5381918177203,
            "count": 1
           },
           {
            "bin_start": 51.5381918177203,
            "bin_end": 55.155761024182084,
            "count": 1
           }
          ]
         }
        },
        {
         "name": "pokedex_number",
         "dtype": "float64",
         "stats": {
          "unique_count": 2,
          "nan_count": 0,
          "min": "231.3730753566629",
          "max": "401.0",
          "histogram": [
           {
            "bin_start": 231.3730753566629,
            "bin_end": 248.3357678209966,
            "count": 1
           },
           {
            "bin_start": 248.3357678209966,
            "bin_end": 265.2984602853303,
            "count": 0
           },
           {
            "bin_start": 265.2984602853303,
            "bin_end": 282.261152749664,
            "count": 0
           },
           {
            "bin_start": 282.261152749664,
            "bin_end": 299.2238452139977,
            "count": 0
           },
           {
            "bin_start": 299.2238452139977,
            "bin_end": 316.18653767833143,
            "count": 0
           },
           {
            "bin_start": 316.18653767833143,
            "bin_end": 333.14923014266515,
            "count": 0
           },
           {
            "bin_start": 333.14923014266515,
            "bin_end": 350.11192260699886,
            "count": 0
           },
           {
            "bin_start": 350.11192260699886,
            "bin_end": 367.0746150713326,
            "count": 0
           },
           {
            "bin_start": 367.0746150713326,
            "bin_end": 384.0373075356663,
            "count": 0
           },
           {
            "bin_start": 384.0373075356663,
            "bin_end": 401,
            "count": 2
           }
          ]
         }
        },
        {
         "name": "sp_attack",
         "dtype": "float64",
         "stats": {
          "unique_count": 3,
          "nan_count": 0,
          "min": "32.35382632746034",
          "max": "71.30586766541823",
          "histogram": [
           {
            "bin_start": 32.35382632746034,
            "bin_end": 36.249030461256126,
            "count": 1
           },
           {
            "bin_start": 36.249030461256126,
            "bin_end": 40.14423459505192,
            "count": 0
           },
           {
            "bin_start": 40.14423459505192,
            "bin_end": 44.039438728847706,
            "count": 0
           },
           {
            "bin_start": 44.039438728847706,
            "bin_end": 47.9346428626435,
            "count": 0
           },
           {
            "bin_start": 47.9346428626435,
            "bin_end": 51.82984699643929,
            "count": 0
           },
           {
            "bin_start": 51.82984699643929,
            "bin_end": 55.72505113023507,
            "count": 0
           },
           {
            "bin_start": 55.72505113023507,
            "bin_end": 59.62025526403086,
            "count": 0
           },
           {
            "bin_start": 59.62025526403086,
            "bin_end": 63.51545939782665,
            "count": 0
           },
           {
            "bin_start": 63.51545939782665,
            "bin_end": 67.41066353162245,
            "count": 1
           },
           {
            "bin_start": 67.41066353162245,
            "bin_end": 71.30586766541823,
            "count": 1
           }
          ]
         }
        },
        {
         "name": "sp_defense",
         "dtype": "float64",
         "stats": {
          "unique_count": 3,
          "nan_count": 0,
          "min": "27.942501378203627",
          "max": "70.91136079900124",
          "histogram": [
           {
            "bin_start": 27.942501378203627,
            "bin_end": 32.239387320283384,
            "count": 1
           },
           {
            "bin_start": 32.239387320283384,
            "bin_end": 36.53627326236315,
            "count": 0
           },
           {
            "bin_start": 36.53627326236315,
            "bin_end": 40.83315920444291,
            "count": 0
           },
           {
            "bin_start": 40.83315920444291,
            "bin_end": 45.130045146522676,
            "count": 0
           },
           {
            "bin_start": 45.130045146522676,
            "bin_end": 49.42693108860243,
            "count": 0
           },
           {
            "bin_start": 49.42693108860243,
            "bin_end": 53.7238170306822,
            "count": 0
           },
           {
            "bin_start": 53.7238170306822,
            "bin_end": 58.02070297276195,
            "count": 0
           },
           {
            "bin_start": 58.02070297276195,
            "bin_end": 62.31758891484172,
            "count": 0
           },
           {
            "bin_start": 62.31758891484172,
            "bin_end": 66.61447485692148,
            "count": 1
           },
           {
            "bin_start": 66.61447485692148,
            "bin_end": 70.91136079900124,
            "count": 1
           }
          ]
         }
        },
        {
         "name": "speed",
         "dtype": "float64",
         "stats": {
          "unique_count": 3,
          "nan_count": 0,
          "min": "28.907661875463354",
          "max": "66.33458177278402",
          "histogram": [
           {
            "bin_start": 28.907661875463354,
            "bin_end": 32.65035386519542,
            "count": 1
           },
           {
            "bin_start": 32.65035386519542,
            "bin_end": 36.393045854927486,
            "count": 0
           },
           {
            "bin_start": 36.393045854927486,
            "bin_end": 40.13573784465956,
            "count": 0
           },
           {
            "bin_start": 40.13573784465956,
            "bin_end": 43.878429834391625,
            "count": 0
           },
           {
            "bin_start": 43.878429834391625,
            "bin_end": 47.62112182412369,
            "count": 0
           },
           {
            "bin_start": 47.62112182412369,
            "bin_end": 51.36381381385576,
            "count": 0
           },
           {
            "bin_start": 51.36381381385576,
            "bin_end": 55.10650580358782,
            "count": 0
           },
           {
            "bin_start": 55.10650580358782,
            "bin_end": 58.84919779331989,
            "count": 0
           },
           {
            "bin_start": 58.84919779331989,
            "bin_end": 62.591889783051954,
            "count": 0
           },
           {
            "bin_start": 62.591889783051954,
            "bin_end": 66.33458177278402,
            "count": 2
           }
          ]
         }
        },
        {
         "name": "weight_kg",
         "dtype": "float64",
         "stats": {
          "unique_count": 3,
          "nan_count": 0,
          "min": "28.5",
          "max": "107.97917944906897",
          "histogram": [
           {
            "bin_start": 28.5,
            "bin_end": 36.4479179449069,
            "count": 1
           },
           {
            "bin_start": 36.4479179449069,
            "bin_end": 44.395835889813796,
            "count": 0
           },
           {
            "bin_start": 44.395835889813796,
            "bin_end": 52.34375383472069,
            "count": 0
           },
           {
            "bin_start": 52.34375383472069,
            "bin_end": 60.291671779627585,
            "count": 0
           },
           {
            "bin_start": 60.291671779627585,
            "bin_end": 68.23958972453448,
            "count": 1
           },
           {
            "bin_start": 68.23958972453448,
            "bin_end": 76.18750766944137,
            "count": 0
           },
           {
            "bin_start": 76.18750766944137,
            "bin_end": 84.13542561434826,
            "count": 0
           },
           {
            "bin_start": 84.13542561434826,
            "bin_end": 92.08334355925517,
            "count": 0
           },
           {
            "bin_start": 92.08334355925517,
            "bin_end": 100.03126150416206,
            "count": 0
           },
           {
            "bin_start": 100.03126150416206,
            "bin_end": 107.97917944906897,
            "count": 1
           }
          ]
         }
        },
        {
         "name": "generation",
         "dtype": "float64",
         "stats": {
          "unique_count": 3,
          "nan_count": 0,
          "min": "1.9304196370300453",
          "max": "4.0",
          "histogram": [
           {
            "bin_start": 1.9304196370300453,
            "bin_end": 2.1373776733270407,
            "count": 1
           },
           {
            "bin_start": 2.1373776733270407,
            "bin_end": 2.344335709624036,
            "count": 0
           },
           {
            "bin_start": 2.344335709624036,
            "bin_end": 2.551293745921032,
            "count": 0
           },
           {
            "bin_start": 2.551293745921032,
            "bin_end": 2.7582517822180272,
            "count": 0
           },
           {
            "bin_start": 2.7582517822180272,
            "bin_end": 2.9652098185150226,
            "count": 0
           },
           {
            "bin_start": 2.9652098185150226,
            "bin_end": 3.172167854812018,
            "count": 0
           },
           {
            "bin_start": 3.172167854812018,
            "bin_end": 3.3791258911090134,
            "count": 0
           },
           {
            "bin_start": 3.3791258911090134,
            "bin_end": 3.5860839274060092,
            "count": 0
           },
           {
            "bin_start": 3.5860839274060092,
            "bin_end": 3.793041963703004,
            "count": 1
           },
           {
            "bin_start": 3.793041963703004,
            "bin_end": 4,
            "count": 1
           }
          ]
         }
        },
        {
         "name": "is_legendary",
         "dtype": "float64",
         "stats": {
          "unique_count": 3,
          "nan_count": 0,
          "min": "0.0",
          "max": "0.28258327686638557",
          "histogram": [
           {
            "bin_start": 0,
            "bin_end": 0.028258327686638558,
            "count": 1
           },
           {
            "bin_start": 0.028258327686638558,
            "bin_end": 0.056516655373277117,
            "count": 0
           },
           {
            "bin_start": 0.056516655373277117,
            "bin_end": 0.08477498305991568,
            "count": 0
           },
           {
            "bin_start": 0.08477498305991568,
            "bin_end": 0.11303331074655423,
            "count": 1
           },
           {
            "bin_start": 0.11303331074655423,
            "bin_end": 0.14129163843319278,
            "count": 0
           },
           {
            "bin_start": 0.14129163843319278,
            "bin_end": 0.16954996611983136,
            "count": 0
           },
           {
            "bin_start": 0.16954996611983136,
            "bin_end": 0.19780829380646991,
            "count": 0
           },
           {
            "bin_start": 0.19780829380646991,
            "bin_end": 0.22606662149310847,
            "count": 0
           },
           {
            "bin_start": 0.22606662149310847,
            "bin_end": 0.254324949179747,
            "count": 0
           },
           {
            "bin_start": 0.254324949179747,
            "bin_end": 0.28258327686638557,
            "count": 1
           }
          ]
         }
        },
        {
         "name": "_deepnote_index_column",
         "dtype": "object"
        }
       ],
       "rows_top": [
        {
         "against_bug": 0.9962546816479401,
         "against_dark": 1.057116104868914,
         "against_dragon": 0.968789013732834,
         "against_electric": 1.0739700374531835,
         "against_fairy": 1.068976279650437,
         "against_fight": 1.0655430711610487,
         "against_fire": 1.1354556803995006,
         "against_flying": 1.192883895131086,
         "against_ghost": 0.9850187265917603,
         "against_grass": 1.034019975031211,
         "against_ground": 1.0980024968789013,
         "against_ice": 1.2081772784019975,
         "against_normal": 0.8870162297128589,
         "against_poison": 0.9753433208489388,
         "against_psychic": 1.0053058676654183,
         "against_rock": 1.2503121098626717,
         "against_steel": 0.983458177278402,
         "against_water": 1.0583645443196006,
         "attack": 77.85767790262172,
         "base_egg_steps": 7191.011235955056,
         "base_happiness": 65.36204744069913,
         "base_total": 428.3770287141074,
         "capture_rate": 98.72534332084894,
         "defense": 73.00873907615481,
         "experience_growth": 1054995.9051186019,
         "height_m": 1.1638924455825865,
         "hp": 68.95880149812734,
         "percentage_male": 55.155761024182084,
         "pokedex_number": 401,
         "sp_attack": 71.30586766541823,
         "sp_defense": 70.91136079900124,
         "speed": 66.33458177278402,
         "weight_kg": 61.37810499359795,
         "generation": 3.690387016229713,
         "is_legendary": 0.08739076154806492,
         "_deepnote_index_column": "mean"
        },
        {
         "against_bug": 1,
         "against_dark": 1,
         "against_dragon": 1,
         "against_electric": 1,
         "against_fairy": 1,
         "against_fight": 1,
         "against_fire": 1,
         "against_flying": 1,
         "against_ghost": 1,
         "against_grass": 1,
         "against_ground": 1,
         "against_ice": 1,
         "against_normal": 1,
         "against_poison": 1,
         "against_psychic": 1,
         "against_rock": 1,
         "against_steel": 1,
         "against_water": 1,
         "attack": 75,
         "base_egg_steps": 5120,
         "base_happiness": 70,
         "base_total": 435,
         "capture_rate": 60,
         "defense": 70,
         "experience_growth": 1000000,
         "height_m": 1,
         "hp": 65,
         "percentage_male": 50,
         "pokedex_number": 401,
         "sp_attack": 65,
         "sp_defense": 66,
         "speed": 65,
         "weight_kg": 28.5,
         "generation": 4,
         "is_legendary": 0,
         "_deepnote_index_column": "50%"
        },
        {
         "against_bug": 0.5972476078279257,
         "against_dark": 0.43814158414011445,
         "against_dragon": 0.3530575826676876,
         "against_electric": 0.6549616165097948,
         "against_fairy": 0.522166832235294,
         "against_fight": 0.7172508180232743,
         "against_fire": 0.6918526384612678,
         "against_flying": 0.6044878392100282,
         "against_ghost": 0.5582564651653185,
         "against_grass": 0.7888959497934436,
         "against_ground": 0.7388181474447942,
         "against_ice": 0.7353561542090226,
         "against_normal": 0.2661061085098709,
         "against_poison": 0.5493752481077557,
         "against_psychic": 0.49518298393424975,
         "against_rock": 0.6971481388239288,
         "against_steel": 0.5001166374568772,
         "against_water": 0.6065619893640908,
         "attack": 32.1588202380175,
         "base_egg_steps": 6558.220421815937,
         "base_happiness": 19.59894787489233,
         "base_total": 119.20357658921323,
         "capture_rate": 76.21692377296024,
         "defense": 30.76915945444535,
         "experience_growth": 160255.83509567127,
         "height_m": 1.0667367101149121,
         "hp": 26.576014572576486,
         "percentage_male": 18.980068959564267,
         "pokedex_number": 231.3730753566629,
         "sp_attack": 32.35382632746034,
         "sp_defense": 27.942501378203627,
         "speed": 28.907661875463354,
         "weight_kg": 107.97917944906897,
         "generation": 1.9304196370300453,
         "is_legendary": 0.28258327686638557,
         "_deepnote_index_column": "std"
        }
       ],
       "rows_bottom": null
      },
      "text/plain": "      against_bug  against_dark  against_dragon  against_electric  \\\nmean     0.996255      1.057116        0.968789          1.073970   \n50%      1.000000      1.000000        1.000000          1.000000   \nstd      0.597248      0.438142        0.353058          0.654962   \n\n      against_fairy  against_fight  against_fire  against_flying  \\\nmean       1.068976       1.065543      1.135456        1.192884   \n50%        1.000000       1.000000      1.000000        1.000000   \nstd        0.522167       0.717251      0.691853        0.604488   \n\n      against_ghost  against_grass  ...  height_m         hp  percentage_male  \\\nmean       0.985019       1.034020  ...  1.163892  68.958801        55.155761   \n50%        1.000000       1.000000  ...  1.000000  65.000000        50.000000   \nstd        0.558256       0.788896  ...  1.066737  26.576015        18.980069   \n\n      pokedex_number  sp_attack  sp_defense      speed   weight_kg  \\\nmean      401.000000  71.305868   70.911361  66.334582   61.378105   \n50%       401.000000  65.000000   66.000000  65.000000   28.500000   \nstd       231.373075  32.353826   27.942501  28.907662  107.979179   \n\n      generation  is_legendary  \nmean    3.690387      0.087391  \n50%     4.000000      0.000000  \nstd     1.930420      0.282583  \n\n[3 rows x 35 columns]",
      "text/html": "<div>\n<style scoped>\n    .dataframe tbody tr th:only-of-type {\n        vertical-align: middle;\n    }\n\n    .dataframe tbody tr th {\n        vertical-align: top;\n    }\n\n    .dataframe thead th {\n        text-align: right;\n    }\n</style>\n<table border=\"1\" class=\"dataframe\">\n  <thead>\n    <tr style=\"text-align: right;\">\n      <th></th>\n      <th>against_bug</th>\n      <th>against_dark</th>\n      <th>against_dragon</th>\n      <th>against_electric</th>\n      <th>against_fairy</th>\n      <th>against_fight</th>\n      <th>against_fire</th>\n      <th>against_flying</th>\n      <th>against_ghost</th>\n      <th>against_grass</th>\n      <th>...</th>\n      <th>height_m</th>\n      <th>hp</th>\n      <th>percentage_male</th>\n      <th>pokedex_number</th>\n      <th>sp_attack</th>\n      <th>sp_defense</th>\n      <th>speed</th>\n      <th>weight_kg</th>\n      <th>generation</th>\n      <th>is_legendary</th>\n    </tr>\n  </thead>\n  <tbody>\n    <tr>\n      <th>mean</th>\n      <td>0.996255</td>\n      <td>1.057116</td>\n      <td>0.968789</td>\n      <td>1.073970</td>\n      <td>1.068976</td>\n      <td>1.065543</td>\n      <td>1.135456</td>\n      <td>1.192884</td>\n      <td>0.985019</td>\n      <td>1.034020</td>\n      <td>...</td>\n      <td>1.163892</td>\n      <td>68.958801</td>\n      <td>55.155761</td>\n      <td>401.000000</td>\n      <td>71.305868</td>\n      <td>70.911361</td>\n      <td>66.334582</td>\n      <td>61.378105</td>\n      <td>3.690387</td>\n      <td>0.087391</td>\n    </tr>\n    <tr>\n      <th>50%</th>\n      <td>1.000000</td>\n      <td>1.000000</td>\n      <td>1.000000</td>\n      <td>1.000000</td>\n      <td>1.000000</td>\n      <td>1.000000</td>\n      <td>1.000000</td>\n      <td>1.000000</td>\n      <td>1.000000</td>\n      <td>1.000000</td>\n      <td>...</td>\n      <td>1.000000</td>\n      <td>65.000000</td>\n      <td>50.000000</td>\n      <td>401.000000</td>\n      <td>65.000000</td>\n      <td>66.000000</td>\n      <td>65.000000</td>\n      <td>28.500000</td>\n      <td>4.000000</td>\n      <td>0.000000</td>\n    </tr>\n    <tr>\n      <th>std</th>\n      <td>0.597248</td>\n      <td>0.438142</td>\n      <td>0.353058</td>\n      <td>0.654962</td>\n      <td>0.522167</td>\n      <td>0.717251</td>\n      <td>0.691853</td>\n      <td>0.604488</td>\n      <td>0.558256</td>\n      <td>0.788896</td>\n      <td>...</td>\n      <td>1.066737</td>\n      <td>26.576015</td>\n      <td>18.980069</td>\n      <td>231.373075</td>\n      <td>32.353826</td>\n      <td>27.942501</td>\n      <td>28.907662</td>\n      <td>107.979179</td>\n      <td>1.930420</td>\n      <td>0.282583</td>\n    </tr>\n  </tbody>\n</table>\n<p>3 rows × 35 columns</p>\n</div>"
     },
     "metadata": {}
    }
   ],
   "execution_count": null
  },
  {
   "cell_type": "code",
   "metadata": {
    "tags": [],
    "cell_id": "00021-91758fc3-ed9f-436a-af2c-852ed34de82e",
    "deepnote_to_be_reexecuted": false,
    "source_hash": "ff1543b5",
    "execution_start": 1638719082010,
    "execution_millis": 87,
    "deepnote_cell_type": "code"
   },
   "source": "# Gaussian if (mediana y media similar y desv.std entre el 20 y 30% de la media)\ndesc = df.describe().loc[['mean', '50%', 'std']]",
   "outputs": [],
   "execution_count": null
  },
  {
   "cell_type": "code",
   "metadata": {
    "tags": [],
    "cell_id": "00015-2299bebf-2d68-4226-b1ad-2338bd9a8e8a",
    "deepnote_to_be_reexecuted": false,
    "source_hash": "646338ea",
    "execution_start": 1638719082149,
    "execution_millis": 1,
    "deepnote_cell_type": "code"
   },
   "source": "#atributs que no es poden normalitzar: generation, is_legendary, els que són objectes",
   "outputs": [],
   "execution_count": null
  },
  {
   "cell_type": "markdown",
   "source": "**Com codifiqueu les dades categòriques? (OrdinalEncoder, OneHotEncoder)**",
   "metadata": {
    "tags": [],
    "cell_id": "00023-bfe8ef59-4b22-400e-b02d-5241ba7ae987",
    "deepnote_cell_type": "markdown"
   }
  },
  {
   "cell_type": "code",
   "metadata": {
    "tags": [],
    "cell_id": "00017-8492a968-15c7-4fec-8a5e-86c1e97bc2eb",
    "deepnote_to_be_reexecuted": false,
    "source_hash": "132dc4c8",
    "execution_start": 1638719082150,
    "execution_millis": 313,
    "deepnote_output_heights": [
     21.1875
    ],
    "deepnote_cell_type": "code"
   },
   "source": "df_2 = df.copy(deep=True)\ndf_2['abilities'] = df['abilities'].apply(ast.literal_eval)\ndf_2[df_2['abilities'].explode().unique()] = 0\n\nfor idx, row in df_2.iterrows():\n    for cat in row['abilities']:\n        df_2.at[idx, cat] = 1\n\ndf_2.drop(columns='abilities', inplace=True)\ndf_2 = pd.get_dummies(df_2, columns=['classfication', 'type1', 'type2'], prefix=['', '1', '2'], prefix_sep='')\ndf_2.drop(columns=['name', 'japanese_name'], inplace=True)",
   "outputs": [],
   "execution_count": null
  },
  {
   "cell_type": "markdown",
   "source": "**Quin tipus de normalització serà més adient per les vostres dades?**",
   "metadata": {
    "tags": [],
    "cell_id": "00021-a8c8467a-d926-40e0-85c7-0a0b89868511",
    "deepnote_cell_type": "markdown"
   }
  },
  {
   "cell_type": "code",
   "metadata": {
    "tags": [],
    "cell_id": "00024-a921504a-6747-4688-bfc4-5033b664992e",
    "deepnote_to_be_reexecuted": false,
    "source_hash": "f0eae761",
    "execution_start": 1638719082480,
    "execution_millis": 44,
    "deepnote_output_heights": [
     21.1875
    ],
    "deepnote_cell_type": "code"
   },
   "source": "cols = df_2.columns\nscaler = MinMaxScaler()\ndf_3=scaler.fit_transform(df_2) #dataset escalat\ndf_3 = pd.DataFrame(df_3,\ncolumns=cols)",
   "outputs": [],
   "execution_count": null
  },
  {
   "cell_type": "code",
   "metadata": {
    "tags": [],
    "cell_id": "00032-c2e248bc-f83c-4f96-888d-e7f754fe158d",
    "deepnote_to_be_reexecuted": false,
    "source_hash": "d97395a6",
    "execution_start": 1638719082530,
    "execution_millis": 2191,
    "deepnote_output_heights": [
     155.578125
    ],
    "deepnote_cell_type": "code"
   },
   "source": "corr = df_3.corr().abs()[TARGET].sort_values(ascending=False)\ncorr = corr[corr > FILTER_RATE]\n#corr\ndf_4=df_3[corr.index]\ndf_4 #dataset amb atributs filtrats per correlacio\n# corr.index\n# df_4.columns[df_4.columns.duplicated()]\n# corr.index.unique()\n",
   "outputs": [
    {
     "output_type": "execute_result",
     "execution_count": 21,
     "data": {
      "application/vnd.deepnote.dataframe.v2+json": {
       "row_count": 801,
       "column_count": 105,
       "columns": [
        {
         "name": "is_legendary",
         "dtype": "float64",
         "stats": {
          "unique_count": 2,
          "nan_count": 0,
          "min": "0.0",
          "max": "1.0",
          "histogram": [
           {
            "bin_start": 0,
            "bin_end": 0.1,
            "count": 731
           },
           {
            "bin_start": 0.1,
            "bin_end": 0.2,
            "count": 0
           },
           {
            "bin_start": 0.2,
            "bin_end": 0.30000000000000004,
            "count": 0
           },
           {
            "bin_start": 0.30000000000000004,
            "bin_end": 0.4,
            "count": 0
           },
           {
            "bin_start": 0.4,
            "bin_end": 0.5,
            "count": 0
           },
           {
            "bin_start": 0.5,
            "bin_end": 0.6000000000000001,
            "count": 0
           },
           {
            "bin_start": 0.6000000000000001,
            "bin_end": 0.7000000000000001,
            "count": 0
           },
           {
            "bin_start": 0.7000000000000001,
            "bin_end": 0.8,
            "count": 0
           },
           {
            "bin_start": 0.8,
            "bin_end": 0.9,
            "count": 0
           },
           {
            "bin_start": 0.9,
            "bin_end": 1,
            "count": 70
           }
          ]
         }
        },
        {
         "name": "base_egg_steps",
         "dtype": "float64",
         "stats": {
          "unique_count": 10,
          "nan_count": 0,
          "min": "0.0",
          "max": "1.0",
          "histogram": [
           {
            "bin_start": 0,
            "bin_end": 0.1,
            "count": 164
           },
           {
            "bin_start": 0.1,
            "bin_end": 0.2,
            "count": 491
           },
           {
            "bin_start": 0.2,
            "bin_end": 0.30000000000000004,
            "count": 39
           },
           {
            "bin_start": 0.30000000000000004,
            "bin_end": 0.4,
            "count": 42
           },
           {
            "bin_start": 0.4,
            "bin_end": 0.5,
            "count": 0
           },
           {
            "bin_start": 0.5,
            "bin_end": 0.6000000000000001,
            "count": 0
           },
           {
            "bin_start": 0.6000000000000001,
            "bin_end": 0.7000000000000001,
            "count": 16
           },
           {
            "bin_start": 0.7000000000000001,
            "bin_end": 0.8,
            "count": 0
           },
           {
            "bin_start": 0.8,
            "bin_end": 0.9,
            "count": 0
           },
           {
            "bin_start": 0.9,
            "bin_end": 1,
            "count": 49
           }
          ]
         }
        },
        {
         "name": "base_total",
         "dtype": "float64",
         "stats": {
          "unique_count": 203,
          "nan_count": 0,
          "min": "0.0",
          "max": "1.0",
          "histogram": [
           {
            "bin_start": 0,
            "bin_end": 0.1,
            "count": 34
           },
           {
            "bin_start": 0.1,
            "bin_end": 0.2,
            "count": 99
           },
           {
            "bin_start": 0.2,
            "bin_end": 0.30000000000000004,
            "count": 141
           },
           {
            "bin_start": 0.30000000000000004,
            "bin_end": 0.4,
            "count": 94
           },
           {
            "bin_start": 0.4,
            "bin_end": 0.5,
            "count": 118
           },
           {
            "bin_start": 0.5,
            "bin_end": 0.6000000000000001,
            "count": 196
           },
           {
            "bin_start": 0.6000000000000001,
            "bin_end": 0.7000000000000001,
            "count": 75
           },
           {
            "bin_start": 0.7000000000000001,
            "bin_end": 0.8,
            "count": 16
           },
           {
            "bin_start": 0.8,
            "bin_end": 0.9,
            "count": 23
           },
           {
            "bin_start": 0.9,
            "bin_end": 1,
            "count": 5
           }
          ]
         }
        },
        {
         "name": "base_happiness",
         "dtype": "float64",
         "stats": {
          "unique_count": 6,
          "nan_count": 0,
          "min": "0.0",
          "max": "1.0",
          "histogram": [
           {
            "bin_start": 0,
            "bin_end": 0.1,
            "count": 36
           },
           {
            "bin_start": 0.1,
            "bin_end": 0.2,
            "count": 0
           },
           {
            "bin_start": 0.2,
            "bin_end": 0.30000000000000004,
            "count": 69
           },
           {
            "bin_start": 0.30000000000000004,
            "bin_end": 0.4,
            "count": 0
           },
           {
            "bin_start": 0.4,
            "bin_end": 0.5,
            "count": 0
           },
           {
            "bin_start": 0.5,
            "bin_end": 0.6000000000000001,
            "count": 667
           },
           {
            "bin_start": 0.6000000000000001,
            "bin_end": 0.7000000000000001,
            "count": 5
           },
           {
            "bin_start": 0.7000000000000001,
            "bin_end": 0.8,
            "count": 14
           },
           {
            "bin_start": 0.8,
            "bin_end": 0.9,
            "count": 0
           },
           {
            "bin_start": 0.9,
            "bin_end": 1,
            "count": 10
           }
          ]
         }
        },
        {
         "name": "sp_attack",
         "dtype": "float64",
         "stats": {
          "unique_count": 111,
          "nan_count": 0,
          "min": "0.0",
          "max": "1.0",
          "histogram": [
           {
            "bin_start": 0,
            "bin_end": 0.1,
            "count": 33
           },
           {
            "bin_start": 0.1,
            "bin_end": 0.2,
            "count": 171
           },
           {
            "bin_start": 0.2,
            "bin_end": 0.30000000000000004,
            "count": 219
           },
           {
            "bin_start": 0.30000000000000004,
            "bin_end": 0.4,
            "count": 120
           },
           {
            "bin_start": 0.4,
            "bin_end": 0.5,
            "count": 131
           },
           {
            "bin_start": 0.5,
            "bin_end": 0.6000000000000001,
            "count": 61
           },
           {
            "bin_start": 0.6000000000000001,
            "bin_end": 0.7000000000000001,
            "count": 37
           },
           {
            "bin_start": 0.7000000000000001,
            "bin_end": 0.8,
            "count": 16
           },
           {
            "bin_start": 0.8,
            "bin_end": 0.9,
            "count": 10
           },
           {
            "bin_start": 0.9,
            "bin_end": 1,
            "count": 3
           }
          ]
         }
        },
        {
         "name": "weight_kg",
         "dtype": "float64",
         "stats": {
          "unique_count": 422,
          "nan_count": 0,
          "min": "0.0",
          "max": "1.0",
          "histogram": [
           {
            "bin_start": 0,
            "bin_end": 0.1,
            "count": 682
           },
           {
            "bin_start": 0.1,
            "bin_end": 0.2,
            "count": 62
           },
           {
            "bin_start": 0.2,
            "bin_end": 0.30000000000000004,
            "count": 32
           },
           {
            "bin_start": 0.30000000000000004,
            "bin_end": 0.4,
            "count": 13
           },
           {
            "bin_start": 0.4,
            "bin_end": 0.5,
            "count": 3
           },
           {
            "bin_start": 0.5,
            "bin_end": 0.6000000000000001,
            "count": 2
           },
           {
            "bin_start": 0.6000000000000001,
            "bin_end": 0.7000000000000001,
            "count": 1
           },
           {
            "bin_start": 0.7000000000000001,
            "bin_end": 0.8,
            "count": 1
           },
           {
            "bin_start": 0.8,
            "bin_end": 0.9,
            "count": 1
           },
           {
            "bin_start": 0.9,
            "bin_end": 1,
            "count": 4
           }
          ]
         }
        },
        {
         "name": "experience_growth",
         "dtype": "float64",
         "stats": {
          "unique_count": 6,
          "nan_count": 0,
          "min": "0.0",
          "max": "1.0",
          "histogram": [
           {
            "bin_start": 0,
            "bin_end": 0.1,
            "count": 22
           },
           {
            "bin_start": 0.1,
            "bin_end": 0.2,
            "count": 56
           },
           {
            "bin_start": 0.2,
            "bin_end": 0.30000000000000004,
            "count": 0
           },
           {
            "bin_start": 0.30000000000000004,
            "bin_end": 0.4,
            "count": 335
           },
           {
            "bin_start": 0.4,
            "bin_end": 0.5,
            "count": 202
           },
           {
            "bin_start": 0.5,
            "bin_end": 0.6000000000000001,
            "count": 0
           },
           {
            "bin_start": 0.6000000000000001,
            "bin_end": 0.7000000000000001,
            "count": 172
           },
           {
            "bin_start": 0.7000000000000001,
            "bin_end": 0.8,
            "count": 0
           },
           {
            "bin_start": 0.8,
            "bin_end": 0.9,
            "count": 0
           },
           {
            "bin_start": 0.9,
            "bin_end": 1,
            "count": 14
           }
          ]
         }
        },
        {
         "name": "sp_defense",
         "dtype": "float64",
         "stats": {
          "unique_count": 97,
          "nan_count": 0,
          "min": "0.0",
          "max": "1.0",
          "histogram": [
           {
            "bin_start": 0,
            "bin_end": 0.1,
            "count": 107
           },
           {
            "bin_start": 0.1,
            "bin_end": 0.2,
            "count": 238
           },
           {
            "bin_start": 0.2,
            "bin_end": 0.30000000000000004,
            "count": 212
           },
           {
            "bin_start": 0.30000000000000004,
            "bin_end": 0.4,
            "count": 143
           },
           {
            "bin_start": 0.4,
            "bin_end": 0.5,
            "count": 65
           },
           {
            "bin_start": 0.5,
            "bin_end": 0.6000000000000001,
            "count": 25
           },
           {
            "bin_start": 0.6000000000000001,
            "bin_end": 0.7000000000000001,
            "count": 9
           },
           {
            "bin_start": 0.7000000000000001,
            "bin_end": 0.8,
            "count": 0
           },
           {
            "bin_start": 0.8,
            "bin_end": 0.9,
            "count": 1
           },
           {
            "bin_start": 0.9,
            "bin_end": 1,
            "count": 1
           }
          ]
         }
        },
        {
         "name": "capture_rate",
         "dtype": "float64",
         "stats": {
          "unique_count": 33,
          "nan_count": 0,
          "min": "0.0",
          "max": "1.0",
          "histogram": [
           {
            "bin_start": 0,
            "bin_end": 0.1,
            "count": 73
           },
           {
            "bin_start": 0.1,
            "bin_end": 0.2,
            "count": 278
           },
           {
            "bin_start": 0.2,
            "bin_end": 0.30000000000000004,
            "count": 122
           },
           {
            "bin_start": 0.30000000000000004,
            "bin_end": 0.4,
            "count": 46
           },
           {
            "bin_start": 0.4,
            "bin_end": 0.5,
            "count": 63
           },
           {
            "bin_start": 0.5,
            "bin_end": 0.6000000000000001,
            "count": 16
           },
           {
            "bin_start": 0.6000000000000001,
            "bin_end": 0.7000000000000001,
            "count": 4
           },
           {
            "bin_start": 0.7000000000000001,
            "bin_end": 0.8,
            "count": 105
           },
           {
            "bin_start": 0.8,
            "bin_end": 0.9,
            "count": 18
           },
           {
            "bin_start": 0.9,
            "bin_end": 1,
            "count": 76
           }
          ]
         }
        },
        {
         "name": "height_m",
         "dtype": "float64",
         "stats": {
          "unique_count": 52,
          "nan_count": 0,
          "min": "0.0",
          "max": "1.0",
          "histogram": [
           {
            "bin_start": 0,
            "bin_end": 0.1,
            "count": 638
           },
           {
            "bin_start": 0.1,
            "bin_end": 0.2,
            "count": 133
           },
           {
            "bin_start": 0.2,
            "bin_end": 0.30000000000000004,
            "count": 16
           },
           {
            "bin_start": 0.30000000000000004,
            "bin_end": 0.4,
            "count": 7
           },
           {
            "bin_start": 0.4,
            "bin_end": 0.5,
            "count": 3
           },
           {
            "bin_start": 0.5,
            "bin_end": 0.6000000000000001,
            "count": 0
           },
           {
            "bin_start": 0.6000000000000001,
            "bin_end": 0.7000000000000001,
            "count": 3
           },
           {
            "bin_start": 0.7000000000000001,
            "bin_end": 0.8,
            "count": 0
           },
           {
            "bin_start": 0.8,
            "bin_end": 0.9,
            "count": 0
           },
           {
            "bin_start": 0.9,
            "bin_end": 1,
            "count": 1
           }
          ]
         }
        },
        {
         "name": "speed",
         "dtype": "float64",
         "stats": {
          "unique_count": 113,
          "nan_count": 0,
          "min": "0.0",
          "max": "0.9999999999999999",
          "histogram": [
           {
            "bin_start": 0,
            "bin_end": 0.09999999999999999,
            "count": 33
           },
           {
            "bin_start": 0.09999999999999999,
            "bin_end": 0.19999999999999998,
            "count": 106
           },
           {
            "bin_start": 0.19999999999999998,
            "bin_end": 0.3,
            "count": 190
           },
           {
            "bin_start": 0.3,
            "bin_end": 0.39999999999999997,
            "count": 174
           },
           {
            "bin_start": 0.39999999999999997,
            "bin_end": 0.49999999999999994,
            "count": 138
           },
           {
            "bin_start": 0.49999999999999994,
            "bin_end": 0.6,
            "count": 96
           },
           {
            "bin_start": 0.6,
            "bin_end": 0.7,
            "count": 46
           },
           {
            "bin_start": 0.7,
            "bin_end": 0.7999999999999999,
            "count": 9
           },
           {
            "bin_start": 0.7999999999999999,
            "bin_end": 0.8999999999999999,
            "count": 8
           },
           {
            "bin_start": 0.8999999999999999,
            "bin_end": 0.9999999999999999,
            "count": 1
           }
          ]
         }
        },
        {
         "name": "hp",
         "dtype": "float64",
         "stats": {
          "unique_count": 99,
          "nan_count": 0,
          "min": "0.0",
          "max": "1.0",
          "histogram": [
           {
            "bin_start": 0,
            "bin_end": 0.1,
            "count": 11
           },
           {
            "bin_start": 0.1,
            "bin_end": 0.2,
            "count": 208
           },
           {
            "bin_start": 0.2,
            "bin_end": 0.30000000000000004,
            "count": 339
           },
           {
            "bin_start": 0.30000000000000004,
            "bin_end": 0.4,
            "count": 181
           },
           {
            "bin_start": 0.4,
            "bin_end": 0.5,
            "count": 43
           },
           {
            "bin_start": 0.5,
            "bin_end": 0.6000000000000001,
            "count": 11
           },
           {
            "bin_start": 0.6000000000000001,
            "bin_end": 0.7000000000000001,
            "count": 3
           },
           {
            "bin_start": 0.7000000000000001,
            "bin_end": 0.8,
            "count": 1
           },
           {
            "bin_start": 0.8,
            "bin_end": 0.9,
            "count": 2
           },
           {
            "bin_start": 0.9,
            "bin_end": 1,
            "count": 2
           }
          ]
         }
        },
        {
         "name": "Beast Boost",
         "dtype": "float64",
         "stats": {
          "unique_count": 2,
          "nan_count": 0,
          "min": "0.0",
          "max": "1.0",
          "histogram": [
           {
            "bin_start": 0,
            "bin_end": 0.1,
            "count": 794
           },
           {
            "bin_start": 0.1,
            "bin_end": 0.2,
            "count": 0
           },
           {
            "bin_start": 0.2,
            "bin_end": 0.30000000000000004,
            "count": 0
           },
           {
            "bin_start": 0.30000000000000004,
            "bin_end": 0.4,
            "count": 0
           },
           {
            "bin_start": 0.4,
            "bin_end": 0.5,
            "count": 0
           },
           {
            "bin_start": 0.5,
            "bin_end": 0.6000000000000001,
            "count": 0
           },
           {
            "bin_start": 0.6000000000000001,
            "bin_end": 0.7000000000000001,
            "count": 0
           },
           {
            "bin_start": 0.7000000000000001,
            "bin_end": 0.8,
            "count": 0
           },
           {
            "bin_start": 0.8,
            "bin_end": 0.9,
            "count": 0
           },
           {
            "bin_start": 0.9,
            "bin_end": 1,
            "count": 7
           }
          ]
         }
        },
        {
         "name": "attack",
         "dtype": "float64",
         "stats": {
          "unique_count": 114,
          "nan_count": 0,
          "min": "0.0",
          "max": "1.0000000000000002",
          "histogram": [
           {
            "bin_start": 0,
            "bin_end": 0.10000000000000002,
            "count": 15
           },
           {
            "bin_start": 0.10000000000000002,
            "bin_end": 0.20000000000000004,
            "count": 80
           },
           {
            "bin_start": 0.20000000000000004,
            "bin_end": 0.30000000000000004,
            "count": 145
           },
           {
            "bin_start": 0.30000000000000004,
            "bin_end": 0.4000000000000001,
            "count": 191
           },
           {
            "bin_start": 0.4000000000000001,
            "bin_end": 0.5000000000000001,
            "count": 158
           },
           {
            "bin_start": 0.5000000000000001,
            "bin_end": 0.6000000000000001,
            "count": 96
           },
           {
            "bin_start": 0.6000000000000001,
            "bin_end": 0.7000000000000002,
            "count": 69
           },
           {
            "bin_start": 0.7000000000000002,
            "bin_end": 0.8000000000000002,
            "count": 23
           },
           {
            "bin_start": 0.8000000000000002,
            "bin_end": 0.9000000000000001,
            "count": 19
           },
           {
            "bin_start": 0.9000000000000001,
            "bin_end": 1.0000000000000002,
            "count": 5
           }
          ]
         }
        },
        {
         "name": "Pressure",
         "dtype": "float64",
         "stats": {
          "unique_count": 2,
          "nan_count": 0,
          "min": "0.0",
          "max": "1.0",
          "histogram": [
           {
            "bin_start": 0,
            "bin_end": 0.1,
            "count": 776
           },
           {
            "bin_start": 0.1,
            "bin_end": 0.2,
            "count": 0
           },
           {
            "bin_start": 0.2,
            "bin_end": 0.30000000000000004,
            "count": 0
           },
           {
            "bin_start": 0.30000000000000004,
            "bin_end": 0.4,
            "count": 0
           },
           {
            "bin_start": 0.4,
            "bin_end": 0.5,
            "count": 0
           },
           {
            "bin_start": 0.5,
            "bin_end": 0.6000000000000001,
            "count": 0
           },
           {
            "bin_start": 0.6000000000000001,
            "bin_end": 0.7000000000000001,
            "count": 0
           },
           {
            "bin_start": 0.7000000000000001,
            "bin_end": 0.8,
            "count": 0
           },
           {
            "bin_start": 0.8,
            "bin_end": 0.9,
            "count": 0
           },
           {
            "bin_start": 0.9,
            "bin_end": 1,
            "count": 25
           }
          ]
         }
        },
        {
         "name": "defense",
         "dtype": "float64",
         "stats": {
          "unique_count": 109,
          "nan_count": 0,
          "min": "0.0",
          "max": "0.9999999999999999",
          "histogram": [
           {
            "bin_start": 0,
            "bin_end": 0.09999999999999999,
            "count": 12
           },
           {
            "bin_start": 0.09999999999999999,
            "bin_end": 0.19999999999999998,
            "count": 159
           },
           {
            "bin_start": 0.19999999999999998,
            "bin_end": 0.3,
            "count": 284
           },
           {
            "bin_start": 0.3,
            "bin_end": 0.39999999999999997,
            "count": 165
           },
           {
            "bin_start": 0.39999999999999997,
            "bin_end": 0.49999999999999994,
            "count": 109
           },
           {
            "bin_start": 0.49999999999999994,
            "bin_end": 0.6,
            "count": 48
           },
           {
            "bin_start": 0.6,
            "bin_end": 0.7,
            "count": 16
           },
           {
            "bin_start": 0.7,
            "bin_end": 0.7999999999999999,
            "count": 4
           },
           {
            "bin_start": 0.7999999999999999,
            "bin_end": 0.8999999999999999,
            "count": 1
           },
           {
            "bin_start": 0.8999999999999999,
            "bin_end": 0.9999999999999999,
            "count": 3
           }
          ]
         }
        },
        {
         "name": "Land Spirit Pokémon",
         "dtype": "float64",
         "stats": {
          "unique_count": 2,
          "nan_count": 0,
          "min": "0.0",
          "max": "1.0",
          "histogram": [
           {
            "bin_start": 0,
            "bin_end": 0.1,
            "count": 797
           },
           {
            "bin_start": 0.1,
            "bin_end": 0.2,
            "count": 0
           },
           {
            "bin_start": 0.2,
            "bin_end": 0.30000000000000004,
            "count": 0
           },
           {
            "bin_start": 0.30000000000000004,
            "bin_end": 0.4,
            "count": 0
           },
           {
            "bin_start": 0.4,
            "bin_end": 0.5,
            "count": 0
           },
           {
            "bin_start": 0.5,
            "bin_end": 0.6000000000000001,
            "count": 0
           },
           {
            "bin_start": 0.6000000000000001,
            "bin_end": 0.7000000000000001,
            "count": 0
           },
           {
            "bin_start": 0.7000000000000001,
            "bin_end": 0.8,
            "count": 0
           },
           {
            "bin_start": 0.8,
            "bin_end": 0.9,
            "count": 0
           },
           {
            "bin_start": 0.9,
            "bin_end": 1,
            "count": 4
           }
          ]
         }
        },
        {
         "name": "1psychic",
         "dtype": "float64",
         "stats": {
          "unique_count": 2,
          "nan_count": 0,
          "min": "0.0",
          "max": "1.0",
          "histogram": [
           {
            "bin_start": 0,
            "bin_end": 0.1,
            "count": 748
           },
           {
            "bin_start": 0.1,
            "bin_end": 0.2,
            "count": 0
           },
           {
            "bin_start": 0.2,
            "bin_end": 0.30000000000000004,
            "count": 0
           },
           {
            "bin_start": 0.30000000000000004,
            "bin_end": 0.4,
            "count": 0
           },
           {
            "bin_start": 0.4,
            "bin_end": 0.5,
            "count": 0
           },
           {
            "bin_start": 0.5,
            "bin_end": 0.6000000000000001,
            "count": 0
           },
           {
            "bin_start": 0.6000000000000001,
            "bin_end": 0.7000000000000001,
            "count": 0
           },
           {
            "bin_start": 0.7000000000000001,
            "bin_end": 0.8,
            "count": 0
           },
           {
            "bin_start": 0.8,
            "bin_end": 0.9,
            "count": 0
           },
           {
            "bin_start": 0.9,
            "bin_end": 1,
            "count": 53
           }
          ]
         }
        },
        {
         "name": "pokedex_number",
         "dtype": "float64",
         "stats": {
          "unique_count": 801,
          "nan_count": 0,
          "min": "0.0",
          "max": "1.0",
          "histogram": [
           {
            "bin_start": 0,
            "bin_end": 0.1,
            "count": 80
           },
           {
            "bin_start": 0.1,
            "bin_end": 0.2,
            "count": 80
           },
           {
            "bin_start": 0.2,
            "bin_end": 0.30000000000000004,
            "count": 80
           },
           {
            "bin_start": 0.30000000000000004,
            "bin_end": 0.4,
            "count": 80
           },
           {
            "bin_start": 0.4,
            "bin_end": 0.5,
            "count": 80
           },
           {
            "bin_start": 0.5,
            "bin_end": 0.6000000000000001,
            "count": 80
           },
           {
            "bin_start": 0.6000000000000001,
            "bin_end": 0.7000000000000001,
            "count": 80
           },
           {
            "bin_start": 0.7000000000000001,
            "bin_end": 0.8,
            "count": 80
           },
           {
            "bin_start": 0.8,
            "bin_end": 0.9,
            "count": 80
           },
           {
            "bin_start": 0.9,
            "bin_end": 1,
            "count": 81
           }
          ]
         }
        },
        {
         "name": "against_ghost",
         "dtype": "float64",
         "stats": {
          "unique_count": 5,
          "nan_count": 0,
          "min": "0.0",
          "max": "1.0",
          "histogram": [
           {
            "bin_start": 0,
            "bin_end": 0.1,
            "count": 109
           },
           {
            "bin_start": 0.1,
            "bin_end": 0.2,
            "count": 42
           },
           {
            "bin_start": 0.2,
            "bin_end": 0.30000000000000004,
            "count": 536
           },
           {
            "bin_start": 0.30000000000000004,
            "bin_end": 0.4,
            "count": 0
           },
           {
            "bin_start": 0.4,
            "bin_end": 0.5,
            "count": 0
           },
           {
            "bin_start": 0.5,
            "bin_end": 0.6000000000000001,
            "count": 112
           },
           {
            "bin_start": 0.6000000000000001,
            "bin_end": 0.7000000000000001,
            "count": 0
           },
           {
            "bin_start": 0.7000000000000001,
            "bin_end": 0.8,
            "count": 0
           },
           {
            "bin_start": 0.8,
            "bin_end": 0.9,
            "count": 0
           },
           {
            "bin_start": 0.9,
            "bin_end": 1,
            "count": 2
           }
          ]
         }
        },
        {
         "name": "Eon Pokémon",
         "dtype": "float64",
         "stats": {
          "unique_count": 2,
          "nan_count": 0,
          "min": "0.0",
          "max": "1.0",
          "histogram": [
           {
            "bin_start": 0,
            "bin_end": 0.1,
            "count": 799
           },
           {
            "bin_start": 0.1,
            "bin_end": 0.2,
            "count": 0
           },
           {
            "bin_start": 0.2,
            "bin_end": 0.30000000000000004,
            "count": 0
           },
           {
            "bin_start": 0.30000000000000004,
            "bin_end": 0.4,
            "count": 0
           },
           {
            "bin_start": 0.4,
            "bin_end": 0.5,
            "count": 0
           },
           {
            "bin_start": 0.5,
            "bin_end": 0.6000000000000001,
            "count": 0
           },
           {
            "bin_start": 0.6000000000000001,
            "bin_end": 0.7000000000000001,
            "count": 0
           },
           {
            "bin_start": 0.7000000000000001,
            "bin_end": 0.8,
            "count": 0
           },
           {
            "bin_start": 0.8,
            "bin_end": 0.9,
            "count": 0
           },
           {
            "bin_start": 0.9,
            "bin_end": 1,
            "count": 2
           }
          ]
         }
        },
        {
         "name": "Turboblaze",
         "dtype": "float64",
         "stats": {
          "unique_count": 2,
          "nan_count": 0,
          "min": "0.0",
          "max": "1.0",
          "histogram": [
           {
            "bin_start": 0,
            "bin_end": 0.1,
            "count": 799
           },
           {
            "bin_start": 0.1,
            "bin_end": 0.2,
            "count": 0
           },
           {
            "bin_start": 0.2,
            "bin_end": 0.30000000000000004,
            "count": 0
           },
           {
            "bin_start": 0.30000000000000004,
            "bin_end": 0.4,
            "count": 0
           },
           {
            "bin_start": 0.4,
            "bin_end": 0.5,
            "count": 0
           },
           {
            "bin_start": 0.5,
            "bin_end": 0.6000000000000001,
            "count": 0
           },
           {
            "bin_start": 0.6000000000000001,
            "bin_end": 0.7000000000000001,
            "count": 0
           },
           {
            "bin_start": 0.7000000000000001,
            "bin_end": 0.8,
            "count": 0
           },
           {
            "bin_start": 0.8,
            "bin_end": 0.9,
            "count": 0
           },
           {
            "bin_start": 0.9,
            "bin_end": 1,
            "count": 2
           }
          ]
         }
        },
        {
         "name": "Teravolt",
         "dtype": "float64",
         "stats": {
          "unique_count": 2,
          "nan_count": 0,
          "min": "0.0",
          "max": "1.0",
          "histogram": [
           {
            "bin_start": 0,
            "bin_end": 0.1,
            "count": 799
           },
           {
            "bin_start": 0.1,
            "bin_end": 0.2,
            "count": 0
           },
           {
            "bin_start": 0.2,
            "bin_end": 0.30000000000000004,
            "count": 0
           },
           {
            "bin_start": 0.30000000000000004,
            "bin_end": 0.4,
            "count": 0
           },
           {
            "bin_start": 0.4,
            "bin_end": 0.5,
            "count": 0
           },
           {
            "bin_start": 0.5,
            "bin_end": 0.6000000000000001,
            "count": 0
           },
           {
            "bin_start": 0.6000000000000001,
            "bin_end": 0.7000000000000001,
            "count": 0
           },
           {
            "bin_start": 0.7000000000000001,
            "bin_end": 0.8,
            "count": 0
           },
           {
            "bin_start": 0.8,
            "bin_end": 0.9,
            "count": 0
           },
           {
            "bin_start": 0.9,
            "bin_end": 1,
            "count": 2
           }
          ]
         }
        },
        {
         "name": "Telepathy",
         "dtype": "float64",
         "stats": {
          "unique_count": 2,
          "nan_count": 0,
          "min": "0.0",
          "max": "1.0",
          "histogram": [
           {
            "bin_start": 0,
            "bin_end": 0.1,
            "count": 780
           },
           {
            "bin_start": 0.1,
            "bin_end": 0.2,
            "count": 0
           },
           {
            "bin_start": 0.2,
            "bin_end": 0.30000000000000004,
            "count": 0
           },
           {
            "bin_start": 0.30000000000000004,
            "bin_end": 0.4,
            "count": 0
           },
           {
            "bin_start": 0.4,
            "bin_end": 0.5,
            "count": 0
           },
           {
            "bin_start": 0.5,
            "bin_end": 0.6000000000000001,
            "count": 0
           },
           {
            "bin_start": 0.6000000000000001,
            "bin_end": 0.7000000000000001,
            "count": 0
           },
           {
            "bin_start": 0.7000000000000001,
            "bin_end": 0.8,
            "count": 0
           },
           {
            "bin_start": 0.8,
            "bin_end": 0.9,
            "count": 0
           },
           {
            "bin_start": 0.9,
            "bin_end": 1,
            "count": 21
           }
          ]
         }
        },
        {
         "name": "generation",
         "dtype": "float64",
         "stats": {
          "unique_count": 7,
          "nan_count": 0,
          "min": "0.0",
          "max": "0.9999999999999999",
          "histogram": [
           {
            "bin_start": 0,
            "bin_end": 0.09999999999999999,
            "count": 151
           },
           {
            "bin_start": 0.09999999999999999,
            "bin_end": 0.19999999999999998,
            "count": 100
           },
           {
            "bin_start": 0.19999999999999998,
            "bin_end": 0.3,
            "count": 0
           },
           {
            "bin_start": 0.3,
            "bin_end": 0.39999999999999997,
            "count": 135
           },
           {
            "bin_start": 0.39999999999999997,
            "bin_end": 0.49999999999999994,
            "count": 0
           },
           {
            "bin_start": 0.49999999999999994,
            "bin_end": 0.6,
            "count": 107
           },
           {
            "bin_start": 0.6,
            "bin_end": 0.7,
            "count": 156
           },
           {
            "bin_start": 0.7,
            "bin_end": 0.7999999999999999,
            "count": 0
           },
           {
            "bin_start": 0.7999999999999999,
            "bin_end": 0.8999999999999999,
            "count": 72
           },
           {
            "bin_start": 0.8999999999999999,
            "bin_end": 0.9999999999999999,
            "count": 80
           }
          ]
         }
        },
        {
         "name": "against_dark",
         "dtype": "float64",
         "stats": {
          "unique_count": 5,
          "nan_count": 0,
          "min": "0.0",
          "max": "1.0",
          "histogram": [
           {
            "bin_start": 0,
            "bin_end": 0.1,
            "count": 129
           },
           {
            "bin_start": 0.1,
            "bin_end": 0.2,
            "count": 0
           },
           {
            "bin_start": 0.2,
            "bin_end": 0.30000000000000004,
            "count": 565
           },
           {
            "bin_start": 0.30000000000000004,
            "bin_end": 0.4,
            "count": 0
           },
           {
            "bin_start": 0.4,
            "bin_end": 0.5,
            "count": 105
           },
           {
            "bin_start": 0.5,
            "bin_end": 0.6000000000000001,
            "count": 0
           },
           {
            "bin_start": 0.6000000000000001,
            "bin_end": 0.7000000000000001,
            "count": 0
           },
           {
            "bin_start": 0.7000000000000001,
            "bin_end": 0.8,
            "count": 0
           },
           {
            "bin_start": 0.8,
            "bin_end": 0.9,
            "count": 0
           },
           {
            "bin_start": 0.9,
            "bin_end": 1,
            "count": 2
           }
          ]
         }
        },
        {
         "name": "Justified",
         "dtype": "float64",
         "stats": {
          "unique_count": 2,
          "nan_count": 0,
          "min": "0.0",
          "max": "1.0",
          "histogram": [
           {
            "bin_start": 0,
            "bin_end": 0.1,
            "count": 792
           },
           {
            "bin_start": 0.1,
            "bin_end": 0.2,
            "count": 0
           },
           {
            "bin_start": 0.2,
            "bin_end": 0.30000000000000004,
            "count": 0
           },
           {
            "bin_start": 0.30000000000000004,
            "bin_end": 0.4,
            "count": 0
           },
           {
            "bin_start": 0.4,
            "bin_end": 0.5,
            "count": 0
           },
           {
            "bin_start": 0.5,
            "bin_end": 0.6000000000000001,
            "count": 0
           },
           {
            "bin_start": 0.6000000000000001,
            "bin_end": 0.7000000000000001,
            "count": 0
           },
           {
            "bin_start": 0.7000000000000001,
            "bin_end": 0.8,
            "count": 0
           },
           {
            "bin_start": 0.8,
            "bin_end": 0.9,
            "count": 0
           },
           {
            "bin_start": 0.9,
            "bin_end": 1,
            "count": 9
           }
          ]
         }
        },
        {
         "name": "Sea Basin Pokémon",
         "dtype": "float64",
         "stats": {
          "unique_count": 2,
          "nan_count": 0,
          "min": "0.0",
          "max": "1.0",
          "histogram": [
           {
            "bin_start": 0,
            "bin_end": 0.1,
            "count": 800
           },
           {
            "bin_start": 0.1,
            "bin_end": 0.2,
            "count": 0
           },
           {
            "bin_start": 0.2,
            "bin_end": 0.30000000000000004,
            "count": 0
           },
           {
            "bin_start": 0.30000000000000004,
            "bin_end": 0.4,
            "count": 0
           },
           {
            "bin_start": 0.4,
            "bin_end": 0.5,
            "count": 0
           },
           {
            "bin_start": 0.5,
            "bin_end": 0.6000000000000001,
            "count": 0
           },
           {
            "bin_start": 0.6000000000000001,
            "bin_end": 0.7000000000000001,
            "count": 0
           },
           {
            "bin_start": 0.7000000000000001,
            "bin_end": 0.8,
            "count": 0
           },
           {
            "bin_start": 0.8,
            "bin_end": 0.9,
            "count": 0
           },
           {
            "bin_start": 0.9,
            "bin_end": 1,
            "count": 1
           }
          ]
         }
        },
        {
         "name": "Air Lock",
         "dtype": "float64",
         "stats": {
          "unique_count": 2,
          "nan_count": 0,
          "min": "0.0",
          "max": "1.0",
          "histogram": [
           {
            "bin_start": 0,
            "bin_end": 0.1,
            "count": 800
           },
           {
            "bin_start": 0.1,
            "bin_end": 0.2,
            "count": 0
           },
           {
            "bin_start": 0.2,
            "bin_end": 0.30000000000000004,
            "count": 0
           },
           {
            "bin_start": 0.30000000000000004,
            "bin_end": 0.4,
            "count": 0
           },
           {
            "bin_start": 0.4,
            "bin_end": 0.5,
            "count": 0
           },
           {
            "bin_start": 0.5,
            "bin_end": 0.6000000000000001,
            "count": 0
           },
           {
            "bin_start": 0.6000000000000001,
            "bin_end": 0.7000000000000001,
            "count": 0
           },
           {
            "bin_start": 0.7000000000000001,
            "bin_end": 0.8,
            "count": 0
           },
           {
            "bin_start": 0.8,
            "bin_end": 0.9,
            "count": 0
           },
           {
            "bin_start": 0.9,
            "bin_end": 1,
            "count": 1
           }
          ]
         }
        },
        {
         "name": "DNA Pokémon",
         "dtype": "float64",
         "stats": {
          "unique_count": 2,
          "nan_count": 0,
          "min": "0.0",
          "max": "1.0",
          "histogram": [
           {
            "bin_start": 0,
            "bin_end": 0.1,
            "count": 800
           },
           {
            "bin_start": 0.1,
            "bin_end": 0.2,
            "count": 0
           },
           {
            "bin_start": 0.2,
            "bin_end": 0.30000000000000004,
            "count": 0
           },
           {
            "bin_start": 0.30000000000000004,
            "bin_end": 0.4,
            "count": 0
           },
           {
            "bin_start": 0.4,
            "bin_end": 0.5,
            "count": 0
           },
           {
            "bin_start": 0.5,
            "bin_end": 0.6000000000000001,
            "count": 0
           },
           {
            "bin_start": 0.6000000000000001,
            "bin_end": 0.7000000000000001,
            "count": 0
           },
           {
            "bin_start": 0.7000000000000001,
            "bin_end": 0.8,
            "count": 0
           },
           {
            "bin_start": 0.8,
            "bin_end": 0.9,
            "count": 0
           },
           {
            "bin_start": 0.9,
            "bin_end": 1,
            "count": 1
           }
          ]
         }
        },
        {
         "name": "New Species Pokémon",
         "dtype": "float64",
         "stats": {
          "unique_count": 2,
          "nan_count": 0,
          "min": "0.0",
          "max": "1.0",
          "histogram": [
           {
            "bin_start": 0,
            "bin_end": 0.1,
            "count": 800
           },
           {
            "bin_start": 0.1,
            "bin_end": 0.2,
            "count": 0
           },
           {
            "bin_start": 0.2,
            "bin_end": 0.30000000000000004,
            "count": 0
           },
           {
            "bin_start": 0.30000000000000004,
            "bin_end": 0.4,
            "count": 0
           },
           {
            "bin_start": 0.4,
            "bin_end": 0.5,
            "count": 0
           },
           {
            "bin_start": 0.5,
            "bin_end": 0.6000000000000001,
            "count": 0
           },
           {
            "bin_start": 0.6000000000000001,
            "bin_end": 0.7000000000000001,
            "count": 0
           },
           {
            "bin_start": 0.7000000000000001,
            "bin_end": 0.8,
            "count": 0
           },
           {
            "bin_start": 0.8,
            "bin_end": 0.9,
            "count": 0
           },
           {
            "bin_start": 0.9,
            "bin_end": 1,
            "count": 1
           }
          ]
         }
        },
        {
         "name": "Sky High Pokémon",
         "dtype": "float64",
         "stats": {
          "unique_count": 2,
          "nan_count": 0,
          "min": "0.0",
          "max": "1.0",
          "histogram": [
           {
            "bin_start": 0,
            "bin_end": 0.1,
            "count": 800
           },
           {
            "bin_start": 0.1,
            "bin_end": 0.2,
            "count": 0
           },
           {
            "bin_start": 0.2,
            "bin_end": 0.30000000000000004,
            "count": 0
           },
           {
            "bin_start": 0.30000000000000004,
            "bin_end": 0.4,
            "count": 0
           },
           {
            "bin_start": 0.4,
            "bin_end": 0.5,
            "count": 0
           },
           {
            "bin_start": 0.5,
            "bin_end": 0.6000000000000001,
            "count": 0
           },
           {
            "bin_start": 0.6000000000000001,
            "bin_end": 0.7000000000000001,
            "count": 0
           },
           {
            "bin_start": 0.7000000000000001,
            "bin_end": 0.8,
            "count": 0
           },
           {
            "bin_start": 0.8,
            "bin_end": 0.9,
            "count": 0
           },
           {
            "bin_start": 0.9,
            "bin_end": 1,
            "count": 1
           }
          ]
         }
        },
        {
         "name": "Wish Pokémon",
         "dtype": "float64",
         "stats": {
          "unique_count": 2,
          "nan_count": 0,
          "min": "0.0",
          "max": "1.0",
          "histogram": [
           {
            "bin_start": 0,
            "bin_end": 0.1,
            "count": 800
           },
           {
            "bin_start": 0.1,
            "bin_end": 0.2,
            "count": 0
           },
           {
            "bin_start": 0.2,
            "bin_end": 0.30000000000000004,
            "count": 0
           },
           {
            "bin_start": 0.30000000000000004,
            "bin_end": 0.4,
            "count": 0
           },
           {
            "bin_start": 0.4,
            "bin_end": 0.5,
            "count": 0
           },
           {
            "bin_start": 0.5,
            "bin_end": 0.6000000000000001,
            "count": 0
           },
           {
            "bin_start": 0.6000000000000001,
            "bin_end": 0.7000000000000001,
            "count": 0
           },
           {
            "bin_start": 0.7000000000000001,
            "bin_end": 0.8,
            "count": 0
           },
           {
            "bin_start": 0.8,
            "bin_end": 0.9,
            "count": 0
           },
           {
            "bin_start": 0.9,
            "bin_end": 1,
            "count": 1
           }
          ]
         }
        },
        {
         "name": "Iron Pokémon",
         "dtype": "float64",
         "stats": {
          "unique_count": 2,
          "nan_count": 0,
          "min": "0.0",
          "max": "1.0",
          "histogram": [
           {
            "bin_start": 0,
            "bin_end": 0.1,
            "count": 800
           },
           {
            "bin_start": 0.1,
            "bin_end": 0.2,
            "count": 0
           },
           {
            "bin_start": 0.2,
            "bin_end": 0.30000000000000004,
            "count": 0
           },
           {
            "bin_start": 0.30000000000000004,
            "bin_end": 0.4,
            "count": 0
           },
           {
            "bin_start": 0.4,
            "bin_end": 0.5,
            "count": 0
           },
           {
            "bin_start": 0.5,
            "bin_end": 0.6000000000000001,
            "count": 0
           },
           {
            "bin_start": 0.6000000000000001,
            "bin_end": 0.7000000000000001,
            "count": 0
           },
           {
            "bin_start": 0.7000000000000001,
            "bin_end": 0.8,
            "count": 0
           },
           {
            "bin_start": 0.8,
            "bin_end": 0.9,
            "count": 0
           },
           {
            "bin_start": 0.9,
            "bin_end": 1,
            "count": 1
           }
          ]
         }
        },
        {
         "name": "Rock Peak Pokémon",
         "dtype": "float64",
         "stats": {
          "unique_count": 2,
          "nan_count": 0,
          "min": "0.0",
          "max": "1.0",
          "histogram": [
           {
            "bin_start": 0,
            "bin_end": 0.1,
            "count": 800
           },
           {
            "bin_start": 0.1,
            "bin_end": 0.2,
            "count": 0
           },
           {
            "bin_start": 0.2,
            "bin_end": 0.30000000000000004,
            "count": 0
           },
           {
            "bin_start": 0.30000000000000004,
            "bin_end": 0.4,
            "count": 0
           },
           {
            "bin_start": 0.4,
            "bin_end": 0.5,
            "count": 0
           },
           {
            "bin_start": 0.5,
            "bin_end": 0.6000000000000001,
            "count": 0
           },
           {
            "bin_start": 0.6000000000000001,
            "bin_end": 0.7000000000000001,
            "count": 0
           },
           {
            "bin_start": 0.7000000000000001,
            "bin_end": 0.8,
            "count": 0
           },
           {
            "bin_start": 0.8,
            "bin_end": 0.9,
            "count": 0
           },
           {
            "bin_start": 0.9,
            "bin_end": 1,
            "count": 1
           }
          ]
         }
        },
        {
         "name": "Knowledge Pokémon",
         "dtype": "float64",
         "stats": {
          "unique_count": 2,
          "nan_count": 0,
          "min": "0.0",
          "max": "1.0",
          "histogram": [
           {
            "bin_start": 0,
            "bin_end": 0.1,
            "count": 800
           },
           {
            "bin_start": 0.1,
            "bin_end": 0.2,
            "count": 0
           },
           {
            "bin_start": 0.2,
            "bin_end": 0.30000000000000004,
            "count": 0
           },
           {
            "bin_start": 0.30000000000000004,
            "bin_end": 0.4,
            "count": 0
           },
           {
            "bin_start": 0.4,
            "bin_end": 0.5,
            "count": 0
           },
           {
            "bin_start": 0.5,
            "bin_end": 0.6000000000000001,
            "count": 0
           },
           {
            "bin_start": 0.6000000000000001,
            "bin_end": 0.7000000000000001,
            "count": 0
           },
           {
            "bin_start": 0.7000000000000001,
            "bin_end": 0.8,
            "count": 0
           },
           {
            "bin_start": 0.8,
            "bin_end": 0.9,
            "count": 0
           },
           {
            "bin_start": 0.9,
            "bin_end": 1,
            "count": 1
           }
          ]
         }
        },
        {
         "name": "Genetic Pokémon",
         "dtype": "float64",
         "stats": {
          "unique_count": 2,
          "nan_count": 0,
          "min": "0.0",
          "max": "1.0",
          "histogram": [
           {
            "bin_start": 0,
            "bin_end": 0.1,
            "count": 800
           },
           {
            "bin_start": 0.1,
            "bin_end": 0.2,
            "count": 0
           },
           {
            "bin_start": 0.2,
            "bin_end": 0.30000000000000004,
            "count": 0
           },
           {
            "bin_start": 0.30000000000000004,
            "bin_end": 0.4,
            "count": 0
           },
           {
            "bin_start": 0.4,
            "bin_end": 0.5,
            "count": 0
           },
           {
            "bin_start": 0.5,
            "bin_end": 0.6000000000000001,
            "count": 0
           },
           {
            "bin_start": 0.6000000000000001,
            "bin_end": 0.7000000000000001,
            "count": 0
           },
           {
            "bin_start": 0.7000000000000001,
            "bin_end": 0.8,
            "count": 0
           },
           {
            "bin_start": 0.8,
            "bin_end": 0.9,
            "count": 0
           },
           {
            "bin_start": 0.9,
            "bin_end": 1,
            "count": 1
           }
          ]
         }
        },
        {
         "name": "Freeze Pokémon",
         "dtype": "float64",
         "stats": {
          "unique_count": 2,
          "nan_count": 0,
          "min": "0.0",
          "max": "1.0",
          "histogram": [
           {
            "bin_start": 0,
            "bin_end": 0.1,
            "count": 800
           },
           {
            "bin_start": 0.1,
            "bin_end": 0.2,
            "count": 0
           },
           {
            "bin_start": 0.2,
            "bin_end": 0.30000000000000004,
            "count": 0
           },
           {
            "bin_start": 0.30000000000000004,
            "bin_end": 0.4,
            "count": 0
           },
           {
            "bin_start": 0.4,
            "bin_end": 0.5,
            "count": 0
           },
           {
            "bin_start": 0.5,
            "bin_end": 0.6000000000000001,
            "count": 0
           },
           {
            "bin_start": 0.6000000000000001,
            "bin_end": 0.7000000000000001,
            "count": 0
           },
           {
            "bin_start": 0.7000000000000001,
            "bin_end": 0.8,
            "count": 0
           },
           {
            "bin_start": 0.8,
            "bin_end": 0.9,
            "count": 0
           },
           {
            "bin_start": 0.9,
            "bin_end": 1,
            "count": 1
           }
          ]
         }
        },
        {
         "name": "Bad Dreams",
         "dtype": "float64",
         "stats": {
          "unique_count": 2,
          "nan_count": 0,
          "min": "0.0",
          "max": "1.0",
          "histogram": [
           {
            "bin_start": 0,
            "bin_end": 0.1,
            "count": 800
           },
           {
            "bin_start": 0.1,
            "bin_end": 0.2,
            "count": 0
           },
           {
            "bin_start": 0.2,
            "bin_end": 0.30000000000000004,
            "count": 0
           },
           {
            "bin_start": 0.30000000000000004,
            "bin_end": 0.4,
            "count": 0
           },
           {
            "bin_start": 0.4,
            "bin_end": 0.5,
            "count": 0
           },
           {
            "bin_start": 0.5,
            "bin_end": 0.6000000000000001,
            "count": 0
           },
           {
            "bin_start": 0.6000000000000001,
            "bin_end": 0.7000000000000001,
            "count": 0
           },
           {
            "bin_start": 0.7000000000000001,
            "bin_end": 0.8,
            "count": 0
           },
           {
            "bin_start": 0.8,
            "bin_end": 0.9,
            "count": 0
           },
           {
            "bin_start": 0.9,
            "bin_end": 1,
            "count": 1
           }
          ]
         }
        },
        {
         "name": "Pitch-Black Pokémon",
         "dtype": "float64",
         "stats": {
          "unique_count": 2,
          "nan_count": 0,
          "min": "0.0",
          "max": "1.0",
          "histogram": [
           {
            "bin_start": 0,
            "bin_end": 0.1,
            "count": 800
           },
           {
            "bin_start": 0.1,
            "bin_end": 0.2,
            "count": 0
           },
           {
            "bin_start": 0.2,
            "bin_end": 0.30000000000000004,
            "count": 0
           },
           {
            "bin_start": 0.30000000000000004,
            "bin_end": 0.4,
            "count": 0
           },
           {
            "bin_start": 0.4,
            "bin_end": 0.5,
            "count": 0
           },
           {
            "bin_start": 0.5,
            "bin_end": 0.6000000000000001,
            "count": 0
           },
           {
            "bin_start": 0.6000000000000001,
            "bin_end": 0.7000000000000001,
            "count": 0
           },
           {
            "bin_start": 0.7000000000000001,
            "bin_end": 0.8,
            "count": 0
           },
           {
            "bin_start": 0.8,
            "bin_end": 0.9,
            "count": 0
           },
           {
            "bin_start": 0.9,
            "bin_end": 1,
            "count": 1
           }
          ]
         }
        },
        {
         "name": "Order Pokémon",
         "dtype": "float64",
         "stats": {
          "unique_count": 2,
          "nan_count": 0,
          "min": "0.0",
          "max": "1.0",
          "histogram": [
           {
            "bin_start": 0,
            "bin_end": 0.1,
            "count": 800
           },
           {
            "bin_start": 0.1,
            "bin_end": 0.2,
            "count": 0
           },
           {
            "bin_start": 0.2,
            "bin_end": 0.30000000000000004,
            "count": 0
           },
           {
            "bin_start": 0.30000000000000004,
            "bin_end": 0.4,
            "count": 0
           },
           {
            "bin_start": 0.4,
            "bin_end": 0.5,
            "count": 0
           },
           {
            "bin_start": 0.5,
            "bin_end": 0.6000000000000001,
            "count": 0
           },
           {
            "bin_start": 0.6000000000000001,
            "bin_end": 0.7000000000000001,
            "count": 0
           },
           {
            "bin_start": 0.7000000000000001,
            "bin_end": 0.8,
            "count": 0
           },
           {
            "bin_start": 0.8,
            "bin_end": 0.9,
            "count": 0
           },
           {
            "bin_start": 0.9,
            "bin_end": 1,
            "count": 1
           }
          ]
         }
        },
        {
         "name": "Colossal Pokémon",
         "dtype": "float64",
         "stats": {
          "unique_count": 2,
          "nan_count": 0,
          "min": "0.0",
          "max": "1.0",
          "histogram": [
           {
            "bin_start": 0,
            "bin_end": 0.1,
            "count": 800
           },
           {
            "bin_start": 0.1,
            "bin_end": 0.2,
            "count": 0
           },
           {
            "bin_start": 0.2,
            "bin_end": 0.30000000000000004,
            "count": 0
           },
           {
            "bin_start": 0.30000000000000004,
            "bin_end": 0.4,
            "count": 0
           },
           {
            "bin_start": 0.4,
            "bin_end": 0.5,
            "count": 0
           },
           {
            "bin_start": 0.5,
            "bin_end": 0.6000000000000001,
            "count": 0
           },
           {
            "bin_start": 0.6000000000000001,
            "bin_end": 0.7000000000000001,
            "count": 0
           },
           {
            "bin_start": 0.7000000000000001,
            "bin_end": 0.8,
            "count": 0
           },
           {
            "bin_start": 0.8,
            "bin_end": 0.9,
            "count": 0
           },
           {
            "bin_start": 0.9,
            "bin_end": 1,
            "count": 1
           }
          ]
         }
        },
        {
         "name": "Aura Break",
         "dtype": "float64",
         "stats": {
          "unique_count": 2,
          "nan_count": 0,
          "min": "0.0",
          "max": "1.0",
          "histogram": [
           {
            "bin_start": 0,
            "bin_end": 0.1,
            "count": 800
           },
           {
            "bin_start": 0.1,
            "bin_end": 0.2,
            "count": 0
           },
           {
            "bin_start": 0.2,
            "bin_end": 0.30000000000000004,
            "count": 0
           },
           {
            "bin_start": 0.30000000000000004,
            "bin_end": 0.4,
            "count": 0
           },
           {
            "bin_start": 0.4,
            "bin_end": 0.5,
            "count": 0
           },
           {
            "bin_start": 0.5,
            "bin_end": 0.6000000000000001,
            "count": 0
           },
           {
            "bin_start": 0.6000000000000001,
            "bin_end": 0.7000000000000001,
            "count": 0
           },
           {
            "bin_start": 0.7000000000000001,
            "bin_end": 0.8,
            "count": 0
           },
           {
            "bin_start": 0.8,
            "bin_end": 0.9,
            "count": 0
           },
           {
            "bin_start": 0.9,
            "bin_end": 1,
            "count": 1
           }
          ]
         }
        },
        {
         "name": "Slow Start",
         "dtype": "float64",
         "stats": {
          "unique_count": 2,
          "nan_count": 0,
          "min": "0.0",
          "max": "1.0",
          "histogram": [
           {
            "bin_start": 0,
            "bin_end": 0.1,
            "count": 800
           },
           {
            "bin_start": 0.1,
            "bin_end": 0.2,
            "count": 0
           },
           {
            "bin_start": 0.2,
            "bin_end": 0.30000000000000004,
            "count": 0
           },
           {
            "bin_start": 0.30000000000000004,
            "bin_end": 0.4,
            "count": 0
           },
           {
            "bin_start": 0.4,
            "bin_end": 0.5,
            "count": 0
           },
           {
            "bin_start": 0.5,
            "bin_end": 0.6000000000000001,
            "count": 0
           },
           {
            "bin_start": 0.6000000000000001,
            "bin_end": 0.7000000000000001,
            "count": 0
           },
           {
            "bin_start": 0.7000000000000001,
            "bin_end": 0.8,
            "count": 0
           },
           {
            "bin_start": 0.8,
            "bin_end": 0.9,
            "count": 0
           },
           {
            "bin_start": 0.9,
            "bin_end": 1,
            "count": 1
           }
          ]
         }
        },
        {
         "name": "Mischief Pokémon (Confined)Djinn Pokémonn (Unbound)",
         "dtype": "float64",
         "stats": {
          "unique_count": 2,
          "nan_count": 0,
          "min": "0.0",
          "max": "1.0",
          "histogram": [
           {
            "bin_start": 0,
            "bin_end": 0.1,
            "count": 800
           },
           {
            "bin_start": 0.1,
            "bin_end": 0.2,
            "count": 0
           },
           {
            "bin_start": 0.2,
            "bin_end": 0.30000000000000004,
            "count": 0
           },
           {
            "bin_start": 0.30000000000000004,
            "bin_end": 0.4,
            "count": 0
           },
           {
            "bin_start": 0.4,
            "bin_end": 0.5,
            "count": 0
           },
           {
            "bin_start": 0.5,
            "bin_end": 0.6000000000000001,
            "count": 0
           },
           {
            "bin_start": 0.6000000000000001,
            "bin_end": 0.7000000000000001,
            "count": 0
           },
           {
            "bin_start": 0.7000000000000001,
            "bin_end": 0.8,
            "count": 0
           },
           {
            "bin_start": 0.8,
            "bin_end": 0.9,
            "count": 0
           },
           {
            "bin_start": 0.9,
            "bin_end": 1,
            "count": 1
           }
          ]
         }
        },
        {
         "name": "Power Construct",
         "dtype": "float64",
         "stats": {
          "unique_count": 2,
          "nan_count": 0,
          "min": "0.0",
          "max": "1.0",
          "histogram": [
           {
            "bin_start": 0,
            "bin_end": 0.1,
            "count": 800
           },
           {
            "bin_start": 0.1,
            "bin_end": 0.2,
            "count": 0
           },
           {
            "bin_start": 0.2,
            "bin_end": 0.30000000000000004,
            "count": 0
           },
           {
            "bin_start": 0.30000000000000004,
            "bin_end": 0.4,
            "count": 0
           },
           {
            "bin_start": 0.4,
            "bin_end": 0.5,
            "count": 0
           },
           {
            "bin_start": 0.5,
            "bin_end": 0.6000000000000001,
            "count": 0
           },
           {
            "bin_start": 0.6000000000000001,
            "bin_end": 0.7000000000000001,
            "count": 0
           },
           {
            "bin_start": 0.7000000000000001,
            "bin_end": 0.8,
            "count": 0
           },
           {
            "bin_start": 0.8,
            "bin_end": 0.9,
            "count": 0
           },
           {
            "bin_start": 0.9,
            "bin_end": 1,
            "count": 1
           }
          ]
         }
        },
        {
         "name": "Prism Armor",
         "dtype": "float64",
         "stats": {
          "unique_count": 2,
          "nan_count": 0,
          "min": "0.0",
          "max": "1.0",
          "histogram": [
           {
            "bin_start": 0,
            "bin_end": 0.1,
            "count": 800
           },
           {
            "bin_start": 0.1,
            "bin_end": 0.2,
            "count": 0
           },
           {
            "bin_start": 0.2,
            "bin_end": 0.30000000000000004,
            "count": 0
           },
           {
            "bin_start": 0.30000000000000004,
            "bin_end": 0.4,
            "count": 0
           },
           {
            "bin_start": 0.4,
            "bin_end": 0.5,
            "count": 0
           },
           {
            "bin_start": 0.5,
            "bin_end": 0.6000000000000001,
            "count": 0
           },
           {
            "bin_start": 0.6000000000000001,
            "bin_end": 0.7000000000000001,
            "count": 0
           },
           {
            "bin_start": 0.7000000000000001,
            "bin_end": 0.8,
            "count": 0
           },
           {
            "bin_start": 0.8,
            "bin_end": 0.9,
            "count": 0
           },
           {
            "bin_start": 0.9,
            "bin_end": 1,
            "count": 1
           }
          ]
         }
        },
        {
         "name": "Steam Pokémon",
         "dtype": "float64",
         "stats": {
          "unique_count": 2,
          "nan_count": 0,
          "min": "0.0",
          "max": "1.0",
          "histogram": [
           {
            "bin_start": 0,
            "bin_end": 0.1,
            "count": 800
           },
           {
            "bin_start": 0.1,
            "bin_end": 0.2,
            "count": 0
           },
           {
            "bin_start": 0.2,
            "bin_end": 0.30000000000000004,
            "count": 0
           },
           {
            "bin_start": 0.30000000000000004,
            "bin_end": 0.4,
            "count": 0
           },
           {
            "bin_start": 0.4,
            "bin_end": 0.5,
            "count": 0
           },
           {
            "bin_start": 0.5,
            "bin_end": 0.6000000000000001,
            "count": 0
           },
           {
            "bin_start": 0.6000000000000001,
            "bin_end": 0.7000000000000001,
            "count": 0
           },
           {
            "bin_start": 0.7000000000000001,
            "bin_end": 0.8,
            "count": 0
           },
           {
            "bin_start": 0.8,
            "bin_end": 0.9,
            "count": 0
           },
           {
            "bin_start": 0.9,
            "bin_end": 1,
            "count": 1
           }
          ]
         }
        },
        {
         "name": "Lava Dome Pokémon",
         "dtype": "float64",
         "stats": {
          "unique_count": 2,
          "nan_count": 0,
          "min": "0.0",
          "max": "1.0",
          "histogram": [
           {
            "bin_start": 0,
            "bin_end": 0.1,
            "count": 800
           },
           {
            "bin_start": 0.1,
            "bin_end": 0.2,
            "count": 0
           },
           {
            "bin_start": 0.2,
            "bin_end": 0.30000000000000004,
            "count": 0
           },
           {
            "bin_start": 0.30000000000000004,
            "bin_end": 0.4,
            "count": 0
           },
           {
            "bin_start": 0.4,
            "bin_end": 0.5,
            "count": 0
           },
           {
            "bin_start": 0.5,
            "bin_end": 0.6000000000000001,
            "count": 0
           },
           {
            "bin_start": 0.6000000000000001,
            "bin_end": 0.7000000000000001,
            "count": 0
           },
           {
            "bin_start": 0.7000000000000001,
            "bin_end": 0.8,
            "count": 0
           },
           {
            "bin_start": 0.8,
            "bin_end": 0.9,
            "count": 0
           },
           {
            "bin_start": 0.9,
            "bin_end": 1,
            "count": 1
           }
          ]
         }
        },
        {
         "name": "Spatial Pokémon",
         "dtype": "float64",
         "stats": {
          "unique_count": 2,
          "nan_count": 0,
          "min": "0.0",
          "max": "1.0",
          "histogram": [
           {
            "bin_start": 0,
            "bin_end": 0.1,
            "count": 800
           },
           {
            "bin_start": 0.1,
            "bin_end": 0.2,
            "count": 0
           },
           {
            "bin_start": 0.2,
            "bin_end": 0.30000000000000004,
            "count": 0
           },
           {
            "bin_start": 0.30000000000000004,
            "bin_end": 0.4,
            "count": 0
           },
           {
            "bin_start": 0.4,
            "bin_end": 0.5,
            "count": 0
           },
           {
            "bin_start": 0.5,
            "bin_end": 0.6000000000000001,
            "count": 0
           },
           {
            "bin_start": 0.6000000000000001,
            "bin_end": 0.7000000000000001,
            "count": 0
           },
           {
            "bin_start": 0.7000000000000001,
            "bin_end": 0.8,
            "count": 0
           },
           {
            "bin_start": 0.8,
            "bin_end": 0.9,
            "count": 0
           },
           {
            "bin_start": 0.9,
            "bin_end": 1,
            "count": 1
           }
          ]
         }
        },
        {
         "name": "Victory Pokémon",
         "dtype": "float64",
         "stats": {
          "unique_count": 2,
          "nan_count": 0,
          "min": "0.0",
          "max": "1.0",
          "histogram": [
           {
            "bin_start": 0,
            "bin_end": 0.1,
            "count": 800
           },
           {
            "bin_start": 0.1,
            "bin_end": 0.2,
            "count": 0
           },
           {
            "bin_start": 0.2,
            "bin_end": 0.30000000000000004,
            "count": 0
           },
           {
            "bin_start": 0.30000000000000004,
            "bin_end": 0.4,
            "count": 0
           },
           {
            "bin_start": 0.4,
            "bin_end": 0.5,
            "count": 0
           },
           {
            "bin_start": 0.5,
            "bin_end": 0.6000000000000001,
            "count": 0
           },
           {
            "bin_start": 0.6000000000000001,
            "bin_end": 0.7000000000000001,
            "count": 0
           },
           {
            "bin_start": 0.7000000000000001,
            "bin_end": 0.8,
            "count": 0
           },
           {
            "bin_start": 0.8,
            "bin_end": 0.9,
            "count": 0
           },
           {
            "bin_start": 0.9,
            "bin_end": 1,
            "count": 1
           }
          ]
         }
        },
        {
         "name": "Willpower Pokémon",
         "dtype": "float64",
         "stats": {
          "unique_count": 2,
          "nan_count": 0,
          "min": "0.0",
          "max": "1.0",
          "histogram": [
           {
            "bin_start": 0,
            "bin_end": 0.1,
            "count": 800
           },
           {
            "bin_start": 0.1,
            "bin_end": 0.2,
            "count": 0
           },
           {
            "bin_start": 0.2,
            "bin_end": 0.30000000000000004,
            "count": 0
           },
           {
            "bin_start": 0.30000000000000004,
            "bin_end": 0.4,
            "count": 0
           },
           {
            "bin_start": 0.4,
            "bin_end": 0.5,
            "count": 0
           },
           {
            "bin_start": 0.5,
            "bin_end": 0.6000000000000001,
            "count": 0
           },
           {
            "bin_start": 0.6000000000000001,
            "bin_end": 0.7000000000000001,
            "count": 0
           },
           {
            "bin_start": 0.7000000000000001,
            "bin_end": 0.8,
            "count": 0
           },
           {
            "bin_start": 0.8,
            "bin_end": 0.9,
            "count": 0
           },
           {
            "bin_start": 0.9,
            "bin_end": 1,
            "count": 1
           }
          ]
         }
        },
        {
         "name": "Gratitude Pokémon",
         "dtype": "float64",
         "stats": {
          "unique_count": 2,
          "nan_count": 0,
          "min": "0.0",
          "max": "1.0",
          "histogram": [
           {
            "bin_start": 0,
            "bin_end": 0.1,
            "count": 800
           },
           {
            "bin_start": 0.1,
            "bin_end": 0.2,
            "count": 0
           },
           {
            "bin_start": 0.2,
            "bin_end": 0.30000000000000004,
            "count": 0
           },
           {
            "bin_start": 0.30000000000000004,
            "bin_end": 0.4,
            "count": 0
           },
           {
            "bin_start": 0.4,
            "bin_end": 0.5,
            "count": 0
           },
           {
            "bin_start": 0.5,
            "bin_end": 0.6000000000000001,
            "count": 0
           },
           {
            "bin_start": 0.6000000000000001,
            "bin_end": 0.7000000000000001,
            "count": 0
           },
           {
            "bin_start": 0.7000000000000001,
            "bin_end": 0.8,
            "count": 0
           },
           {
            "bin_start": 0.8,
            "bin_end": 0.9,
            "count": 0
           },
           {
            "bin_start": 0.9,
            "bin_end": 1,
            "count": 1
           }
          ]
         }
        },
        {
         "name": "Seafaring Pokémon",
         "dtype": "float64",
         "stats": {
          "unique_count": 2,
          "nan_count": 0,
          "min": "0.0",
          "max": "1.0",
          "histogram": [
           {
            "bin_start": 0,
            "bin_end": 0.1,
            "count": 800
           },
           {
            "bin_start": 0.1,
            "bin_end": 0.2,
            "count": 0
           },
           {
            "bin_start": 0.2,
            "bin_end": 0.30000000000000004,
            "count": 0
           },
           {
            "bin_start": 0.30000000000000004,
            "bin_end": 0.4,
            "count": 0
           },
           {
            "bin_start": 0.4,
            "bin_end": 0.5,
            "count": 0
           },
           {
            "bin_start": 0.5,
            "bin_end": 0.6000000000000001,
            "count": 0
           },
           {
            "bin_start": 0.6000000000000001,
            "bin_end": 0.7000000000000001,
            "count": 0
           },
           {
            "bin_start": 0.7000000000000001,
            "bin_end": 0.8,
            "count": 0
           },
           {
            "bin_start": 0.8,
            "bin_end": 0.9,
            "count": 0
           },
           {
            "bin_start": 0.9,
            "bin_end": 1,
            "count": 1
           }
          ]
         }
        },
        {
         "name": "Victory Star",
         "dtype": "float64",
         "stats": {
          "unique_count": 2,
          "nan_count": 0,
          "min": "0.0",
          "max": "1.0",
          "histogram": [
           {
            "bin_start": 0,
            "bin_end": 0.1,
            "count": 800
           },
           {
            "bin_start": 0.1,
            "bin_end": 0.2,
            "count": 0
           },
           {
            "bin_start": 0.2,
            "bin_end": 0.30000000000000004,
            "count": 0
           },
           {
            "bin_start": 0.30000000000000004,
            "bin_end": 0.4,
            "count": 0
           },
           {
            "bin_start": 0.4,
            "bin_end": 0.5,
            "count": 0
           },
           {
            "bin_start": 0.5,
            "bin_end": 0.6000000000000001,
            "count": 0
           },
           {
            "bin_start": 0.6000000000000001,
            "bin_end": 0.7000000000000001,
            "count": 0
           },
           {
            "bin_start": 0.7000000000000001,
            "bin_end": 0.8,
            "count": 0
           },
           {
            "bin_start": 0.8,
            "bin_end": 0.9,
            "count": 0
           },
           {
            "bin_start": 0.9,
            "bin_end": 1,
            "count": 1
           }
          ]
         }
        },
        {
         "name": "Psychic Surge",
         "dtype": "float64",
         "stats": {
          "unique_count": 2,
          "nan_count": 0,
          "min": "0.0",
          "max": "1.0",
          "histogram": [
           {
            "bin_start": 0,
            "bin_end": 0.1,
            "count": 800
           },
           {
            "bin_start": 0.1,
            "bin_end": 0.2,
            "count": 0
           },
           {
            "bin_start": 0.2,
            "bin_end": 0.30000000000000004,
            "count": 0
           },
           {
            "bin_start": 0.30000000000000004,
            "bin_end": 0.4,
            "count": 0
           },
           {
            "bin_start": 0.4,
            "bin_end": 0.5,
            "count": 0
           },
           {
            "bin_start": 0.5,
            "bin_end": 0.6000000000000001,
            "count": 0
           },
           {
            "bin_start": 0.6000000000000001,
            "bin_end": 0.7000000000000001,
            "count": 0
           },
           {
            "bin_start": 0.7000000000000001,
            "bin_end": 0.8,
            "count": 0
           },
           {
            "bin_start": 0.8,
            "bin_end": 0.9,
            "count": 0
           },
           {
            "bin_start": 0.9,
            "bin_end": 1,
            "count": 1
           }
          ]
         }
        },
        {
         "name": "Prism Pokémon",
         "dtype": "float64",
         "stats": {
          "unique_count": 2,
          "nan_count": 0,
          "min": "0.0",
          "max": "1.0",
          "histogram": [
           {
            "bin_start": 0,
            "bin_end": 0.1,
            "count": 800
           },
           {
            "bin_start": 0.1,
            "bin_end": 0.2,
            "count": 0
           },
           {
            "bin_start": 0.2,
            "bin_end": 0.30000000000000004,
            "count": 0
           },
           {
            "bin_start": 0.30000000000000004,
            "bin_end": 0.4,
            "count": 0
           },
           {
            "bin_start": 0.4,
            "bin_end": 0.5,
            "count": 0
           },
           {
            "bin_start": 0.5,
            "bin_end": 0.6000000000000001,
            "count": 0
           },
           {
            "bin_start": 0.6000000000000001,
            "bin_end": 0.7000000000000001,
            "count": 0
           },
           {
            "bin_start": 0.7000000000000001,
            "bin_end": 0.8,
            "count": 0
           },
           {
            "bin_start": 0.8,
            "bin_end": 0.9,
            "count": 0
           },
           {
            "bin_start": 0.9,
            "bin_end": 1,
            "count": 1
           }
          ]
         }
        },
        {
         "name": "Temporal Pokémon",
         "dtype": "float64",
         "stats": {
          "unique_count": 2,
          "nan_count": 0,
          "min": "0.0",
          "max": "1.0",
          "histogram": [
           {
            "bin_start": 0,
            "bin_end": 0.1,
            "count": 800
           },
           {
            "bin_start": 0.1,
            "bin_end": 0.2,
            "count": 0
           },
           {
            "bin_start": 0.2,
            "bin_end": 0.30000000000000004,
            "count": 0
           },
           {
            "bin_start": 0.30000000000000004,
            "bin_end": 0.4,
            "count": 0
           },
           {
            "bin_start": 0.4,
            "bin_end": 0.5,
            "count": 0
           },
           {
            "bin_start": 0.5,
            "bin_end": 0.6000000000000001,
            "count": 0
           },
           {
            "bin_start": 0.6000000000000001,
            "bin_end": 0.7000000000000001,
            "count": 0
           },
           {
            "bin_start": 0.7000000000000001,
            "bin_end": 0.8,
            "count": 0
           },
           {
            "bin_start": 0.8,
            "bin_end": 0.9,
            "count": 0
           },
           {
            "bin_start": 0.9,
            "bin_end": 1,
            "count": 1
           }
          ]
         }
        },
        {
         "name": "Alpha Pokémon",
         "dtype": "float64",
         "stats": {
          "unique_count": 2,
          "nan_count": 0,
          "min": "0.0",
          "max": "1.0",
          "histogram": [
           {
            "bin_start": 0,
            "bin_end": 0.1,
            "count": 800
           },
           {
            "bin_start": 0.1,
            "bin_end": 0.2,
            "count": 0
           },
           {
            "bin_start": 0.2,
            "bin_end": 0.30000000000000004,
            "count": 0
           },
           {
            "bin_start": 0.30000000000000004,
            "bin_end": 0.4,
            "count": 0
           },
           {
            "bin_start": 0.4,
            "bin_end": 0.5,
            "count": 0
           },
           {
            "bin_start": 0.5,
            "bin_end": 0.6000000000000001,
            "count": 0
           },
           {
            "bin_start": 0.6000000000000001,
            "bin_end": 0.7000000000000001,
            "count": 0
           },
           {
            "bin_start": 0.7000000000000001,
            "bin_end": 0.8,
            "count": 0
           },
           {
            "bin_start": 0.8,
            "bin_end": 0.9,
            "count": 0
           },
           {
            "bin_start": 0.9,
            "bin_end": 1,
            "count": 1
           }
          ]
         }
        },
        {
         "name": "Electric Surge",
         "dtype": "float64",
         "stats": {
          "unique_count": 2,
          "nan_count": 0,
          "min": "0.0",
          "max": "1.0",
          "histogram": [
           {
            "bin_start": 0,
            "bin_end": 0.1,
            "count": 800
           },
           {
            "bin_start": 0.1,
            "bin_end": 0.2,
            "count": 0
           },
           {
            "bin_start": 0.2,
            "bin_end": 0.30000000000000004,
            "count": 0
           },
           {
            "bin_start": 0.30000000000000004,
            "bin_end": 0.4,
            "count": 0
           },
           {
            "bin_start": 0.4,
            "bin_end": 0.5,
            "count": 0
           },
           {
            "bin_start": 0.5,
            "bin_end": 0.6000000000000001,
            "count": 0
           },
           {
            "bin_start": 0.6000000000000001,
            "bin_end": 0.7000000000000001,
            "count": 0
           },
           {
            "bin_start": 0.7000000000000001,
            "bin_end": 0.8,
            "count": 0
           },
           {
            "bin_start": 0.8,
            "bin_end": 0.9,
            "count": 0
           },
           {
            "bin_start": 0.9,
            "bin_end": 1,
            "count": 1
           }
          ]
         }
        },
        {
         "name": "Soul-Heart",
         "dtype": "float64",
         "stats": {
          "unique_count": 2,
          "nan_count": 0,
          "min": "0.0",
          "max": "1.0",
          "histogram": [
           {
            "bin_start": 0,
            "bin_end": 0.1,
            "count": 800
           },
           {
            "bin_start": 0.1,
            "bin_end": 0.2,
            "count": 0
           },
           {
            "bin_start": 0.2,
            "bin_end": 0.30000000000000004,
            "count": 0
           },
           {
            "bin_start": 0.30000000000000004,
            "bin_end": 0.4,
            "count": 0
           },
           {
            "bin_start": 0.4,
            "bin_end": 0.5,
            "count": 0
           },
           {
            "bin_start": 0.5,
            "bin_end": 0.6000000000000001,
            "count": 0
           },
           {
            "bin_start": 0.6000000000000001,
            "bin_end": 0.7000000000000001,
            "count": 0
           },
           {
            "bin_start": 0.7000000000000001,
            "bin_end": 0.8,
            "count": 0
           },
           {
            "bin_start": 0.8,
            "bin_end": 0.9,
            "count": 0
           },
           {
            "bin_start": 0.9,
            "bin_end": 1,
            "count": 1
           }
          ]
         }
        },
        {
         "name": "Dark Aura",
         "dtype": "float64",
         "stats": {
          "unique_count": 2,
          "nan_count": 0,
          "min": "0.0",
          "max": "1.0",
          "histogram": [
           {
            "bin_start": 0,
            "bin_end": 0.1,
            "count": 800
           },
           {
            "bin_start": 0.1,
            "bin_end": 0.2,
            "count": 0
           },
           {
            "bin_start": 0.2,
            "bin_end": 0.30000000000000004,
            "count": 0
           },
           {
            "bin_start": 0.30000000000000004,
            "bin_end": 0.4,
            "count": 0
           },
           {
            "bin_start": 0.4,
            "bin_end": 0.5,
            "count": 0
           },
           {
            "bin_start": 0.5,
            "bin_end": 0.6000000000000001,
            "count": 0
           },
           {
            "bin_start": 0.6000000000000001,
            "bin_end": 0.7000000000000001,
            "count": 0
           },
           {
            "bin_start": 0.7000000000000001,
            "bin_end": 0.8,
            "count": 0
           },
           {
            "bin_start": 0.8,
            "bin_end": 0.9,
            "count": 0
           },
           {
            "bin_start": 0.9,
            "bin_end": 1,
            "count": 1
           }
          ]
         }
        },
        {
         "name": "Renegade Pokémon",
         "dtype": "float64",
         "stats": {
          "unique_count": 2,
          "nan_count": 0,
          "min": "0.0",
          "max": "1.0",
          "histogram": [
           {
            "bin_start": 0,
            "bin_end": 0.1,
            "count": 800
           },
           {
            "bin_start": 0.1,
            "bin_end": 0.2,
            "count": 0
           },
           {
            "bin_start": 0.2,
            "bin_end": 0.30000000000000004,
            "count": 0
           },
           {
            "bin_start": 0.30000000000000004,
            "bin_end": 0.4,
            "count": 0
           },
           {
            "bin_start": 0.4,
            "bin_end": 0.5,
            "count": 0
           },
           {
            "bin_start": 0.5,
            "bin_end": 0.6000000000000001,
            "count": 0
           },
           {
            "bin_start": 0.6000000000000001,
            "bin_end": 0.7000000000000001,
            "count": 0
           },
           {
            "bin_start": 0.7000000000000001,
            "bin_end": 0.8,
            "count": 0
           },
           {
            "bin_start": 0.8,
            "bin_end": 0.9,
            "count": 0
           },
           {
            "bin_start": 0.9,
            "bin_end": 1,
            "count": 1
           }
          ]
         }
        },
        {
         "name": "Artificial Pokémon",
         "dtype": "float64",
         "stats": {
          "unique_count": 2,
          "nan_count": 0,
          "min": "0.0",
          "max": "1.0",
          "histogram": [
           {
            "bin_start": 0,
            "bin_end": 0.1,
            "count": 800
           },
           {
            "bin_start": 0.1,
            "bin_end": 0.2,
            "count": 0
           },
           {
            "bin_start": 0.2,
            "bin_end": 0.30000000000000004,
            "count": 0
           },
           {
            "bin_start": 0.30000000000000004,
            "bin_end": 0.4,
            "count": 0
           },
           {
            "bin_start": 0.4,
            "bin_end": 0.5,
            "count": 0
           },
           {
            "bin_start": 0.5,
            "bin_end": 0.6000000000000001,
            "count": 0
           },
           {
            "bin_start": 0.6000000000000001,
            "bin_end": 0.7000000000000001,
            "count": 0
           },
           {
            "bin_start": 0.7000000000000001,
            "bin_end": 0.8,
            "count": 0
           },
           {
            "bin_start": 0.8,
            "bin_end": 0.9,
            "count": 0
           },
           {
            "bin_start": 0.9,
            "bin_end": 1,
            "count": 1
           }
          ]
         }
        },
        {
         "name": "Rainbow Pokémon",
         "dtype": "float64",
         "stats": {
          "unique_count": 2,
          "nan_count": 0,
          "min": "0.0",
          "max": "1.0",
          "histogram": [
           {
            "bin_start": 0,
            "bin_end": 0.1,
            "count": 800
           },
           {
            "bin_start": 0.1,
            "bin_end": 0.2,
            "count": 0
           },
           {
            "bin_start": 0.2,
            "bin_end": 0.30000000000000004,
            "count": 0
           },
           {
            "bin_start": 0.30000000000000004,
            "bin_end": 0.4,
            "count": 0
           },
           {
            "bin_start": 0.4,
            "bin_end": 0.5,
            "count": 0
           },
           {
            "bin_start": 0.5,
            "bin_end": 0.6000000000000001,
            "count": 0
           },
           {
            "bin_start": 0.6000000000000001,
            "bin_end": 0.7000000000000001,
            "count": 0
           },
           {
            "bin_start": 0.7000000000000001,
            "bin_end": 0.8,
            "count": 0
           },
           {
            "bin_start": 0.8,
            "bin_end": 0.9,
            "count": 0
           },
           {
            "bin_start": 0.9,
            "bin_end": 1,
            "count": 1
           }
          ]
         }
        },
        {
         "name": "Grassy Surge",
         "dtype": "float64",
         "stats": {
          "unique_count": 2,
          "nan_count": 0,
          "min": "0.0",
          "max": "1.0",
          "histogram": [
           {
            "bin_start": 0,
            "bin_end": 0.1,
            "count": 800
           },
           {
            "bin_start": 0.1,
            "bin_end": 0.2,
            "count": 0
           },
           {
            "bin_start": 0.2,
            "bin_end": 0.30000000000000004,
            "count": 0
           },
           {
            "bin_start": 0.30000000000000004,
            "bin_end": 0.4,
            "count": 0
           },
           {
            "bin_start": 0.4,
            "bin_end": 0.5,
            "count": 0
           },
           {
            "bin_start": 0.5,
            "bin_end": 0.6000000000000001,
            "count": 0
           },
           {
            "bin_start": 0.6000000000000001,
            "bin_end": 0.7000000000000001,
            "count": 0
           },
           {
            "bin_start": 0.7000000000000001,
            "bin_end": 0.8,
            "count": 0
           },
           {
            "bin_start": 0.8,
            "bin_end": 0.9,
            "count": 0
           },
           {
            "bin_start": 0.9,
            "bin_end": 1,
            "count": 1
           }
          ]
         }
        },
        {
         "name": "Thunder Pokémon",
         "dtype": "float64",
         "stats": {
          "unique_count": 2,
          "nan_count": 0,
          "min": "0.0",
          "max": "1.0",
          "histogram": [
           {
            "bin_start": 0,
            "bin_end": 0.1,
            "count": 800
           },
           {
            "bin_start": 0.1,
            "bin_end": 0.2,
            "count": 0
           },
           {
            "bin_start": 0.2,
            "bin_end": 0.30000000000000004,
            "count": 0
           },
           {
            "bin_start": 0.30000000000000004,
            "bin_end": 0.4,
            "count": 0
           },
           {
            "bin_start": 0.4,
            "bin_end": 0.5,
            "count": 0
           },
           {
            "bin_start": 0.5,
            "bin_end": 0.6000000000000001,
            "count": 0
           },
           {
            "bin_start": 0.6000000000000001,
            "bin_end": 0.7000000000000001,
            "count": 0
           },
           {
            "bin_start": 0.7000000000000001,
            "bin_end": 0.8,
            "count": 0
           },
           {
            "bin_start": 0.8,
            "bin_end": 0.9,
            "count": 0
           },
           {
            "bin_start": 0.9,
            "bin_end": 1,
            "count": 1
           }
          ]
         }
        },
        {
         "name": "Protostar Pokémon",
         "dtype": "float64",
         "stats": {
          "unique_count": 2,
          "nan_count": 0,
          "min": "0.0",
          "max": "1.0",
          "histogram": [
           {
            "bin_start": 0,
            "bin_end": 0.1,
            "count": 800
           },
           {
            "bin_start": 0.1,
            "bin_end": 0.2,
            "count": 0
           },
           {
            "bin_start": 0.2,
            "bin_end": 0.30000000000000004,
            "count": 0
           },
           {
            "bin_start": 0.30000000000000004,
            "bin_end": 0.4,
            "count": 0
           },
           {
            "bin_start": 0.4,
            "bin_end": 0.5,
            "count": 0
           },
           {
            "bin_start": 0.5,
            "bin_end": 0.6000000000000001,
            "count": 0
           },
           {
            "bin_start": 0.6000000000000001,
            "bin_end": 0.7000000000000001,
            "count": 0
           },
           {
            "bin_start": 0.7000000000000001,
            "bin_end": 0.8,
            "count": 0
           },
           {
            "bin_start": 0.8,
            "bin_end": 0.9,
            "count": 0
           },
           {
            "bin_start": 0.9,
            "bin_end": 1,
            "count": 1
           }
          ]
         }
        },
        {
         "name": "Time Travel Pokémon",
         "dtype": "float64",
         "stats": {
          "unique_count": 2,
          "nan_count": 0,
          "min": "0.0",
          "max": "1.0",
          "histogram": [
           {
            "bin_start": 0,
            "bin_end": 0.1,
            "count": 800
           },
           {
            "bin_start": 0.1,
            "bin_end": 0.2,
            "count": 0
           },
           {
            "bin_start": 0.2,
            "bin_end": 0.30000000000000004,
            "count": 0
           },
           {
            "bin_start": 0.30000000000000004,
            "bin_end": 0.4,
            "count": 0
           },
           {
            "bin_start": 0.4,
            "bin_end": 0.5,
            "count": 0
           },
           {
            "bin_start": 0.5,
            "bin_end": 0.6000000000000001,
            "count": 0
           },
           {
            "bin_start": 0.6000000000000001,
            "bin_end": 0.7000000000000001,
            "count": 0
           },
           {
            "bin_start": 0.7000000000000001,
            "bin_end": 0.8,
            "count": 0
           },
           {
            "bin_start": 0.8,
            "bin_end": 0.9,
            "count": 0
           },
           {
            "bin_start": 0.9,
            "bin_end": 1,
            "count": 1
           }
          ]
         }
        },
        {
         "name": "Parasite Pokémon",
         "dtype": "float64",
         "stats": {
          "unique_count": 2,
          "nan_count": 0,
          "min": "0.0",
          "max": "1.0",
          "histogram": [
           {
            "bin_start": 0,
            "bin_end": 0.1,
            "count": 800
           },
           {
            "bin_start": 0.1,
            "bin_end": 0.2,
            "count": 0
           },
           {
            "bin_start": 0.2,
            "bin_end": 0.30000000000000004,
            "count": 0
           },
           {
            "bin_start": 0.30000000000000004,
            "bin_end": 0.4,
            "count": 0
           },
           {
            "bin_start": 0.4,
            "bin_end": 0.5,
            "count": 0
           },
           {
            "bin_start": 0.5,
            "bin_end": 0.6000000000000001,
            "count": 0
           },
           {
            "bin_start": 0.6000000000000001,
            "bin_end": 0.7000000000000001,
            "count": 0
           },
           {
            "bin_start": 0.7000000000000001,
            "bin_end": 0.8,
            "count": 0
           },
           {
            "bin_start": 0.8,
            "bin_end": 0.9,
            "count": 0
           },
           {
            "bin_start": 0.9,
            "bin_end": 1,
            "count": 1
           }
          ]
         }
        },
        {
         "name": "Fairy Aura",
         "dtype": "float64",
         "stats": {
          "unique_count": 2,
          "nan_count": 0,
          "min": "0.0",
          "max": "1.0",
          "histogram": [
           {
            "bin_start": 0,
            "bin_end": 0.1,
            "count": 800
           },
           {
            "bin_start": 0.1,
            "bin_end": 0.2,
            "count": 0
           },
           {
            "bin_start": 0.2,
            "bin_end": 0.30000000000000004,
            "count": 0
           },
           {
            "bin_start": 0.30000000000000004,
            "bin_end": 0.4,
            "count": 0
           },
           {
            "bin_start": 0.4,
            "bin_end": 0.5,
            "count": 0
           },
           {
            "bin_start": 0.5,
            "bin_end": 0.6000000000000001,
            "count": 0
           },
           {
            "bin_start": 0.6000000000000001,
            "bin_end": 0.7000000000000001,
            "count": 0
           },
           {
            "bin_start": 0.7000000000000001,
            "bin_end": 0.8,
            "count": 0
           },
           {
            "bin_start": 0.8,
            "bin_end": 0.9,
            "count": 0
           },
           {
            "bin_start": 0.9,
            "bin_end": 1,
            "count": 1
           }
          ]
         }
        },
        {
         "name": "Destruction Pokémon",
         "dtype": "float64",
         "stats": {
          "unique_count": 2,
          "nan_count": 0,
          "min": "0.0",
          "max": "1.0",
          "histogram": [
           {
            "bin_start": 0,
            "bin_end": 0.1,
            "count": 800
           },
           {
            "bin_start": 0.1,
            "bin_end": 0.2,
            "count": 0
           },
           {
            "bin_start": 0.2,
            "bin_end": 0.30000000000000004,
            "count": 0
           },
           {
            "bin_start": 0.30000000000000004,
            "bin_end": 0.4,
            "count": 0
           },
           {
            "bin_start": 0.4,
            "bin_end": 0.5,
            "count": 0
           },
           {
            "bin_start": 0.5,
            "bin_end": 0.6000000000000001,
            "count": 0
           },
           {
            "bin_start": 0.6000000000000001,
            "bin_end": 0.7000000000000001,
            "count": 0
           },
           {
            "bin_start": 0.7000000000000001,
            "bin_end": 0.8,
            "count": 0
           },
           {
            "bin_start": 0.8,
            "bin_end": 0.9,
            "count": 0
           },
           {
            "bin_start": 0.9,
            "bin_end": 1,
            "count": 1
           }
          ]
         }
        },
        {
         "name": "Diving Pokémon",
         "dtype": "float64",
         "stats": {
          "unique_count": 2,
          "nan_count": 0,
          "min": "0.0",
          "max": "1.0",
          "histogram": [
           {
            "bin_start": 0,
            "bin_end": 0.1,
            "count": 800
           },
           {
            "bin_start": 0.1,
            "bin_end": 0.2,
            "count": 0
           },
           {
            "bin_start": 0.2,
            "bin_end": 0.30000000000000004,
            "count": 0
           },
           {
            "bin_start": 0.30000000000000004,
            "bin_end": 0.4,
            "count": 0
           },
           {
            "bin_start": 0.4,
            "bin_end": 0.5,
            "count": 0
           },
           {
            "bin_start": 0.5,
            "bin_end": 0.6000000000000001,
            "count": 0
           },
           {
            "bin_start": 0.6000000000000001,
            "bin_end": 0.7000000000000001,
            "count": 0
           },
           {
            "bin_start": 0.7000000000000001,
            "bin_end": 0.8,
            "count": 0
           },
           {
            "bin_start": 0.8,
            "bin_end": 0.9,
            "count": 0
           },
           {
            "bin_start": 0.9,
            "bin_end": 1,
            "count": 1
           }
          ]
         }
        },
        {
         "name": "Lunar Pokémon",
         "dtype": "float64",
         "stats": {
          "unique_count": 2,
          "nan_count": 0,
          "min": "0.0",
          "max": "1.0",
          "histogram": [
           {
            "bin_start": 0,
            "bin_end": 0.1,
            "count": 800
           },
           {
            "bin_start": 0.1,
            "bin_end": 0.2,
            "count": 0
           },
           {
            "bin_start": 0.2,
            "bin_end": 0.30000000000000004,
            "count": 0
           },
           {
            "bin_start": 0.30000000000000004,
            "bin_end": 0.4,
            "count": 0
           },
           {
            "bin_start": 0.4,
            "bin_end": 0.5,
            "count": 0
           },
           {
            "bin_start": 0.5,
            "bin_end": 0.6000000000000001,
            "count": 0
           },
           {
            "bin_start": 0.6000000000000001,
            "bin_end": 0.7000000000000001,
            "count": 0
           },
           {
            "bin_start": 0.7000000000000001,
            "bin_end": 0.8,
            "count": 0
           },
           {
            "bin_start": 0.8,
            "bin_end": 0.9,
            "count": 0
           },
           {
            "bin_start": 0.9,
            "bin_end": 1,
            "count": 1
           }
          ]
         }
        },
        {
         "name": "Drawn Sword Pokémon",
         "dtype": "float64",
         "stats": {
          "unique_count": 2,
          "nan_count": 0,
          "min": "0.0",
          "max": "1.0",
          "histogram": [
           {
            "bin_start": 0,
            "bin_end": 0.1,
            "count": 800
           },
           {
            "bin_start": 0.1,
            "bin_end": 0.2,
            "count": 0
           },
           {
            "bin_start": 0.2,
            "bin_end": 0.30000000000000004,
            "count": 0
           },
           {
            "bin_start": 0.30000000000000004,
            "bin_end": 0.4,
            "count": 0
           },
           {
            "bin_start": 0.4,
            "bin_end": 0.5,
            "count": 0
           },
           {
            "bin_start": 0.5,
            "bin_end": 0.6000000000000001,
            "count": 0
           },
           {
            "bin_start": 0.6000000000000001,
            "bin_end": 0.7000000000000001,
            "count": 0
           },
           {
            "bin_start": 0.7000000000000001,
            "bin_end": 0.8,
            "count": 0
           },
           {
            "bin_start": 0.8,
            "bin_end": 0.9,
            "count": 0
           },
           {
            "bin_start": 0.9,
            "bin_end": 1,
            "count": 1
           }
          ]
         }
        },
        {
         "name": "Life Pokémon",
         "dtype": "float64",
         "stats": {
          "unique_count": 2,
          "nan_count": 0,
          "min": "0.0",
          "max": "1.0",
          "histogram": [
           {
            "bin_start": 0,
            "bin_end": 0.1,
            "count": 800
           },
           {
            "bin_start": 0.1,
            "bin_end": 0.2,
            "count": 0
           },
           {
            "bin_start": 0.2,
            "bin_end": 0.30000000000000004,
            "count": 0
           },
           {
            "bin_start": 0.30000000000000004,
            "bin_end": 0.4,
            "count": 0
           },
           {
            "bin_start": 0.4,
            "bin_end": 0.5,
            "count": 0
           },
           {
            "bin_start": 0.5,
            "bin_end": 0.6000000000000001,
            "count": 0
           },
           {
            "bin_start": 0.6000000000000001,
            "bin_end": 0.7000000000000001,
            "count": 0
           },
           {
            "bin_start": 0.7000000000000001,
            "bin_end": 0.8,
            "count": 0
           },
           {
            "bin_start": 0.8,
            "bin_end": 0.9,
            "count": 0
           },
           {
            "bin_start": 0.9,
            "bin_end": 1,
            "count": 1
           }
          ]
         }
        },
        {
         "name": "Launch Pokémon",
         "dtype": "float64",
         "stats": {
          "unique_count": 2,
          "nan_count": 0,
          "min": "0.0",
          "max": "1.0",
          "histogram": [
           {
            "bin_start": 0,
            "bin_end": 0.1,
            "count": 800
           },
           {
            "bin_start": 0.1,
            "bin_end": 0.2,
            "count": 0
           },
           {
            "bin_start": 0.2,
            "bin_end": 0.30000000000000004,
            "count": 0
           },
           {
            "bin_start": 0.30000000000000004,
            "bin_end": 0.4,
            "count": 0
           },
           {
            "bin_start": 0.4,
            "bin_end": 0.5,
            "count": 0
           },
           {
            "bin_start": 0.5,
            "bin_end": 0.6000000000000001,
            "count": 0
           },
           {
            "bin_start": 0.6000000000000001,
            "bin_end": 0.7000000000000001,
            "count": 0
           },
           {
            "bin_start": 0.7000000000000001,
            "bin_end": 0.8,
            "count": 0
           },
           {
            "bin_start": 0.8,
            "bin_end": 0.9,
            "count": 0
           },
           {
            "bin_start": 0.9,
            "bin_end": 1,
            "count": 1
           }
          ]
         }
        },
        {
         "name": "Multitype",
         "dtype": "float64",
         "stats": {
          "unique_count": 2,
          "nan_count": 0,
          "min": "0.0",
          "max": "1.0",
          "histogram": [
           {
            "bin_start": 0,
            "bin_end": 0.1,
            "count": 800
           },
           {
            "bin_start": 0.1,
            "bin_end": 0.2,
            "count": 0
           },
           {
            "bin_start": 0.2,
            "bin_end": 0.30000000000000004,
            "count": 0
           },
           {
            "bin_start": 0.30000000000000004,
            "bin_end": 0.4,
            "count": 0
           },
           {
            "bin_start": 0.4,
            "bin_end": 0.5,
            "count": 0
           },
           {
            "bin_start": 0.5,
            "bin_end": 0.6000000000000001,
            "count": 0
           },
           {
            "bin_start": 0.6000000000000001,
            "bin_end": 0.7000000000000001,
            "count": 0
           },
           {
            "bin_start": 0.7000000000000001,
            "bin_end": 0.8,
            "count": 0
           },
           {
            "bin_start": 0.8,
            "bin_end": 0.9,
            "count": 0
           },
           {
            "bin_start": 0.9,
            "bin_end": 1,
            "count": 1
           }
          ]
         }
        },
        {
         "name": "Glowing Pokémon",
         "dtype": "float64",
         "stats": {
          "unique_count": 2,
          "nan_count": 0,
          "min": "0.0",
          "max": "1.0",
          "histogram": [
           {
            "bin_start": 0,
            "bin_end": 0.1,
            "count": 800
           },
           {
            "bin_start": 0.1,
            "bin_end": 0.2,
            "count": 0
           },
           {
            "bin_start": 0.2,
            "bin_end": 0.30000000000000004,
            "count": 0
           },
           {
            "bin_start": 0.30000000000000004,
            "bin_end": 0.4,
            "count": 0
           },
           {
            "bin_start": 0.4,
            "bin_end": 0.5,
            "count": 0
           },
           {
            "bin_start": 0.5,
            "bin_end": 0.6000000000000001,
            "count": 0
           },
           {
            "bin_start": 0.6000000000000001,
            "bin_end": 0.7000000000000001,
            "count": 0
           },
           {
            "bin_start": 0.7000000000000001,
            "bin_end": 0.8,
            "count": 0
           },
           {
            "bin_start": 0.8,
            "bin_end": 0.9,
            "count": 0
           },
           {
            "bin_start": 0.9,
            "bin_end": 1,
            "count": 1
           }
          ]
         }
        },
        {
         "name": "Junkivore Pokémon",
         "dtype": "float64",
         "stats": {
          "unique_count": 2,
          "nan_count": 0,
          "min": "0.0",
          "max": "1.0",
          "histogram": [
           {
            "bin_start": 0,
            "bin_end": 0.1,
            "count": 800
           },
           {
            "bin_start": 0.1,
            "bin_end": 0.2,
            "count": 0
           },
           {
            "bin_start": 0.2,
            "bin_end": 0.30000000000000004,
            "count": 0
           },
           {
            "bin_start": 0.30000000000000004,
            "bin_end": 0.4,
            "count": 0
           },
           {
            "bin_start": 0.4,
            "bin_end": 0.5,
            "count": 0
           },
           {
            "bin_start": 0.5,
            "bin_end": 0.6000000000000001,
            "count": 0
           },
           {
            "bin_start": 0.6000000000000001,
            "bin_end": 0.7000000000000001,
            "count": 0
           },
           {
            "bin_start": 0.7000000000000001,
            "bin_end": 0.8,
            "count": 0
           },
           {
            "bin_start": 0.8,
            "bin_end": 0.9,
            "count": 0
           },
           {
            "bin_start": 0.9,
            "bin_end": 1,
            "count": 1
           }
          ]
         }
        },
        {
         "name": "Swollen Pokémon",
         "dtype": "float64",
         "stats": {
          "unique_count": 2,
          "nan_count": 0,
          "min": "0.0",
          "max": "1.0",
          "histogram": [
           {
            "bin_start": 0,
            "bin_end": 0.1,
            "count": 800
           },
           {
            "bin_start": 0.1,
            "bin_end": 0.2,
            "count": 0
           },
           {
            "bin_start": 0.2,
            "bin_end": 0.30000000000000004,
            "count": 0
           },
           {
            "bin_start": 0.30000000000000004,
            "bin_end": 0.4,
            "count": 0
           },
           {
            "bin_start": 0.4,
            "bin_end": 0.5,
            "count": 0
           },
           {
            "bin_start": 0.5,
            "bin_end": 0.6000000000000001,
            "count": 0
           },
           {
            "bin_start": 0.6000000000000001,
            "bin_end": 0.7000000000000001,
            "count": 0
           },
           {
            "bin_start": 0.7000000000000001,
            "bin_end": 0.8,
            "count": 0
           },
           {
            "bin_start": 0.8,
            "bin_end": 0.9,
            "count": 0
           },
           {
            "bin_start": 0.9,
            "bin_end": 1,
            "count": 1
           }
          ]
         }
        },
        {
         "name": "Sunne Pokémon",
         "dtype": "float64",
         "stats": {
          "unique_count": 2,
          "nan_count": 0,
          "min": "0.0",
          "max": "1.0",
          "histogram": [
           {
            "bin_start": 0,
            "bin_end": 0.1,
            "count": 800
           },
           {
            "bin_start": 0.1,
            "bin_end": 0.2,
            "count": 0
           },
           {
            "bin_start": 0.2,
            "bin_end": 0.30000000000000004,
            "count": 0
           },
           {
            "bin_start": 0.30000000000000004,
            "bin_end": 0.4,
            "count": 0
           },
           {
            "bin_start": 0.4,
            "bin_end": 0.5,
            "count": 0
           },
           {
            "bin_start": 0.5,
            "bin_end": 0.6000000000000001,
            "count": 0
           },
           {
            "bin_start": 0.6000000000000001,
            "bin_end": 0.7000000000000001,
            "count": 0
           },
           {
            "bin_start": 0.7000000000000001,
            "bin_end": 0.8,
            "count": 0
           },
           {
            "bin_start": 0.8,
            "bin_end": 0.9,
            "count": 0
           },
           {
            "bin_start": 0.9,
            "bin_end": 1,
            "count": 1
           }
          ]
         }
        },
        {
         "name": "Full Metal Body",
         "dtype": "float64",
         "stats": {
          "unique_count": 2,
          "nan_count": 0,
          "min": "0.0",
          "max": "1.0",
          "histogram": [
           {
            "bin_start": 0,
            "bin_end": 0.1,
            "count": 800
           },
           {
            "bin_start": 0.1,
            "bin_end": 0.2,
            "count": 0
           },
           {
            "bin_start": 0.2,
            "bin_end": 0.30000000000000004,
            "count": 0
           },
           {
            "bin_start": 0.30000000000000004,
            "bin_end": 0.4,
            "count": 0
           },
           {
            "bin_start": 0.4,
            "bin_end": 0.5,
            "count": 0
           },
           {
            "bin_start": 0.5,
            "bin_end": 0.6000000000000001,
            "count": 0
           },
           {
            "bin_start": 0.6000000000000001,
            "bin_end": 0.7000000000000001,
            "count": 0
           },
           {
            "bin_start": 0.7000000000000001,
            "bin_end": 0.8,
            "count": 0
           },
           {
            "bin_start": 0.8,
            "bin_end": 0.9,
            "count": 0
           },
           {
            "bin_start": 0.9,
            "bin_end": 1,
            "count": 1
           }
          ]
         }
        },
        {
         "name": "Misty Surge",
         "dtype": "float64",
         "stats": {
          "unique_count": 2,
          "nan_count": 0,
          "min": "0.0",
          "max": "1.0",
          "histogram": [
           {
            "bin_start": 0,
            "bin_end": 0.1,
            "count": 800
           },
           {
            "bin_start": 0.1,
            "bin_end": 0.2,
            "count": 0
           },
           {
            "bin_start": 0.2,
            "bin_end": 0.30000000000000004,
            "count": 0
           },
           {
            "bin_start": 0.30000000000000004,
            "bin_end": 0.4,
            "count": 0
           },
           {
            "bin_start": 0.4,
            "bin_end": 0.5,
            "count": 0
           },
           {
            "bin_start": 0.5,
            "bin_end": 0.6000000000000001,
            "count": 0
           },
           {
            "bin_start": 0.6000000000000001,
            "bin_end": 0.7000000000000001,
            "count": 0
           },
           {
            "bin_start": 0.7000000000000001,
            "bin_end": 0.8,
            "count": 0
           },
           {
            "bin_start": 0.8,
            "bin_end": 0.9,
            "count": 0
           },
           {
            "bin_start": 0.9,
            "bin_end": 1,
            "count": 1
           }
          ]
         }
        },
        {
         "name": "Aurora Pokémon",
         "dtype": "float64",
         "stats": {
          "unique_count": 2,
          "nan_count": 0,
          "min": "0.0",
          "max": "1.0",
          "histogram": [
           {
            "bin_start": 0,
            "bin_end": 0.1,
            "count": 800
           },
           {
            "bin_start": 0.1,
            "bin_end": 0.2,
            "count": 0
           },
           {
            "bin_start": 0.2,
            "bin_end": 0.30000000000000004,
            "count": 0
           },
           {
            "bin_start": 0.30000000000000004,
            "bin_end": 0.4,
            "count": 0
           },
           {
            "bin_start": 0.4,
            "bin_end": 0.5,
            "count": 0
           },
           {
            "bin_start": 0.5,
            "bin_end": 0.6000000000000001,
            "count": 0
           },
           {
            "bin_start": 0.6000000000000001,
            "bin_end": 0.7000000000000001,
            "count": 0
           },
           {
            "bin_start": 0.7000000000000001,
            "bin_end": 0.8,
            "count": 0
           },
           {
            "bin_start": 0.8,
            "bin_end": 0.9,
            "count": 0
           },
           {
            "bin_start": 0.9,
            "bin_end": 1,
            "count": 1
           }
          ]
         }
        },
        {
         "name": "Shadow Shield",
         "dtype": "float64",
         "stats": {
          "unique_count": 2,
          "nan_count": 0,
          "min": "0.0",
          "max": "1.0",
          "histogram": [
           {
            "bin_start": 0,
            "bin_end": 0.1,
            "count": 800
           },
           {
            "bin_start": 0.1,
            "bin_end": 0.2,
            "count": 0
           },
           {
            "bin_start": 0.2,
            "bin_end": 0.30000000000000004,
            "count": 0
           },
           {
            "bin_start": 0.30000000000000004,
            "bin_end": 0.4,
            "count": 0
           },
           {
            "bin_start": 0.4,
            "bin_end": 0.5,
            "count": 0
           },
           {
            "bin_start": 0.5,
            "bin_end": 0.6000000000000001,
            "count": 0
           },
           {
            "bin_start": 0.6000000000000001,
            "bin_end": 0.7000000000000001,
            "count": 0
           },
           {
            "bin_start": 0.7000000000000001,
            "bin_end": 0.8,
            "count": 0
           },
           {
            "bin_start": 0.8,
            "bin_end": 0.9,
            "count": 0
           },
           {
            "bin_start": 0.9,
            "bin_end": 1,
            "count": 1
           }
          ]
         }
        },
        {
         "name": "Lissome Pokémon",
         "dtype": "float64",
         "stats": {
          "unique_count": 2,
          "nan_count": 0,
          "min": "0.0",
          "max": "1.0",
          "histogram": [
           {
            "bin_start": 0,
            "bin_end": 0.1,
            "count": 800
           },
           {
            "bin_start": 0.1,
            "bin_end": 0.2,
            "count": 0
           },
           {
            "bin_start": 0.2,
            "bin_end": 0.30000000000000004,
            "count": 0
           },
           {
            "bin_start": 0.30000000000000004,
            "bin_end": 0.4,
            "count": 0
           },
           {
            "bin_start": 0.4,
            "bin_end": 0.5,
            "count": 0
           },
           {
            "bin_start": 0.5,
            "bin_end": 0.6000000000000001,
            "count": 0
           },
           {
            "bin_start": 0.6000000000000001,
            "bin_end": 0.7000000000000001,
            "count": 0
           },
           {
            "bin_start": 0.7000000000000001,
            "bin_end": 0.8,
            "count": 0
           },
           {
            "bin_start": 0.8,
            "bin_end": 0.9,
            "count": 0
           },
           {
            "bin_start": 0.9,
            "bin_end": 1,
            "count": 1
           }
          ]
         }
        },
        {
         "name": "Moone Pokémon",
         "dtype": "float64",
         "stats": {
          "unique_count": 2,
          "nan_count": 0,
          "min": "0.0",
          "max": "1.0",
          "histogram": [
           {
            "bin_start": 0,
            "bin_end": 0.1,
            "count": 800
           },
           {
            "bin_start": 0.1,
            "bin_end": 0.2,
            "count": 0
           },
           {
            "bin_start": 0.2,
            "bin_end": 0.30000000000000004,
            "count": 0
           },
           {
            "bin_start": 0.30000000000000004,
            "bin_end": 0.4,
            "count": 0
           },
           {
            "bin_start": 0.4,
            "bin_end": 0.5,
            "count": 0
           },
           {
            "bin_start": 0.5,
            "bin_end": 0.6000000000000001,
            "count": 0
           },
           {
            "bin_start": 0.6000000000000001,
            "bin_end": 0.7000000000000001,
            "count": 0
           },
           {
            "bin_start": 0.7000000000000001,
            "bin_end": 0.8,
            "count": 0
           },
           {
            "bin_start": 0.8,
            "bin_end": 0.9,
            "count": 0
           },
           {
            "bin_start": 0.9,
            "bin_end": 1,
            "count": 1
           }
          ]
         }
        },
        {
         "name": "Nebula Pokémon",
         "dtype": "float64",
         "stats": {
          "unique_count": 2,
          "nan_count": 0,
          "min": "0.0",
          "max": "1.0",
          "histogram": [
           {
            "bin_start": 0,
            "bin_end": 0.1,
            "count": 800
           },
           {
            "bin_start": 0.1,
            "bin_end": 0.2,
            "count": 0
           },
           {
            "bin_start": 0.2,
            "bin_end": 0.30000000000000004,
            "count": 0
           },
           {
            "bin_start": 0.30000000000000004,
            "bin_end": 0.4,
            "count": 0
           },
           {
            "bin_start": 0.4,
            "bin_end": 0.5,
            "count": 0
           },
           {
            "bin_start": 0.5,
            "bin_end": 0.6000000000000001,
            "count": 0
           },
           {
            "bin_start": 0.6000000000000001,
            "bin_end": 0.7000000000000001,
            "count": 0
           },
           {
            "bin_start": 0.7000000000000001,
            "bin_end": 0.8,
            "count": 0
           },
           {
            "bin_start": 0.8,
            "bin_end": 0.9,
            "count": 0
           },
           {
            "bin_start": 0.9,
            "bin_end": 1,
            "count": 1
           }
          ]
         }
        },
        {
         "name": "Bolt Strike Pokémon",
         "dtype": "float64",
         "stats": {
          "unique_count": 2,
          "nan_count": 0,
          "min": "0.0",
          "max": "1.0",
          "histogram": [
           {
            "bin_start": 0,
            "bin_end": 0.1,
            "count": 800
           },
           {
            "bin_start": 0.1,
            "bin_end": 0.2,
            "count": 0
           },
           {
            "bin_start": 0.2,
            "bin_end": 0.30000000000000004,
            "count": 0
           },
           {
            "bin_start": 0.30000000000000004,
            "bin_end": 0.4,
            "count": 0
           },
           {
            "bin_start": 0.4,
            "bin_end": 0.5,
            "count": 0
           },
           {
            "bin_start": 0.5,
            "bin_end": 0.6000000000000001,
            "count": 0
           },
           {
            "bin_start": 0.6000000000000001,
            "bin_end": 0.7000000000000001,
            "count": 0
           },
           {
            "bin_start": 0.7000000000000001,
            "bin_end": 0.8,
            "count": 0
           },
           {
            "bin_start": 0.8,
            "bin_end": 0.9,
            "count": 0
           },
           {
            "bin_start": 0.9,
            "bin_end": 1,
            "count": 1
           }
          ]
         }
        },
        {
         "name": "Boundary Pokémon",
         "dtype": "float64",
         "stats": {
          "unique_count": 2,
          "nan_count": 0,
          "min": "0.0",
          "max": "1.0",
          "histogram": [
           {
            "bin_start": 0,
            "bin_end": 0.1,
            "count": 800
           },
           {
            "bin_start": 0.1,
            "bin_end": 0.2,
            "count": 0
           },
           {
            "bin_start": 0.2,
            "bin_end": 0.30000000000000004,
            "count": 0
           },
           {
            "bin_start": 0.30000000000000004,
            "bin_end": 0.4,
            "count": 0
           },
           {
            "bin_start": 0.4,
            "bin_end": 0.5,
            "count": 0
           },
           {
            "bin_start": 0.5,
            "bin_end": 0.6000000000000001,
            "count": 0
           },
           {
            "bin_start": 0.6000000000000001,
            "bin_end": 0.7000000000000001,
            "count": 0
           },
           {
            "bin_start": 0.7000000000000001,
            "bin_end": 0.8,
            "count": 0
           },
           {
            "bin_start": 0.8,
            "bin_end": 0.9,
            "count": 0
           },
           {
            "bin_start": 0.9,
            "bin_end": 1,
            "count": 1
           }
          ]
         }
        },
        {
         "name": "Vast White Pokémon",
         "dtype": "float64",
         "stats": {
          "unique_count": 2,
          "nan_count": 0,
          "min": "0.0",
          "max": "1.0",
          "histogram": [
           {
            "bin_start": 0,
            "bin_end": 0.1,
            "count": 800
           },
           {
            "bin_start": 0.1,
            "bin_end": 0.2,
            "count": 0
           },
           {
            "bin_start": 0.2,
            "bin_end": 0.30000000000000004,
            "count": 0
           },
           {
            "bin_start": 0.30000000000000004,
            "bin_end": 0.4,
            "count": 0
           },
           {
            "bin_start": 0.4,
            "bin_end": 0.5,
            "count": 0
           },
           {
            "bin_start": 0.5,
            "bin_end": 0.6000000000000001,
            "count": 0
           },
           {
            "bin_start": 0.6000000000000001,
            "bin_end": 0.7000000000000001,
            "count": 0
           },
           {
            "bin_start": 0.7000000000000001,
            "bin_end": 0.8,
            "count": 0
           },
           {
            "bin_start": 0.8,
            "bin_end": 0.9,
            "count": 0
           },
           {
            "bin_start": 0.9,
            "bin_end": 1,
            "count": 1
           }
          ]
         }
        },
        {
         "name": "Abundance Pokémon",
         "dtype": "float64",
         "stats": {
          "unique_count": 2,
          "nan_count": 0,
          "min": "0.0",
          "max": "1.0",
          "histogram": [
           {
            "bin_start": 0,
            "bin_end": 0.1,
            "count": 800
           },
           {
            "bin_start": 0.1,
            "bin_end": 0.2,
            "count": 0
           },
           {
            "bin_start": 0.2,
            "bin_end": 0.30000000000000004,
            "count": 0
           },
           {
            "bin_start": 0.30000000000000004,
            "bin_end": 0.4,
            "count": 0
           },
           {
            "bin_start": 0.4,
            "bin_end": 0.5,
            "count": 0
           },
           {
            "bin_start": 0.5,
            "bin_end": 0.6000000000000001,
            "count": 0
           },
           {
            "bin_start": 0.6000000000000001,
            "bin_end": 0.7000000000000001,
            "count": 0
           },
           {
            "bin_start": 0.7000000000000001,
            "bin_end": 0.8,
            "count": 0
           },
           {
            "bin_start": 0.8,
            "bin_end": 0.9,
            "count": 0
           },
           {
            "bin_start": 0.9,
            "bin_end": 1,
            "count": 1
           }
          ]
         }
        },
        {
         "name": "Melody Pokémon",
         "dtype": "float64",
         "stats": {
          "unique_count": 2,
          "nan_count": 0,
          "min": "0.0",
          "max": "1.0",
          "histogram": [
           {
            "bin_start": 0,
            "bin_end": 0.1,
            "count": 800
           },
           {
            "bin_start": 0.1,
            "bin_end": 0.2,
            "count": 0
           },
           {
            "bin_start": 0.2,
            "bin_end": 0.30000000000000004,
            "count": 0
           },
           {
            "bin_start": 0.30000000000000004,
            "bin_end": 0.4,
            "count": 0
           },
           {
            "bin_start": 0.4,
            "bin_end": 0.5,
            "count": 0
           },
           {
            "bin_start": 0.5,
            "bin_end": 0.6000000000000001,
            "count": 0
           },
           {
            "bin_start": 0.6000000000000001,
            "bin_end": 0.7000000000000001,
            "count": 0
           },
           {
            "bin_start": 0.7000000000000001,
            "bin_end": 0.8,
            "count": 0
           },
           {
            "bin_start": 0.8,
            "bin_end": 0.9,
            "count": 0
           },
           {
            "bin_start": 0.9,
            "bin_end": 1,
            "count": 1
           }
          ]
         }
        },
        {
         "name": "Colt Pokémon",
         "dtype": "float64",
         "stats": {
          "unique_count": 2,
          "nan_count": 0,
          "min": "0.0",
          "max": "1.0",
          "histogram": [
           {
            "bin_start": 0,
            "bin_end": 0.1,
            "count": 800
           },
           {
            "bin_start": 0.1,
            "bin_end": 0.2,
            "count": 0
           },
           {
            "bin_start": 0.2,
            "bin_end": 0.30000000000000004,
            "count": 0
           },
           {
            "bin_start": 0.30000000000000004,
            "bin_end": 0.4,
            "count": 0
           },
           {
            "bin_start": 0.4,
            "bin_end": 0.5,
            "count": 0
           },
           {
            "bin_start": 0.5,
            "bin_end": 0.6000000000000001,
            "count": 0
           },
           {
            "bin_start": 0.6000000000000001,
            "bin_end": 0.7000000000000001,
            "count": 0
           },
           {
            "bin_start": 0.7000000000000001,
            "bin_end": 0.8,
            "count": 0
           },
           {
            "bin_start": 0.8,
            "bin_end": 0.9,
            "count": 0
           },
           {
            "bin_start": 0.9,
            "bin_end": 1,
            "count": 1
           }
          ]
         }
        },
        {
         "name": "Paleozoic Pokémon",
         "dtype": "float64",
         "stats": {
          "unique_count": 2,
          "nan_count": 0,
          "min": "0.0",
          "max": "1.0",
          "histogram": [
           {
            "bin_start": 0,
            "bin_end": 0.1,
            "count": 800
           },
           {
            "bin_start": 0.1,
            "bin_end": 0.2,
            "count": 0
           },
           {
            "bin_start": 0.2,
            "bin_end": 0.30000000000000004,
            "count": 0
           },
           {
            "bin_start": 0.30000000000000004,
            "bin_end": 0.4,
            "count": 0
           },
           {
            "bin_start": 0.4,
            "bin_end": 0.5,
            "count": 0
           },
           {
            "bin_start": 0.5,
            "bin_end": 0.6000000000000001,
            "count": 0
           },
           {
            "bin_start": 0.6000000000000001,
            "bin_end": 0.7000000000000001,
            "count": 0
           },
           {
            "bin_start": 0.7000000000000001,
            "bin_end": 0.8,
            "count": 0
           },
           {
            "bin_start": 0.8,
            "bin_end": 0.9,
            "count": 0
           },
           {
            "bin_start": 0.9,
            "bin_end": 1,
            "count": 1
           }
          ]
         }
        },
        {
         "name": "Cyclone Pokémon",
         "dtype": "float64",
         "stats": {
          "unique_count": 2,
          "nan_count": 0,
          "min": "0.0",
          "max": "1.0",
          "histogram": [
           {
            "bin_start": 0,
            "bin_end": 0.1,
            "count": 800
           },
           {
            "bin_start": 0.1,
            "bin_end": 0.2,
            "count": 0
           },
           {
            "bin_start": 0.2,
            "bin_end": 0.30000000000000004,
            "count": 0
           },
           {
            "bin_start": 0.30000000000000004,
            "bin_end": 0.4,
            "count": 0
           },
           {
            "bin_start": 0.4,
            "bin_end": 0.5,
            "count": 0
           },
           {
            "bin_start": 0.5,
            "bin_end": 0.6000000000000001,
            "count": 0
           },
           {
            "bin_start": 0.6000000000000001,
            "bin_end": 0.7000000000000001,
            "count": 0
           },
           {
            "bin_start": 0.7000000000000001,
            "bin_end": 0.8,
            "count": 0
           },
           {
            "bin_start": 0.8,
            "bin_end": 0.9,
            "count": 0
           },
           {
            "bin_start": 0.9,
            "bin_end": 1,
            "count": 1
           }
          ]
         }
        },
        {
         "name": "Deep Black Pokémon",
         "dtype": "float64",
         "stats": {
          "unique_count": 2,
          "nan_count": 0,
          "min": "0.0",
          "max": "1.0",
          "histogram": [
           {
            "bin_start": 0,
            "bin_end": 0.1,
            "count": 800
           },
           {
            "bin_start": 0.1,
            "bin_end": 0.2,
            "count": 0
           },
           {
            "bin_start": 0.2,
            "bin_end": 0.30000000000000004,
            "count": 0
           },
           {
            "bin_start": 0.30000000000000004,
            "bin_end": 0.4,
            "count": 0
           },
           {
            "bin_start": 0.4,
            "bin_end": 0.5,
            "count": 0
           },
           {
            "bin_start": 0.5,
            "bin_end": 0.6000000000000001,
            "count": 0
           },
           {
            "bin_start": 0.6000000000000001,
            "bin_end": 0.7000000000000001,
            "count": 0
           },
           {
            "bin_start": 0.7000000000000001,
            "bin_end": 0.8,
            "count": 0
           },
           {
            "bin_start": 0.8,
            "bin_end": 0.9,
            "count": 0
           },
           {
            "bin_start": 0.9,
            "bin_end": 1,
            "count": 1
           }
          ]
         }
        },
        {
         "name": "Iron Will Pokémon",
         "dtype": "float64",
         "stats": {
          "unique_count": 2,
          "nan_count": 0,
          "min": "0.0",
          "max": "1.0",
          "histogram": [
           {
            "bin_start": 0,
            "bin_end": 0.1,
            "count": 800
           },
           {
            "bin_start": 0.1,
            "bin_end": 0.2,
            "count": 0
           },
           {
            "bin_start": 0.2,
            "bin_end": 0.30000000000000004,
            "count": 0
           },
           {
            "bin_start": 0.30000000000000004,
            "bin_end": 0.4,
            "count": 0
           },
           {
            "bin_start": 0.4,
            "bin_end": 0.5,
            "count": 0
           },
           {
            "bin_start": 0.5,
            "bin_end": 0.6000000000000001,
            "count": 0
           },
           {
            "bin_start": 0.6000000000000001,
            "bin_end": 0.7000000000000001,
            "count": 0
           },
           {
            "bin_start": 0.7000000000000001,
            "bin_end": 0.8,
            "count": 0
           },
           {
            "bin_start": 0.8,
            "bin_end": 0.9,
            "count": 0
           },
           {
            "bin_start": 0.9,
            "bin_end": 1,
            "count": 1
           }
          ]
         }
        },
        {
         "name": "Cavern Pokémon",
         "dtype": "float64",
         "stats": {
          "unique_count": 2,
          "nan_count": 0,
          "min": "0.0",
          "max": "1.0",
          "histogram": [
           {
            "bin_start": 0,
            "bin_end": 0.1,
            "count": 800
           },
           {
            "bin_start": 0.1,
            "bin_end": 0.2,
            "count": 0
           },
           {
            "bin_start": 0.2,
            "bin_end": 0.30000000000000004,
            "count": 0
           },
           {
            "bin_start": 0.30000000000000004,
            "bin_end": 0.4,
            "count": 0
           },
           {
            "bin_start": 0.4,
            "bin_end": 0.5,
            "count": 0
           },
           {
            "bin_start": 0.5,
            "bin_end": 0.6000000000000001,
            "count": 0
           },
           {
            "bin_start": 0.6000000000000001,
            "bin_end": 0.7000000000000001,
            "count": 0
           },
           {
            "bin_start": 0.7000000000000001,
            "bin_end": 0.8,
            "count": 0
           },
           {
            "bin_start": 0.8,
            "bin_end": 0.9,
            "count": 0
           },
           {
            "bin_start": 0.9,
            "bin_end": 1,
            "count": 1
           }
          ]
         }
        },
        {
         "name": "Grassland Pokémon",
         "dtype": "float64",
         "stats": {
          "unique_count": 2,
          "nan_count": 0,
          "min": "0.0",
          "max": "1.0",
          "histogram": [
           {
            "bin_start": 0,
            "bin_end": 0.1,
            "count": 800
           },
           {
            "bin_start": 0.1,
            "bin_end": 0.2,
            "count": 0
           },
           {
            "bin_start": 0.2,
            "bin_end": 0.30000000000000004,
            "count": 0
           },
           {
            "bin_start": 0.30000000000000004,
            "bin_end": 0.4,
            "count": 0
           },
           {
            "bin_start": 0.4,
            "bin_end": 0.5,
            "count": 0
           },
           {
            "bin_start": 0.5,
            "bin_end": 0.6000000000000001,
            "count": 0
           },
           {
            "bin_start": 0.6000000000000001,
            "bin_end": 0.7000000000000001,
            "count": 0
           },
           {
            "bin_start": 0.7000000000000001,
            "bin_end": 0.8,
            "count": 0
           },
           {
            "bin_start": 0.8,
            "bin_end": 0.9,
            "count": 0
           },
           {
            "bin_start": 0.9,
            "bin_end": 1,
            "count": 1
           }
          ]
         }
        },
        {
         "name": "1dragon",
         "dtype": "float64",
         "stats": {
          "unique_count": 2,
          "nan_count": 0,
          "min": "0.0",
          "max": "1.0",
          "histogram": [
           {
            "bin_start": 0,
            "bin_end": 0.1,
            "count": 774
           },
           {
            "bin_start": 0.1,
            "bin_end": 0.2,
            "count": 0
           },
           {
            "bin_start": 0.2,
            "bin_end": 0.30000000000000004,
            "count": 0
           },
           {
            "bin_start": 0.30000000000000004,
            "bin_end": 0.4,
            "count": 0
           },
           {
            "bin_start": 0.4,
            "bin_end": 0.5,
            "count": 0
           },
           {
            "bin_start": 0.5,
            "bin_end": 0.6000000000000001,
            "count": 0
           },
           {
            "bin_start": 0.6000000000000001,
            "bin_end": 0.7000000000000001,
            "count": 0
           },
           {
            "bin_start": 0.7000000000000001,
            "bin_end": 0.8,
            "count": 0
           },
           {
            "bin_start": 0.8,
            "bin_end": 0.9,
            "count": 0
           },
           {
            "bin_start": 0.9,
            "bin_end": 1,
            "count": 27
           }
          ]
         }
        },
        {
         "name": "against_psychic",
         "dtype": "float64",
         "stats": {
          "unique_count": 6,
          "nan_count": 0,
          "min": "0.0",
          "max": "1.0",
          "histogram": [
           {
            "bin_start": 0,
            "bin_end": 0.1,
            "count": 53
           },
           {
            "bin_start": 0.1,
            "bin_end": 0.2,
            "count": 105
           },
           {
            "bin_start": 0.2,
            "bin_end": 0.30000000000000004,
            "count": 539
           },
           {
            "bin_start": 0.30000000000000004,
            "bin_end": 0.4,
            "count": 0
           },
           {
            "bin_start": 0.4,
            "bin_end": 0.5,
            "count": 0
           },
           {
            "bin_start": 0.5,
            "bin_end": 0.6000000000000001,
            "count": 102
           },
           {
            "bin_start": 0.6000000000000001,
            "bin_end": 0.7000000000000001,
            "count": 0
           },
           {
            "bin_start": 0.7000000000000001,
            "bin_end": 0.8,
            "count": 0
           },
           {
            "bin_start": 0.8,
            "bin_end": 0.9,
            "count": 0
           },
           {
            "bin_start": 0.9,
            "bin_end": 1,
            "count": 2
           }
          ]
         }
        },
        {
         "name": "1steel",
         "dtype": "float64",
         "stats": {
          "unique_count": 2,
          "nan_count": 0,
          "min": "0.0",
          "max": "1.0",
          "histogram": [
           {
            "bin_start": 0,
            "bin_end": 0.1,
            "count": 777
           },
           {
            "bin_start": 0.1,
            "bin_end": 0.2,
            "count": 0
           },
           {
            "bin_start": 0.2,
            "bin_end": 0.30000000000000004,
            "count": 0
           },
           {
            "bin_start": 0.30000000000000004,
            "bin_end": 0.4,
            "count": 0
           },
           {
            "bin_start": 0.4,
            "bin_end": 0.5,
            "count": 0
           },
           {
            "bin_start": 0.5,
            "bin_end": 0.6000000000000001,
            "count": 0
           },
           {
            "bin_start": 0.6000000000000001,
            "bin_end": 0.7000000000000001,
            "count": 0
           },
           {
            "bin_start": 0.7000000000000001,
            "bin_end": 0.8,
            "count": 0
           },
           {
            "bin_start": 0.8,
            "bin_end": 0.9,
            "count": 0
           },
           {
            "bin_start": 0.9,
            "bin_end": 1,
            "count": 24
           }
          ]
         }
        },
        {
         "name": "Clear Body",
         "dtype": "float64",
         "stats": {
          "unique_count": 2,
          "nan_count": 0,
          "min": "0.0",
          "max": "1.0",
          "histogram": [
           {
            "bin_start": 0,
            "bin_end": 0.1,
            "count": 788
           },
           {
            "bin_start": 0.1,
            "bin_end": 0.2,
            "count": 0
           },
           {
            "bin_start": 0.2,
            "bin_end": 0.30000000000000004,
            "count": 0
           },
           {
            "bin_start": 0.30000000000000004,
            "bin_end": 0.4,
            "count": 0
           },
           {
            "bin_start": 0.4,
            "bin_end": 0.5,
            "count": 0
           },
           {
            "bin_start": 0.5,
            "bin_end": 0.6000000000000001,
            "count": 0
           },
           {
            "bin_start": 0.6000000000000001,
            "bin_end": 0.7000000000000001,
            "count": 0
           },
           {
            "bin_start": 0.7000000000000001,
            "bin_end": 0.8,
            "count": 0
           },
           {
            "bin_start": 0.8,
            "bin_end": 0.9,
            "count": 0
           },
           {
            "bin_start": 0.9,
            "bin_end": 1,
            "count": 13
           }
          ]
         }
        },
        {
         "name": "_deepnote_index_column",
         "dtype": "int64"
        }
       ],
       "rows_top": [
        {
         "is_legendary": 0,
         "base_egg_steps": 0.13043478260869565,
         "base_total": 0.22999999999999998,
         "base_happiness": 0.5,
         "sp_attack": 0.29891304347826086,
         "weight_kg": 0.006801360272054411,
         "experience_growth": 0.44217307692307695,
         "sp_defense": 0.2142857142857143,
         "capture_rate": 0.16666666666666663,
         "height_m": 0.041666666666666664,
         "speed": 0.22857142857142854,
         "hp": 0.1732283464566929,
         "Beast Boost": 0,
         "attack": 0.24444444444444446,
         "Pressure": 0,
         "defense": 0.19555555555555554,
         "Land Spirit Pokémon": 0,
         "1psychic": 0,
         "pokedex_number": 0,
         "against_ghost": 0.25,
         "Eon Pokémon": 0,
         "Turboblaze": 0,
         "Teravolt": 0,
         "Telepathy": 0,
         "generation": 0,
         "against_dark": 0.2,
         "Justified": 0,
         "Sea Basin Pokémon": 0,
         "Air Lock": 0,
         "DNA Pokémon": 0,
         "New Species Pokémon": 0,
         "Sky High Pokémon": 0,
         "Wish Pokémon": 0,
         "Iron Pokémon": 0,
         "Rock Peak Pokémon": 0,
         "Knowledge Pokémon": 0,
         "Genetic Pokémon": 0,
         "Freeze Pokémon": 0,
         "Bad Dreams": 0,
         "Pitch-Black Pokémon": 0,
         "Order Pokémon": 0,
         "Colossal Pokémon": 0,
         "Aura Break": 0,
         "Slow Start": 0,
         "Mischief Pokémon (Confined)Djinn Pokémonn (Unbound)": 0,
         "Power Construct": 0,
         "Prism Armor": 0,
         "Steam Pokémon": 0,
         "Lava Dome Pokémon": 0,
         "Spatial Pokémon": 0,
         "Victory Pokémon": 0,
         "Willpower Pokémon": 0,
         "Gratitude Pokémon": 0,
         "Seafaring Pokémon": 0,
         "Victory Star": 0,
         "Psychic Surge": 0,
         "Prism Pokémon": 0,
         "Temporal Pokémon": 0,
         "Alpha Pokémon": 0,
         "Electric Surge": 0,
         "Soul-Heart": 0,
         "Dark Aura": 0,
         "Renegade Pokémon": 0,
         "Artificial Pokémon": 0,
         "Rainbow Pokémon": 0,
         "Grassy Surge": 0,
         "Thunder Pokémon": 0,
         "Protostar Pokémon": 0,
         "Time Travel Pokémon": 0,
         "Parasite Pokémon": 0,
         "Fairy Aura": 0,
         "Destruction Pokémon": 0,
         "Diving Pokémon": 0,
         "Lunar Pokémon": 0,
         "Drawn Sword Pokémon": 0,
         "Life Pokémon": 0,
         "Launch Pokémon": 0,
         "Multitype": 0,
         "Glowing Pokémon": 0,
         "Junkivore Pokémon": 0,
         "Swollen Pokémon": 0,
         "Sunne Pokémon": 0,
         "Full Metal Body": 0,
         "Misty Surge": 0,
         "Aurora Pokémon": 0,
         "Shadow Shield": 0,
         "Lissome Pokémon": 0,
         "Moone Pokémon": 0,
         "Nebula Pokémon": 0,
         "Bolt Strike Pokémon": 0,
         "Boundary Pokémon": 0,
         "Vast White Pokémon": 0,
         "Abundance Pokémon": 0,
         "Melody Pokémon": 0,
         "Colt Pokémon": 0,
         "Paleozoic Pokémon": 0,
         "Cyclone Pokémon": 0,
         "Deep Black Pokémon": 0,
         "Iron Will Pokémon": 0,
         "Cavern Pokémon": 0,
         "Grassland Pokémon": 0,
         "1dragon": 0,
         "against_psychic": 0.5,
         "1steel": 0,
         "Clear Body": 0,
         "_deepnote_index_column": 0
        },
        {
         "is_legendary": 0,
         "base_egg_steps": 0.13043478260869565,
         "base_total": 0.375,
         "base_happiness": 0.5,
         "sp_attack": 0.3804347826086956,
         "weight_kg": 0.01290258051610322,
         "experience_growth": 0.44217307692307695,
         "sp_defense": 0.28571428571428575,
         "capture_rate": 0.16666666666666663,
         "height_m": 0.0625,
         "speed": 0.3142857142857143,
         "hp": 0.23228346456692914,
         "Beast Boost": 0,
         "attack": 0.31666666666666665,
         "Pressure": 0,
         "defense": 0.25777777777777783,
         "Land Spirit Pokémon": 0,
         "1psychic": 0,
         "pokedex_number": 0.00125,
         "against_ghost": 0.25,
         "Eon Pokémon": 0,
         "Turboblaze": 0,
         "Teravolt": 0,
         "Telepathy": 0,
         "generation": 0,
         "against_dark": 0.2,
         "Justified": 0,
         "Sea Basin Pokémon": 0,
         "Air Lock": 0,
         "DNA Pokémon": 0,
         "New Species Pokémon": 0,
         "Sky High Pokémon": 0,
         "Wish Pokémon": 0,
         "Iron Pokémon": 0,
         "Rock Peak Pokémon": 0,
         "Knowledge Pokémon": 0,
         "Genetic Pokémon": 0,
         "Freeze Pokémon": 0,
         "Bad Dreams": 0,
         "Pitch-Black Pokémon": 0,
         "Order Pokémon": 0,
         "Colossal Pokémon": 0,
         "Aura Break": 0,
         "Slow Start": 0,
         "Mischief Pokémon (Confined)Djinn Pokémonn (Unbound)": 0,
         "Power Construct": 0,
         "Prism Armor": 0,
         "Steam Pokémon": 0,
         "Lava Dome Pokémon": 0,
         "Spatial Pokémon": 0,
         "Victory Pokémon": 0,
         "Willpower Pokémon": 0,
         "Gratitude Pokémon": 0,
         "Seafaring Pokémon": 0,
         "Victory Star": 0,
         "Psychic Surge": 0,
         "Prism Pokémon": 0,
         "Temporal Pokémon": 0,
         "Alpha Pokémon": 0,
         "Electric Surge": 0,
         "Soul-Heart": 0,
         "Dark Aura": 0,
         "Renegade Pokémon": 0,
         "Artificial Pokémon": 0,
         "Rainbow Pokémon": 0,
         "Grassy Surge": 0,
         "Thunder Pokémon": 0,
         "Protostar Pokémon": 0,
         "Time Travel Pokémon": 0,
         "Parasite Pokémon": 0,
         "Fairy Aura": 0,
         "Destruction Pokémon": 0,
         "Diving Pokémon": 0,
         "Lunar Pokémon": 0,
         "Drawn Sword Pokémon": 0,
         "Life Pokémon": 0,
         "Launch Pokémon": 0,
         "Multitype": 0,
         "Glowing Pokémon": 0,
         "Junkivore Pokémon": 0,
         "Swollen Pokémon": 0,
         "Sunne Pokémon": 0,
         "Full Metal Body": 0,
         "Misty Surge": 0,
         "Aurora Pokémon": 0,
         "Shadow Shield": 0,
         "Lissome Pokémon": 0,
         "Moone Pokémon": 0,
         "Nebula Pokémon": 0,
         "Bolt Strike Pokémon": 0,
         "Boundary Pokémon": 0,
         "Vast White Pokémon": 0,
         "Abundance Pokémon": 0,
         "Melody Pokémon": 0,
         "Colt Pokémon": 0,
         "Paleozoic Pokémon": 0,
         "Cyclone Pokémon": 0,
         "Deep Black Pokémon": 0,
         "Iron Will Pokémon": 0,
         "Cavern Pokémon": 0,
         "Grassland Pokémon": 0,
         "1dragon": 0,
         "against_psychic": 0.5,
         "1steel": 0,
         "Clear Body": 0,
         "_deepnote_index_column": 1
        },
        {
         "is_legendary": 0,
         "base_egg_steps": 0.13043478260869565,
         "base_total": 0.7416666666666667,
         "base_happiness": 0.5,
         "sp_attack": 0.608695652173913,
         "weight_kg": 0.09991998399679936,
         "experience_growth": 0.44217307692307695,
         "sp_defense": 0.4761904761904763,
         "capture_rate": 0.16666666666666663,
         "height_m": 0.13194444444444445,
         "speed": 0.42857142857142855,
         "hp": 0.3110236220472441,
         "Beast Boost": 0,
         "attack": 0.5277777777777778,
         "Pressure": 0,
         "defense": 0.5244444444444444,
         "Land Spirit Pokémon": 0,
         "1psychic": 0,
         "pokedex_number": 0.0024999999999999996,
         "against_ghost": 0.25,
         "Eon Pokémon": 0,
         "Turboblaze": 0,
         "Teravolt": 0,
         "Telepathy": 0,
         "generation": 0,
         "against_dark": 0.2,
         "Justified": 0,
         "Sea Basin Pokémon": 0,
         "Air Lock": 0,
         "DNA Pokémon": 0,
         "New Species Pokémon": 0,
         "Sky High Pokémon": 0,
         "Wish Pokémon": 0,
         "Iron Pokémon": 0,
         "Rock Peak Pokémon": 0,
         "Knowledge Pokémon": 0,
         "Genetic Pokémon": 0,
         "Freeze Pokémon": 0,
         "Bad Dreams": 0,
         "Pitch-Black Pokémon": 0,
         "Order Pokémon": 0,
         "Colossal Pokémon": 0,
         "Aura Break": 0,
         "Slow Start": 0,
         "Mischief Pokémon (Confined)Djinn Pokémonn (Unbound)": 0,
         "Power Construct": 0,
         "Prism Armor": 0,
         "Steam Pokémon": 0,
         "Lava Dome Pokémon": 0,
         "Spatial Pokémon": 0,
         "Victory Pokémon": 0,
         "Willpower Pokémon": 0,
         "Gratitude Pokémon": 0,
         "Seafaring Pokémon": 0,
         "Victory Star": 0,
         "Psychic Surge": 0,
         "Prism Pokémon": 0,
         "Temporal Pokémon": 0,
         "Alpha Pokémon": 0,
         "Electric Surge": 0,
         "Soul-Heart": 0,
         "Dark Aura": 0,
         "Renegade Pokémon": 0,
         "Artificial Pokémon": 0,
         "Rainbow Pokémon": 0,
         "Grassy Surge": 0,
         "Thunder Pokémon": 0,
         "Protostar Pokémon": 0,
         "Time Travel Pokémon": 0,
         "Parasite Pokémon": 0,
         "Fairy Aura": 0,
         "Destruction Pokémon": 0,
         "Diving Pokémon": 0,
         "Lunar Pokémon": 0,
         "Drawn Sword Pokémon": 0,
         "Life Pokémon": 0,
         "Launch Pokémon": 0,
         "Multitype": 0,
         "Glowing Pokémon": 0,
         "Junkivore Pokémon": 0,
         "Swollen Pokémon": 0,
         "Sunne Pokémon": 0,
         "Full Metal Body": 0,
         "Misty Surge": 0,
         "Aurora Pokémon": 0,
         "Shadow Shield": 0,
         "Lissome Pokémon": 0,
         "Moone Pokémon": 0,
         "Nebula Pokémon": 0,
         "Bolt Strike Pokémon": 0,
         "Boundary Pokémon": 0,
         "Vast White Pokémon": 0,
         "Abundance Pokémon": 0,
         "Melody Pokémon": 0,
         "Colt Pokémon": 0,
         "Paleozoic Pokémon": 0,
         "Cyclone Pokémon": 0,
         "Deep Black Pokémon": 0,
         "Iron Will Pokémon": 0,
         "Cavern Pokémon": 0,
         "Grassland Pokémon": 0,
         "1dragon": 0,
         "against_psychic": 0.5,
         "1steel": 0,
         "Clear Body": 0,
         "_deepnote_index_column": 2
        },
        {
         "is_legendary": 0,
         "base_egg_steps": 0.13043478260869565,
         "base_total": 0.21499999999999997,
         "base_happiness": 0.5,
         "sp_attack": 0.2717391304347826,
         "weight_kg": 0.008401680336067212,
         "experience_growth": 0.44217307692307695,
         "sp_defense": 0.14285714285714285,
         "capture_rate": 0.16666666666666663,
         "height_m": 0.03472222222222222,
         "speed": 0.34285714285714286,
         "hp": 0.14960629921259844,
         "Beast Boost": 0,
         "attack": 0.2611111111111111,
         "Pressure": 0,
         "defense": 0.1688888888888889,
         "Land Spirit Pokémon": 0,
         "1psychic": 0,
         "pokedex_number": 0.00375,
         "against_ghost": 0.25,
         "Eon Pokémon": 0,
         "Turboblaze": 0,
         "Teravolt": 0,
         "Telepathy": 0,
         "generation": 0,
         "against_dark": 0.2,
         "Justified": 0,
         "Sea Basin Pokémon": 0,
         "Air Lock": 0,
         "DNA Pokémon": 0,
         "New Species Pokémon": 0,
         "Sky High Pokémon": 0,
         "Wish Pokémon": 0,
         "Iron Pokémon": 0,
         "Rock Peak Pokémon": 0,
         "Knowledge Pokémon": 0,
         "Genetic Pokémon": 0,
         "Freeze Pokémon": 0,
         "Bad Dreams": 0,
         "Pitch-Black Pokémon": 0,
         "Order Pokémon": 0,
         "Colossal Pokémon": 0,
         "Aura Break": 0,
         "Slow Start": 0,
         "Mischief Pokémon (Confined)Djinn Pokémonn (Unbound)": 0,
         "Power Construct": 0,
         "Prism Armor": 0,
         "Steam Pokémon": 0,
         "Lava Dome Pokémon": 0,
         "Spatial Pokémon": 0,
         "Victory Pokémon": 0,
         "Willpower Pokémon": 0,
         "Gratitude Pokémon": 0,
         "Seafaring Pokémon": 0,
         "Victory Star": 0,
         "Psychic Surge": 0,
         "Prism Pokémon": 0,
         "Temporal Pokémon": 0,
         "Alpha Pokémon": 0,
         "Electric Surge": 0,
         "Soul-Heart": 0,
         "Dark Aura": 0,
         "Renegade Pokémon": 0,
         "Artificial Pokémon": 0,
         "Rainbow Pokémon": 0,
         "Grassy Surge": 0,
         "Thunder Pokémon": 0,
         "Protostar Pokémon": 0,
         "Time Travel Pokémon": 0,
         "Parasite Pokémon": 0,
         "Fairy Aura": 0,
         "Destruction Pokémon": 0,
         "Diving Pokémon": 0,
         "Lunar Pokémon": 0,
         "Drawn Sword Pokémon": 0,
         "Life Pokémon": 0,
         "Launch Pokémon": 0,
         "Multitype": 0,
         "Glowing Pokémon": 0,
         "Junkivore Pokémon": 0,
         "Swollen Pokémon": 0,
         "Sunne Pokémon": 0,
         "Full Metal Body": 0,
         "Misty Surge": 0,
         "Aurora Pokémon": 0,
         "Shadow Shield": 0,
         "Lissome Pokémon": 0,
         "Moone Pokémon": 0,
         "Nebula Pokémon": 0,
         "Bolt Strike Pokémon": 0,
         "Boundary Pokémon": 0,
         "Vast White Pokémon": 0,
         "Abundance Pokémon": 0,
         "Melody Pokémon": 0,
         "Colt Pokémon": 0,
         "Paleozoic Pokémon": 0,
         "Cyclone Pokémon": 0,
         "Deep Black Pokémon": 0,
         "Iron Will Pokémon": 0,
         "Cavern Pokémon": 0,
         "Grassland Pokémon": 0,
         "1dragon": 0,
         "against_psychic": 0.25,
         "1steel": 0,
         "Clear Body": 0,
         "_deepnote_index_column": 3
        }
       ],
       "rows_bottom": [
        {
         "is_legendary": 1,
         "base_egg_steps": 1,
         "base_total": 0.65,
         "base_happiness": 0,
         "sp_attack": 0.5271739130434783,
         "weight_kg": 1,
         "experience_growth": 0.625,
         "sp_defense": 0.3857142857142858,
         "capture_rate": 0.0873015873015873,
         "height_m": 0.6319444444444444,
         "speed": 0.32,
         "hp": 0.3779527559055118,
         "Beast Boost": 1,
         "attack": 0.5333333333333333,
         "Pressure": 0,
         "defense": 0.4355555555555556,
         "Land Spirit Pokémon": 0,
         "1psychic": 0,
         "pokedex_number": 0.995,
         "against_ghost": 0.25,
         "Eon Pokémon": 0,
         "Turboblaze": 0,
         "Teravolt": 0,
         "Telepathy": 0,
         "generation": 0.9999999999999999,
         "against_dark": 0.2,
         "Justified": 0,
         "Sea Basin Pokémon": 0,
         "Air Lock": 0,
         "DNA Pokémon": 0,
         "New Species Pokémon": 0,
         "Sky High Pokémon": 0,
         "Wish Pokémon": 0,
         "Iron Pokémon": 0,
         "Rock Peak Pokémon": 0,
         "Knowledge Pokémon": 0,
         "Genetic Pokémon": 0,
         "Freeze Pokémon": 0,
         "Bad Dreams": 0,
         "Pitch-Black Pokémon": 0,
         "Order Pokémon": 0,
         "Colossal Pokémon": 0,
         "Aura Break": 0,
         "Slow Start": 0,
         "Mischief Pokémon (Confined)Djinn Pokémonn (Unbound)": 0,
         "Power Construct": 0,
         "Prism Armor": 0,
         "Steam Pokémon": 0,
         "Lava Dome Pokémon": 0,
         "Spatial Pokémon": 0,
         "Victory Pokémon": 0,
         "Willpower Pokémon": 0,
         "Gratitude Pokémon": 0,
         "Seafaring Pokémon": 0,
         "Victory Star": 0,
         "Psychic Surge": 0,
         "Prism Pokémon": 0,
         "Temporal Pokémon": 0,
         "Alpha Pokémon": 0,
         "Electric Surge": 0,
         "Soul-Heart": 0,
         "Dark Aura": 0,
         "Renegade Pokémon": 0,
         "Artificial Pokémon": 0,
         "Rainbow Pokémon": 0,
         "Grassy Surge": 0,
         "Thunder Pokémon": 0,
         "Protostar Pokémon": 0,
         "Time Travel Pokémon": 0,
         "Parasite Pokémon": 0,
         "Fairy Aura": 0,
         "Destruction Pokémon": 0,
         "Diving Pokémon": 0,
         "Lunar Pokémon": 0,
         "Drawn Sword Pokémon": 0,
         "Life Pokémon": 0,
         "Launch Pokémon": 1,
         "Multitype": 0,
         "Glowing Pokémon": 0,
         "Junkivore Pokémon": 0,
         "Swollen Pokémon": 0,
         "Sunne Pokémon": 0,
         "Full Metal Body": 0,
         "Misty Surge": 0,
         "Aurora Pokémon": 0,
         "Shadow Shield": 0,
         "Lissome Pokémon": 0,
         "Moone Pokémon": 0,
         "Nebula Pokémon": 0,
         "Bolt Strike Pokémon": 0,
         "Boundary Pokémon": 0,
         "Vast White Pokémon": 0,
         "Abundance Pokémon": 0,
         "Melody Pokémon": 0,
         "Colt Pokémon": 0,
         "Paleozoic Pokémon": 0,
         "Cyclone Pokémon": 0,
         "Deep Black Pokémon": 0,
         "Iron Will Pokémon": 0,
         "Cavern Pokémon": 0,
         "Grassland Pokémon": 0,
         "1dragon": 0,
         "against_psychic": 0.125,
         "1steel": 1,
         "Clear Body": 0,
         "_deepnote_index_column": 796
        },
        {
         "is_legendary": 1,
         "base_egg_steps": 1,
         "base_total": 0.65,
         "base_happiness": 0,
         "sp_attack": 0.2663043478260869,
         "weight_kg": 0,
         "experience_growth": 0.625,
         "sp_defense": 0.052380952380952375,
         "capture_rate": 1,
         "height_m": 0.013888888888888888,
         "speed": 0.5942857142857143,
         "hp": 0.2283464566929134,
         "Beast Boost": 1,
         "attack": 0.9777777777777777,
         "Pressure": 0,
         "defense": 0.5599999999999999,
         "Land Spirit Pokémon": 0,
         "1psychic": 0,
         "pokedex_number": 0.9962500000000001,
         "against_ghost": 0.25,
         "Eon Pokémon": 0,
         "Turboblaze": 0,
         "Teravolt": 0,
         "Telepathy": 0,
         "generation": 0.9999999999999999,
         "against_dark": 0.2,
         "Justified": 0,
         "Sea Basin Pokémon": 0,
         "Air Lock": 0,
         "DNA Pokémon": 0,
         "New Species Pokémon": 0,
         "Sky High Pokémon": 0,
         "Wish Pokémon": 0,
         "Iron Pokémon": 0,
         "Rock Peak Pokémon": 0,
         "Knowledge Pokémon": 0,
         "Genetic Pokémon": 0,
         "Freeze Pokémon": 0,
         "Bad Dreams": 0,
         "Pitch-Black Pokémon": 0,
         "Order Pokémon": 0,
         "Colossal Pokémon": 0,
         "Aura Break": 0,
         "Slow Start": 0,
         "Mischief Pokémon (Confined)Djinn Pokémonn (Unbound)": 0,
         "Power Construct": 0,
         "Prism Armor": 0,
         "Steam Pokémon": 0,
         "Lava Dome Pokémon": 0,
         "Spatial Pokémon": 0,
         "Victory Pokémon": 0,
         "Willpower Pokémon": 0,
         "Gratitude Pokémon": 0,
         "Seafaring Pokémon": 0,
         "Victory Star": 0,
         "Psychic Surge": 0,
         "Prism Pokémon": 0,
         "Temporal Pokémon": 0,
         "Alpha Pokémon": 0,
         "Electric Surge": 0,
         "Soul-Heart": 0,
         "Dark Aura": 0,
         "Renegade Pokémon": 0,
         "Artificial Pokémon": 0,
         "Rainbow Pokémon": 0,
         "Grassy Surge": 0,
         "Thunder Pokémon": 0,
         "Protostar Pokémon": 0,
         "Time Travel Pokémon": 0,
         "Parasite Pokémon": 0,
         "Fairy Aura": 0,
         "Destruction Pokémon": 0,
         "Diving Pokémon": 0,
         "Lunar Pokémon": 0,
         "Drawn Sword Pokémon": 1,
         "Life Pokémon": 0,
         "Launch Pokémon": 0,
         "Multitype": 0,
         "Glowing Pokémon": 0,
         "Junkivore Pokémon": 0,
         "Swollen Pokémon": 0,
         "Sunne Pokémon": 0,
         "Full Metal Body": 0,
         "Misty Surge": 0,
         "Aurora Pokémon": 0,
         "Shadow Shield": 0,
         "Lissome Pokémon": 0,
         "Moone Pokémon": 0,
         "Nebula Pokémon": 0,
         "Bolt Strike Pokémon": 0,
         "Boundary Pokémon": 0,
         "Vast White Pokémon": 0,
         "Abundance Pokémon": 0,
         "Melody Pokémon": 0,
         "Colt Pokémon": 0,
         "Paleozoic Pokémon": 0,
         "Cyclone Pokémon": 0,
         "Deep Black Pokémon": 0,
         "Iron Will Pokémon": 0,
         "Cavern Pokémon": 0,
         "Grassland Pokémon": 0,
         "1dragon": 0,
         "against_psychic": 0.125,
         "1steel": 0,
         "Clear Body": 0,
         "_deepnote_index_column": 797
        },
        {
         "is_legendary": 1,
         "base_egg_steps": 1,
         "base_total": 0.65,
         "base_happiness": 0,
         "sp_attack": 0.47282608695652173,
         "weight_kg": 0.8880776155231046,
         "experience_growth": 0.625,
         "sp_defense": 0.1571428571428572,
         "capture_rate": 0.047619047619047616,
         "height_m": 0.37500000000000006,
         "speed": 0.21714285714285714,
         "hp": 0.8740157480314961,
         "Beast Boost": 1,
         "attack": 0.5333333333333333,
         "Pressure": 0,
         "defense": 0.21333333333333332,
         "Land Spirit Pokémon": 0,
         "1psychic": 0,
         "pokedex_number": 0.9975,
         "against_ghost": 0.125,
         "Eon Pokémon": 0,
         "Turboblaze": 0,
         "Teravolt": 0,
         "Telepathy": 0,
         "generation": 0.9999999999999999,
         "against_dark": 0.06666666666666667,
         "Justified": 0,
         "Sea Basin Pokémon": 0,
         "Air Lock": 0,
         "DNA Pokémon": 0,
         "New Species Pokémon": 0,
         "Sky High Pokémon": 0,
         "Wish Pokémon": 0,
         "Iron Pokémon": 0,
         "Rock Peak Pokémon": 0,
         "Knowledge Pokémon": 0,
         "Genetic Pokémon": 0,
         "Freeze Pokémon": 0,
         "Bad Dreams": 0,
         "Pitch-Black Pokémon": 0,
         "Order Pokémon": 0,
         "Colossal Pokémon": 0,
         "Aura Break": 0,
         "Slow Start": 0,
         "Mischief Pokémon (Confined)Djinn Pokémonn (Unbound)": 0,
         "Power Construct": 0,
         "Prism Armor": 0,
         "Steam Pokémon": 0,
         "Lava Dome Pokémon": 0,
         "Spatial Pokémon": 0,
         "Victory Pokémon": 0,
         "Willpower Pokémon": 0,
         "Gratitude Pokémon": 0,
         "Seafaring Pokémon": 0,
         "Victory Star": 0,
         "Psychic Surge": 0,
         "Prism Pokémon": 0,
         "Temporal Pokémon": 0,
         "Alpha Pokémon": 0,
         "Electric Surge": 0,
         "Soul-Heart": 0,
         "Dark Aura": 0,
         "Renegade Pokémon": 0,
         "Artificial Pokémon": 0,
         "Rainbow Pokémon": 0,
         "Grassy Surge": 0,
         "Thunder Pokémon": 0,
         "Protostar Pokémon": 0,
         "Time Travel Pokémon": 0,
         "Parasite Pokémon": 0,
         "Fairy Aura": 0,
         "Destruction Pokémon": 0,
         "Diving Pokémon": 0,
         "Lunar Pokémon": 0,
         "Drawn Sword Pokémon": 0,
         "Life Pokémon": 0,
         "Launch Pokémon": 0,
         "Multitype": 0,
         "Glowing Pokémon": 0,
         "Junkivore Pokémon": 1,
         "Swollen Pokémon": 0,
         "Sunne Pokémon": 0,
         "Full Metal Body": 0,
         "Misty Surge": 0,
         "Aurora Pokémon": 0,
         "Shadow Shield": 0,
         "Lissome Pokémon": 0,
         "Moone Pokémon": 0,
         "Nebula Pokémon": 0,
         "Bolt Strike Pokémon": 0,
         "Boundary Pokémon": 0,
         "Vast White Pokémon": 0,
         "Abundance Pokémon": 0,
         "Melody Pokémon": 0,
         "Colt Pokémon": 0,
         "Paleozoic Pokémon": 0,
         "Cyclone Pokémon": 0,
         "Deep Black Pokémon": 0,
         "Iron Will Pokémon": 0,
         "Cavern Pokémon": 0,
         "Grassland Pokémon": 0,
         "1dragon": 0,
         "against_psychic": 0,
         "1steel": 0,
         "Clear Body": 0,
         "_deepnote_index_column": 798
        },
        {
         "is_legendary": 1,
         "base_egg_steps": 1,
         "base_total": 0.7,
         "base_happiness": 0,
         "sp_attack": 0.6358695652173912,
         "weight_kg": 0.22994598919783957,
         "experience_growth": 0.625,
         "sp_defense": 0.3285714285714286,
         "capture_rate": 0,
         "height_m": 0.1597222222222222,
         "speed": 0.4228571428571428,
         "hp": 0.3779527559055118,
         "Beast Boost": 0,
         "attack": 0.5666666666666667,
         "Pressure": 0,
         "defense": 0.4266666666666667,
         "Land Spirit Pokémon": 0,
         "1psychic": 1,
         "pokedex_number": 0.99875,
         "against_ghost": 0.5,
         "Eon Pokémon": 0,
         "Turboblaze": 0,
         "Teravolt": 0,
         "Telepathy": 0,
         "generation": 0.9999999999999999,
         "against_dark": 0.4666666666666667,
         "Justified": 0,
         "Sea Basin Pokémon": 0,
         "Air Lock": 0,
         "DNA Pokémon": 0,
         "New Species Pokémon": 0,
         "Sky High Pokémon": 0,
         "Wish Pokémon": 0,
         "Iron Pokémon": 0,
         "Rock Peak Pokémon": 0,
         "Knowledge Pokémon": 0,
         "Genetic Pokémon": 0,
         "Freeze Pokémon": 0,
         "Bad Dreams": 0,
         "Pitch-Black Pokémon": 0,
         "Order Pokémon": 0,
         "Colossal Pokémon": 0,
         "Aura Break": 0,
         "Slow Start": 0,
         "Mischief Pokémon (Confined)Djinn Pokémonn (Unbound)": 0,
         "Power Construct": 0,
         "Prism Armor": 1,
         "Steam Pokémon": 0,
         "Lava Dome Pokémon": 0,
         "Spatial Pokémon": 0,
         "Victory Pokémon": 0,
         "Willpower Pokémon": 0,
         "Gratitude Pokémon": 0,
         "Seafaring Pokémon": 0,
         "Victory Star": 0,
         "Psychic Surge": 0,
         "Prism Pokémon": 1,
         "Temporal Pokémon": 0,
         "Alpha Pokémon": 0,
         "Electric Surge": 0,
         "Soul-Heart": 0,
         "Dark Aura": 0,
         "Renegade Pokémon": 0,
         "Artificial Pokémon": 0,
         "Rainbow Pokémon": 0,
         "Grassy Surge": 0,
         "Thunder Pokémon": 0,
         "Protostar Pokémon": 0,
         "Time Travel Pokémon": 0,
         "Parasite Pokémon": 0,
         "Fairy Aura": 0,
         "Destruction Pokémon": 0,
         "Diving Pokémon": 0,
         "Lunar Pokémon": 0,
         "Drawn Sword Pokémon": 0,
         "Life Pokémon": 0,
         "Launch Pokémon": 0,
         "Multitype": 0,
         "Glowing Pokémon": 0,
         "Junkivore Pokémon": 0,
         "Swollen Pokémon": 0,
         "Sunne Pokémon": 0,
         "Full Metal Body": 0,
         "Misty Surge": 0,
         "Aurora Pokémon": 0,
         "Shadow Shield": 0,
         "Lissome Pokémon": 0,
         "Moone Pokémon": 0,
         "Nebula Pokémon": 0,
         "Bolt Strike Pokémon": 0,
         "Boundary Pokémon": 0,
         "Vast White Pokémon": 0,
         "Abundance Pokémon": 0,
         "Melody Pokémon": 0,
         "Colt Pokémon": 0,
         "Paleozoic Pokémon": 0,
         "Cyclone Pokémon": 0,
         "Deep Black Pokémon": 0,
         "Iron Will Pokémon": 0,
         "Cavern Pokémon": 0,
         "Grassland Pokémon": 0,
         "1dragon": 0,
         "against_psychic": 0.125,
         "1steel": 0,
         "Clear Body": 0,
         "_deepnote_index_column": 799
        },
        {
         "is_legendary": 1,
         "base_egg_steps": 1,
         "base_total": 0.7,
         "base_happiness": 0,
         "sp_attack": 0.6521739130434783,
         "weight_kg": 0.08041608321664333,
         "experience_growth": 0.625,
         "sp_defense": 0.45238095238095244,
         "capture_rate": 0,
         "height_m": 0.0625,
         "speed": 0.34285714285714286,
         "hp": 0.3110236220472441,
         "Beast Boost": 0,
         "attack": 0.5,
         "Pressure": 0,
         "defense": 0.4888888888888889,
         "Land Spirit Pokémon": 0,
         "1psychic": 0,
         "pokedex_number": 1,
         "against_ghost": 0.25,
         "Eon Pokémon": 0,
         "Turboblaze": 0,
         "Teravolt": 0,
         "Telepathy": 0,
         "generation": 0.9999999999999999,
         "against_dark": 0.06666666666666667,
         "Justified": 0,
         "Sea Basin Pokémon": 0,
         "Air Lock": 0,
         "DNA Pokémon": 0,
         "New Species Pokémon": 0,
         "Sky High Pokémon": 0,
         "Wish Pokémon": 0,
         "Iron Pokémon": 0,
         "Rock Peak Pokémon": 0,
         "Knowledge Pokémon": 0,
         "Genetic Pokémon": 0,
         "Freeze Pokémon": 0,
         "Bad Dreams": 0,
         "Pitch-Black Pokémon": 0,
         "Order Pokémon": 0,
         "Colossal Pokémon": 0,
         "Aura Break": 0,
         "Slow Start": 0,
         "Mischief Pokémon (Confined)Djinn Pokémonn (Unbound)": 0,
         "Power Construct": 0,
         "Prism Armor": 0,
         "Steam Pokémon": 0,
         "Lava Dome Pokémon": 0,
         "Spatial Pokémon": 0,
         "Victory Pokémon": 0,
         "Willpower Pokémon": 0,
         "Gratitude Pokémon": 0,
         "Seafaring Pokémon": 0,
         "Victory Star": 0,
         "Psychic Surge": 0,
         "Prism Pokémon": 0,
         "Temporal Pokémon": 0,
         "Alpha Pokémon": 0,
         "Electric Surge": 0,
         "Soul-Heart": 1,
         "Dark Aura": 0,
         "Renegade Pokémon": 0,
         "Artificial Pokémon": 1,
         "Rainbow Pokémon": 0,
         "Grassy Surge": 0,
         "Thunder Pokémon": 0,
         "Protostar Pokémon": 0,
         "Time Travel Pokémon": 0,
         "Parasite Pokémon": 0,
         "Fairy Aura": 0,
         "Destruction Pokémon": 0,
         "Diving Pokémon": 0,
         "Lunar Pokémon": 0,
         "Drawn Sword Pokémon": 0,
         "Life Pokémon": 0,
         "Launch Pokémon": 0,
         "Multitype": 0,
         "Glowing Pokémon": 0,
         "Junkivore Pokémon": 0,
         "Swollen Pokémon": 0,
         "Sunne Pokémon": 0,
         "Full Metal Body": 0,
         "Misty Surge": 0,
         "Aurora Pokémon": 0,
         "Shadow Shield": 0,
         "Lissome Pokémon": 0,
         "Moone Pokémon": 0,
         "Nebula Pokémon": 0,
         "Bolt Strike Pokémon": 0,
         "Boundary Pokémon": 0,
         "Vast White Pokémon": 0,
         "Abundance Pokémon": 0,
         "Melody Pokémon": 0,
         "Colt Pokémon": 0,
         "Paleozoic Pokémon": 0,
         "Cyclone Pokémon": 0,
         "Deep Black Pokémon": 0,
         "Iron Will Pokémon": 0,
         "Cavern Pokémon": 0,
         "Grassland Pokémon": 0,
         "1dragon": 0,
         "against_psychic": 0.125,
         "1steel": 1,
         "Clear Body": 0,
         "_deepnote_index_column": 800
        }
       ]
      },
      "text/plain": "     is_legendary  base_egg_steps  base_total  base_happiness  sp_attack  \\\n0             0.0        0.130435    0.230000             0.5   0.298913   \n1             0.0        0.130435    0.375000             0.5   0.380435   \n2             0.0        0.130435    0.741667             0.5   0.608696   \n3             0.0        0.130435    0.215000             0.5   0.271739   \n4             0.0        0.130435    0.375000             0.5   0.380435   \n..            ...             ...         ...             ...        ...   \n796           1.0        1.000000    0.650000             0.0   0.527174   \n797           1.0        1.000000    0.650000             0.0   0.266304   \n798           1.0        1.000000    0.650000             0.0   0.472826   \n799           1.0        1.000000    0.700000             0.0   0.635870   \n800           1.0        1.000000    0.700000             0.0   0.652174   \n\n     weight_kg  experience_growth  sp_defense  capture_rate  height_m  ...  \\\n0     0.006801           0.442173    0.214286      0.166667  0.041667  ...   \n1     0.012903           0.442173    0.285714      0.166667  0.062500  ...   \n2     0.099920           0.442173    0.476190      0.166667  0.131944  ...   \n3     0.008402           0.442173    0.142857      0.166667  0.034722  ...   \n4     0.018904           0.442173    0.214286      0.166667  0.069444  ...   \n..         ...                ...         ...           ...       ...  ...   \n796   1.000000           0.625000    0.385714      0.087302  0.631944  ...   \n797   0.000000           0.625000    0.052381      1.000000  0.013889  ...   \n798   0.888078           0.625000    0.157143      0.047619  0.375000  ...   \n799   0.229946           0.625000    0.328571      0.000000  0.159722  ...   \n800   0.080416           0.625000    0.452381      0.000000  0.062500  ...   \n\n     Paleozoic Pokémon  Cyclone Pokémon  Deep Black Pokémon  \\\n0                  0.0              0.0                 0.0   \n1                  0.0              0.0                 0.0   \n2                  0.0              0.0                 0.0   \n3                  0.0              0.0                 0.0   \n4                  0.0              0.0                 0.0   \n..                 ...              ...                 ...   \n796                0.0              0.0                 0.0   \n797                0.0              0.0                 0.0   \n798                0.0              0.0                 0.0   \n799                0.0              0.0                 0.0   \n800                0.0              0.0                 0.0   \n\n     Iron Will Pokémon  Cavern Pokémon  Grassland Pokémon  1dragon  \\\n0                  0.0             0.0                0.0      0.0   \n1                  0.0             0.0                0.0      0.0   \n2                  0.0             0.0                0.0      0.0   \n3                  0.0             0.0                0.0      0.0   \n4                  0.0             0.0                0.0      0.0   \n..                 ...             ...                ...      ...   \n796                0.0             0.0                0.0      0.0   \n797                0.0             0.0                0.0      0.0   \n798                0.0             0.0                0.0      0.0   \n799                0.0             0.0                0.0      0.0   \n800                0.0             0.0                0.0      0.0   \n\n     against_psychic  1steel  Clear Body  \n0              0.500     0.0         0.0  \n1              0.500     0.0         0.0  \n2              0.500     0.0         0.0  \n3              0.250     0.0         0.0  \n4              0.250     0.0         0.0  \n..               ...     ...         ...  \n796            0.125     1.0         0.0  \n797            0.125     0.0         0.0  \n798            0.000     0.0         0.0  \n799            0.125     0.0         0.0  \n800            0.125     1.0         0.0  \n\n[801 rows x 105 columns]",
      "text/html": "<div>\n<style scoped>\n    .dataframe tbody tr th:only-of-type {\n        vertical-align: middle;\n    }\n\n    .dataframe tbody tr th {\n        vertical-align: top;\n    }\n\n    .dataframe thead th {\n        text-align: right;\n    }\n</style>\n<table border=\"1\" class=\"dataframe\">\n  <thead>\n    <tr style=\"text-align: right;\">\n      <th></th>\n      <th>is_legendary</th>\n      <th>base_egg_steps</th>\n      <th>base_total</th>\n      <th>base_happiness</th>\n      <th>sp_attack</th>\n      <th>weight_kg</th>\n      <th>experience_growth</th>\n      <th>sp_defense</th>\n      <th>capture_rate</th>\n      <th>height_m</th>\n      <th>...</th>\n      <th>Paleozoic Pokémon</th>\n      <th>Cyclone Pokémon</th>\n      <th>Deep Black Pokémon</th>\n      <th>Iron Will Pokémon</th>\n      <th>Cavern Pokémon</th>\n      <th>Grassland Pokémon</th>\n      <th>1dragon</th>\n      <th>against_psychic</th>\n      <th>1steel</th>\n      <th>Clear Body</th>\n    </tr>\n  </thead>\n  <tbody>\n    <tr>\n      <th>0</th>\n      <td>0.0</td>\n      <td>0.130435</td>\n      <td>0.230000</td>\n      <td>0.5</td>\n      <td>0.298913</td>\n      <td>0.006801</td>\n      <td>0.442173</td>\n      <td>0.214286</td>\n      <td>0.166667</td>\n      <td>0.041667</td>\n      <td>...</td>\n      <td>0.0</td>\n      <td>0.0</td>\n      <td>0.0</td>\n      <td>0.0</td>\n      <td>0.0</td>\n      <td>0.0</td>\n      <td>0.0</td>\n      <td>0.500</td>\n      <td>0.0</td>\n      <td>0.0</td>\n    </tr>\n    <tr>\n      <th>1</th>\n      <td>0.0</td>\n      <td>0.130435</td>\n      <td>0.375000</td>\n      <td>0.5</td>\n      <td>0.380435</td>\n      <td>0.012903</td>\n      <td>0.442173</td>\n      <td>0.285714</td>\n      <td>0.166667</td>\n      <td>0.062500</td>\n      <td>...</td>\n      <td>0.0</td>\n      <td>0.0</td>\n      <td>0.0</td>\n      <td>0.0</td>\n      <td>0.0</td>\n      <td>0.0</td>\n      <td>0.0</td>\n      <td>0.500</td>\n      <td>0.0</td>\n      <td>0.0</td>\n    </tr>\n    <tr>\n      <th>2</th>\n      <td>0.0</td>\n      <td>0.130435</td>\n      <td>0.741667</td>\n      <td>0.5</td>\n      <td>0.608696</td>\n      <td>0.099920</td>\n      <td>0.442173</td>\n      <td>0.476190</td>\n      <td>0.166667</td>\n      <td>0.131944</td>\n      <td>...</td>\n      <td>0.0</td>\n      <td>0.0</td>\n      <td>0.0</td>\n      <td>0.0</td>\n      <td>0.0</td>\n      <td>0.0</td>\n      <td>0.0</td>\n      <td>0.500</td>\n      <td>0.0</td>\n      <td>0.0</td>\n    </tr>\n    <tr>\n      <th>3</th>\n      <td>0.0</td>\n      <td>0.130435</td>\n      <td>0.215000</td>\n      <td>0.5</td>\n      <td>0.271739</td>\n      <td>0.008402</td>\n      <td>0.442173</td>\n      <td>0.142857</td>\n      <td>0.166667</td>\n      <td>0.034722</td>\n      <td>...</td>\n      <td>0.0</td>\n      <td>0.0</td>\n      <td>0.0</td>\n      <td>0.0</td>\n      <td>0.0</td>\n      <td>0.0</td>\n      <td>0.0</td>\n      <td>0.250</td>\n      <td>0.0</td>\n      <td>0.0</td>\n    </tr>\n    <tr>\n      <th>4</th>\n      <td>0.0</td>\n      <td>0.130435</td>\n      <td>0.375000</td>\n      <td>0.5</td>\n      <td>0.380435</td>\n      <td>0.018904</td>\n      <td>0.442173</td>\n      <td>0.214286</td>\n      <td>0.166667</td>\n      <td>0.069444</td>\n      <td>...</td>\n      <td>0.0</td>\n      <td>0.0</td>\n      <td>0.0</td>\n      <td>0.0</td>\n      <td>0.0</td>\n      <td>0.0</td>\n      <td>0.0</td>\n      <td>0.250</td>\n      <td>0.0</td>\n      <td>0.0</td>\n    </tr>\n    <tr>\n      <th>...</th>\n      <td>...</td>\n      <td>...</td>\n      <td>...</td>\n      <td>...</td>\n      <td>...</td>\n      <td>...</td>\n      <td>...</td>\n      <td>...</td>\n      <td>...</td>\n      <td>...</td>\n      <td>...</td>\n      <td>...</td>\n      <td>...</td>\n      <td>...</td>\n      <td>...</td>\n      <td>...</td>\n      <td>...</td>\n      <td>...</td>\n      <td>...</td>\n      <td>...</td>\n      <td>...</td>\n    </tr>\n    <tr>\n      <th>796</th>\n      <td>1.0</td>\n      <td>1.000000</td>\n      <td>0.650000</td>\n      <td>0.0</td>\n      <td>0.527174</td>\n      <td>1.000000</td>\n      <td>0.625000</td>\n      <td>0.385714</td>\n      <td>0.087302</td>\n      <td>0.631944</td>\n      <td>...</td>\n      <td>0.0</td>\n      <td>0.0</td>\n      <td>0.0</td>\n      <td>0.0</td>\n      <td>0.0</td>\n      <td>0.0</td>\n      <td>0.0</td>\n      <td>0.125</td>\n      <td>1.0</td>\n      <td>0.0</td>\n    </tr>\n    <tr>\n      <th>797</th>\n      <td>1.0</td>\n      <td>1.000000</td>\n      <td>0.650000</td>\n      <td>0.0</td>\n      <td>0.266304</td>\n      <td>0.000000</td>\n      <td>0.625000</td>\n      <td>0.052381</td>\n      <td>1.000000</td>\n      <td>0.013889</td>\n      <td>...</td>\n      <td>0.0</td>\n      <td>0.0</td>\n      <td>0.0</td>\n      <td>0.0</td>\n      <td>0.0</td>\n      <td>0.0</td>\n      <td>0.0</td>\n      <td>0.125</td>\n      <td>0.0</td>\n      <td>0.0</td>\n    </tr>\n    <tr>\n      <th>798</th>\n      <td>1.0</td>\n      <td>1.000000</td>\n      <td>0.650000</td>\n      <td>0.0</td>\n      <td>0.472826</td>\n      <td>0.888078</td>\n      <td>0.625000</td>\n      <td>0.157143</td>\n      <td>0.047619</td>\n      <td>0.375000</td>\n      <td>...</td>\n      <td>0.0</td>\n      <td>0.0</td>\n      <td>0.0</td>\n      <td>0.0</td>\n      <td>0.0</td>\n      <td>0.0</td>\n      <td>0.0</td>\n      <td>0.000</td>\n      <td>0.0</td>\n      <td>0.0</td>\n    </tr>\n    <tr>\n      <th>799</th>\n      <td>1.0</td>\n      <td>1.000000</td>\n      <td>0.700000</td>\n      <td>0.0</td>\n      <td>0.635870</td>\n      <td>0.229946</td>\n      <td>0.625000</td>\n      <td>0.328571</td>\n      <td>0.000000</td>\n      <td>0.159722</td>\n      <td>...</td>\n      <td>0.0</td>\n      <td>0.0</td>\n      <td>0.0</td>\n      <td>0.0</td>\n      <td>0.0</td>\n      <td>0.0</td>\n      <td>0.0</td>\n      <td>0.125</td>\n      <td>0.0</td>\n      <td>0.0</td>\n    </tr>\n    <tr>\n      <th>800</th>\n      <td>1.0</td>\n      <td>1.000000</td>\n      <td>0.700000</td>\n      <td>0.0</td>\n      <td>0.652174</td>\n      <td>0.080416</td>\n      <td>0.625000</td>\n      <td>0.452381</td>\n      <td>0.000000</td>\n      <td>0.062500</td>\n      <td>...</td>\n      <td>0.0</td>\n      <td>0.0</td>\n      <td>0.0</td>\n      <td>0.0</td>\n      <td>0.0</td>\n      <td>0.0</td>\n      <td>0.0</td>\n      <td>0.125</td>\n      <td>1.0</td>\n      <td>0.0</td>\n    </tr>\n  </tbody>\n</table>\n<p>801 rows × 105 columns</p>\n</div>"
     },
     "metadata": {}
    }
   ],
   "execution_count": null
  },
  {
   "cell_type": "code",
   "metadata": {
    "tags": [],
    "cell_id": "00037-520ec117-d26d-4a59-83de-0357f83393b4",
    "deepnote_to_be_reexecuted": false,
    "source_hash": "86bf4a2b",
    "execution_start": 1638719097722,
    "execution_millis": 5,
    "deepnote_output_heights": [
     21.1875
    ],
    "deepnote_cell_type": "code"
   },
   "source": "df_4.isnull().sum()[df_4.isnull().sum() > 0]",
   "outputs": [
    {
     "output_type": "execute_result",
     "execution_count": 23,
     "data": {
      "text/plain": "Series([], dtype: int64)"
     },
     "metadata": {}
    }
   ],
   "execution_count": null
  },
  {
   "cell_type": "code",
   "source": "import random\n\nidx_nolegendary = random.sample(list(df_4[df_4[TARGET] == 0].index), 731-70)\ndf_5 = df_4.drop(index=idx_nolegendary)\ndf_5.reset_index(inplace=True, drop=True)\ndf_5",
   "metadata": {
    "tags": [],
    "cell_id": "00035-45a00d22-90eb-4636-b852-52f69bc66be7",
    "deepnote_to_be_reexecuted": false,
    "source_hash": "e0134a9a",
    "execution_start": 1638719759713,
    "execution_millis": 684,
    "deepnote_output_heights": [
     577.9375
    ],
    "deepnote_cell_type": "code"
   },
   "outputs": [
    {
     "output_type": "execute_result",
     "execution_count": 61,
     "data": {
      "application/vnd.deepnote.dataframe.v2+json": {
       "row_count": 140,
       "column_count": 105,
       "columns": [
        {
         "name": "is_legendary",
         "dtype": "float64",
         "stats": {
          "unique_count": 2,
          "nan_count": 0,
          "min": "0.0",
          "max": "1.0",
          "histogram": [
           {
            "bin_start": 0,
            "bin_end": 0.1,
            "count": 70
           },
           {
            "bin_start": 0.1,
            "bin_end": 0.2,
            "count": 0
           },
           {
            "bin_start": 0.2,
            "bin_end": 0.30000000000000004,
            "count": 0
           },
           {
            "bin_start": 0.30000000000000004,
            "bin_end": 0.4,
            "count": 0
           },
           {
            "bin_start": 0.4,
            "bin_end": 0.5,
            "count": 0
           },
           {
            "bin_start": 0.5,
            "bin_end": 0.6000000000000001,
            "count": 0
           },
           {
            "bin_start": 0.6000000000000001,
            "bin_end": 0.7000000000000001,
            "count": 0
           },
           {
            "bin_start": 0.7000000000000001,
            "bin_end": 0.8,
            "count": 0
           },
           {
            "bin_start": 0.8,
            "bin_end": 0.9,
            "count": 0
           },
           {
            "bin_start": 0.9,
            "bin_end": 1,
            "count": 70
           }
          ]
         }
        },
        {
         "name": "base_egg_steps",
         "dtype": "float64",
         "stats": {
          "unique_count": 7,
          "nan_count": 0,
          "min": "0.043478260869565216",
          "max": "1.0",
          "histogram": [
           {
            "bin_start": 0.043478260869565216,
            "bin_end": 0.1391304347826087,
            "count": 62
           },
           {
            "bin_start": 0.1391304347826087,
            "bin_end": 0.23478260869565218,
            "count": 10
           },
           {
            "bin_start": 0.23478260869565218,
            "bin_end": 0.33043478260869563,
            "count": 5
           },
           {
            "bin_start": 0.33043478260869563,
            "bin_end": 0.4260869565217391,
            "count": 0
           },
           {
            "bin_start": 0.4260869565217391,
            "bin_end": 0.5217391304347826,
            "count": 0
           },
           {
            "bin_start": 0.5217391304347826,
            "bin_end": 0.6173913043478261,
            "count": 0
           },
           {
            "bin_start": 0.6173913043478261,
            "bin_end": 0.7130434782608696,
            "count": 16
           },
           {
            "bin_start": 0.7130434782608696,
            "bin_end": 0.808695652173913,
            "count": 0
           },
           {
            "bin_start": 0.808695652173913,
            "bin_end": 0.9043478260869565,
            "count": 0
           },
           {
            "bin_start": 0.9043478260869565,
            "bin_end": 1,
            "count": 47
           }
          ]
         }
        },
        {
         "name": "base_total",
         "dtype": "float64",
         "stats": {
          "unique_count": 61,
          "nan_count": 0,
          "min": "0.023333333333333317",
          "max": "1.0",
          "histogram": [
           {
            "bin_start": 0.023333333333333317,
            "bin_end": 0.12099999999999998,
            "count": 6
           },
           {
            "bin_start": 0.12099999999999998,
            "bin_end": 0.21866666666666665,
            "count": 13
           },
           {
            "bin_start": 0.21866666666666665,
            "bin_end": 0.3163333333333333,
            "count": 7
           },
           {
            "bin_start": 0.3163333333333333,
            "bin_end": 0.414,
            "count": 11
           },
           {
            "bin_start": 0.414,
            "bin_end": 0.5116666666666667,
            "count": 19
           },
           {
            "bin_start": 0.5116666666666667,
            "bin_end": 0.6093333333333333,
            "count": 9
           },
           {
            "bin_start": 0.6093333333333333,
            "bin_end": 0.707,
            "count": 48
           },
           {
            "bin_start": 0.707,
            "bin_end": 0.8046666666666666,
            "count": 3
           },
           {
            "bin_start": 0.8046666666666666,
            "bin_end": 0.9023333333333333,
            "count": 20
           },
           {
            "bin_start": 0.9023333333333333,
            "bin_end": 1,
            "count": 4
           }
          ]
         }
        },
        {
         "name": "base_happiness",
         "dtype": "float64",
         "stats": {
          "unique_count": 6,
          "nan_count": 0,
          "min": "0.0",
          "max": "1.0",
          "histogram": [
           {
            "bin_start": 0,
            "bin_end": 0.1,
            "count": 33
           },
           {
            "bin_start": 0.1,
            "bin_end": 0.2,
            "count": 0
           },
           {
            "bin_start": 0.2,
            "bin_end": 0.30000000000000004,
            "count": 23
           },
           {
            "bin_start": 0.30000000000000004,
            "bin_end": 0.4,
            "count": 0
           },
           {
            "bin_start": 0.4,
            "bin_end": 0.5,
            "count": 0
           },
           {
            "bin_start": 0.5,
            "bin_end": 0.6000000000000001,
            "count": 66
           },
           {
            "bin_start": 0.6000000000000001,
            "bin_end": 0.7000000000000001,
            "count": 5
           },
           {
            "bin_start": 0.7000000000000001,
            "bin_end": 0.8,
            "count": 10
           },
           {
            "bin_start": 0.8,
            "bin_end": 0.9,
            "count": 0
           },
           {
            "bin_start": 0.9,
            "bin_end": 1,
            "count": 3
           }
          ]
         }
        },
        {
         "name": "sp_attack",
         "dtype": "float64",
         "stats": {
          "unique_count": 56,
          "nan_count": 0,
          "min": "0.05434782608695652",
          "max": "1.0",
          "histogram": [
           {
            "bin_start": 0.05434782608695652,
            "bin_end": 0.14891304347826087,
            "count": 12
           },
           {
            "bin_start": 0.14891304347826087,
            "bin_end": 0.2434782608695652,
            "count": 15
           },
           {
            "bin_start": 0.2434782608695652,
            "bin_end": 0.33804347826086956,
            "count": 22
           },
           {
            "bin_start": 0.33804347826086956,
            "bin_end": 0.4326086956521739,
            "count": 17
           },
           {
            "bin_start": 0.4326086956521739,
            "bin_end": 0.5271739130434783,
            "count": 31
           },
           {
            "bin_start": 0.5271739130434783,
            "bin_end": 0.6217391304347826,
            "count": 11
           },
           {
            "bin_start": 0.6217391304347826,
            "bin_end": 0.716304347826087,
            "count": 19
           },
           {
            "bin_start": 0.716304347826087,
            "bin_end": 0.8108695652173913,
            "count": 5
           },
           {
            "bin_start": 0.8108695652173913,
            "bin_end": 0.9054347826086956,
            "count": 5
           },
           {
            "bin_start": 0.9054347826086956,
            "bin_end": 1,
            "count": 3
           }
          ]
         }
        },
        {
         "name": "weight_kg",
         "dtype": "float64",
         "stats": {
          "unique_count": 115,
          "nan_count": 0,
          "min": "0.0",
          "max": "1.0",
          "histogram": [
           {
            "bin_start": 0,
            "bin_end": 0.1,
            "count": 97
           },
           {
            "bin_start": 0.1,
            "bin_end": 0.2,
            "count": 14
           },
           {
            "bin_start": 0.2,
            "bin_end": 0.30000000000000004,
            "count": 12
           },
           {
            "bin_start": 0.30000000000000004,
            "bin_end": 0.4,
            "count": 9
           },
           {
            "bin_start": 0.4,
            "bin_end": 0.5,
            "count": 2
           },
           {
            "bin_start": 0.5,
            "bin_end": 0.6000000000000001,
            "count": 0
           },
           {
            "bin_start": 0.6000000000000001,
            "bin_end": 0.7000000000000001,
            "count": 1
           },
           {
            "bin_start": 0.7000000000000001,
            "bin_end": 0.8,
            "count": 1
           },
           {
            "bin_start": 0.8,
            "bin_end": 0.9,
            "count": 1
           },
           {
            "bin_start": 0.9,
            "bin_end": 1,
            "count": 3
           }
          ]
         }
        },
        {
         "name": "experience_growth",
         "dtype": "float64",
         "stats": {
          "unique_count": 5,
          "nan_count": 0,
          "min": "0.0",
          "max": "0.625",
          "histogram": [
           {
            "bin_start": 0,
            "bin_end": 0.0625,
            "count": 1
           },
           {
            "bin_start": 0.0625,
            "bin_end": 0.125,
            "count": 0
           },
           {
            "bin_start": 0.125,
            "bin_end": 0.1875,
            "count": 0
           },
           {
            "bin_start": 0.1875,
            "bin_end": 0.25,
            "count": 10
           },
           {
            "bin_start": 0.25,
            "bin_end": 0.3125,
            "count": 0
           },
           {
            "bin_start": 0.3125,
            "bin_end": 0.375,
            "count": 0
           },
           {
            "bin_start": 0.375,
            "bin_end": 0.4375,
            "count": 28
           },
           {
            "bin_start": 0.4375,
            "bin_end": 0.5,
            "count": 20
           },
           {
            "bin_start": 0.5,
            "bin_end": 0.5625,
            "count": 0
           },
           {
            "bin_start": 0.5625,
            "bin_end": 0.625,
            "count": 81
           }
          ]
         }
        },
        {
         "name": "sp_defense",
         "dtype": "float64",
         "stats": {
          "unique_count": 52,
          "nan_count": 0,
          "min": "0.0",
          "max": "0.8571428571428572",
          "histogram": [
           {
            "bin_start": 0,
            "bin_end": 0.08571428571428572,
            "count": 13
           },
           {
            "bin_start": 0.08571428571428572,
            "bin_end": 0.17142857142857143,
            "count": 23
           },
           {
            "bin_start": 0.17142857142857143,
            "bin_end": 0.2571428571428571,
            "count": 13
           },
           {
            "bin_start": 0.2571428571428571,
            "bin_end": 0.34285714285714286,
            "count": 29
           },
           {
            "bin_start": 0.34285714285714286,
            "bin_end": 0.4285714285714286,
            "count": 30
           },
           {
            "bin_start": 0.4285714285714286,
            "bin_end": 0.5142857142857142,
            "count": 16
           },
           {
            "bin_start": 0.5142857142857142,
            "bin_end": 0.6,
            "count": 8
           },
           {
            "bin_start": 0.6,
            "bin_end": 0.6857142857142857,
            "count": 7
           },
           {
            "bin_start": 0.6857142857142857,
            "bin_end": 0.7714285714285715,
            "count": 0
           },
           {
            "bin_start": 0.7714285714285715,
            "bin_end": 0.8571428571428572,
            "count": 1
           }
          ]
         }
        },
        {
         "name": "capture_rate",
         "dtype": "float64",
         "stats": {
          "unique_count": 13,
          "nan_count": 0,
          "min": "0.0",
          "max": "1.0",
          "histogram": [
           {
            "bin_start": 0,
            "bin_end": 0.1,
            "count": 58
           },
           {
            "bin_start": 0.1,
            "bin_end": 0.2,
            "count": 37
           },
           {
            "bin_start": 0.2,
            "bin_end": 0.30000000000000004,
            "count": 14
           },
           {
            "bin_start": 0.30000000000000004,
            "bin_end": 0.4,
            "count": 5
           },
           {
            "bin_start": 0.4,
            "bin_end": 0.5,
            "count": 4
           },
           {
            "bin_start": 0.5,
            "bin_end": 0.6000000000000001,
            "count": 0
           },
           {
            "bin_start": 0.6000000000000001,
            "bin_end": 0.7000000000000001,
            "count": 0
           },
           {
            "bin_start": 0.7000000000000001,
            "bin_end": 0.8,
            "count": 10
           },
           {
            "bin_start": 0.8,
            "bin_end": 0.9,
            "count": 3
           },
           {
            "bin_start": 0.9,
            "bin_end": 1,
            "count": 9
           }
          ]
         }
        },
        {
         "name": "height_m",
         "dtype": "float64",
         "stats": {
          "unique_count": 42,
          "nan_count": 0,
          "min": "0.0",
          "max": "0.6319444444444444",
          "histogram": [
           {
            "bin_start": 0,
            "bin_end": 0.06319444444444444,
            "count": 49
           },
           {
            "bin_start": 0.06319444444444444,
            "bin_end": 0.12638888888888888,
            "count": 56
           },
           {
            "bin_start": 0.12638888888888888,
            "bin_end": 0.18958333333333333,
            "count": 14
           },
           {
            "bin_start": 0.18958333333333333,
            "bin_end": 0.25277777777777777,
            "count": 8
           },
           {
            "bin_start": 0.25277777777777777,
            "bin_end": 0.3159722222222222,
            "count": 6
           },
           {
            "bin_start": 0.3159722222222222,
            "bin_end": 0.37916666666666665,
            "count": 4
           },
           {
            "bin_start": 0.37916666666666665,
            "bin_end": 0.4423611111111111,
            "count": 1
           },
           {
            "bin_start": 0.4423611111111111,
            "bin_end": 0.5055555555555555,
            "count": 1
           },
           {
            "bin_start": 0.5055555555555555,
            "bin_end": 0.56875,
            "count": 0
           },
           {
            "bin_start": 0.56875,
            "bin_end": 0.6319444444444444,
            "count": 1
           }
          ]
         }
        },
        {
         "name": "speed",
         "dtype": "float64",
         "stats": {
          "unique_count": 57,
          "nan_count": 0,
          "min": "0.10857142857142858",
          "max": "0.9999999999999999",
          "histogram": [
           {
            "bin_start": 0.10857142857142858,
            "bin_end": 0.19771428571428573,
            "count": 12
           },
           {
            "bin_start": 0.19771428571428573,
            "bin_end": 0.28685714285714287,
            "count": 20
           },
           {
            "bin_start": 0.28685714285714287,
            "bin_end": 0.376,
            "count": 19
           },
           {
            "bin_start": 0.376,
            "bin_end": 0.46514285714285714,
            "count": 28
           },
           {
            "bin_start": 0.46514285714285714,
            "bin_end": 0.5542857142857143,
            "count": 34
           },
           {
            "bin_start": 0.5542857142857143,
            "bin_end": 0.6434285714285713,
            "count": 18
           },
           {
            "bin_start": 0.6434285714285713,
            "bin_end": 0.7325714285714284,
            "count": 6
           },
           {
            "bin_start": 0.7325714285714284,
            "bin_end": 0.8217142857142856,
            "count": 1
           },
           {
            "bin_start": 0.8217142857142856,
            "bin_end": 0.9108571428571428,
            "count": 1
           },
           {
            "bin_start": 0.9108571428571428,
            "bin_end": 0.9999999999999999,
            "count": 1
           }
          ]
         }
        },
        {
         "name": "hp",
         "dtype": "float64",
         "stats": {
          "unique_count": 49,
          "nan_count": 0,
          "min": "0.11417322834645668",
          "max": "0.8740157480314961",
          "histogram": [
           {
            "bin_start": 0.11417322834645668,
            "bin_end": 0.1901574803149606,
            "count": 18
           },
           {
            "bin_start": 0.1901574803149606,
            "bin_end": 0.26614173228346455,
            "count": 30
           },
           {
            "bin_start": 0.26614173228346455,
            "bin_end": 0.3421259842519685,
            "count": 34
           },
           {
            "bin_start": 0.3421259842519685,
            "bin_end": 0.4181102362204724,
            "count": 41
           },
           {
            "bin_start": 0.4181102362204724,
            "bin_end": 0.4940944881889764,
            "count": 12
           },
           {
            "bin_start": 0.4940944881889764,
            "bin_end": 0.5700787401574803,
            "count": 2
           },
           {
            "bin_start": 0.5700787401574803,
            "bin_end": 0.6460629921259843,
            "count": 1
           },
           {
            "bin_start": 0.6460629921259843,
            "bin_end": 0.7220472440944882,
            "count": 0
           },
           {
            "bin_start": 0.7220472440944882,
            "bin_end": 0.7980314960629921,
            "count": 0
           },
           {
            "bin_start": 0.7980314960629921,
            "bin_end": 0.8740157480314961,
            "count": 2
           }
          ]
         }
        },
        {
         "name": "Beast Boost",
         "dtype": "float64",
         "stats": {
          "unique_count": 2,
          "nan_count": 0,
          "min": "0.0",
          "max": "1.0",
          "histogram": [
           {
            "bin_start": 0,
            "bin_end": 0.1,
            "count": 133
           },
           {
            "bin_start": 0.1,
            "bin_end": 0.2,
            "count": 0
           },
           {
            "bin_start": 0.2,
            "bin_end": 0.30000000000000004,
            "count": 0
           },
           {
            "bin_start": 0.30000000000000004,
            "bin_end": 0.4,
            "count": 0
           },
           {
            "bin_start": 0.4,
            "bin_end": 0.5,
            "count": 0
           },
           {
            "bin_start": 0.5,
            "bin_end": 0.6000000000000001,
            "count": 0
           },
           {
            "bin_start": 0.6000000000000001,
            "bin_end": 0.7000000000000001,
            "count": 0
           },
           {
            "bin_start": 0.7000000000000001,
            "bin_end": 0.8,
            "count": 0
           },
           {
            "bin_start": 0.8,
            "bin_end": 0.9,
            "count": 0
           },
           {
            "bin_start": 0.9,
            "bin_end": 1,
            "count": 7
           }
          ]
         }
        },
        {
         "name": "attack",
         "dtype": "float64",
         "stats": {
          "unique_count": 57,
          "nan_count": 0,
          "min": "0.08333333333333334",
          "max": "1.0000000000000002",
          "histogram": [
           {
            "bin_start": 0.08333333333333334,
            "bin_end": 0.17500000000000004,
            "count": 11
           },
           {
            "bin_start": 0.17500000000000004,
            "bin_end": 0.2666666666666667,
            "count": 8
           },
           {
            "bin_start": 0.2666666666666667,
            "bin_end": 0.3583333333333334,
            "count": 17
           },
           {
            "bin_start": 0.3583333333333334,
            "bin_end": 0.45000000000000007,
            "count": 26
           },
           {
            "bin_start": 0.45000000000000007,
            "bin_end": 0.5416666666666667,
            "count": 29
           },
           {
            "bin_start": 0.5416666666666667,
            "bin_end": 0.6333333333333335,
            "count": 12
           },
           {
            "bin_start": 0.6333333333333335,
            "bin_end": 0.7250000000000002,
            "count": 20
           },
           {
            "bin_start": 0.7250000000000002,
            "bin_end": 0.8166666666666669,
            "count": 7
           },
           {
            "bin_start": 0.8166666666666669,
            "bin_end": 0.9083333333333335,
            "count": 6
           },
           {
            "bin_start": 0.9083333333333335,
            "bin_end": 1.0000000000000002,
            "count": 4
           }
          ]
         }
        },
        {
         "name": "Pressure",
         "dtype": "float64",
         "stats": {
          "unique_count": 2,
          "nan_count": 0,
          "min": "0.0",
          "max": "1.0",
          "histogram": [
           {
            "bin_start": 0,
            "bin_end": 0.1,
            "count": 124
           },
           {
            "bin_start": 0.1,
            "bin_end": 0.2,
            "count": 0
           },
           {
            "bin_start": 0.2,
            "bin_end": 0.30000000000000004,
            "count": 0
           },
           {
            "bin_start": 0.30000000000000004,
            "bin_end": 0.4,
            "count": 0
           },
           {
            "bin_start": 0.4,
            "bin_end": 0.5,
            "count": 0
           },
           {
            "bin_start": 0.5,
            "bin_end": 0.6000000000000001,
            "count": 0
           },
           {
            "bin_start": 0.6000000000000001,
            "bin_end": 0.7000000000000001,
            "count": 0
           },
           {
            "bin_start": 0.7000000000000001,
            "bin_end": 0.8,
            "count": 0
           },
           {
            "bin_start": 0.8,
            "bin_end": 0.9,
            "count": 0
           },
           {
            "bin_start": 0.9,
            "bin_end": 1,
            "count": 16
           }
          ]
         }
        },
        {
         "name": "defense",
         "dtype": "float64",
         "stats": {
          "unique_count": 55,
          "nan_count": 0,
          "min": "0.06666666666666667",
          "max": "0.8666666666666666",
          "histogram": [
           {
            "bin_start": 0.06666666666666667,
            "bin_end": 0.14666666666666667,
            "count": 11
           },
           {
            "bin_start": 0.14666666666666667,
            "bin_end": 0.22666666666666663,
            "count": 19
           },
           {
            "bin_start": 0.22666666666666663,
            "bin_end": 0.30666666666666664,
            "count": 24
           },
           {
            "bin_start": 0.30666666666666664,
            "bin_end": 0.3866666666666666,
            "count": 29
           },
           {
            "bin_start": 0.3866666666666666,
            "bin_end": 0.46666666666666656,
            "count": 25
           },
           {
            "bin_start": 0.46666666666666656,
            "bin_end": 0.5466666666666666,
            "count": 18
           },
           {
            "bin_start": 0.5466666666666666,
            "bin_end": 0.6266666666666666,
            "count": 10
           },
           {
            "bin_start": 0.6266666666666666,
            "bin_end": 0.7066666666666666,
            "count": 3
           },
           {
            "bin_start": 0.7066666666666666,
            "bin_end": 0.7866666666666665,
            "count": 0
           },
           {
            "bin_start": 0.7866666666666665,
            "bin_end": 0.8666666666666666,
            "count": 1
           }
          ]
         }
        },
        {
         "name": "Land Spirit Pokémon",
         "dtype": "float64",
         "stats": {
          "unique_count": 2,
          "nan_count": 0,
          "min": "0.0",
          "max": "1.0",
          "histogram": [
           {
            "bin_start": 0,
            "bin_end": 0.1,
            "count": 136
           },
           {
            "bin_start": 0.1,
            "bin_end": 0.2,
            "count": 0
           },
           {
            "bin_start": 0.2,
            "bin_end": 0.30000000000000004,
            "count": 0
           },
           {
            "bin_start": 0.30000000000000004,
            "bin_end": 0.4,
            "count": 0
           },
           {
            "bin_start": 0.4,
            "bin_end": 0.5,
            "count": 0
           },
           {
            "bin_start": 0.5,
            "bin_end": 0.6000000000000001,
            "count": 0
           },
           {
            "bin_start": 0.6000000000000001,
            "bin_end": 0.7000000000000001,
            "count": 0
           },
           {
            "bin_start": 0.7000000000000001,
            "bin_end": 0.8,
            "count": 0
           },
           {
            "bin_start": 0.8,
            "bin_end": 0.9,
            "count": 0
           },
           {
            "bin_start": 0.9,
            "bin_end": 1,
            "count": 4
           }
          ]
         }
        },
        {
         "name": "1psychic",
         "dtype": "float64",
         "stats": {
          "unique_count": 2,
          "nan_count": 0,
          "min": "0.0",
          "max": "1.0",
          "histogram": [
           {
            "bin_start": 0,
            "bin_end": 0.1,
            "count": 121
           },
           {
            "bin_start": 0.1,
            "bin_end": 0.2,
            "count": 0
           },
           {
            "bin_start": 0.2,
            "bin_end": 0.30000000000000004,
            "count": 0
           },
           {
            "bin_start": 0.30000000000000004,
            "bin_end": 0.4,
            "count": 0
           },
           {
            "bin_start": 0.4,
            "bin_end": 0.5,
            "count": 0
           },
           {
            "bin_start": 0.5,
            "bin_end": 0.6000000000000001,
            "count": 0
           },
           {
            "bin_start": 0.6000000000000001,
            "bin_end": 0.7000000000000001,
            "count": 0
           },
           {
            "bin_start": 0.7000000000000001,
            "bin_end": 0.8,
            "count": 0
           },
           {
            "bin_start": 0.8,
            "bin_end": 0.9,
            "count": 0
           },
           {
            "bin_start": 0.9,
            "bin_end": 1,
            "count": 19
           }
          ]
         }
        },
        {
         "name": "pokedex_number",
         "dtype": "float64",
         "stats": {
          "unique_count": 140,
          "nan_count": 0,
          "min": "0.00375",
          "max": "1.0",
          "histogram": [
           {
            "bin_start": 0.00375,
            "bin_end": 0.103375,
            "count": 10
           },
           {
            "bin_start": 0.103375,
            "bin_end": 0.20299999999999999,
            "count": 13
           },
           {
            "bin_start": 0.20299999999999999,
            "bin_end": 0.302625,
            "count": 12
           },
           {
            "bin_start": 0.302625,
            "bin_end": 0.40224999999999994,
            "count": 12
           },
           {
            "bin_start": 0.40224999999999994,
            "bin_end": 0.501875,
            "count": 17
           },
           {
            "bin_start": 0.501875,
            "bin_end": 0.6015,
            "count": 12
           },
           {
            "bin_start": 0.6015,
            "bin_end": 0.701125,
            "count": 15
           },
           {
            "bin_start": 0.701125,
            "bin_end": 0.80075,
            "count": 10
           },
           {
            "bin_start": 0.80075,
            "bin_end": 0.9003749999999999,
            "count": 18
           },
           {
            "bin_start": 0.9003749999999999,
            "bin_end": 1,
            "count": 21
           }
          ]
         }
        },
        {
         "name": "against_ghost",
         "dtype": "float64",
         "stats": {
          "unique_count": 5,
          "nan_count": 0,
          "min": "0.0",
          "max": "1.0",
          "histogram": [
           {
            "bin_start": 0,
            "bin_end": 0.1,
            "count": 14
           },
           {
            "bin_start": 0.1,
            "bin_end": 0.2,
            "count": 8
           },
           {
            "bin_start": 0.2,
            "bin_end": 0.30000000000000004,
            "count": 87
           },
           {
            "bin_start": 0.30000000000000004,
            "bin_end": 0.4,
            "count": 0
           },
           {
            "bin_start": 0.4,
            "bin_end": 0.5,
            "count": 0
           },
           {
            "bin_start": 0.5,
            "bin_end": 0.6000000000000001,
            "count": 29
           },
           {
            "bin_start": 0.6000000000000001,
            "bin_end": 0.7000000000000001,
            "count": 0
           },
           {
            "bin_start": 0.7000000000000001,
            "bin_end": 0.8,
            "count": 0
           },
           {
            "bin_start": 0.8,
            "bin_end": 0.9,
            "count": 0
           },
           {
            "bin_start": 0.9,
            "bin_end": 1,
            "count": 2
           }
          ]
         }
        },
        {
         "name": "Eon Pokémon",
         "dtype": "float64",
         "stats": {
          "unique_count": 2,
          "nan_count": 0,
          "min": "0.0",
          "max": "1.0",
          "histogram": [
           {
            "bin_start": 0,
            "bin_end": 0.1,
            "count": 138
           },
           {
            "bin_start": 0.1,
            "bin_end": 0.2,
            "count": 0
           },
           {
            "bin_start": 0.2,
            "bin_end": 0.30000000000000004,
            "count": 0
           },
           {
            "bin_start": 0.30000000000000004,
            "bin_end": 0.4,
            "count": 0
           },
           {
            "bin_start": 0.4,
            "bin_end": 0.5,
            "count": 0
           },
           {
            "bin_start": 0.5,
            "bin_end": 0.6000000000000001,
            "count": 0
           },
           {
            "bin_start": 0.6000000000000001,
            "bin_end": 0.7000000000000001,
            "count": 0
           },
           {
            "bin_start": 0.7000000000000001,
            "bin_end": 0.8,
            "count": 0
           },
           {
            "bin_start": 0.8,
            "bin_end": 0.9,
            "count": 0
           },
           {
            "bin_start": 0.9,
            "bin_end": 1,
            "count": 2
           }
          ]
         }
        },
        {
         "name": "Turboblaze",
         "dtype": "float64",
         "stats": {
          "unique_count": 2,
          "nan_count": 0,
          "min": "0.0",
          "max": "1.0",
          "histogram": [
           {
            "bin_start": 0,
            "bin_end": 0.1,
            "count": 138
           },
           {
            "bin_start": 0.1,
            "bin_end": 0.2,
            "count": 0
           },
           {
            "bin_start": 0.2,
            "bin_end": 0.30000000000000004,
            "count": 0
           },
           {
            "bin_start": 0.30000000000000004,
            "bin_end": 0.4,
            "count": 0
           },
           {
            "bin_start": 0.4,
            "bin_end": 0.5,
            "count": 0
           },
           {
            "bin_start": 0.5,
            "bin_end": 0.6000000000000001,
            "count": 0
           },
           {
            "bin_start": 0.6000000000000001,
            "bin_end": 0.7000000000000001,
            "count": 0
           },
           {
            "bin_start": 0.7000000000000001,
            "bin_end": 0.8,
            "count": 0
           },
           {
            "bin_start": 0.8,
            "bin_end": 0.9,
            "count": 0
           },
           {
            "bin_start": 0.9,
            "bin_end": 1,
            "count": 2
           }
          ]
         }
        },
        {
         "name": "Teravolt",
         "dtype": "float64",
         "stats": {
          "unique_count": 2,
          "nan_count": 0,
          "min": "0.0",
          "max": "1.0",
          "histogram": [
           {
            "bin_start": 0,
            "bin_end": 0.1,
            "count": 138
           },
           {
            "bin_start": 0.1,
            "bin_end": 0.2,
            "count": 0
           },
           {
            "bin_start": 0.2,
            "bin_end": 0.30000000000000004,
            "count": 0
           },
           {
            "bin_start": 0.30000000000000004,
            "bin_end": 0.4,
            "count": 0
           },
           {
            "bin_start": 0.4,
            "bin_end": 0.5,
            "count": 0
           },
           {
            "bin_start": 0.5,
            "bin_end": 0.6000000000000001,
            "count": 0
           },
           {
            "bin_start": 0.6000000000000001,
            "bin_end": 0.7000000000000001,
            "count": 0
           },
           {
            "bin_start": 0.7000000000000001,
            "bin_end": 0.8,
            "count": 0
           },
           {
            "bin_start": 0.8,
            "bin_end": 0.9,
            "count": 0
           },
           {
            "bin_start": 0.9,
            "bin_end": 1,
            "count": 2
           }
          ]
         }
        },
        {
         "name": "Telepathy",
         "dtype": "float64",
         "stats": {
          "unique_count": 2,
          "nan_count": 0,
          "min": "0.0",
          "max": "1.0",
          "histogram": [
           {
            "bin_start": 0,
            "bin_end": 0.1,
            "count": 132
           },
           {
            "bin_start": 0.1,
            "bin_end": 0.2,
            "count": 0
           },
           {
            "bin_start": 0.2,
            "bin_end": 0.30000000000000004,
            "count": 0
           },
           {
            "bin_start": 0.30000000000000004,
            "bin_end": 0.4,
            "count": 0
           },
           {
            "bin_start": 0.4,
            "bin_end": 0.5,
            "count": 0
           },
           {
            "bin_start": 0.5,
            "bin_end": 0.6000000000000001,
            "count": 0
           },
           {
            "bin_start": 0.6000000000000001,
            "bin_end": 0.7000000000000001,
            "count": 0
           },
           {
            "bin_start": 0.7000000000000001,
            "bin_end": 0.8,
            "count": 0
           },
           {
            "bin_start": 0.8,
            "bin_end": 0.9,
            "count": 0
           },
           {
            "bin_start": 0.9,
            "bin_end": 1,
            "count": 8
           }
          ]
         }
        },
        {
         "name": "generation",
         "dtype": "float64",
         "stats": {
          "unique_count": 7,
          "nan_count": 0,
          "min": "0.0",
          "max": "0.9999999999999999",
          "histogram": [
           {
            "bin_start": 0,
            "bin_end": 0.09999999999999999,
            "count": 23
           },
           {
            "bin_start": 0.09999999999999999,
            "bin_end": 0.19999999999999998,
            "count": 18
           },
           {
            "bin_start": 0.19999999999999998,
            "bin_end": 0.3,
            "count": 0
           },
           {
            "bin_start": 0.3,
            "bin_end": 0.39999999999999997,
            "count": 19
           },
           {
            "bin_start": 0.39999999999999997,
            "bin_end": 0.49999999999999994,
            "count": 0
           },
           {
            "bin_start": 0.49999999999999994,
            "bin_end": 0.6,
            "count": 26
           },
           {
            "bin_start": 0.6,
            "bin_end": 0.7,
            "count": 23
           },
           {
            "bin_start": 0.7,
            "bin_end": 0.7999999999999999,
            "count": 0
           },
           {
            "bin_start": 0.7999999999999999,
            "bin_end": 0.8999999999999999,
            "count": 10
           },
           {
            "bin_start": 0.8999999999999999,
            "bin_end": 0.9999999999999999,
            "count": 21
           }
          ]
         }
        },
        {
         "name": "against_dark",
         "dtype": "float64",
         "stats": {
          "unique_count": 4,
          "nan_count": 0,
          "min": "0.06666666666666667",
          "max": "1.0",
          "histogram": [
           {
            "bin_start": 0.06666666666666667,
            "bin_end": 0.16,
            "count": 31
           },
           {
            "bin_start": 0.16,
            "bin_end": 0.25333333333333335,
            "count": 79
           },
           {
            "bin_start": 0.25333333333333335,
            "bin_end": 0.3466666666666667,
            "count": 0
           },
           {
            "bin_start": 0.3466666666666667,
            "bin_end": 0.44,
            "count": 0
           },
           {
            "bin_start": 0.44,
            "bin_end": 0.5333333333333333,
            "count": 28
           },
           {
            "bin_start": 0.5333333333333333,
            "bin_end": 0.6266666666666667,
            "count": 0
           },
           {
            "bin_start": 0.6266666666666667,
            "bin_end": 0.72,
            "count": 0
           },
           {
            "bin_start": 0.72,
            "bin_end": 0.8133333333333334,
            "count": 0
           },
           {
            "bin_start": 0.8133333333333334,
            "bin_end": 0.9066666666666667,
            "count": 0
           },
           {
            "bin_start": 0.9066666666666667,
            "bin_end": 1,
            "count": 2
           }
          ]
         }
        },
        {
         "name": "Justified",
         "dtype": "float64",
         "stats": {
          "unique_count": 2,
          "nan_count": 0,
          "min": "0.0",
          "max": "1.0",
          "histogram": [
           {
            "bin_start": 0,
            "bin_end": 0.1,
            "count": 134
           },
           {
            "bin_start": 0.1,
            "bin_end": 0.2,
            "count": 0
           },
           {
            "bin_start": 0.2,
            "bin_end": 0.30000000000000004,
            "count": 0
           },
           {
            "bin_start": 0.30000000000000004,
            "bin_end": 0.4,
            "count": 0
           },
           {
            "bin_start": 0.4,
            "bin_end": 0.5,
            "count": 0
           },
           {
            "bin_start": 0.5,
            "bin_end": 0.6000000000000001,
            "count": 0
           },
           {
            "bin_start": 0.6000000000000001,
            "bin_end": 0.7000000000000001,
            "count": 0
           },
           {
            "bin_start": 0.7000000000000001,
            "bin_end": 0.8,
            "count": 0
           },
           {
            "bin_start": 0.8,
            "bin_end": 0.9,
            "count": 0
           },
           {
            "bin_start": 0.9,
            "bin_end": 1,
            "count": 6
           }
          ]
         }
        },
        {
         "name": "Sea Basin Pokémon",
         "dtype": "float64",
         "stats": {
          "unique_count": 2,
          "nan_count": 0,
          "min": "0.0",
          "max": "1.0",
          "histogram": [
           {
            "bin_start": 0,
            "bin_end": 0.1,
            "count": 139
           },
           {
            "bin_start": 0.1,
            "bin_end": 0.2,
            "count": 0
           },
           {
            "bin_start": 0.2,
            "bin_end": 0.30000000000000004,
            "count": 0
           },
           {
            "bin_start": 0.30000000000000004,
            "bin_end": 0.4,
            "count": 0
           },
           {
            "bin_start": 0.4,
            "bin_end": 0.5,
            "count": 0
           },
           {
            "bin_start": 0.5,
            "bin_end": 0.6000000000000001,
            "count": 0
           },
           {
            "bin_start": 0.6000000000000001,
            "bin_end": 0.7000000000000001,
            "count": 0
           },
           {
            "bin_start": 0.7000000000000001,
            "bin_end": 0.8,
            "count": 0
           },
           {
            "bin_start": 0.8,
            "bin_end": 0.9,
            "count": 0
           },
           {
            "bin_start": 0.9,
            "bin_end": 1,
            "count": 1
           }
          ]
         }
        },
        {
         "name": "Air Lock",
         "dtype": "float64",
         "stats": {
          "unique_count": 2,
          "nan_count": 0,
          "min": "0.0",
          "max": "1.0",
          "histogram": [
           {
            "bin_start": 0,
            "bin_end": 0.1,
            "count": 139
           },
           {
            "bin_start": 0.1,
            "bin_end": 0.2,
            "count": 0
           },
           {
            "bin_start": 0.2,
            "bin_end": 0.30000000000000004,
            "count": 0
           },
           {
            "bin_start": 0.30000000000000004,
            "bin_end": 0.4,
            "count": 0
           },
           {
            "bin_start": 0.4,
            "bin_end": 0.5,
            "count": 0
           },
           {
            "bin_start": 0.5,
            "bin_end": 0.6000000000000001,
            "count": 0
           },
           {
            "bin_start": 0.6000000000000001,
            "bin_end": 0.7000000000000001,
            "count": 0
           },
           {
            "bin_start": 0.7000000000000001,
            "bin_end": 0.8,
            "count": 0
           },
           {
            "bin_start": 0.8,
            "bin_end": 0.9,
            "count": 0
           },
           {
            "bin_start": 0.9,
            "bin_end": 1,
            "count": 1
           }
          ]
         }
        },
        {
         "name": "DNA Pokémon",
         "dtype": "float64",
         "stats": {
          "unique_count": 2,
          "nan_count": 0,
          "min": "0.0",
          "max": "1.0",
          "histogram": [
           {
            "bin_start": 0,
            "bin_end": 0.1,
            "count": 139
           },
           {
            "bin_start": 0.1,
            "bin_end": 0.2,
            "count": 0
           },
           {
            "bin_start": 0.2,
            "bin_end": 0.30000000000000004,
            "count": 0
           },
           {
            "bin_start": 0.30000000000000004,
            "bin_end": 0.4,
            "count": 0
           },
           {
            "bin_start": 0.4,
            "bin_end": 0.5,
            "count": 0
           },
           {
            "bin_start": 0.5,
            "bin_end": 0.6000000000000001,
            "count": 0
           },
           {
            "bin_start": 0.6000000000000001,
            "bin_end": 0.7000000000000001,
            "count": 0
           },
           {
            "bin_start": 0.7000000000000001,
            "bin_end": 0.8,
            "count": 0
           },
           {
            "bin_start": 0.8,
            "bin_end": 0.9,
            "count": 0
           },
           {
            "bin_start": 0.9,
            "bin_end": 1,
            "count": 1
           }
          ]
         }
        },
        {
         "name": "New Species Pokémon",
         "dtype": "float64",
         "stats": {
          "unique_count": 2,
          "nan_count": 0,
          "min": "0.0",
          "max": "1.0",
          "histogram": [
           {
            "bin_start": 0,
            "bin_end": 0.1,
            "count": 139
           },
           {
            "bin_start": 0.1,
            "bin_end": 0.2,
            "count": 0
           },
           {
            "bin_start": 0.2,
            "bin_end": 0.30000000000000004,
            "count": 0
           },
           {
            "bin_start": 0.30000000000000004,
            "bin_end": 0.4,
            "count": 0
           },
           {
            "bin_start": 0.4,
            "bin_end": 0.5,
            "count": 0
           },
           {
            "bin_start": 0.5,
            "bin_end": 0.6000000000000001,
            "count": 0
           },
           {
            "bin_start": 0.6000000000000001,
            "bin_end": 0.7000000000000001,
            "count": 0
           },
           {
            "bin_start": 0.7000000000000001,
            "bin_end": 0.8,
            "count": 0
           },
           {
            "bin_start": 0.8,
            "bin_end": 0.9,
            "count": 0
           },
           {
            "bin_start": 0.9,
            "bin_end": 1,
            "count": 1
           }
          ]
         }
        },
        {
         "name": "Sky High Pokémon",
         "dtype": "float64",
         "stats": {
          "unique_count": 2,
          "nan_count": 0,
          "min": "0.0",
          "max": "1.0",
          "histogram": [
           {
            "bin_start": 0,
            "bin_end": 0.1,
            "count": 139
           },
           {
            "bin_start": 0.1,
            "bin_end": 0.2,
            "count": 0
           },
           {
            "bin_start": 0.2,
            "bin_end": 0.30000000000000004,
            "count": 0
           },
           {
            "bin_start": 0.30000000000000004,
            "bin_end": 0.4,
            "count": 0
           },
           {
            "bin_start": 0.4,
            "bin_end": 0.5,
            "count": 0
           },
           {
            "bin_start": 0.5,
            "bin_end": 0.6000000000000001,
            "count": 0
           },
           {
            "bin_start": 0.6000000000000001,
            "bin_end": 0.7000000000000001,
            "count": 0
           },
           {
            "bin_start": 0.7000000000000001,
            "bin_end": 0.8,
            "count": 0
           },
           {
            "bin_start": 0.8,
            "bin_end": 0.9,
            "count": 0
           },
           {
            "bin_start": 0.9,
            "bin_end": 1,
            "count": 1
           }
          ]
         }
        },
        {
         "name": "Wish Pokémon",
         "dtype": "float64",
         "stats": {
          "unique_count": 2,
          "nan_count": 0,
          "min": "0.0",
          "max": "1.0",
          "histogram": [
           {
            "bin_start": 0,
            "bin_end": 0.1,
            "count": 139
           },
           {
            "bin_start": 0.1,
            "bin_end": 0.2,
            "count": 0
           },
           {
            "bin_start": 0.2,
            "bin_end": 0.30000000000000004,
            "count": 0
           },
           {
            "bin_start": 0.30000000000000004,
            "bin_end": 0.4,
            "count": 0
           },
           {
            "bin_start": 0.4,
            "bin_end": 0.5,
            "count": 0
           },
           {
            "bin_start": 0.5,
            "bin_end": 0.6000000000000001,
            "count": 0
           },
           {
            "bin_start": 0.6000000000000001,
            "bin_end": 0.7000000000000001,
            "count": 0
           },
           {
            "bin_start": 0.7000000000000001,
            "bin_end": 0.8,
            "count": 0
           },
           {
            "bin_start": 0.8,
            "bin_end": 0.9,
            "count": 0
           },
           {
            "bin_start": 0.9,
            "bin_end": 1,
            "count": 1
           }
          ]
         }
        },
        {
         "name": "Iron Pokémon",
         "dtype": "float64",
         "stats": {
          "unique_count": 2,
          "nan_count": 0,
          "min": "0.0",
          "max": "1.0",
          "histogram": [
           {
            "bin_start": 0,
            "bin_end": 0.1,
            "count": 139
           },
           {
            "bin_start": 0.1,
            "bin_end": 0.2,
            "count": 0
           },
           {
            "bin_start": 0.2,
            "bin_end": 0.30000000000000004,
            "count": 0
           },
           {
            "bin_start": 0.30000000000000004,
            "bin_end": 0.4,
            "count": 0
           },
           {
            "bin_start": 0.4,
            "bin_end": 0.5,
            "count": 0
           },
           {
            "bin_start": 0.5,
            "bin_end": 0.6000000000000001,
            "count": 0
           },
           {
            "bin_start": 0.6000000000000001,
            "bin_end": 0.7000000000000001,
            "count": 0
           },
           {
            "bin_start": 0.7000000000000001,
            "bin_end": 0.8,
            "count": 0
           },
           {
            "bin_start": 0.8,
            "bin_end": 0.9,
            "count": 0
           },
           {
            "bin_start": 0.9,
            "bin_end": 1,
            "count": 1
           }
          ]
         }
        },
        {
         "name": "Rock Peak Pokémon",
         "dtype": "float64",
         "stats": {
          "unique_count": 2,
          "nan_count": 0,
          "min": "0.0",
          "max": "1.0",
          "histogram": [
           {
            "bin_start": 0,
            "bin_end": 0.1,
            "count": 139
           },
           {
            "bin_start": 0.1,
            "bin_end": 0.2,
            "count": 0
           },
           {
            "bin_start": 0.2,
            "bin_end": 0.30000000000000004,
            "count": 0
           },
           {
            "bin_start": 0.30000000000000004,
            "bin_end": 0.4,
            "count": 0
           },
           {
            "bin_start": 0.4,
            "bin_end": 0.5,
            "count": 0
           },
           {
            "bin_start": 0.5,
            "bin_end": 0.6000000000000001,
            "count": 0
           },
           {
            "bin_start": 0.6000000000000001,
            "bin_end": 0.7000000000000001,
            "count": 0
           },
           {
            "bin_start": 0.7000000000000001,
            "bin_end": 0.8,
            "count": 0
           },
           {
            "bin_start": 0.8,
            "bin_end": 0.9,
            "count": 0
           },
           {
            "bin_start": 0.9,
            "bin_end": 1,
            "count": 1
           }
          ]
         }
        },
        {
         "name": "Knowledge Pokémon",
         "dtype": "float64",
         "stats": {
          "unique_count": 2,
          "nan_count": 0,
          "min": "0.0",
          "max": "1.0",
          "histogram": [
           {
            "bin_start": 0,
            "bin_end": 0.1,
            "count": 139
           },
           {
            "bin_start": 0.1,
            "bin_end": 0.2,
            "count": 0
           },
           {
            "bin_start": 0.2,
            "bin_end": 0.30000000000000004,
            "count": 0
           },
           {
            "bin_start": 0.30000000000000004,
            "bin_end": 0.4,
            "count": 0
           },
           {
            "bin_start": 0.4,
            "bin_end": 0.5,
            "count": 0
           },
           {
            "bin_start": 0.5,
            "bin_end": 0.6000000000000001,
            "count": 0
           },
           {
            "bin_start": 0.6000000000000001,
            "bin_end": 0.7000000000000001,
            "count": 0
           },
           {
            "bin_start": 0.7000000000000001,
            "bin_end": 0.8,
            "count": 0
           },
           {
            "bin_start": 0.8,
            "bin_end": 0.9,
            "count": 0
           },
           {
            "bin_start": 0.9,
            "bin_end": 1,
            "count": 1
           }
          ]
         }
        },
        {
         "name": "Genetic Pokémon",
         "dtype": "float64",
         "stats": {
          "unique_count": 2,
          "nan_count": 0,
          "min": "0.0",
          "max": "1.0",
          "histogram": [
           {
            "bin_start": 0,
            "bin_end": 0.1,
            "count": 139
           },
           {
            "bin_start": 0.1,
            "bin_end": 0.2,
            "count": 0
           },
           {
            "bin_start": 0.2,
            "bin_end": 0.30000000000000004,
            "count": 0
           },
           {
            "bin_start": 0.30000000000000004,
            "bin_end": 0.4,
            "count": 0
           },
           {
            "bin_start": 0.4,
            "bin_end": 0.5,
            "count": 0
           },
           {
            "bin_start": 0.5,
            "bin_end": 0.6000000000000001,
            "count": 0
           },
           {
            "bin_start": 0.6000000000000001,
            "bin_end": 0.7000000000000001,
            "count": 0
           },
           {
            "bin_start": 0.7000000000000001,
            "bin_end": 0.8,
            "count": 0
           },
           {
            "bin_start": 0.8,
            "bin_end": 0.9,
            "count": 0
           },
           {
            "bin_start": 0.9,
            "bin_end": 1,
            "count": 1
           }
          ]
         }
        },
        {
         "name": "Freeze Pokémon",
         "dtype": "float64",
         "stats": {
          "unique_count": 2,
          "nan_count": 0,
          "min": "0.0",
          "max": "1.0",
          "histogram": [
           {
            "bin_start": 0,
            "bin_end": 0.1,
            "count": 139
           },
           {
            "bin_start": 0.1,
            "bin_end": 0.2,
            "count": 0
           },
           {
            "bin_start": 0.2,
            "bin_end": 0.30000000000000004,
            "count": 0
           },
           {
            "bin_start": 0.30000000000000004,
            "bin_end": 0.4,
            "count": 0
           },
           {
            "bin_start": 0.4,
            "bin_end": 0.5,
            "count": 0
           },
           {
            "bin_start": 0.5,
            "bin_end": 0.6000000000000001,
            "count": 0
           },
           {
            "bin_start": 0.6000000000000001,
            "bin_end": 0.7000000000000001,
            "count": 0
           },
           {
            "bin_start": 0.7000000000000001,
            "bin_end": 0.8,
            "count": 0
           },
           {
            "bin_start": 0.8,
            "bin_end": 0.9,
            "count": 0
           },
           {
            "bin_start": 0.9,
            "bin_end": 1,
            "count": 1
           }
          ]
         }
        },
        {
         "name": "Bad Dreams",
         "dtype": "float64",
         "stats": {
          "unique_count": 2,
          "nan_count": 0,
          "min": "0.0",
          "max": "1.0",
          "histogram": [
           {
            "bin_start": 0,
            "bin_end": 0.1,
            "count": 139
           },
           {
            "bin_start": 0.1,
            "bin_end": 0.2,
            "count": 0
           },
           {
            "bin_start": 0.2,
            "bin_end": 0.30000000000000004,
            "count": 0
           },
           {
            "bin_start": 0.30000000000000004,
            "bin_end": 0.4,
            "count": 0
           },
           {
            "bin_start": 0.4,
            "bin_end": 0.5,
            "count": 0
           },
           {
            "bin_start": 0.5,
            "bin_end": 0.6000000000000001,
            "count": 0
           },
           {
            "bin_start": 0.6000000000000001,
            "bin_end": 0.7000000000000001,
            "count": 0
           },
           {
            "bin_start": 0.7000000000000001,
            "bin_end": 0.8,
            "count": 0
           },
           {
            "bin_start": 0.8,
            "bin_end": 0.9,
            "count": 0
           },
           {
            "bin_start": 0.9,
            "bin_end": 1,
            "count": 1
           }
          ]
         }
        },
        {
         "name": "Pitch-Black Pokémon",
         "dtype": "float64",
         "stats": {
          "unique_count": 2,
          "nan_count": 0,
          "min": "0.0",
          "max": "1.0",
          "histogram": [
           {
            "bin_start": 0,
            "bin_end": 0.1,
            "count": 139
           },
           {
            "bin_start": 0.1,
            "bin_end": 0.2,
            "count": 0
           },
           {
            "bin_start": 0.2,
            "bin_end": 0.30000000000000004,
            "count": 0
           },
           {
            "bin_start": 0.30000000000000004,
            "bin_end": 0.4,
            "count": 0
           },
           {
            "bin_start": 0.4,
            "bin_end": 0.5,
            "count": 0
           },
           {
            "bin_start": 0.5,
            "bin_end": 0.6000000000000001,
            "count": 0
           },
           {
            "bin_start": 0.6000000000000001,
            "bin_end": 0.7000000000000001,
            "count": 0
           },
           {
            "bin_start": 0.7000000000000001,
            "bin_end": 0.8,
            "count": 0
           },
           {
            "bin_start": 0.8,
            "bin_end": 0.9,
            "count": 0
           },
           {
            "bin_start": 0.9,
            "bin_end": 1,
            "count": 1
           }
          ]
         }
        },
        {
         "name": "Order Pokémon",
         "dtype": "float64",
         "stats": {
          "unique_count": 2,
          "nan_count": 0,
          "min": "0.0",
          "max": "1.0",
          "histogram": [
           {
            "bin_start": 0,
            "bin_end": 0.1,
            "count": 139
           },
           {
            "bin_start": 0.1,
            "bin_end": 0.2,
            "count": 0
           },
           {
            "bin_start": 0.2,
            "bin_end": 0.30000000000000004,
            "count": 0
           },
           {
            "bin_start": 0.30000000000000004,
            "bin_end": 0.4,
            "count": 0
           },
           {
            "bin_start": 0.4,
            "bin_end": 0.5,
            "count": 0
           },
           {
            "bin_start": 0.5,
            "bin_end": 0.6000000000000001,
            "count": 0
           },
           {
            "bin_start": 0.6000000000000001,
            "bin_end": 0.7000000000000001,
            "count": 0
           },
           {
            "bin_start": 0.7000000000000001,
            "bin_end": 0.8,
            "count": 0
           },
           {
            "bin_start": 0.8,
            "bin_end": 0.9,
            "count": 0
           },
           {
            "bin_start": 0.9,
            "bin_end": 1,
            "count": 1
           }
          ]
         }
        },
        {
         "name": "Colossal Pokémon",
         "dtype": "float64",
         "stats": {
          "unique_count": 2,
          "nan_count": 0,
          "min": "0.0",
          "max": "1.0",
          "histogram": [
           {
            "bin_start": 0,
            "bin_end": 0.1,
            "count": 139
           },
           {
            "bin_start": 0.1,
            "bin_end": 0.2,
            "count": 0
           },
           {
            "bin_start": 0.2,
            "bin_end": 0.30000000000000004,
            "count": 0
           },
           {
            "bin_start": 0.30000000000000004,
            "bin_end": 0.4,
            "count": 0
           },
           {
            "bin_start": 0.4,
            "bin_end": 0.5,
            "count": 0
           },
           {
            "bin_start": 0.5,
            "bin_end": 0.6000000000000001,
            "count": 0
           },
           {
            "bin_start": 0.6000000000000001,
            "bin_end": 0.7000000000000001,
            "count": 0
           },
           {
            "bin_start": 0.7000000000000001,
            "bin_end": 0.8,
            "count": 0
           },
           {
            "bin_start": 0.8,
            "bin_end": 0.9,
            "count": 0
           },
           {
            "bin_start": 0.9,
            "bin_end": 1,
            "count": 1
           }
          ]
         }
        },
        {
         "name": "Aura Break",
         "dtype": "float64",
         "stats": {
          "unique_count": 2,
          "nan_count": 0,
          "min": "0.0",
          "max": "1.0",
          "histogram": [
           {
            "bin_start": 0,
            "bin_end": 0.1,
            "count": 139
           },
           {
            "bin_start": 0.1,
            "bin_end": 0.2,
            "count": 0
           },
           {
            "bin_start": 0.2,
            "bin_end": 0.30000000000000004,
            "count": 0
           },
           {
            "bin_start": 0.30000000000000004,
            "bin_end": 0.4,
            "count": 0
           },
           {
            "bin_start": 0.4,
            "bin_end": 0.5,
            "count": 0
           },
           {
            "bin_start": 0.5,
            "bin_end": 0.6000000000000001,
            "count": 0
           },
           {
            "bin_start": 0.6000000000000001,
            "bin_end": 0.7000000000000001,
            "count": 0
           },
           {
            "bin_start": 0.7000000000000001,
            "bin_end": 0.8,
            "count": 0
           },
           {
            "bin_start": 0.8,
            "bin_end": 0.9,
            "count": 0
           },
           {
            "bin_start": 0.9,
            "bin_end": 1,
            "count": 1
           }
          ]
         }
        },
        {
         "name": "Slow Start",
         "dtype": "float64",
         "stats": {
          "unique_count": 2,
          "nan_count": 0,
          "min": "0.0",
          "max": "1.0",
          "histogram": [
           {
            "bin_start": 0,
            "bin_end": 0.1,
            "count": 139
           },
           {
            "bin_start": 0.1,
            "bin_end": 0.2,
            "count": 0
           },
           {
            "bin_start": 0.2,
            "bin_end": 0.30000000000000004,
            "count": 0
           },
           {
            "bin_start": 0.30000000000000004,
            "bin_end": 0.4,
            "count": 0
           },
           {
            "bin_start": 0.4,
            "bin_end": 0.5,
            "count": 0
           },
           {
            "bin_start": 0.5,
            "bin_end": 0.6000000000000001,
            "count": 0
           },
           {
            "bin_start": 0.6000000000000001,
            "bin_end": 0.7000000000000001,
            "count": 0
           },
           {
            "bin_start": 0.7000000000000001,
            "bin_end": 0.8,
            "count": 0
           },
           {
            "bin_start": 0.8,
            "bin_end": 0.9,
            "count": 0
           },
           {
            "bin_start": 0.9,
            "bin_end": 1,
            "count": 1
           }
          ]
         }
        },
        {
         "name": "Mischief Pokémon (Confined)Djinn Pokémonn (Unbound)",
         "dtype": "float64",
         "stats": {
          "unique_count": 2,
          "nan_count": 0,
          "min": "0.0",
          "max": "1.0",
          "histogram": [
           {
            "bin_start": 0,
            "bin_end": 0.1,
            "count": 139
           },
           {
            "bin_start": 0.1,
            "bin_end": 0.2,
            "count": 0
           },
           {
            "bin_start": 0.2,
            "bin_end": 0.30000000000000004,
            "count": 0
           },
           {
            "bin_start": 0.30000000000000004,
            "bin_end": 0.4,
            "count": 0
           },
           {
            "bin_start": 0.4,
            "bin_end": 0.5,
            "count": 0
           },
           {
            "bin_start": 0.5,
            "bin_end": 0.6000000000000001,
            "count": 0
           },
           {
            "bin_start": 0.6000000000000001,
            "bin_end": 0.7000000000000001,
            "count": 0
           },
           {
            "bin_start": 0.7000000000000001,
            "bin_end": 0.8,
            "count": 0
           },
           {
            "bin_start": 0.8,
            "bin_end": 0.9,
            "count": 0
           },
           {
            "bin_start": 0.9,
            "bin_end": 1,
            "count": 1
           }
          ]
         }
        },
        {
         "name": "Power Construct",
         "dtype": "float64",
         "stats": {
          "unique_count": 2,
          "nan_count": 0,
          "min": "0.0",
          "max": "1.0",
          "histogram": [
           {
            "bin_start": 0,
            "bin_end": 0.1,
            "count": 139
           },
           {
            "bin_start": 0.1,
            "bin_end": 0.2,
            "count": 0
           },
           {
            "bin_start": 0.2,
            "bin_end": 0.30000000000000004,
            "count": 0
           },
           {
            "bin_start": 0.30000000000000004,
            "bin_end": 0.4,
            "count": 0
           },
           {
            "bin_start": 0.4,
            "bin_end": 0.5,
            "count": 0
           },
           {
            "bin_start": 0.5,
            "bin_end": 0.6000000000000001,
            "count": 0
           },
           {
            "bin_start": 0.6000000000000001,
            "bin_end": 0.7000000000000001,
            "count": 0
           },
           {
            "bin_start": 0.7000000000000001,
            "bin_end": 0.8,
            "count": 0
           },
           {
            "bin_start": 0.8,
            "bin_end": 0.9,
            "count": 0
           },
           {
            "bin_start": 0.9,
            "bin_end": 1,
            "count": 1
           }
          ]
         }
        },
        {
         "name": "Prism Armor",
         "dtype": "float64",
         "stats": {
          "unique_count": 2,
          "nan_count": 0,
          "min": "0.0",
          "max": "1.0",
          "histogram": [
           {
            "bin_start": 0,
            "bin_end": 0.1,
            "count": 139
           },
           {
            "bin_start": 0.1,
            "bin_end": 0.2,
            "count": 0
           },
           {
            "bin_start": 0.2,
            "bin_end": 0.30000000000000004,
            "count": 0
           },
           {
            "bin_start": 0.30000000000000004,
            "bin_end": 0.4,
            "count": 0
           },
           {
            "bin_start": 0.4,
            "bin_end": 0.5,
            "count": 0
           },
           {
            "bin_start": 0.5,
            "bin_end": 0.6000000000000001,
            "count": 0
           },
           {
            "bin_start": 0.6000000000000001,
            "bin_end": 0.7000000000000001,
            "count": 0
           },
           {
            "bin_start": 0.7000000000000001,
            "bin_end": 0.8,
            "count": 0
           },
           {
            "bin_start": 0.8,
            "bin_end": 0.9,
            "count": 0
           },
           {
            "bin_start": 0.9,
            "bin_end": 1,
            "count": 1
           }
          ]
         }
        },
        {
         "name": "Steam Pokémon",
         "dtype": "float64",
         "stats": {
          "unique_count": 2,
          "nan_count": 0,
          "min": "0.0",
          "max": "1.0",
          "histogram": [
           {
            "bin_start": 0,
            "bin_end": 0.1,
            "count": 139
           },
           {
            "bin_start": 0.1,
            "bin_end": 0.2,
            "count": 0
           },
           {
            "bin_start": 0.2,
            "bin_end": 0.30000000000000004,
            "count": 0
           },
           {
            "bin_start": 0.30000000000000004,
            "bin_end": 0.4,
            "count": 0
           },
           {
            "bin_start": 0.4,
            "bin_end": 0.5,
            "count": 0
           },
           {
            "bin_start": 0.5,
            "bin_end": 0.6000000000000001,
            "count": 0
           },
           {
            "bin_start": 0.6000000000000001,
            "bin_end": 0.7000000000000001,
            "count": 0
           },
           {
            "bin_start": 0.7000000000000001,
            "bin_end": 0.8,
            "count": 0
           },
           {
            "bin_start": 0.8,
            "bin_end": 0.9,
            "count": 0
           },
           {
            "bin_start": 0.9,
            "bin_end": 1,
            "count": 1
           }
          ]
         }
        },
        {
         "name": "Lava Dome Pokémon",
         "dtype": "float64",
         "stats": {
          "unique_count": 2,
          "nan_count": 0,
          "min": "0.0",
          "max": "1.0",
          "histogram": [
           {
            "bin_start": 0,
            "bin_end": 0.1,
            "count": 139
           },
           {
            "bin_start": 0.1,
            "bin_end": 0.2,
            "count": 0
           },
           {
            "bin_start": 0.2,
            "bin_end": 0.30000000000000004,
            "count": 0
           },
           {
            "bin_start": 0.30000000000000004,
            "bin_end": 0.4,
            "count": 0
           },
           {
            "bin_start": 0.4,
            "bin_end": 0.5,
            "count": 0
           },
           {
            "bin_start": 0.5,
            "bin_end": 0.6000000000000001,
            "count": 0
           },
           {
            "bin_start": 0.6000000000000001,
            "bin_end": 0.7000000000000001,
            "count": 0
           },
           {
            "bin_start": 0.7000000000000001,
            "bin_end": 0.8,
            "count": 0
           },
           {
            "bin_start": 0.8,
            "bin_end": 0.9,
            "count": 0
           },
           {
            "bin_start": 0.9,
            "bin_end": 1,
            "count": 1
           }
          ]
         }
        },
        {
         "name": "Spatial Pokémon",
         "dtype": "float64",
         "stats": {
          "unique_count": 2,
          "nan_count": 0,
          "min": "0.0",
          "max": "1.0",
          "histogram": [
           {
            "bin_start": 0,
            "bin_end": 0.1,
            "count": 139
           },
           {
            "bin_start": 0.1,
            "bin_end": 0.2,
            "count": 0
           },
           {
            "bin_start": 0.2,
            "bin_end": 0.30000000000000004,
            "count": 0
           },
           {
            "bin_start": 0.30000000000000004,
            "bin_end": 0.4,
            "count": 0
           },
           {
            "bin_start": 0.4,
            "bin_end": 0.5,
            "count": 0
           },
           {
            "bin_start": 0.5,
            "bin_end": 0.6000000000000001,
            "count": 0
           },
           {
            "bin_start": 0.6000000000000001,
            "bin_end": 0.7000000000000001,
            "count": 0
           },
           {
            "bin_start": 0.7000000000000001,
            "bin_end": 0.8,
            "count": 0
           },
           {
            "bin_start": 0.8,
            "bin_end": 0.9,
            "count": 0
           },
           {
            "bin_start": 0.9,
            "bin_end": 1,
            "count": 1
           }
          ]
         }
        },
        {
         "name": "Victory Pokémon",
         "dtype": "float64",
         "stats": {
          "unique_count": 2,
          "nan_count": 0,
          "min": "0.0",
          "max": "1.0",
          "histogram": [
           {
            "bin_start": 0,
            "bin_end": 0.1,
            "count": 139
           },
           {
            "bin_start": 0.1,
            "bin_end": 0.2,
            "count": 0
           },
           {
            "bin_start": 0.2,
            "bin_end": 0.30000000000000004,
            "count": 0
           },
           {
            "bin_start": 0.30000000000000004,
            "bin_end": 0.4,
            "count": 0
           },
           {
            "bin_start": 0.4,
            "bin_end": 0.5,
            "count": 0
           },
           {
            "bin_start": 0.5,
            "bin_end": 0.6000000000000001,
            "count": 0
           },
           {
            "bin_start": 0.6000000000000001,
            "bin_end": 0.7000000000000001,
            "count": 0
           },
           {
            "bin_start": 0.7000000000000001,
            "bin_end": 0.8,
            "count": 0
           },
           {
            "bin_start": 0.8,
            "bin_end": 0.9,
            "count": 0
           },
           {
            "bin_start": 0.9,
            "bin_end": 1,
            "count": 1
           }
          ]
         }
        },
        {
         "name": "Willpower Pokémon",
         "dtype": "float64",
         "stats": {
          "unique_count": 2,
          "nan_count": 0,
          "min": "0.0",
          "max": "1.0",
          "histogram": [
           {
            "bin_start": 0,
            "bin_end": 0.1,
            "count": 139
           },
           {
            "bin_start": 0.1,
            "bin_end": 0.2,
            "count": 0
           },
           {
            "bin_start": 0.2,
            "bin_end": 0.30000000000000004,
            "count": 0
           },
           {
            "bin_start": 0.30000000000000004,
            "bin_end": 0.4,
            "count": 0
           },
           {
            "bin_start": 0.4,
            "bin_end": 0.5,
            "count": 0
           },
           {
            "bin_start": 0.5,
            "bin_end": 0.6000000000000001,
            "count": 0
           },
           {
            "bin_start": 0.6000000000000001,
            "bin_end": 0.7000000000000001,
            "count": 0
           },
           {
            "bin_start": 0.7000000000000001,
            "bin_end": 0.8,
            "count": 0
           },
           {
            "bin_start": 0.8,
            "bin_end": 0.9,
            "count": 0
           },
           {
            "bin_start": 0.9,
            "bin_end": 1,
            "count": 1
           }
          ]
         }
        },
        {
         "name": "Gratitude Pokémon",
         "dtype": "float64",
         "stats": {
          "unique_count": 2,
          "nan_count": 0,
          "min": "0.0",
          "max": "1.0",
          "histogram": [
           {
            "bin_start": 0,
            "bin_end": 0.1,
            "count": 139
           },
           {
            "bin_start": 0.1,
            "bin_end": 0.2,
            "count": 0
           },
           {
            "bin_start": 0.2,
            "bin_end": 0.30000000000000004,
            "count": 0
           },
           {
            "bin_start": 0.30000000000000004,
            "bin_end": 0.4,
            "count": 0
           },
           {
            "bin_start": 0.4,
            "bin_end": 0.5,
            "count": 0
           },
           {
            "bin_start": 0.5,
            "bin_end": 0.6000000000000001,
            "count": 0
           },
           {
            "bin_start": 0.6000000000000001,
            "bin_end": 0.7000000000000001,
            "count": 0
           },
           {
            "bin_start": 0.7000000000000001,
            "bin_end": 0.8,
            "count": 0
           },
           {
            "bin_start": 0.8,
            "bin_end": 0.9,
            "count": 0
           },
           {
            "bin_start": 0.9,
            "bin_end": 1,
            "count": 1
           }
          ]
         }
        },
        {
         "name": "Seafaring Pokémon",
         "dtype": "float64",
         "stats": {
          "unique_count": 2,
          "nan_count": 0,
          "min": "0.0",
          "max": "1.0",
          "histogram": [
           {
            "bin_start": 0,
            "bin_end": 0.1,
            "count": 139
           },
           {
            "bin_start": 0.1,
            "bin_end": 0.2,
            "count": 0
           },
           {
            "bin_start": 0.2,
            "bin_end": 0.30000000000000004,
            "count": 0
           },
           {
            "bin_start": 0.30000000000000004,
            "bin_end": 0.4,
            "count": 0
           },
           {
            "bin_start": 0.4,
            "bin_end": 0.5,
            "count": 0
           },
           {
            "bin_start": 0.5,
            "bin_end": 0.6000000000000001,
            "count": 0
           },
           {
            "bin_start": 0.6000000000000001,
            "bin_end": 0.7000000000000001,
            "count": 0
           },
           {
            "bin_start": 0.7000000000000001,
            "bin_end": 0.8,
            "count": 0
           },
           {
            "bin_start": 0.8,
            "bin_end": 0.9,
            "count": 0
           },
           {
            "bin_start": 0.9,
            "bin_end": 1,
            "count": 1
           }
          ]
         }
        },
        {
         "name": "Victory Star",
         "dtype": "float64",
         "stats": {
          "unique_count": 2,
          "nan_count": 0,
          "min": "0.0",
          "max": "1.0",
          "histogram": [
           {
            "bin_start": 0,
            "bin_end": 0.1,
            "count": 139
           },
           {
            "bin_start": 0.1,
            "bin_end": 0.2,
            "count": 0
           },
           {
            "bin_start": 0.2,
            "bin_end": 0.30000000000000004,
            "count": 0
           },
           {
            "bin_start": 0.30000000000000004,
            "bin_end": 0.4,
            "count": 0
           },
           {
            "bin_start": 0.4,
            "bin_end": 0.5,
            "count": 0
           },
           {
            "bin_start": 0.5,
            "bin_end": 0.6000000000000001,
            "count": 0
           },
           {
            "bin_start": 0.6000000000000001,
            "bin_end": 0.7000000000000001,
            "count": 0
           },
           {
            "bin_start": 0.7000000000000001,
            "bin_end": 0.8,
            "count": 0
           },
           {
            "bin_start": 0.8,
            "bin_end": 0.9,
            "count": 0
           },
           {
            "bin_start": 0.9,
            "bin_end": 1,
            "count": 1
           }
          ]
         }
        },
        {
         "name": "Psychic Surge",
         "dtype": "float64",
         "stats": {
          "unique_count": 2,
          "nan_count": 0,
          "min": "0.0",
          "max": "1.0",
          "histogram": [
           {
            "bin_start": 0,
            "bin_end": 0.1,
            "count": 139
           },
           {
            "bin_start": 0.1,
            "bin_end": 0.2,
            "count": 0
           },
           {
            "bin_start": 0.2,
            "bin_end": 0.30000000000000004,
            "count": 0
           },
           {
            "bin_start": 0.30000000000000004,
            "bin_end": 0.4,
            "count": 0
           },
           {
            "bin_start": 0.4,
            "bin_end": 0.5,
            "count": 0
           },
           {
            "bin_start": 0.5,
            "bin_end": 0.6000000000000001,
            "count": 0
           },
           {
            "bin_start": 0.6000000000000001,
            "bin_end": 0.7000000000000001,
            "count": 0
           },
           {
            "bin_start": 0.7000000000000001,
            "bin_end": 0.8,
            "count": 0
           },
           {
            "bin_start": 0.8,
            "bin_end": 0.9,
            "count": 0
           },
           {
            "bin_start": 0.9,
            "bin_end": 1,
            "count": 1
           }
          ]
         }
        },
        {
         "name": "Prism Pokémon",
         "dtype": "float64",
         "stats": {
          "unique_count": 2,
          "nan_count": 0,
          "min": "0.0",
          "max": "1.0",
          "histogram": [
           {
            "bin_start": 0,
            "bin_end": 0.1,
            "count": 139
           },
           {
            "bin_start": 0.1,
            "bin_end": 0.2,
            "count": 0
           },
           {
            "bin_start": 0.2,
            "bin_end": 0.30000000000000004,
            "count": 0
           },
           {
            "bin_start": 0.30000000000000004,
            "bin_end": 0.4,
            "count": 0
           },
           {
            "bin_start": 0.4,
            "bin_end": 0.5,
            "count": 0
           },
           {
            "bin_start": 0.5,
            "bin_end": 0.6000000000000001,
            "count": 0
           },
           {
            "bin_start": 0.6000000000000001,
            "bin_end": 0.7000000000000001,
            "count": 0
           },
           {
            "bin_start": 0.7000000000000001,
            "bin_end": 0.8,
            "count": 0
           },
           {
            "bin_start": 0.8,
            "bin_end": 0.9,
            "count": 0
           },
           {
            "bin_start": 0.9,
            "bin_end": 1,
            "count": 1
           }
          ]
         }
        },
        {
         "name": "Temporal Pokémon",
         "dtype": "float64",
         "stats": {
          "unique_count": 2,
          "nan_count": 0,
          "min": "0.0",
          "max": "1.0",
          "histogram": [
           {
            "bin_start": 0,
            "bin_end": 0.1,
            "count": 139
           },
           {
            "bin_start": 0.1,
            "bin_end": 0.2,
            "count": 0
           },
           {
            "bin_start": 0.2,
            "bin_end": 0.30000000000000004,
            "count": 0
           },
           {
            "bin_start": 0.30000000000000004,
            "bin_end": 0.4,
            "count": 0
           },
           {
            "bin_start": 0.4,
            "bin_end": 0.5,
            "count": 0
           },
           {
            "bin_start": 0.5,
            "bin_end": 0.6000000000000001,
            "count": 0
           },
           {
            "bin_start": 0.6000000000000001,
            "bin_end": 0.7000000000000001,
            "count": 0
           },
           {
            "bin_start": 0.7000000000000001,
            "bin_end": 0.8,
            "count": 0
           },
           {
            "bin_start": 0.8,
            "bin_end": 0.9,
            "count": 0
           },
           {
            "bin_start": 0.9,
            "bin_end": 1,
            "count": 1
           }
          ]
         }
        },
        {
         "name": "Alpha Pokémon",
         "dtype": "float64",
         "stats": {
          "unique_count": 2,
          "nan_count": 0,
          "min": "0.0",
          "max": "1.0",
          "histogram": [
           {
            "bin_start": 0,
            "bin_end": 0.1,
            "count": 139
           },
           {
            "bin_start": 0.1,
            "bin_end": 0.2,
            "count": 0
           },
           {
            "bin_start": 0.2,
            "bin_end": 0.30000000000000004,
            "count": 0
           },
           {
            "bin_start": 0.30000000000000004,
            "bin_end": 0.4,
            "count": 0
           },
           {
            "bin_start": 0.4,
            "bin_end": 0.5,
            "count": 0
           },
           {
            "bin_start": 0.5,
            "bin_end": 0.6000000000000001,
            "count": 0
           },
           {
            "bin_start": 0.6000000000000001,
            "bin_end": 0.7000000000000001,
            "count": 0
           },
           {
            "bin_start": 0.7000000000000001,
            "bin_end": 0.8,
            "count": 0
           },
           {
            "bin_start": 0.8,
            "bin_end": 0.9,
            "count": 0
           },
           {
            "bin_start": 0.9,
            "bin_end": 1,
            "count": 1
           }
          ]
         }
        },
        {
         "name": "Electric Surge",
         "dtype": "float64",
         "stats": {
          "unique_count": 2,
          "nan_count": 0,
          "min": "0.0",
          "max": "1.0",
          "histogram": [
           {
            "bin_start": 0,
            "bin_end": 0.1,
            "count": 139
           },
           {
            "bin_start": 0.1,
            "bin_end": 0.2,
            "count": 0
           },
           {
            "bin_start": 0.2,
            "bin_end": 0.30000000000000004,
            "count": 0
           },
           {
            "bin_start": 0.30000000000000004,
            "bin_end": 0.4,
            "count": 0
           },
           {
            "bin_start": 0.4,
            "bin_end": 0.5,
            "count": 0
           },
           {
            "bin_start": 0.5,
            "bin_end": 0.6000000000000001,
            "count": 0
           },
           {
            "bin_start": 0.6000000000000001,
            "bin_end": 0.7000000000000001,
            "count": 0
           },
           {
            "bin_start": 0.7000000000000001,
            "bin_end": 0.8,
            "count": 0
           },
           {
            "bin_start": 0.8,
            "bin_end": 0.9,
            "count": 0
           },
           {
            "bin_start": 0.9,
            "bin_end": 1,
            "count": 1
           }
          ]
         }
        },
        {
         "name": "Soul-Heart",
         "dtype": "float64",
         "stats": {
          "unique_count": 2,
          "nan_count": 0,
          "min": "0.0",
          "max": "1.0",
          "histogram": [
           {
            "bin_start": 0,
            "bin_end": 0.1,
            "count": 139
           },
           {
            "bin_start": 0.1,
            "bin_end": 0.2,
            "count": 0
           },
           {
            "bin_start": 0.2,
            "bin_end": 0.30000000000000004,
            "count": 0
           },
           {
            "bin_start": 0.30000000000000004,
            "bin_end": 0.4,
            "count": 0
           },
           {
            "bin_start": 0.4,
            "bin_end": 0.5,
            "count": 0
           },
           {
            "bin_start": 0.5,
            "bin_end": 0.6000000000000001,
            "count": 0
           },
           {
            "bin_start": 0.6000000000000001,
            "bin_end": 0.7000000000000001,
            "count": 0
           },
           {
            "bin_start": 0.7000000000000001,
            "bin_end": 0.8,
            "count": 0
           },
           {
            "bin_start": 0.8,
            "bin_end": 0.9,
            "count": 0
           },
           {
            "bin_start": 0.9,
            "bin_end": 1,
            "count": 1
           }
          ]
         }
        },
        {
         "name": "Dark Aura",
         "dtype": "float64",
         "stats": {
          "unique_count": 2,
          "nan_count": 0,
          "min": "0.0",
          "max": "1.0",
          "histogram": [
           {
            "bin_start": 0,
            "bin_end": 0.1,
            "count": 139
           },
           {
            "bin_start": 0.1,
            "bin_end": 0.2,
            "count": 0
           },
           {
            "bin_start": 0.2,
            "bin_end": 0.30000000000000004,
            "count": 0
           },
           {
            "bin_start": 0.30000000000000004,
            "bin_end": 0.4,
            "count": 0
           },
           {
            "bin_start": 0.4,
            "bin_end": 0.5,
            "count": 0
           },
           {
            "bin_start": 0.5,
            "bin_end": 0.6000000000000001,
            "count": 0
           },
           {
            "bin_start": 0.6000000000000001,
            "bin_end": 0.7000000000000001,
            "count": 0
           },
           {
            "bin_start": 0.7000000000000001,
            "bin_end": 0.8,
            "count": 0
           },
           {
            "bin_start": 0.8,
            "bin_end": 0.9,
            "count": 0
           },
           {
            "bin_start": 0.9,
            "bin_end": 1,
            "count": 1
           }
          ]
         }
        },
        {
         "name": "Renegade Pokémon",
         "dtype": "float64",
         "stats": {
          "unique_count": 2,
          "nan_count": 0,
          "min": "0.0",
          "max": "1.0",
          "histogram": [
           {
            "bin_start": 0,
            "bin_end": 0.1,
            "count": 139
           },
           {
            "bin_start": 0.1,
            "bin_end": 0.2,
            "count": 0
           },
           {
            "bin_start": 0.2,
            "bin_end": 0.30000000000000004,
            "count": 0
           },
           {
            "bin_start": 0.30000000000000004,
            "bin_end": 0.4,
            "count": 0
           },
           {
            "bin_start": 0.4,
            "bin_end": 0.5,
            "count": 0
           },
           {
            "bin_start": 0.5,
            "bin_end": 0.6000000000000001,
            "count": 0
           },
           {
            "bin_start": 0.6000000000000001,
            "bin_end": 0.7000000000000001,
            "count": 0
           },
           {
            "bin_start": 0.7000000000000001,
            "bin_end": 0.8,
            "count": 0
           },
           {
            "bin_start": 0.8,
            "bin_end": 0.9,
            "count": 0
           },
           {
            "bin_start": 0.9,
            "bin_end": 1,
            "count": 1
           }
          ]
         }
        },
        {
         "name": "Artificial Pokémon",
         "dtype": "float64",
         "stats": {
          "unique_count": 2,
          "nan_count": 0,
          "min": "0.0",
          "max": "1.0",
          "histogram": [
           {
            "bin_start": 0,
            "bin_end": 0.1,
            "count": 139
           },
           {
            "bin_start": 0.1,
            "bin_end": 0.2,
            "count": 0
           },
           {
            "bin_start": 0.2,
            "bin_end": 0.30000000000000004,
            "count": 0
           },
           {
            "bin_start": 0.30000000000000004,
            "bin_end": 0.4,
            "count": 0
           },
           {
            "bin_start": 0.4,
            "bin_end": 0.5,
            "count": 0
           },
           {
            "bin_start": 0.5,
            "bin_end": 0.6000000000000001,
            "count": 0
           },
           {
            "bin_start": 0.6000000000000001,
            "bin_end": 0.7000000000000001,
            "count": 0
           },
           {
            "bin_start": 0.7000000000000001,
            "bin_end": 0.8,
            "count": 0
           },
           {
            "bin_start": 0.8,
            "bin_end": 0.9,
            "count": 0
           },
           {
            "bin_start": 0.9,
            "bin_end": 1,
            "count": 1
           }
          ]
         }
        },
        {
         "name": "Rainbow Pokémon",
         "dtype": "float64",
         "stats": {
          "unique_count": 2,
          "nan_count": 0,
          "min": "0.0",
          "max": "1.0",
          "histogram": [
           {
            "bin_start": 0,
            "bin_end": 0.1,
            "count": 139
           },
           {
            "bin_start": 0.1,
            "bin_end": 0.2,
            "count": 0
           },
           {
            "bin_start": 0.2,
            "bin_end": 0.30000000000000004,
            "count": 0
           },
           {
            "bin_start": 0.30000000000000004,
            "bin_end": 0.4,
            "count": 0
           },
           {
            "bin_start": 0.4,
            "bin_end": 0.5,
            "count": 0
           },
           {
            "bin_start": 0.5,
            "bin_end": 0.6000000000000001,
            "count": 0
           },
           {
            "bin_start": 0.6000000000000001,
            "bin_end": 0.7000000000000001,
            "count": 0
           },
           {
            "bin_start": 0.7000000000000001,
            "bin_end": 0.8,
            "count": 0
           },
           {
            "bin_start": 0.8,
            "bin_end": 0.9,
            "count": 0
           },
           {
            "bin_start": 0.9,
            "bin_end": 1,
            "count": 1
           }
          ]
         }
        },
        {
         "name": "Grassy Surge",
         "dtype": "float64",
         "stats": {
          "unique_count": 2,
          "nan_count": 0,
          "min": "0.0",
          "max": "1.0",
          "histogram": [
           {
            "bin_start": 0,
            "bin_end": 0.1,
            "count": 139
           },
           {
            "bin_start": 0.1,
            "bin_end": 0.2,
            "count": 0
           },
           {
            "bin_start": 0.2,
            "bin_end": 0.30000000000000004,
            "count": 0
           },
           {
            "bin_start": 0.30000000000000004,
            "bin_end": 0.4,
            "count": 0
           },
           {
            "bin_start": 0.4,
            "bin_end": 0.5,
            "count": 0
           },
           {
            "bin_start": 0.5,
            "bin_end": 0.6000000000000001,
            "count": 0
           },
           {
            "bin_start": 0.6000000000000001,
            "bin_end": 0.7000000000000001,
            "count": 0
           },
           {
            "bin_start": 0.7000000000000001,
            "bin_end": 0.8,
            "count": 0
           },
           {
            "bin_start": 0.8,
            "bin_end": 0.9,
            "count": 0
           },
           {
            "bin_start": 0.9,
            "bin_end": 1,
            "count": 1
           }
          ]
         }
        },
        {
         "name": "Thunder Pokémon",
         "dtype": "float64",
         "stats": {
          "unique_count": 2,
          "nan_count": 0,
          "min": "0.0",
          "max": "1.0",
          "histogram": [
           {
            "bin_start": 0,
            "bin_end": 0.1,
            "count": 139
           },
           {
            "bin_start": 0.1,
            "bin_end": 0.2,
            "count": 0
           },
           {
            "bin_start": 0.2,
            "bin_end": 0.30000000000000004,
            "count": 0
           },
           {
            "bin_start": 0.30000000000000004,
            "bin_end": 0.4,
            "count": 0
           },
           {
            "bin_start": 0.4,
            "bin_end": 0.5,
            "count": 0
           },
           {
            "bin_start": 0.5,
            "bin_end": 0.6000000000000001,
            "count": 0
           },
           {
            "bin_start": 0.6000000000000001,
            "bin_end": 0.7000000000000001,
            "count": 0
           },
           {
            "bin_start": 0.7000000000000001,
            "bin_end": 0.8,
            "count": 0
           },
           {
            "bin_start": 0.8,
            "bin_end": 0.9,
            "count": 0
           },
           {
            "bin_start": 0.9,
            "bin_end": 1,
            "count": 1
           }
          ]
         }
        },
        {
         "name": "Protostar Pokémon",
         "dtype": "float64",
         "stats": {
          "unique_count": 2,
          "nan_count": 0,
          "min": "0.0",
          "max": "1.0",
          "histogram": [
           {
            "bin_start": 0,
            "bin_end": 0.1,
            "count": 139
           },
           {
            "bin_start": 0.1,
            "bin_end": 0.2,
            "count": 0
           },
           {
            "bin_start": 0.2,
            "bin_end": 0.30000000000000004,
            "count": 0
           },
           {
            "bin_start": 0.30000000000000004,
            "bin_end": 0.4,
            "count": 0
           },
           {
            "bin_start": 0.4,
            "bin_end": 0.5,
            "count": 0
           },
           {
            "bin_start": 0.5,
            "bin_end": 0.6000000000000001,
            "count": 0
           },
           {
            "bin_start": 0.6000000000000001,
            "bin_end": 0.7000000000000001,
            "count": 0
           },
           {
            "bin_start": 0.7000000000000001,
            "bin_end": 0.8,
            "count": 0
           },
           {
            "bin_start": 0.8,
            "bin_end": 0.9,
            "count": 0
           },
           {
            "bin_start": 0.9,
            "bin_end": 1,
            "count": 1
           }
          ]
         }
        },
        {
         "name": "Time Travel Pokémon",
         "dtype": "float64",
         "stats": {
          "unique_count": 2,
          "nan_count": 0,
          "min": "0.0",
          "max": "1.0",
          "histogram": [
           {
            "bin_start": 0,
            "bin_end": 0.1,
            "count": 139
           },
           {
            "bin_start": 0.1,
            "bin_end": 0.2,
            "count": 0
           },
           {
            "bin_start": 0.2,
            "bin_end": 0.30000000000000004,
            "count": 0
           },
           {
            "bin_start": 0.30000000000000004,
            "bin_end": 0.4,
            "count": 0
           },
           {
            "bin_start": 0.4,
            "bin_end": 0.5,
            "count": 0
           },
           {
            "bin_start": 0.5,
            "bin_end": 0.6000000000000001,
            "count": 0
           },
           {
            "bin_start": 0.6000000000000001,
            "bin_end": 0.7000000000000001,
            "count": 0
           },
           {
            "bin_start": 0.7000000000000001,
            "bin_end": 0.8,
            "count": 0
           },
           {
            "bin_start": 0.8,
            "bin_end": 0.9,
            "count": 0
           },
           {
            "bin_start": 0.9,
            "bin_end": 1,
            "count": 1
           }
          ]
         }
        },
        {
         "name": "Parasite Pokémon",
         "dtype": "float64",
         "stats": {
          "unique_count": 2,
          "nan_count": 0,
          "min": "0.0",
          "max": "1.0",
          "histogram": [
           {
            "bin_start": 0,
            "bin_end": 0.1,
            "count": 139
           },
           {
            "bin_start": 0.1,
            "bin_end": 0.2,
            "count": 0
           },
           {
            "bin_start": 0.2,
            "bin_end": 0.30000000000000004,
            "count": 0
           },
           {
            "bin_start": 0.30000000000000004,
            "bin_end": 0.4,
            "count": 0
           },
           {
            "bin_start": 0.4,
            "bin_end": 0.5,
            "count": 0
           },
           {
            "bin_start": 0.5,
            "bin_end": 0.6000000000000001,
            "count": 0
           },
           {
            "bin_start": 0.6000000000000001,
            "bin_end": 0.7000000000000001,
            "count": 0
           },
           {
            "bin_start": 0.7000000000000001,
            "bin_end": 0.8,
            "count": 0
           },
           {
            "bin_start": 0.8,
            "bin_end": 0.9,
            "count": 0
           },
           {
            "bin_start": 0.9,
            "bin_end": 1,
            "count": 1
           }
          ]
         }
        },
        {
         "name": "Fairy Aura",
         "dtype": "float64",
         "stats": {
          "unique_count": 2,
          "nan_count": 0,
          "min": "0.0",
          "max": "1.0",
          "histogram": [
           {
            "bin_start": 0,
            "bin_end": 0.1,
            "count": 139
           },
           {
            "bin_start": 0.1,
            "bin_end": 0.2,
            "count": 0
           },
           {
            "bin_start": 0.2,
            "bin_end": 0.30000000000000004,
            "count": 0
           },
           {
            "bin_start": 0.30000000000000004,
            "bin_end": 0.4,
            "count": 0
           },
           {
            "bin_start": 0.4,
            "bin_end": 0.5,
            "count": 0
           },
           {
            "bin_start": 0.5,
            "bin_end": 0.6000000000000001,
            "count": 0
           },
           {
            "bin_start": 0.6000000000000001,
            "bin_end": 0.7000000000000001,
            "count": 0
           },
           {
            "bin_start": 0.7000000000000001,
            "bin_end": 0.8,
            "count": 0
           },
           {
            "bin_start": 0.8,
            "bin_end": 0.9,
            "count": 0
           },
           {
            "bin_start": 0.9,
            "bin_end": 1,
            "count": 1
           }
          ]
         }
        },
        {
         "name": "Destruction Pokémon",
         "dtype": "float64",
         "stats": {
          "unique_count": 2,
          "nan_count": 0,
          "min": "0.0",
          "max": "1.0",
          "histogram": [
           {
            "bin_start": 0,
            "bin_end": 0.1,
            "count": 139
           },
           {
            "bin_start": 0.1,
            "bin_end": 0.2,
            "count": 0
           },
           {
            "bin_start": 0.2,
            "bin_end": 0.30000000000000004,
            "count": 0
           },
           {
            "bin_start": 0.30000000000000004,
            "bin_end": 0.4,
            "count": 0
           },
           {
            "bin_start": 0.4,
            "bin_end": 0.5,
            "count": 0
           },
           {
            "bin_start": 0.5,
            "bin_end": 0.6000000000000001,
            "count": 0
           },
           {
            "bin_start": 0.6000000000000001,
            "bin_end": 0.7000000000000001,
            "count": 0
           },
           {
            "bin_start": 0.7000000000000001,
            "bin_end": 0.8,
            "count": 0
           },
           {
            "bin_start": 0.8,
            "bin_end": 0.9,
            "count": 0
           },
           {
            "bin_start": 0.9,
            "bin_end": 1,
            "count": 1
           }
          ]
         }
        },
        {
         "name": "Diving Pokémon",
         "dtype": "float64",
         "stats": {
          "unique_count": 2,
          "nan_count": 0,
          "min": "0.0",
          "max": "1.0",
          "histogram": [
           {
            "bin_start": 0,
            "bin_end": 0.1,
            "count": 139
           },
           {
            "bin_start": 0.1,
            "bin_end": 0.2,
            "count": 0
           },
           {
            "bin_start": 0.2,
            "bin_end": 0.30000000000000004,
            "count": 0
           },
           {
            "bin_start": 0.30000000000000004,
            "bin_end": 0.4,
            "count": 0
           },
           {
            "bin_start": 0.4,
            "bin_end": 0.5,
            "count": 0
           },
           {
            "bin_start": 0.5,
            "bin_end": 0.6000000000000001,
            "count": 0
           },
           {
            "bin_start": 0.6000000000000001,
            "bin_end": 0.7000000000000001,
            "count": 0
           },
           {
            "bin_start": 0.7000000000000001,
            "bin_end": 0.8,
            "count": 0
           },
           {
            "bin_start": 0.8,
            "bin_end": 0.9,
            "count": 0
           },
           {
            "bin_start": 0.9,
            "bin_end": 1,
            "count": 1
           }
          ]
         }
        },
        {
         "name": "Lunar Pokémon",
         "dtype": "float64",
         "stats": {
          "unique_count": 2,
          "nan_count": 0,
          "min": "0.0",
          "max": "1.0",
          "histogram": [
           {
            "bin_start": 0,
            "bin_end": 0.1,
            "count": 139
           },
           {
            "bin_start": 0.1,
            "bin_end": 0.2,
            "count": 0
           },
           {
            "bin_start": 0.2,
            "bin_end": 0.30000000000000004,
            "count": 0
           },
           {
            "bin_start": 0.30000000000000004,
            "bin_end": 0.4,
            "count": 0
           },
           {
            "bin_start": 0.4,
            "bin_end": 0.5,
            "count": 0
           },
           {
            "bin_start": 0.5,
            "bin_end": 0.6000000000000001,
            "count": 0
           },
           {
            "bin_start": 0.6000000000000001,
            "bin_end": 0.7000000000000001,
            "count": 0
           },
           {
            "bin_start": 0.7000000000000001,
            "bin_end": 0.8,
            "count": 0
           },
           {
            "bin_start": 0.8,
            "bin_end": 0.9,
            "count": 0
           },
           {
            "bin_start": 0.9,
            "bin_end": 1,
            "count": 1
           }
          ]
         }
        },
        {
         "name": "Drawn Sword Pokémon",
         "dtype": "float64",
         "stats": {
          "unique_count": 2,
          "nan_count": 0,
          "min": "0.0",
          "max": "1.0",
          "histogram": [
           {
            "bin_start": 0,
            "bin_end": 0.1,
            "count": 139
           },
           {
            "bin_start": 0.1,
            "bin_end": 0.2,
            "count": 0
           },
           {
            "bin_start": 0.2,
            "bin_end": 0.30000000000000004,
            "count": 0
           },
           {
            "bin_start": 0.30000000000000004,
            "bin_end": 0.4,
            "count": 0
           },
           {
            "bin_start": 0.4,
            "bin_end": 0.5,
            "count": 0
           },
           {
            "bin_start": 0.5,
            "bin_end": 0.6000000000000001,
            "count": 0
           },
           {
            "bin_start": 0.6000000000000001,
            "bin_end": 0.7000000000000001,
            "count": 0
           },
           {
            "bin_start": 0.7000000000000001,
            "bin_end": 0.8,
            "count": 0
           },
           {
            "bin_start": 0.8,
            "bin_end": 0.9,
            "count": 0
           },
           {
            "bin_start": 0.9,
            "bin_end": 1,
            "count": 1
           }
          ]
         }
        },
        {
         "name": "Life Pokémon",
         "dtype": "float64",
         "stats": {
          "unique_count": 2,
          "nan_count": 0,
          "min": "0.0",
          "max": "1.0",
          "histogram": [
           {
            "bin_start": 0,
            "bin_end": 0.1,
            "count": 139
           },
           {
            "bin_start": 0.1,
            "bin_end": 0.2,
            "count": 0
           },
           {
            "bin_start": 0.2,
            "bin_end": 0.30000000000000004,
            "count": 0
           },
           {
            "bin_start": 0.30000000000000004,
            "bin_end": 0.4,
            "count": 0
           },
           {
            "bin_start": 0.4,
            "bin_end": 0.5,
            "count": 0
           },
           {
            "bin_start": 0.5,
            "bin_end": 0.6000000000000001,
            "count": 0
           },
           {
            "bin_start": 0.6000000000000001,
            "bin_end": 0.7000000000000001,
            "count": 0
           },
           {
            "bin_start": 0.7000000000000001,
            "bin_end": 0.8,
            "count": 0
           },
           {
            "bin_start": 0.8,
            "bin_end": 0.9,
            "count": 0
           },
           {
            "bin_start": 0.9,
            "bin_end": 1,
            "count": 1
           }
          ]
         }
        },
        {
         "name": "Launch Pokémon",
         "dtype": "float64",
         "stats": {
          "unique_count": 2,
          "nan_count": 0,
          "min": "0.0",
          "max": "1.0",
          "histogram": [
           {
            "bin_start": 0,
            "bin_end": 0.1,
            "count": 139
           },
           {
            "bin_start": 0.1,
            "bin_end": 0.2,
            "count": 0
           },
           {
            "bin_start": 0.2,
            "bin_end": 0.30000000000000004,
            "count": 0
           },
           {
            "bin_start": 0.30000000000000004,
            "bin_end": 0.4,
            "count": 0
           },
           {
            "bin_start": 0.4,
            "bin_end": 0.5,
            "count": 0
           },
           {
            "bin_start": 0.5,
            "bin_end": 0.6000000000000001,
            "count": 0
           },
           {
            "bin_start": 0.6000000000000001,
            "bin_end": 0.7000000000000001,
            "count": 0
           },
           {
            "bin_start": 0.7000000000000001,
            "bin_end": 0.8,
            "count": 0
           },
           {
            "bin_start": 0.8,
            "bin_end": 0.9,
            "count": 0
           },
           {
            "bin_start": 0.9,
            "bin_end": 1,
            "count": 1
           }
          ]
         }
        },
        {
         "name": "Multitype",
         "dtype": "float64",
         "stats": {
          "unique_count": 2,
          "nan_count": 0,
          "min": "0.0",
          "max": "1.0",
          "histogram": [
           {
            "bin_start": 0,
            "bin_end": 0.1,
            "count": 139
           },
           {
            "bin_start": 0.1,
            "bin_end": 0.2,
            "count": 0
           },
           {
            "bin_start": 0.2,
            "bin_end": 0.30000000000000004,
            "count": 0
           },
           {
            "bin_start": 0.30000000000000004,
            "bin_end": 0.4,
            "count": 0
           },
           {
            "bin_start": 0.4,
            "bin_end": 0.5,
            "count": 0
           },
           {
            "bin_start": 0.5,
            "bin_end": 0.6000000000000001,
            "count": 0
           },
           {
            "bin_start": 0.6000000000000001,
            "bin_end": 0.7000000000000001,
            "count": 0
           },
           {
            "bin_start": 0.7000000000000001,
            "bin_end": 0.8,
            "count": 0
           },
           {
            "bin_start": 0.8,
            "bin_end": 0.9,
            "count": 0
           },
           {
            "bin_start": 0.9,
            "bin_end": 1,
            "count": 1
           }
          ]
         }
        },
        {
         "name": "Glowing Pokémon",
         "dtype": "float64",
         "stats": {
          "unique_count": 2,
          "nan_count": 0,
          "min": "0.0",
          "max": "1.0",
          "histogram": [
           {
            "bin_start": 0,
            "bin_end": 0.1,
            "count": 139
           },
           {
            "bin_start": 0.1,
            "bin_end": 0.2,
            "count": 0
           },
           {
            "bin_start": 0.2,
            "bin_end": 0.30000000000000004,
            "count": 0
           },
           {
            "bin_start": 0.30000000000000004,
            "bin_end": 0.4,
            "count": 0
           },
           {
            "bin_start": 0.4,
            "bin_end": 0.5,
            "count": 0
           },
           {
            "bin_start": 0.5,
            "bin_end": 0.6000000000000001,
            "count": 0
           },
           {
            "bin_start": 0.6000000000000001,
            "bin_end": 0.7000000000000001,
            "count": 0
           },
           {
            "bin_start": 0.7000000000000001,
            "bin_end": 0.8,
            "count": 0
           },
           {
            "bin_start": 0.8,
            "bin_end": 0.9,
            "count": 0
           },
           {
            "bin_start": 0.9,
            "bin_end": 1,
            "count": 1
           }
          ]
         }
        },
        {
         "name": "Junkivore Pokémon",
         "dtype": "float64",
         "stats": {
          "unique_count": 2,
          "nan_count": 0,
          "min": "0.0",
          "max": "1.0",
          "histogram": [
           {
            "bin_start": 0,
            "bin_end": 0.1,
            "count": 139
           },
           {
            "bin_start": 0.1,
            "bin_end": 0.2,
            "count": 0
           },
           {
            "bin_start": 0.2,
            "bin_end": 0.30000000000000004,
            "count": 0
           },
           {
            "bin_start": 0.30000000000000004,
            "bin_end": 0.4,
            "count": 0
           },
           {
            "bin_start": 0.4,
            "bin_end": 0.5,
            "count": 0
           },
           {
            "bin_start": 0.5,
            "bin_end": 0.6000000000000001,
            "count": 0
           },
           {
            "bin_start": 0.6000000000000001,
            "bin_end": 0.7000000000000001,
            "count": 0
           },
           {
            "bin_start": 0.7000000000000001,
            "bin_end": 0.8,
            "count": 0
           },
           {
            "bin_start": 0.8,
            "bin_end": 0.9,
            "count": 0
           },
           {
            "bin_start": 0.9,
            "bin_end": 1,
            "count": 1
           }
          ]
         }
        },
        {
         "name": "Swollen Pokémon",
         "dtype": "float64",
         "stats": {
          "unique_count": 2,
          "nan_count": 0,
          "min": "0.0",
          "max": "1.0",
          "histogram": [
           {
            "bin_start": 0,
            "bin_end": 0.1,
            "count": 139
           },
           {
            "bin_start": 0.1,
            "bin_end": 0.2,
            "count": 0
           },
           {
            "bin_start": 0.2,
            "bin_end": 0.30000000000000004,
            "count": 0
           },
           {
            "bin_start": 0.30000000000000004,
            "bin_end": 0.4,
            "count": 0
           },
           {
            "bin_start": 0.4,
            "bin_end": 0.5,
            "count": 0
           },
           {
            "bin_start": 0.5,
            "bin_end": 0.6000000000000001,
            "count": 0
           },
           {
            "bin_start": 0.6000000000000001,
            "bin_end": 0.7000000000000001,
            "count": 0
           },
           {
            "bin_start": 0.7000000000000001,
            "bin_end": 0.8,
            "count": 0
           },
           {
            "bin_start": 0.8,
            "bin_end": 0.9,
            "count": 0
           },
           {
            "bin_start": 0.9,
            "bin_end": 1,
            "count": 1
           }
          ]
         }
        },
        {
         "name": "Sunne Pokémon",
         "dtype": "float64",
         "stats": {
          "unique_count": 2,
          "nan_count": 0,
          "min": "0.0",
          "max": "1.0",
          "histogram": [
           {
            "bin_start": 0,
            "bin_end": 0.1,
            "count": 139
           },
           {
            "bin_start": 0.1,
            "bin_end": 0.2,
            "count": 0
           },
           {
            "bin_start": 0.2,
            "bin_end": 0.30000000000000004,
            "count": 0
           },
           {
            "bin_start": 0.30000000000000004,
            "bin_end": 0.4,
            "count": 0
           },
           {
            "bin_start": 0.4,
            "bin_end": 0.5,
            "count": 0
           },
           {
            "bin_start": 0.5,
            "bin_end": 0.6000000000000001,
            "count": 0
           },
           {
            "bin_start": 0.6000000000000001,
            "bin_end": 0.7000000000000001,
            "count": 0
           },
           {
            "bin_start": 0.7000000000000001,
            "bin_end": 0.8,
            "count": 0
           },
           {
            "bin_start": 0.8,
            "bin_end": 0.9,
            "count": 0
           },
           {
            "bin_start": 0.9,
            "bin_end": 1,
            "count": 1
           }
          ]
         }
        },
        {
         "name": "Full Metal Body",
         "dtype": "float64",
         "stats": {
          "unique_count": 2,
          "nan_count": 0,
          "min": "0.0",
          "max": "1.0",
          "histogram": [
           {
            "bin_start": 0,
            "bin_end": 0.1,
            "count": 139
           },
           {
            "bin_start": 0.1,
            "bin_end": 0.2,
            "count": 0
           },
           {
            "bin_start": 0.2,
            "bin_end": 0.30000000000000004,
            "count": 0
           },
           {
            "bin_start": 0.30000000000000004,
            "bin_end": 0.4,
            "count": 0
           },
           {
            "bin_start": 0.4,
            "bin_end": 0.5,
            "count": 0
           },
           {
            "bin_start": 0.5,
            "bin_end": 0.6000000000000001,
            "count": 0
           },
           {
            "bin_start": 0.6000000000000001,
            "bin_end": 0.7000000000000001,
            "count": 0
           },
           {
            "bin_start": 0.7000000000000001,
            "bin_end": 0.8,
            "count": 0
           },
           {
            "bin_start": 0.8,
            "bin_end": 0.9,
            "count": 0
           },
           {
            "bin_start": 0.9,
            "bin_end": 1,
            "count": 1
           }
          ]
         }
        },
        {
         "name": "Misty Surge",
         "dtype": "float64",
         "stats": {
          "unique_count": 2,
          "nan_count": 0,
          "min": "0.0",
          "max": "1.0",
          "histogram": [
           {
            "bin_start": 0,
            "bin_end": 0.1,
            "count": 139
           },
           {
            "bin_start": 0.1,
            "bin_end": 0.2,
            "count": 0
           },
           {
            "bin_start": 0.2,
            "bin_end": 0.30000000000000004,
            "count": 0
           },
           {
            "bin_start": 0.30000000000000004,
            "bin_end": 0.4,
            "count": 0
           },
           {
            "bin_start": 0.4,
            "bin_end": 0.5,
            "count": 0
           },
           {
            "bin_start": 0.5,
            "bin_end": 0.6000000000000001,
            "count": 0
           },
           {
            "bin_start": 0.6000000000000001,
            "bin_end": 0.7000000000000001,
            "count": 0
           },
           {
            "bin_start": 0.7000000000000001,
            "bin_end": 0.8,
            "count": 0
           },
           {
            "bin_start": 0.8,
            "bin_end": 0.9,
            "count": 0
           },
           {
            "bin_start": 0.9,
            "bin_end": 1,
            "count": 1
           }
          ]
         }
        },
        {
         "name": "Aurora Pokémon",
         "dtype": "float64",
         "stats": {
          "unique_count": 2,
          "nan_count": 0,
          "min": "0.0",
          "max": "1.0",
          "histogram": [
           {
            "bin_start": 0,
            "bin_end": 0.1,
            "count": 139
           },
           {
            "bin_start": 0.1,
            "bin_end": 0.2,
            "count": 0
           },
           {
            "bin_start": 0.2,
            "bin_end": 0.30000000000000004,
            "count": 0
           },
           {
            "bin_start": 0.30000000000000004,
            "bin_end": 0.4,
            "count": 0
           },
           {
            "bin_start": 0.4,
            "bin_end": 0.5,
            "count": 0
           },
           {
            "bin_start": 0.5,
            "bin_end": 0.6000000000000001,
            "count": 0
           },
           {
            "bin_start": 0.6000000000000001,
            "bin_end": 0.7000000000000001,
            "count": 0
           },
           {
            "bin_start": 0.7000000000000001,
            "bin_end": 0.8,
            "count": 0
           },
           {
            "bin_start": 0.8,
            "bin_end": 0.9,
            "count": 0
           },
           {
            "bin_start": 0.9,
            "bin_end": 1,
            "count": 1
           }
          ]
         }
        },
        {
         "name": "Shadow Shield",
         "dtype": "float64",
         "stats": {
          "unique_count": 2,
          "nan_count": 0,
          "min": "0.0",
          "max": "1.0",
          "histogram": [
           {
            "bin_start": 0,
            "bin_end": 0.1,
            "count": 139
           },
           {
            "bin_start": 0.1,
            "bin_end": 0.2,
            "count": 0
           },
           {
            "bin_start": 0.2,
            "bin_end": 0.30000000000000004,
            "count": 0
           },
           {
            "bin_start": 0.30000000000000004,
            "bin_end": 0.4,
            "count": 0
           },
           {
            "bin_start": 0.4,
            "bin_end": 0.5,
            "count": 0
           },
           {
            "bin_start": 0.5,
            "bin_end": 0.6000000000000001,
            "count": 0
           },
           {
            "bin_start": 0.6000000000000001,
            "bin_end": 0.7000000000000001,
            "count": 0
           },
           {
            "bin_start": 0.7000000000000001,
            "bin_end": 0.8,
            "count": 0
           },
           {
            "bin_start": 0.8,
            "bin_end": 0.9,
            "count": 0
           },
           {
            "bin_start": 0.9,
            "bin_end": 1,
            "count": 1
           }
          ]
         }
        },
        {
         "name": "Lissome Pokémon",
         "dtype": "float64",
         "stats": {
          "unique_count": 2,
          "nan_count": 0,
          "min": "0.0",
          "max": "1.0",
          "histogram": [
           {
            "bin_start": 0,
            "bin_end": 0.1,
            "count": 139
           },
           {
            "bin_start": 0.1,
            "bin_end": 0.2,
            "count": 0
           },
           {
            "bin_start": 0.2,
            "bin_end": 0.30000000000000004,
            "count": 0
           },
           {
            "bin_start": 0.30000000000000004,
            "bin_end": 0.4,
            "count": 0
           },
           {
            "bin_start": 0.4,
            "bin_end": 0.5,
            "count": 0
           },
           {
            "bin_start": 0.5,
            "bin_end": 0.6000000000000001,
            "count": 0
           },
           {
            "bin_start": 0.6000000000000001,
            "bin_end": 0.7000000000000001,
            "count": 0
           },
           {
            "bin_start": 0.7000000000000001,
            "bin_end": 0.8,
            "count": 0
           },
           {
            "bin_start": 0.8,
            "bin_end": 0.9,
            "count": 0
           },
           {
            "bin_start": 0.9,
            "bin_end": 1,
            "count": 1
           }
          ]
         }
        },
        {
         "name": "Moone Pokémon",
         "dtype": "float64",
         "stats": {
          "unique_count": 2,
          "nan_count": 0,
          "min": "0.0",
          "max": "1.0",
          "histogram": [
           {
            "bin_start": 0,
            "bin_end": 0.1,
            "count": 139
           },
           {
            "bin_start": 0.1,
            "bin_end": 0.2,
            "count": 0
           },
           {
            "bin_start": 0.2,
            "bin_end": 0.30000000000000004,
            "count": 0
           },
           {
            "bin_start": 0.30000000000000004,
            "bin_end": 0.4,
            "count": 0
           },
           {
            "bin_start": 0.4,
            "bin_end": 0.5,
            "count": 0
           },
           {
            "bin_start": 0.5,
            "bin_end": 0.6000000000000001,
            "count": 0
           },
           {
            "bin_start": 0.6000000000000001,
            "bin_end": 0.7000000000000001,
            "count": 0
           },
           {
            "bin_start": 0.7000000000000001,
            "bin_end": 0.8,
            "count": 0
           },
           {
            "bin_start": 0.8,
            "bin_end": 0.9,
            "count": 0
           },
           {
            "bin_start": 0.9,
            "bin_end": 1,
            "count": 1
           }
          ]
         }
        },
        {
         "name": "Nebula Pokémon",
         "dtype": "float64",
         "stats": {
          "unique_count": 2,
          "nan_count": 0,
          "min": "0.0",
          "max": "1.0",
          "histogram": [
           {
            "bin_start": 0,
            "bin_end": 0.1,
            "count": 139
           },
           {
            "bin_start": 0.1,
            "bin_end": 0.2,
            "count": 0
           },
           {
            "bin_start": 0.2,
            "bin_end": 0.30000000000000004,
            "count": 0
           },
           {
            "bin_start": 0.30000000000000004,
            "bin_end": 0.4,
            "count": 0
           },
           {
            "bin_start": 0.4,
            "bin_end": 0.5,
            "count": 0
           },
           {
            "bin_start": 0.5,
            "bin_end": 0.6000000000000001,
            "count": 0
           },
           {
            "bin_start": 0.6000000000000001,
            "bin_end": 0.7000000000000001,
            "count": 0
           },
           {
            "bin_start": 0.7000000000000001,
            "bin_end": 0.8,
            "count": 0
           },
           {
            "bin_start": 0.8,
            "bin_end": 0.9,
            "count": 0
           },
           {
            "bin_start": 0.9,
            "bin_end": 1,
            "count": 1
           }
          ]
         }
        },
        {
         "name": "Bolt Strike Pokémon",
         "dtype": "float64",
         "stats": {
          "unique_count": 2,
          "nan_count": 0,
          "min": "0.0",
          "max": "1.0",
          "histogram": [
           {
            "bin_start": 0,
            "bin_end": 0.1,
            "count": 139
           },
           {
            "bin_start": 0.1,
            "bin_end": 0.2,
            "count": 0
           },
           {
            "bin_start": 0.2,
            "bin_end": 0.30000000000000004,
            "count": 0
           },
           {
            "bin_start": 0.30000000000000004,
            "bin_end": 0.4,
            "count": 0
           },
           {
            "bin_start": 0.4,
            "bin_end": 0.5,
            "count": 0
           },
           {
            "bin_start": 0.5,
            "bin_end": 0.6000000000000001,
            "count": 0
           },
           {
            "bin_start": 0.6000000000000001,
            "bin_end": 0.7000000000000001,
            "count": 0
           },
           {
            "bin_start": 0.7000000000000001,
            "bin_end": 0.8,
            "count": 0
           },
           {
            "bin_start": 0.8,
            "bin_end": 0.9,
            "count": 0
           },
           {
            "bin_start": 0.9,
            "bin_end": 1,
            "count": 1
           }
          ]
         }
        },
        {
         "name": "Boundary Pokémon",
         "dtype": "float64",
         "stats": {
          "unique_count": 2,
          "nan_count": 0,
          "min": "0.0",
          "max": "1.0",
          "histogram": [
           {
            "bin_start": 0,
            "bin_end": 0.1,
            "count": 139
           },
           {
            "bin_start": 0.1,
            "bin_end": 0.2,
            "count": 0
           },
           {
            "bin_start": 0.2,
            "bin_end": 0.30000000000000004,
            "count": 0
           },
           {
            "bin_start": 0.30000000000000004,
            "bin_end": 0.4,
            "count": 0
           },
           {
            "bin_start": 0.4,
            "bin_end": 0.5,
            "count": 0
           },
           {
            "bin_start": 0.5,
            "bin_end": 0.6000000000000001,
            "count": 0
           },
           {
            "bin_start": 0.6000000000000001,
            "bin_end": 0.7000000000000001,
            "count": 0
           },
           {
            "bin_start": 0.7000000000000001,
            "bin_end": 0.8,
            "count": 0
           },
           {
            "bin_start": 0.8,
            "bin_end": 0.9,
            "count": 0
           },
           {
            "bin_start": 0.9,
            "bin_end": 1,
            "count": 1
           }
          ]
         }
        },
        {
         "name": "Vast White Pokémon",
         "dtype": "float64",
         "stats": {
          "unique_count": 2,
          "nan_count": 0,
          "min": "0.0",
          "max": "1.0",
          "histogram": [
           {
            "bin_start": 0,
            "bin_end": 0.1,
            "count": 139
           },
           {
            "bin_start": 0.1,
            "bin_end": 0.2,
            "count": 0
           },
           {
            "bin_start": 0.2,
            "bin_end": 0.30000000000000004,
            "count": 0
           },
           {
            "bin_start": 0.30000000000000004,
            "bin_end": 0.4,
            "count": 0
           },
           {
            "bin_start": 0.4,
            "bin_end": 0.5,
            "count": 0
           },
           {
            "bin_start": 0.5,
            "bin_end": 0.6000000000000001,
            "count": 0
           },
           {
            "bin_start": 0.6000000000000001,
            "bin_end": 0.7000000000000001,
            "count": 0
           },
           {
            "bin_start": 0.7000000000000001,
            "bin_end": 0.8,
            "count": 0
           },
           {
            "bin_start": 0.8,
            "bin_end": 0.9,
            "count": 0
           },
           {
            "bin_start": 0.9,
            "bin_end": 1,
            "count": 1
           }
          ]
         }
        },
        {
         "name": "Abundance Pokémon",
         "dtype": "float64",
         "stats": {
          "unique_count": 2,
          "nan_count": 0,
          "min": "0.0",
          "max": "1.0",
          "histogram": [
           {
            "bin_start": 0,
            "bin_end": 0.1,
            "count": 139
           },
           {
            "bin_start": 0.1,
            "bin_end": 0.2,
            "count": 0
           },
           {
            "bin_start": 0.2,
            "bin_end": 0.30000000000000004,
            "count": 0
           },
           {
            "bin_start": 0.30000000000000004,
            "bin_end": 0.4,
            "count": 0
           },
           {
            "bin_start": 0.4,
            "bin_end": 0.5,
            "count": 0
           },
           {
            "bin_start": 0.5,
            "bin_end": 0.6000000000000001,
            "count": 0
           },
           {
            "bin_start": 0.6000000000000001,
            "bin_end": 0.7000000000000001,
            "count": 0
           },
           {
            "bin_start": 0.7000000000000001,
            "bin_end": 0.8,
            "count": 0
           },
           {
            "bin_start": 0.8,
            "bin_end": 0.9,
            "count": 0
           },
           {
            "bin_start": 0.9,
            "bin_end": 1,
            "count": 1
           }
          ]
         }
        },
        {
         "name": "Melody Pokémon",
         "dtype": "float64",
         "stats": {
          "unique_count": 2,
          "nan_count": 0,
          "min": "0.0",
          "max": "1.0",
          "histogram": [
           {
            "bin_start": 0,
            "bin_end": 0.1,
            "count": 139
           },
           {
            "bin_start": 0.1,
            "bin_end": 0.2,
            "count": 0
           },
           {
            "bin_start": 0.2,
            "bin_end": 0.30000000000000004,
            "count": 0
           },
           {
            "bin_start": 0.30000000000000004,
            "bin_end": 0.4,
            "count": 0
           },
           {
            "bin_start": 0.4,
            "bin_end": 0.5,
            "count": 0
           },
           {
            "bin_start": 0.5,
            "bin_end": 0.6000000000000001,
            "count": 0
           },
           {
            "bin_start": 0.6000000000000001,
            "bin_end": 0.7000000000000001,
            "count": 0
           },
           {
            "bin_start": 0.7000000000000001,
            "bin_end": 0.8,
            "count": 0
           },
           {
            "bin_start": 0.8,
            "bin_end": 0.9,
            "count": 0
           },
           {
            "bin_start": 0.9,
            "bin_end": 1,
            "count": 1
           }
          ]
         }
        },
        {
         "name": "Colt Pokémon",
         "dtype": "float64",
         "stats": {
          "unique_count": 2,
          "nan_count": 0,
          "min": "0.0",
          "max": "1.0",
          "histogram": [
           {
            "bin_start": 0,
            "bin_end": 0.1,
            "count": 139
           },
           {
            "bin_start": 0.1,
            "bin_end": 0.2,
            "count": 0
           },
           {
            "bin_start": 0.2,
            "bin_end": 0.30000000000000004,
            "count": 0
           },
           {
            "bin_start": 0.30000000000000004,
            "bin_end": 0.4,
            "count": 0
           },
           {
            "bin_start": 0.4,
            "bin_end": 0.5,
            "count": 0
           },
           {
            "bin_start": 0.5,
            "bin_end": 0.6000000000000001,
            "count": 0
           },
           {
            "bin_start": 0.6000000000000001,
            "bin_end": 0.7000000000000001,
            "count": 0
           },
           {
            "bin_start": 0.7000000000000001,
            "bin_end": 0.8,
            "count": 0
           },
           {
            "bin_start": 0.8,
            "bin_end": 0.9,
            "count": 0
           },
           {
            "bin_start": 0.9,
            "bin_end": 1,
            "count": 1
           }
          ]
         }
        },
        {
         "name": "Paleozoic Pokémon",
         "dtype": "float64",
         "stats": {
          "unique_count": 2,
          "nan_count": 0,
          "min": "0.0",
          "max": "1.0",
          "histogram": [
           {
            "bin_start": 0,
            "bin_end": 0.1,
            "count": 139
           },
           {
            "bin_start": 0.1,
            "bin_end": 0.2,
            "count": 0
           },
           {
            "bin_start": 0.2,
            "bin_end": 0.30000000000000004,
            "count": 0
           },
           {
            "bin_start": 0.30000000000000004,
            "bin_end": 0.4,
            "count": 0
           },
           {
            "bin_start": 0.4,
            "bin_end": 0.5,
            "count": 0
           },
           {
            "bin_start": 0.5,
            "bin_end": 0.6000000000000001,
            "count": 0
           },
           {
            "bin_start": 0.6000000000000001,
            "bin_end": 0.7000000000000001,
            "count": 0
           },
           {
            "bin_start": 0.7000000000000001,
            "bin_end": 0.8,
            "count": 0
           },
           {
            "bin_start": 0.8,
            "bin_end": 0.9,
            "count": 0
           },
           {
            "bin_start": 0.9,
            "bin_end": 1,
            "count": 1
           }
          ]
         }
        },
        {
         "name": "Cyclone Pokémon",
         "dtype": "float64",
         "stats": {
          "unique_count": 2,
          "nan_count": 0,
          "min": "0.0",
          "max": "1.0",
          "histogram": [
           {
            "bin_start": 0,
            "bin_end": 0.1,
            "count": 139
           },
           {
            "bin_start": 0.1,
            "bin_end": 0.2,
            "count": 0
           },
           {
            "bin_start": 0.2,
            "bin_end": 0.30000000000000004,
            "count": 0
           },
           {
            "bin_start": 0.30000000000000004,
            "bin_end": 0.4,
            "count": 0
           },
           {
            "bin_start": 0.4,
            "bin_end": 0.5,
            "count": 0
           },
           {
            "bin_start": 0.5,
            "bin_end": 0.6000000000000001,
            "count": 0
           },
           {
            "bin_start": 0.6000000000000001,
            "bin_end": 0.7000000000000001,
            "count": 0
           },
           {
            "bin_start": 0.7000000000000001,
            "bin_end": 0.8,
            "count": 0
           },
           {
            "bin_start": 0.8,
            "bin_end": 0.9,
            "count": 0
           },
           {
            "bin_start": 0.9,
            "bin_end": 1,
            "count": 1
           }
          ]
         }
        },
        {
         "name": "Deep Black Pokémon",
         "dtype": "float64",
         "stats": {
          "unique_count": 2,
          "nan_count": 0,
          "min": "0.0",
          "max": "1.0",
          "histogram": [
           {
            "bin_start": 0,
            "bin_end": 0.1,
            "count": 139
           },
           {
            "bin_start": 0.1,
            "bin_end": 0.2,
            "count": 0
           },
           {
            "bin_start": 0.2,
            "bin_end": 0.30000000000000004,
            "count": 0
           },
           {
            "bin_start": 0.30000000000000004,
            "bin_end": 0.4,
            "count": 0
           },
           {
            "bin_start": 0.4,
            "bin_end": 0.5,
            "count": 0
           },
           {
            "bin_start": 0.5,
            "bin_end": 0.6000000000000001,
            "count": 0
           },
           {
            "bin_start": 0.6000000000000001,
            "bin_end": 0.7000000000000001,
            "count": 0
           },
           {
            "bin_start": 0.7000000000000001,
            "bin_end": 0.8,
            "count": 0
           },
           {
            "bin_start": 0.8,
            "bin_end": 0.9,
            "count": 0
           },
           {
            "bin_start": 0.9,
            "bin_end": 1,
            "count": 1
           }
          ]
         }
        },
        {
         "name": "Iron Will Pokémon",
         "dtype": "float64",
         "stats": {
          "unique_count": 2,
          "nan_count": 0,
          "min": "0.0",
          "max": "1.0",
          "histogram": [
           {
            "bin_start": 0,
            "bin_end": 0.1,
            "count": 139
           },
           {
            "bin_start": 0.1,
            "bin_end": 0.2,
            "count": 0
           },
           {
            "bin_start": 0.2,
            "bin_end": 0.30000000000000004,
            "count": 0
           },
           {
            "bin_start": 0.30000000000000004,
            "bin_end": 0.4,
            "count": 0
           },
           {
            "bin_start": 0.4,
            "bin_end": 0.5,
            "count": 0
           },
           {
            "bin_start": 0.5,
            "bin_end": 0.6000000000000001,
            "count": 0
           },
           {
            "bin_start": 0.6000000000000001,
            "bin_end": 0.7000000000000001,
            "count": 0
           },
           {
            "bin_start": 0.7000000000000001,
            "bin_end": 0.8,
            "count": 0
           },
           {
            "bin_start": 0.8,
            "bin_end": 0.9,
            "count": 0
           },
           {
            "bin_start": 0.9,
            "bin_end": 1,
            "count": 1
           }
          ]
         }
        },
        {
         "name": "Cavern Pokémon",
         "dtype": "float64",
         "stats": {
          "unique_count": 2,
          "nan_count": 0,
          "min": "0.0",
          "max": "1.0",
          "histogram": [
           {
            "bin_start": 0,
            "bin_end": 0.1,
            "count": 139
           },
           {
            "bin_start": 0.1,
            "bin_end": 0.2,
            "count": 0
           },
           {
            "bin_start": 0.2,
            "bin_end": 0.30000000000000004,
            "count": 0
           },
           {
            "bin_start": 0.30000000000000004,
            "bin_end": 0.4,
            "count": 0
           },
           {
            "bin_start": 0.4,
            "bin_end": 0.5,
            "count": 0
           },
           {
            "bin_start": 0.5,
            "bin_end": 0.6000000000000001,
            "count": 0
           },
           {
            "bin_start": 0.6000000000000001,
            "bin_end": 0.7000000000000001,
            "count": 0
           },
           {
            "bin_start": 0.7000000000000001,
            "bin_end": 0.8,
            "count": 0
           },
           {
            "bin_start": 0.8,
            "bin_end": 0.9,
            "count": 0
           },
           {
            "bin_start": 0.9,
            "bin_end": 1,
            "count": 1
           }
          ]
         }
        },
        {
         "name": "Grassland Pokémon",
         "dtype": "float64",
         "stats": {
          "unique_count": 2,
          "nan_count": 0,
          "min": "0.0",
          "max": "1.0",
          "histogram": [
           {
            "bin_start": 0,
            "bin_end": 0.1,
            "count": 139
           },
           {
            "bin_start": 0.1,
            "bin_end": 0.2,
            "count": 0
           },
           {
            "bin_start": 0.2,
            "bin_end": 0.30000000000000004,
            "count": 0
           },
           {
            "bin_start": 0.30000000000000004,
            "bin_end": 0.4,
            "count": 0
           },
           {
            "bin_start": 0.4,
            "bin_end": 0.5,
            "count": 0
           },
           {
            "bin_start": 0.5,
            "bin_end": 0.6000000000000001,
            "count": 0
           },
           {
            "bin_start": 0.6000000000000001,
            "bin_end": 0.7000000000000001,
            "count": 0
           },
           {
            "bin_start": 0.7000000000000001,
            "bin_end": 0.8,
            "count": 0
           },
           {
            "bin_start": 0.8,
            "bin_end": 0.9,
            "count": 0
           },
           {
            "bin_start": 0.9,
            "bin_end": 1,
            "count": 1
           }
          ]
         }
        },
        {
         "name": "1dragon",
         "dtype": "float64",
         "stats": {
          "unique_count": 2,
          "nan_count": 0,
          "min": "0.0",
          "max": "1.0",
          "histogram": [
           {
            "bin_start": 0,
            "bin_end": 0.1,
            "count": 131
           },
           {
            "bin_start": 0.1,
            "bin_end": 0.2,
            "count": 0
           },
           {
            "bin_start": 0.2,
            "bin_end": 0.30000000000000004,
            "count": 0
           },
           {
            "bin_start": 0.30000000000000004,
            "bin_end": 0.4,
            "count": 0
           },
           {
            "bin_start": 0.4,
            "bin_end": 0.5,
            "count": 0
           },
           {
            "bin_start": 0.5,
            "bin_end": 0.6000000000000001,
            "count": 0
           },
           {
            "bin_start": 0.6000000000000001,
            "bin_end": 0.7000000000000001,
            "count": 0
           },
           {
            "bin_start": 0.7000000000000001,
            "bin_end": 0.8,
            "count": 0
           },
           {
            "bin_start": 0.8,
            "bin_end": 0.9,
            "count": 0
           },
           {
            "bin_start": 0.9,
            "bin_end": 1,
            "count": 9
           }
          ]
         }
        },
        {
         "name": "against_psychic",
         "dtype": "float64",
         "stats": {
          "unique_count": 5,
          "nan_count": 0,
          "min": "0.0",
          "max": "0.5",
          "histogram": [
           {
            "bin_start": 0,
            "bin_end": 0.05,
            "count": 8
           },
           {
            "bin_start": 0.05,
            "bin_end": 0.1,
            "count": 2
           },
           {
            "bin_start": 0.1,
            "bin_end": 0.15000000000000002,
            "count": 30
           },
           {
            "bin_start": 0.15000000000000002,
            "bin_end": 0.2,
            "count": 0
           },
           {
            "bin_start": 0.2,
            "bin_end": 0.25,
            "count": 0
           },
           {
            "bin_start": 0.25,
            "bin_end": 0.30000000000000004,
            "count": 82
           },
           {
            "bin_start": 0.30000000000000004,
            "bin_end": 0.35000000000000003,
            "count": 0
           },
           {
            "bin_start": 0.35000000000000003,
            "bin_end": 0.4,
            "count": 0
           },
           {
            "bin_start": 0.4,
            "bin_end": 0.45,
            "count": 0
           },
           {
            "bin_start": 0.45,
            "bin_end": 0.5,
            "count": 18
           }
          ]
         }
        },
        {
         "name": "1steel",
         "dtype": "float64",
         "stats": {
          "unique_count": 2,
          "nan_count": 0,
          "min": "0.0",
          "max": "1.0",
          "histogram": [
           {
            "bin_start": 0,
            "bin_end": 0.1,
            "count": 132
           },
           {
            "bin_start": 0.1,
            "bin_end": 0.2,
            "count": 0
           },
           {
            "bin_start": 0.2,
            "bin_end": 0.30000000000000004,
            "count": 0
           },
           {
            "bin_start": 0.30000000000000004,
            "bin_end": 0.4,
            "count": 0
           },
           {
            "bin_start": 0.4,
            "bin_end": 0.5,
            "count": 0
           },
           {
            "bin_start": 0.5,
            "bin_end": 0.6000000000000001,
            "count": 0
           },
           {
            "bin_start": 0.6000000000000001,
            "bin_end": 0.7000000000000001,
            "count": 0
           },
           {
            "bin_start": 0.7000000000000001,
            "bin_end": 0.8,
            "count": 0
           },
           {
            "bin_start": 0.8,
            "bin_end": 0.9,
            "count": 0
           },
           {
            "bin_start": 0.9,
            "bin_end": 1,
            "count": 8
           }
          ]
         }
        },
        {
         "name": "Clear Body",
         "dtype": "float64",
         "stats": {
          "unique_count": 2,
          "nan_count": 0,
          "min": "0.0",
          "max": "1.0",
          "histogram": [
           {
            "bin_start": 0,
            "bin_end": 0.1,
            "count": 136
           },
           {
            "bin_start": 0.1,
            "bin_end": 0.2,
            "count": 0
           },
           {
            "bin_start": 0.2,
            "bin_end": 0.30000000000000004,
            "count": 0
           },
           {
            "bin_start": 0.30000000000000004,
            "bin_end": 0.4,
            "count": 0
           },
           {
            "bin_start": 0.4,
            "bin_end": 0.5,
            "count": 0
           },
           {
            "bin_start": 0.5,
            "bin_end": 0.6000000000000001,
            "count": 0
           },
           {
            "bin_start": 0.6000000000000001,
            "bin_end": 0.7000000000000001,
            "count": 0
           },
           {
            "bin_start": 0.7000000000000001,
            "bin_end": 0.8,
            "count": 0
           },
           {
            "bin_start": 0.8,
            "bin_end": 0.9,
            "count": 0
           },
           {
            "bin_start": 0.9,
            "bin_end": 1,
            "count": 4
           }
          ]
         }
        },
        {
         "name": "_deepnote_index_column",
         "dtype": "int64"
        }
       ],
       "rows_top": [
        {
         "is_legendary": 0,
         "base_egg_steps": 0.13043478260869565,
         "base_total": 0.21499999999999997,
         "base_happiness": 0.5,
         "sp_attack": 0.2717391304347826,
         "weight_kg": 0.008401680336067212,
         "experience_growth": 0.44217307692307695,
         "sp_defense": 0.14285714285714285,
         "capture_rate": 0.16666666666666663,
         "height_m": 0.03472222222222222,
         "speed": 0.34285714285714286,
         "hp": 0.14960629921259844,
         "Beast Boost": 0,
         "attack": 0.2611111111111111,
         "Pressure": 0,
         "defense": 0.1688888888888889,
         "Land Spirit Pokémon": 0,
         "1psychic": 0,
         "pokedex_number": 0.00375,
         "against_ghost": 0.25,
         "Eon Pokémon": 0,
         "Turboblaze": 0,
         "Teravolt": 0,
         "Telepathy": 0,
         "generation": 0,
         "against_dark": 0.2,
         "Justified": 0,
         "Sea Basin Pokémon": 0,
         "Air Lock": 0,
         "DNA Pokémon": 0,
         "New Species Pokémon": 0,
         "Sky High Pokémon": 0,
         "Wish Pokémon": 0,
         "Iron Pokémon": 0,
         "Rock Peak Pokémon": 0,
         "Knowledge Pokémon": 0,
         "Genetic Pokémon": 0,
         "Freeze Pokémon": 0,
         "Bad Dreams": 0,
         "Pitch-Black Pokémon": 0,
         "Order Pokémon": 0,
         "Colossal Pokémon": 0,
         "Aura Break": 0,
         "Slow Start": 0,
         "Mischief Pokémon (Confined)Djinn Pokémonn (Unbound)": 0,
         "Power Construct": 0,
         "Prism Armor": 0,
         "Steam Pokémon": 0,
         "Lava Dome Pokémon": 0,
         "Spatial Pokémon": 0,
         "Victory Pokémon": 0,
         "Willpower Pokémon": 0,
         "Gratitude Pokémon": 0,
         "Seafaring Pokémon": 0,
         "Victory Star": 0,
         "Psychic Surge": 0,
         "Prism Pokémon": 0,
         "Temporal Pokémon": 0,
         "Alpha Pokémon": 0,
         "Electric Surge": 0,
         "Soul-Heart": 0,
         "Dark Aura": 0,
         "Renegade Pokémon": 0,
         "Artificial Pokémon": 0,
         "Rainbow Pokémon": 0,
         "Grassy Surge": 0,
         "Thunder Pokémon": 0,
         "Protostar Pokémon": 0,
         "Time Travel Pokémon": 0,
         "Parasite Pokémon": 0,
         "Fairy Aura": 0,
         "Destruction Pokémon": 0,
         "Diving Pokémon": 0,
         "Lunar Pokémon": 0,
         "Drawn Sword Pokémon": 0,
         "Life Pokémon": 0,
         "Launch Pokémon": 0,
         "Multitype": 0,
         "Glowing Pokémon": 0,
         "Junkivore Pokémon": 0,
         "Swollen Pokémon": 0,
         "Sunne Pokémon": 0,
         "Full Metal Body": 0,
         "Misty Surge": 0,
         "Aurora Pokémon": 0,
         "Shadow Shield": 0,
         "Lissome Pokémon": 0,
         "Moone Pokémon": 0,
         "Nebula Pokémon": 0,
         "Bolt Strike Pokémon": 0,
         "Boundary Pokémon": 0,
         "Vast White Pokémon": 0,
         "Abundance Pokémon": 0,
         "Melody Pokémon": 0,
         "Colt Pokémon": 0,
         "Paleozoic Pokémon": 0,
         "Cyclone Pokémon": 0,
         "Deep Black Pokémon": 0,
         "Iron Will Pokémon": 0,
         "Cavern Pokémon": 0,
         "Grassland Pokémon": 0,
         "1dragon": 0,
         "against_psychic": 0.25,
         "1steel": 0,
         "Clear Body": 0,
         "_deepnote_index_column": 0
        },
        {
         "is_legendary": 0,
         "base_egg_steps": 0.13043478260869565,
         "base_total": 0.375,
         "base_happiness": 0.5,
         "sp_attack": 0.29891304347826086,
         "weight_kg": 0.022404480896179236,
         "experience_growth": 0.44217307692307695,
         "sp_defense": 0.28571428571428575,
         "capture_rate": 0.16666666666666663,
         "height_m": 0.0625,
         "speed": 0.3028571428571428,
         "hp": 0.2283464566929134,
         "Beast Boost": 0,
         "attack": 0.32222222222222224,
         "Pressure": 0,
         "defense": 0.33333333333333337,
         "Land Spirit Pokémon": 0,
         "1psychic": 0,
         "pokedex_number": 0.00875,
         "against_ghost": 0.25,
         "Eon Pokémon": 0,
         "Turboblaze": 0,
         "Teravolt": 0,
         "Telepathy": 0,
         "generation": 0,
         "against_dark": 0.2,
         "Justified": 0,
         "Sea Basin Pokémon": 0,
         "Air Lock": 0,
         "DNA Pokémon": 0,
         "New Species Pokémon": 0,
         "Sky High Pokémon": 0,
         "Wish Pokémon": 0,
         "Iron Pokémon": 0,
         "Rock Peak Pokémon": 0,
         "Knowledge Pokémon": 0,
         "Genetic Pokémon": 0,
         "Freeze Pokémon": 0,
         "Bad Dreams": 0,
         "Pitch-Black Pokémon": 0,
         "Order Pokémon": 0,
         "Colossal Pokémon": 0,
         "Aura Break": 0,
         "Slow Start": 0,
         "Mischief Pokémon (Confined)Djinn Pokémonn (Unbound)": 0,
         "Power Construct": 0,
         "Prism Armor": 0,
         "Steam Pokémon": 0,
         "Lava Dome Pokémon": 0,
         "Spatial Pokémon": 0,
         "Victory Pokémon": 0,
         "Willpower Pokémon": 0,
         "Gratitude Pokémon": 0,
         "Seafaring Pokémon": 0,
         "Victory Star": 0,
         "Psychic Surge": 0,
         "Prism Pokémon": 0,
         "Temporal Pokémon": 0,
         "Alpha Pokémon": 0,
         "Electric Surge": 0,
         "Soul-Heart": 0,
         "Dark Aura": 0,
         "Renegade Pokémon": 0,
         "Artificial Pokémon": 0,
         "Rainbow Pokémon": 0,
         "Grassy Surge": 0,
         "Thunder Pokémon": 0,
         "Protostar Pokémon": 0,
         "Time Travel Pokémon": 0,
         "Parasite Pokémon": 0,
         "Fairy Aura": 0,
         "Destruction Pokémon": 0,
         "Diving Pokémon": 0,
         "Lunar Pokémon": 0,
         "Drawn Sword Pokémon": 0,
         "Life Pokémon": 0,
         "Launch Pokémon": 0,
         "Multitype": 0,
         "Glowing Pokémon": 0,
         "Junkivore Pokémon": 0,
         "Swollen Pokémon": 0,
         "Sunne Pokémon": 0,
         "Full Metal Body": 0,
         "Misty Surge": 0,
         "Aurora Pokémon": 0,
         "Shadow Shield": 0,
         "Lissome Pokémon": 0,
         "Moone Pokémon": 0,
         "Nebula Pokémon": 0,
         "Bolt Strike Pokémon": 0,
         "Boundary Pokémon": 0,
         "Vast White Pokémon": 0,
         "Abundance Pokémon": 0,
         "Melody Pokémon": 0,
         "Colt Pokémon": 0,
         "Paleozoic Pokémon": 0,
         "Cyclone Pokémon": 0,
         "Deep Black Pokémon": 0,
         "Iron Will Pokémon": 0,
         "Cavern Pokémon": 0,
         "Grassland Pokémon": 0,
         "1dragon": 0,
         "against_psychic": 0.25,
         "1steel": 0,
         "Clear Body": 0,
         "_deepnote_index_column": 1
        },
        {
         "is_legendary": 0,
         "base_egg_steps": 0.13043478260869565,
         "base_total": 0.75,
         "base_happiness": 0.5,
         "sp_attack": 0.6793478260869564,
         "weight_kg": 0.08541708341668333,
         "experience_growth": 0.44217307692307695,
         "sp_defense": 0.45238095238095244,
         "capture_rate": 0.16666666666666663,
         "height_m": 0.10416666666666667,
         "speed": 0.41714285714285715,
         "hp": 0.30708661417322836,
         "Beast Boost": 0,
         "attack": 0.5444444444444445,
         "Pressure": 0,
         "defense": 0.5111111111111111,
         "Land Spirit Pokémon": 0,
         "1psychic": 0,
         "pokedex_number": 0.01,
         "against_ghost": 0.25,
         "Eon Pokémon": 0,
         "Turboblaze": 0,
         "Teravolt": 0,
         "Telepathy": 0,
         "generation": 0,
         "against_dark": 0.2,
         "Justified": 0,
         "Sea Basin Pokémon": 0,
         "Air Lock": 0,
         "DNA Pokémon": 0,
         "New Species Pokémon": 0,
         "Sky High Pokémon": 0,
         "Wish Pokémon": 0,
         "Iron Pokémon": 0,
         "Rock Peak Pokémon": 0,
         "Knowledge Pokémon": 0,
         "Genetic Pokémon": 0,
         "Freeze Pokémon": 0,
         "Bad Dreams": 0,
         "Pitch-Black Pokémon": 0,
         "Order Pokémon": 0,
         "Colossal Pokémon": 0,
         "Aura Break": 0,
         "Slow Start": 0,
         "Mischief Pokémon (Confined)Djinn Pokémonn (Unbound)": 0,
         "Power Construct": 0,
         "Prism Armor": 0,
         "Steam Pokémon": 0,
         "Lava Dome Pokémon": 0,
         "Spatial Pokémon": 0,
         "Victory Pokémon": 0,
         "Willpower Pokémon": 0,
         "Gratitude Pokémon": 0,
         "Seafaring Pokémon": 0,
         "Victory Star": 0,
         "Psychic Surge": 0,
         "Prism Pokémon": 0,
         "Temporal Pokémon": 0,
         "Alpha Pokémon": 0,
         "Electric Surge": 0,
         "Soul-Heart": 0,
         "Dark Aura": 0,
         "Renegade Pokémon": 0,
         "Artificial Pokémon": 0,
         "Rainbow Pokémon": 0,
         "Grassy Surge": 0,
         "Thunder Pokémon": 0,
         "Protostar Pokémon": 0,
         "Time Travel Pokémon": 0,
         "Parasite Pokémon": 0,
         "Fairy Aura": 0,
         "Destruction Pokémon": 0,
         "Diving Pokémon": 0,
         "Lunar Pokémon": 0,
         "Drawn Sword Pokémon": 0,
         "Life Pokémon": 0,
         "Launch Pokémon": 0,
         "Multitype": 0,
         "Glowing Pokémon": 0,
         "Junkivore Pokémon": 0,
         "Swollen Pokémon": 0,
         "Sunne Pokémon": 0,
         "Full Metal Body": 0,
         "Misty Surge": 0,
         "Aurora Pokémon": 0,
         "Shadow Shield": 0,
         "Lissome Pokémon": 0,
         "Moone Pokémon": 0,
         "Nebula Pokémon": 0,
         "Bolt Strike Pokémon": 0,
         "Boundary Pokémon": 0,
         "Vast White Pokémon": 0,
         "Abundance Pokémon": 0,
         "Melody Pokémon": 0,
         "Colt Pokémon": 0,
         "Paleozoic Pokémon": 0,
         "Cyclone Pokémon": 0,
         "Deep Black Pokémon": 0,
         "Iron Will Pokémon": 0,
         "Cavern Pokémon": 0,
         "Grassland Pokémon": 0,
         "1dragon": 0,
         "against_psychic": 0.25,
         "1steel": 0,
         "Clear Body": 0,
         "_deepnote_index_column": 2
        },
        {
         "is_legendary": 0,
         "base_egg_steps": 0.08695652173913043,
         "base_total": 0.3583333333333333,
         "base_happiness": 0.5,
         "sp_attack": 0.43478260869565216,
         "weight_kg": 0.03190638127625525,
         "experience_growth": 0.3846153846153846,
         "sp_defense": 0.28571428571428575,
         "capture_rate": 0.16666666666666663,
         "height_m": 0.06944444444444445,
         "speed": 0.37142857142857144,
         "hp": 0.23228346456692914,
         "Beast Boost": 0,
         "attack": 0.2222222222222222,
         "Pressure": 0,
         "defense": 0.19999999999999998,
         "Land Spirit Pokémon": 0,
         "1psychic": 0,
         "pokedex_number": 0.01375,
         "against_ghost": 0.25,
         "Eon Pokémon": 0,
         "Turboblaze": 0,
         "Teravolt": 0,
         "Telepathy": 0,
         "generation": 0,
         "against_dark": 0.2,
         "Justified": 0,
         "Sea Basin Pokémon": 0,
         "Air Lock": 0,
         "DNA Pokémon": 0,
         "New Species Pokémon": 0,
         "Sky High Pokémon": 0,
         "Wish Pokémon": 0,
         "Iron Pokémon": 0,
         "Rock Peak Pokémon": 0,
         "Knowledge Pokémon": 0,
         "Genetic Pokémon": 0,
         "Freeze Pokémon": 0,
         "Bad Dreams": 0,
         "Pitch-Black Pokémon": 0,
         "Order Pokémon": 0,
         "Colossal Pokémon": 0,
         "Aura Break": 0,
         "Slow Start": 0,
         "Mischief Pokémon (Confined)Djinn Pokémonn (Unbound)": 0,
         "Power Construct": 0,
         "Prism Armor": 0,
         "Steam Pokémon": 0,
         "Lava Dome Pokémon": 0,
         "Spatial Pokémon": 0,
         "Victory Pokémon": 0,
         "Willpower Pokémon": 0,
         "Gratitude Pokémon": 0,
         "Seafaring Pokémon": 0,
         "Victory Star": 0,
         "Psychic Surge": 0,
         "Prism Pokémon": 0,
         "Temporal Pokémon": 0,
         "Alpha Pokémon": 0,
         "Electric Surge": 0,
         "Soul-Heart": 0,
         "Dark Aura": 0,
         "Renegade Pokémon": 0,
         "Artificial Pokémon": 0,
         "Rainbow Pokémon": 0,
         "Grassy Surge": 0,
         "Thunder Pokémon": 0,
         "Protostar Pokémon": 0,
         "Time Travel Pokémon": 0,
         "Parasite Pokémon": 0,
         "Fairy Aura": 0,
         "Destruction Pokémon": 0,
         "Diving Pokémon": 0,
         "Lunar Pokémon": 0,
         "Drawn Sword Pokémon": 0,
         "Life Pokémon": 0,
         "Launch Pokémon": 0,
         "Multitype": 0,
         "Glowing Pokémon": 0,
         "Junkivore Pokémon": 0,
         "Swollen Pokémon": 0,
         "Sunne Pokémon": 0,
         "Full Metal Body": 0,
         "Misty Surge": 0,
         "Aurora Pokémon": 0,
         "Shadow Shield": 0,
         "Lissome Pokémon": 0,
         "Moone Pokémon": 0,
         "Nebula Pokémon": 0,
         "Bolt Strike Pokémon": 0,
         "Boundary Pokémon": 0,
         "Vast White Pokémon": 0,
         "Abundance Pokémon": 0,
         "Melody Pokémon": 0,
         "Colt Pokémon": 0,
         "Paleozoic Pokémon": 0,
         "Cyclone Pokémon": 0,
         "Deep Black Pokémon": 0,
         "Iron Will Pokémon": 0,
         "Cavern Pokémon": 0,
         "Grassland Pokémon": 0,
         "1dragon": 0,
         "against_psychic": 0.25,
         "1steel": 0,
         "Clear Body": 0,
         "_deepnote_index_column": 3
        }
       ],
       "rows_bottom": [
        {
         "is_legendary": 1,
         "base_egg_steps": 1,
         "base_total": 0.65,
         "base_happiness": 0,
         "sp_attack": 0.5271739130434783,
         "weight_kg": 1,
         "experience_growth": 0.625,
         "sp_defense": 0.3857142857142858,
         "capture_rate": 0.0873015873015873,
         "height_m": 0.6319444444444444,
         "speed": 0.32,
         "hp": 0.3779527559055118,
         "Beast Boost": 1,
         "attack": 0.5333333333333333,
         "Pressure": 0,
         "defense": 0.4355555555555556,
         "Land Spirit Pokémon": 0,
         "1psychic": 0,
         "pokedex_number": 0.995,
         "against_ghost": 0.25,
         "Eon Pokémon": 0,
         "Turboblaze": 0,
         "Teravolt": 0,
         "Telepathy": 0,
         "generation": 0.9999999999999999,
         "against_dark": 0.2,
         "Justified": 0,
         "Sea Basin Pokémon": 0,
         "Air Lock": 0,
         "DNA Pokémon": 0,
         "New Species Pokémon": 0,
         "Sky High Pokémon": 0,
         "Wish Pokémon": 0,
         "Iron Pokémon": 0,
         "Rock Peak Pokémon": 0,
         "Knowledge Pokémon": 0,
         "Genetic Pokémon": 0,
         "Freeze Pokémon": 0,
         "Bad Dreams": 0,
         "Pitch-Black Pokémon": 0,
         "Order Pokémon": 0,
         "Colossal Pokémon": 0,
         "Aura Break": 0,
         "Slow Start": 0,
         "Mischief Pokémon (Confined)Djinn Pokémonn (Unbound)": 0,
         "Power Construct": 0,
         "Prism Armor": 0,
         "Steam Pokémon": 0,
         "Lava Dome Pokémon": 0,
         "Spatial Pokémon": 0,
         "Victory Pokémon": 0,
         "Willpower Pokémon": 0,
         "Gratitude Pokémon": 0,
         "Seafaring Pokémon": 0,
         "Victory Star": 0,
         "Psychic Surge": 0,
         "Prism Pokémon": 0,
         "Temporal Pokémon": 0,
         "Alpha Pokémon": 0,
         "Electric Surge": 0,
         "Soul-Heart": 0,
         "Dark Aura": 0,
         "Renegade Pokémon": 0,
         "Artificial Pokémon": 0,
         "Rainbow Pokémon": 0,
         "Grassy Surge": 0,
         "Thunder Pokémon": 0,
         "Protostar Pokémon": 0,
         "Time Travel Pokémon": 0,
         "Parasite Pokémon": 0,
         "Fairy Aura": 0,
         "Destruction Pokémon": 0,
         "Diving Pokémon": 0,
         "Lunar Pokémon": 0,
         "Drawn Sword Pokémon": 0,
         "Life Pokémon": 0,
         "Launch Pokémon": 1,
         "Multitype": 0,
         "Glowing Pokémon": 0,
         "Junkivore Pokémon": 0,
         "Swollen Pokémon": 0,
         "Sunne Pokémon": 0,
         "Full Metal Body": 0,
         "Misty Surge": 0,
         "Aurora Pokémon": 0,
         "Shadow Shield": 0,
         "Lissome Pokémon": 0,
         "Moone Pokémon": 0,
         "Nebula Pokémon": 0,
         "Bolt Strike Pokémon": 0,
         "Boundary Pokémon": 0,
         "Vast White Pokémon": 0,
         "Abundance Pokémon": 0,
         "Melody Pokémon": 0,
         "Colt Pokémon": 0,
         "Paleozoic Pokémon": 0,
         "Cyclone Pokémon": 0,
         "Deep Black Pokémon": 0,
         "Iron Will Pokémon": 0,
         "Cavern Pokémon": 0,
         "Grassland Pokémon": 0,
         "1dragon": 0,
         "against_psychic": 0.125,
         "1steel": 1,
         "Clear Body": 0,
         "_deepnote_index_column": 135
        },
        {
         "is_legendary": 1,
         "base_egg_steps": 1,
         "base_total": 0.65,
         "base_happiness": 0,
         "sp_attack": 0.2663043478260869,
         "weight_kg": 0,
         "experience_growth": 0.625,
         "sp_defense": 0.052380952380952375,
         "capture_rate": 1,
         "height_m": 0.013888888888888888,
         "speed": 0.5942857142857143,
         "hp": 0.2283464566929134,
         "Beast Boost": 1,
         "attack": 0.9777777777777777,
         "Pressure": 0,
         "defense": 0.5599999999999999,
         "Land Spirit Pokémon": 0,
         "1psychic": 0,
         "pokedex_number": 0.9962500000000001,
         "against_ghost": 0.25,
         "Eon Pokémon": 0,
         "Turboblaze": 0,
         "Teravolt": 0,
         "Telepathy": 0,
         "generation": 0.9999999999999999,
         "against_dark": 0.2,
         "Justified": 0,
         "Sea Basin Pokémon": 0,
         "Air Lock": 0,
         "DNA Pokémon": 0,
         "New Species Pokémon": 0,
         "Sky High Pokémon": 0,
         "Wish Pokémon": 0,
         "Iron Pokémon": 0,
         "Rock Peak Pokémon": 0,
         "Knowledge Pokémon": 0,
         "Genetic Pokémon": 0,
         "Freeze Pokémon": 0,
         "Bad Dreams": 0,
         "Pitch-Black Pokémon": 0,
         "Order Pokémon": 0,
         "Colossal Pokémon": 0,
         "Aura Break": 0,
         "Slow Start": 0,
         "Mischief Pokémon (Confined)Djinn Pokémonn (Unbound)": 0,
         "Power Construct": 0,
         "Prism Armor": 0,
         "Steam Pokémon": 0,
         "Lava Dome Pokémon": 0,
         "Spatial Pokémon": 0,
         "Victory Pokémon": 0,
         "Willpower Pokémon": 0,
         "Gratitude Pokémon": 0,
         "Seafaring Pokémon": 0,
         "Victory Star": 0,
         "Psychic Surge": 0,
         "Prism Pokémon": 0,
         "Temporal Pokémon": 0,
         "Alpha Pokémon": 0,
         "Electric Surge": 0,
         "Soul-Heart": 0,
         "Dark Aura": 0,
         "Renegade Pokémon": 0,
         "Artificial Pokémon": 0,
         "Rainbow Pokémon": 0,
         "Grassy Surge": 0,
         "Thunder Pokémon": 0,
         "Protostar Pokémon": 0,
         "Time Travel Pokémon": 0,
         "Parasite Pokémon": 0,
         "Fairy Aura": 0,
         "Destruction Pokémon": 0,
         "Diving Pokémon": 0,
         "Lunar Pokémon": 0,
         "Drawn Sword Pokémon": 1,
         "Life Pokémon": 0,
         "Launch Pokémon": 0,
         "Multitype": 0,
         "Glowing Pokémon": 0,
         "Junkivore Pokémon": 0,
         "Swollen Pokémon": 0,
         "Sunne Pokémon": 0,
         "Full Metal Body": 0,
         "Misty Surge": 0,
         "Aurora Pokémon": 0,
         "Shadow Shield": 0,
         "Lissome Pokémon": 0,
         "Moone Pokémon": 0,
         "Nebula Pokémon": 0,
         "Bolt Strike Pokémon": 0,
         "Boundary Pokémon": 0,
         "Vast White Pokémon": 0,
         "Abundance Pokémon": 0,
         "Melody Pokémon": 0,
         "Colt Pokémon": 0,
         "Paleozoic Pokémon": 0,
         "Cyclone Pokémon": 0,
         "Deep Black Pokémon": 0,
         "Iron Will Pokémon": 0,
         "Cavern Pokémon": 0,
         "Grassland Pokémon": 0,
         "1dragon": 0,
         "against_psychic": 0.125,
         "1steel": 0,
         "Clear Body": 0,
         "_deepnote_index_column": 136
        },
        {
         "is_legendary": 1,
         "base_egg_steps": 1,
         "base_total": 0.65,
         "base_happiness": 0,
         "sp_attack": 0.47282608695652173,
         "weight_kg": 0.8880776155231046,
         "experience_growth": 0.625,
         "sp_defense": 0.1571428571428572,
         "capture_rate": 0.047619047619047616,
         "height_m": 0.37500000000000006,
         "speed": 0.21714285714285714,
         "hp": 0.8740157480314961,
         "Beast Boost": 1,
         "attack": 0.5333333333333333,
         "Pressure": 0,
         "defense": 0.21333333333333332,
         "Land Spirit Pokémon": 0,
         "1psychic": 0,
         "pokedex_number": 0.9975,
         "against_ghost": 0.125,
         "Eon Pokémon": 0,
         "Turboblaze": 0,
         "Teravolt": 0,
         "Telepathy": 0,
         "generation": 0.9999999999999999,
         "against_dark": 0.06666666666666667,
         "Justified": 0,
         "Sea Basin Pokémon": 0,
         "Air Lock": 0,
         "DNA Pokémon": 0,
         "New Species Pokémon": 0,
         "Sky High Pokémon": 0,
         "Wish Pokémon": 0,
         "Iron Pokémon": 0,
         "Rock Peak Pokémon": 0,
         "Knowledge Pokémon": 0,
         "Genetic Pokémon": 0,
         "Freeze Pokémon": 0,
         "Bad Dreams": 0,
         "Pitch-Black Pokémon": 0,
         "Order Pokémon": 0,
         "Colossal Pokémon": 0,
         "Aura Break": 0,
         "Slow Start": 0,
         "Mischief Pokémon (Confined)Djinn Pokémonn (Unbound)": 0,
         "Power Construct": 0,
         "Prism Armor": 0,
         "Steam Pokémon": 0,
         "Lava Dome Pokémon": 0,
         "Spatial Pokémon": 0,
         "Victory Pokémon": 0,
         "Willpower Pokémon": 0,
         "Gratitude Pokémon": 0,
         "Seafaring Pokémon": 0,
         "Victory Star": 0,
         "Psychic Surge": 0,
         "Prism Pokémon": 0,
         "Temporal Pokémon": 0,
         "Alpha Pokémon": 0,
         "Electric Surge": 0,
         "Soul-Heart": 0,
         "Dark Aura": 0,
         "Renegade Pokémon": 0,
         "Artificial Pokémon": 0,
         "Rainbow Pokémon": 0,
         "Grassy Surge": 0,
         "Thunder Pokémon": 0,
         "Protostar Pokémon": 0,
         "Time Travel Pokémon": 0,
         "Parasite Pokémon": 0,
         "Fairy Aura": 0,
         "Destruction Pokémon": 0,
         "Diving Pokémon": 0,
         "Lunar Pokémon": 0,
         "Drawn Sword Pokémon": 0,
         "Life Pokémon": 0,
         "Launch Pokémon": 0,
         "Multitype": 0,
         "Glowing Pokémon": 0,
         "Junkivore Pokémon": 1,
         "Swollen Pokémon": 0,
         "Sunne Pokémon": 0,
         "Full Metal Body": 0,
         "Misty Surge": 0,
         "Aurora Pokémon": 0,
         "Shadow Shield": 0,
         "Lissome Pokémon": 0,
         "Moone Pokémon": 0,
         "Nebula Pokémon": 0,
         "Bolt Strike Pokémon": 0,
         "Boundary Pokémon": 0,
         "Vast White Pokémon": 0,
         "Abundance Pokémon": 0,
         "Melody Pokémon": 0,
         "Colt Pokémon": 0,
         "Paleozoic Pokémon": 0,
         "Cyclone Pokémon": 0,
         "Deep Black Pokémon": 0,
         "Iron Will Pokémon": 0,
         "Cavern Pokémon": 0,
         "Grassland Pokémon": 0,
         "1dragon": 0,
         "against_psychic": 0,
         "1steel": 0,
         "Clear Body": 0,
         "_deepnote_index_column": 137
        },
        {
         "is_legendary": 1,
         "base_egg_steps": 1,
         "base_total": 0.7,
         "base_happiness": 0,
         "sp_attack": 0.6358695652173912,
         "weight_kg": 0.22994598919783957,
         "experience_growth": 0.625,
         "sp_defense": 0.3285714285714286,
         "capture_rate": 0,
         "height_m": 0.1597222222222222,
         "speed": 0.4228571428571428,
         "hp": 0.3779527559055118,
         "Beast Boost": 0,
         "attack": 0.5666666666666667,
         "Pressure": 0,
         "defense": 0.4266666666666667,
         "Land Spirit Pokémon": 0,
         "1psychic": 1,
         "pokedex_number": 0.99875,
         "against_ghost": 0.5,
         "Eon Pokémon": 0,
         "Turboblaze": 0,
         "Teravolt": 0,
         "Telepathy": 0,
         "generation": 0.9999999999999999,
         "against_dark": 0.4666666666666667,
         "Justified": 0,
         "Sea Basin Pokémon": 0,
         "Air Lock": 0,
         "DNA Pokémon": 0,
         "New Species Pokémon": 0,
         "Sky High Pokémon": 0,
         "Wish Pokémon": 0,
         "Iron Pokémon": 0,
         "Rock Peak Pokémon": 0,
         "Knowledge Pokémon": 0,
         "Genetic Pokémon": 0,
         "Freeze Pokémon": 0,
         "Bad Dreams": 0,
         "Pitch-Black Pokémon": 0,
         "Order Pokémon": 0,
         "Colossal Pokémon": 0,
         "Aura Break": 0,
         "Slow Start": 0,
         "Mischief Pokémon (Confined)Djinn Pokémonn (Unbound)": 0,
         "Power Construct": 0,
         "Prism Armor": 1,
         "Steam Pokémon": 0,
         "Lava Dome Pokémon": 0,
         "Spatial Pokémon": 0,
         "Victory Pokémon": 0,
         "Willpower Pokémon": 0,
         "Gratitude Pokémon": 0,
         "Seafaring Pokémon": 0,
         "Victory Star": 0,
         "Psychic Surge": 0,
         "Prism Pokémon": 1,
         "Temporal Pokémon": 0,
         "Alpha Pokémon": 0,
         "Electric Surge": 0,
         "Soul-Heart": 0,
         "Dark Aura": 0,
         "Renegade Pokémon": 0,
         "Artificial Pokémon": 0,
         "Rainbow Pokémon": 0,
         "Grassy Surge": 0,
         "Thunder Pokémon": 0,
         "Protostar Pokémon": 0,
         "Time Travel Pokémon": 0,
         "Parasite Pokémon": 0,
         "Fairy Aura": 0,
         "Destruction Pokémon": 0,
         "Diving Pokémon": 0,
         "Lunar Pokémon": 0,
         "Drawn Sword Pokémon": 0,
         "Life Pokémon": 0,
         "Launch Pokémon": 0,
         "Multitype": 0,
         "Glowing Pokémon": 0,
         "Junkivore Pokémon": 0,
         "Swollen Pokémon": 0,
         "Sunne Pokémon": 0,
         "Full Metal Body": 0,
         "Misty Surge": 0,
         "Aurora Pokémon": 0,
         "Shadow Shield": 0,
         "Lissome Pokémon": 0,
         "Moone Pokémon": 0,
         "Nebula Pokémon": 0,
         "Bolt Strike Pokémon": 0,
         "Boundary Pokémon": 0,
         "Vast White Pokémon": 0,
         "Abundance Pokémon": 0,
         "Melody Pokémon": 0,
         "Colt Pokémon": 0,
         "Paleozoic Pokémon": 0,
         "Cyclone Pokémon": 0,
         "Deep Black Pokémon": 0,
         "Iron Will Pokémon": 0,
         "Cavern Pokémon": 0,
         "Grassland Pokémon": 0,
         "1dragon": 0,
         "against_psychic": 0.125,
         "1steel": 0,
         "Clear Body": 0,
         "_deepnote_index_column": 138
        },
        {
         "is_legendary": 1,
         "base_egg_steps": 1,
         "base_total": 0.7,
         "base_happiness": 0,
         "sp_attack": 0.6521739130434783,
         "weight_kg": 0.08041608321664333,
         "experience_growth": 0.625,
         "sp_defense": 0.45238095238095244,
         "capture_rate": 0,
         "height_m": 0.0625,
         "speed": 0.34285714285714286,
         "hp": 0.3110236220472441,
         "Beast Boost": 0,
         "attack": 0.5,
         "Pressure": 0,
         "defense": 0.4888888888888889,
         "Land Spirit Pokémon": 0,
         "1psychic": 0,
         "pokedex_number": 1,
         "against_ghost": 0.25,
         "Eon Pokémon": 0,
         "Turboblaze": 0,
         "Teravolt": 0,
         "Telepathy": 0,
         "generation": 0.9999999999999999,
         "against_dark": 0.06666666666666667,
         "Justified": 0,
         "Sea Basin Pokémon": 0,
         "Air Lock": 0,
         "DNA Pokémon": 0,
         "New Species Pokémon": 0,
         "Sky High Pokémon": 0,
         "Wish Pokémon": 0,
         "Iron Pokémon": 0,
         "Rock Peak Pokémon": 0,
         "Knowledge Pokémon": 0,
         "Genetic Pokémon": 0,
         "Freeze Pokémon": 0,
         "Bad Dreams": 0,
         "Pitch-Black Pokémon": 0,
         "Order Pokémon": 0,
         "Colossal Pokémon": 0,
         "Aura Break": 0,
         "Slow Start": 0,
         "Mischief Pokémon (Confined)Djinn Pokémonn (Unbound)": 0,
         "Power Construct": 0,
         "Prism Armor": 0,
         "Steam Pokémon": 0,
         "Lava Dome Pokémon": 0,
         "Spatial Pokémon": 0,
         "Victory Pokémon": 0,
         "Willpower Pokémon": 0,
         "Gratitude Pokémon": 0,
         "Seafaring Pokémon": 0,
         "Victory Star": 0,
         "Psychic Surge": 0,
         "Prism Pokémon": 0,
         "Temporal Pokémon": 0,
         "Alpha Pokémon": 0,
         "Electric Surge": 0,
         "Soul-Heart": 1,
         "Dark Aura": 0,
         "Renegade Pokémon": 0,
         "Artificial Pokémon": 1,
         "Rainbow Pokémon": 0,
         "Grassy Surge": 0,
         "Thunder Pokémon": 0,
         "Protostar Pokémon": 0,
         "Time Travel Pokémon": 0,
         "Parasite Pokémon": 0,
         "Fairy Aura": 0,
         "Destruction Pokémon": 0,
         "Diving Pokémon": 0,
         "Lunar Pokémon": 0,
         "Drawn Sword Pokémon": 0,
         "Life Pokémon": 0,
         "Launch Pokémon": 0,
         "Multitype": 0,
         "Glowing Pokémon": 0,
         "Junkivore Pokémon": 0,
         "Swollen Pokémon": 0,
         "Sunne Pokémon": 0,
         "Full Metal Body": 0,
         "Misty Surge": 0,
         "Aurora Pokémon": 0,
         "Shadow Shield": 0,
         "Lissome Pokémon": 0,
         "Moone Pokémon": 0,
         "Nebula Pokémon": 0,
         "Bolt Strike Pokémon": 0,
         "Boundary Pokémon": 0,
         "Vast White Pokémon": 0,
         "Abundance Pokémon": 0,
         "Melody Pokémon": 0,
         "Colt Pokémon": 0,
         "Paleozoic Pokémon": 0,
         "Cyclone Pokémon": 0,
         "Deep Black Pokémon": 0,
         "Iron Will Pokémon": 0,
         "Cavern Pokémon": 0,
         "Grassland Pokémon": 0,
         "1dragon": 0,
         "against_psychic": 0.125,
         "1steel": 1,
         "Clear Body": 0,
         "_deepnote_index_column": 139
        }
       ]
      },
      "text/plain": "     is_legendary  base_egg_steps  base_total  base_happiness  sp_attack  \\\n0             0.0        0.130435    0.215000             0.5   0.271739   \n1             0.0        0.130435    0.375000             0.5   0.298913   \n2             0.0        0.130435    0.750000             0.5   0.679348   \n3             0.0        0.086957    0.358333             0.5   0.434783   \n4             0.0        0.086957    0.121667             0.5   0.081522   \n..            ...             ...         ...             ...        ...   \n135           1.0        1.000000    0.650000             0.0   0.527174   \n136           1.0        1.000000    0.650000             0.0   0.266304   \n137           1.0        1.000000    0.650000             0.0   0.472826   \n138           1.0        1.000000    0.700000             0.0   0.635870   \n139           1.0        1.000000    0.700000             0.0   0.652174   \n\n     weight_kg  experience_growth  sp_defense  capture_rate  height_m  ...  \\\n0     0.008402           0.442173    0.142857      0.166667  0.034722  ...   \n1     0.022404           0.442173    0.285714      0.166667  0.062500  ...   \n2     0.085417           0.442173    0.452381      0.166667  0.104167  ...   \n3     0.031906           0.384615    0.285714      0.166667  0.069444  ...   \n4     0.061290           0.384615    0.071429      1.000000  0.073881  ...   \n..         ...                ...         ...           ...       ...  ...   \n135   1.000000           0.625000    0.385714      0.087302  0.631944  ...   \n136   0.000000           0.625000    0.052381      1.000000  0.013889  ...   \n137   0.888078           0.625000    0.157143      0.047619  0.375000  ...   \n138   0.229946           0.625000    0.328571      0.000000  0.159722  ...   \n139   0.080416           0.625000    0.452381      0.000000  0.062500  ...   \n\n     Paleozoic Pokémon  Cyclone Pokémon  Deep Black Pokémon  \\\n0                  0.0              0.0                 0.0   \n1                  0.0              0.0                 0.0   \n2                  0.0              0.0                 0.0   \n3                  0.0              0.0                 0.0   \n4                  0.0              0.0                 0.0   \n..                 ...              ...                 ...   \n135                0.0              0.0                 0.0   \n136                0.0              0.0                 0.0   \n137                0.0              0.0                 0.0   \n138                0.0              0.0                 0.0   \n139                0.0              0.0                 0.0   \n\n     Iron Will Pokémon  Cavern Pokémon  Grassland Pokémon  1dragon  \\\n0                  0.0             0.0                0.0      0.0   \n1                  0.0             0.0                0.0      0.0   \n2                  0.0             0.0                0.0      0.0   \n3                  0.0             0.0                0.0      0.0   \n4                  0.0             0.0                0.0      0.0   \n..                 ...             ...                ...      ...   \n135                0.0             0.0                0.0      0.0   \n136                0.0             0.0                0.0      0.0   \n137                0.0             0.0                0.0      0.0   \n138                0.0             0.0                0.0      0.0   \n139                0.0             0.0                0.0      0.0   \n\n     against_psychic  1steel  Clear Body  \n0              0.250     0.0         0.0  \n1              0.250     0.0         0.0  \n2              0.250     0.0         0.0  \n3              0.250     0.0         0.0  \n4              0.250     0.0         0.0  \n..               ...     ...         ...  \n135            0.125     1.0         0.0  \n136            0.125     0.0         0.0  \n137            0.000     0.0         0.0  \n138            0.125     0.0         0.0  \n139            0.125     1.0         0.0  \n\n[140 rows x 105 columns]",
      "text/html": "<div>\n<style scoped>\n    .dataframe tbody tr th:only-of-type {\n        vertical-align: middle;\n    }\n\n    .dataframe tbody tr th {\n        vertical-align: top;\n    }\n\n    .dataframe thead th {\n        text-align: right;\n    }\n</style>\n<table border=\"1\" class=\"dataframe\">\n  <thead>\n    <tr style=\"text-align: right;\">\n      <th></th>\n      <th>is_legendary</th>\n      <th>base_egg_steps</th>\n      <th>base_total</th>\n      <th>base_happiness</th>\n      <th>sp_attack</th>\n      <th>weight_kg</th>\n      <th>experience_growth</th>\n      <th>sp_defense</th>\n      <th>capture_rate</th>\n      <th>height_m</th>\n      <th>...</th>\n      <th>Paleozoic Pokémon</th>\n      <th>Cyclone Pokémon</th>\n      <th>Deep Black Pokémon</th>\n      <th>Iron Will Pokémon</th>\n      <th>Cavern Pokémon</th>\n      <th>Grassland Pokémon</th>\n      <th>1dragon</th>\n      <th>against_psychic</th>\n      <th>1steel</th>\n      <th>Clear Body</th>\n    </tr>\n  </thead>\n  <tbody>\n    <tr>\n      <th>0</th>\n      <td>0.0</td>\n      <td>0.130435</td>\n      <td>0.215000</td>\n      <td>0.5</td>\n      <td>0.271739</td>\n      <td>0.008402</td>\n      <td>0.442173</td>\n      <td>0.142857</td>\n      <td>0.166667</td>\n      <td>0.034722</td>\n      <td>...</td>\n      <td>0.0</td>\n      <td>0.0</td>\n      <td>0.0</td>\n      <td>0.0</td>\n      <td>0.0</td>\n      <td>0.0</td>\n      <td>0.0</td>\n      <td>0.250</td>\n      <td>0.0</td>\n      <td>0.0</td>\n    </tr>\n    <tr>\n      <th>1</th>\n      <td>0.0</td>\n      <td>0.130435</td>\n      <td>0.375000</td>\n      <td>0.5</td>\n      <td>0.298913</td>\n      <td>0.022404</td>\n      <td>0.442173</td>\n      <td>0.285714</td>\n      <td>0.166667</td>\n      <td>0.062500</td>\n      <td>...</td>\n      <td>0.0</td>\n      <td>0.0</td>\n      <td>0.0</td>\n      <td>0.0</td>\n      <td>0.0</td>\n      <td>0.0</td>\n      <td>0.0</td>\n      <td>0.250</td>\n      <td>0.0</td>\n      <td>0.0</td>\n    </tr>\n    <tr>\n      <th>2</th>\n      <td>0.0</td>\n      <td>0.130435</td>\n      <td>0.750000</td>\n      <td>0.5</td>\n      <td>0.679348</td>\n      <td>0.085417</td>\n      <td>0.442173</td>\n      <td>0.452381</td>\n      <td>0.166667</td>\n      <td>0.104167</td>\n      <td>...</td>\n      <td>0.0</td>\n      <td>0.0</td>\n      <td>0.0</td>\n      <td>0.0</td>\n      <td>0.0</td>\n      <td>0.0</td>\n      <td>0.0</td>\n      <td>0.250</td>\n      <td>0.0</td>\n      <td>0.0</td>\n    </tr>\n    <tr>\n      <th>3</th>\n      <td>0.0</td>\n      <td>0.086957</td>\n      <td>0.358333</td>\n      <td>0.5</td>\n      <td>0.434783</td>\n      <td>0.031906</td>\n      <td>0.384615</td>\n      <td>0.285714</td>\n      <td>0.166667</td>\n      <td>0.069444</td>\n      <td>...</td>\n      <td>0.0</td>\n      <td>0.0</td>\n      <td>0.0</td>\n      <td>0.0</td>\n      <td>0.0</td>\n      <td>0.0</td>\n      <td>0.0</td>\n      <td>0.250</td>\n      <td>0.0</td>\n      <td>0.0</td>\n    </tr>\n    <tr>\n      <th>4</th>\n      <td>0.0</td>\n      <td>0.086957</td>\n      <td>0.121667</td>\n      <td>0.5</td>\n      <td>0.081522</td>\n      <td>0.061290</td>\n      <td>0.384615</td>\n      <td>0.071429</td>\n      <td>1.000000</td>\n      <td>0.073881</td>\n      <td>...</td>\n      <td>0.0</td>\n      <td>0.0</td>\n      <td>0.0</td>\n      <td>0.0</td>\n      <td>0.0</td>\n      <td>0.0</td>\n      <td>0.0</td>\n      <td>0.250</td>\n      <td>0.0</td>\n      <td>0.0</td>\n    </tr>\n    <tr>\n      <th>...</th>\n      <td>...</td>\n      <td>...</td>\n      <td>...</td>\n      <td>...</td>\n      <td>...</td>\n      <td>...</td>\n      <td>...</td>\n      <td>...</td>\n      <td>...</td>\n      <td>...</td>\n      <td>...</td>\n      <td>...</td>\n      <td>...</td>\n      <td>...</td>\n      <td>...</td>\n      <td>...</td>\n      <td>...</td>\n      <td>...</td>\n      <td>...</td>\n      <td>...</td>\n      <td>...</td>\n    </tr>\n    <tr>\n      <th>135</th>\n      <td>1.0</td>\n      <td>1.000000</td>\n      <td>0.650000</td>\n      <td>0.0</td>\n      <td>0.527174</td>\n      <td>1.000000</td>\n      <td>0.625000</td>\n      <td>0.385714</td>\n      <td>0.087302</td>\n      <td>0.631944</td>\n      <td>...</td>\n      <td>0.0</td>\n      <td>0.0</td>\n      <td>0.0</td>\n      <td>0.0</td>\n      <td>0.0</td>\n      <td>0.0</td>\n      <td>0.0</td>\n      <td>0.125</td>\n      <td>1.0</td>\n      <td>0.0</td>\n    </tr>\n    <tr>\n      <th>136</th>\n      <td>1.0</td>\n      <td>1.000000</td>\n      <td>0.650000</td>\n      <td>0.0</td>\n      <td>0.266304</td>\n      <td>0.000000</td>\n      <td>0.625000</td>\n      <td>0.052381</td>\n      <td>1.000000</td>\n      <td>0.013889</td>\n      <td>...</td>\n      <td>0.0</td>\n      <td>0.0</td>\n      <td>0.0</td>\n      <td>0.0</td>\n      <td>0.0</td>\n      <td>0.0</td>\n      <td>0.0</td>\n      <td>0.125</td>\n      <td>0.0</td>\n      <td>0.0</td>\n    </tr>\n    <tr>\n      <th>137</th>\n      <td>1.0</td>\n      <td>1.000000</td>\n      <td>0.650000</td>\n      <td>0.0</td>\n      <td>0.472826</td>\n      <td>0.888078</td>\n      <td>0.625000</td>\n      <td>0.157143</td>\n      <td>0.047619</td>\n      <td>0.375000</td>\n      <td>...</td>\n      <td>0.0</td>\n      <td>0.0</td>\n      <td>0.0</td>\n      <td>0.0</td>\n      <td>0.0</td>\n      <td>0.0</td>\n      <td>0.0</td>\n      <td>0.000</td>\n      <td>0.0</td>\n      <td>0.0</td>\n    </tr>\n    <tr>\n      <th>138</th>\n      <td>1.0</td>\n      <td>1.000000</td>\n      <td>0.700000</td>\n      <td>0.0</td>\n      <td>0.635870</td>\n      <td>0.229946</td>\n      <td>0.625000</td>\n      <td>0.328571</td>\n      <td>0.000000</td>\n      <td>0.159722</td>\n      <td>...</td>\n      <td>0.0</td>\n      <td>0.0</td>\n      <td>0.0</td>\n      <td>0.0</td>\n      <td>0.0</td>\n      <td>0.0</td>\n      <td>0.0</td>\n      <td>0.125</td>\n      <td>0.0</td>\n      <td>0.0</td>\n    </tr>\n    <tr>\n      <th>139</th>\n      <td>1.0</td>\n      <td>1.000000</td>\n      <td>0.700000</td>\n      <td>0.0</td>\n      <td>0.652174</td>\n      <td>0.080416</td>\n      <td>0.625000</td>\n      <td>0.452381</td>\n      <td>0.000000</td>\n      <td>0.062500</td>\n      <td>...</td>\n      <td>0.0</td>\n      <td>0.0</td>\n      <td>0.0</td>\n      <td>0.0</td>\n      <td>0.0</td>\n      <td>0.0</td>\n      <td>0.0</td>\n      <td>0.125</td>\n      <td>1.0</td>\n      <td>0.0</td>\n    </tr>\n  </tbody>\n</table>\n<p>140 rows × 105 columns</p>\n</div>"
     },
     "metadata": {}
    }
   ],
   "execution_count": null
  },
  {
   "cell_type": "markdown",
   "source": "**Caldra aplicar un PCA?**",
   "metadata": {
    "tags": [],
    "cell_id": "00024-7eaeb7a4-191f-4092-ac01-cbd2a8555109",
    "deepnote_cell_type": "markdown"
   }
  },
  {
   "cell_type": "markdown",
   "source": "**Es poden aplicar `PolynomialFeatures` per millorar la classificació?**\n\nNo perquè hi ha massa atributs. Els `PolynomialFeatures` aumenten exponencial.",
   "metadata": {
    "tags": [],
    "cell_id": "00025-cafbc697-6f5c-4639-b9e1-77d8789310ca",
    "deepnote_cell_type": "markdown"
   }
  },
  {
   "cell_type": "markdown",
   "source": "**MODEL SELECTION**",
   "metadata": {
    "tags": [],
    "cell_id": "00037-0bf1cea6-4010-45b1-8f17-4d894bfcf4aa",
    "deepnote_cell_type": "markdown"
   }
  },
  {
   "cell_type": "markdown",
   "source": "**Quins models heu considerat?**",
   "metadata": {
    "tags": [],
    "cell_id": "00038-3758844d-3aea-4d04-ac81-ba315e063a1f",
    "deepnote_cell_type": "markdown"
   }
  },
  {
   "cell_type": "code",
   "metadata": {
    "tags": [],
    "cell_id": "00039-144e4cff-62be-4f23-9738-74dcd6aaa877",
    "deepnote_to_be_reexecuted": false,
    "source_hash": "3587a5a8",
    "execution_start": 1638721169553,
    "execution_millis": 4746,
    "deepnote_output_heights": [
     328.359375,
     174.78125
    ],
    "deepnote_cell_type": "code"
   },
   "source": "X=df_4.copy(deep=True)\nX.drop(columns=TARGET, inplace=True)\ny=df_4[TARGET]\n\nX2=df_5.copy(deep=True)\nX2.drop(columns=TARGET, inplace=True)\ny2=df_5[TARGET]\n\nX_train, X_test, y_train, y_test = train_test_split(X, y, test_size=0.2)\nX2_train, X2_test, y2_train, y2_test = train_test_split(X2, y2, test_size=0.2)\n\n\nclassifiers = {\n    'LogisticRegression': LogisticRegression(max_iter=10000),\n    'SVC': svm.SVC(kernel='linear', C=1.0),\n    'LinearSVC': svm.LinearSVC(C=1.0, max_iter=1000000),\n    'SVCrbf': svm.SVC(kernel='rbf', gamma=0.7, C=1.0),\n    'SVCpoly': svm.SVC(kernel='poly', degree=3, gamma='auto', C=1.0),\n    'SGDClassifier': linear_model.SGDClassifier(loss=\"modified_huber\", alpha=0.1),\n    'KNeighborsClassifier': neighbors.KNeighborsClassifier(n_neighbors=15),\n    'DecisionTreeClassifier': tree.DecisionTreeClassifier(),\n    'GaussianNB': naive_bayes.GaussianNB()\n}\n\nscores = {}\nscores2 = {}\nmean2 = 0\nITERACIONS=10\n\nscore_ls = {name: [] for name in classifiers}\nscores_ls2 = {name: [] for name in classifiers}\n\n\nfor _ in range(ITERACIONS):\n    X_train, X_test, y_train, y_test = train_test_split(X, y, test_size=0.2)\n    for name, classifier in classifiers.items():\n        classifier.fit(X_train, y_train)\n        y_pred = classifier.predict(X_test)\n        score = classifier.score(X_test, y_test)\n        score_ls[name].append(score)\n\nscores = {name: sum(score)/len(score) for name, score in score_ls.items()}\n\nfor seed in range(ITERACIONS):\n     X2_train, X2_test, y2_train, y2_test = train_test_split(X2, y2, test_size=0.2)\n     for name, classifier in classifiers.items():\n         classifier.fit(X2_train, y2_train)\n         y_pred = classifier.predict(X2_test)\n         score = classifier.score(X2_test, y2_test)\n         scores_ls2[name].append(score)\n\nscores2 = {name: sum(score)/len(score) for name, score in scores_ls2.items()}\n\nprint(\"Con df_4\")\nprint(scores)\n\nprint(\"\\n\")\nprint(\"Con df_5\")\nprint(scores2)\n",
   "outputs": [
    {
     "name": "stdout",
     "text": "Con df_4\n{'LogisticRegression': 0.982608695652174, 'SVC': 0.9906832298136645, 'LinearSVC': 0.9894409937888199, 'SVCrbf': 0.98944099378882, 'SVCpoly': 0.9062111801242235, 'SGDClassifier': 0.9614906832298136, 'KNeighborsClassifier': 0.9099378881987578, 'DecisionTreeClassifier': 0.9968944099378882, 'GaussianNB': 0.9279503105590061}\n\n\nCon df_5\n{'LogisticRegression': 0.9749999999999999, 'SVC': 0.9714285714285713, 'LinearSVC': 0.9678571428571429, 'SVCrbf': 0.9678571428571427, 'SVCpoly': 0.46071428571428574, 'SGDClassifier': 0.9749999999999999, 'KNeighborsClassifier': 0.6428571428571429, 'DecisionTreeClassifier': 0.9821428571428571, 'GaussianNB': 0.6785714285714286}\n",
     "output_type": "stream"
    }
   ],
   "execution_count": null
  },
  {
   "cell_type": "code",
   "metadata": {
    "tags": [],
    "cell_id": "00042-2c0d55eb-fe92-437a-82c9-583d64509bc8",
    "deepnote_to_be_reexecuted": false,
    "source_hash": "45a2513a",
    "execution_start": 1638719885869,
    "execution_millis": 3,
    "deepnote_output_heights": [
     21
    ],
    "deepnote_cell_type": "code"
   },
   "source": "len(classifiers[0].coef_[0])",
   "outputs": [
    {
     "output_type": "execute_result",
     "execution_count": 76,
     "data": {
      "text/plain": "104"
     },
     "metadata": {}
    }
   ],
   "execution_count": null
  },
  {
   "cell_type": "code",
   "metadata": {
    "tags": [],
    "cell_id": "00043-c02f97cb-a9ba-4848-b0c8-a3fb9660e45d",
    "deepnote_to_be_reexecuted": false,
    "source_hash": "f80a5446",
    "execution_start": 1638719887918,
    "execution_millis": 19,
    "deepnote_output_heights": [
     21
    ],
    "deepnote_cell_type": "code"
   },
   "source": "\nresults=[]\nfor classifier in classifiers:\n    # print(classifier.__class__.__name__)\n    try:\n        results.append(dict(zip(X.columns, classifier.coef_[0])))\n    except:\n        pass\nlen(results)",
   "outputs": [
    {
     "output_type": "execute_result",
     "execution_count": 77,
     "data": {
      "text/plain": "4"
     },
     "metadata": {}
    }
   ],
   "execution_count": null
  },
  {
   "cell_type": "code",
   "metadata": {
    "tags": [],
    "cell_id": "00044-c33de047-0739-4aa7-9b75-0876848d9c74",
    "deepnote_to_be_reexecuted": false,
    "source_hash": "3b0049e0",
    "execution_start": 1638719890458,
    "execution_millis": 12,
    "deepnote_output_heights": [
     611
    ],
    "deepnote_cell_type": "code"
   },
   "source": "# coeficients = dict.fromkeys(X.columns, [])\n\ncoeficients = {col: [] for col in X.columns}\n\nfor classifier in classifiers:\n    try:\n        for col, coef in zip(coeficients, classifier.coef_[0]):\n            coeficients[col].append(coef)\n    except:\n        pass\n\ncoeficients\n\n# len(classifiers)",
   "outputs": [
    {
     "output_type": "execute_result",
     "execution_count": 78,
     "data": {
      "text/plain": "{'base_egg_steps': [3.186054941458096,\n  2.228810152968113,\n  1.882672493058157,\n  1.1290507440518884],\n 'base_total': [1.0102455812369613,\n  0.41740425501622125,\n  0.263994304852742,\n  0.34727462130145753],\n 'base_happiness': [-0.33290965931897143,\n  0.09915016268065113,\n  -0.08878050516751955,\n  -0.02093607094225035],\n 'sp_attack': [0.9187084380899396,\n  0.6121782949845096,\n  0.32494493074426056,\n  0.31808654745664766],\n 'weight_kg': [0.24526409607049732,\n  0.09641535539646907,\n  -0.0015470525306476516,\n  0.0664438905320478],\n 'experience_growth': [0.9334618611684372,\n  0.6323415155425569,\n  0.2770773200132866,\n  0.41415322776378233],\n 'sp_defense': [0.33194286499371883,\n  -0.19483996150146998,\n  -0.25330790256297947,\n  0.12635701516663814],\n 'capture_rate': [-1.291122665330575,\n  -0.8255696320371552,\n  -0.9221739613371029,\n  -0.3510697390756044],\n 'height_m': [0.06735738164376506,\n  -0.08841296562509572,\n  -0.16549548278482634,\n  0.008258365150045674],\n 'speed': [0.8535839607977181,\n  0.6959345852208165,\n  0.40921492891019656,\n  0.3603058386401466],\n 'hp': [0.3222670050407255,\n  0.20119024067558222,\n  -0.07576170906053581,\n  0.12710842343096582],\n 'Beast Boost': [0.3964005919226745,\n  0.3126629259938289,\n  0.41482783654040295,\n  0.11068997951075969],\n 'attack': [0.19593902786276488,\n  -0.21190996940898843,\n  -0.3640486285579365,\n  0.06139726753115752],\n 'Pressure': [0.6975360727274923,\n  0.7159300410554919,\n  0.4071351576974352,\n  0.2730611175141172],\n 'defense': [0.44835088521736755,\n  0.1954269315389739,\n  0.008846896183714849,\n  0.1884261751594115],\n 'Land Spirit Pokémon': [0.5701382872658155,\n  0.7203355792772707,\n  0.6189391970128328,\n  0.23207771461412535],\n '1psychic': [0.543903443969065,\n  0.10226858472911157,\n  0.1586308204275002,\n  0.1849591202064263],\n 'pokedex_number': [0.8106402835420968,\n  0.2622158763592984,\n  0.1245464144255625,\n  0.26921477653017417],\n 'against_ghost': [0.04934048251242511,\n  0.08884426359015428,\n  -0.13593655391794682,\n  0.03596033451340572],\n 'Eon Pokémon': [0.16833372848906664,\n  0.08256309012927703,\n  0.17240716791729882,\n  0.05381355746393972],\n 'Turboblaze': [0.07513621523218714,\n  0.05272801180169728,\n  0.05043873680100924,\n  0.015816226362531098],\n 'Teravolt': [0.0801174186176252,\n  0.10056850225936878,\n  0.08450296784219823,\n  0.01753955982291061],\n 'Telepathy': [0.521722539444683,\n  0.7203355792772707,\n  0.5965243781691503,\n  0.21627309200221714],\n 'generation': [0.5665664490502303,\n  0.15151539908829365,\n  0.01913121469693429,\n  0.15489104914950783],\n 'against_dark': [0.09075026978629133,\n  0.19684890840608846,\n  -0.09157000392513143,\n  0.048962273298564396],\n 'Justified': [0.16359182845357823,\n  0.1396111270050162,\n  0.14308402743245907,\n  0.09575429670938593],\n 'Sea Basin Pokémon': [0.0505079801353849, 0.0, 0.0, 0.008753905171110105],\n 'Air Lock': [0.0636028983323676,\n  0.09635257560383702,\n  0.12530031727020793,\n  0.013280929305918374],\n 'DNA Pokémon': [0.02599893662425388, 0.0, 0.0, 0.0],\n 'New Species Pokémon': [0.15180724891140662,\n  0.010721366689215521,\n  0.07368753996437594,\n  0.05490027924742193],\n 'Sky High Pokémon': [0.0636028983323676,\n  0.09635257560383702,\n  0.12530031727020793,\n  0.013280929305918374],\n 'Wish Pokémon': [0.0, 0.0, 0.0, 0.0],\n 'Iron Pokémon': [0.13528268505728913, 0.0, 0.0, 0.050955959556738074],\n 'Rock Peak Pokémon': [0.18699361470946707, 0.0, 0.0, 0.08201967611015298],\n 'Knowledge Pokémon': [0.19378340490910634,\n  0.4298378635248543,\n  0.37738515046630206,\n  0.08798501867986959],\n 'Genetic Pokémon': [0.018976883656096878, 0.0, 0.0, 0.0],\n 'Freeze Pokémon': [0.22882609018020447,\n  0.1298492052315991,\n  0.1868277671575821,\n  0.09719034930030473],\n 'Bad Dreams': [0.06856153185451283, 0.0, 0.0, 0.027868760636186166],\n 'Pitch-Black Pokémon': [0.06856153185451283, 0.0, 0.0, 0.027868760636186166],\n 'Order Pokémon': [0.05041795099389848,\n  0.03689981094952622,\n  0.056739537884996916,\n  0.02299919203639147],\n 'Colossal Pokémon': [0.06984299594094998,\n  0.0,\n  0.011229307829523187,\n  0.02437561576612074],\n 'Aura Break': [0.05041795099389848,\n  0.03689981094952622,\n  0.056739537884996916,\n  0.02299919203639147],\n 'Slow Start': [0.06984299594094998,\n  0.0,\n  0.011229307829523187,\n  0.02437561576612074],\n 'Mischief Pokémon (Confined)Djinn Pokémonn (Unbound)': [0.02886222636243497,\n  0.0,\n  0.0,\n  0.010599460169797426],\n 'Power Construct': [0.05041795099389848,\n  0.03689981094952622,\n  0.056739537884996916,\n  0.02299919203639147],\n 'Prism Armor': [0.027721417717674085, 0.0, 0.0, 0.0006926513701229278],\n 'Steam Pokémon': [0.07305934133912773, 0.0, 0.0, 0.022759935937511754],\n 'Lava Dome Pokémon': [0.0, 0.0, 0.0, 0.0],\n 'Spatial Pokémon': [0.018480953234890983, 0.0, 0.0, 0.0],\n 'Victory Pokémon': [0.057604760304264604, 0.0, 0.0, 0.012938122369312584],\n 'Willpower Pokémon': [0.16932046895624914,\n  0.23825839618957506,\n  0.30787229136788735,\n  0.056884873287321475],\n 'Gratitude Pokémon': [0.13327730783106287,\n  0.0,\n  0.01729181527942549,\n  0.05120368326065033],\n 'Seafaring Pokémon': [0.5986310138641135,\n  1.0,\n  1.1509336612021062,\n  0.22737826592353158],\n 'Victory Star': [0.057604760304264604, 0.0, 0.0, 0.012938122369312584],\n 'Psychic Surge': [0.0, 0.0, 0.0, 0.0],\n 'Prism Pokémon': [0.027721417717674085, 0.0, 0.0, 0.0006926513701229278],\n 'Temporal Pokémon': [0.01223165049346055, 0.0, 0.0, 0.03234614480960973],\n 'Alpha Pokémon': [0.051256991137453835, 0.0, 0.0, 0.010118749689807046],\n 'Electric Surge': [0.0, 0.0, 0.0, 0.0],\n 'Soul-Heart': [0.036857238761696755, 0.0, 0.0, 0.000929924607038536],\n 'Dark Aura': [0.04939121625315266,\n  0.0,\n  0.0018937452427552873,\n  0.01476538566711727],\n 'Renegade Pokémon': [0.0, 0.0, 0.0, 0.0],\n 'Artificial Pokémon': [0.036857238761696755, 0.0, 0.0, 0.000929924607038536],\n 'Rainbow Pokémon': [0.0, 0.0, 0.0, 0.0],\n 'Grassy Surge': [0.2923714617304925,\n  0.4136513045770721,\n  0.3485216031042562,\n  0.12851316665742005],\n 'Thunder Pokémon': [0.0, 0.0, 0.0, 0.0],\n 'Protostar Pokémon': [0.07765398171143047,\n  0.09652390005709152,\n  0.07481071032167977,\n  0.03584054822571227],\n 'Time Travel Pokémon': [0.1305403815710331,\n  0.0,\n  0.06271570032470888,\n  0.05957078081813812],\n 'Parasite Pokémon': [0.047010964385929305, 0.0, 0.0, 0.0012672407982737108],\n 'Fairy Aura': [0.05154690815207339, 0.0, 0.0, 0.004926436751102953],\n 'Destruction Pokémon': [0.04939121625315266,\n  0.0,\n  0.0018937452427552873,\n  0.01476538566711727],\n 'Diving Pokémon': [0.030369115156421354, 0.0, 0.0, 0.0],\n 'Lunar Pokémon': [0.0, 0.0, 0.0, 0.0],\n 'Drawn Sword Pokémon': [0.13569910961516973,\n  0.3126629259938289,\n  0.3073547433154608,\n  0.049482224080651636],\n 'Life Pokémon': [0.05154690815207339, 0.0, 0.0, 0.004926436751102953],\n 'Launch Pokémon': [0.027396110235018974, 0.0, 0.0, 0.0],\n 'Multitype': [0.051256991137453835, 0.0, 0.0, 0.010118749689807046],\n 'Glowing Pokémon': [0.037729087619052935, 0.0, 0.0, 3.960713820551017e-05],\n 'Junkivore Pokémon': [0.04297268749706257, 0.0, 0.0, 0.010079219236452283],\n 'Swollen Pokémon': [0.0, 0.0, 0.0, 0.0],\n 'Sunne Pokémon': [0.0, 0.0, 0.0, 0.0],\n 'Full Metal Body': [0.0, 0.0, 0.0, 0.0],\n 'Misty Surge': [0.27776682553532284,\n  0.30668427470019854,\n  0.27041759390857656,\n  0.10356454795670536],\n 'Aurora Pokémon': [0.0, 0.0, 0.0, 0.0],\n 'Shadow Shield': [0.0, 0.0, 0.0, 0.0],\n 'Lissome Pokémon': [0.10559263257044098,\n  0.0,\n  0.10747309322494215,\n  0.04982168825717657],\n 'Moone Pokémon': [0.0, 0.0, 0.0, 0.0],\n 'Nebula Pokémon': [0.16497151960221026,\n  0.3269270582683752,\n  0.05551978015955937,\n  0.08541677649399843],\n 'Bolt Strike Pokémon': [0.08062337523679391, 0.0, 0.0, 0.01912630729972449],\n 'Boundary Pokémon': [0.02241875996301883, 0.0, 0.0, 0.0],\n 'Vast White Pokémon': [0.052717455269168295,\n  0.05272801180169728,\n  0.05043873680100924,\n  0.015816226362531098],\n 'Abundance Pokémon': [0.08881460030137336,\n  0.0,\n  0.0007026101297600604,\n  0.021886860665187094],\n 'Melody Pokémon': [0.08694446058801598, 0.0, 0.0, 0.01581039690162611],\n 'Colt Pokémon': [0.1629053652087266,\n  0.18295190082475862,\n  0.1728689559648751,\n  0.0565606561950159],\n 'Paleozoic Pokémon': [0.0, 0.0, 0.0, 0.0],\n 'Cyclone Pokémon': [0.08395930808009869, 0.0, 0.0, 0.01839374529834706],\n 'Deep Black Pokémon': [0.05769865865460637,\n  0.10056850225936878,\n  0.08450296784219823,\n  0.01753955982291061],\n 'Iron Will Pokémon': [0.12938015008350115,\n  0.15458784057442454,\n  0.13908191049911378,\n  0.056768166525762526],\n 'Cavern Pokémon': [0.18502841585257795,\n  0.42500887033236845,\n  0.32171207748645636,\n  0.07803237108325738],\n 'Grassland Pokémon': [0.17729641927954354,\n  0.37706251527346457,\n  0.2803666168153448,\n  0.07611172593910072],\n '1dragon': [-0.18718247824189524,\n  -0.5357942269562248,\n  -0.2736242809996594,\n  -0.08899744542423443],\n 'against_psychic': [-0.17724500546396332,\n  0.15267914384944087,\n  -0.01355216689045712,\n  -0.015742101560757973],\n '1steel': [0.3411478346309666,\n  0.15458784057442454,\n  0.13908191049911378,\n  0.14100019549914888],\n 'Clear Body': [0.758174920938849, 1.0, 0.9173127101230687, 0.327886176896706]}"
     },
     "metadata": {}
    }
   ],
   "execution_count": null
  },
  {
   "cell_type": "markdown",
   "source": "**Considereu les SVM amb els diferents *kernels* implementats.**",
   "metadata": {
    "tags": [],
    "cell_id": "00039-442a0f57-0907-4762-8bc9-1a21c7c87080",
    "deepnote_cell_type": "markdown"
   }
  },
  {
   "cell_type": "code",
   "metadata": {
    "tags": [],
    "cell_id": "00041-d6ce9968-8be9-43bf-981f-186e702b73a1",
    "deepnote_to_be_reexecuted": true,
    "source_hash": "b623e53d",
    "deepnote_cell_type": "code"
   },
   "source": "",
   "execution_count": null,
   "outputs": []
  },
  {
   "cell_type": "markdown",
   "source": "**Quin creieu que serà el més precís?**",
   "metadata": {
    "tags": [],
    "cell_id": "00041-02553564-aec5-4323-99d1-309e0429d118",
    "deepnote_cell_type": "markdown"
   }
  },
  {
   "cell_type": "markdown",
   "metadata": {
    "tags": [],
    "cell_id": "00043-e064bd7a-d4df-4c71-980f-f2d26922a309",
    "deepnote_to_be_reexecuted": true,
    "source_hash": "b623e53d",
    "deepnote_cell_type": "markdown"
   },
   "source": "",
   "execution_count": null
  },
  {
   "cell_type": "markdown",
   "source": "**Quin serà el més ràpid?**",
   "metadata": {
    "tags": [],
    "cell_id": "00042-81d88cda-17d1-4868-8544-bf3c0b2e89ae",
    "deepnote_cell_type": "markdown"
   }
  },
  {
   "cell_type": "markdown",
   "source": "El model més ràpid",
   "metadata": {
    "tags": [],
    "cell_id": "00050-d21e9fb6-4e0d-44b8-a7d8-da85cfb96473",
    "deepnote_cell_type": "markdown"
   },
   "outputs": [],
   "execution_count": null
  },
  {
   "cell_type": "markdown",
   "source": "**Seria una bona idea fer un `ensemble`? Quins inconvenients creieu que pot haver-hi?**",
   "metadata": {
    "tags": [],
    "cell_id": "00045-a7acd607-8a91-4dd5-a509-ac8a769993ce",
    "deepnote_cell_type": "markdown"
   }
  },
  {
   "cell_type": "code",
   "source": "#Provem alguns classificadors d'ensemble amb el dataset que té més dades, el no distribuït equitativament\nrnd_F = RandomForestClassifier(n_estimators=10)\nrnd_F = rnd_F.fit(X_train, y_train)\ny_pred = rnd_F.predict(X_test)\nscore = rnd_F.score(X_test, y_test)\nprint(f'{rnd_F.__class__.__name__}: {score}')\n",
   "metadata": {
    "tags": [],
    "cell_id": "00051-76e5d924-0b96-417b-9ebf-47c3a14f4537",
    "deepnote_to_be_reexecuted": false,
    "source_hash": "a713ada6",
    "execution_start": 1638719788833,
    "execution_millis": 41,
    "deepnote_cell_type": "code"
   },
   "outputs": [
    {
     "name": "stdout",
     "text": "RandomForestClassifier: 0.9875776397515528\n",
     "output_type": "stream"
    }
   ],
   "execution_count": null
  },
  {
   "cell_type": "code",
   "source": "bagging = BaggingClassifier(KNeighborsClassifier(),max_samples=0.5, max_features=0.5)\nbagging=bagging.fit(X_train,y_train)\ny_pred = bagging.predict(X_test)\nscore = bagging.score(X_test, y_test)\nprint(f'{bagging.__class__.__name__}: {score}')",
   "metadata": {
    "tags": [],
    "cell_id": "00053-f3572142-babc-4837-b0a6-4ef59ca690d9",
    "deepnote_to_be_reexecuted": false,
    "source_hash": "2cc5c75b",
    "execution_start": 1638719792091,
    "execution_millis": 207,
    "deepnote_cell_type": "code"
   },
   "outputs": [
    {
     "name": "stdout",
     "text": "BaggingClassifier: 0.937888198757764\n",
     "output_type": "stream"
    }
   ],
   "execution_count": null
  },
  {
   "cell_type": "markdown",
   "source": "",
   "metadata": {
    "tags": [],
    "cell_id": "00046-f1073c9a-e976-44d7-86cb-aa5dd9a02c59",
    "deepnote_cell_type": "markdown"
   }
  },
  {
   "cell_type": "markdown",
   "source": "La tasca d'aquesta pràctica s'enmarca dins l'aprenentatge computacional supervisat. A sklearn, disposem de varies tècniques (veure documentació). A les classes de teoria, hem vist varies tècniques, com ara logistic regression, SVM amb diferents kernels, Nearest Neighbour, i el perceptró... En aquesta secció heu de valorar quina o quines tècniques voleu fer servir, aixi com també explicar el per què les heu seleccionat. Recomanem, que per entendre millor la teoria, s'ha de provar com a mínim un model de SVM.",
   "metadata": {
    "tags": [],
    "cell_id": "00050-755906cd-d3db-4f40-87a0-30c30f742902",
    "deepnote_cell_type": "markdown"
   }
  },
  {
   "cell_type": "markdown",
   "source": "**CROSSVALIDATION**",
   "metadata": {
    "tags": [],
    "cell_id": "00051-0e7589fa-e776-4bd8-8bd5-5c394a124b4d",
    "deepnote_cell_type": "markdown"
   }
  },
  {
   "cell_type": "markdown",
   "source": "**Per què és important cross-validar els resultats?**",
   "metadata": {
    "tags": [],
    "cell_id": "00057-0f90f93d-80ce-4693-9b5a-d5f3157b7cbb",
    "deepnote_cell_type": "markdown"
   }
  },
  {
   "cell_type": "markdown",
   "source": "Per evitar que una partició concreta del *dataset* aporti un *bias* a les mètriques de validació.",
   "metadata": {
    "tags": [],
    "cell_id": "00058-d1846f51-5cfc-4b72-9928-ab9218df4c2f",
    "deepnote_cell_type": "markdown"
   },
   "outputs": [],
   "execution_count": null
  },
  {
   "cell_type": "markdown",
   "source": "**Separa la base de dades en el conjunt de train-test. Com de fiables serán els resultats obtinguts? En quins casos serà més fiable, si tenim moltes dades d'entrenament o poques?**",
   "metadata": {
    "tags": [],
    "cell_id": "00058-cadfb436-14aa-4454-a2cb-b5b6453f9ae5",
    "deepnote_cell_type": "markdown"
   }
  },
  {
   "cell_type": "markdown",
   "source": "Serà més fiable quan tinguem moltes dades d'entrenament.",
   "metadata": {
    "tags": [],
    "cell_id": "00060-c135f5ce-3102-44ce-b2f0-c5971999d737",
    "deepnote_cell_type": "markdown"
   },
   "outputs": [],
   "execution_count": null
  },
  {
   "cell_type": "markdown",
   "source": "**Quin tipus de K-fold heu escollit? Quants conjunts heu seleccionat (quina k)? Com afecta els diferents valors de k?**",
   "metadata": {
    "tags": [],
    "cell_id": "00059-64c0939e-45b4-45ba-b92c-a21f2082048d",
    "deepnote_cell_type": "markdown"
   }
  },
  {
   "cell_type": "markdown",
   "source": "Utilitzant el Stratified method. Els plecs es fan conservant el percentatge de mostres per a cada classe. Els valors de la k faràn que canvi el número de plecs que es fa en el nostre dataset. Com que no tenim tantes dades hem de posar un número petit per tal de que no falli. Hem escollit un valor de k: 5.",
   "metadata": {
    "tags": [],
    "cell_id": "00062-6f84f77d-da57-4cab-ba00-ac2648555e08",
    "deepnote_cell_type": "markdown"
   },
   "outputs": [],
   "execution_count": null
  },
  {
   "cell_type": "markdown",
   "source": "**Es viable o convenient aplicar LeaveOneOut?**",
   "metadata": {
    "tags": [],
    "cell_id": "00060-03bbec40-22de-46fc-962e-f571cdd33e7b",
    "deepnote_cell_type": "markdown"
   }
  },
  {
   "cell_type": "markdown",
   "source": "Si es fa servir una unica observació per calcular el error, aquest variarar molt segons quina observació es fagi servir. Per evitar-ho, el procés s'ha de repetir tants cops com observacions tenim i a cada iteració deixem fora una iteració diferent, ajustant el model amb la resta i calculant l'error. Al final farem la mitja de tots els errors. Aquest procés permet reduir la variabilitat quan dividim aleatoriament les observacions en dos grups. Per tant, els resultats obtinguts en principi seran més exactes però té un cost computacional molt més alt.",
   "metadata": {
    "tags": [],
    "cell_id": "00064-34b98165-9d26-482a-83d9-393820032b25",
    "deepnote_cell_type": "markdown"
   }
  },
  {
   "cell_type": "code",
   "source": "X=df_4.copy(deep=True)\nX.drop(columns=TARGET, inplace=True)\ny=df_4[TARGET]\n\nX2=df_5.copy(deep=True)\nX2.drop(columns=TARGET, inplace=True)\ny2=df_5[TARGET]\n\nclassifiers = {\n    'LogisticRegression': LogisticRegression(max_iter=10000),\n    'SVC': svm.SVC(kernel='linear', C=1.0),\n    'LinearSVC': svm.LinearSVC(C=1.0, max_iter=1000000),\n    'SVCrbf': svm.SVC(kernel='rbf', gamma=0.7, C=1.0),\n    'SVCpoly': svm.SVC(kernel='poly', degree=3, gamma='auto', C=1.0),\n    'SGDClassifier': linear_model.SGDClassifier(loss=\"modified_huber\", alpha=0.1),\n    'KNeighborsClassifier': neighbors.KNeighborsClassifier(n_neighbors=15),\n    'DecisionTreeClassifier': tree.DecisionTreeClassifier(),\n    'GaussianNB': naive_bayes.GaussianNB()\n}\n\n\nscoring = ['precision_macro', 'recall_macro']\ndic = {}\ndic2 = {}\n\nfor name, clf in classifiers.items():\n    scores = cross_validate(clf, X, y, scoring=scoring, cv=5)\n    dic[name]=scores\n\nfor name, clf in classifiers.items():\n    scores = cross_validate(clf, X2, y2, scoring=scoring, cv=5)\n    dic2[name]=scores\n\ndic\ndic2\n\n\nfor clf_name in dic:\n    dic[clf_name] = {metric: data.mean() for metric, data in dic[clf_name].items()}\ndic\n\nfor clf_name in dic:\n    dic2[clf_name] = {metric: data.mean() for metric, data in dic2[clf_name].items()}\ndic2\n\ndata = np.array([[value for value in metrics.values()] for metrics in dic.values()])\ndata2 = np.array([[value for value in metrics.values()] for metrics in dic2.values()])\n\n\nfor i in range(4):\n    plt.figure()\n    plt.bar(classifiers.keys(), data[:, i])\n    plt.bar(classifiers.keys(), data2[:, i])",
   "metadata": {
    "tags": [],
    "cell_id": "00057-bcd09709-e69c-4c40-8b51-d73fe55ab223",
    "deepnote_to_be_reexecuted": false,
    "source_hash": "c9a8a784",
    "execution_start": 1638723313410,
    "execution_millis": 3692,
    "deepnote_output_heights": [
     null,
     250,
     250,
     250,
     250
    ],
    "deepnote_cell_type": "code"
   },
   "outputs": [
    {
     "name": "stderr",
     "text": "/shared-libs/python3.7/py/lib/python3.7/site-packages/sklearn/metrics/_classification.py:1308: UndefinedMetricWarning: Precision is ill-defined and being set to 0.0 in labels with no predicted samples. Use `zero_division` parameter to control this behavior.\n  _warn_prf(average, modifier, msg_start, len(result))\n/shared-libs/python3.7/py/lib/python3.7/site-packages/sklearn/metrics/_classification.py:1308: UndefinedMetricWarning: Precision is ill-defined and being set to 0.0 in labels with no predicted samples. Use `zero_division` parameter to control this behavior.\n  _warn_prf(average, modifier, msg_start, len(result))\n/shared-libs/python3.7/py/lib/python3.7/site-packages/sklearn/metrics/_classification.py:1308: UndefinedMetricWarning: Precision is ill-defined and being set to 0.0 in labels with no predicted samples. Use `zero_division` parameter to control this behavior.\n  _warn_prf(average, modifier, msg_start, len(result))\n/shared-libs/python3.7/py/lib/python3.7/site-packages/sklearn/metrics/_classification.py:1308: UndefinedMetricWarning: Precision is ill-defined and being set to 0.0 in labels with no predicted samples. Use `zero_division` parameter to control this behavior.\n  _warn_prf(average, modifier, msg_start, len(result))\n/shared-libs/python3.7/py/lib/python3.7/site-packages/sklearn/metrics/_classification.py:1308: UndefinedMetricWarning: Precision is ill-defined and being set to 0.0 in labels with no predicted samples. Use `zero_division` parameter to control this behavior.\n  _warn_prf(average, modifier, msg_start, len(result))\n/shared-libs/python3.7/py/lib/python3.7/site-packages/sklearn/metrics/_classification.py:1308: UndefinedMetricWarning: Precision is ill-defined and being set to 0.0 in labels with no predicted samples. Use `zero_division` parameter to control this behavior.\n  _warn_prf(average, modifier, msg_start, len(result))\n/shared-libs/python3.7/py/lib/python3.7/site-packages/sklearn/metrics/_classification.py:1308: UndefinedMetricWarning: Precision is ill-defined and being set to 0.0 in labels with no predicted samples. Use `zero_division` parameter to control this behavior.\n  _warn_prf(average, modifier, msg_start, len(result))\n/shared-libs/python3.7/py/lib/python3.7/site-packages/sklearn/metrics/_classification.py:1308: UndefinedMetricWarning: Precision is ill-defined and being set to 0.0 in labels with no predicted samples. Use `zero_division` parameter to control this behavior.\n  _warn_prf(average, modifier, msg_start, len(result))\n/shared-libs/python3.7/py/lib/python3.7/site-packages/sklearn/metrics/_classification.py:1308: UndefinedMetricWarning: Precision is ill-defined and being set to 0.0 in labels with no predicted samples. Use `zero_division` parameter to control this behavior.\n  _warn_prf(average, modifier, msg_start, len(result))\n/shared-libs/python3.7/py/lib/python3.7/site-packages/sklearn/metrics/_classification.py:1308: UndefinedMetricWarning: Precision is ill-defined and being set to 0.0 in labels with no predicted samples. Use `zero_division` parameter to control this behavior.\n  _warn_prf(average, modifier, msg_start, len(result))\n/shared-libs/python3.7/py/lib/python3.7/site-packages/sklearn/metrics/_classification.py:1308: UndefinedMetricWarning: Precision is ill-defined and being set to 0.0 in labels with no predicted samples. Use `zero_division` parameter to control this behavior.\n  _warn_prf(average, modifier, msg_start, len(result))\n/shared-libs/python3.7/py/lib/python3.7/site-packages/sklearn/metrics/_classification.py:1308: UndefinedMetricWarning: Precision is ill-defined and being set to 0.0 in labels with no predicted samples. Use `zero_division` parameter to control this behavior.\n  _warn_prf(average, modifier, msg_start, len(result))\n",
     "output_type": "stream"
    },
    {
     "data": {
      "text/plain": "<Figure size 432x288 with 1 Axes>",
      "image/png": "[encoded data removed]"
     },
     "metadata": {
      "needs_background": "light",
      "image/png": {
       "width": 385,
       "height": 248
      }
     },
     "output_type": "display_data"
    },
    {
     "data": {
      "text/plain": "<Figure size 432x288 with 1 Axes>",
      "image/png": "[encoded data removed]"
     },
     "metadata": {
      "needs_background": "light",
      "image/png": {
       "width": 385,
       "height": 248
      }
     },
     "output_type": "display_data"
    },
    {
     "data": {
      "text/plain": "<Figure size 432x288 with 1 Axes>",
      "image/png": "[encoded data removed]"
     },
     "metadata": {
      "needs_background": "light",
      "image/png": {
       "width": 373,
       "height": 248
      }
     },
     "output_type": "display_data"
    },
    {
     "data": {
      "text/plain": "<Figure size 432x288 with 1 Axes>",
      "image/png": "[encoded data removed]"
     },
     "metadata": {
      "needs_background": "light",
      "image/png": {
       "width": 373,
       "height": 248
      }
     },
     "output_type": "display_data"
    }
   ],
   "execution_count": null
  },
  {
   "cell_type": "code",
   "source": "from sklearn.model_selection import LeaveOneOut\nX=df_4.copy(deep=True)\nX.drop(columns=TARGET, inplace=True)\ny=df_4[TARGET]\n\nX2=df_5.copy(deep=True)\nX2.drop(columns=TARGET, inplace=True)\ny2=df_5[TARGET]\nloo = LeaveOneOut()\n\n#Com té un cost computacional molt alt, ja eliminem els classificadors que sabem que van pitjor\nclassifiers = {\n    'LogisticRegression': LogisticRegression(max_iter=10000),\n    'SVC': svm.SVC(kernel='linear', C=1.0),\n    'LinearSVC': svm.LinearSVC(C=1.0, max_iter=1000000),\n    'SVCrbf': svm.SVC(kernel='rbf', gamma=0.7, C=1.0),\n    #'SVCpoly': svm.SVC(kernel='poly', degree=3, gamma='auto', C=1.0),\n    'SGDClassifier': linear_model.SGDClassifier(loss=\"modified_huber\", alpha=0.1),\n    #'KNeighborsClassifier': neighbors.KNeighborsClassifier(n_neighbors=15),\n    'DecisionTreeClassifier': tree.DecisionTreeClassifier()\n    #'GaussianNB': naive_bayes.GaussianNB()\n}\n\nscores_ls = {name: [] for name in classifiers}\nscores_ls2 = {name: [] for name in classifiers}\n\nfor train_index, test_index in loo.split(X):\n    X_train, X_test = X.iloc[train_index], X.iloc[test_index]\n    y_train, y_test = y[train_index], y[test_index]\n    for name, classifier in classifiers.items():\n        classifier.fit(X_train, y_train)\n        y_pred = classifier.predict(X_test)\n        score = classifier.score(X_test, y_test)\n        scores_ls[name].append(score)\n\nscores = {name: sum(score)/len(score) for name, score in scores_ls2.items()}\n\nfor train_index, test_index in loo.split(X2):\n    X2_train, X2_test = X2.iloc[train_index], X2.iloc[test_index]\n    y2_train, y2_test = y2[train_index], y2[test_index]\n    for name, classifier in classifiers.items():\n        classifier.fit(X2_train, y2_train)\n        y_pred = classifier.predict(X2_test)\n        score = classifier.score(X2_test, y2_test)\n        scores_ls2[name].append(score)\n\nscores2 = {name: sum(score)/len(score) for name, score in scores_ls2.items()}\n\nprint(scores2)\nprint(\"\\n\")\nprint(scores2)",
   "metadata": {
    "tags": [],
    "cell_id": "00069-12bd3197-ee49-4004-addb-7d5b0d1d241b",
    "deepnote_to_be_reexecuted": false,
    "source_hash": "44186827",
    "execution_start": 1638725027986,
    "execution_millis": 6003,
    "deepnote_output_heights": [
     174.78125
    ],
    "deepnote_cell_type": "code"
   },
   "outputs": [
    {
     "output_type": "error",
     "ename": "KeyboardInterrupt",
     "evalue": "",
     "traceback": [
      "\u001b[0;31m---------------------------------------------------------------------------\u001b[0m",
      "\u001b[0;31mKeyboardInterrupt\u001b[0m                         Traceback (most recent call last)",
      "\u001b[0;32m<ipython-input-197-427342bf1896>\u001b[0m in \u001b[0;36m<module>\u001b[0;34m\u001b[0m\n\u001b[1;32m     29\u001b[0m     \u001b[0my_train\u001b[0m\u001b[0;34m,\u001b[0m \u001b[0my_test\u001b[0m \u001b[0;34m=\u001b[0m \u001b[0my\u001b[0m\u001b[0;34m[\u001b[0m\u001b[0mtrain_index\u001b[0m\u001b[0;34m]\u001b[0m\u001b[0;34m,\u001b[0m \u001b[0my\u001b[0m\u001b[0;34m[\u001b[0m\u001b[0mtest_index\u001b[0m\u001b[0;34m]\u001b[0m\u001b[0;34m\u001b[0m\u001b[0;34m\u001b[0m\u001b[0m\n\u001b[1;32m     30\u001b[0m     \u001b[0;32mfor\u001b[0m \u001b[0mname\u001b[0m\u001b[0;34m,\u001b[0m \u001b[0mclassifier\u001b[0m \u001b[0;32min\u001b[0m \u001b[0mclassifiers\u001b[0m\u001b[0;34m.\u001b[0m\u001b[0mitems\u001b[0m\u001b[0;34m(\u001b[0m\u001b[0;34m)\u001b[0m\u001b[0;34m:\u001b[0m\u001b[0;34m\u001b[0m\u001b[0;34m\u001b[0m\u001b[0m\n\u001b[0;32m---> 31\u001b[0;31m         \u001b[0mclassifier\u001b[0m\u001b[0;34m.\u001b[0m\u001b[0mfit\u001b[0m\u001b[0;34m(\u001b[0m\u001b[0mX_train\u001b[0m\u001b[0;34m,\u001b[0m \u001b[0my_train\u001b[0m\u001b[0;34m)\u001b[0m\u001b[0;34m\u001b[0m\u001b[0;34m\u001b[0m\u001b[0m\n\u001b[0m\u001b[1;32m     32\u001b[0m         \u001b[0my_pred\u001b[0m \u001b[0;34m=\u001b[0m \u001b[0mclassifier\u001b[0m\u001b[0;34m.\u001b[0m\u001b[0mpredict\u001b[0m\u001b[0;34m(\u001b[0m\u001b[0mX_test\u001b[0m\u001b[0;34m)\u001b[0m\u001b[0;34m\u001b[0m\u001b[0;34m\u001b[0m\u001b[0m\n\u001b[1;32m     33\u001b[0m         \u001b[0mscore\u001b[0m \u001b[0;34m=\u001b[0m \u001b[0mclassifier\u001b[0m\u001b[0;34m.\u001b[0m\u001b[0mscore\u001b[0m\u001b[0;34m(\u001b[0m\u001b[0mX_test\u001b[0m\u001b[0;34m,\u001b[0m \u001b[0my_test\u001b[0m\u001b[0;34m)\u001b[0m\u001b[0;34m\u001b[0m\u001b[0;34m\u001b[0m\u001b[0m\n",
      "\u001b[0;32m/shared-libs/python3.7/py/lib/python3.7/site-packages/sklearn/svm/_base.py\u001b[0m in \u001b[0;36mfit\u001b[0;34m(self, X, y, sample_weight)\u001b[0m\n\u001b[1;32m    253\u001b[0m \u001b[0;34m\u001b[0m\u001b[0m\n\u001b[1;32m    254\u001b[0m         \u001b[0mseed\u001b[0m \u001b[0;34m=\u001b[0m \u001b[0mrnd\u001b[0m\u001b[0;34m.\u001b[0m\u001b[0mrandint\u001b[0m\u001b[0;34m(\u001b[0m\u001b[0mnp\u001b[0m\u001b[0;34m.\u001b[0m\u001b[0miinfo\u001b[0m\u001b[0;34m(\u001b[0m\u001b[0;34m\"i\"\u001b[0m\u001b[0;34m)\u001b[0m\u001b[0;34m.\u001b[0m\u001b[0mmax\u001b[0m\u001b[0;34m)\u001b[0m\u001b[0;34m\u001b[0m\u001b[0;34m\u001b[0m\u001b[0m\n\u001b[0;32m--> 255\u001b[0;31m         \u001b[0mfit\u001b[0m\u001b[0;34m(\u001b[0m\u001b[0mX\u001b[0m\u001b[0;34m,\u001b[0m \u001b[0my\u001b[0m\u001b[0;34m,\u001b[0m \u001b[0msample_weight\u001b[0m\u001b[0;34m,\u001b[0m \u001b[0msolver_type\u001b[0m\u001b[0;34m,\u001b[0m \u001b[0mkernel\u001b[0m\u001b[0;34m,\u001b[0m \u001b[0mrandom_seed\u001b[0m\u001b[0;34m=\u001b[0m\u001b[0mseed\u001b[0m\u001b[0;34m)\u001b[0m\u001b[0;34m\u001b[0m\u001b[0;34m\u001b[0m\u001b[0m\n\u001b[0m\u001b[1;32m    256\u001b[0m         \u001b[0;31m# see comment on the other call to np.iinfo in this file\u001b[0m\u001b[0;34m\u001b[0m\u001b[0;34m\u001b[0m\u001b[0;34m\u001b[0m\u001b[0m\n\u001b[1;32m    257\u001b[0m \u001b[0;34m\u001b[0m\u001b[0m\n",
      "\u001b[0;32m/shared-libs/python3.7/py/lib/python3.7/site-packages/sklearn/svm/_base.py\u001b[0m in \u001b[0;36m_dense_fit\u001b[0;34m(self, X, y, sample_weight, solver_type, kernel, random_seed)\u001b[0m\n\u001b[1;32m    331\u001b[0m             \u001b[0mepsilon\u001b[0m\u001b[0;34m=\u001b[0m\u001b[0mself\u001b[0m\u001b[0;34m.\u001b[0m\u001b[0mepsilon\u001b[0m\u001b[0;34m,\u001b[0m\u001b[0;34m\u001b[0m\u001b[0;34m\u001b[0m\u001b[0m\n\u001b[1;32m    332\u001b[0m             \u001b[0mmax_iter\u001b[0m\u001b[0;34m=\u001b[0m\u001b[0mself\u001b[0m\u001b[0;34m.\u001b[0m\u001b[0mmax_iter\u001b[0m\u001b[0;34m,\u001b[0m\u001b[0;34m\u001b[0m\u001b[0;34m\u001b[0m\u001b[0m\n\u001b[0;32m--> 333\u001b[0;31m             \u001b[0mrandom_seed\u001b[0m\u001b[0;34m=\u001b[0m\u001b[0mrandom_seed\u001b[0m\u001b[0;34m,\u001b[0m\u001b[0;34m\u001b[0m\u001b[0;34m\u001b[0m\u001b[0m\n\u001b[0m\u001b[1;32m    334\u001b[0m         )\n\u001b[1;32m    335\u001b[0m \u001b[0;34m\u001b[0m\u001b[0m\n",
      "\u001b[0;31mKeyboardInterrupt\u001b[0m: "
     ]
    }
   ],
   "execution_count": null
  },
  {
   "cell_type": "markdown",
   "source": "**METRIC ANALYSIS**",
   "metadata": {
    "tags": [],
    "cell_id": "00067-a3c1390a-ce38-42fe-9964-f2638055ef9f",
    "deepnote_cell_type": "markdown"
   },
   "outputs": [],
   "execution_count": null
  },
  {
   "cell_type": "markdown",
   "source": "**A teoria, hem vist el resultat d'aplicar el `accuracy_score` sobre dades no balancejades. Podrieu explicar i justificar quina de les següents mètriques será la més adient pel vostre problema? `accuracy_score`, `f1_score` o `average_precision_score`.**",
   "metadata": {
    "tags": [],
    "cell_id": "00068-8c9135c8-c1b6-4fa8-94bc-5d043ba067ef",
    "deepnote_cell_type": "markdown"
   }
  },
  {
   "cell_type": "markdown",
   "source": "Hauriem d'utilitzar el `average_precision_score`degut a que el nostre atribut objectiu és binari (La nostra classificació és binària). Els altres dos s'utilitzen en els casos en que ens trobem amb multiclasses.",
   "metadata": {
    "tags": [],
    "cell_id": "00069-260dea96-a798-4c1c-95d9-20c98243477e",
    "deepnote_cell_type": "markdown"
   }
  },
  {
   "cell_type": "markdown",
   "source": "**Mostreu la Precisió-Recall Curve i la ROC Curve. Quina és més rellevant pel vostre dataset? Expliqueu amb les vostres paraules, la diferencia entre una i altre**",
   "metadata": {
    "tags": [],
    "cell_id": "00068-1081bec6-0d2e-4843-a98a-039b45f3b0e0",
    "deepnote_to_be_reexecuted": false,
    "source_hash": "85f5282d",
    "execution_start": 1638723517822,
    "execution_millis": 198,
    "deepnote_cell_type": "markdown"
   },
   "outputs": [],
   "execution_count": 149
  },
  {
   "cell_type": "markdown",
   "source": "Pel nostre dataset seria més interessant utilitzar el Precisió-Recall Curve degut a que tenim molt poc balancejades les dades del nostre atribut objectiu. Tot i així, com que tenim un dataset modificat equilibrat podem fer servir el ROC Curve.",
   "metadata": {
    "tags": [],
    "cell_id": "00071-8d18e58d-0296-4249-985b-5adb33ab1547",
    "deepnote_cell_type": "markdown"
   }
  },
  {
   "cell_type": "code",
   "source": "from sklearn.metrics import precision_recall_curve\nfrom sklearn.metrics import auc\nfrom matplotlib import pyplot\n\n\nX = df_4.drop(columns=TARGET)\ny = df_4[TARGET]\n\nX_train, X_test, y_train, y_test = train_test_split(X, y, test_size=0.2)\n\ncls = LogisticRegression(solver='lbfgs')\ncls.fit(X_train, y_train)\nyhat = cls.predict(X_test)\nlr_probs = cls.predict_proba(X_test)\n# keep probabilities for the positive outcome only\nlr_probs = lr_probs[:, 1]\n\n# predict class values\nlr_precision, lr_recall, _ = precision_recall_curve(y_test, lr_probs)\nlr_f1, lr_auc = f1_score(y_test, yhat), auc(lr_recall, lr_precision)\n# summarize scores\nprint('Logistic: f1=%.3f auc=%.3f' % (lr_f1, lr_auc))\n# plot the precision-recall curves\nno_skill = len(y_test[y_test==1]) / len(y_test)\npyplot.plot([0, 1], [no_skill, no_skill], linestyle='--', label='No Skill')\npyplot.plot(lr_recall, lr_precision, marker='.', label='Logistic')\n# axis labels\npyplot.xlabel('Recall')\npyplot.ylabel('Precision')\n# show the legend\npyplot.legend()\n# show the plot\npyplot.show()",
   "metadata": {
    "tags": [],
    "cell_id": "00071-412517a1-70f0-4061-95ab-cc58f93f8264",
    "deepnote_to_be_reexecuted": false,
    "source_hash": "dd1a15f3",
    "execution_start": 1638724776613,
    "execution_millis": 290,
    "deepnote_output_heights": [
     null,
     264
    ],
    "deepnote_cell_type": "code"
   },
   "outputs": [
    {
     "name": "stdout",
     "text": "Logistic: f1=0.800 auc=0.977\n",
     "output_type": "stream"
    },
    {
     "data": {
      "text/plain": "<Figure size 432x288 with 1 Axes>",
      "image/png": "[encoded data removed]"
     },
     "metadata": {
      "needs_background": "light",
      "image/png": {
       "width": 386,
       "height": 262
      }
     },
     "output_type": "display_data"
    }
   ],
   "execution_count": null
  },
  {
   "cell_type": "code",
   "source": "#roc per a dades imbalanced\nfrom sklearn.metrics import roc_curve\nfrom sklearn.metrics import roc_auc_score\n\nX = df_4.drop(columns=TARGET)\ny = df_4[TARGET]\n\nX_train, X_test, y_train, y_test = train_test_split(X, y, test_size=0.5, random_state=2)\n\n# generate a no skill prediction (majority class)\nns_probs = [0 for _ in range(len(y_test))]\n# fit a model\ncls = LogisticRegression(solver='lbfgs')\ncls.fit(X_train, y_train)\n# predict probabilities\nlr_probs = cls.predict_proba(X_test)\n# keep probabilities for the positive outcome only\nlr_probs = lr_probs[:, 1]\n# calculate scores\nns_auc = roc_auc_score(y_test, ns_probs)\nlr_auc = roc_auc_score(y_test, lr_probs)\n# summarize scores\nprint('No Skill: ROC AUC=%.3f' % (ns_auc))\nprint('Logistic: ROC AUC=%.3f' % (lr_auc))\n# calculate roc curves\nns_fpr, ns_tpr, _ = roc_curve(y_test, ns_probs)\nlr_fpr, lr_tpr, _ = roc_curve(y_test, lr_probs)\n# plot the roc curve for the model\npyplot.plot(ns_fpr, ns_tpr, linestyle='--', label='No Skill')\npyplot.plot(lr_fpr, lr_tpr, marker='.', label='Logistic')\n# axis labels\npyplot.xlabel('False Positive Rate')\npyplot.ylabel('True Positive Rate')\n# show the legend\npyplot.legend()\n# show the plot\npyplot.show()",
   "metadata": {
    "tags": [],
    "cell_id": "00073-d09c9e43-2331-445e-9409-dcaf356ae977",
    "deepnote_to_be_reexecuted": false,
    "source_hash": "94c65bc2",
    "execution_start": 1638725749119,
    "execution_millis": 355,
    "deepnote_output_heights": [
     null,
     264
    ],
    "deepnote_cell_type": "code"
   },
   "outputs": [
    {
     "name": "stdout",
     "text": "No Skill: ROC AUC=0.500\nLogistic: ROC AUC=0.996\n",
     "output_type": "stream"
    },
    {
     "data": {
      "text/plain": "<Figure size 432x288 with 1 Axes>",
      "image/png": "[encoded data removed]"
     },
     "metadata": {
      "needs_background": "light",
      "image/png": {
       "width": 386,
       "height": 262
      }
     },
     "output_type": "display_data"
    }
   ],
   "execution_count": null
  },
  {
   "cell_type": "code",
   "source": "# roc curve and auc\nX = df_5.drop(columns=TARGET)\ny = df_5[TARGET]\n\nX_train, X_test, y_train, y_test = train_test_split(X, y, test_size=0.5)\n\n# generate a no skill prediction (majority class)\nns_probs = [0 for _ in range(len(y_test))]\n# fit a model\ncls = LogisticRegression(solver='lbfgs')\ncls.fit(X_train, y_train)\n# predict probabilities\nlr_probs = cls.predict_proba(X_test)\n# keep probabilities for the positive outcome only\nlr_probs = lr_probs[:, 1]\n# calculate scores\nns_auc = roc_auc_score(y_test, ns_probs)\nlr_auc = roc_auc_score(y_test, lr_probs)\n# summarize scores\nprint('No Skill: ROC AUC=%.3f' % (ns_auc))\nprint('Logistic: ROC AUC=%.3f' % (lr_auc))\n# calculate roc curves\nns_fpr, ns_tpr, _ = roc_curve(y_test, ns_probs)\nlr_fpr, lr_tpr, _ = roc_curve(y_test, lr_probs)\n# plot the roc curve for the model\npyplot.plot(ns_fpr, ns_tpr, linestyle='--', label='No Skill')\npyplot.plot(lr_fpr, lr_tpr, marker='.', label='Logistic')\n# axis labels\npyplot.xlabel('False Positive Rate')\npyplot.ylabel('True Positive Rate')\n# show the legend\npyplot.legend()\n# show the plot\npyplot.show()",
   "metadata": {
    "tags": [],
    "cell_id": "00073-6fd2cb57-51a1-4938-ae11-5c09a95dd100",
    "deepnote_to_be_reexecuted": false,
    "source_hash": "f76aab1",
    "execution_start": 1638725756621,
    "execution_millis": 428,
    "deepnote_output_heights": [
     null,
     264
    ],
    "deepnote_cell_type": "code"
   },
   "outputs": [
    {
     "name": "stdout",
     "text": "No Skill: ROC AUC=0.500\nLogistic: ROC AUC=0.998\n",
     "output_type": "stream"
    },
    {
     "data": {
      "text/plain": "<Figure size 432x288 with 1 Axes>",
      "image/png": "[encoded data removed]"
     },
     "metadata": {
      "needs_background": "light",
      "image/png": {
       "width": 386,
       "height": 262
      }
     },
     "output_type": "display_data"
    }
   ],
   "execution_count": null
  },
  {
   "cell_type": "code",
   "source": "particions = [0.5, 0.7, 0.8]\nX = df_4.drop(columns=TARGET)\ny = df_4[TARGET]\n\nfor part in particions:\n    x_t, x_v, y_t, y_v = train_test_split(X, y, train_size=part)\n    #Creem el regresor logístic\n    svc = svm.SVC(C=10.0, kernel='linear', gamma=0.9, probability=True)\n\n    # l'entrenem \n    svc.fit(x_t, y_t)\n    probs = svc.predict_proba(x_v)\n    print (\"Correct classification SVM      \", part, \"% of the data: \", svc.score(x_v, y_v))",
   "metadata": {
    "tags": [],
    "cell_id": "00074-0236599f-a05a-4e78-80bb-5fce97e2897f",
    "deepnote_to_be_reexecuted": false,
    "source_hash": "31d3962f",
    "execution_start": 1638726048994,
    "execution_millis": 98,
    "deepnote_cell_type": "code"
   },
   "outputs": [
    {
     "name": "stdout",
     "text": "Correct classification SVM       0.5 % of the data:  0.9501246882793017\nCorrect classification SVM       0.7 % of the data:  0.975103734439834\nCorrect classification SVM       0.8 % of the data:  0.9751552795031055\n",
     "output_type": "stream"
    }
   ],
   "execution_count": null
  },
  {
   "cell_type": "code",
   "source": "from sklearn.metrics import f1_score, precision_recall_curve, average_precision_score, roc_curve, auc\n\n# Compute Precision-Recall and plot curve\nprecision = {}\nrecall = {}\naverage_precision = {}\nplt.figure()\nfor i in range(2):\n    precision[i], recall[i], _ = precision_recall_curve(y_v == i, probs[:, i])\n    average_precision[i] = average_precision_score(y_v == i, probs[:, i])\n\n    plt.plot(recall[i], precision[i],\n    label='Precision-recall curve of class {0} (area = {1:0.2f})'\n                           ''.format(i, average_precision[i]))\n    plt.xlabel('Recall')\n    plt.ylabel('Precision')\n    plt.legend(loc=\"upper right\")\n\n    \n# Compute ROC curve and ROC area for each class\nfpr = {}\ntpr = {}\nroc_auc = {}\nfor i in range(2):\n    fpr[i], tpr[i], _ = roc_curve(y_v == i, probs[:, i])\n    roc_auc[i] = auc(fpr[i], tpr[i])\n\n# Compute micro-average ROC curve and ROC area\n# Plot ROC curve\nplt.figure()\nfor i in range(2):\n    plt.plot(fpr[i], tpr[i], label='ROC curve of class {0} (area = {1:0.2f})' ''.format(i, roc_auc[i]))\nplt.legend()",
   "metadata": {
    "tags": [],
    "cell_id": "00075-03861186-9b28-4a37-b7c1-0e99ef9786bf",
    "deepnote_to_be_reexecuted": false,
    "source_hash": "bcd4f97d",
    "execution_start": 1638726056166,
    "execution_millis": 631,
    "deepnote_output_heights": [
     21,
     264,
     250
    ],
    "deepnote_cell_type": "code"
   },
   "outputs": [
    {
     "output_type": "execute_result",
     "execution_count": 242,
     "data": {
      "text/plain": "<matplotlib.legend.Legend at 0x7fd4844a0090>"
     },
     "metadata": {}
    },
    {
     "data": {
      "text/plain": "<Figure size 432x288 with 1 Axes>",
      "image/png": "[encoded data removed]"
     },
     "metadata": {
      "needs_background": "light",
      "image/png": {
       "width": 398,
       "height": 262
      }
     },
     "output_type": "display_data"
    },
    {
     "data": {
      "text/plain": "<Figure size 432x288 with 1 Axes>",
      "image/png": "[encoded data removed]"
     },
     "metadata": {
      "needs_background": "light",
      "image/png": {
       "width": 372,
       "height": 248
      }
     },
     "output_type": "display_data"
    }
   ],
   "execution_count": null
  },
  {
   "cell_type": "markdown",
   "source": "**Què mostra la funció `classification_report()`? Quina métrica us fixareu per tal de optimitzar-ne la classificació pel vostre cas?**",
   "metadata": {
    "tags": [],
    "cell_id": "00072-a65c9b6b-cab0-48cb-9dea-773ab0f8a119",
    "deepnote_to_be_reexecuted": false,
    "source_hash": "517919a5",
    "execution_start": 1638723557682,
    "execution_millis": 17,
    "deepnote_cell_type": "markdown"
   },
   "outputs": [],
   "execution_count": 150
  },
  {
   "cell_type": "code",
   "source": "X = df_4.drop(columns=TARGET)\ny = df_4[TARGET]\n\nX_train, X_test, y_train, y_test = train_test_split(X, y, test_size=0.2)\n\nclf = LogisticRegression()\nclf.fit(X_train, y_train)\ny_pred = clf.predict(X_test)\nclf_report = classification_report(\n    y_test,\n    y_pred,\n    labels=[0, 1],\n    target_names=['common', 'legendary'],\n    output_dict=True\n)\n\nclf_report\npd.DataFrame(clf_report).drop(columns='accuracy')",
   "metadata": {
    "tags": [],
    "cell_id": "00072-2b2fa2bd-47eb-4fc3-8cf8-1b498bcb9a75",
    "deepnote_to_be_reexecuted": false,
    "source_hash": "c6fc9c39",
    "execution_start": 1638724425059,
    "execution_millis": 63,
    "deepnote_output_heights": [
     328.359375
    ],
    "deepnote_cell_type": "code"
   },
   "outputs": [
    {
     "output_type": "execute_result",
     "execution_count": 187,
     "data": {
      "application/vnd.deepnote.dataframe.v2+json": {
       "row_count": 4,
       "column_count": 4,
       "columns": [
        {
         "name": "common",
         "dtype": "float64",
         "stats": {
          "unique_count": 4,
          "nan_count": 0,
          "min": "0.993103448275862",
          "max": "145.0",
          "histogram": [
           {
            "bin_start": 0.993103448275862,
            "bin_end": 15.393793103448276,
            "count": 3
           },
           {
            "bin_start": 15.393793103448276,
            "bin_end": 29.79448275862069,
            "count": 0
           },
           {
            "bin_start": 29.79448275862069,
            "bin_end": 44.1951724137931,
            "count": 0
           },
           {
            "bin_start": 44.1951724137931,
            "bin_end": 58.595862068965516,
            "count": 0
           },
           {
            "bin_start": 58.595862068965516,
            "bin_end": 72.99655172413793,
            "count": 0
           },
           {
            "bin_start": 72.99655172413793,
            "bin_end": 87.39724137931034,
            "count": 0
           },
           {
            "bin_start": 87.39724137931034,
            "bin_end": 101.79793103448276,
            "count": 0
           },
           {
            "bin_start": 101.79793103448276,
            "bin_end": 116.19862068965517,
            "count": 0
           },
           {
            "bin_start": 116.19862068965517,
            "bin_end": 130.5993103448276,
            "count": 0
           },
           {
            "bin_start": 130.5993103448276,
            "bin_end": 145,
            "count": 1
           }
          ]
         }
        },
        {
         "name": "legendary",
         "dtype": "float64",
         "stats": {
          "unique_count": 4,
          "nan_count": 0,
          "min": "0.9411764705882353",
          "max": "16.0",
          "histogram": [
           {
            "bin_start": 0.9411764705882353,
            "bin_end": 2.447058823529412,
            "count": 3
           },
           {
            "bin_start": 2.447058823529412,
            "bin_end": 3.9529411764705884,
            "count": 0
           },
           {
            "bin_start": 3.9529411764705884,
            "bin_end": 5.458823529411765,
            "count": 0
           },
           {
            "bin_start": 5.458823529411765,
            "bin_end": 6.964705882352941,
            "count": 0
           },
           {
            "bin_start": 6.964705882352941,
            "bin_end": 8.470588235294118,
            "count": 0
           },
           {
            "bin_start": 8.470588235294118,
            "bin_end": 9.976470588235294,
            "count": 0
           },
           {
            "bin_start": 9.976470588235294,
            "bin_end": 11.48235294117647,
            "count": 0
           },
           {
            "bin_start": 11.48235294117647,
            "bin_end": 12.988235294117647,
            "count": 0
           },
           {
            "bin_start": 12.988235294117647,
            "bin_end": 14.494117647058824,
            "count": 0
           },
           {
            "bin_start": 14.494117647058824,
            "bin_end": 16,
            "count": 1
           }
          ]
         }
        },
        {
         "name": "macro avg",
         "dtype": "float64",
         "stats": {
          "unique_count": 4,
          "nan_count": 0,
          "min": "0.9705882352941176",
          "max": "161.0",
          "histogram": [
           {
            "bin_start": 0.9705882352941176,
            "bin_end": 16.973529411764705,
            "count": 3
           },
           {
            "bin_start": 16.973529411764705,
            "bin_end": 32.976470588235294,
            "count": 0
           },
           {
            "bin_start": 32.976470588235294,
            "bin_end": 48.97941176470589,
            "count": 0
           },
           {
            "bin_start": 48.97941176470589,
            "bin_end": 64.98235294117647,
            "count": 0
           },
           {
            "bin_start": 64.98235294117647,
            "bin_end": 80.98529411764706,
            "count": 0
           },
           {
            "bin_start": 80.98529411764706,
            "bin_end": 96.98823529411766,
            "count": 0
           },
           {
            "bin_start": 96.98823529411766,
            "bin_end": 112.99117647058824,
            "count": 0
           },
           {
            "bin_start": 112.99117647058824,
            "bin_end": 128.99411764705883,
            "count": 0
           },
           {
            "bin_start": 128.99411764705883,
            "bin_end": 144.99705882352941,
            "count": 0
           },
           {
            "bin_start": 144.99705882352941,
            "bin_end": 161,
            "count": 1
           }
          ]
         }
        },
        {
         "name": "weighted avg",
         "dtype": "float64",
         "stats": {
          "unique_count": 4,
          "nan_count": 0,
          "min": "0.9937888198757764",
          "max": "161.0",
          "histogram": [
           {
            "bin_start": 0.9937888198757764,
            "bin_end": 16.994409937888197,
            "count": 3
           },
           {
            "bin_start": 16.994409937888197,
            "bin_end": 32.99503105590062,
            "count": 0
           },
           {
            "bin_start": 32.99503105590062,
            "bin_end": 48.995652173913044,
            "count": 0
           },
           {
            "bin_start": 48.995652173913044,
            "bin_end": 64.99627329192546,
            "count": 0
           },
           {
            "bin_start": 64.99627329192546,
            "bin_end": 80.99689440993788,
            "count": 0
           },
           {
            "bin_start": 80.99689440993788,
            "bin_end": 96.99751552795031,
            "count": 0
           },
           {
            "bin_start": 96.99751552795031,
            "bin_end": 112.99813664596273,
            "count": 0
           },
           {
            "bin_start": 112.99813664596273,
            "bin_end": 128.99875776397516,
            "count": 0
           },
           {
            "bin_start": 128.99875776397516,
            "bin_end": 144.99937888198758,
            "count": 0
           },
           {
            "bin_start": 144.99937888198758,
            "bin_end": 161,
            "count": 1
           }
          ]
         }
        },
        {
         "name": "_deepnote_index_column",
         "dtype": "object"
        }
       ],
       "rows_top": [
        {
         "common": 1,
         "legendary": 0.9411764705882353,
         "macro avg": 0.9705882352941176,
         "weighted avg": 0.9941541834124955,
         "_deepnote_index_column": "precision"
        },
        {
         "common": 0.993103448275862,
         "legendary": 1,
         "macro avg": 0.996551724137931,
         "weighted avg": 0.9937888198757764,
         "_deepnote_index_column": "recall"
        },
        {
         "common": 0.9965397923875432,
         "legendary": 0.9696969696969697,
         "macro avg": 0.9831183810422565,
         "weighted avg": 0.9938721826791633,
         "_deepnote_index_column": "f1-score"
        },
        {
         "common": 145,
         "legendary": 16,
         "macro avg": 161,
         "weighted avg": 161,
         "_deepnote_index_column": "support"
        }
       ],
       "rows_bottom": null
      },
      "text/plain": "               common  legendary   macro avg  weighted avg\nprecision    1.000000   0.941176    0.970588      0.994154\nrecall       0.993103   1.000000    0.996552      0.993789\nf1-score     0.996540   0.969697    0.983118      0.993872\nsupport    145.000000  16.000000  161.000000    161.000000",
      "text/html": "<div>\n<style scoped>\n    .dataframe tbody tr th:only-of-type {\n        vertical-align: middle;\n    }\n\n    .dataframe tbody tr th {\n        vertical-align: top;\n    }\n\n    .dataframe thead th {\n        text-align: right;\n    }\n</style>\n<table border=\"1\" class=\"dataframe\">\n  <thead>\n    <tr style=\"text-align: right;\">\n      <th></th>\n      <th>common</th>\n      <th>legendary</th>\n      <th>macro avg</th>\n      <th>weighted avg</th>\n    </tr>\n  </thead>\n  <tbody>\n    <tr>\n      <th>precision</th>\n      <td>1.000000</td>\n      <td>0.941176</td>\n      <td>0.970588</td>\n      <td>0.994154</td>\n    </tr>\n    <tr>\n      <th>recall</th>\n      <td>0.993103</td>\n      <td>1.000000</td>\n      <td>0.996552</td>\n      <td>0.993789</td>\n    </tr>\n    <tr>\n      <th>f1-score</th>\n      <td>0.996540</td>\n      <td>0.969697</td>\n      <td>0.983118</td>\n      <td>0.993872</td>\n    </tr>\n    <tr>\n      <th>support</th>\n      <td>145.000000</td>\n      <td>16.000000</td>\n      <td>161.000000</td>\n      <td>161.000000</td>\n    </tr>\n  </tbody>\n</table>\n</div>"
     },
     "metadata": {}
    }
   ],
   "execution_count": null
  },
  {
   "cell_type": "markdown",
   "source": "Mostra un resum de les metriques de classifiació bàsiques. Ens fixarem en el `recall`.",
   "metadata": {
    "tags": [],
    "cell_id": "00074-b8483819-7f26-48c5-a798-4cb2133f930b",
    "deepnote_cell_type": "markdown"
   },
   "outputs": [],
   "execution_count": null
  },
  {
   "cell_type": "code",
   "source": "",
   "metadata": {
    "tags": [],
    "cell_id": "00075-75bea2b3-9aad-40de-915c-e0b799729927",
    "deepnote_cell_type": "code"
   },
   "outputs": [],
   "execution_count": null
  },
  {
   "cell_type": "markdown",
   "source": "**HYPERPARAMETER SEARCH**",
   "metadata": {
    "tags": [],
    "cell_id": "00075-5c42122a-61dd-4d1f-aba8-8a4c9bfe6d59",
    "deepnote_cell_type": "markdown"
   },
   "outputs": [],
   "execution_count": null
  },
  {
   "cell_type": "markdown",
   "source": "**Quines formes de buscar el millor parametre heu trobat? Són costoses computacionalment parlant?**",
   "metadata": {
    "tags": [],
    "cell_id": "00077-8097e280-9b8b-492b-97a1-a6927c755624",
    "deepnote_cell_type": "markdown"
   },
   "outputs": [],
   "execution_count": null
  },
  {
   "cell_type": "markdown",
   "source": "",
   "metadata": {
    "tags": [],
    "cell_id": "00078-10236c7f-972f-4e96-be38-2a79bd59c59b",
    "deepnote_cell_type": "markdown"
   },
   "outputs": [],
   "execution_count": null
  },
  {
   "cell_type": "markdown",
   "source": "**Si disposem de recursos limitats (per exemple, un PC durant 1 hora) quin dels dos métodes creieu que obtindrà millor resultat final?**",
   "metadata": {
    "tags": [],
    "cell_id": "00077-8c283aab-6f86-4500-b79e-2bb26be77b24",
    "deepnote_cell_type": "markdown"
   },
   "outputs": [],
   "execution_count": null
  },
  {
   "cell_type": "markdown",
   "source": "",
   "metadata": {
    "tags": [],
    "cell_id": "00080-ac327b15-11da-4bec-9dda-114f8479ec5a",
    "deepnote_cell_type": "markdown"
   },
   "outputs": [],
   "execution_count": null
  },
  {
   "cell_type": "markdown",
   "source": "**Existeixen altres mètodes de búsqueda més eficients?**",
   "metadata": {
    "tags": [],
    "cell_id": "00079-4fb2b0e9-40a7-4f97-82b1-55831a852c15",
    "deepnote_cell_type": "markdown"
   },
   "outputs": [],
   "execution_count": null
  },
  {
   "cell_type": "markdown",
   "source": "",
   "metadata": {
    "tags": [],
    "cell_id": "00082-4fc93d71-a56b-4878-ba75-0e005389f147",
    "deepnote_cell_type": "markdown"
   },
   "outputs": [],
   "execution_count": null
  },
  {
   "cell_type": "markdown",
   "source": "**Feu la prova, i amb el model i el metode de crossvalidació escollit, configureu els diferents metodes de búsqueda per a que s'executin durant el mateix temps (i.e. depenent del problema, 0,5h-1 hora). Analitzeu quin ha arribat a una millor solució. (estimeu el temps que trigarà a fer 1 training, i aixi trobeu el número de intents que podeu fer en cada cas.)**",
   "metadata": {
    "tags": [],
    "cell_id": "00080-183f87c5-dfb6-4f25-a01c-cdecbcb03b33",
    "deepnote_cell_type": "markdown"
   },
   "outputs": [],
   "execution_count": null
  },
  {
   "cell_type": "markdown",
   "source": "",
   "metadata": {
    "tags": [],
    "cell_id": "00084-94c26298-2b50-4382-9418-905847f503a9",
    "deepnote_cell_type": "markdown"
   },
   "outputs": [],
   "execution_count": null
  },
  {
   "cell_type": "markdown",
   "source": "<a style='text-decoration:none;line-height:16px;display:flex;color:#5B5B62;padding:10px;justify-content:end;' href='https://deepnote.com?utm_source=created-in-deepnote-cell&projectId=c3c3f0e5-53b5-41aa-b55f-8ff8474beec2' target=\"_blank\">\n<img alt='Created in deepnote.com' style='display:inline;max-height:16px;margin:0px;margin-right:7.5px;' src='data:image/svg+xml;base64,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' > </img>\nCreated in <span style='font-weight:600;margin-left:4px;'>Deepnote</span></a>",
   "metadata": {
    "tags": [],
    "created_in_deepnote_cell": true,
    "deepnote_cell_type": "markdown"
   }
  }
 ],
 "nbformat": 4,
 "nbformat_minor": 2,
 "metadata": {
  "orig_nbformat": 2,
  "deepnote": {
   "is_reactive": false
  },
  "deepnote_notebook_id": "60c100c2-8d19-4971-a3d8-b17f10b53478",
  "deepnote_execution_queue": []
 }
}